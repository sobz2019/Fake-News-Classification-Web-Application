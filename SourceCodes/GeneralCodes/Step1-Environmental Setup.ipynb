{
 "cells": [
  {
   "cell_type": "markdown",
   "id": "7986670b",
   "metadata": {},
   "source": [
    "## Create a Python Virtual Environment with the required libraries"
   ]
  },
  {
   "cell_type": "markdown",
   "id": "441fd671",
   "metadata": {},
   "source": [
    "### General Steps Outline\n",
    "<a id=\"generalsteps\"></a>\n",
    "***\n",
    "\n",
    "- Installation of Python\n",
    "- Open a terminal\n",
    "- Setup the pip package manager\n",
    "- Install the virtualenv package\n",
    "- Create the virtual environment\n",
    "- Activate the virtual environment\n",
    "- Installation of required python libraries\n"
   ]
  },
  {
   "cell_type": "markdown",
   "id": "cf2babe6",
   "metadata": {},
   "source": [
    "***\n",
    "\n",
    "### 1. Python Installation\n",
    "\n",
    "First need to install python software in the server machine.\n",
    "\n",
    "The most stable python versions  for the corresponding Operating Systems are available in the Python offical website\n",
    "\n",
    "For this experiment, please make sure that the python version should be above **3.7+**\n",
    "<br></br>\n",
    "<div style=\"text-align: left\">Check and download python softwares from here: <a href=\"https://www.python.org/downloads/\">URL</a></div>\n",
    "\n"
   ]
  },
  {
   "cell_type": "markdown",
   "id": "08328052",
   "metadata": {},
   "source": [
    "***\n",
    "###  2. Open a terminal\n",
    "\n",
    "\n",
    "Depending on your operating system, you open a terminal in different ways.\n",
    "\n",
    "\n",
    "**Windows**\n",
    "\n",
    "Open the Windows Command Prompt \n",
    "\n",
    "\n",
    "**Mac OS / Linux**\n",
    "\n",
    "Open the Terminal program.\n",
    "\n"
   ]
  },
  {
   "cell_type": "markdown",
   "id": "eb16af86",
   "metadata": {},
   "source": [
    "***\n",
    "### 3. Verify the pip package manager available or not\n",
    "\n",
    "Check to see if your Python installation has pip. Enter the following in your terminal:\n",
    "\n",
    "<code>pip -h\n",
    "</code>\n",
    "\n",
    "If it is not available, please install this"
   ]
  },
  {
   "cell_type": "markdown",
   "id": "59c7583f",
   "metadata": {},
   "source": [
    "***\n",
    "### 4. Creation of Virtual Environment\n",
    "\n",
    "Run the below code\n",
    "\n",
    "<code>virtualenv myenv</code>\n"
   ]
  },
  {
   "cell_type": "markdown",
   "id": "fd3e0ba5",
   "metadata": {},
   "source": [
    "***\n",
    "### 5. Activate the Virtual Environment\n",
    "\n",
    "\n",
    "You can activate the python environment running the below command:\n",
    "\n",
    "**Windows**\n",
    "\n",
    "Run the below code\n",
    "\n",
    "<code>myenv\\Scripts\\activate</code>\n",
    "\n",
    "\n",
    "**Linux**\n",
    "\n",
    "<code>source myenv/bin/activate</code>"
   ]
  },
  {
   "cell_type": "markdown",
   "id": "43f6e44f",
   "metadata": {},
   "source": [
    "***\n",
    "### 6. Installation of libraries\n",
    "\n",
    "\n",
    "Please find the below pip commands for the installation of the required libraries\n",
    "\n",
    "<code>pip install numpy</code>\n",
    "\n",
    "<code>pip install pandas</code>\n",
    "\n",
    "<code>pip install matplotlib</code>\n",
    "\n",
    "<code>pip install sklearn==1.0.2</code>\n",
    "\n",
    "<code>pip install wordcloud</code>\n",
    "\n",
    "<code>pip install xgboost</code>\n",
    "\n",
    "<code>pip install tensorflow_text==2.9.0</code>\n",
    "\n",
    "<code>pip install tensorflow_hub==0.12.0</code>\n",
    "\n",
    "<code>pip install tensorflow-gpu==2.9.1</code>\n",
    "\n",
    "<code>pip install imblearn==0.9.0</code>\n",
    "\n",
    "<code>pip install bert-for-tf2</code>\n",
    "\n",
    "<code>pip install keras</code>\n",
    "\n",
    "<code>pip install flask</code>\n",
    "\n",
    "<code>pip install bs4</code>\n",
    "\n",
    "<code>pip install tqdm</code>"
   ]
  },
  {
   "cell_type": "code",
   "execution_count": null,
   "id": "f5378dca",
   "metadata": {},
   "outputs": [],
   "source": []
  }
 ],
 "metadata": {
  "kernelspec": {
   "display_name": "Python 3 (ipykernel)",
   "language": "python",
   "name": "python3"
  },
  "language_info": {
   "codemirror_mode": {
    "name": "ipython",
    "version": 3
   },
   "file_extension": ".py",
   "mimetype": "text/x-python",
   "name": "python",
   "nbconvert_exporter": "python",
   "pygments_lexer": "ipython3",
   "version": "3.7.0"
  }
 },
 "nbformat": 4,
 "nbformat_minor": 5
}
