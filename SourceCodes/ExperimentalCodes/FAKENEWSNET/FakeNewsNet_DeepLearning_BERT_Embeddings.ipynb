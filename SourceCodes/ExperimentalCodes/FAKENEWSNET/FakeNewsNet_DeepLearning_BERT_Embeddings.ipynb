{
 "cells": [
  {
   "cell_type": "markdown",
   "id": "0f07530b",
   "metadata": {},
   "source": [
    "# Overview\n",
    "\n",
    "\n",
    "This notebook describes the different stages to build up different deep learning models trained over the dataset called **FakeNewsNet** by using pretrained **BERT** Embeddings, for the automatic fake news detection\n",
    "\n",
    "List of Deep Learning algorithms included \n",
    "- 1D CNN\n",
    "- LSTM\n",
    "- BiLSTM\n",
    "\n"
   ]
  },
  {
   "cell_type": "markdown",
   "id": "cff0ddf5",
   "metadata": {},
   "source": [
    "## 1. Loading Python libraries"
   ]
  },
  {
   "cell_type": "code",
   "execution_count": 1,
   "id": "295c6757",
   "metadata": {
    "collapsed": true
   },
   "outputs": [
    {
     "name": "stderr",
     "output_type": "stream",
     "text": [
      "2022-07-06 02:16:06.366948: I tensorflow/core/util/util.cc:169] oneDNN custom operations are on. You may see slightly different numerical results due to floating-point round-off errors from different computation orders. To turn them off, set the environment variable `TF_ENABLE_ONEDNN_OPTS=0`.\n",
      "2022-07-06 02:16:06.372185: W tensorflow/stream_executor/platform/default/dso_loader.cc:64] Could not load dynamic library 'libcudart.so.11.0'; dlerror: libcudart.so.11.0: cannot open shared object file: No such file or directory; LD_LIBRARY_PATH: /gpfs/software/ada/python/anaconda/2020.11/3.8/lib:/gpfs/software/ada/cuda/10.2.89/lib64:/gpfs/software/ada/cuda/10.2.89/lib/lib64\n",
      "2022-07-06 02:16:06.372201: I tensorflow/stream_executor/cuda/cudart_stub.cc:29] Ignore above cudart dlerror if you do not have a GPU set up on your machine.\n",
      "[nltk_data] Downloading package omw-1.4 to\n",
      "[nltk_data]     /gpfs/home/psc21zcu/nltk_data...\n",
      "[nltk_data]   Package omw-1.4 is already up-to-date!\n",
      "[nltk_data] Downloading package stopwords to\n",
      "[nltk_data]     /gpfs/home/psc21zcu/nltk_data...\n",
      "[nltk_data]   Package stopwords is already up-to-date!\n",
      "[nltk_data] Downloading package punkt to\n",
      "[nltk_data]     /gpfs/home/psc21zcu/nltk_data...\n",
      "[nltk_data]   Package punkt is already up-to-date!\n",
      "[nltk_data] Downloading package averaged_perceptron_tagger to\n",
      "[nltk_data]     /gpfs/home/psc21zcu/nltk_data...\n",
      "[nltk_data]   Package averaged_perceptron_tagger is already up-to-\n",
      "[nltk_data]       date!\n",
      "[nltk_data] Downloading package wordnet to\n",
      "[nltk_data]     /gpfs/home/psc21zcu/nltk_data...\n",
      "[nltk_data]   Package wordnet is already up-to-date!\n"
     ]
    }
   ],
   "source": [
    "import numpy as np\n",
    "import pandas as pd\n",
    "import warnings\n",
    "%matplotlib inline\n",
    "import matplotlib.pyplot as plt\n",
    "import seaborn as sns\n",
    "import glob\n",
    "import json\n",
    "import tensorflow_hub as hub\n",
    "import tensorflow_text\n",
    "import tldextract  \n",
    "import warnings\n",
    "warnings.filterwarnings('ignore')\n",
    "\n",
    "from bs4 import BeautifulSoup\n",
    "from sklearn.model_selection import train_test_split,StratifiedKFold,RandomizedSearchCV\n",
    "from sklearn.metrics import classification_report,confusion_matrix,accuracy_score,roc_curve, roc_auc_score,f1_score,precision_score, recall_score\n",
    "from sklearn.feature_extraction.text import TfidfVectorizer,CountVectorizer\n",
    "from imblearn.over_sampling import SMOTE,ADASYN\n",
    "from sklearn.pipeline import Pipeline\n",
    "from sklearn.ensemble import RandomForestClassifier\n",
    "from sklearn.svm import SVC\n",
    "from sklearn.neighbors import KNeighborsClassifier\n",
    "from sklearn.naive_bayes import GaussianNB,MultinomialNB\n",
    "from xgboost import XGBClassifier\n",
    "from sklearn.linear_model import LogisticRegression\n",
    "import re\n",
    "\n",
    "from collections import Counter\n",
    "import nltk \n",
    "import spacy\n",
    "nltk.download('omw-1.4')\n",
    "nltk.download('stopwords')\n",
    "nltk.download('punkt')\n",
    "nltk.download('averaged_perceptron_tagger')\n",
    "nltk.download('wordnet')\n",
    "\n",
    "from wordcloud import WordCloud, ImageColorGenerator,STOPWORDS\n",
    "import gensim\n",
    "from gensim.parsing.preprocessing import STOPWORDS as gensim_stopwords\n",
    "import copy\n",
    "from nltk.stem import PorterStemmer\n",
    "from nltk.corpus import stopwords,wordnet\n",
    "from nltk.tokenize import word_tokenize\n",
    "from nltk.stem import WordNetLemmatizer,LancasterStemmer\n",
    "from pprint import pprint\n",
    "\n",
    "\n",
    "import tensorflow as tf\n",
    "import bert\n",
    "from tensorflow.keras.models import  Model\n",
    "from tqdm import tqdm\n",
    "import tensorflow_hub as hub\n",
    "from tensorflow.keras.models import Sequential\n",
    "from tensorflow.keras import layers\n",
    "from tensorflow.keras.preprocessing.text import Tokenizer\n",
    "from tensorflow.keras.preprocessing.sequence import pad_sequences\n",
    "from tensorflow.keras.wrappers.scikit_learn import KerasClassifier\n",
    "from tensorflow.keras.layers import Dense, Dropout, Activation,Embedding,Flatten,LSTM,Bidirectional\n",
    "from tensorflow.keras.layers import Reshape,Conv1D, MaxPooling1D, Concatenate\n",
    "from tensorflow.keras.callbacks import ModelCheckpoint,EarlyStopping\n",
    "from keras.backend import clear_session\n",
    "\n",
    "\n",
    "pd.set_option('display.max_rows', 500)\n",
    "pd.set_option('display.max_columns', 500)\n",
    "pd.set_option('display.width', 1000)\n",
    "pd.set_option('display.expand_frame_repr', False)\n",
    "pd.set_option('display.max_colwidth', 200)\n",
    "\n",
    "import warnings\n",
    "warnings.filterwarnings('ignore')"
   ]
  },
  {
   "cell_type": "markdown",
   "id": "3f8dac95",
   "metadata": {},
   "source": [
    "#### Loading the Full prepared dataset - FakeNewsNet cleaned data using nltk library on earlier works"
   ]
  },
  {
   "cell_type": "code",
   "execution_count": 2,
   "id": "2fd6b362",
   "metadata": {},
   "outputs": [],
   "source": [
    "#creating a data frame\n",
    "df = pd.read_csv(\"Updated//full_dataset_fakenewsnet_cleaned_using_nltk.csv\")"
   ]
  },
  {
   "cell_type": "markdown",
   "id": "53a5959d",
   "metadata": {},
   "source": [
    "***\n",
    "## 2. Dataset Cleaning and Preprocessing\n",
    "\n",
    "#### Remove null values in the fulltext column"
   ]
  },
  {
   "cell_type": "code",
   "execution_count": 5,
   "id": "063b675d",
   "metadata": {},
   "outputs": [],
   "source": [
    "df = df[df['fulltext'].notna()]"
   ]
  },
  {
   "cell_type": "markdown",
   "id": "e75c18f9",
   "metadata": {},
   "source": [
    "***\n",
    "\n",
    "## 3. Model Training and Evaluation\n",
    "\n",
    "### Splitting dataset into Features and Class labels"
   ]
  },
  {
   "cell_type": "code",
   "execution_count": 8,
   "id": "38387feb",
   "metadata": {},
   "outputs": [],
   "source": [
    "x=df[['fulltext']]\n",
    "y=df[['class']]"
   ]
  },
  {
   "cell_type": "markdown",
   "id": "7c4bbf76",
   "metadata": {},
   "source": [
    "#### Train and Test Split"
   ]
  },
  {
   "cell_type": "code",
   "execution_count": 9,
   "id": "0ebfe54f",
   "metadata": {},
   "outputs": [],
   "source": [
    "X_train, X_test, y_train, y_test = train_test_split(x, y, test_size=0.2,stratify=y, random_state=0)"
   ]
  },
  {
   "cell_type": "markdown",
   "id": "13478197",
   "metadata": {},
   "source": [
    "### BERT Embedding Layer"
   ]
  },
  {
   "cell_type": "markdown",
   "id": "799f519c",
   "metadata": {},
   "source": [
    "##### Download the Pretrained BERT embedding encoder  model from tensorflow hub"
   ]
  },
  {
   "cell_type": "code",
   "execution_count": null,
   "id": "2446b6c5",
   "metadata": {},
   "outputs": [],
   "source": [
    "bert_layer=hub.KerasLayer(\"https://tfhub.dev/tensorflow/bert_en_uncased_L-12_H-768_A-12/1\",trainable=True)"
   ]
  },
  {
   "cell_type": "markdown",
   "id": "be85fbdd",
   "metadata": {},
   "source": [
    "#### Building model using tf.keras and hub. from sentences to embeddings.\n",
    "\n",
    "Inputs:\n",
    "- input token ids is tokenizer converts tokens using vocab file.\n",
    "- input masks are either 0 or 1. 1 for useful tokens, 0 for padding.\n",
    "- segment ids are either 0 or 1. For 2 text training: 0 for the first one, 1 for the second one.\n",
    "\n",
    "Outputs:\n",
    " - pooled_output of shape `[batch_size, 768]` with representations for the entire input sequences\n",
    " - sequence_output of shape `[batch_size, max_seq_length, 768]` with representations for each input token (in context)"
   ]
  },
  {
   "cell_type": "code",
   "execution_count": 11,
   "id": "8c30dfac",
   "metadata": {},
   "outputs": [],
   "source": [
    "MAX_SEQ_LEN=256\n",
    "input_word_ids = tf.keras.layers.Input(shape=(MAX_SEQ_LEN,), dtype=tf.int32,name=\"input_word_ids\")\n",
    "input_mask = tf.keras.layers.Input(shape=(MAX_SEQ_LEN,), dtype=tf.int32,name=\"input_mask\")\n",
    "segment_ids = tf.keras.layers.Input(shape=(MAX_SEQ_LEN,), dtype=tf.int32,name=\"segment_ids\")"
   ]
  },
  {
   "cell_type": "code",
   "execution_count": 14,
   "id": "e014e9ad",
   "metadata": {
    "scrolled": true
   },
   "outputs": [
    {
     "name": "stdout",
     "output_type": "stream",
     "text": [
      "WARNING:tensorflow:AutoGraph could not transform <bound method KerasLayer.call of <tensorflow_hub.keras_layer.KerasLayer object at 0x2b19de02f2e8>> and will run it as-is.\n",
      "Please report this to the TensorFlow team. When filing the bug, set the verbosity to 10 (on Linux, `export AUTOGRAPH_VERBOSITY=10`) and attach the full output.\n",
      "Cause: module 'gast' has no attribute 'Constant'\n",
      "To silence this warning, decorate the function with @tf.autograph.experimental.do_not_convert\n"
     ]
    },
    {
     "name": "stderr",
     "output_type": "stream",
     "text": [
      "WARNING:tensorflow:AutoGraph could not transform <bound method KerasLayer.call of <tensorflow_hub.keras_layer.KerasLayer object at 0x2b19de02f2e8>> and will run it as-is.\n",
      "Please report this to the TensorFlow team. When filing the bug, set the verbosity to 10 (on Linux, `export AUTOGRAPH_VERBOSITY=10`) and attach the full output.\n",
      "Cause: module 'gast' has no attribute 'Constant'\n",
      "To silence this warning, decorate the function with @tf.autograph.experimental.do_not_convert\n"
     ]
    },
    {
     "name": "stdout",
     "output_type": "stream",
     "text": [
      "WARNING: AutoGraph could not transform <bound method KerasLayer.call of <tensorflow_hub.keras_layer.KerasLayer object at 0x2b19de02f2e8>> and will run it as-is.\n",
      "Please report this to the TensorFlow team. When filing the bug, set the verbosity to 10 (on Linux, `export AUTOGRAPH_VERBOSITY=10`) and attach the full output.\n",
      "Cause: module 'gast' has no attribute 'Constant'\n",
      "To silence this warning, decorate the function with @tf.autograph.experimental.do_not_convert\n"
     ]
    }
   ],
   "source": [
    "pooled_output, sequence_output = bert_layer([input_word_ids, input_mask, segment_ids])"
   ]
  },
  {
   "cell_type": "markdown",
   "id": "4914a32b",
   "metadata": {},
   "source": [
    "#### Functions for Generating segments and masks based on the original BERT"
   ]
  },
  {
   "cell_type": "code",
   "execution_count": 13,
   "id": "b44206a3",
   "metadata": {},
   "outputs": [],
   "source": [
    "def get_masks(tokens, max_seq_length):\n",
    "    return [1]*len(tokens) + [0] * (max_seq_length - len(tokens))\n",
    "\n",
    "def get_segments(tokens, max_seq_length):\n",
    "    \"\"\"Segments: 0 for the first sequence, 1 for the second\"\"\"\n",
    "    segments = []\n",
    "    current_segment_id = 0\n",
    "    for token in tokens:\n",
    "        segments.append(current_segment_id)\n",
    "        if token == \"[SEP]\":\n",
    "            current_segment_id = 1\n",
    "    return segments + [0] * (max_seq_length - len(tokens))\n",
    "\n",
    "\n",
    "def get_ids(tokens, tokenizer, max_seq_length):\n",
    "    \"\"\"Token ids from Tokenizer vocab\"\"\"\n",
    "    token_ids = tokenizer.convert_tokens_to_ids(tokens,)\n",
    "    input_ids = token_ids + [0] * (max_seq_length-len(token_ids))\n",
    "    return input_ids"
   ]
  },
  {
   "cell_type": "markdown",
   "id": "ea547721",
   "metadata": {},
   "source": [
    "#### Create the tokenizer with the BERT layer and import it tokenizer using the original vocab file.\n",
    "##### Instantiate Tokenizer with vocab"
   ]
  },
  {
   "cell_type": "code",
   "execution_count": 15,
   "id": "a72a20f8",
   "metadata": {},
   "outputs": [],
   "source": [
    "FullTokenizer=bert.bert_tokenization.FullTokenizer\n",
    "\n",
    "vocab_file=bert_layer.resolved_object.vocab_file.asset_path.numpy()\n",
    "\n",
    "do_lower_case=bert_layer.resolved_object.do_lower_case.numpy()\n",
    "\n",
    "tokenizer=FullTokenizer(vocab_file,do_lower_case)\n"
   ]
  },
  {
   "cell_type": "markdown",
   "id": "77480c14",
   "metadata": {},
   "source": [
    "##### Helper function to create bert input array format for the given sentences"
   ]
  },
  {
   "cell_type": "code",
   "execution_count": 17,
   "id": "9e53744b",
   "metadata": {},
   "outputs": [],
   "source": [
    "def create_single_input(sentence,MAX_LEN):\n",
    "    stokens = tokenizer.tokenize(sentence)\n",
    "    stokens = stokens[:MAX_LEN]\n",
    "    stokens = [\"[CLS]\"] + stokens + [\"[SEP]\"]\n",
    " \n",
    "    ids = get_ids(stokens, tokenizer, MAX_SEQ_LEN)\n",
    "    masks = get_masks(stokens, MAX_SEQ_LEN)\n",
    "    segments = get_segments(stokens, MAX_SEQ_LEN)\n",
    "\n",
    "    return ids,masks,segments\n",
    "\n",
    "def create_input_array(sentences):\n",
    "    input_ids, input_masks, input_segments = [], [], []\n",
    "    for sentence in tqdm(sentences,position=0, leave=True):\n",
    "        ids,masks,segments=create_single_input(sentence,MAX_SEQ_LEN-2)\n",
    "        input_ids.append(ids)\n",
    "        input_masks.append(masks)\n",
    "        input_segments.append(segments)\n",
    "    return [np.asarray(input_ids, dtype=np.int32), \n",
    "                    np.asarray(input_masks, dtype=np.int32), \n",
    "                    np.asarray(input_segments, dtype=np.int32)]"
   ]
  },
  {
   "cell_type": "markdown",
   "id": "99b6116a",
   "metadata": {},
   "source": [
    "#### Convert the train and test sentences to bert input array format "
   ]
  },
  {
   "cell_type": "code",
   "execution_count": 18,
   "id": "20aba2ed",
   "metadata": {},
   "outputs": [
    {
     "name": "stderr",
     "output_type": "stream",
     "text": [
      "100%|██████████| 16289/16289 [02:02<00:00, 133.09it/s]\n",
      "100%|██████████| 4073/4073 [00:32<00:00, 125.12it/s]\n"
     ]
    }
   ],
   "source": [
    "train_sentences=X_train.fulltext.values\n",
    "train_y = y_train.values\n",
    "train_inputs=create_input_array(train_sentences)\n",
    "\n",
    "test_sentences=X_test.fulltext.values\n",
    "test_y = y_test.values\n",
    "test_inputs=create_input_array(test_sentences)"
   ]
  },
  {
   "cell_type": "markdown",
   "id": "64865f4b",
   "metadata": {},
   "source": [
    "####  User defined helper functions to plot training and testing accuracy of the trained model\n",
    "\n",
    "This function is using to save the loss and accuracy metrics of the training and test sets from the given input parameter which is a keras history callback object obtained during the model traning"
   ]
  },
  {
   "cell_type": "code",
   "execution_count": 19,
   "id": "8c943eb6",
   "metadata": {},
   "outputs": [],
   "source": [
    "import matplotlib.pyplot as plt\n",
    "\n",
    "def plot_loss_and_acc_from_hist2(hist_df):\n",
    "    print('Training Accuracy :',hist_df.iloc[-1]['accuracy'])\n",
    "    print('Validation Accuracy :',hist_df.iloc[-1]['val_accuracy'])\n",
    "    print('Precision :',hist_df.iloc[-1][\"precision\"])\n",
    "    print('Recall :',hist_df.iloc[-1][\"recall\"])\n",
    "    print('F1 Score :',hist_df.iloc[-1][\"f1score\"])\n",
    "    train_loss = hist_df[\"loss\"]\n",
    "    train_acc = hist_df[\"accuracy\"]\n",
    "    val_loss = hist_df[\"val_loss\"]\n",
    "    val_acc = hist_df[\"val_accuracy\"]\n",
    "    fig = plt.figure(figsize=(12,5))\n",
    "    ax = fig.add_subplot(121)\n",
    "    ax.plot(range(len(train_loss)), train_loss, label=\"Train Loss\");\n",
    "    ax.plot(range(len(val_loss)), val_loss, label=\"Validation Loss\");\n",
    "    plt.xlabel(\"Epochs\"); plt.ylabel(\"Loss\");\n",
    "    plt.title(\"Train Loss vs Validation Loss\");\n",
    "    plt.legend(loc=\"best\");\n",
    "\n",
    "    ax = fig.add_subplot(122)\n",
    "    ax.plot(range(len(train_acc)), train_acc, label=\"Train Accuracy\");\n",
    "    ax.plot(range(len(val_acc)), val_acc, label=\"Validation Accuracy\");\n",
    "    plt.xlabel(\"Epochs\"); plt.ylabel(\"Accuracy\");\n",
    "    plt.title(\"Train Accuracy vs Validation Accuracy\");\n",
    "    plt.legend(loc=\"best\");    \n",
    "\n",
    "    "
   ]
  },
  {
   "cell_type": "markdown",
   "id": "19866839",
   "metadata": {},
   "source": [
    "#### Helper function to plot confusion matrix and normalised confusion matrix plot"
   ]
  },
  {
   "cell_type": "code",
   "execution_count": 20,
   "id": "4cece5ec",
   "metadata": {},
   "outputs": [],
   "source": [
    "def confusn_mtrx_plot(cm,path):\n",
    "    from sklearn.metrics import confusion_matrix\n",
    "    # Y_pred_evc = evc_mdl.predict(test_X)\n",
    "    #cm = confusion_matrix(ytrue, y_pred)\n",
    "\n",
    "    fig = plt.figure(figsize=(6, 5), dpi=60)\n",
    "    ax = plt.subplot()\n",
    "    sns.set(font_scale=1.4) # Adjust to fit\n",
    "    sns.heatmap(cm, annot=True, ax=ax, cmap=\"GnBu\", fmt=\"g\");  \n",
    "    #sns.heatmap(cm/np.sum(cm), annot=True, ax=ax[1], cmap=\"GnBu\", fmt=\"g\");  \n",
    "\n",
    "    # Labels, title and ticks\n",
    "    label_font = {'size':'18'}  # Adjust to fit\n",
    "    ax.set_xlabel('Predicted', fontdict=label_font);\n",
    "    ax.set_ylabel('Actuals', fontdict=label_font);\n",
    "\n",
    "    title_font = {'size':'20'}  # Adjust to fit\n",
    "    ax.set_title('Confusion Matrix', fontdict=title_font);\n",
    "\n",
    "    ax.tick_params(axis='both', which='major', labelsize=15)  # Adjust to fit\n",
    "    ax.xaxis.set_ticklabels(['Real', 'Fake']);\n",
    "    ax.yaxis.set_ticklabels(['Real', 'Fake']);\n",
    "    #fig.show()\n",
    "    fig.savefig(path)\n",
    "    \n",
    "def norm_confusn_mtrx_plot(cm,path):\n",
    "    fig = plt.figure(figsize=(6, 5), dpi=60)\n",
    "    ax = plt.subplot()\n",
    "    sns.set(font_scale=1.4) # Adjust to fit\n",
    "    sns.heatmap(cm/np.sum(cm), annot=True, ax=ax, cmap=\"GnBu\",fmt='.2%');  \n",
    "\n",
    "    # Labels, title and ticks\n",
    "    label_font = {'size':'18'}  # Adjust to fit\n",
    "    ax.set_xlabel('Predicted', fontdict=label_font);\n",
    "    ax.set_ylabel('Actuals', fontdict=label_font);\n",
    "\n",
    "    title_font = {'size':'18'}  # Adjust to fit\n",
    "    ax.set_title('Normalised Confusion Matrix', fontdict=title_font);\n",
    "\n",
    "    ax.tick_params(axis='both', which='major', labelsize=15)  # Adjust to fit\n",
    "    ax.xaxis.set_ticklabels(['Real', 'Fake']);\n",
    "    ax.yaxis.set_ticklabels(['Real', 'Fake']);\n",
    "    fig.savefig(path)"
   ]
  },
  {
   "cell_type": "markdown",
   "id": "60dd58b3",
   "metadata": {},
   "source": [
    "***\n",
    "## Model Training"
   ]
  },
  {
   "cell_type": "markdown",
   "id": "c4125e19",
   "metadata": {},
   "source": [
    "### 1D CNN\n",
    "\n",
    "#### Checkpoint and EarlyStopping configuration setting for the model training"
   ]
  },
  {
   "cell_type": "code",
   "execution_count": 20,
   "id": "eb2da05b",
   "metadata": {},
   "outputs": [],
   "source": [
    "filepath_cnn = \"outputs//fakenewsnet_dl_bert//model_FAKENEWSNET_CNN_BERT_V1.h5\" # Location to get the model\n",
    "checkpoint_cnn = ModelCheckpoint(filepath_cnn, monitor='loss', verbose=1, save_best_only=True, mode='min')\n",
    "es_cnn = EarlyStopping(monitor='val_loss', patience=3,mode='min', verbose=1)\n",
    "callbacks_list_cnn = [checkpoint_cnn,es_cnn]"
   ]
  },
  {
   "cell_type": "markdown",
   "id": "832473fd",
   "metadata": {},
   "source": [
    "#### Build the model architecture"
   ]
  },
  {
   "cell_type": "code",
   "execution_count": 21,
   "id": "8d65d9a6",
   "metadata": {},
   "outputs": [
    {
     "name": "stdout",
     "output_type": "stream",
     "text": [
      "Model: \"model\"\n",
      "__________________________________________________________________________________________________\n",
      " Layer (type)                   Output Shape         Param #     Connected to                     \n",
      "==================================================================================================\n",
      " input_word_ids (InputLayer)    [(None, 256)]        0           []                               \n",
      "                                                                                                  \n",
      " input_mask (InputLayer)        [(None, 256)]        0           []                               \n",
      "                                                                                                  \n",
      " segment_ids (InputLayer)       [(None, 256)]        0           []                               \n",
      "                                                                                                  \n",
      " keras_layer (KerasLayer)       [(None, 768),        109482241   ['input_word_ids[0][0]',         \n",
      "                                 (None, 256, 768)]                'input_mask[0][0]',             \n",
      "                                                                  'segment_ids[0][0]']            \n",
      "                                                                                                  \n",
      " conv1d (Conv1D)                (None, 256, 256)     590080      ['keras_layer[0][1]']            \n",
      "                                                                                                  \n",
      " dense (Dense)                  (None, 256, 64)      16448       ['conv1d[0][0]']                 \n",
      "                                                                                                  \n",
      " dense_1 (Dense)                (None, 256, 1)       65          ['dense[0][0]']                  \n",
      "                                                                                                  \n",
      "==================================================================================================\n",
      "Total params: 110,088,834\n",
      "Trainable params: 110,088,833\n",
      "Non-trainable params: 1\n",
      "__________________________________________________________________________________________________\n"
     ]
    }
   ],
   "source": [
    "x= tf.keras.layers.Conv1D(256,kernel_size=3,padding='same', activation='relu')(sequence_output)\n",
    "#x = tf.keras.layers.GlobalAveragePooling1D()(x)\n",
    "x = tf.keras.layers.Dense(64, activation=\"relu\")(x)\n",
    "out = tf.keras.layers.Dense(1, activation=\"sigmoid\")(x)\n",
    "\n",
    "cnn_model = tf.keras.models.Model(\n",
    "      inputs=[input_word_ids, input_mask, segment_ids], outputs=out)\n",
    "\n",
    "cnn_model.compile(loss='binary_crossentropy',\n",
    "                  optimizer=tf.keras.optimizers.Adam(2e-5),\n",
    "                  metrics=['accuracy'])\n",
    "cnn_model.summary()"
   ]
  },
  {
   "cell_type": "markdown",
   "id": "f82514c4",
   "metadata": {},
   "source": [
    "#### Model training"
   ]
  },
  {
   "cell_type": "code",
   "execution_count": null,
   "id": "effc709a",
   "metadata": {},
   "outputs": [],
   "source": [
    "history_cnn_bert=cnn_model.fit(train_inputs,train_y,epochs=2,batch_size=128,validation_split=0.2,shuffle=True, callbacks=callbacks_list_cnn) "
   ]
  },
  {
   "cell_type": "markdown",
   "id": "ced0397d",
   "metadata": {},
   "source": [
    "#### Load the trained model and Evaluate the predictions made based on test data and calculate  the accuracy score metrics "
   ]
  },
  {
   "cell_type": "code",
   "execution_count": null,
   "id": "0003023b",
   "metadata": {},
   "outputs": [],
   "source": [
    "from tensorflow.keras.models import load_model\n",
    "cnn_model = load_model('outputs//fakenewsnet_dl_bert//model_FAKENEWSNET_CNN_BERT_V1.h5')\n",
    "\n",
    "y_pred=cnn_model.predict(test_inputs)\n",
    "# ytrue = y_test.astype(int).tolist()\n",
    "ytrue = y_test.values\n",
    "y_pred2 = np.array((y_pred > 0.5).astype(int)[:,0])\n",
    "precision = precision_score(ytrue, y_pred2)\n",
    "recall = recall_score(ytrue, y_pred2)\n",
    "f1score = f1_score(ytrue, y_pred2)\n",
    "\n",
    "print(\"Accuracy score : {}\".format(accuracy_score(ytrue, y_pred2)))\n",
    "print('precision =',precision)\n",
    "print('recall =',recall)\n",
    "print('f1score =',f1score)\n",
    "print(confusion_matrix(ytrue, y_pred2))\n",
    "print(classification_report(ytrue, y_pred2))\n"
   ]
  },
  {
   "cell_type": "markdown",
   "id": "d905945a",
   "metadata": {},
   "source": [
    "#### Save the classification report to csv"
   ]
  },
  {
   "cell_type": "code",
   "execution_count": 27,
   "id": "76f4e571",
   "metadata": {},
   "outputs": [
    {
     "data": {
      "text/html": [
       "<div>\n",
       "<style scoped>\n",
       "    .dataframe tbody tr th:only-of-type {\n",
       "        vertical-align: middle;\n",
       "    }\n",
       "\n",
       "    .dataframe tbody tr th {\n",
       "        vertical-align: top;\n",
       "    }\n",
       "\n",
       "    .dataframe thead th {\n",
       "        text-align: right;\n",
       "    }\n",
       "</style>\n",
       "<table border=\"1\" class=\"dataframe\">\n",
       "  <thead>\n",
       "    <tr style=\"text-align: right;\">\n",
       "      <th></th>\n",
       "      <th>precision</th>\n",
       "      <th>recall</th>\n",
       "      <th>f1-score</th>\n",
       "      <th>support</th>\n",
       "    </tr>\n",
       "  </thead>\n",
       "  <tbody>\n",
       "    <tr>\n",
       "      <th>0</th>\n",
       "      <td>0.875632</td>\n",
       "      <td>0.960823</td>\n",
       "      <td>0.916252</td>\n",
       "      <td>3063.000000</td>\n",
       "    </tr>\n",
       "    <tr>\n",
       "      <th>1</th>\n",
       "      <td>0.831461</td>\n",
       "      <td>0.586139</td>\n",
       "      <td>0.687573</td>\n",
       "      <td>1010.000000</td>\n",
       "    </tr>\n",
       "    <tr>\n",
       "      <th>accuracy</th>\n",
       "      <td>0.867911</td>\n",
       "      <td>0.867911</td>\n",
       "      <td>0.867911</td>\n",
       "      <td>0.867911</td>\n",
       "    </tr>\n",
       "    <tr>\n",
       "      <th>macro avg</th>\n",
       "      <td>0.853546</td>\n",
       "      <td>0.773481</td>\n",
       "      <td>0.801912</td>\n",
       "      <td>4073.000000</td>\n",
       "    </tr>\n",
       "    <tr>\n",
       "      <th>weighted avg</th>\n",
       "      <td>0.864679</td>\n",
       "      <td>0.867911</td>\n",
       "      <td>0.859545</td>\n",
       "      <td>4073.000000</td>\n",
       "    </tr>\n",
       "  </tbody>\n",
       "</table>\n",
       "</div>"
      ],
      "text/plain": [
       "              precision    recall  f1-score      support\n",
       "0              0.875632  0.960823  0.916252  3063.000000\n",
       "1              0.831461  0.586139  0.687573  1010.000000\n",
       "accuracy       0.867911  0.867911  0.867911     0.867911\n",
       "macro avg      0.853546  0.773481  0.801912  4073.000000\n",
       "weighted avg   0.864679  0.867911  0.859545  4073.000000"
      ]
     },
     "execution_count": 27,
     "metadata": {},
     "output_type": "execute_result"
    }
   ],
   "source": [
    "report=classification_report(ytrue, y_pred2, output_dict=True)\n",
    "df = pd.DataFrame(report).transpose()\n",
    "df.to_csv(\"outputs//fakenewsnet_dl_bert//model_FAKENEWSNET_CNN_BERT_clasifctnrpt.csv\",index=False)\n",
    "df.head()"
   ]
  },
  {
   "cell_type": "markdown",
   "id": "76ae6a76",
   "metadata": {},
   "source": [
    "**Plot confusion matrix and  normalised also**"
   ]
  },
  {
   "cell_type": "code",
   "execution_count": null,
   "id": "7f8fb38f",
   "metadata": {},
   "outputs": [],
   "source": [
    "cm=confusion_matrix(ytrue, y_pred2)\n",
    "path1=\"outputs//fakenewsnet_dl_bert//fakenewsnet_cnn_cmtrx.png\"\n",
    "path2=\"outputs//fakenewsnet_dl_bert//fakenewsnet_cnn_ncmtrx.png\"\n",
    "confusn_mtrx_plot(cm,path1)\n",
    "norm_confusn_mtrx_plot(cm,path2)"
   ]
  },
  {
   "cell_type": "code",
   "execution_count": 28,
   "id": "ec3df229",
   "metadata": {},
   "outputs": [
    {
     "data": {
      "image/png": "[encoded data removed]",
      "text/plain": [
       "<IPython.core.display.Image object>"
      ]
     },
     "execution_count": 28,
     "metadata": {},
     "output_type": "execute_result"
    }
   ],
   "source": [
    "from IPython import display\n",
    "display.Image(\"outputs//fakenewsnet_dl_bert//fakenewsnet_cnn_cmtrx.png\")"
   ]
  },
  {
   "cell_type": "code",
   "execution_count": 29,
   "id": "88404ad6",
   "metadata": {},
   "outputs": [
    {
     "data": {
      "image/png": "[encoded data removed]",
      "text/plain": [
       "<IPython.core.display.Image object>"
      ]
     },
     "execution_count": 29,
     "metadata": {},
     "output_type": "execute_result"
    }
   ],
   "source": [
    "from IPython import display\n",
    "display.Image(\"outputs//fakenewsnet_dl_bert//fakenewsnet_cnn_ncmtrx.png\")"
   ]
  },
  {
   "cell_type": "markdown",
   "id": "5989cadd",
   "metadata": {},
   "source": [
    "#### Plot the training and test accuracy scores from the callback history details"
   ]
  },
  {
   "cell_type": "code",
   "execution_count": 23,
   "id": "213da30d",
   "metadata": {},
   "outputs": [
    {
     "name": "stdout",
     "output_type": "stream",
     "text": [
      "Training Accuracy : 0.8786757588386536\n",
      "Validation Accuracy : 0.8621350526809692\n",
      "Precision : 0.8314606741573034\n",
      "Recall : 0.5861386138613861\n",
      "F1 Score : 0.6875725900116144\n"
     ]
    },
    {
     "data": {
      "image/png": "[encoded data removed]",
      "text/plain": [
       "<Figure size 864x360 with 2 Axes>"
      ]
     },
     "metadata": {
      "needs_background": "light"
     },
     "output_type": "display_data"
    }
   ],
   "source": [
    "hist_df = pd.read_csv(\"outputs//fakenewsnet_dl_bert//model_FAKENEWSNET_CNN_BERT_V1_history.csv\")\n",
    "plot_loss_and_acc_from_hist2(hist_df)\n",
    "# print(\"CNN Completed\")"
   ]
  },
  {
   "cell_type": "markdown",
   "id": "f92c0512",
   "metadata": {},
   "source": [
    "### LSTM\n",
    "\n",
    "#### Checkpoint and EarlyStopping configuration setting for the model training"
   ]
  },
  {
   "cell_type": "code",
   "execution_count": 19,
   "id": "c8d4ff33",
   "metadata": {},
   "outputs": [],
   "source": [
    "# Model Checkpoint and EarlyStopping\n",
    "filepath_lstm = \"outputs//fakenewsnet_dl_bert//model_FAKENEWSNET_LSTM_BERT_PRETRAINED_V2.h5\" # Location to get the model\n",
    "checkpoint_lstm = ModelCheckpoint(filepath_lstm, monitor='loss', verbose=1, save_best_only=True, mode='min')\n",
    "es_lstm = EarlyStopping(monitor='val_loss', patience=3,mode='min', verbose=1)\n",
    "callbacks_list_lstm = [checkpoint_lstm,es_lstm]"
   ]
  },
  {
   "cell_type": "markdown",
   "id": "7d795339",
   "metadata": {},
   "source": [
    "#### Build the model architecture"
   ]
  },
  {
   "cell_type": "code",
   "execution_count": 20,
   "id": "3ee3f3c7",
   "metadata": {},
   "outputs": [],
   "source": [
    "x= tf.keras.layers.LSTM(256)(sequence_output)\n",
    "x = tf.keras.layers.Dense(64, activation=\"relu\")(x)\n",
    "out = tf.keras.layers.Dense(1, activation=\"sigmoid\")(x)\n",
    "\n",
    "lstm_model = tf.keras.models.Model(\n",
    "      inputs=[input_word_ids, input_mask, segment_ids], outputs=out)\n",
    "\n",
    "lstm_model.compile(loss='binary_crossentropy',\n",
    "                  optimizer=tf.keras.optimizers.Adam(2e-5),\n",
    "                  metrics=['accuracy'])"
   ]
  },
  {
   "cell_type": "code",
   "execution_count": 21,
   "id": "b56492dc",
   "metadata": {},
   "outputs": [],
   "source": [
    "clear_session()"
   ]
  },
  {
   "cell_type": "code",
   "execution_count": 22,
   "id": "08df79bc",
   "metadata": {
    "scrolled": true
   },
   "outputs": [
    {
     "name": "stdout",
     "output_type": "stream",
     "text": [
      "Model: \"model\"\n",
      "__________________________________________________________________________________________________\n",
      " Layer (type)                   Output Shape         Param #     Connected to                     \n",
      "==================================================================================================\n",
      " input_word_ids (InputLayer)    [(None, 256)]        0           []                               \n",
      "                                                                                                  \n",
      " input_mask (InputLayer)        [(None, 256)]        0           []                               \n",
      "                                                                                                  \n",
      " segment_ids (InputLayer)       [(None, 256)]        0           []                               \n",
      "                                                                                                  \n",
      " keras_layer (KerasLayer)       [(None, 768),        109482241   ['input_word_ids[0][0]',         \n",
      "                                 (None, 256, 768)]                'input_mask[0][0]',             \n",
      "                                                                  'segment_ids[0][0]']            \n",
      "                                                                                                  \n",
      " lstm (LSTM)                    (None, 256)          1049600     ['keras_layer[0][1]']            \n",
      "                                                                                                  \n",
      " dense (Dense)                  (None, 64)           16448       ['lstm[0][0]']                   \n",
      "                                                                                                  \n",
      " dense_1 (Dense)                (None, 1)            65          ['dense[0][0]']                  \n",
      "                                                                                                  \n",
      "==================================================================================================\n",
      "Total params: 110,548,354\n",
      "Trainable params: 110,548,353\n",
      "Non-trainable params: 1\n",
      "__________________________________________________________________________________________________\n"
     ]
    }
   ],
   "source": [
    "lstm_model.summary()"
   ]
  },
  {
   "cell_type": "markdown",
   "id": "862b98d9",
   "metadata": {},
   "source": [
    "#### Model training"
   ]
  },
  {
   "cell_type": "code",
   "execution_count": null,
   "id": "834bdb36",
   "metadata": {
    "scrolled": true
   },
   "outputs": [],
   "source": [
    "history_lstm_bert=lstm_model.fit(train_inputs,train_y,epochs=3,batch_size=200,validation_split=0.2,shuffle=True, callbacks=callbacks_list_lstm) "
   ]
  },
  {
   "cell_type": "markdown",
   "id": "3cfc3f3f",
   "metadata": {},
   "source": [
    "#### Load the trained model and Evaluate the predictions made based on test data and calculate  the accuracy score metrics "
   ]
  },
  {
   "cell_type": "code",
   "execution_count": 23,
   "id": "be66b2b9",
   "metadata": {},
   "outputs": [
    {
     "name": "stdout",
     "output_type": "stream",
     "text": [
      "WARNING:tensorflow:AutoGraph could not transform <function Model.make_predict_function.<locals>.predict_function at 0x2b1be229ba60> and will run it as-is.\n",
      "Please report this to the TensorFlow team. When filing the bug, set the verbosity to 10 (on Linux, `export AUTOGRAPH_VERBOSITY=10`) and attach the full output.\n",
      "Cause: 'arguments' object has no attribute 'posonlyargs'\n",
      "To silence this warning, decorate the function with @tf.autograph.experimental.do_not_convert\n"
     ]
    },
    {
     "name": "stderr",
     "output_type": "stream",
     "text": [
      "WARNING:tensorflow:AutoGraph could not transform <function Model.make_predict_function.<locals>.predict_function at 0x2b1be229ba60> and will run it as-is.\n",
      "Please report this to the TensorFlow team. When filing the bug, set the verbosity to 10 (on Linux, `export AUTOGRAPH_VERBOSITY=10`) and attach the full output.\n",
      "Cause: 'arguments' object has no attribute 'posonlyargs'\n",
      "To silence this warning, decorate the function with @tf.autograph.experimental.do_not_convert\n"
     ]
    },
    {
     "name": "stdout",
     "output_type": "stream",
     "text": [
      "WARNING: AutoGraph could not transform <function Model.make_predict_function.<locals>.predict_function at 0x2b1be229ba60> and will run it as-is.\n",
      "Please report this to the TensorFlow team. When filing the bug, set the verbosity to 10 (on Linux, `export AUTOGRAPH_VERBOSITY=10`) and attach the full output.\n",
      "Cause: 'arguments' object has no attribute 'posonlyargs'\n",
      "To silence this warning, decorate the function with @tf.autograph.experimental.do_not_convert\n",
      "128/128 [==============================] - 230s 2s/step\n",
      "Accuracy score : 0.8669285538914805\n",
      "precision = 0.7947103274559194\n",
      "recall = 0.6247524752475248\n",
      "f1score = 0.6995565410199557\n",
      "[[2900  163]\n",
      " [ 379  631]]\n",
      "              precision    recall  f1-score   support\n",
      "\n",
      "           0       0.88      0.95      0.91      3063\n",
      "           1       0.79      0.62      0.70      1010\n",
      "\n",
      "    accuracy                           0.87      4073\n",
      "   macro avg       0.84      0.79      0.81      4073\n",
      "weighted avg       0.86      0.87      0.86      4073\n",
      "\n"
     ]
    }
   ],
   "source": [
    "from tensorflow.keras.models import load_model\n",
    "lstm_model = load_model('outputs//fakenewsnet_dl_bert//model_FAKENEWSNET_LSTM_BERT_PRETRAINED_V2.h5',custom_objects={'KerasLayer':hub.KerasLayer})\n",
    "\n",
    "y_pred=lstm_model.predict(test_inputs)\n",
    "# ytrue = y_test.astype(int).tolist()\n",
    "ytrue = y_test.values\n",
    "y_pred2 = np.array((y_pred > 0.5).astype(int)[:,0])\n",
    "precision = precision_score(ytrue, y_pred2)\n",
    "recall = recall_score(ytrue, y_pred2)\n",
    "f1score = f1_score(ytrue, y_pred2)\n",
    "\n",
    "print(\"Accuracy score : {}\".format(accuracy_score(ytrue, y_pred2)))\n",
    "print('precision =',precision)\n",
    "print('recall =',recall)\n",
    "print('f1score =',f1score)\n",
    "print(confusion_matrix(ytrue, y_pred2))\n",
    "print(classification_report(ytrue, y_pred2))\n"
   ]
  },
  {
   "cell_type": "markdown",
   "id": "b900052f",
   "metadata": {},
   "source": [
    "#### Save the classification report to csv"
   ]
  },
  {
   "cell_type": "code",
   "execution_count": 24,
   "id": "dc6c42ac",
   "metadata": {},
   "outputs": [
    {
     "data": {
      "text/html": [
       "<div>\n",
       "<style scoped>\n",
       "    .dataframe tbody tr th:only-of-type {\n",
       "        vertical-align: middle;\n",
       "    }\n",
       "\n",
       "    .dataframe tbody tr th {\n",
       "        vertical-align: top;\n",
       "    }\n",
       "\n",
       "    .dataframe thead th {\n",
       "        text-align: right;\n",
       "    }\n",
       "</style>\n",
       "<table border=\"1\" class=\"dataframe\">\n",
       "  <thead>\n",
       "    <tr style=\"text-align: right;\">\n",
       "      <th></th>\n",
       "      <th>precision</th>\n",
       "      <th>recall</th>\n",
       "      <th>f1-score</th>\n",
       "      <th>support</th>\n",
       "    </tr>\n",
       "  </thead>\n",
       "  <tbody>\n",
       "    <tr>\n",
       "      <th>0</th>\n",
       "      <td>0.884416</td>\n",
       "      <td>0.946784</td>\n",
       "      <td>0.914538</td>\n",
       "      <td>3063.000000</td>\n",
       "    </tr>\n",
       "    <tr>\n",
       "      <th>1</th>\n",
       "      <td>0.794710</td>\n",
       "      <td>0.624752</td>\n",
       "      <td>0.699557</td>\n",
       "      <td>1010.000000</td>\n",
       "    </tr>\n",
       "    <tr>\n",
       "      <th>accuracy</th>\n",
       "      <td>0.866929</td>\n",
       "      <td>0.866929</td>\n",
       "      <td>0.866929</td>\n",
       "      <td>0.866929</td>\n",
       "    </tr>\n",
       "    <tr>\n",
       "      <th>macro avg</th>\n",
       "      <td>0.839563</td>\n",
       "      <td>0.785768</td>\n",
       "      <td>0.807047</td>\n",
       "      <td>4073.000000</td>\n",
       "    </tr>\n",
       "    <tr>\n",
       "      <th>weighted avg</th>\n",
       "      <td>0.862171</td>\n",
       "      <td>0.866929</td>\n",
       "      <td>0.861228</td>\n",
       "      <td>4073.000000</td>\n",
       "    </tr>\n",
       "  </tbody>\n",
       "</table>\n",
       "</div>"
      ],
      "text/plain": [
       "              precision    recall  f1-score      support\n",
       "0              0.884416  0.946784  0.914538  3063.000000\n",
       "1              0.794710  0.624752  0.699557  1010.000000\n",
       "accuracy       0.866929  0.866929  0.866929     0.866929\n",
       "macro avg      0.839563  0.785768  0.807047  4073.000000\n",
       "weighted avg   0.862171  0.866929  0.861228  4073.000000"
      ]
     },
     "execution_count": 24,
     "metadata": {},
     "output_type": "execute_result"
    }
   ],
   "source": [
    "report=classification_report(ytrue, y_pred2, output_dict=True)\n",
    "df = pd.DataFrame(report).transpose()\n",
    "df.to_csv(\"outputs//fakenewsnet_dl_bert//model_FAKENEWSNET_LSTM_BERT_clasifctnrpt.csv\",index=False)\n",
    "df.head()"
   ]
  },
  {
   "cell_type": "markdown",
   "id": "f557448a",
   "metadata": {},
   "source": [
    "**Plot confusion matrix with normalised plot**"
   ]
  },
  {
   "cell_type": "code",
   "execution_count": 25,
   "id": "8ab124f9",
   "metadata": {},
   "outputs": [
    {
     "data": {
      "image/png": "[encoded data removed]",
      "text/plain": [
       "<Figure size 360x300 with 2 Axes>"
      ]
     },
     "metadata": {
      "needs_background": "light"
     },
     "output_type": "display_data"
    },
    {
     "data": {
      "image/png": "[encoded data removed]",
      "text/plain": [
       "<Figure size 360x300 with 2 Axes>"
      ]
     },
     "metadata": {},
     "output_type": "display_data"
    }
   ],
   "source": [
    "cm=confusion_matrix(ytrue, y_pred2)\n",
    "path1=\"outputs//fakenewsnet_dl_bert//fakenewsnet_lstm_cmtrx.png\"\n",
    "path2=\"outputs//fakenewsnet_dl_bert//fakenewsnet_lstm_ncmtrx.png\"\n",
    "confusn_mtrx_plot(cm,path1)\n",
    "norm_confusn_mtrx_plot(cm,path2)"
   ]
  },
  {
   "cell_type": "markdown",
   "id": "ebb89288",
   "metadata": {},
   "source": [
    "#### Plot the training and test accuracy scores from the callback history details"
   ]
  },
  {
   "cell_type": "code",
   "execution_count": 21,
   "id": "c0a79015",
   "metadata": {},
   "outputs": [
    {
     "name": "stdout",
     "output_type": "stream",
     "text": [
      "Training Accuracy : 0.9841915369033812\n",
      "Validation Accuracy : 0.8569674491882324\n",
      "Precision : 0.7947103274559194\n",
      "Recall : 0.6247524752475248\n",
      "F1 Score : 0.6995565410199557\n"
     ]
    },
    {
     "data": {
      "image/png": "[encoded data removed]",
      "text/plain": [
       "<Figure size 864x360 with 2 Axes>"
      ]
     },
     "metadata": {
      "needs_background": "light"
     },
     "output_type": "display_data"
    }
   ],
   "source": [
    "hist_df = pd.read_csv(\"outputs//fakenewsnet_dl_bert//model_FAKENEWSNET_LSTM_BERT_V1_history.csv\")\n",
    "plot_loss_and_acc_from_hist2(hist_df)\n",
    "# print(\"CNN Completed\")"
   ]
  },
  {
   "cell_type": "markdown",
   "id": "7340eb0d",
   "metadata": {},
   "source": [
    "### Bi-LSTM\n",
    "\n",
    "#### Checkpoint and EarlyStopping configuration setting for the model training\n"
   ]
  },
  {
   "cell_type": "code",
   "execution_count": 25,
   "id": "35a37379",
   "metadata": {},
   "outputs": [],
   "source": [
    "# Model Checkpoint and EarlyStopping\n",
    "filepath_bilstm = \"Updated//fakenewsnet_dl_bert//model_FAKENEWSNET_BILSTM_BERT_PRETRAINED_V2.h5\" # Location to get the model\n",
    "checkpoint_bilstm = ModelCheckpoint(filepath_bilstm, monitor='loss', verbose=1, save_best_only=True, mode='min')\n",
    "es_bilstm = EarlyStopping(monitor='val_loss', patience=3,mode='min', verbose=1)\n",
    "callbacks_list_bilstm = [checkpoint_bilstm,es_bilstm]"
   ]
  },
  {
   "cell_type": "markdown",
   "id": "c980cf45",
   "metadata": {},
   "source": [
    "#### Build the model architecture"
   ]
  },
  {
   "cell_type": "code",
   "execution_count": 26,
   "id": "599de839",
   "metadata": {},
   "outputs": [],
   "source": [
    "x= tf.keras.layers.Bidirectional(LSTM(256))(sequence_output)\n",
    "x = tf.keras.layers.Dense(64, activation=\"relu\")(x)\n",
    "out = tf.keras.layers.Dense(1, activation=\"sigmoid\")(x)\n",
    "\n",
    "bilstm_model = tf.keras.models.Model(\n",
    "      inputs=[input_word_ids, input_mask, segment_ids], outputs=out)\n",
    "\n",
    "bilstm_model.compile(loss='binary_crossentropy',\n",
    "                  optimizer=tf.keras.optimizers.Adam(2e-5),\n",
    "                  metrics=['accuracy'])"
   ]
  },
  {
   "cell_type": "code",
   "execution_count": 27,
   "id": "ff26a545",
   "metadata": {},
   "outputs": [],
   "source": [
    "clear_session()"
   ]
  },
  {
   "cell_type": "code",
   "execution_count": 28,
   "id": "ac27dc8c",
   "metadata": {
    "scrolled": true
   },
   "outputs": [
    {
     "name": "stdout",
     "output_type": "stream",
     "text": [
      "Model: \"model\"\n",
      "__________________________________________________________________________________________________\n",
      " Layer (type)                   Output Shape         Param #     Connected to                     \n",
      "==================================================================================================\n",
      " input_word_ids (InputLayer)    [(None, 256)]        0           []                               \n",
      "                                                                                                  \n",
      " input_mask (InputLayer)        [(None, 256)]        0           []                               \n",
      "                                                                                                  \n",
      " segment_ids (InputLayer)       [(None, 256)]        0           []                               \n",
      "                                                                                                  \n",
      " keras_layer (KerasLayer)       [(None, 768),        109482241   ['input_word_ids[0][0]',         \n",
      "                                 (None, 256, 768)]                'input_mask[0][0]',             \n",
      "                                                                  'segment_ids[0][0]']            \n",
      "                                                                                                  \n",
      " bidirectional (Bidirectional)  (None, 512)          2099200     ['keras_layer[0][1]']            \n",
      "                                                                                                  \n",
      " dense (Dense)                  (None, 64)           32832       ['bidirectional[0][0]']          \n",
      "                                                                                                  \n",
      " dense_1 (Dense)                (None, 1)            65          ['dense[0][0]']                  \n",
      "                                                                                                  \n",
      "==================================================================================================\n",
      "Total params: 111,614,338\n",
      "Trainable params: 111,614,337\n",
      "Non-trainable params: 1\n",
      "__________________________________________________________________________________________________\n"
     ]
    }
   ],
   "source": [
    "bilstm_model.summary()"
   ]
  },
  {
   "cell_type": "markdown",
   "id": "5802fc89",
   "metadata": {},
   "source": [
    "#### Model training"
   ]
  },
  {
   "cell_type": "code",
   "execution_count": null,
   "id": "b609a878",
   "metadata": {
    "scrolled": true
   },
   "outputs": [],
   "source": [
    "history_bilstm_bert=bilstm_model.fit(train_inputs,train_y,epochs=3,batch_size=200,validation_split=0.2,shuffle=True, callbacks=callbacks_list_bilstm) "
   ]
  },
  {
   "cell_type": "markdown",
   "id": "acffe7e0",
   "metadata": {},
   "source": [
    "#### Load the trained model and Evaluate the predictions made based on test data and calculate  the accuracy score metrics "
   ]
  },
  {
   "cell_type": "code",
   "execution_count": null,
   "id": "88c7589f",
   "metadata": {},
   "outputs": [],
   "source": [
    "from tensorflow.keras.models import load_model\n",
    "bilstm_model = load_model('outputs//fakenewsnet_dl_bert//model_FAKENEWSNET_BILSTM_BERT_PRETRAINED_V2.h5')\n",
    "\n",
    "y_pred=bilstm_model.predict(test_inputs)\n",
    "# ytrue = y_test.astype(int).tolist()\n",
    "ytrue = y_test.values\n",
    "y_pred2 = np.array((y_pred > 0.5).astype(int)[:,0])\n",
    "precision = precision_score(ytrue, y_pred2)\n",
    "recall = recall_score(ytrue, y_pred2)\n",
    "f1score = f1_score(ytrue, y_pred2)\n",
    "\n",
    "print(\"Accuracy score : {}\".format(accuracy_score(ytrue, y_pred2)))\n",
    "print('precision =',precision)\n",
    "print('recall =',recall)\n",
    "print('f1score =',f1score)\n",
    "print(confusion_matrix(ytrue, y_pred2))\n",
    "print(classification_report(ytrue, y_pred2))\n",
    "\n"
   ]
  },
  {
   "cell_type": "markdown",
   "id": "3d857029",
   "metadata": {},
   "source": [
    "#### Save the classification report to csv"
   ]
  },
  {
   "cell_type": "code",
   "execution_count": 33,
   "id": "983a9189",
   "metadata": {},
   "outputs": [
    {
     "data": {
      "text/html": [
       "<div>\n",
       "<style scoped>\n",
       "    .dataframe tbody tr th:only-of-type {\n",
       "        vertical-align: middle;\n",
       "    }\n",
       "\n",
       "    .dataframe tbody tr th {\n",
       "        vertical-align: top;\n",
       "    }\n",
       "\n",
       "    .dataframe thead th {\n",
       "        text-align: right;\n",
       "    }\n",
       "</style>\n",
       "<table border=\"1\" class=\"dataframe\">\n",
       "  <thead>\n",
       "    <tr style=\"text-align: right;\">\n",
       "      <th></th>\n",
       "      <th>precision</th>\n",
       "      <th>recall</th>\n",
       "      <th>f1-score</th>\n",
       "      <th>support</th>\n",
       "    </tr>\n",
       "  </thead>\n",
       "  <tbody>\n",
       "    <tr>\n",
       "      <th>0</th>\n",
       "      <td>0.884748</td>\n",
       "      <td>0.922298</td>\n",
       "      <td>0.903133</td>\n",
       "      <td>3063.000000</td>\n",
       "    </tr>\n",
       "    <tr>\n",
       "      <th>1</th>\n",
       "      <td>0.729545</td>\n",
       "      <td>0.635644</td>\n",
       "      <td>0.679365</td>\n",
       "      <td>1010.000000</td>\n",
       "    </tr>\n",
       "    <tr>\n",
       "      <th>accuracy</th>\n",
       "      <td>0.851215</td>\n",
       "      <td>0.851215</td>\n",
       "      <td>0.851215</td>\n",
       "      <td>0.851215</td>\n",
       "    </tr>\n",
       "    <tr>\n",
       "      <th>macro avg</th>\n",
       "      <td>0.807147</td>\n",
       "      <td>0.778971</td>\n",
       "      <td>0.791249</td>\n",
       "      <td>4073.000000</td>\n",
       "    </tr>\n",
       "    <tr>\n",
       "      <th>weighted avg</th>\n",
       "      <td>0.846262</td>\n",
       "      <td>0.851215</td>\n",
       "      <td>0.847644</td>\n",
       "      <td>4073.000000</td>\n",
       "    </tr>\n",
       "  </tbody>\n",
       "</table>\n",
       "</div>"
      ],
      "text/plain": [
       "              precision    recall  f1-score      support\n",
       "0              0.884748  0.922298  0.903133  3063.000000\n",
       "1              0.729545  0.635644  0.679365  1010.000000\n",
       "accuracy       0.851215  0.851215  0.851215     0.851215\n",
       "macro avg      0.807147  0.778971  0.791249  4073.000000\n",
       "weighted avg   0.846262  0.851215  0.847644  4073.000000"
      ]
     },
     "execution_count": 33,
     "metadata": {},
     "output_type": "execute_result"
    }
   ],
   "source": [
    "report=classification_report(ytrue, y_pred2, output_dict=True)\n",
    "df = pd.DataFrame(report).transpose()\n",
    "df.to_csv(\"outputs//fakenewsnet_dl_bert//model_FAKENEWSNET_BILSTM_BERT_clasifctnrpt.csv\",index=False)\n",
    "df.head()"
   ]
  },
  {
   "cell_type": "markdown",
   "id": "303fc04f",
   "metadata": {},
   "source": [
    "**Plot confusion matrix with normalised plot**"
   ]
  },
  {
   "cell_type": "code",
   "execution_count": null,
   "id": "ef5b47c3",
   "metadata": {},
   "outputs": [],
   "source": [
    "cm=confusion_matrix(ytrue, y_pred2)\n",
    "path1=\"outputs//fakenewsnet_dl_bert//fakenewsnet_bilstm_cmtrx.png\"\n",
    "path2=\"outputs//fakenewsnet_dl_bert//fakenewsnet_bilstm_ncmtrx.png\"\n",
    "confusn_mtrx_plot(cm,path1)\n",
    "norm_confusn_mtrx_plot(cm,path2)"
   ]
  },
  {
   "cell_type": "code",
   "execution_count": 34,
   "id": "75fc87a4",
   "metadata": {},
   "outputs": [
    {
     "data": {
      "image/png": "[encoded data removed]",
      "text/plain": [
       "<IPython.core.display.Image object>"
      ]
     },
     "execution_count": 34,
     "metadata": {},
     "output_type": "execute_result"
    }
   ],
   "source": [
    "from IPython import display\n",
    "display.Image(\"outputs//fakenewsnet_dl_bert//fakenewsnet_bilstm_cmtrx.png\")"
   ]
  },
  {
   "cell_type": "code",
   "execution_count": 35,
   "id": "fc23c528",
   "metadata": {},
   "outputs": [
    {
     "data": {
      "image/png": "[encoded data removed]",
      "text/plain": [
       "<IPython.core.display.Image object>"
      ]
     },
     "execution_count": 35,
     "metadata": {},
     "output_type": "execute_result"
    }
   ],
   "source": [
    "from IPython import display\n",
    "display.Image(\"outputs//fakenewsnet_dl_bert//fakenewsnet_bilstm_ncmtrx.png\")"
   ]
  },
  {
   "cell_type": "markdown",
   "id": "a21a8c18",
   "metadata": {},
   "source": [
    "#### Plot the training and test accuracy scores from the callback history details"
   ]
  },
  {
   "cell_type": "code",
   "execution_count": 25,
   "id": "d9aceae3",
   "metadata": {},
   "outputs": [
    {
     "name": "stdout",
     "output_type": "stream",
     "text": [
      "Training Accuracy : 0.9871844053268432\n",
      "Validation Accuracy : 0.8471454977989197\n",
      "Precision : 0.7295454545454545\n",
      "Recall : 0.6356435643564357\n",
      "F1 Score : 0.6793650793650793\n"
     ]
    },
    {
     "data": {
      "image/png": "[encoded data removed]",
      "text/plain": [
       "<Figure size 864x360 with 2 Axes>"
      ]
     },
     "metadata": {
      "needs_background": "light"
     },
     "output_type": "display_data"
    }
   ],
   "source": [
    "hist_df = pd.read_csv(\"outputs//fakenewsnet_dl_bert//model_FAKENEWSNET_BILSTM_BERT_V1_history.csv\")\n",
    "plot_loss_and_acc_from_hist2(hist_df)\n",
    "# print(\"CNN Completed\")"
   ]
  },
  {
   "cell_type": "code",
   "execution_count": null,
   "id": "ee17f999",
   "metadata": {},
   "outputs": [],
   "source": []
  }
 ],
 "metadata": {
  "kernelspec": {
   "display_name": "Python 3 (ipykernel)",
   "language": "python",
   "name": "python3"
  },
  "language_info": {
   "codemirror_mode": {
    "name": "ipython",
    "version": 3
   },
   "file_extension": ".py",
   "mimetype": "text/x-python",
   "name": "python",
   "nbconvert_exporter": "python",
   "pygments_lexer": "ipython3",
   "version": "3.7.0"
  }
 },
 "nbformat": 4,
 "nbformat_minor": 5
}
