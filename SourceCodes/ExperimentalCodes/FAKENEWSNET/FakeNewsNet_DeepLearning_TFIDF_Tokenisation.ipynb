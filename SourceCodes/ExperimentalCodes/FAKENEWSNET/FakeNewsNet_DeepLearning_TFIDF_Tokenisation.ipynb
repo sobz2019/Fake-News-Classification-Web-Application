{
 "cells": [
  {
   "cell_type": "markdown",
   "id": "fc064064",
   "metadata": {},
   "source": [
    "# Overview\n",
    "\n",
    "\n",
    "This notebook describes the different stages to build up different deep learning models trained over the dataset called **FakeNewsNet** by using **TFIDF** tokenisation, for the automatic fake news detection\n",
    "\n",
    "List of Deep Learning algorithms included \n",
    "- 1D CNN\n",
    "- LSTM\n",
    "- BiLSTM\n",
    "\n"
   ]
  },
  {
   "cell_type": "markdown",
   "id": "c71fb3eb",
   "metadata": {},
   "source": [
    "## 1. Loading Python libraries"
   ]
  },
  {
   "cell_type": "code",
   "execution_count": null,
   "id": "e34e8c15",
   "metadata": {},
   "outputs": [],
   "source": [
    "import numpy as np\n",
    "import pandas as pd\n",
    "import warnings\n",
    "%matplotlib inline\n",
    "import matplotlib.pyplot as plt\n",
    "import seaborn as sns\n",
    "import glob\n",
    "import json\n",
    "import tensorflow_hub as hub\n",
    "import tensorflow_text\n",
    "import tldextract  \n",
    "import warnings\n",
    "warnings.filterwarnings('ignore')\n",
    "\n",
    "from bs4 import BeautifulSoup\n",
    "from sklearn.model_selection import train_test_split,StratifiedKFold,RandomizedSearchCV\n",
    "from sklearn.metrics import classification_report,confusion_matrix,accuracy_score,roc_curve, roc_auc_score,f1_score,precision_score, recall_score\n",
    "from sklearn.feature_extraction.text import TfidfVectorizer,CountVectorizer\n",
    "from imblearn.over_sampling import SMOTE,ADASYN\n",
    "from sklearn.pipeline import Pipeline\n",
    "from sklearn.ensemble import RandomForestClassifier\n",
    "from sklearn.svm import SVC\n",
    "from sklearn.neighbors import KNeighborsClassifier\n",
    "from sklearn.naive_bayes import GaussianNB,MultinomialNB\n",
    "from xgboost import XGBClassifier\n",
    "from sklearn.linear_model import LogisticRegression\n",
    "import re\n",
    "\n",
    "from collections import Counter\n",
    "import nltk \n",
    "import spacy\n",
    "nltk.download('omw-1.4')\n",
    "nltk.download('stopwords')\n",
    "nltk.download('punkt')\n",
    "nltk.download('averaged_perceptron_tagger')\n",
    "nltk.download('wordnet')\n",
    "\n",
    "from wordcloud import WordCloud, ImageColorGenerator,STOPWORDS\n",
    "import gensim\n",
    "from gensim.parsing.preprocessing import STOPWORDS as gensim_stopwords\n",
    "import copy\n",
    "from nltk.stem import PorterStemmer\n",
    "from nltk.corpus import stopwords,wordnet\n",
    "from nltk.tokenize import word_tokenize\n",
    "from nltk.stem import WordNetLemmatizer,LancasterStemmer\n",
    "from pprint import pprint\n",
    "\n",
    "\n",
    "import tensorflow as tf\n",
    "from tensorflow.keras.models import Sequential\n",
    "from tensorflow.keras import layers\n",
    "from tensorflow.keras.preprocessing.text import Tokenizer\n",
    "from tensorflow.keras.preprocessing.sequence import pad_sequences\n",
    "from tensorflow.keras.wrappers.scikit_learn import KerasClassifier\n",
    "from tensorflow.keras.layers import Dense, Dropout, Activation,Embedding,Flatten,LSTM,Bidirectional,GlobalMaxPooling1D\n",
    "from tensorflow.keras.layers import Reshape,Conv1D, MaxPooling1D, Concatenate\n",
    "from tensorflow.keras.callbacks import ModelCheckpoint,EarlyStopping\n",
    "from tensorflow.keras.layers import BatchNormalization\n",
    "from keras.backend import clear_session\n",
    "\n",
    "\n",
    "pd.set_option('display.max_rows', 500)\n",
    "pd.set_option('display.max_columns', 500)\n",
    "pd.set_option('display.width', 1000)\n",
    "pd.set_option('display.expand_frame_repr', False)\n",
    "pd.set_option('display.max_colwidth', 200)\n",
    "\n",
    "import warnings\n",
    "warnings.filterwarnings('ignore')"
   ]
  },
  {
   "cell_type": "markdown",
   "id": "ff34bd20",
   "metadata": {},
   "source": [
    "#### Loading the Full prepared dataset - FakeNewsNet which created on earlier works"
   ]
  },
  {
   "cell_type": "code",
   "execution_count": 2,
   "id": "86f8274c",
   "metadata": {},
   "outputs": [],
   "source": [
    "#creating a data frame\n",
    "df = pd.read_csv(\"Updated//fakenewsnet_full_dataset.csv\")"
   ]
  },
  {
   "cell_type": "markdown",
   "id": "a69fcf16",
   "metadata": {},
   "source": [
    "***\n",
    "## 2. Text Preprocessing"
   ]
  },
  {
   "cell_type": "markdown",
   "id": "8d6fee90",
   "metadata": {},
   "source": [
    "### Combining different stopwords lists loaded from different libraries to create a consolidated stopwords list"
   ]
  },
  {
   "cell_type": "markdown",
   "id": "435c3290",
   "metadata": {},
   "source": [
    "##### Loading the english language small model from  spacy library"
   ]
  },
  {
   "cell_type": "code",
   "execution_count": 3,
   "id": "a935ca0e",
   "metadata": {},
   "outputs": [],
   "source": [
    "import spacy\n",
    "en = spacy.load('en_core_web_sm')\n",
    "sw_spacy = en.Defaults.stop_words"
   ]
  },
  {
   "cell_type": "markdown",
   "id": "3520ff5b",
   "metadata": {},
   "source": [
    "Fetching different stopword lists from the different libraries **(gensim,nltk,spacy,wordcloud)** and combined to create a consolidated Stopword list"
   ]
  },
  {
   "cell_type": "code",
   "execution_count": 4,
   "id": "4b41d824",
   "metadata": {},
   "outputs": [],
   "source": [
    "gensim_stopwords_list=list(gensim_stopwords) # gensim\n",
    "nltk_stopwords_list=stopwords.words('english') # nltk\n",
    "spacy_stopwords=list(sw_spacy) # spacy\n",
    "wordcloud_stopwords_list=list(STOPWORDS)"
   ]
  },
  {
   "cell_type": "code",
   "execution_count": 5,
   "id": "d5f2eaf7",
   "metadata": {},
   "outputs": [],
   "source": [
    "total_stop_words_list= set(gensim_stopwords_list + nltk_stopwords_list + spacy_stopwords + wordcloud_stopwords_list)"
   ]
  },
  {
   "cell_type": "markdown",
   "id": "4c0bba78",
   "metadata": {},
   "source": [
    "#### Function to tag POS tagging for each news content"
   ]
  },
  {
   "cell_type": "code",
   "execution_count": 6,
   "id": "3f953ad4",
   "metadata": {},
   "outputs": [],
   "source": [
    "def get_wordnet_pos(word):\n",
    "    tag = nltk.pos_tag([word])[0][1][0].upper()\n",
    "    tag_dict = {\"J\": wordnet.ADJ,\n",
    "                \"N\": wordnet.NOUN,\n",
    "                \"V\": wordnet.VERB,\n",
    "                \"R\": wordnet.ADV}\n",
    "\n",
    "    return tag_dict.get(tag,wordnet.NOUN)\n",
    "\n",
    "lemmatizer = WordNetLemmatizer()"
   ]
  },
  {
   "cell_type": "markdown",
   "id": "d2f6c62c",
   "metadata": {},
   "source": [
    "#####  Preprocessing \n",
    "\n",
    "\n",
    "We have experimented   the following pre-processing methods in our classification work:\n",
    "\n",
    "- Removal any HTML content\n",
    "- Remove URLs and numbers\n",
    "- Removal of all kinds of date formats\n",
    "- Removal of Punctuation \n",
    "- Conversion of lower case\n",
    "- Replacing 2 or more consecutive whitespaces with a single one\n",
    "- Removal of Stopwords\n",
    "- Lemmatization\n",
    "- Stemming\n",
    "- POS tagging \n"
   ]
  },
  {
   "cell_type": "markdown",
   "id": "5afe713a",
   "metadata": {},
   "source": [
    "#### Helper Function to preprocess the text  with all the operations as mentioned above"
   ]
  },
  {
   "cell_type": "code",
   "execution_count": 7,
   "id": "cdfd0e47",
   "metadata": {},
   "outputs": [],
   "source": [
    "def clean_format(text):\n",
    "    # Remove HTML tags\n",
    "    bsoup = BeautifulSoup(text, \"html.parser\")\n",
    "    clean_text = bsoup.get_text()\n",
    "    \n",
    "    \n",
    "    # Remove any URL\n",
    "    url = re.compile(r'https?://\\S+|www\\.\\S+')\n",
    "    url.sub(r'', clean_text)\n",
    "    \n",
    "    # Remove any numbers\n",
    "    clean_text=re.sub(r'\\d+','',clean_text)\n",
    "    \n",
    "    # Remove all kinds of date formats\n",
    "    clean_text=re.sub(r'\\d+[\\.\\/-]\\d+[\\.\\/-]\\d+', '', clean_text)\n",
    "    clean_text=re.sub(r'\\d+[\\.\\/-]\\d+[\\.\\/-]\\d+', '', clean_text)\n",
    "    clean_text=re.sub(r'\\d+[\\.\\/-]\\d+[\\.\\/-]\\d+', '', clean_text)\n",
    "    \n",
    "    \n",
    "    # Removal of punctuation and lower case conversion\n",
    "    clean_text = re.sub('\\[[^]]*\\]', ' ', clean_text)\n",
    "    clean_text = re.sub('[^a-zA-Z]',' ',clean_text)  # replaces non-alphabets with spaces\n",
    "    clean_text = clean_text.lower()\n",
    "    \n",
    "    # Removal of 2 consecutive double space\n",
    "    clean_text=re.sub(r' {2,}',' ',clean_text)\n",
    "    \n",
    "    clean_text = clean_text.split()\n",
    "    \n",
    "    textclean=[]\n",
    "    clean_text = [textclean.append(word) for word in clean_text if word not in total_stop_words_list and len(word) > 2]\n",
    "    clean_text = ' '.join(textclean)\n",
    "    \n",
    "#     # Lemmatization\n",
    "    clean_text = clean_text.split()\n",
    "    lemmatizer = WordNetLemmatizer()\n",
    "    newcleantext= [lemmatizer.lemmatize(w,get_wordnet_pos(w)) for w in clean_text]\n",
    "    newcleantext = ' '.join(newcleantext)\n",
    "    \n",
    "    return newcleantext"
   ]
  },
  {
   "cell_type": "markdown",
   "id": "927969b6",
   "metadata": {},
   "source": [
    "Apply the above function on the column **fulltext**  for the preprocessing step"
   ]
  },
  {
   "cell_type": "code",
   "execution_count": 8,
   "id": "facfaa6f",
   "metadata": {},
   "outputs": [],
   "source": [
    "df['cleantext']=df['fulltext'].apply(clean_format)"
   ]
  },
  {
   "cell_type": "markdown",
   "id": "64f3a097",
   "metadata": {},
   "source": [
    "### Saving again the above dataframe  to csv format "
   ]
  },
  {
   "cell_type": "code",
   "execution_count": 12,
   "id": "d1592759",
   "metadata": {},
   "outputs": [],
   "source": [
    "df.to_csv('Updated//full_dataset_fakenewsnet_cleaned_using_nltk.csv', index=False)"
   ]
  },
  {
   "cell_type": "markdown",
   "id": "d06fb986",
   "metadata": {},
   "source": [
    "#### Remove any null values"
   ]
  },
  {
   "cell_type": "code",
   "execution_count": 7,
   "id": "fddda4c5",
   "metadata": {},
   "outputs": [],
   "source": [
    "df = df[df['cleantext'].notna()]"
   ]
  },
  {
   "cell_type": "markdown",
   "id": "02b1146e",
   "metadata": {},
   "source": [
    "##### Shuffling the rows"
   ]
  },
  {
   "cell_type": "code",
   "execution_count": 8,
   "id": "bff1e0da",
   "metadata": {},
   "outputs": [],
   "source": [
    "df = df.sample(frac=1)"
   ]
  },
  {
   "cell_type": "markdown",
   "id": "7cda4b30",
   "metadata": {},
   "source": [
    "***\n",
    "\n",
    "## 3. Model Training and Evaluation\n",
    "\n",
    "### Splitting dataset into Features and Class labels"
   ]
  },
  {
   "cell_type": "code",
   "execution_count": 9,
   "id": "e03f8f59",
   "metadata": {},
   "outputs": [],
   "source": [
    "X=df['cleantext'].apply(str)\n",
    "y=df['class']"
   ]
  },
  {
   "cell_type": "markdown",
   "id": "700aa52d",
   "metadata": {},
   "source": [
    "#### Generate train and test set "
   ]
  },
  {
   "cell_type": "code",
   "execution_count": 10,
   "id": "9ba979ba",
   "metadata": {},
   "outputs": [],
   "source": [
    "X_train, X_test, y_train, y_test = train_test_split(X, y, test_size=0.2,stratify=y, random_state=0)"
   ]
  },
  {
   "cell_type": "markdown",
   "id": "42827c3a",
   "metadata": {},
   "source": [
    "## Feature Extraction\n",
    "\n",
    "### Initialising  TFIDF Tokenisation uni-gram mode with 3000 maximum features"
   ]
  },
  {
   "cell_type": "code",
   "execution_count": 11,
   "id": "6150f532",
   "metadata": {},
   "outputs": [],
   "source": [
    "from sklearn.feature_extraction.text import TfidfVectorizer\n",
    "max_features = 3000\n",
    "\n",
    "tokenizer = TfidfVectorizer(max_features=max_features, ngram_range=(1, 1),\n",
    "                       tokenizer=nltk.word_tokenize,\n",
    "                       strip_accents='unicode',\n",
    "                       lowercase=True, analyzer='word', token_pattern=r'\\w+',\n",
    "                       use_idf=True, smooth_idf=True, sublinear_tf=False)"
   ]
  },
  {
   "cell_type": "markdown",
   "id": "61868150",
   "metadata": {},
   "source": [
    "##### Tokenisation fit & transform on train texts and transform only on test sets"
   ]
  },
  {
   "cell_type": "code",
   "execution_count": 12,
   "id": "50832414",
   "metadata": {},
   "outputs": [],
   "source": [
    "x_train_tf = tokenizer.fit_transform(X_train).toarray()\n",
    "x_test_tf = tokenizer.transform(X_test).toarray()"
   ]
  },
  {
   "cell_type": "markdown",
   "id": "8337a616",
   "metadata": {},
   "source": [
    "#### Printing the shape of different text corpus"
   ]
  },
  {
   "cell_type": "code",
   "execution_count": 13,
   "id": "377bbb11",
   "metadata": {},
   "outputs": [
    {
     "name": "stdout",
     "output_type": "stream",
     "text": [
      "x_train_tf shape:  (16288, 3000)\n",
      "x_test_tf:  (4073, 3000)\n"
     ]
    }
   ],
   "source": [
    "print('x_train_tf shape: ', x_train_tf.shape)\n",
    "print('x_test_tf: ', x_test_tf.shape)"
   ]
  },
  {
   "cell_type": "markdown",
   "id": "00bab9b4",
   "metadata": {},
   "source": [
    "Reshape X_train and X_test data to a format like **[samples, time steps, features]** shape. We are converting this for the models LSTM and BILSTM**"
   ]
  },
  {
   "cell_type": "code",
   "execution_count": 14,
   "id": "cf370b75",
   "metadata": {},
   "outputs": [
    {
     "name": "stdout",
     "output_type": "stream",
     "text": [
      "\n",
      "Reshaping data to the shape [samples, time steps, features] for LSTM and BILSTM ...\n",
      "\n",
      "Reshaping done ...\n"
     ]
    }
   ],
   "source": [
    "print(\n",
    "    '\\nReshaping data to the shape [samples, time steps, features] for LSTM and BILSTM ...')\n",
    "x_train_tf_dl = np.reshape(\n",
    "    x_train_tf, (x_train_tf.shape[0], 1, x_train_tf.shape[1]))\n",
    "x_test_tf_dl = np.reshape(\n",
    "    x_test_tf, (x_test_tf.shape[0], 1, x_test_tf.shape[1]))\n",
    "print('\\nReshaping done ...')"
   ]
  },
  {
   "cell_type": "code",
   "execution_count": 15,
   "id": "63592aea",
   "metadata": {},
   "outputs": [
    {
     "data": {
      "text/plain": [
       "(16288, 1, 3000)"
      ]
     },
     "execution_count": 15,
     "metadata": {},
     "output_type": "execute_result"
    }
   ],
   "source": [
    "x_train_tf_dl.shape"
   ]
  },
  {
   "cell_type": "markdown",
   "id": "ab7ebc65",
   "metadata": {},
   "source": [
    "Reshape X_train and X_test data to a format like **[samples, features,1]** shape.  We are converting this for the models CNN****\n"
   ]
  },
  {
   "cell_type": "code",
   "execution_count": 16,
   "id": "d5b0ac23",
   "metadata": {},
   "outputs": [
    {
     "name": "stdout",
     "output_type": "stream",
     "text": [
      "\n",
      "Reshaping data to the shape [samples, features,1] for CNN ...\n"
     ]
    }
   ],
   "source": [
    "print(\n",
    "    '\\nReshaping data to the shape [samples, features,1] for CNN ...')\n",
    "x_train_tf_cn = np.reshape(\n",
    "    x_train_tf, (x_train_tf.shape[0], x_train_tf.shape[1],1))\n",
    "x_test_tf_cn = np.reshape(\n",
    "    x_test_tf, (x_test_tf.shape[0], x_test_tf.shape[1],1))"
   ]
  },
  {
   "cell_type": "markdown",
   "id": "af6e1f1f",
   "metadata": {},
   "source": [
    "####  User defined helper functions to plot training and testing accuracy of the trained model\n",
    "\n",
    "This function is using to save the loss and accuracy metrics of the training and test sets from the given input parameter which is a keras history callback object obtained during the model traning"
   ]
  },
  {
   "cell_type": "code",
   "execution_count": 17,
   "id": "43faa37f",
   "metadata": {},
   "outputs": [],
   "source": [
    "import matplotlib.pyplot as plt\n",
    "  \n",
    "def plot_loss_and_acc_from_hist2(hist_df):\n",
    "    print('Training Accuracy :',hist_df.iloc[-1]['accuracy'])\n",
    "    print('Validation Accuracy :',hist_df.iloc[-1]['val_accuracy'])\n",
    "    print('Precision :',hist_df.iloc[-1][\"precision\"])\n",
    "    print('Recall :',hist_df.iloc[-1][\"recall\"])\n",
    "    print('F1 Score :',hist_df.iloc[-1][\"f1score\"])\n",
    "    train_loss = hist_df[\"loss\"]\n",
    "    train_acc = hist_df[\"accuracy\"]\n",
    "    val_loss = hist_df[\"val_loss\"]\n",
    "    val_acc = hist_df[\"val_accuracy\"]\n",
    "    fig = plt.figure(figsize=(12,5))\n",
    "    ax = fig.add_subplot(121)\n",
    "    ax.plot(range(len(train_loss)), train_loss, label=\"Train Loss\");\n",
    "    ax.plot(range(len(val_loss)), val_loss, label=\"Validation Loss\");\n",
    "    plt.xlabel(\"Epochs\"); plt.ylabel(\"Loss\");\n",
    "    plt.title(\"Train Loss vs Validation Loss\");\n",
    "    plt.legend(loc=\"best\");\n",
    "\n",
    "    ax = fig.add_subplot(122)\n",
    "    ax.plot(range(len(train_acc)), train_acc, label=\"Train Accuracy\");\n",
    "    ax.plot(range(len(val_acc)), val_acc, label=\"Validation Accuracy\");\n",
    "    plt.xlabel(\"Epochs\"); plt.ylabel(\"Accuracy\");\n",
    "    plt.title(\"Train Accuracy vs Validation Accuracy\");\n",
    "    plt.legend(loc=\"best\");    \n",
    "\n",
    "    \n"
   ]
  },
  {
   "cell_type": "markdown",
   "id": "e3eb2ce4",
   "metadata": {},
   "source": [
    "#### User defined helper functions to create the confusion matrix and normalised confusion matrix \n",
    "\n",
    "The below scripts is using to create the confusion matrix and normalised confusion matrix based on the predictions and actual truth lables"
   ]
  },
  {
   "cell_type": "code",
   "execution_count": 18,
   "id": "1168f5ab",
   "metadata": {},
   "outputs": [],
   "source": [
    "# Helper function to plot confusion matrix and normalised confusion matrix plot\n",
    "def confusn_mtrx_plot(cm,path):\n",
    "    from sklearn.metrics import confusion_matrix\n",
    "    # Y_pred_evc = evc_mdl.predict(test_X)\n",
    "    #cm = confusion_matrix(ytrue, y_pred)\n",
    "\n",
    "    fig = plt.figure(figsize=(6, 5), dpi=60)\n",
    "    ax = plt.subplot()\n",
    "    sns.set(font_scale=1.4) # Adjust to fit\n",
    "    sns.heatmap(cm, annot=True, ax=ax, cmap=\"GnBu\", fmt=\"g\");  \n",
    "    #sns.heatmap(cm/np.sum(cm), annot=True, ax=ax[1], cmap=\"GnBu\", fmt=\"g\");  \n",
    "\n",
    "    # Labels, title and ticks\n",
    "    label_font = {'size':'18'}  # Adjust to fit\n",
    "    ax.set_xlabel('Predicted', fontdict=label_font);\n",
    "    ax.set_ylabel('Actuals', fontdict=label_font);\n",
    "\n",
    "    title_font = {'size':'20'}  # Adjust to fit\n",
    "    ax.set_title('Confusion Matrix', fontdict=title_font);\n",
    "\n",
    "    ax.tick_params(axis='both', which='major', labelsize=15)  # Adjust to fit\n",
    "    ax.xaxis.set_ticklabels(['Real', 'Fake']);\n",
    "    ax.yaxis.set_ticklabels(['Real', 'Fake']);\n",
    "    fig.savefig(path)\n",
    "    \n",
    "def norm_confusn_mtrx_plot(cm,path):\n",
    "    fig = plt.figure(figsize=(6, 5), dpi=60)\n",
    "    ax = plt.subplot()\n",
    "    sns.set(font_scale=1.4) # Adjust to fit\n",
    "    sns.heatmap(cm/np.sum(cm), annot=True, ax=ax, cmap=\"GnBu\",fmt='.2%');  \n",
    "\n",
    "    # Labels, title and ticks\n",
    "    label_font = {'size':'18'}  # Adjust to fit\n",
    "    ax.set_xlabel('Predicted', fontdict=label_font);\n",
    "    ax.set_ylabel('Actuals', fontdict=label_font);\n",
    "\n",
    "    title_font = {'size':'18'}  # Adjust to fit\n",
    "    ax.set_title('Normalised Confusion Matrix', fontdict=title_font);\n",
    "\n",
    "    ax.tick_params(axis='both', which='major', labelsize=15)  # Adjust to fit\n",
    "    ax.xaxis.set_ticklabels(['Real', 'Fake']);\n",
    "    ax.yaxis.set_ticklabels(['Real', 'Fake']);\n",
    "    fig.savefig(path)"
   ]
  },
  {
   "cell_type": "markdown",
   "id": "b9474dc8",
   "metadata": {},
   "source": [
    "***\n",
    "## Model Training"
   ]
  },
  {
   "cell_type": "markdown",
   "id": "7086d462",
   "metadata": {},
   "source": [
    "###  1D CNN\n",
    "\n",
    "#### Checkpoint and EarlyStopping configuration setting for the model training"
   ]
  },
  {
   "cell_type": "code",
   "execution_count": 19,
   "id": "ba839ff0",
   "metadata": {},
   "outputs": [],
   "source": [
    "filepath = \"outputs//fakenewsnet_dl_tfidf//model_FAKENEWSNET_CNN_TFIDF_V2.h5\" # Location to get the model\n",
    "checkpoint = ModelCheckpoint(filepath, monitor='loss', verbose=1, save_best_only=True, mode='min')\n",
    "es = EarlyStopping(monitor='val_loss', patience=3,mode='min', verbose=1)\n",
    "callbacks_list = [checkpoint,es]"
   ]
  },
  {
   "cell_type": "markdown",
   "id": "b367f96a",
   "metadata": {},
   "source": [
    "#### Build the model "
   ]
  },
  {
   "cell_type": "code",
   "execution_count": 20,
   "id": "0cb7ecf3",
   "metadata": {},
   "outputs": [
    {
     "name": "stderr",
     "output_type": "stream",
     "text": [
      "2022-07-10 23:10:06.978027: W tensorflow/stream_executor/platform/default/dso_loader.cc:64] Could not load dynamic library 'libcudart.so.11.0'; dlerror: libcudart.so.11.0: cannot open shared object file: No such file or directory; LD_LIBRARY_PATH: /gpfs/software/ada/python/anaconda/2020.11/3.8/lib:/gpfs/software/ada/cuda/10.2.89/lib64:/gpfs/software/ada/cuda/10.2.89/lib/lib64\n",
      "2022-07-10 23:10:06.978449: W tensorflow/stream_executor/platform/default/dso_loader.cc:64] Could not load dynamic library 'libcublas.so.11'; dlerror: libcublas.so.11: cannot open shared object file: No such file or directory; LD_LIBRARY_PATH: /gpfs/software/ada/python/anaconda/2020.11/3.8/lib:/gpfs/software/ada/cuda/10.2.89/lib64:/gpfs/software/ada/cuda/10.2.89/lib/lib64\n",
      "2022-07-10 23:10:06.979102: W tensorflow/stream_executor/platform/default/dso_loader.cc:64] Could not load dynamic library 'libcublasLt.so.11'; dlerror: libcublasLt.so.11: cannot open shared object file: No such file or directory; LD_LIBRARY_PATH: /gpfs/software/ada/python/anaconda/2020.11/3.8/lib:/gpfs/software/ada/cuda/10.2.89/lib64:/gpfs/software/ada/cuda/10.2.89/lib/lib64\n",
      "2022-07-10 23:10:07.185988: W tensorflow/stream_executor/platform/default/dso_loader.cc:64] Could not load dynamic library 'libcusolver.so.11'; dlerror: libcusolver.so.11: cannot open shared object file: No such file or directory; LD_LIBRARY_PATH: /gpfs/software/ada/python/anaconda/2020.11/3.8/lib:/gpfs/software/ada/cuda/10.2.89/lib64:/gpfs/software/ada/cuda/10.2.89/lib/lib64\n",
      "2022-07-10 23:10:07.186363: W tensorflow/stream_executor/platform/default/dso_loader.cc:64] Could not load dynamic library 'libcusparse.so.11'; dlerror: libcusparse.so.11: cannot open shared object file: No such file or directory; LD_LIBRARY_PATH: /gpfs/software/ada/python/anaconda/2020.11/3.8/lib:/gpfs/software/ada/cuda/10.2.89/lib64:/gpfs/software/ada/cuda/10.2.89/lib/lib64\n",
      "2022-07-10 23:10:07.186737: W tensorflow/stream_executor/platform/default/dso_loader.cc:64] Could not load dynamic library 'libcudnn.so.8'; dlerror: libcudnn.so.8: cannot open shared object file: No such file or directory; LD_LIBRARY_PATH: /gpfs/software/ada/python/anaconda/2020.11/3.8/lib:/gpfs/software/ada/cuda/10.2.89/lib64:/gpfs/software/ada/cuda/10.2.89/lib/lib64\n",
      "2022-07-10 23:10:07.186846: W tensorflow/core/common_runtime/gpu/gpu_device.cc:1850] Cannot dlopen some GPU libraries. Please make sure the missing libraries mentioned above are installed properly if you would like to use GPU. Follow the guide at https://www.tensorflow.org/install/gpu for how to download and setup the required libraries for your platform.\n",
      "Skipping registering GPU devices...\n",
      "2022-07-10 23:10:07.190095: I tensorflow/core/platform/cpu_feature_guard.cc:193] This TensorFlow binary is optimized with oneAPI Deep Neural Network Library (oneDNN) to use the following CPU instructions in performance-critical operations:  AVX2 AVX512F AVX512_VNNI FMA\n",
      "To enable them in other operations, rebuild TensorFlow with the appropriate compiler flags.\n"
     ]
    },
    {
     "name": "stdout",
     "output_type": "stream",
     "text": [
      "Model: \"sequential\"\n",
      "_________________________________________________________________\n",
      " Layer (type)                Output Shape              Param #   \n",
      "=================================================================\n",
      " conv1d (Conv1D)             (None, 2998, 128)         512       \n",
      "                                                                 \n",
      " conv1d_1 (Conv1D)           (None, 2996, 64)          24640     \n",
      "                                                                 \n",
      " max_pooling1d (MaxPooling1D  (None, 1498, 64)         0         \n",
      " )                                                               \n",
      "                                                                 \n",
      " conv1d_2 (Conv1D)           (None, 1498, 32)          6176      \n",
      "                                                                 \n",
      " max_pooling1d_1 (MaxPooling  (None, 749, 32)          0         \n",
      " 1D)                                                             \n",
      "                                                                 \n",
      " flatten (Flatten)           (None, 23968)             0         \n",
      "                                                                 \n",
      " dense (Dense)               (None, 128)               3068032   \n",
      "                                                                 \n",
      " dropout (Dropout)           (None, 128)               0         \n",
      "                                                                 \n",
      " dense_1 (Dense)             (None, 64)                8256      \n",
      "                                                                 \n",
      " dropout_1 (Dropout)         (None, 64)                0         \n",
      "                                                                 \n",
      " dense_2 (Dense)             (None, 1)                 65        \n",
      "                                                                 \n",
      "=================================================================\n",
      "Total params: 3,107,681\n",
      "Trainable params: 3,107,681\n",
      "Non-trainable params: 0\n",
      "_________________________________________________________________\n",
      "None\n"
     ]
    }
   ],
   "source": [
    "warnings.filterwarnings('ignore')\n",
    "model=Sequential()\n",
    "model.add(Conv1D(filters=128, kernel_size=3, padding='valid', activation='relu',input_shape=(max_features,1)))\n",
    "model.add(Conv1D(filters=64, kernel_size=3, padding='valid', activation='relu'))\n",
    "model.add(MaxPooling1D())\n",
    "model.add(Conv1D(filters=32, kernel_size=3, padding='same', activation='relu'))\n",
    "model.add(MaxPooling1D())\n",
    "model.add(Flatten())\n",
    "model.add(Dense(128, activation='relu'))\n",
    "model.add(Dropout(0.4))\n",
    "model.add(Dense(64, activation='relu'))\n",
    "model.add(Dropout(0.2))\n",
    "model.add(Dense(1, activation='sigmoid'))\n",
    "# compile the model\n",
    "model.compile(optimizer='adam', loss='binary_crossentropy', metrics=['accuracy'])\n",
    "# summarize the model\n",
    "print(model.summary())"
   ]
  },
  {
   "cell_type": "code",
   "execution_count": 21,
   "id": "b90f8e68",
   "metadata": {},
   "outputs": [],
   "source": [
    "clear_session()"
   ]
  },
  {
   "cell_type": "markdown",
   "id": "105eb0f5",
   "metadata": {},
   "source": [
    "#### Model Training "
   ]
  },
  {
   "cell_type": "code",
   "execution_count": 22,
   "id": "738c6196",
   "metadata": {},
   "outputs": [
    {
     "name": "stdout",
     "output_type": "stream",
     "text": [
      "Epoch 1/3\n",
      "WARNING:tensorflow:AutoGraph could not transform <function Model.make_train_function.<locals>.train_function at 0x2b34f62e8f28> and will run it as-is.\n",
      "Please report this to the TensorFlow team. When filing the bug, set the verbosity to 10 (on Linux, `export AUTOGRAPH_VERBOSITY=10`) and attach the full output.\n",
      "Cause: 'arguments' object has no attribute 'posonlyargs'\n",
      "To silence this warning, decorate the function with @tf.autograph.experimental.do_not_convert\n",
      "WARNING: AutoGraph could not transform <function Model.make_train_function.<locals>.train_function at 0x2b34f62e8f28> and will run it as-is.\n",
      "Please report this to the TensorFlow team. When filing the bug, set the verbosity to 10 (on Linux, `export AUTOGRAPH_VERBOSITY=10`) and attach the full output.\n",
      "Cause: 'arguments' object has no attribute 'posonlyargs'\n",
      "To silence this warning, decorate the function with @tf.autograph.experimental.do_not_convert\n",
      "509/509 [==============================] - ETA: 0s - loss: 0.4576 - accuracy: 0.8029WARNING:tensorflow:AutoGraph could not transform <function Model.make_test_function.<locals>.test_function at 0x2b34f7378e18> and will run it as-is.\n",
      "Please report this to the TensorFlow team. When filing the bug, set the verbosity to 10 (on Linux, `export AUTOGRAPH_VERBOSITY=10`) and attach the full output.\n",
      "Cause: 'arguments' object has no attribute 'posonlyargs'\n",
      "To silence this warning, decorate the function with @tf.autograph.experimental.do_not_convert\n",
      "WARNING: AutoGraph could not transform <function Model.make_test_function.<locals>.test_function at 0x2b34f7378e18> and will run it as-is.\n",
      "Please report this to the TensorFlow team. When filing the bug, set the verbosity to 10 (on Linux, `export AUTOGRAPH_VERBOSITY=10`) and attach the full output.\n",
      "Cause: 'arguments' object has no attribute 'posonlyargs'\n",
      "To silence this warning, decorate the function with @tf.autograph.experimental.do_not_convert\n",
      "\n",
      "Epoch 1: loss improved from inf to 0.45761, saving model to outputs//fakenewsnet_dl_tfidf/model_FAKENEWSNET_CNN_TFIDF_V2.h5\n",
      "509/509 [==============================] - 25s 45ms/step - loss: 0.4576 - accuracy: 0.8029 - val_loss: 0.3861 - val_accuracy: 0.8421\n",
      "Epoch 2/3\n",
      "508/509 [============================>.] - ETA: 0s - loss: 0.3625 - accuracy: 0.8511\n",
      "Epoch 2: loss improved from 0.45761 to 0.36295, saving model to outputs//fakenewsnet_dl_tfidf/model_FAKENEWSNET_CNN_TFIDF_V2.h5\n",
      "509/509 [==============================] - 22s 44ms/step - loss: 0.3629 - accuracy: 0.8509 - val_loss: 0.3736 - val_accuracy: 0.8488\n",
      "Epoch 3/3\n",
      "508/509 [============================>.] - ETA: 0s - loss: 0.3144 - accuracy: 0.8731\n",
      "Epoch 3: loss improved from 0.36295 to 0.31460, saving model to outputs//fakenewsnet_dl_tfidf/model_FAKENEWSNET_CNN_TFIDF_V2.h5\n",
      "509/509 [==============================] - 22s 44ms/step - loss: 0.3146 - accuracy: 0.8730 - val_loss: 0.3628 - val_accuracy: 0.8524\n"
     ]
    }
   ],
   "source": [
    "warnings.filterwarnings('ignore')\n",
    "history=model.fit(x_train_tf_cn, y_train, epochs=3, batch_size=32,validation_data=(x_test_tf_cn,y_test), \n",
    "                  callbacks=callbacks_list)"
   ]
  },
  {
   "cell_type": "code",
   "execution_count": null,
   "id": "a8fb0fb3",
   "metadata": {},
   "outputs": [],
   "source": []
  },
  {
   "cell_type": "markdown",
   "id": "d8fe3773",
   "metadata": {},
   "source": [
    "#### Evaluate the predictions made based on test data and calculate and plot the accuracy score metrics  and save callback history details to csv"
   ]
  },
  {
   "cell_type": "code",
   "execution_count": 23,
   "id": "933bf892",
   "metadata": {},
   "outputs": [
    {
     "name": "stdout",
     "output_type": "stream",
     "text": [
      "WARNING:tensorflow:AutoGraph could not transform <function Model.make_predict_function.<locals>.predict_function at 0x2b34f669f950> and will run it as-is.\n",
      "Please report this to the TensorFlow team. When filing the bug, set the verbosity to 10 (on Linux, `export AUTOGRAPH_VERBOSITY=10`) and attach the full output.\n",
      "Cause: 'arguments' object has no attribute 'posonlyargs'\n",
      "To silence this warning, decorate the function with @tf.autograph.experimental.do_not_convert\n",
      "WARNING: AutoGraph could not transform <function Model.make_predict_function.<locals>.predict_function at 0x2b34f669f950> and will run it as-is.\n",
      "Please report this to the TensorFlow team. When filing the bug, set the verbosity to 10 (on Linux, `export AUTOGRAPH_VERBOSITY=10`) and attach the full output.\n",
      "Cause: 'arguments' object has no attribute 'posonlyargs'\n",
      "To silence this warning, decorate the function with @tf.autograph.experimental.do_not_convert\n",
      "128/128 [==============================] - 2s 17ms/step\n",
      "Training Accuracy : 0.8729739785194397\n",
      "Validation Accuracy : 0.8524429202079773\n",
      "Precision : 0.7976710334788938\n",
      "Recall : 0.5425742574257426\n",
      "F1 Score : 0.6458456098998233\n"
     ]
    },
    {
     "data": {
      "image/png": "[encoded data removed]",
      "text/plain": [
       "<Figure size 864x360 with 2 Axes>"
      ]
     },
     "metadata": {
      "needs_background": "light"
     },
     "output_type": "display_data"
    }
   ],
   "source": [
    "y_pred=model.predict(x_test_tf_cn)\n",
    "ytrue = y_test.astype(int).tolist()\n",
    "y_pred2 = np.array((y_pred > 0.5).astype(int)[:,0])\n",
    "precision = precision_score(ytrue, y_pred2)\n",
    "recall = recall_score(ytrue, y_pred2)\n",
    "f1score = f1_score(ytrue, y_pred2)\n",
    "history.history['precision']=precision\n",
    "history.history['recall']=recall\n",
    "history.history['f1score']=f1score\n",
    "hist_df = pd.DataFrame(history.history) \n",
    "hist_df.to_csv(\"outputs//fakenewsnet_dl_tfidf//model_FAKENEWSNET_CNN_TFIDF_V2_history.csv\")\n",
    "plot_loss_and_acc_from_hist2(hist_df)"
   ]
  },
  {
   "cell_type": "markdown",
   "id": "fca9e089",
   "metadata": {},
   "source": [
    "#### Score metrics of the model"
   ]
  },
  {
   "cell_type": "code",
   "execution_count": 24,
   "id": "6f89ed14",
   "metadata": {},
   "outputs": [
    {
     "name": "stdout",
     "output_type": "stream",
     "text": [
      "Accuracy score : 0.8524429167689663\n",
      "precision = 0.7976710334788938\n",
      "recall = 0.5425742574257426\n",
      "f1score = 0.6458456098998233\n",
      "[[2924  139]\n",
      " [ 462  548]]\n",
      "              precision    recall  f1-score   support\n",
      "\n",
      "           0       0.86      0.95      0.91      3063\n",
      "           1       0.80      0.54      0.65      1010\n",
      "\n",
      "    accuracy                           0.85      4073\n",
      "   macro avg       0.83      0.75      0.78      4073\n",
      "weighted avg       0.85      0.85      0.84      4073\n",
      "\n"
     ]
    }
   ],
   "source": [
    "print(\"Accuracy score : {}\".format(accuracy_score(ytrue, y_pred2)))\n",
    "print('precision =',precision)\n",
    "print('recall =',recall)\n",
    "print('f1score =',f1score)\n",
    "print(confusion_matrix(ytrue, y_pred2))\n",
    "print(classification_report(ytrue, y_pred2))"
   ]
  },
  {
   "cell_type": "markdown",
   "id": "9fc0aadb",
   "metadata": {},
   "source": [
    "**Save the classification report to csv**"
   ]
  },
  {
   "cell_type": "code",
   "execution_count": 25,
   "id": "36cfda44",
   "metadata": {
    "scrolled": true
   },
   "outputs": [
    {
     "data": {
      "text/html": [
       "<div>\n",
       "<style scoped>\n",
       "    .dataframe tbody tr th:only-of-type {\n",
       "        vertical-align: middle;\n",
       "    }\n",
       "\n",
       "    .dataframe tbody tr th {\n",
       "        vertical-align: top;\n",
       "    }\n",
       "\n",
       "    .dataframe thead th {\n",
       "        text-align: right;\n",
       "    }\n",
       "</style>\n",
       "<table border=\"1\" class=\"dataframe\">\n",
       "  <thead>\n",
       "    <tr style=\"text-align: right;\">\n",
       "      <th></th>\n",
       "      <th>precision</th>\n",
       "      <th>recall</th>\n",
       "      <th>f1-score</th>\n",
       "      <th>support</th>\n",
       "    </tr>\n",
       "    <tr>\n",
       "      <th></th>\n",
       "      <th></th>\n",
       "      <th></th>\n",
       "      <th></th>\n",
       "      <th></th>\n",
       "    </tr>\n",
       "  </thead>\n",
       "  <tbody>\n",
       "    <tr>\n",
       "      <th>0</th>\n",
       "      <td>0.863556</td>\n",
       "      <td>0.954620</td>\n",
       "      <td>0.906807</td>\n",
       "      <td>3063.000000</td>\n",
       "    </tr>\n",
       "    <tr>\n",
       "      <th>1</th>\n",
       "      <td>0.797671</td>\n",
       "      <td>0.542574</td>\n",
       "      <td>0.645846</td>\n",
       "      <td>1010.000000</td>\n",
       "    </tr>\n",
       "    <tr>\n",
       "      <th>accuracy</th>\n",
       "      <td>0.852443</td>\n",
       "      <td>0.852443</td>\n",
       "      <td>0.852443</td>\n",
       "      <td>0.852443</td>\n",
       "    </tr>\n",
       "    <tr>\n",
       "      <th>macro avg</th>\n",
       "      <td>0.830613</td>\n",
       "      <td>0.748597</td>\n",
       "      <td>0.776326</td>\n",
       "      <td>4073.000000</td>\n",
       "    </tr>\n",
       "    <tr>\n",
       "      <th>weighted avg</th>\n",
       "      <td>0.847218</td>\n",
       "      <td>0.852443</td>\n",
       "      <td>0.842095</td>\n",
       "      <td>4073.000000</td>\n",
       "    </tr>\n",
       "  </tbody>\n",
       "</table>\n",
       "</div>"
      ],
      "text/plain": [
       "              precision    recall  f1-score      support\n",
       "                                                        \n",
       "0              0.863556  0.954620  0.906807  3063.000000\n",
       "1              0.797671  0.542574  0.645846  1010.000000\n",
       "accuracy       0.852443  0.852443  0.852443     0.852443\n",
       "macro avg      0.830613  0.748597  0.776326  4073.000000\n",
       "weighted avg   0.847218  0.852443  0.842095  4073.000000"
      ]
     },
     "execution_count": 25,
     "metadata": {},
     "output_type": "execute_result"
    }
   ],
   "source": [
    "report=classification_report(ytrue, y_pred2, output_dict=True)\n",
    "df = pd.DataFrame(report).transpose()\n",
    "df.to_csv(\"outputs//fakenewsnet_dl_tfidf//model_FAKENEWSNET_CNN_TFIDF_clasifctnrpt.csv\")\n",
    "df=pd.read_csv(\"outputs//fakenewsnet_dl_tfidf//model_FAKENEWSNET_CNN_TFIDF_clasifctnrpt.csv\")\n",
    "df=df.set_index('Unnamed: 0')\n",
    "df.index.rename(' ', inplace=True)\n",
    "df.head()"
   ]
  },
  {
   "cell_type": "markdown",
   "id": "cbdcb585",
   "metadata": {},
   "source": [
    "**Plot confusion matrix with normalised plot**"
   ]
  },
  {
   "cell_type": "code",
   "execution_count": 26,
   "id": "eafc6aa8",
   "metadata": {},
   "outputs": [
    {
     "data": {
      "image/png": "[encoded data removed]",
      "text/plain": [
       "<Figure size 360x300 with 2 Axes>"
      ]
     },
     "metadata": {
      "needs_background": "light"
     },
     "output_type": "display_data"
    },
    {
     "data": {
      "image/png": "[encoded data removed]",
      "text/plain": [
       "<Figure size 360x300 with 2 Axes>"
      ]
     },
     "metadata": {},
     "output_type": "display_data"
    }
   ],
   "source": [
    "cm=confusion_matrix(ytrue, y_pred2)\n",
    "path1=\"outputs//fakenewsnet_dl_tfidf//fakenewsnet_cnn_tfidf_cmtrx.png\"\n",
    "path2=\"outputs//fakenewsnet_dl_tfidf//fakenewsnet_cnn_tfidf_ncmtrx.png\"\n",
    "confusn_mtrx_plot(cm,path1)\n",
    "norm_confusn_mtrx_plot(cm,path2)"
   ]
  },
  {
   "cell_type": "markdown",
   "id": "2516cce3",
   "metadata": {},
   "source": [
    "-----------------------------"
   ]
  },
  {
   "cell_type": "markdown",
   "id": "2b3d5484",
   "metadata": {},
   "source": [
    "### Using LSTM\n",
    "\n",
    "#### Checkpoint and EarlyStopping configuration setting for the model training"
   ]
  },
  {
   "cell_type": "code",
   "execution_count": 46,
   "id": "ec4c5015",
   "metadata": {},
   "outputs": [],
   "source": [
    "# Model Checkpoint and EarlyStopping\n",
    "filepath_lstm = \"outputs//fakenewsnet_dl_tfidf//model_FAKENEWSNET_LSTM_TFIDF_V2.h5\" # Location to get the model\n",
    "checkpoint_lstm = ModelCheckpoint(filepath_lstm, monitor='loss', verbose=1, save_best_only=True, mode='min')\n",
    "es_lstm = EarlyStopping(monitor='val_loss', patience=3,mode='min', verbose=1)\n",
    "callbacks_list_lstm = [checkpoint_lstm,es_lstm]"
   ]
  },
  {
   "cell_type": "markdown",
   "id": "4fd14e05",
   "metadata": {},
   "source": [
    "#### Build the model "
   ]
  },
  {
   "cell_type": "code",
   "execution_count": 47,
   "id": "4ae2f1f5",
   "metadata": {
    "scrolled": true
   },
   "outputs": [
    {
     "name": "stdout",
     "output_type": "stream",
     "text": [
      "Model: \"lstm_nn_model\"\n",
      "_________________________________________________________________\n",
      " Layer (type)                Output Shape              Param #   \n",
      "=================================================================\n",
      " lstm (LSTM)                 (None, 1, 512)            7194624   \n",
      "                                                                 \n",
      " batch_normalization (BatchN  (None, 1, 512)           2048      \n",
      " ormalization)                                                   \n",
      "                                                                 \n",
      " dense (Dense)               (None, 1, 512)            262656    \n",
      "                                                                 \n",
      " batch_normalization_1 (Batc  (None, 1, 512)           2048      \n",
      " hNormalization)                                                 \n",
      "                                                                 \n",
      " dropout (Dropout)           (None, 1, 512)            0         \n",
      "                                                                 \n",
      " dense_1 (Dense)             (None, 1, 64)             32832     \n",
      "                                                                 \n",
      " batch_normalization_2 (Batc  (None, 1, 64)            256       \n",
      " hNormalization)                                                 \n",
      "                                                                 \n",
      " dropout_1 (Dropout)         (None, 1, 64)             0         \n",
      "                                                                 \n",
      " dense_2 (Dense)             (None, 1, 1)              65        \n",
      "                                                                 \n",
      "=================================================================\n",
      "Total params: 7,494,529\n",
      "Trainable params: 7,492,353\n",
      "Non-trainable params: 2,176\n",
      "_________________________________________________________________\n"
     ]
    }
   ],
   "source": [
    "lstm_model = Sequential(name = 'lstm_nn_model')\n",
    "lstm_model.add(LSTM(512, input_shape=(1, max_features),return_sequences=True,dropout=0.2,recurrent_dropout=0.2))\n",
    "lstm_model.add(BatchNormalization())\n",
    "lstm_model.add(Dense(512, activation='relu'))\n",
    "lstm_model.add(BatchNormalization())\n",
    "lstm_model.add(Dropout(0.2))\n",
    "lstm_model.add(Dense(64, activation='relu'))\n",
    "lstm_model.add(BatchNormalization())\n",
    "lstm_model.add(Dropout(0.2))\n",
    "lstm_model.add(Dense(1,activation='sigmoid'))\n",
    "lstm_model.compile(loss='binary_crossentropy',optimizer=tf.keras.optimizers.Adam(2e-5),metrics=['accuracy'])\n",
    "lstm_model.summary()"
   ]
  },
  {
   "cell_type": "code",
   "execution_count": 48,
   "id": "6711797a",
   "metadata": {},
   "outputs": [],
   "source": [
    "clear_session()"
   ]
  },
  {
   "cell_type": "markdown",
   "id": "b813e5e1",
   "metadata": {},
   "source": [
    "#### Model Training"
   ]
  },
  {
   "cell_type": "code",
   "execution_count": 49,
   "id": "e8e37968",
   "metadata": {},
   "outputs": [
    {
     "name": "stdout",
     "output_type": "stream",
     "text": [
      "Epoch 1/5\n",
      "WARNING:tensorflow:AutoGraph could not transform <function Model.make_train_function.<locals>.train_function at 0x2b37ccb76620> and will run it as-is.\n",
      "Please report this to the TensorFlow team. When filing the bug, set the verbosity to 10 (on Linux, `export AUTOGRAPH_VERBOSITY=10`) and attach the full output.\n",
      "Cause: 'arguments' object has no attribute 'posonlyargs'\n",
      "To silence this warning, decorate the function with @tf.autograph.experimental.do_not_convert\n",
      "WARNING: AutoGraph could not transform <function Model.make_train_function.<locals>.train_function at 0x2b37ccb76620> and will run it as-is.\n",
      "Please report this to the TensorFlow team. When filing the bug, set the verbosity to 10 (on Linux, `export AUTOGRAPH_VERBOSITY=10`) and attach the full output.\n",
      "Cause: 'arguments' object has no attribute 'posonlyargs'\n",
      "To silence this warning, decorate the function with @tf.autograph.experimental.do_not_convert\n",
      "406/408 [============================>.] - ETA: 0s - loss: 0.7818 - accuracy: 0.5804WARNING:tensorflow:AutoGraph could not transform <function Model.make_test_function.<locals>.test_function at 0x2b37ccbfa8c8> and will run it as-is.\n",
      "Please report this to the TensorFlow team. When filing the bug, set the verbosity to 10 (on Linux, `export AUTOGRAPH_VERBOSITY=10`) and attach the full output.\n",
      "Cause: 'arguments' object has no attribute 'posonlyargs'\n",
      "To silence this warning, decorate the function with @tf.autograph.experimental.do_not_convert\n",
      "WARNING: AutoGraph could not transform <function Model.make_test_function.<locals>.test_function at 0x2b37ccbfa8c8> and will run it as-is.\n",
      "Please report this to the TensorFlow team. When filing the bug, set the verbosity to 10 (on Linux, `export AUTOGRAPH_VERBOSITY=10`) and attach the full output.\n",
      "Cause: 'arguments' object has no attribute 'posonlyargs'\n",
      "To silence this warning, decorate the function with @tf.autograph.experimental.do_not_convert\n",
      "\n",
      "Epoch 1: loss improved from inf to 0.78273, saving model to outputs//fakenewsnet_dl_tfidf/model_FAKENEWSNET_LSTM_TFIDF_V2.h5\n",
      "408/408 [==============================] - 11s 21ms/step - loss: 0.7827 - accuracy: 0.5799 - val_loss: 0.6687 - val_accuracy: 0.6087\n",
      "Epoch 2/5\n",
      "406/408 [============================>.] - ETA: 0s - loss: 0.6264 - accuracy: 0.6791\n",
      "Epoch 2: loss improved from 0.78273 to 0.62676, saving model to outputs//fakenewsnet_dl_tfidf/model_FAKENEWSNET_LSTM_TFIDF_V2.h5\n",
      "408/408 [==============================] - 9s 22ms/step - loss: 0.6268 - accuracy: 0.6789 - val_loss: 0.5453 - val_accuracy: 0.7388\n",
      "Epoch 3/5\n",
      "406/408 [============================>.] - ETA: 0s - loss: 0.5728 - accuracy: 0.7201\n",
      "Epoch 3: loss improved from 0.62676 to 0.57303, saving model to outputs//fakenewsnet_dl_tfidf/model_FAKENEWSNET_LSTM_TFIDF_V2.h5\n",
      "408/408 [==============================] - 9s 22ms/step - loss: 0.5730 - accuracy: 0.7200 - val_loss: 0.5163 - val_accuracy: 0.7673\n",
      "Epoch 4/5\n",
      "406/408 [============================>.] - ETA: 0s - loss: 0.5239 - accuracy: 0.7526\n",
      "Epoch 4: loss improved from 0.57303 to 0.52327, saving model to outputs//fakenewsnet_dl_tfidf/model_FAKENEWSNET_LSTM_TFIDF_V2.h5\n",
      "408/408 [==============================] - 9s 22ms/step - loss: 0.5233 - accuracy: 0.7529 - val_loss: 0.4843 - val_accuracy: 0.7922\n",
      "Epoch 5/5\n",
      "408/408 [==============================] - ETA: 0s - loss: 0.4784 - accuracy: 0.7813\n",
      "Epoch 5: loss improved from 0.52327 to 0.47838, saving model to outputs//fakenewsnet_dl_tfidf/model_FAKENEWSNET_LSTM_TFIDF_V2.h5\n",
      "408/408 [==============================] - 9s 22ms/step - loss: 0.4784 - accuracy: 0.7813 - val_loss: 0.4699 - val_accuracy: 0.8029\n"
     ]
    }
   ],
   "source": [
    "warnings.filterwarnings('ignore')\n",
    "history_lstm=lstm_model.fit(x_train_tf_dl, y_train, epochs=5, batch_size=32,\n",
    "                            validation_split=0.2, callbacks=callbacks_list_lstm)"
   ]
  },
  {
   "cell_type": "markdown",
   "id": "bbb0c79c",
   "metadata": {},
   "source": [
    "#### Evaluate the predictions made based on test data and calculate and plot the accuracy score metrics  "
   ]
  },
  {
   "cell_type": "code",
   "execution_count": 50,
   "id": "c9da0eec",
   "metadata": {},
   "outputs": [
    {
     "name": "stdout",
     "output_type": "stream",
     "text": [
      "WARNING:tensorflow:AutoGraph could not transform <function Model.make_predict_function.<locals>.predict_function at 0x2b37cc2f6c80> and will run it as-is.\n",
      "Please report this to the TensorFlow team. When filing the bug, set the verbosity to 10 (on Linux, `export AUTOGRAPH_VERBOSITY=10`) and attach the full output.\n",
      "Cause: 'arguments' object has no attribute 'posonlyargs'\n",
      "To silence this warning, decorate the function with @tf.autograph.experimental.do_not_convert\n",
      "WARNING: AutoGraph could not transform <function Model.make_predict_function.<locals>.predict_function at 0x2b37cc2f6c80> and will run it as-is.\n",
      "Please report this to the TensorFlow team. When filing the bug, set the verbosity to 10 (on Linux, `export AUTOGRAPH_VERBOSITY=10`) and attach the full output.\n",
      "Cause: 'arguments' object has no attribute 'posonlyargs'\n",
      "To silence this warning, decorate the function with @tf.autograph.experimental.do_not_convert\n",
      "128/128 [==============================] - 1s 6ms/step\n",
      "Training Accuracy : 0.7812739610671997\n",
      "Validation Accuracy : 0.8029465675354004\n",
      "Precision : 0.5670023237800155\n",
      "Recall : 0.7247524752475247\n",
      "F1 Score : 0.636245110821382\n"
     ]
    },
    {
     "data": {
      "image/png": "[encoded data removed]",
      "text/plain": [
       "<Figure size 864x360 with 2 Axes>"
      ]
     },
     "metadata": {},
     "output_type": "display_data"
    }
   ],
   "source": [
    "warnings.filterwarnings('ignore')\n",
    "y_pred=lstm_model.predict(x_test_tf_dl)\n",
    "ytrue = y_test.astype(int).tolist()\n",
    "y_pred2 = np.array((y_pred > 0.5).astype(int)[:,0])\n",
    "precision = precision_score(ytrue, y_pred2)\n",
    "recall = recall_score(ytrue, y_pred2)\n",
    "f1score = f1_score(ytrue, y_pred2)\n",
    "history_lstm.history['precision']=precision\n",
    "history_lstm.history['recall']=recall\n",
    "history_lstm.history['f1score']=f1score\n",
    "hist_df = pd.DataFrame(history_lstm.history) \n",
    "hist_df.to_csv(\"outputs//fakenewsnet_dl_tfidf//model_FAKENEWSNET_LSTM_TFIDF_V2_history.csv\")\n",
    "plot_loss_and_acc_from_hist2(hist_df)"
   ]
  },
  {
   "cell_type": "markdown",
   "id": "fae0e4b8",
   "metadata": {},
   "source": [
    "#### Score metrics of the model"
   ]
  },
  {
   "cell_type": "code",
   "execution_count": 51,
   "id": "fab035f8",
   "metadata": {},
   "outputs": [
    {
     "name": "stdout",
     "output_type": "stream",
     "text": [
      "Accuracy score : 0.7945003682789099\n",
      "precision = 0.5670023237800155\n",
      "recall = 0.7247524752475247\n",
      "f1score = 0.636245110821382\n",
      "[[2504  559]\n",
      " [ 278  732]]\n",
      "              precision    recall  f1-score   support\n",
      "\n",
      "           0       0.90      0.82      0.86      3063\n",
      "           1       0.57      0.72      0.64      1010\n",
      "\n",
      "    accuracy                           0.79      4073\n",
      "   macro avg       0.73      0.77      0.75      4073\n",
      "weighted avg       0.82      0.79      0.80      4073\n",
      "\n"
     ]
    }
   ],
   "source": [
    "print(\"Accuracy score : {}\".format(accuracy_score(ytrue, y_pred2)))\n",
    "print('precision =',precision)\n",
    "print('recall =',recall)\n",
    "print('f1score =',f1score)\n",
    "print(confusion_matrix(ytrue, y_pred2))\n",
    "print(classification_report(ytrue, y_pred2))"
   ]
  },
  {
   "cell_type": "markdown",
   "id": "ec757bca",
   "metadata": {},
   "source": [
    "**Save the classification report to csv**"
   ]
  },
  {
   "cell_type": "code",
   "execution_count": 52,
   "id": "c83bbc3c",
   "metadata": {},
   "outputs": [
    {
     "data": {
      "text/html": [
       "<div>\n",
       "<style scoped>\n",
       "    .dataframe tbody tr th:only-of-type {\n",
       "        vertical-align: middle;\n",
       "    }\n",
       "\n",
       "    .dataframe tbody tr th {\n",
       "        vertical-align: top;\n",
       "    }\n",
       "\n",
       "    .dataframe thead th {\n",
       "        text-align: right;\n",
       "    }\n",
       "</style>\n",
       "<table border=\"1\" class=\"dataframe\">\n",
       "  <thead>\n",
       "    <tr style=\"text-align: right;\">\n",
       "      <th></th>\n",
       "      <th>precision</th>\n",
       "      <th>recall</th>\n",
       "      <th>f1-score</th>\n",
       "      <th>support</th>\n",
       "    </tr>\n",
       "    <tr>\n",
       "      <th></th>\n",
       "      <th></th>\n",
       "      <th></th>\n",
       "      <th></th>\n",
       "      <th></th>\n",
       "    </tr>\n",
       "  </thead>\n",
       "  <tbody>\n",
       "    <tr>\n",
       "      <th>0</th>\n",
       "      <td>0.900072</td>\n",
       "      <td>0.817499</td>\n",
       "      <td>0.856801</td>\n",
       "      <td>3063.0000</td>\n",
       "    </tr>\n",
       "    <tr>\n",
       "      <th>1</th>\n",
       "      <td>0.567002</td>\n",
       "      <td>0.724752</td>\n",
       "      <td>0.636245</td>\n",
       "      <td>1010.0000</td>\n",
       "    </tr>\n",
       "    <tr>\n",
       "      <th>accuracy</th>\n",
       "      <td>0.794500</td>\n",
       "      <td>0.794500</td>\n",
       "      <td>0.794500</td>\n",
       "      <td>0.7945</td>\n",
       "    </tr>\n",
       "    <tr>\n",
       "      <th>macro avg</th>\n",
       "      <td>0.733537</td>\n",
       "      <td>0.771126</td>\n",
       "      <td>0.746523</td>\n",
       "      <td>4073.0000</td>\n",
       "    </tr>\n",
       "    <tr>\n",
       "      <th>weighted avg</th>\n",
       "      <td>0.817479</td>\n",
       "      <td>0.794500</td>\n",
       "      <td>0.802109</td>\n",
       "      <td>4073.0000</td>\n",
       "    </tr>\n",
       "  </tbody>\n",
       "</table>\n",
       "</div>"
      ],
      "text/plain": [
       "              precision    recall  f1-score    support\n",
       "                                                      \n",
       "0              0.900072  0.817499  0.856801  3063.0000\n",
       "1              0.567002  0.724752  0.636245  1010.0000\n",
       "accuracy       0.794500  0.794500  0.794500     0.7945\n",
       "macro avg      0.733537  0.771126  0.746523  4073.0000\n",
       "weighted avg   0.817479  0.794500  0.802109  4073.0000"
      ]
     },
     "execution_count": 52,
     "metadata": {},
     "output_type": "execute_result"
    }
   ],
   "source": [
    "report=classification_report(ytrue, y_pred2, output_dict=True)\n",
    "df = pd.DataFrame(report).transpose()\n",
    "df.to_csv(\"outputs//fakenewsnet_dl_tfidf//model_FAKENEWSNET_LSTM_clasifctnrpt.csv\")\n",
    "df=pd.read_csv(\"outputs//fakenewsnet_dl_tfidf//model_FAKENEWSNET_LSTM_clasifctnrpt.csv\")\n",
    "df=df.set_index('Unnamed: 0')\n",
    "df.index.rename(' ', inplace=True)\n",
    "df.head()"
   ]
  },
  {
   "cell_type": "markdown",
   "id": "fcbde4e5",
   "metadata": {},
   "source": [
    "**Plot confusion matrix with normalised plot**"
   ]
  },
  {
   "cell_type": "code",
   "execution_count": 53,
   "id": "8dca1839",
   "metadata": {},
   "outputs": [
    {
     "data": {
      "image/png": "[encoded data removed]",
      "text/plain": [
       "<Figure size 360x300 with 2 Axes>"
      ]
     },
     "metadata": {},
     "output_type": "display_data"
    },
    {
     "data": {
      "image/png": "[encoded data removed]",
      "text/plain": [
       "<Figure size 360x300 with 2 Axes>"
      ]
     },
     "metadata": {},
     "output_type": "display_data"
    }
   ],
   "source": [
    "cm=confusion_matrix(ytrue, y_pred2)\n",
    "path1=\"outputs//fakenewsnet_dl_tfidf//fakenewsnet_lstm_tfidf_cmtrx.png\"\n",
    "path2=\"outputs//fakenewsnet_dl_tfidf//fakenewsnet_lstm_tfidf_ncmtrx.png\"\n",
    "confusn_mtrx_plot(cm,path1)\n",
    "norm_confusn_mtrx_plot(cm,path2)"
   ]
  },
  {
   "cell_type": "code",
   "execution_count": null,
   "id": "42b82eab",
   "metadata": {},
   "outputs": [],
   "source": []
  },
  {
   "cell_type": "code",
   "execution_count": null,
   "id": "d927ab73",
   "metadata": {},
   "outputs": [],
   "source": []
  },
  {
   "cell_type": "markdown",
   "id": "9c9283d9",
   "metadata": {},
   "source": [
    "### Using BILSTM\n",
    "\n",
    "#### Checkpoint and EarlyStopping configuration setting for the model training"
   ]
  },
  {
   "cell_type": "code",
   "execution_count": 54,
   "id": "30e6a60f",
   "metadata": {},
   "outputs": [],
   "source": [
    "# Model Checkpoint and EarlyStopping\n",
    "filepath_bilstm = \"outputs//fakenewsnet_dl_tfidf//model_FAKENEWSNET_BILSTM_TFIDF_V2.h5\" # Location to get the model\n",
    "checkpoint_bilstm = ModelCheckpoint(filepath_bilstm, monitor='loss', verbose=1, save_best_only=True, mode='min')\n",
    "es_bilstm = EarlyStopping(monitor='val_loss', patience=3,mode='min', verbose=1)\n",
    "callbacks_list_bilstm = [checkpoint_bilstm,es_bilstm]"
   ]
  },
  {
   "cell_type": "markdown",
   "id": "cf7f4d89",
   "metadata": {},
   "source": [
    "#### Build the model "
   ]
  },
  {
   "cell_type": "code",
   "execution_count": 55,
   "id": "4afd0980",
   "metadata": {},
   "outputs": [],
   "source": [
    "bilstm_model = Sequential(name = 'bilstm_nn_model')\n",
    "\n",
    "bilstm_model.add(Bidirectional(LSTM(512,input_shape=(1, max_features),return_sequences=True,\n",
    "                                    dropout=0.2,recurrent_dropout=0.2)))\n",
    "\n",
    "bilstm_model.add(BatchNormalization())\n",
    "bilstm_model.add(Dense(512, activation='relu'))\n",
    "bilstm_model.add(BatchNormalization())\n",
    "bilstm_model.add(Dropout(0.2))\n",
    "bilstm_model.add(Dense(64, activation='relu'))\n",
    "bilstm_model.add(BatchNormalization())\n",
    "bilstm_model.add(Dropout(0.2))\n",
    "bilstm_model.add(Dense(1,activation='sigmoid'))\n",
    "bilstm_model.compile(loss='binary_crossentropy',optimizer=tf.keras.optimizers.Adam(2e-5),metrics=['accuracy'])\n",
    "#bilstm_model.build(input_shape=(1, max_features)) \n",
    "#bilstm_model.summary()"
   ]
  },
  {
   "cell_type": "code",
   "execution_count": 56,
   "id": "6d39bfa0",
   "metadata": {},
   "outputs": [],
   "source": [
    "clear_session()"
   ]
  },
  {
   "cell_type": "markdown",
   "id": "7ce7959a",
   "metadata": {},
   "source": [
    "#### Model Training"
   ]
  },
  {
   "cell_type": "code",
   "execution_count": 57,
   "id": "432b32d5",
   "metadata": {
    "scrolled": true
   },
   "outputs": [
    {
     "name": "stdout",
     "output_type": "stream",
     "text": [
      "Epoch 1/5\n",
      "WARNING:tensorflow:AutoGraph could not transform <function Model.make_train_function.<locals>.train_function at 0x2b37cc2a3e18> and will run it as-is.\n",
      "Please report this to the TensorFlow team. When filing the bug, set the verbosity to 10 (on Linux, `export AUTOGRAPH_VERBOSITY=10`) and attach the full output.\n",
      "Cause: 'arguments' object has no attribute 'posonlyargs'\n",
      "To silence this warning, decorate the function with @tf.autograph.experimental.do_not_convert\n",
      "WARNING: AutoGraph could not transform <function Model.make_train_function.<locals>.train_function at 0x2b37cc2a3e18> and will run it as-is.\n",
      "Please report this to the TensorFlow team. When filing the bug, set the verbosity to 10 (on Linux, `export AUTOGRAPH_VERBOSITY=10`) and attach the full output.\n",
      "Cause: 'arguments' object has no attribute 'posonlyargs'\n",
      "To silence this warning, decorate the function with @tf.autograph.experimental.do_not_convert\n",
      "408/408 [==============================] - ETA: 0s - loss: 0.7890 - accuracy: 0.5947WARNING:tensorflow:AutoGraph could not transform <function Model.make_test_function.<locals>.test_function at 0x2b380297ed08> and will run it as-is.\n",
      "Please report this to the TensorFlow team. When filing the bug, set the verbosity to 10 (on Linux, `export AUTOGRAPH_VERBOSITY=10`) and attach the full output.\n",
      "Cause: 'arguments' object has no attribute 'posonlyargs'\n",
      "To silence this warning, decorate the function with @tf.autograph.experimental.do_not_convert\n",
      "WARNING: AutoGraph could not transform <function Model.make_test_function.<locals>.test_function at 0x2b380297ed08> and will run it as-is.\n",
      "Please report this to the TensorFlow team. When filing the bug, set the verbosity to 10 (on Linux, `export AUTOGRAPH_VERBOSITY=10`) and attach the full output.\n",
      "Cause: 'arguments' object has no attribute 'posonlyargs'\n",
      "To silence this warning, decorate the function with @tf.autograph.experimental.do_not_convert\n",
      "\n",
      "Epoch 1: loss improved from inf to 0.78899, saving model to outputs//fakenewsnet_dl_tfidf/model_FAKENEWSNET_BILSTM_TFIDF_V2.h5\n",
      "408/408 [==============================] - 15s 27ms/step - loss: 0.7890 - accuracy: 0.5947 - val_loss: 0.7518 - val_accuracy: 0.3229\n",
      "Epoch 2/5\n",
      "406/408 [============================>.] - ETA: 0s - loss: 0.6160 - accuracy: 0.6977\n",
      "Epoch 2: loss improved from 0.78899 to 0.61581, saving model to outputs//fakenewsnet_dl_tfidf/model_FAKENEWSNET_BILSTM_TFIDF_V2.h5\n",
      "408/408 [==============================] - 10s 25ms/step - loss: 0.6158 - accuracy: 0.6979 - val_loss: 0.5326 - val_accuracy: 0.7489\n",
      "Epoch 3/5\n",
      "406/408 [============================>.] - ETA: 0s - loss: 0.5442 - accuracy: 0.7436\n",
      "Epoch 3: loss improved from 0.61581 to 0.54431, saving model to outputs//fakenewsnet_dl_tfidf/model_FAKENEWSNET_BILSTM_TFIDF_V2.h5\n",
      "408/408 [==============================] - 10s 25ms/step - loss: 0.5443 - accuracy: 0.7434 - val_loss: 0.5008 - val_accuracy: 0.7815\n",
      "Epoch 4/5\n",
      "408/408 [==============================] - ETA: 0s - loss: 0.4910 - accuracy: 0.7777\n",
      "Epoch 4: loss improved from 0.54431 to 0.49098, saving model to outputs//fakenewsnet_dl_tfidf/model_FAKENEWSNET_BILSTM_TFIDF_V2.h5\n",
      "408/408 [==============================] - 10s 25ms/step - loss: 0.4910 - accuracy: 0.7777 - val_loss: 0.4711 - val_accuracy: 0.8036\n",
      "Epoch 5/5\n",
      "406/408 [============================>.] - ETA: 0s - loss: 0.4467 - accuracy: 0.8057\n",
      "Epoch 5: loss improved from 0.49098 to 0.44685, saving model to outputs//fakenewsnet_dl_tfidf/model_FAKENEWSNET_BILSTM_TFIDF_V2.h5\n",
      "408/408 [==============================] - 11s 26ms/step - loss: 0.4469 - accuracy: 0.8054 - val_loss: 0.4553 - val_accuracy: 0.8149\n"
     ]
    }
   ],
   "source": [
    "warnings.filterwarnings('ignore')\n",
    "history_bilstm=bilstm_model.fit(x_train_tf_dl, y_train, epochs=5, batch_size=32,\n",
    "                            validation_split=0.2, callbacks=callbacks_list_bilstm)"
   ]
  },
  {
   "cell_type": "markdown",
   "id": "d45707e2",
   "metadata": {},
   "source": [
    "#### Evaluate the predictions made based on test data and calculate and plot the accuracy score metrics  "
   ]
  },
  {
   "cell_type": "code",
   "execution_count": 58,
   "id": "bd000a09",
   "metadata": {},
   "outputs": [
    {
     "name": "stdout",
     "output_type": "stream",
     "text": [
      "WARNING:tensorflow:AutoGraph could not transform <function Model.make_predict_function.<locals>.predict_function at 0x2b37cc2a38c8> and will run it as-is.\n",
      "Please report this to the TensorFlow team. When filing the bug, set the verbosity to 10 (on Linux, `export AUTOGRAPH_VERBOSITY=10`) and attach the full output.\n",
      "Cause: 'arguments' object has no attribute 'posonlyargs'\n",
      "To silence this warning, decorate the function with @tf.autograph.experimental.do_not_convert\n",
      "WARNING: AutoGraph could not transform <function Model.make_predict_function.<locals>.predict_function at 0x2b37cc2a38c8> and will run it as-is.\n",
      "Please report this to the TensorFlow team. When filing the bug, set the verbosity to 10 (on Linux, `export AUTOGRAPH_VERBOSITY=10`) and attach the full output.\n",
      "Cause: 'arguments' object has no attribute 'posonlyargs'\n",
      "To silence this warning, decorate the function with @tf.autograph.experimental.do_not_convert\n",
      "128/128 [==============================] - 1s 8ms/step\n",
      "Training Accuracy : 0.8054489493370056\n",
      "Validation Accuracy : 0.8149171471595764\n",
      "Precision : 0.597187758478081\n",
      "Recall : 0.7148514851485148\n",
      "F1 Score : 0.6507435781883731\n"
     ]
    },
    {
     "data": {
      "image/png": "[encoded data removed]",
      "text/plain": [
       "<Figure size 864x360 with 2 Axes>"
      ]
     },
     "metadata": {},
     "output_type": "display_data"
    }
   ],
   "source": [
    "warnings.filterwarnings('ignore')\n",
    "y_pred=bilstm_model.predict(x_test_tf_dl)\n",
    "ytrue = y_test.astype(int).tolist()\n",
    "y_pred2 = np.array((y_pred > 0.5).astype(int)[:,0])\n",
    "precision = precision_score(ytrue, y_pred2)\n",
    "recall = recall_score(ytrue, y_pred2)\n",
    "f1score = f1_score(ytrue, y_pred2)\n",
    "history_bilstm.history['precision']=precision\n",
    "history_bilstm.history['recall']=recall\n",
    "history_bilstm.history['f1score']=f1score\n",
    "hist_df = pd.DataFrame(history_bilstm.history) \n",
    "hist_df.to_csv(\"outputs//fakenewsnet_dl_tfidf//model_FAKENEWSNET_BILSTM_TFIDF_V2_history.csv\")\n",
    "plot_loss_and_acc_from_hist2(hist_df)"
   ]
  },
  {
   "cell_type": "markdown",
   "id": "e342b288",
   "metadata": {},
   "source": [
    "#### Score metrics of the model"
   ]
  },
  {
   "cell_type": "code",
   "execution_count": 59,
   "id": "2642f5b9",
   "metadata": {
    "scrolled": true
   },
   "outputs": [
    {
     "name": "stdout",
     "output_type": "stream",
     "text": [
      "Accuracy score : 0.8097225632212128\n",
      "precision = 0.597187758478081\n",
      "recall = 0.7148514851485148\n",
      "f1score = 0.6507435781883731\n",
      "[[2576  487]\n",
      " [ 288  722]]\n",
      "              precision    recall  f1-score   support\n",
      "\n",
      "           0       0.90      0.84      0.87      3063\n",
      "           1       0.60      0.71      0.65      1010\n",
      "\n",
      "    accuracy                           0.81      4073\n",
      "   macro avg       0.75      0.78      0.76      4073\n",
      "weighted avg       0.82      0.81      0.82      4073\n",
      "\n"
     ]
    }
   ],
   "source": [
    "print(\"Accuracy score : {}\".format(accuracy_score(ytrue, y_pred2)))\n",
    "print('precision =',precision)\n",
    "print('recall =',recall)\n",
    "print('f1score =',f1score)\n",
    "print(confusion_matrix(ytrue, y_pred2))\n",
    "print(classification_report(ytrue, y_pred2))"
   ]
  },
  {
   "cell_type": "markdown",
   "id": "749bac70",
   "metadata": {},
   "source": [
    "**Save the classification report to csv**"
   ]
  },
  {
   "cell_type": "code",
   "execution_count": 60,
   "id": "4c966693",
   "metadata": {},
   "outputs": [
    {
     "data": {
      "text/html": [
       "<div>\n",
       "<style scoped>\n",
       "    .dataframe tbody tr th:only-of-type {\n",
       "        vertical-align: middle;\n",
       "    }\n",
       "\n",
       "    .dataframe tbody tr th {\n",
       "        vertical-align: top;\n",
       "    }\n",
       "\n",
       "    .dataframe thead th {\n",
       "        text-align: right;\n",
       "    }\n",
       "</style>\n",
       "<table border=\"1\" class=\"dataframe\">\n",
       "  <thead>\n",
       "    <tr style=\"text-align: right;\">\n",
       "      <th></th>\n",
       "      <th>precision</th>\n",
       "      <th>recall</th>\n",
       "      <th>f1-score</th>\n",
       "      <th>support</th>\n",
       "    </tr>\n",
       "    <tr>\n",
       "      <th></th>\n",
       "      <th></th>\n",
       "      <th></th>\n",
       "      <th></th>\n",
       "      <th></th>\n",
       "    </tr>\n",
       "  </thead>\n",
       "  <tbody>\n",
       "    <tr>\n",
       "      <th>0</th>\n",
       "      <td>0.899441</td>\n",
       "      <td>0.841006</td>\n",
       "      <td>0.869242</td>\n",
       "      <td>3063.000000</td>\n",
       "    </tr>\n",
       "    <tr>\n",
       "      <th>1</th>\n",
       "      <td>0.597188</td>\n",
       "      <td>0.714851</td>\n",
       "      <td>0.650744</td>\n",
       "      <td>1010.000000</td>\n",
       "    </tr>\n",
       "    <tr>\n",
       "      <th>accuracy</th>\n",
       "      <td>0.809723</td>\n",
       "      <td>0.809723</td>\n",
       "      <td>0.809723</td>\n",
       "      <td>0.809723</td>\n",
       "    </tr>\n",
       "    <tr>\n",
       "      <th>macro avg</th>\n",
       "      <td>0.748315</td>\n",
       "      <td>0.777929</td>\n",
       "      <td>0.759993</td>\n",
       "      <td>4073.000000</td>\n",
       "    </tr>\n",
       "    <tr>\n",
       "      <th>weighted avg</th>\n",
       "      <td>0.824490</td>\n",
       "      <td>0.809723</td>\n",
       "      <td>0.815060</td>\n",
       "      <td>4073.000000</td>\n",
       "    </tr>\n",
       "  </tbody>\n",
       "</table>\n",
       "</div>"
      ],
      "text/plain": [
       "              precision    recall  f1-score      support\n",
       "                                                        \n",
       "0              0.899441  0.841006  0.869242  3063.000000\n",
       "1              0.597188  0.714851  0.650744  1010.000000\n",
       "accuracy       0.809723  0.809723  0.809723     0.809723\n",
       "macro avg      0.748315  0.777929  0.759993  4073.000000\n",
       "weighted avg   0.824490  0.809723  0.815060  4073.000000"
      ]
     },
     "execution_count": 60,
     "metadata": {},
     "output_type": "execute_result"
    }
   ],
   "source": [
    "report=classification_report(ytrue, y_pred2, output_dict=True)\n",
    "df = pd.DataFrame(report).transpose()\n",
    "df.to_csv(\"outputs//fakenewsnet_dl_tfidf//model_FAKENEWSNET_BILSTM_clasifctnrpt.csv\")\n",
    "df=pd.read_csv(\"outputs//fakenewsnet_dl_tfidf//model_FAKENEWSNET_BILSTM_clasifctnrpt.csv\")\n",
    "df=df.set_index('Unnamed: 0')\n",
    "df.index.rename(' ', inplace=True)\n",
    "df.head()"
   ]
  },
  {
   "cell_type": "markdown",
   "id": "b514b254",
   "metadata": {},
   "source": [
    "**Plot confusion matrix with normalised plot**"
   ]
  },
  {
   "cell_type": "code",
   "execution_count": 61,
   "id": "a1cff6d8",
   "metadata": {},
   "outputs": [
    {
     "data": {
      "image/png": "[encoded data removed]",
      "text/plain": [
       "<Figure size 360x300 with 2 Axes>"
      ]
     },
     "metadata": {},
     "output_type": "display_data"
    },
    {
     "data": {
      "image/png": "[encoded data removed]",
      "text/plain": [
       "<Figure size 360x300 with 2 Axes>"
      ]
     },
     "metadata": {},
     "output_type": "display_data"
    }
   ],
   "source": [
    "cm=confusion_matrix(ytrue, y_pred2)\n",
    "path1=\"outputs//fakenewsnet_dl_tfidf//fakenewsnet_bilstm_tfidf_cmtrx.png\"\n",
    "path2=\"outputs//fakenewsnet_dl_tfidf//fakenewsnet_bilstm_tfidf_ncmtrx.png\"\n",
    "confusn_mtrx_plot(cm,path1)\n",
    "norm_confusn_mtrx_plot(cm,path2)"
   ]
  },
  {
   "cell_type": "code",
   "execution_count": null,
   "id": "0b7a1deb",
   "metadata": {},
   "outputs": [],
   "source": []
  }
 ],
 "metadata": {
  "kernelspec": {
   "display_name": "Python 3 (ipykernel)",
   "language": "python",
   "name": "python3"
  },
  "language_info": {
   "codemirror_mode": {
    "name": "ipython",
    "version": 3
   },
   "file_extension": ".py",
   "mimetype": "text/x-python",
   "name": "python",
   "nbconvert_exporter": "python",
   "pygments_lexer": "ipython3",
   "version": "3.7.0"
  }
 },
 "nbformat": 4,
 "nbformat_minor": 5
}
