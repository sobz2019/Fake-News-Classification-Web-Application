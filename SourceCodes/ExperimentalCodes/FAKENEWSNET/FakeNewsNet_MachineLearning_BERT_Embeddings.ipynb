{
 "cells": [
  {
   "cell_type": "markdown",
   "id": "a907245c",
   "metadata": {},
   "source": [
    "# Overview\n",
    "\n",
    "This notebook describes the different stages to build up different machine learning models trained over the dataset called **FakeNewsNet** by using pretrained **BERT** Embeddings, for the automatic fake news detection\n",
    "\n",
    "List of Machine Learning algorithms included \n",
    "- SVM\n",
    "- Random Forest\n",
    "- XgBoost\n",
    "- KNN\n",
    "- Naive Bayes\n",
    "- Logistic Regression\n",
    "\n"
   ]
  },
  {
   "cell_type": "markdown",
   "id": "65ef9026",
   "metadata": {},
   "source": [
    "## 1. Loading Python libraries"
   ]
  },
  {
   "cell_type": "code",
   "execution_count": null,
   "id": "5e6003e7",
   "metadata": {},
   "outputs": [],
   "source": [
    "import numpy as np\n",
    "import pandas as pd\n",
    "import warnings\n",
    "%matplotlib inline\n",
    "import matplotlib.pyplot as plt\n",
    "import seaborn as sns\n",
    "import glob\n",
    "import json\n",
    "import tensorflow_hub as hub\n",
    "import tensorflow_text\n",
    "import tldextract   \n",
    "from bs4 import BeautifulSoup\n",
    "from sklearn.model_selection import train_test_split\n",
    "from sklearn.metrics import classification_report,confusion_matrix,accuracy_score\n",
    "from sklearn.metrics import precision_score, recall_score\n",
    "from sklearn.pipeline import Pipeline\n",
    "from sklearn.metrics import roc_auc_score\n",
    "from sklearn.ensemble import RandomForestClassifier\n",
    "from sklearn.model_selection import RandomizedSearchCV\n",
    "from sklearn.svm import SVC\n",
    "from sklearn.neighbors import KNeighborsClassifier\n",
    "from sklearn.naive_bayes import GaussianNB\n",
    "from sklearn.naive_bayes import MultinomialNB\n",
    "from xgboost import XGBClassifier\n",
    "from sklearn.linear_model import LogisticRegression\n",
    "import re\n",
    "from sklearn.metrics import roc_curve, roc_auc_score\n",
    "from sklearn.feature_extraction.text import TfidfVectorizer,CountVectorizer\n",
    "from imblearn.over_sampling import SMOTE,ADASYN\n",
    "from collections import Counter\n",
    "import nltk \n",
    "import spacy\n",
    "nltk.download('stopwords')\n",
    "nltk.download('punkt')\n",
    "nltk.download('averaged_perceptron_tagger')\n",
    "nltk.download('wordnet')\n",
    "\n",
    "from wordcloud import WordCloud, ImageColorGenerator,STOPWORDS\n",
    "import gensim\n",
    "from gensim.parsing.preprocessing import STOPWORDS as gensim_stopwords\n",
    "import copy\n",
    "from nltk.stem import PorterStemmer\n",
    "from nltk.corpus import stopwords,wordnet\n",
    "from nltk.tokenize import word_tokenize\n",
    "from nltk.stem import WordNetLemmatizer,LancasterStemmer\n",
    "from sklearn.metrics import f1_score\n",
    "from pprint import pprint\n",
    "import warnings\n",
    "warnings.filterwarnings('ignore')\n",
    "pd.set_option('display.max_rows', 500)\n",
    "pd.set_option('display.max_columns', 500)\n",
    "pd.set_option('display.width', 1000)\n",
    "pd.set_option('display.expand_frame_repr', False)\n",
    "pd.set_option('display.max_colwidth', 1000)"
   ]
  },
  {
   "cell_type": "code",
   "execution_count": 2,
   "id": "43c52441",
   "metadata": {},
   "outputs": [],
   "source": [
    "pd.set_option('display.max_colwidth', 200)\n",
    "#pd.set_option('display.height', 500)\n",
    "pd.set_option('display.max_rows', 500)"
   ]
  },
  {
   "cell_type": "markdown",
   "id": "8b848e5a",
   "metadata": {},
   "source": [
    "***\n",
    "## 2. Dataset Cleaning and Preprocessing\n",
    "\n",
    "From the downloaded Fakenewsnet dataset, assign four variables with corresponding paths urls for the two class-labelled variables that should be in the common **input_dataset** folder as created for the whole experiment."
   ]
  },
  {
   "cell_type": "code",
   "execution_count": 3,
   "id": "3b0a257b",
   "metadata": {},
   "outputs": [],
   "source": [
    "foldr_pol_real = 'input_dataset//fakenewsnet//politifact//real//'\n",
    "foldr_pol_fake = 'input_dataset//fakenewsnet//politifact//fake//'\n",
    "foldr_gos_real = 'input_dataset//fakenewsnet//gossipcop//real//'\n",
    "foldr_gos_fake = 'input_dataset//fakenewsnet//gossipcop//fake//'"
   ]
  },
  {
   "cell_type": "markdown",
   "id": "08a654d7",
   "metadata": {},
   "source": [
    "*** \n",
    "\n",
    "### Function to extract or convert  attributes from JSON  News Content format to  dataframe\n",
    "\n",
    "This script is using to extract multiple attributes of the news content from the JSON file  and filtered the domain names from the url attribute  and created a new dataframe.\n"
   ]
  },
  {
   "cell_type": "code",
   "execution_count": 4,
   "id": "cef3289b",
   "metadata": {},
   "outputs": [],
   "source": [
    "def json_to_newscontent(datapath):\n",
    "    dictlist = []\n",
    "    cols = ['url','text','title','authors','num_images','domain']\n",
    "    folders = glob.glob(datapath+'/*')\n",
    "    for index, subdir in enumerate(folders):\n",
    "        path_file = glob.glob(subdir+'/*')\n",
    "        #check whether file path is valid or not\n",
    "        if len(path_file) == 1:\n",
    "            file = open(path_file[0]).read()\n",
    "            jsondata = json.loads(file)\n",
    "            thedict = {'url':jsondata['url'],'title':jsondata['title'],'text':jsondata['text'],\n",
    "                   'num_images':len(jsondata['images']),'authors':str(jsondata['authors'])}\n",
    "            extrt_url = tldextract.extract(jsondata['url'])\n",
    "            thedict['domain'] = extrt_url.domain\n",
    "            dictlist.append(thedict)\n",
    "    df=pd.DataFrame(dictlist,columns=cols)\n",
    "    return df"
   ]
  },
  {
   "cell_type": "markdown",
   "id": "ebb801c6",
   "metadata": {},
   "source": [
    "##### Converting seperate dataframes for Politfact fake and real and Gossip fake and real"
   ]
  },
  {
   "cell_type": "code",
   "execution_count": 5,
   "id": "d0dce67a",
   "metadata": {},
   "outputs": [
    {
     "name": "stdout",
     "output_type": "stream",
     "text": [
      "Execution time: 312.7435884475708 seconds\n"
     ]
    }
   ],
   "source": [
    "import time\n",
    "\n",
    "# get the start time\n",
    "st = time.time()\n",
    "\n",
    "df_pol_real = json_to_newscontent(foldr_pol_real)\n",
    "df_pol_fake = json_to_newscontent(foldr_pol_fake)\n",
    "df_gos_real = json_to_newscontent(foldr_gos_real)\n",
    "df_gos_fake = json_to_newscontent(foldr_gos_fake)\n",
    "\n",
    "# get the end time\n",
    "et = time.time()\n",
    "\n",
    "# get the execution time\n",
    "elapsed_time = et - st\n",
    "print('Execution time:', elapsed_time, 'seconds')"
   ]
  },
  {
   "cell_type": "markdown",
   "id": "13d21b74",
   "metadata": {},
   "source": [
    "##### Removing rows having  missing value in the column named 'TEXT'"
   ]
  },
  {
   "cell_type": "code",
   "execution_count": 6,
   "id": "1347127b",
   "metadata": {},
   "outputs": [],
   "source": [
    "## Cleaned dataset\n",
    "df_pol_real = df_pol_real.loc[df_pol_real[\"text\"] != '' ]\n",
    "df_pol_fake = df_pol_fake.loc[df_pol_fake[\"text\"] != '' ]\n",
    "df_gos_real = df_gos_real.loc[df_gos_real[\"text\"] != '' ]\n",
    "df_gos_fake = df_gos_fake.loc[df_gos_fake[\"text\"] != '' ]\n",
    "\n",
    "df_pol_real.reset_index(drop=True,inplace=True)\n",
    "df_pol_fake.reset_index(drop=True,inplace=True)\n",
    "df_gos_real.reset_index(drop=True,inplace=True)\n",
    "df_gos_fake.reset_index(drop=True,inplace=True)"
   ]
  },
  {
   "cell_type": "markdown",
   "id": "f1b4d3e7",
   "metadata": {},
   "source": [
    "Created one new column named **Category** to identify whether a news article belongs to Politics or Gossip related"
   ]
  },
  {
   "cell_type": "code",
   "execution_count": 7,
   "id": "ad3ee4c1",
   "metadata": {},
   "outputs": [],
   "source": [
    "df_pol_real['Category'] = 'Politics' \n",
    "df_pol_fake['Category'] = 'Politics'\n",
    "df_gos_real['Category'] = 'Gossips'\n",
    "df_gos_fake['Category'] = 'Gossips'"
   ]
  },
  {
   "cell_type": "markdown",
   "id": "6a425f0b",
   "metadata": {},
   "source": [
    "##### Add response variable 'class' based on True=1 or Fake=0"
   ]
  },
  {
   "cell_type": "code",
   "execution_count": 8,
   "id": "334a7825",
   "metadata": {},
   "outputs": [],
   "source": [
    "df_pol_real['class'] = 0 #True\n",
    "df_pol_fake['class'] = 1 #Fake\n",
    "df_gos_real['class'] = 0\n",
    "df_gos_fake['class'] = 1"
   ]
  },
  {
   "cell_type": "markdown",
   "id": "c8f0df54",
   "metadata": {},
   "source": [
    "##### Merging all the four dataframes into a single dataframe for the further steps"
   ]
  },
  {
   "cell_type": "code",
   "execution_count": 14,
   "id": "b06552bb",
   "metadata": {},
   "outputs": [],
   "source": [
    "df_list = [df_pol_real,df_pol_fake,df_gos_real,df_gos_fake]"
   ]
  },
  {
   "cell_type": "code",
   "execution_count": 15,
   "id": "247d7811",
   "metadata": {},
   "outputs": [],
   "source": [
    "#combine df's into one\n",
    "df = pd.concat(df_list).reset_index(drop=True)\n",
    "total_rows = df.shape[0]"
   ]
  },
  {
   "cell_type": "markdown",
   "id": "7ed064c5",
   "metadata": {},
   "source": [
    "#####  Next step is to create a new column named  'fulltext'  with the combination of 'title' and 'text' columns"
   ]
  },
  {
   "cell_type": "code",
   "execution_count": 17,
   "id": "6fb81e02",
   "metadata": {},
   "outputs": [
    {
     "data": {
      "text/plain": [
       "(20362, 9)"
      ]
     },
     "execution_count": 17,
     "metadata": {},
     "output_type": "execute_result"
    }
   ],
   "source": [
    "df['fulltext']=df['title']+'.'+df['text']\n",
    "df=df.dropna()\n",
    "df.shape"
   ]
  },
  {
   "cell_type": "markdown",
   "id": "64f3a097",
   "metadata": {},
   "source": [
    "#### Saving Fulldataset to csv format in  a location"
   ]
  },
  {
   "cell_type": "code",
   "execution_count": 3,
   "id": "d1592759",
   "metadata": {},
   "outputs": [],
   "source": [
    "df.to_csv('Updated//full_dataset.csv', index=False)"
   ]
  },
  {
   "cell_type": "markdown",
   "id": "0e5e00cc",
   "metadata": {},
   "source": [
    "#### Create a new dataframe by considering two columns 'fulltext' and 'class'"
   ]
  },
  {
   "cell_type": "code",
   "execution_count": 5,
   "id": "cae4c8d6",
   "metadata": {},
   "outputs": [],
   "source": [
    "filterd_df=df[['fulltext','class']]"
   ]
  },
  {
   "cell_type": "markdown",
   "id": "0f6fb6c4",
   "metadata": {},
   "source": [
    "***\n",
    "\n",
    "## 3. Model Training and Evaluation"
   ]
  },
  {
   "cell_type": "markdown",
   "id": "f08647ab",
   "metadata": {},
   "source": [
    "### BERT Embeddings\n",
    "\n",
    "Next step is extract features from the news text column using pretrained BERT embeddings model"
   ]
  },
  {
   "cell_type": "markdown",
   "id": "dfc99ad9",
   "metadata": {},
   "source": [
    "###### Create a pandas series dataframe which consists only fulltext column values"
   ]
  },
  {
   "cell_type": "code",
   "execution_count": 7,
   "id": "635f9552",
   "metadata": {},
   "outputs": [],
   "source": [
    "texts=filterd_df['fulltext']"
   ]
  },
  {
   "cell_type": "markdown",
   "id": "7afc8d2c",
   "metadata": {},
   "source": [
    "##### Download the Pretrained BERT embedding preprocessor and encoder  model from tensorflow hub"
   ]
  },
  {
   "cell_type": "code",
   "execution_count": null,
   "id": "d4e45e44",
   "metadata": {
    "scrolled": true
   },
   "outputs": [],
   "source": [
    "# bert preprocessor - https://tfhub.dev/tensorflow/bert_en_uncased_preprocess/3\n",
    "preprocessor = hub.KerasLayer(\"https://tfhub.dev/tensorflow/bert_en_uncased_preprocess/3\")\n",
    "# bert encoder - https://tfhub.dev/tensorflow/small_bert/bert_en_uncased_L-12_H-512_A-8/2\n",
    "encoder = hub.KerasLayer(\"https://tfhub.dev/tensorflow/small_bert/bert_en_uncased_L-12_H-512_A-8/2\",trainable=True)"
   ]
  },
  {
   "cell_type": "markdown",
   "id": "b9053c97",
   "metadata": {},
   "source": [
    "Text inputs need to be transformed to numeric token ids and arranged in several Tensors before being input to BERT.\n",
    "Since our dataset is huge and it is not possible to transform full data to numeric token ids , we can do the same by splitting the data into multiple chunks as like below"
   ]
  },
  {
   "cell_type": "markdown",
   "id": "6847be04",
   "metadata": {},
   "source": [
    "**First set** =  Create a first chunk of text series dataframe with first 10000 rows"
   ]
  },
  {
   "cell_type": "code",
   "execution_count": 9,
   "id": "ef52e4bf",
   "metadata": {},
   "outputs": [],
   "source": [
    "# preprocessing dataset  - First Set\n",
    "inputs = preprocessor(texts[0:10000])"
   ]
  },
  {
   "cell_type": "markdown",
   "id": "586881bf",
   "metadata": {},
   "source": [
    "After executing the above command, 3 outputs from the preprocessing will be generated that a BERT model would use (input_words_id, input_mask and input_type_ids).\n",
    "Then encode the output and convert it into bert model features which can be feed to the model"
   ]
  },
  {
   "cell_type": "code",
   "execution_count": null,
   "id": "16615588",
   "metadata": {},
   "outputs": [],
   "source": [
    "# feeding it to model for vectorization\n",
    "outputs = encoder(inputs)"
   ]
  },
  {
   "cell_type": "markdown",
   "id": "99e92b63",
   "metadata": {},
   "source": [
    "The above output BERT models return a map with 3 important keys: pooled_output, sequence_output, encoder_outputs:\n",
    "\n",
    "- pooled_output represents each input sequence as a whole. The shape is [batch_size, H]. \n",
    "- sequence_output represents each input token in the context. The shape is [batch_size, seq_length, H]. \n",
    "- encoder_outputs are the intermediate activations of the L Transformer block\n"
   ]
  },
  {
   "cell_type": "code",
   "execution_count": 12,
   "id": "64b1e0a8",
   "metadata": {},
   "outputs": [],
   "source": [
    "pooled_output = outputs[\"pooled_output\"]      # [batch_size, 512].\n",
    "sequence_output = outputs[\"sequence_output\"]  # [batch_size, seq_length, 512]."
   ]
  },
  {
   "cell_type": "markdown",
   "id": "4926d6d1",
   "metadata": {},
   "source": [
    "Then convert bert encoder sequence outputs to 1 dimension  and save the encoder sequence output to a dataframe for a single chunk.This same process need to do for all the splitted data chunks and then need to merge all the dataframes into a single one , which will feed to the model training"
   ]
  },
  {
   "cell_type": "code",
   "execution_count": 16,
   "id": "094c334a",
   "metadata": {},
   "outputs": [
    {
     "name": "stdout",
     "output_type": "stream",
     "text": [
      "values added in dataframe\n"
     ]
    }
   ],
   "source": [
    "# defining dataframe\n",
    "bertf_df1=pd.DataFrame()\n",
    "\n",
    "## Converting bert encoder sequence output to 1 dimension for ML Model training\n",
    "for i in range(0,len(sequence_output)):\n",
    "    b=sequence_output[i].numpy().sum(axis=0)\n",
    "    bertf_df1=bertf_df1.append(pd.Series(b),ignore_index=True)\n",
    "print('values added in dataframe')"
   ]
  },
  {
   "cell_type": "markdown",
   "id": "38ca45c5",
   "metadata": {},
   "source": [
    "**Second set** =  Create a next chunk of text series dataframe ranging from 10000 to 21000"
   ]
  },
  {
   "cell_type": "code",
   "execution_count": 19,
   "id": "f14a28da",
   "metadata": {},
   "outputs": [],
   "source": [
    "# preprocessing dataset  - Second Set\n",
    "inputs2 = preprocessor(texts[10000:21000])\n",
    "# feeding it to model for vectorization\n",
    "outputs2 = encoder(inputs2)"
   ]
  },
  {
   "cell_type": "code",
   "execution_count": 20,
   "id": "031213b7",
   "metadata": {},
   "outputs": [],
   "source": [
    "pooled_output2 = outputs2[\"pooled_output\"]      # [batch_size, 512].\n",
    "sequence_output2 = outputs2[\"sequence_output\"]  # [batch_size, seq_length, 512]."
   ]
  },
  {
   "cell_type": "code",
   "execution_count": 21,
   "id": "c4063ca5",
   "metadata": {},
   "outputs": [],
   "source": [
    "bertf_df2=pd.DataFrame()"
   ]
  },
  {
   "cell_type": "code",
   "execution_count": 22,
   "id": "7c5d95d9",
   "metadata": {},
   "outputs": [
    {
     "name": "stdout",
     "output_type": "stream",
     "text": [
      "values added in dataframe\n"
     ]
    }
   ],
   "source": [
    "for i in range(0,len(sequence_output2)):\n",
    "    b=sequence_output2[i].numpy().sum(axis=0)\n",
    "    bertf_df2=bertf_df2.append(pd.Series(b),ignore_index=True)\n",
    "print('values added in dataframe')"
   ]
  },
  {
   "cell_type": "markdown",
   "id": "47bad6e0",
   "metadata": {},
   "source": [
    "Merge all the bert feature dataframes into a single one , which will feed to the model training"
   ]
  },
  {
   "cell_type": "code",
   "execution_count": 27,
   "id": "276113ac",
   "metadata": {},
   "outputs": [],
   "source": [
    "# merging both props \n",
    "bertVectors_fulldf=pd.concat([bertf_df1,bertf_df2])\n",
    "bertVectors_fulldf.reset_index(drop=True,inplace=True)"
   ]
  },
  {
   "cell_type": "markdown",
   "id": "dce608be",
   "metadata": {},
   "source": [
    "Then add class label column in the merged bert feature dataframe and then this dataframe will go with train-test data splitting"
   ]
  },
  {
   "cell_type": "code",
   "execution_count": 28,
   "id": "5b53b6c7",
   "metadata": {},
   "outputs": [],
   "source": [
    "# adding class labels\n",
    "bertVectors_fulldf.insert(len(bertVectors_fulldf.columns),'class',filterd_df['class'])"
   ]
  },
  {
   "cell_type": "markdown",
   "id": "8c6d43e4",
   "metadata": {},
   "source": [
    "#### Convert Bertvectors dataframe  to CSV format  and store in a path"
   ]
  },
  {
   "cell_type": "code",
   "execution_count": null,
   "id": "a6f5d5bc",
   "metadata": {},
   "outputs": [],
   "source": [
    "bertVectors_fulldf.to_csv('Updated//bertVectors_fulldf.csv', index=False)"
   ]
  },
  {
   "cell_type": "markdown",
   "id": "a52b5229",
   "metadata": {},
   "source": [
    "#### Splitting bert vectors dataframe into features and class "
   ]
  },
  {
   "cell_type": "code",
   "execution_count": 18,
   "id": "6fa3f905",
   "metadata": {},
   "outputs": [],
   "source": [
    "X=bertVectors_fulldf.drop('class',axis=1)\n",
    "y=bertVectors_fulldf['class']"
   ]
  },
  {
   "cell_type": "markdown",
   "id": "dad8bdf3",
   "metadata": {},
   "source": [
    "#### Using StratifiedKFold technique to create X_train , X_test, Y_train and Y_test"
   ]
  },
  {
   "cell_type": "code",
   "execution_count": 19,
   "id": "8434f0c8",
   "metadata": {},
   "outputs": [],
   "source": [
    "from sklearn.model_selection import StratifiedKFold\n",
    "kfold = StratifiedKFold(n_splits=5, shuffle=True, random_state=1)"
   ]
  },
  {
   "cell_type": "code",
   "execution_count": 20,
   "id": "e798288f",
   "metadata": {},
   "outputs": [],
   "source": [
    "for i, j in kfold.split(X, y):\n",
    "    # select rows\n",
    "    X_train, X_test = X.iloc[i], X.iloc[j]\n",
    "    y_train, y_test = y.iloc[i], y.iloc[j]"
   ]
  },
  {
   "cell_type": "markdown",
   "id": "3c7bb9a4",
   "metadata": {},
   "source": [
    "####  User defined helper functions to find out the accuracy score metrics and creation of model comparison table\n",
    "\n",
    "\n",
    "- The function named **metrics** is using to calculate the score of the different metrics such as Accuracy, Precision, Recall, F1Score and ROC AUC score for the given classifier with test data\n",
    "\n",
    "\n",
    "- The function named **model_comparison_table** is using to create dataframe to list down all the classifiers with the metrics scores for the comparison purpose"
   ]
  },
  {
   "cell_type": "code",
   "execution_count": 22,
   "id": "0b832779",
   "metadata": {},
   "outputs": [],
   "source": [
    "import timeit\n",
    "from timeit import default_timer as timer\n",
    "from datetime import timedelta\n",
    " \n",
    "\n",
    "\n",
    "def metrics(X_test,y_test,clf):\n",
    "    predictions=clf.predict(X_test)\n",
    "    #predictions=(clf.predict_proba(X_test)[:,1] >= 0.3).astype(bool)\n",
    "    print(\"confusion_matrix :\")\n",
    "    print(confusion_matrix(y_test,predictions))\n",
    "    print(\"Accuracy Score :\")\n",
    "    print(accuracy_score(y_test, predictions))\n",
    "    print(\"Classification Report :\")\n",
    "    print(classification_report(y_test, predictions))\n",
    "    print(\"F1 score :\")\n",
    "    print(f1_score(y_test, predictions))\n",
    "    print(\"ROC AUC Score\")\n",
    "    y_pred_proba = clf.predict_proba(X_test)\n",
    "    print(roc_auc_score(y_test, y_pred_proba[:,1]) )\n",
    "    print(\"------------------------------\")\n",
    "\n",
    "    \n",
    "def model_comparison_table(X_test,y_test,classifier_list):\n",
    "    dict_clf={}\n",
    "    for clf_name,clf in classifier_list:\n",
    "        predictions=clf.predict(X_test)\n",
    "        y_pred_proba = clf.predict_proba(X_test)\n",
    "        accuracy=accuracy_score(y_test, predictions)\n",
    "        precision=precision_score(y_test,predictions,average='macro').round(2)\n",
    "        recall=recall_score(y_test,predictions)\n",
    "        f1score=f1_score(y_test,predictions).round(2)\n",
    "        ROC_AUC=roc_auc_score(y_test, y_pred_proba[:,1])\n",
    "        dict_clf[clf_name]=[accuracy,precision,recall,f1score,ROC_AUC]\n",
    "    df_models_scores = pd.DataFrame(dict_clf, index=['Accuracy', 'Precision', 'Recall', 'F1 Score','roc_auc_score'])\n",
    "    return df_models_scores"
   ]
  },
  {
   "cell_type": "markdown",
   "id": "3e19d200",
   "metadata": {},
   "source": [
    "#### User defined helper functions to create the confusion matrix and normalised confusion matrix \n",
    "\n",
    "The below scripts is using to create the confusion matrix and normalised confusion matrix based on the predictions and actual truth lables"
   ]
  },
  {
   "cell_type": "code",
   "execution_count": 23,
   "id": "18024342",
   "metadata": {},
   "outputs": [],
   "source": [
    "# Helper function to plot confusion matrix and normalised confusion matrix plot\n",
    "def confusn_mtrx_plot(cm,path):\n",
    "    from sklearn.metrics import confusion_matrix\n",
    "    # Y_pred_evc = evc_mdl.predict(test_X)\n",
    "    #cm = confusion_matrix(ytrue, y_pred)\n",
    "\n",
    "    fig = plt.figure(figsize=(6, 5), dpi=60)\n",
    "    ax = plt.subplot()\n",
    "    sns.set(font_scale=1.4) # Adjust to fit\n",
    "    sns.heatmap(cm, annot=True, ax=ax, cmap=\"GnBu\", fmt=\"g\");  \n",
    "    #sns.heatmap(cm/np.sum(cm), annot=True, ax=ax[1], cmap=\"GnBu\", fmt=\"g\");  \n",
    "\n",
    "    # Labels, title and ticks\n",
    "    label_font = {'size':'18'}  # Adjust to fit\n",
    "    ax.set_xlabel('Predicted', fontdict=label_font);\n",
    "    ax.set_ylabel('Actuals', fontdict=label_font);\n",
    "\n",
    "    title_font = {'size':'20'}  # Adjust to fit\n",
    "    ax.set_title('Confusion Matrix', fontdict=title_font);\n",
    "\n",
    "    ax.tick_params(axis='both', which='major', labelsize=15)  # Adjust to fit\n",
    "    ax.xaxis.set_ticklabels(['Real', 'Fake']);\n",
    "    ax.yaxis.set_ticklabels(['Real', 'Fake']);\n",
    "    #fig.show()\n",
    "    fig.savefig(path)\n",
    "    \n",
    "def norm_confusn_mtrx_plot(cm,path):\n",
    "    fig = plt.figure(figsize=(6, 5), dpi=60)\n",
    "    ax = plt.subplot()\n",
    "    sns.set(font_scale=1.4) # Adjust to fit\n",
    "    sns.heatmap(cm/np.sum(cm), annot=True, ax=ax, cmap=\"GnBu\",fmt='.2%');  \n",
    "\n",
    "    # Labels, title and ticks\n",
    "    label_font = {'size':'18'}  # Adjust to fit\n",
    "    ax.set_xlabel('Predicted', fontdict=label_font);\n",
    "    ax.set_ylabel('Actuals', fontdict=label_font);\n",
    "\n",
    "    title_font = {'size':'18'}  # Adjust to fit\n",
    "    ax.set_title('Normalised Confusion Matrix', fontdict=title_font);\n",
    "\n",
    "    ax.tick_params(axis='both', which='major', labelsize=15)  # Adjust to fit\n",
    "    ax.xaxis.set_ticklabels(['Real', 'Fake']);\n",
    "    ax.yaxis.set_ticklabels(['Real', 'Fake']);\n",
    "    fig.savefig(path)"
   ]
  },
  {
   "cell_type": "markdown",
   "id": "63943a1e",
   "metadata": {},
   "source": [
    "***"
   ]
  },
  {
   "cell_type": "markdown",
   "id": "b83306eb",
   "metadata": {},
   "source": [
    "## Random Forest"
   ]
  },
  {
   "cell_type": "markdown",
   "id": "0b531598",
   "metadata": {},
   "source": [
    "**Initialise Random Forest model and  fit using train data**"
   ]
  },
  {
   "cell_type": "code",
   "execution_count": 24,
   "id": "c3a9e34f",
   "metadata": {},
   "outputs": [],
   "source": [
    "# Instantiate and fit a basic Random Forest model on top of the vectors\n",
    "from sklearn.ensemble import RandomForestClassifier\n",
    "rf = RandomForestClassifier(random_state=0)\n",
    "rf_model = rf.fit(X_train, y_train)"
   ]
  },
  {
   "cell_type": "markdown",
   "id": "43ce5ae9",
   "metadata": {},
   "source": [
    "**Use the trained model to make predictions on the test data**"
   ]
  },
  {
   "cell_type": "code",
   "execution_count": 25,
   "id": "2a223a5b",
   "metadata": {},
   "outputs": [
    {
     "name": "stdout",
     "output_type": "stream",
     "text": [
      "Accuracy score : 0.8202357563850687\n",
      "Confusion matrix : \n",
      " [[3000   62]\n",
      " [ 670  340]]\n",
      "Classification Report\n",
      "              precision    recall  f1-score   support\n",
      "\n",
      "           0       0.82      0.98      0.89      3062\n",
      "           1       0.85      0.34      0.48      1010\n",
      "\n",
      "    accuracy                           0.82      4072\n",
      "   macro avg       0.83      0.66      0.69      4072\n",
      "weighted avg       0.82      0.82      0.79      4072\n",
      "\n",
      "Precision : 0.845771144278607\n",
      "Recall : 0.33663366336633666\n"
     ]
    }
   ],
   "source": [
    "y_pred = rf_model.predict(X_test)\n",
    "print(\"Accuracy score : {}\".format(accuracy_score(y_test, y_pred)))\n",
    "print(\"Confusion matrix : \\n {}\".format(confusion_matrix(y_test, y_pred)))\n",
    "print(\"Classification Report\")\n",
    "print(classification_report(y_test, y_pred))\n",
    "\n",
    "precision = precision_score(y_test, y_pred)\n",
    "print(\"Precision : {}\".format(precision))\n",
    "recall = recall_score(y_test, y_pred)\n",
    "print(\"Recall : {}\".format(recall))"
   ]
  },
  {
   "cell_type": "markdown",
   "id": "403cdd5b",
   "metadata": {},
   "source": [
    "### Hyperparameter Tuning for Random Forest\n",
    "\n",
    "Define the list of parameters which needed to do hyperparameter tuning\n"
   ]
  },
  {
   "cell_type": "code",
   "execution_count": 9,
   "id": "b26df9d0",
   "metadata": {},
   "outputs": [
    {
     "name": "stdout",
     "output_type": "stream",
     "text": [
      "{'bootstrap': [True, False],\n",
      " 'max_depth': [10, 20, 30, 40, 50, 60, 70, 80, 90, 100, 110],\n",
      " 'max_features': ['auto', 'sqrt'],\n",
      " 'min_samples_leaf': [1, 2, 4],\n",
      " 'min_samples_split': [2, 5, 10],\n",
      " 'n_estimators': [100, 200, 300, 400, 500, 600, 700, 800, 900, 1000]}\n"
     ]
    }
   ],
   "source": [
    "# Number of trees in random forest\n",
    "n_estimators =[int(x) for x in np.linspace(start = 100, stop = 1000, num = 10)]\n",
    "# Number of features to consider at every split\n",
    "max_features = ['auto', 'sqrt']\n",
    "# Maximum number of levels in tree\n",
    "max_depth =[int(x) for x in np.linspace(10, 110, num = 11)]\n",
    "#Minimum number of samples required to split a node\n",
    "min_samples_split = [2, 5, 10]\n",
    "# Minimum number of samples required at each leaf node\n",
    "min_samples_leaf = [1, 2, 4]\n",
    "# Method of selecting samples for training each tree\n",
    "bootstrap = [True, False]\n",
    "\n",
    "# Create the random grid\n",
    "random_grid = {\n",
    "    'n_estimators': n_estimators,\n",
    "               'max_features': max_features,\n",
    "               'max_depth': max_depth,\n",
    "               'min_samples_split': min_samples_split,\n",
    "               'min_samples_leaf': min_samples_leaf,\n",
    "               'bootstrap': bootstrap\n",
    "              }\n",
    "pprint(random_grid)\n",
    "\n"
   ]
  },
  {
   "cell_type": "markdown",
   "id": "ef532c40",
   "metadata": {},
   "source": [
    "**Apply RandomizedSearchCV library for hyperparameter tuning  and fit the model using train data**"
   ]
  },
  {
   "cell_type": "code",
   "execution_count": 10,
   "id": "c32948ca",
   "metadata": {},
   "outputs": [],
   "source": [
    "rf_clf1=RandomForestClassifier(random_state=0)"
   ]
  },
  {
   "cell_type": "code",
   "execution_count": null,
   "id": "041ee5dd",
   "metadata": {},
   "outputs": [],
   "source": [
    "rf_random = RandomizedSearchCV(estimator=rf_clf1, param_distributions=random_grid,\n",
    "                              n_iter = 100, \n",
    "                              cv = 3, verbose=2, random_state=42, n_jobs=-1,\n",
    "                              return_train_score=True)\n",
    "\n",
    "\n",
    "# Fit the random search model\n",
    "rf_random.fit(X_train, y_train)"
   ]
  },
  {
   "cell_type": "code",
   "execution_count": null,
   "id": "b794275e",
   "metadata": {},
   "outputs": [],
   "source": [
    "rf_random.best_params_"
   ]
  },
  {
   "cell_type": "markdown",
   "id": "b852a2fb",
   "metadata": {},
   "source": [
    "#### Train Random Forest using with Best Params "
   ]
  },
  {
   "cell_type": "code",
   "execution_count": 26,
   "id": "327646fe",
   "metadata": {},
   "outputs": [
    {
     "name": "stdout",
     "output_type": "stream",
     "text": [
      "RandomForest - Completed\n"
     ]
    }
   ],
   "source": [
    "rf_clf_tuned=RandomForestClassifier(random_state=0,n_estimators=600,max_features='auto',max_depth=70,min_samples_split=2,min_samples_leaf=2,bootstrap=False)\n",
    "\n",
    "rf_clf_tuned.fit(X_train, y_train)\n",
    "\n",
    "import pickle\n",
    "# save the model to disk\n",
    "filename = 'outputs//fakenewsnet_ml_bert//fakenewsnet_ml_RF_bert.sav'\n",
    "pickle.dump(rf_clf_tuned, open(filename, 'wb'))\n",
    "print('RandomForest - Completed')"
   ]
  },
  {
   "cell_type": "markdown",
   "id": "ca6d8f86",
   "metadata": {},
   "source": [
    "**Load the saved model and predict using test data and measure the accuracy metrics**"
   ]
  },
  {
   "cell_type": "code",
   "execution_count": 27,
   "id": "5ac8a0cb",
   "metadata": {},
   "outputs": [
    {
     "name": "stdout",
     "output_type": "stream",
     "text": [
      "Accuracy score : 0.8241650294695482\n",
      "Confusion matrix : \n",
      " [[3008   54]\n",
      " [ 662  348]]\n",
      "Classification Report\n",
      "              precision    recall  f1-score   support\n",
      "\n",
      "           0       0.82      0.98      0.89      3062\n",
      "           1       0.87      0.34      0.49      1010\n",
      "\n",
      "    accuracy                           0.82      4072\n",
      "   macro avg       0.84      0.66      0.69      4072\n",
      "weighted avg       0.83      0.82      0.79      4072\n",
      "\n",
      "Precision : 0.8656716417910447\n",
      "Recall : 0.3445544554455445\n",
      "F1 Score : 0.49291784702549574\n"
     ]
    }
   ],
   "source": [
    "#Loading the model\n",
    "filename = 'outputs//fakenewsnet_ml_bert//fakenewsnet_ml_RF_bert.sav'\n",
    "\n",
    "rf_clf_tuned = pickle.load(open(filename, 'rb'))\n",
    "\n",
    "pred = rf_clf_tuned.predict(X_test)\n",
    "print(\"Accuracy score : {}\".format(accuracy_score(y_test, pred)))\n",
    "print(\"Confusion matrix : \\n {}\".format(confusion_matrix(y_test, pred)))\n",
    "print(\"Classification Report\")\n",
    "print(classification_report(y_test, pred))\n",
    "precision = precision_score(y_test, pred)\n",
    "print(\"Precision : {}\".format(precision))\n",
    "recall = recall_score(y_test, pred)\n",
    "print(\"Recall : {}\".format(recall))\n",
    "f1score = f1_score(y_test, pred)\n",
    "print(\"F1 Score : {}\".format(f1score))\n"
   ]
  },
  {
   "cell_type": "markdown",
   "id": "464d48dc",
   "metadata": {},
   "source": [
    "**Save the classification report to csv**"
   ]
  },
  {
   "cell_type": "code",
   "execution_count": 29,
   "id": "8c2fea0e",
   "metadata": {},
   "outputs": [
    {
     "data": {
      "text/html": [
       "<div>\n",
       "<style scoped>\n",
       "    .dataframe tbody tr th:only-of-type {\n",
       "        vertical-align: middle;\n",
       "    }\n",
       "\n",
       "    .dataframe tbody tr th {\n",
       "        vertical-align: top;\n",
       "    }\n",
       "\n",
       "    .dataframe thead th {\n",
       "        text-align: right;\n",
       "    }\n",
       "</style>\n",
       "<table border=\"1\" class=\"dataframe\">\n",
       "  <thead>\n",
       "    <tr style=\"text-align: right;\">\n",
       "      <th></th>\n",
       "      <th>precision</th>\n",
       "      <th>recall</th>\n",
       "      <th>f1-score</th>\n",
       "      <th>support</th>\n",
       "    </tr>\n",
       "  </thead>\n",
       "  <tbody>\n",
       "    <tr>\n",
       "      <th>0</th>\n",
       "      <td>0.819619</td>\n",
       "      <td>0.982364</td>\n",
       "      <td>0.893642</td>\n",
       "      <td>3062.000000</td>\n",
       "    </tr>\n",
       "    <tr>\n",
       "      <th>1</th>\n",
       "      <td>0.865672</td>\n",
       "      <td>0.344554</td>\n",
       "      <td>0.492918</td>\n",
       "      <td>1010.000000</td>\n",
       "    </tr>\n",
       "    <tr>\n",
       "      <th>accuracy</th>\n",
       "      <td>0.824165</td>\n",
       "      <td>0.824165</td>\n",
       "      <td>0.824165</td>\n",
       "      <td>0.824165</td>\n",
       "    </tr>\n",
       "    <tr>\n",
       "      <th>macro avg</th>\n",
       "      <td>0.842645</td>\n",
       "      <td>0.663459</td>\n",
       "      <td>0.693280</td>\n",
       "      <td>4072.000000</td>\n",
       "    </tr>\n",
       "    <tr>\n",
       "      <th>weighted avg</th>\n",
       "      <td>0.831041</td>\n",
       "      <td>0.824165</td>\n",
       "      <td>0.794248</td>\n",
       "      <td>4072.000000</td>\n",
       "    </tr>\n",
       "  </tbody>\n",
       "</table>\n",
       "</div>"
      ],
      "text/plain": [
       "              precision    recall  f1-score      support\n",
       "0              0.819619  0.982364  0.893642  3062.000000\n",
       "1              0.865672  0.344554  0.492918  1010.000000\n",
       "accuracy       0.824165  0.824165  0.824165     0.824165\n",
       "macro avg      0.842645  0.663459  0.693280  4072.000000\n",
       "weighted avg   0.831041  0.824165  0.794248  4072.000000"
      ]
     },
     "execution_count": 29,
     "metadata": {},
     "output_type": "execute_result"
    }
   ],
   "source": [
    "report=classification_report(y_test, pred, output_dict=True)\n",
    "df = pd.DataFrame(report).transpose()\n",
    "df.to_csv(\"outputs//fakenewsnet_ml_bert//model_FAKENEWSNET_RF_BERT_clasifctnrpt.csv\")\n",
    "df.head()"
   ]
  },
  {
   "cell_type": "markdown",
   "id": "bdc2cdd0",
   "metadata": {},
   "source": [
    "**Plot confusion matrix using the user defined functions created earlier**"
   ]
  },
  {
   "cell_type": "code",
   "execution_count": 30,
   "id": "e9728575",
   "metadata": {},
   "outputs": [
    {
     "data": {
      "image/png": "[encoded data removed]",
      "text/plain": [
       "<Figure size 360x300 with 2 Axes>"
      ]
     },
     "metadata": {
      "needs_background": "light"
     },
     "output_type": "display_data"
    },
    {
     "data": {
      "image/png": "[encoded data removed]",
      "text/plain": [
       "<Figure size 360x300 with 2 Axes>"
      ]
     },
     "metadata": {},
     "output_type": "display_data"
    }
   ],
   "source": [
    "cm=confusion_matrix(y_test, pred)\n",
    "path1=\"outputs//fakenewsnet_ml_bert//fakenewsnet_ml_RF_bert_cmtrx.png\"\n",
    "path2=\"outputs//fakenewsnet_ml_bert//fakenewsnet_ml_RF_bert_ncmtrx.png\"\n",
    "confusn_mtrx_plot(cm,path1)\n",
    "norm_confusn_mtrx_plot(cm,path2)"
   ]
  },
  {
   "cell_type": "markdown",
   "id": "1457e97d",
   "metadata": {},
   "source": [
    "*** \n",
    "### Support Vector Machine\n",
    "\n",
    "**Initialise the model and  fit it using train data and measure the accuracy metrics**"
   ]
  },
  {
   "cell_type": "code",
   "execution_count": 31,
   "id": "ae0716c4",
   "metadata": {},
   "outputs": [],
   "source": [
    "svm_clf=SVC(random_state=0)"
   ]
  },
  {
   "cell_type": "code",
   "execution_count": 32,
   "id": "dd368ef9",
   "metadata": {},
   "outputs": [
    {
     "name": "stdout",
     "output_type": "stream",
     "text": [
      "Accuracy score : 0.8266208251473477\n",
      "Confusion matrix : \n",
      " [[2967   95]\n",
      " [ 611  399]]\n",
      "Classification Report\n",
      "              precision    recall  f1-score   support\n",
      "\n",
      "           0       0.83      0.97      0.89      3062\n",
      "           1       0.81      0.40      0.53      1010\n",
      "\n",
      "    accuracy                           0.83      4072\n",
      "   macro avg       0.82      0.68      0.71      4072\n",
      "weighted avg       0.82      0.83      0.80      4072\n",
      "\n"
     ]
    }
   ],
   "source": [
    "svm_clf.fit(X_train, y_train)\n",
    "\n",
    "pred = svm_clf.predict(X_test)\n",
    "print(\"Accuracy score : {}\".format(accuracy_score(y_test, pred)))\n",
    "print(\"Confusion matrix : \\n {}\".format(confusion_matrix(y_test, pred)))\n",
    "print(\"Classification Report\")\n",
    "print(classification_report(y_test, pred))"
   ]
  },
  {
   "cell_type": "markdown",
   "id": "4cfa06a3",
   "metadata": {},
   "source": [
    "#### Hyperparameter Tuning \n",
    "\n",
    "Define the list of parameters which needed to do hyperparameter tuning"
   ]
  },
  {
   "cell_type": "code",
   "execution_count": 21,
   "id": "2bb14189",
   "metadata": {},
   "outputs": [
    {
     "name": "stdout",
     "output_type": "stream",
     "text": [
      "{'C': [0.1, 1, 10, 100, 1000],\n",
      " 'gamma': [1, 0.1, 0.01, 0.001, 0.0001],\n",
      " 'kernel': ['rbf', 'poly', 'sigmoid']}\n"
     ]
    }
   ],
   "source": [
    "# Create the random grid\n",
    "random_grid = {\n",
    "    'C': [0.1, 1, 10, 100, 1000],\n",
    "               'gamma': [1, 0.1, 0.01, 0.001, 0.0001],\n",
    "               'kernel':  ['rbf', 'poly', 'sigmoid'],\n",
    "              }\n",
    "pprint(random_grid)\n"
   ]
  },
  {
   "cell_type": "markdown",
   "id": "b4606c93",
   "metadata": {},
   "source": [
    "**Apply RandomizedSearchCV library for hyperparameter tuning  and fit the model using train data**"
   ]
  },
  {
   "cell_type": "code",
   "execution_count": 23,
   "id": "b0cccc5b",
   "metadata": {
    "collapsed": true
   },
   "outputs": [
    {
     "name": "stdout",
     "output_type": "stream",
     "text": [
      "Fitting 3 folds for each of 50 candidates, totalling 150 fits\n",
      "[CV] END ....................C=10, gamma=0.1, kernel=sigmoid; total time= 1.1min\n",
      "[CV] END ...................C=0.1, gamma=0.1, kernel=sigmoid; total time= 1.1min\n",
      "[CV] END .....................C=1000, gamma=0.01, kernel=rbf; total time= 5.3min\n",
      "[CV] END ...............C=1000, gamma=0.0001, kernel=sigmoid; total time=  41.0s\n",
      "[CV] END .......................C=0.1, gamma=0.1, kernel=rbf; total time= 3.4min\n",
      "[CV] END ..................C=1000, gamma=0.0001, kernel=poly; total time= 1.7min\n",
      "[CV] END .........................C=1, gamma=0.1, kernel=rbf; total time= 5.9min\n",
      "[CV] END .....................C=100, gamma=1, kernel=sigmoid; total time=  55.1s\n",
      "[CV] END ...................C=100, gamma=0.1, kernel=sigmoid; total time=  44.5s\n",
      "[CV] END ...............C=1000, gamma=0.0001, kernel=sigmoid; total time=  43.8s\n",
      "[CV] END .......................C=0.1, gamma=0.1, kernel=rbf; total time= 3.4min\n",
      "[CV] END ..................C=1000, gamma=0.0001, kernel=poly; total time= 1.6min\n",
      "[CV] END ......................C=1000, gamma=0.1, kernel=rbf; total time= 6.2min\n",
      "[CV] END .....................C=0.1, gamma=0.01, kernel=poly; total time= 4.1min\n",
      "[CV] END .......................C=1, gamma=1, kernel=sigmoid; total time=  52.8s\n",
      "[CV] END ......................C=0.1, gamma=0.01, kernel=rbf; total time= 3.4min\n",
      "[CV] END .....................C=10, gamma=0.0001, kernel=rbf; total time= 6.7min\n",
      "[CV] END ..................C=100, gamma=0.01, kernel=sigmoid; total time=  49.0s\n",
      "[CV] END ......................C=1, gamma=0.001, kernel=poly; total time= 1.7min\n",
      "[CV] END .......................C=1, gamma=1, kernel=sigmoid; total time=  47.5s\n",
      "[CV] END ......................C=0.1, gamma=0.01, kernel=rbf; total time= 3.7min\n",
      "[CV] END .....................C=10, gamma=0.0001, kernel=rbf; total time= 5.6min\n",
      "[CV] END ..........................C=10, gamma=1, kernel=rbf; total time= 5.9min\n",
      "[CV] END ....................C=100, gamma=0.001, kernel=poly; total time= 3.6min\n",
      "[CV] END ....................C=10, gamma=0.1, kernel=sigmoid; total time=  47.6s\n",
      "[CV] END ...................C=0.1, gamma=0.1, kernel=sigmoid; total time=  55.7s\n",
      "[CV] END .....................C=1000, gamma=0.01, kernel=rbf; total time= 5.0min\n",
      "[CV] END ...................C=100, gamma=0.1, kernel=sigmoid; total time=  52.5s\n",
      "[CV] END ...............C=1000, gamma=0.0001, kernel=sigmoid; total time=  50.9s\n",
      "[CV] END .......................C=0.1, gamma=0.1, kernel=rbf; total time= 3.7min\n",
      "[CV] END ..................C=1000, gamma=0.0001, kernel=poly; total time= 1.6min\n",
      "[CV] END ......................C=1000, gamma=0.1, kernel=rbf; total time= 5.3min\n",
      "[CV] END ..........................C=10, gamma=1, kernel=rbf; total time= 5.0min\n",
      "[CV] END ...................C=1000, gamma=0.0001, kernel=rbf; total time= 4.7min\n",
      "[CV] END ....................C=0.1, gamma=0.001, kernel=poly; total time= 1.7min\n",
      "[CV] END ........................C=10, gamma=0.1, kernel=rbf; total time= 5.9min\n",
      "[CV] END ....................C=1000, gamma=1, kernel=sigmoid; total time=  59.3s\n",
      "[CV] END .....................C=100, gamma=0.001, kernel=rbf; total time= 6.5min\n",
      "[CV] END ....................C=0.1, gamma=0.001, kernel=poly; total time= 1.8min\n",
      "[CV] END .................C=100, gamma=0.001, kernel=sigmoid; total time=  49.0s\n",
      "[CV] END ......................C=10, gamma=0.001, kernel=rbf; total time= 4.1min\n",
      "[CV] END ..................C=100, gamma=0.01, kernel=sigmoid; total time=  41.6s\n",
      "[CV] END ......................C=1, gamma=0.001, kernel=poly; total time= 1.5min\n",
      "[CV] END .......................C=1, gamma=1, kernel=sigmoid; total time=  39.5s\n",
      "[CV] END ...................C=1000, gamma=0.0001, kernel=rbf; total time= 4.8min\n",
      "[CV] END .........................C=0.1, gamma=1, kernel=rbf; total time= 4.5min\n",
      "[CV] END .........................C=100, gamma=1, kernel=rbf; total time= 5.7min\n",
      "[CV] END .......................C=10, gamma=0.01, kernel=rbf; total time= 4.3min\n",
      "[CV] END .........................C=1, gamma=0.1, kernel=rbf; total time= 5.9min\n",
      "[CV] END .....................C=100, gamma=1, kernel=sigmoid; total time=  56.8s\n",
      "[CV] END ...................C=100, gamma=0.1, kernel=sigmoid; total time=  55.5s\n",
      "[CV] END ...................C=0.1, gamma=0.0001, kernel=poly; total time= 1.8min\n",
      "[CV] END ..................C=0.1, gamma=0.01, kernel=sigmoid; total time=  55.8s\n",
      "[CV] END ....................C=100, gamma=0.001, kernel=poly; total time= 4.8min\n",
      "[CV] END ....................C=0.1, gamma=0.001, kernel=poly; total time= 1.8min\n",
      "[CV] END ........................C=10, gamma=0.1, kernel=rbf; total time= 4.0min\n",
      "[CV] END ...................C=100, gamma=0.0001, kernel=poly; total time= 1.5min\n",
      "[CV] END ....................C=1000, gamma=1, kernel=sigmoid; total time=  38.3s\n",
      "[CV] END ...................C=0.1, gamma=0.0001, kernel=poly; total time= 1.5min\n",
      "[CV] END ...................C=10, gamma=0.01, kernel=sigmoid; total time=  40.9s\n",
      "[CV] END .......................C=10, gamma=0.01, kernel=rbf; total time= 4.6min\n",
      "[CV] END ......................C=1000, gamma=0.1, kernel=rbf; total time= 4.5min\n",
      "[CV] END .................C=10, gamma=0.0001, kernel=sigmoid; total time=  46.5s\n",
      "[CV] END .....................C=0.1, gamma=0.01, kernel=poly; total time= 6.5min\n",
      "[CV] END ....................C=100, gamma=0.001, kernel=poly; total time= 4.7min\n",
      "[CV] END .........................C=1, gamma=0.1, kernel=rbf; total time= 5.8min\n",
      "[CV] END ...................C=100, gamma=0.0001, kernel=poly; total time= 1.6min\n",
      "[CV] END ....................C=1000, gamma=1, kernel=sigmoid; total time=  52.9s\n",
      "[CV] END ...................C=0.1, gamma=0.0001, kernel=poly; total time= 1.8min\n",
      "[CV] END ...................C=1000, gamma=0.0001, kernel=rbf; total time= 5.5min\n",
      "[CV] END ....................C=1000, gamma=0.001, kernel=rbf; total time= 5.3min\n",
      "[CV] END .........................C=100, gamma=1, kernel=rbf; total time= 3.9min\n",
      "[CV] END ...................C=10, gamma=0.01, kernel=sigmoid; total time=  51.9s\n",
      "[CV] END .......................C=10, gamma=0.01, kernel=rbf; total time= 5.8min\n",
      "[CV] END .....................C=1, gamma=0.0001, kernel=poly; total time= 1.9min\n",
      "[CV] END .................C=100, gamma=0.001, kernel=sigmoid; total time=  49.1s\n",
      "[CV] END ......................C=10, gamma=0.001, kernel=rbf; total time= 6.1min\n",
      "[CV] END .....................C=100, gamma=0.001, kernel=rbf; total time= 4.6min\n",
      "[CV] END ...........................C=1, gamma=1, kernel=rbf; total time= 3.7min\n",
      "[CV] END .........................C=0.1, gamma=1, kernel=rbf; total time= 4.3min\n",
      "[CV] END .................C=10, gamma=0.0001, kernel=sigmoid; total time= 1.1min\n",
      "[CV] END ...................C=100, gamma=0.0001, kernel=poly; total time= 1.9min\n",
      "[CV] END ......................C=1, gamma=0.001, kernel=poly; total time= 1.7min\n",
      "[CV] END ...................C=10, gamma=0.01, kernel=sigmoid; total time=  46.5s\n",
      "[CV] END ......................C=0.1, gamma=0.01, kernel=rbf; total time= 3.2min\n",
      "[CV] END ...........................C=1, gamma=1, kernel=rbf; total time= 3.5min\n",
      "[CV] END ....................C=10, gamma=0.1, kernel=sigmoid; total time= 1.0min\n",
      "[CV] END ...................C=0.1, gamma=0.1, kernel=sigmoid; total time= 1.1min\n",
      "[CV] END .....................C=1000, gamma=0.01, kernel=rbf; total time= 6.0min\n",
      "[CV] END .....................C=100, gamma=0.001, kernel=rbf; total time= 5.5min\n",
      "[CV] END ...........................C=1, gamma=1, kernel=rbf; total time= 3.3min\n",
      "[CV] END .......................C=1, gamma=0.01, kernel=poly; total time=53.1min\n",
      "[CV] END .......................C=1, gamma=0.01, kernel=poly; total time=55.4min\n"
     ]
    },
    {
     "ename": "KeyboardInterrupt",
     "evalue": "",
     "output_type": "error",
     "traceback": [
      "\u001b[0;31m---------------------------------------------------------------------------\u001b[0m",
      "\u001b[0;31mKeyboardInterrupt\u001b[0m                         Traceback (most recent call last)",
      "\u001b[0;32m/tmp/ipykernel_12094/17377509.py\u001b[0m in \u001b[0;36m<module>\u001b[0;34m\u001b[0m\n\u001b[1;32m      8\u001b[0m \u001b[0;34m\u001b[0m\u001b[0m\n\u001b[1;32m      9\u001b[0m \u001b[0;31m# Fit the random search model\u001b[0m\u001b[0;34m\u001b[0m\u001b[0;34m\u001b[0m\u001b[0m\n\u001b[0;32m---> 10\u001b[0;31m \u001b[0mrf_random\u001b[0m\u001b[0;34m.\u001b[0m\u001b[0mfit\u001b[0m\u001b[0;34m(\u001b[0m\u001b[0mX_train\u001b[0m\u001b[0;34m,\u001b[0m \u001b[0my_train\u001b[0m\u001b[0;34m)\u001b[0m\u001b[0;34m\u001b[0m\u001b[0m\n\u001b[0m",
      "\u001b[0;32m~/.conda/envs/python37env/lib/python3.7/site-packages/sklearn/model_selection/_search.py\u001b[0m in \u001b[0;36mfit\u001b[0;34m(self, X, y, groups, **fit_params)\u001b[0m\n\u001b[1;32m    889\u001b[0m                 \u001b[0;32mreturn\u001b[0m \u001b[0mresults\u001b[0m\u001b[0;34m\u001b[0m\u001b[0m\n\u001b[1;32m    890\u001b[0m \u001b[0;34m\u001b[0m\u001b[0m\n\u001b[0;32m--> 891\u001b[0;31m             \u001b[0mself\u001b[0m\u001b[0;34m.\u001b[0m\u001b[0m_run_search\u001b[0m\u001b[0;34m(\u001b[0m\u001b[0mevaluate_candidates\u001b[0m\u001b[0;34m)\u001b[0m\u001b[0;34m\u001b[0m\u001b[0m\n\u001b[0m\u001b[1;32m    892\u001b[0m \u001b[0;34m\u001b[0m\u001b[0m\n\u001b[1;32m    893\u001b[0m             \u001b[0;31m# multimetric is determined here because in the case of a callable\u001b[0m\u001b[0;34m\u001b[0m\u001b[0;34m\u001b[0m\u001b[0m\n",
      "\u001b[0;32m~/.conda/envs/python37env/lib/python3.7/site-packages/sklearn/model_selection/_search.py\u001b[0m in \u001b[0;36m_run_search\u001b[0;34m(self, evaluate_candidates)\u001b[0m\n\u001b[1;32m   1766\u001b[0m         evaluate_candidates(\n\u001b[1;32m   1767\u001b[0m             ParameterSampler(\n\u001b[0;32m-> 1768\u001b[0;31m                 \u001b[0mself\u001b[0m\u001b[0;34m.\u001b[0m\u001b[0mparam_distributions\u001b[0m\u001b[0;34m,\u001b[0m \u001b[0mself\u001b[0m\u001b[0;34m.\u001b[0m\u001b[0mn_iter\u001b[0m\u001b[0;34m,\u001b[0m \u001b[0mrandom_state\u001b[0m\u001b[0;34m=\u001b[0m\u001b[0mself\u001b[0m\u001b[0;34m.\u001b[0m\u001b[0mrandom_state\u001b[0m\u001b[0;34m\u001b[0m\u001b[0m\n\u001b[0m\u001b[1;32m   1769\u001b[0m             )\n\u001b[1;32m   1770\u001b[0m         )\n",
      "\u001b[0;32m~/.conda/envs/python37env/lib/python3.7/site-packages/sklearn/model_selection/_search.py\u001b[0m in \u001b[0;36mevaluate_candidates\u001b[0;34m(candidate_params, cv, more_results)\u001b[0m\n\u001b[1;32m    849\u001b[0m                     )\n\u001b[1;32m    850\u001b[0m                     for (cand_idx, parameters), (split_idx, (train, test)) in product(\n\u001b[0;32m--> 851\u001b[0;31m                         \u001b[0menumerate\u001b[0m\u001b[0;34m(\u001b[0m\u001b[0mcandidate_params\u001b[0m\u001b[0;34m)\u001b[0m\u001b[0;34m,\u001b[0m \u001b[0menumerate\u001b[0m\u001b[0;34m(\u001b[0m\u001b[0mcv\u001b[0m\u001b[0;34m.\u001b[0m\u001b[0msplit\u001b[0m\u001b[0;34m(\u001b[0m\u001b[0mX\u001b[0m\u001b[0;34m,\u001b[0m \u001b[0my\u001b[0m\u001b[0;34m,\u001b[0m \u001b[0mgroups\u001b[0m\u001b[0;34m)\u001b[0m\u001b[0;34m)\u001b[0m\u001b[0;34m\u001b[0m\u001b[0m\n\u001b[0m\u001b[1;32m    852\u001b[0m                     )\n\u001b[1;32m    853\u001b[0m                 )\n",
      "\u001b[0;32m~/.conda/envs/python37env/lib/python3.7/site-packages/joblib/parallel.py\u001b[0m in \u001b[0;36m__call__\u001b[0;34m(self, iterable)\u001b[0m\n\u001b[1;32m   1054\u001b[0m \u001b[0;34m\u001b[0m\u001b[0m\n\u001b[1;32m   1055\u001b[0m             \u001b[0;32mwith\u001b[0m \u001b[0mself\u001b[0m\u001b[0;34m.\u001b[0m\u001b[0m_backend\u001b[0m\u001b[0;34m.\u001b[0m\u001b[0mretrieval_context\u001b[0m\u001b[0;34m(\u001b[0m\u001b[0;34m)\u001b[0m\u001b[0;34m:\u001b[0m\u001b[0;34m\u001b[0m\u001b[0m\n\u001b[0;32m-> 1056\u001b[0;31m                 \u001b[0mself\u001b[0m\u001b[0;34m.\u001b[0m\u001b[0mretrieve\u001b[0m\u001b[0;34m(\u001b[0m\u001b[0;34m)\u001b[0m\u001b[0;34m\u001b[0m\u001b[0m\n\u001b[0m\u001b[1;32m   1057\u001b[0m             \u001b[0;31m# Make sure that we get a last message telling us we are done\u001b[0m\u001b[0;34m\u001b[0m\u001b[0;34m\u001b[0m\u001b[0m\n\u001b[1;32m   1058\u001b[0m             \u001b[0melapsed_time\u001b[0m \u001b[0;34m=\u001b[0m \u001b[0mtime\u001b[0m\u001b[0;34m.\u001b[0m\u001b[0mtime\u001b[0m\u001b[0;34m(\u001b[0m\u001b[0;34m)\u001b[0m \u001b[0;34m-\u001b[0m \u001b[0mself\u001b[0m\u001b[0;34m.\u001b[0m\u001b[0m_start_time\u001b[0m\u001b[0;34m\u001b[0m\u001b[0m\n",
      "\u001b[0;32m~/.conda/envs/python37env/lib/python3.7/site-packages/joblib/parallel.py\u001b[0m in \u001b[0;36mretrieve\u001b[0;34m(self)\u001b[0m\n\u001b[1;32m    933\u001b[0m             \u001b[0;32mtry\u001b[0m\u001b[0;34m:\u001b[0m\u001b[0;34m\u001b[0m\u001b[0m\n\u001b[1;32m    934\u001b[0m                 \u001b[0;32mif\u001b[0m \u001b[0mgetattr\u001b[0m\u001b[0;34m(\u001b[0m\u001b[0mself\u001b[0m\u001b[0;34m.\u001b[0m\u001b[0m_backend\u001b[0m\u001b[0;34m,\u001b[0m \u001b[0;34m'supports_timeout'\u001b[0m\u001b[0;34m,\u001b[0m \u001b[0;32mFalse\u001b[0m\u001b[0;34m)\u001b[0m\u001b[0;34m:\u001b[0m\u001b[0;34m\u001b[0m\u001b[0m\n\u001b[0;32m--> 935\u001b[0;31m                     \u001b[0mself\u001b[0m\u001b[0;34m.\u001b[0m\u001b[0m_output\u001b[0m\u001b[0;34m.\u001b[0m\u001b[0mextend\u001b[0m\u001b[0;34m(\u001b[0m\u001b[0mjob\u001b[0m\u001b[0;34m.\u001b[0m\u001b[0mget\u001b[0m\u001b[0;34m(\u001b[0m\u001b[0mtimeout\u001b[0m\u001b[0;34m=\u001b[0m\u001b[0mself\u001b[0m\u001b[0;34m.\u001b[0m\u001b[0mtimeout\u001b[0m\u001b[0;34m)\u001b[0m\u001b[0;34m)\u001b[0m\u001b[0;34m\u001b[0m\u001b[0m\n\u001b[0m\u001b[1;32m    936\u001b[0m                 \u001b[0;32melse\u001b[0m\u001b[0;34m:\u001b[0m\u001b[0;34m\u001b[0m\u001b[0m\n\u001b[1;32m    937\u001b[0m                     \u001b[0mself\u001b[0m\u001b[0;34m.\u001b[0m\u001b[0m_output\u001b[0m\u001b[0;34m.\u001b[0m\u001b[0mextend\u001b[0m\u001b[0;34m(\u001b[0m\u001b[0mjob\u001b[0m\u001b[0;34m.\u001b[0m\u001b[0mget\u001b[0m\u001b[0;34m(\u001b[0m\u001b[0;34m)\u001b[0m\u001b[0;34m)\u001b[0m\u001b[0;34m\u001b[0m\u001b[0m\n",
      "\u001b[0;32m~/.conda/envs/python37env/lib/python3.7/site-packages/joblib/_parallel_backends.py\u001b[0m in \u001b[0;36mwrap_future_result\u001b[0;34m(future, timeout)\u001b[0m\n\u001b[1;32m    540\u001b[0m         AsyncResults.get from multiprocessing.\"\"\"\n\u001b[1;32m    541\u001b[0m         \u001b[0;32mtry\u001b[0m\u001b[0;34m:\u001b[0m\u001b[0;34m\u001b[0m\u001b[0m\n\u001b[0;32m--> 542\u001b[0;31m             \u001b[0;32mreturn\u001b[0m \u001b[0mfuture\u001b[0m\u001b[0;34m.\u001b[0m\u001b[0mresult\u001b[0m\u001b[0;34m(\u001b[0m\u001b[0mtimeout\u001b[0m\u001b[0;34m=\u001b[0m\u001b[0mtimeout\u001b[0m\u001b[0;34m)\u001b[0m\u001b[0;34m\u001b[0m\u001b[0m\n\u001b[0m\u001b[1;32m    543\u001b[0m         \u001b[0;32mexcept\u001b[0m \u001b[0mCfTimeoutError\u001b[0m \u001b[0;32mas\u001b[0m \u001b[0me\u001b[0m\u001b[0;34m:\u001b[0m\u001b[0;34m\u001b[0m\u001b[0m\n\u001b[1;32m    544\u001b[0m             \u001b[0;32mraise\u001b[0m \u001b[0mTimeoutError\u001b[0m \u001b[0;32mfrom\u001b[0m \u001b[0me\u001b[0m\u001b[0;34m\u001b[0m\u001b[0m\n",
      "\u001b[0;32m~/.conda/envs/python37env/lib/python3.7/concurrent/futures/_base.py\u001b[0m in \u001b[0;36mresult\u001b[0;34m(self, timeout)\u001b[0m\n\u001b[1;32m    425\u001b[0m                 \u001b[0;32mreturn\u001b[0m \u001b[0mself\u001b[0m\u001b[0;34m.\u001b[0m\u001b[0m__get_result\u001b[0m\u001b[0;34m(\u001b[0m\u001b[0;34m)\u001b[0m\u001b[0;34m\u001b[0m\u001b[0m\n\u001b[1;32m    426\u001b[0m \u001b[0;34m\u001b[0m\u001b[0m\n\u001b[0;32m--> 427\u001b[0;31m             \u001b[0mself\u001b[0m\u001b[0;34m.\u001b[0m\u001b[0m_condition\u001b[0m\u001b[0;34m.\u001b[0m\u001b[0mwait\u001b[0m\u001b[0;34m(\u001b[0m\u001b[0mtimeout\u001b[0m\u001b[0;34m)\u001b[0m\u001b[0;34m\u001b[0m\u001b[0m\n\u001b[0m\u001b[1;32m    428\u001b[0m \u001b[0;34m\u001b[0m\u001b[0m\n\u001b[1;32m    429\u001b[0m             \u001b[0;32mif\u001b[0m \u001b[0mself\u001b[0m\u001b[0;34m.\u001b[0m\u001b[0m_state\u001b[0m \u001b[0;32min\u001b[0m \u001b[0;34m[\u001b[0m\u001b[0mCANCELLED\u001b[0m\u001b[0;34m,\u001b[0m \u001b[0mCANCELLED_AND_NOTIFIED\u001b[0m\u001b[0;34m]\u001b[0m\u001b[0;34m:\u001b[0m\u001b[0;34m\u001b[0m\u001b[0m\n",
      "\u001b[0;32m~/.conda/envs/python37env/lib/python3.7/threading.py\u001b[0m in \u001b[0;36mwait\u001b[0;34m(self, timeout)\u001b[0m\n\u001b[1;32m    294\u001b[0m         \u001b[0;32mtry\u001b[0m\u001b[0;34m:\u001b[0m    \u001b[0;31m# restore state no matter what (e.g., KeyboardInterrupt)\u001b[0m\u001b[0;34m\u001b[0m\u001b[0m\n\u001b[1;32m    295\u001b[0m             \u001b[0;32mif\u001b[0m \u001b[0mtimeout\u001b[0m \u001b[0;32mis\u001b[0m \u001b[0;32mNone\u001b[0m\u001b[0;34m:\u001b[0m\u001b[0;34m\u001b[0m\u001b[0m\n\u001b[0;32m--> 296\u001b[0;31m                 \u001b[0mwaiter\u001b[0m\u001b[0;34m.\u001b[0m\u001b[0macquire\u001b[0m\u001b[0;34m(\u001b[0m\u001b[0;34m)\u001b[0m\u001b[0;34m\u001b[0m\u001b[0m\n\u001b[0m\u001b[1;32m    297\u001b[0m                 \u001b[0mgotit\u001b[0m \u001b[0;34m=\u001b[0m \u001b[0;32mTrue\u001b[0m\u001b[0;34m\u001b[0m\u001b[0m\n\u001b[1;32m    298\u001b[0m             \u001b[0;32melse\u001b[0m\u001b[0;34m:\u001b[0m\u001b[0;34m\u001b[0m\u001b[0m\n",
      "\u001b[0;31mKeyboardInterrupt\u001b[0m: "
     ]
    }
   ],
   "source": [
    "\n",
    "svm_clf1=SVC(random_state=0)\n",
    "\n",
    "rf_random = RandomizedSearchCV(estimator=svm_clf1, param_distributions=random_grid,\n",
    "                              n_iter = 50, \n",
    "                              cv = 3, verbose=2, random_state=42, n_jobs=-1,\n",
    "                              return_train_score=True)\n",
    "\n",
    "\n",
    "# Fit the random search model\n",
    "rf_random.fit(X_train, y_train)"
   ]
  },
  {
   "cell_type": "code",
   "execution_count": null,
   "id": "f5bb3572",
   "metadata": {},
   "outputs": [],
   "source": [
    "rf_random.best_params_"
   ]
  },
  {
   "cell_type": "markdown",
   "id": "cee6d42b",
   "metadata": {},
   "source": [
    "### Using with Best Params \n",
    "\n",
    "\n",
    "**Initialise the model and  fit it using train data and measure the accuracy metrics**"
   ]
  },
  {
   "cell_type": "code",
   "execution_count": 33,
   "id": "b7f05913",
   "metadata": {},
   "outputs": [
    {
     "name": "stdout",
     "output_type": "stream",
     "text": [
      "SVM - Completed\n"
     ]
    }
   ],
   "source": [
    "svm_clf_tuned=SVC(random_state=0,probability=True)\n",
    "\n",
    "svm_clf_tuned.fit(X_train, y_train)\n",
    "\n",
    "# save the model to disk\n",
    "filename = 'outputs//fakenewsnet_ml_bert//fakenewsnet_ml_SVM_bert.sav'\n",
    "pickle.dump(svm_clf_tuned, open(filename, 'wb'))\n",
    "print('SVM - Completed')"
   ]
  },
  {
   "cell_type": "code",
   "execution_count": 36,
   "id": "d7afd574",
   "metadata": {},
   "outputs": [
    {
     "name": "stdout",
     "output_type": "stream",
     "text": [
      "Accuracy score : 0.805992141453831\n",
      "Confusion matrix : \n",
      " [[2637  425]\n",
      " [ 365  645]]\n",
      "Classification Report\n",
      "              precision    recall  f1-score   support\n",
      "\n",
      "           0       0.88      0.86      0.87      3062\n",
      "           1       0.60      0.64      0.62      1010\n",
      "\n",
      "    accuracy                           0.81      4072\n",
      "   macro avg       0.74      0.75      0.74      4072\n",
      "weighted avg       0.81      0.81      0.81      4072\n",
      "\n",
      "Precision : 0.602803738317757\n",
      "Recall : 0.6386138613861386\n",
      "F1 Score : 0.6201923076923077\n"
     ]
    }
   ],
   "source": [
    "#Loading the model\n",
    "filename = 'outputs//fakenewsnet_ml_bert//fakenewsnet_ml_SVM_bert.sav'\n",
    "\n",
    "svm_clf_tuned = pickle.load(open(filename, 'rb'))\n",
    "\n",
    "#pred = svm_clf_tuned.predict(X_test)\n",
    "\n",
    "y_pred = svm_clf_tuned.predict_proba(X_test)[:, 1]\n",
    "pred=np.array((y_pred > 0.3).astype(int))\n",
    "\n",
    "print(\"Accuracy score : {}\".format(accuracy_score(y_test, pred)))\n",
    "print(\"Confusion matrix : \\n {}\".format(confusion_matrix(y_test, pred)))\n",
    "print(\"Classification Report\")\n",
    "print(classification_report(y_test, pred))\n",
    "precision = precision_score(y_test, pred)\n",
    "print(\"Precision : {}\".format(precision))\n",
    "recall = recall_score(y_test, pred)\n",
    "print(\"Recall : {}\".format(recall))\n",
    "f1score = f1_score(y_test, pred)\n",
    "print(\"F1 Score : {}\".format(f1score))\n"
   ]
  },
  {
   "cell_type": "markdown",
   "id": "2d617171",
   "metadata": {},
   "source": [
    "**Save the classification report to csv**"
   ]
  },
  {
   "cell_type": "code",
   "execution_count": 38,
   "id": "cc28a134",
   "metadata": {},
   "outputs": [
    {
     "data": {
      "text/html": [
       "<div>\n",
       "<style scoped>\n",
       "    .dataframe tbody tr th:only-of-type {\n",
       "        vertical-align: middle;\n",
       "    }\n",
       "\n",
       "    .dataframe tbody tr th {\n",
       "        vertical-align: top;\n",
       "    }\n",
       "\n",
       "    .dataframe thead th {\n",
       "        text-align: right;\n",
       "    }\n",
       "</style>\n",
       "<table border=\"1\" class=\"dataframe\">\n",
       "  <thead>\n",
       "    <tr style=\"text-align: right;\">\n",
       "      <th></th>\n",
       "      <th>precision</th>\n",
       "      <th>recall</th>\n",
       "      <th>f1-score</th>\n",
       "      <th>support</th>\n",
       "    </tr>\n",
       "  </thead>\n",
       "  <tbody>\n",
       "    <tr>\n",
       "      <th>0</th>\n",
       "      <td>0.878414</td>\n",
       "      <td>0.861202</td>\n",
       "      <td>0.869723</td>\n",
       "      <td>3062.000000</td>\n",
       "    </tr>\n",
       "    <tr>\n",
       "      <th>1</th>\n",
       "      <td>0.602804</td>\n",
       "      <td>0.638614</td>\n",
       "      <td>0.620192</td>\n",
       "      <td>1010.000000</td>\n",
       "    </tr>\n",
       "    <tr>\n",
       "      <th>accuracy</th>\n",
       "      <td>0.805992</td>\n",
       "      <td>0.805992</td>\n",
       "      <td>0.805992</td>\n",
       "      <td>0.805992</td>\n",
       "    </tr>\n",
       "    <tr>\n",
       "      <th>macro avg</th>\n",
       "      <td>0.740609</td>\n",
       "      <td>0.749908</td>\n",
       "      <td>0.744958</td>\n",
       "      <td>4072.000000</td>\n",
       "    </tr>\n",
       "    <tr>\n",
       "      <th>weighted avg</th>\n",
       "      <td>0.810053</td>\n",
       "      <td>0.805992</td>\n",
       "      <td>0.807831</td>\n",
       "      <td>4072.000000</td>\n",
       "    </tr>\n",
       "  </tbody>\n",
       "</table>\n",
       "</div>"
      ],
      "text/plain": [
       "              precision    recall  f1-score      support\n",
       "0              0.878414  0.861202  0.869723  3062.000000\n",
       "1              0.602804  0.638614  0.620192  1010.000000\n",
       "accuracy       0.805992  0.805992  0.805992     0.805992\n",
       "macro avg      0.740609  0.749908  0.744958  4072.000000\n",
       "weighted avg   0.810053  0.805992  0.807831  4072.000000"
      ]
     },
     "execution_count": 38,
     "metadata": {},
     "output_type": "execute_result"
    }
   ],
   "source": [
    "report=classification_report(y_test, pred, output_dict=True)\n",
    "df = pd.DataFrame(report).transpose()\n",
    "df.to_csv(\"outputs//fakenewsnet_ml_bert//model_FAKENEWSNET_SVM_BERT_clasifctnrpt.csv\")\n",
    "df.head()"
   ]
  },
  {
   "cell_type": "markdown",
   "id": "38b25dbe",
   "metadata": {},
   "source": [
    "**Plot confusion matrix using the user defined functions created earlier**"
   ]
  },
  {
   "cell_type": "code",
   "execution_count": 39,
   "id": "80171aad",
   "metadata": {},
   "outputs": [
    {
     "data": {
      "image/png": "[encoded data removed]",
      "text/plain": [
       "<Figure size 360x300 with 2 Axes>"
      ]
     },
     "metadata": {},
     "output_type": "display_data"
    },
    {
     "data": {
      "image/png": "[encoded data removed]",
      "text/plain": [
       "<Figure size 360x300 with 2 Axes>"
      ]
     },
     "metadata": {},
     "output_type": "display_data"
    }
   ],
   "source": [
    "cm=confusion_matrix(y_test, pred)\n",
    "path1=\"outputs//fakenewsnet_ml_bert//fakenewsnet_ml_SVM_bert_cmtrx.png\"\n",
    "path2=\"outputs//fakenewsnet_ml_bert//fakenewsnet_ml_SVM_bert_ncmtrx.png\"\n",
    "confusn_mtrx_plot(cm,path1)\n",
    "norm_confusn_mtrx_plot(cm,path2)"
   ]
  },
  {
   "cell_type": "markdown",
   "id": "12664f9b",
   "metadata": {},
   "source": [
    "## KNN\n",
    "\n",
    "**Initialise the model and  fit it using train data and measure the accuracy metrics**"
   ]
  },
  {
   "cell_type": "code",
   "execution_count": 40,
   "id": "33653bfc",
   "metadata": {},
   "outputs": [],
   "source": [
    "#Create KNN Object.\n",
    "knn_clf = KNeighborsClassifier()"
   ]
  },
  {
   "cell_type": "code",
   "execution_count": 41,
   "id": "8ab8f50c",
   "metadata": {},
   "outputs": [
    {
     "name": "stdout",
     "output_type": "stream",
     "text": [
      "Accuracy score : 0.81213163064833\n",
      "Confusion matrix : \n",
      " [[2794  268]\n",
      " [ 497  513]]\n",
      "Classification Report\n",
      "              precision    recall  f1-score   support\n",
      "\n",
      "           0       0.85      0.91      0.88      3062\n",
      "           1       0.66      0.51      0.57      1010\n",
      "\n",
      "    accuracy                           0.81      4072\n",
      "   macro avg       0.75      0.71      0.73      4072\n",
      "weighted avg       0.80      0.81      0.80      4072\n",
      "\n"
     ]
    }
   ],
   "source": [
    "knn_clf.fit(X_train,y_train)\n",
    "\n",
    "pred = knn_clf.predict(X_test)\n",
    "print(\"Accuracy score : {}\".format(accuracy_score(y_test, pred)))\n",
    "print(\"Confusion matrix : \\n {}\".format(confusion_matrix(y_test, pred)))\n",
    "print(\"Classification Report\")\n",
    "print(classification_report(y_test, pred))"
   ]
  },
  {
   "cell_type": "markdown",
   "id": "ede806e4",
   "metadata": {},
   "source": [
    "#### Hyperparameter Tuning \n",
    "\n",
    "Define the list of parameters which needed to do hyperparameter tuning"
   ]
  },
  {
   "cell_type": "code",
   "execution_count": 30,
   "id": "c84c79ff",
   "metadata": {
    "collapsed": true
   },
   "outputs": [
    {
     "name": "stdout",
     "output_type": "stream",
     "text": [
      "{'leaf_size': [1,\n",
      "               2,\n",
      "               3,\n",
      "               4,\n",
      "               5,\n",
      "               6,\n",
      "               7,\n",
      "               8,\n",
      "               9,\n",
      "               10,\n",
      "               11,\n",
      "               12,\n",
      "               13,\n",
      "               14,\n",
      "               15,\n",
      "               16,\n",
      "               17,\n",
      "               18,\n",
      "               19,\n",
      "               20,\n",
      "               21,\n",
      "               22,\n",
      "               23,\n",
      "               24,\n",
      "               25,\n",
      "               26,\n",
      "               27,\n",
      "               28,\n",
      "               29,\n",
      "               30,\n",
      "               31,\n",
      "               32,\n",
      "               33,\n",
      "               34,\n",
      "               35,\n",
      "               36,\n",
      "               37,\n",
      "               38,\n",
      "               39,\n",
      "               40,\n",
      "               41,\n",
      "               42,\n",
      "               43,\n",
      "               44,\n",
      "               45,\n",
      "               46,\n",
      "               47,\n",
      "               48,\n",
      "               49],\n",
      " 'n_neighbors': [1,\n",
      "                 2,\n",
      "                 3,\n",
      "                 4,\n",
      "                 5,\n",
      "                 6,\n",
      "                 7,\n",
      "                 8,\n",
      "                 9,\n",
      "                 10,\n",
      "                 11,\n",
      "                 12,\n",
      "                 13,\n",
      "                 14,\n",
      "                 15,\n",
      "                 16,\n",
      "                 17,\n",
      "                 18,\n",
      "                 19,\n",
      "                 20,\n",
      "                 21,\n",
      "                 22,\n",
      "                 23,\n",
      "                 24,\n",
      "                 25,\n",
      "                 26,\n",
      "                 27,\n",
      "                 28,\n",
      "                 29],\n",
      " 'p': [1, 2]}\n"
     ]
    }
   ],
   "source": [
    "# Create the random grid\n",
    "random_grid = {\n",
    "    'leaf_size': list(range(1,50)),\n",
    "               'n_neighbors': list(range(1,30)),\n",
    "               'p':  [1,2],\n",
    "              }\n",
    "pprint(random_grid)"
   ]
  },
  {
   "cell_type": "markdown",
   "id": "8ff3182b",
   "metadata": {},
   "source": [
    "**Apply RandomizedSearchCV library for hyperparameter tuning  and fit the model using train data**"
   ]
  },
  {
   "cell_type": "code",
   "execution_count": 31,
   "id": "f734f68c",
   "metadata": {
    "collapsed": true
   },
   "outputs": [
    {
     "name": "stdout",
     "output_type": "stream",
     "text": [
      "Fitting 3 folds for each of 100 candidates, totalling 300 fits\n",
      "[CV] END ..................leaf_size=17, n_neighbors=19, p=2; total time=   4.9s\n",
      "[CV] END ..................leaf_size=14, n_neighbors=29, p=2; total time=   3.4s\n",
      "[CV] END ...................leaf_size=10, n_neighbors=6, p=2; total time=   3.6s\n",
      "[CV] END ..................leaf_size=15, n_neighbors=15, p=2; total time=   3.1s\n",
      "[CV] END ...................leaf_size=38, n_neighbors=8, p=2; total time=   3.4s\n",
      "[CV] END ..................leaf_size=41, n_neighbors=27, p=2; total time=   3.0s\n",
      "[CV] END ...................leaf_size=14, n_neighbors=6, p=2; total time=   3.3s\n",
      "[CV] END ...................leaf_size=3, n_neighbors=13, p=2; total time=   3.0s\n",
      "[CV] END ..................leaf_size=18, n_neighbors=16, p=2; total time=   3.0s\n",
      "[CV] END ..................leaf_size=21, n_neighbors=24, p=1; total time= 2.1min\n",
      "[CV] END ..................leaf_size=27, n_neighbors=16, p=1; total time= 2.3min\n"
     ]
    },
    {
     "data": {
      "text/plain": [
       "RandomizedSearchCV(cv=3, estimator=KNeighborsClassifier(), n_iter=100,\n",
       "                   n_jobs=-1,\n",
       "                   param_distributions={'leaf_size': [1, 2, 3, 4, 5, 6, 7, 8, 9,\n",
       "                                                      10, 11, 12, 13, 14, 15,\n",
       "                                                      16, 17, 18, 19, 20, 21,\n",
       "                                                      22, 23, 24, 25, 26, 27,\n",
       "                                                      28, 29, 30, ...],\n",
       "                                        'n_neighbors': [1, 2, 3, 4, 5, 6, 7, 8,\n",
       "                                                        9, 10, 11, 12, 13, 14,\n",
       "                                                        15, 16, 17, 18, 19, 20,\n",
       "                                                        21, 22, 23, 24, 25, 26,\n",
       "                                                        27, 28, 29],\n",
       "                                        'p': [1, 2]},\n",
       "                   random_state=42, return_train_score=True, verbose=2)"
      ]
     },
     "execution_count": 31,
     "metadata": {},
     "output_type": "execute_result"
    }
   ],
   "source": [
    "\n",
    "knn_clf1=KNeighborsClassifier()\n",
    "\n",
    "rf_random = RandomizedSearchCV(estimator=knn_clf1, param_distributions=random_grid,\n",
    "                              n_iter = 100, \n",
    "                              cv = 3, verbose=2, random_state=42, n_jobs=-1,\n",
    "                              return_train_score=True)\n",
    "\n",
    "\n",
    "# Fit the random search model\n",
    "rf_random.fit(X_train,y_train)"
   ]
  },
  {
   "cell_type": "code",
   "execution_count": 33,
   "id": "46b1a292",
   "metadata": {},
   "outputs": [
    {
     "data": {
      "text/plain": [
       "{'p': 1, 'n_neighbors': 27, 'leaf_size': 13}"
      ]
     },
     "execution_count": 33,
     "metadata": {},
     "output_type": "execute_result"
    }
   ],
   "source": [
    "rf_random.best_params_"
   ]
  },
  {
   "cell_type": "markdown",
   "id": "346c3a3d",
   "metadata": {},
   "source": [
    "### Using with Best Params \n",
    "\n",
    "\n",
    "**Initialise the model and  fit it using train data and measure the accuracy metrics**"
   ]
  },
  {
   "cell_type": "code",
   "execution_count": 42,
   "id": "71335898",
   "metadata": {},
   "outputs": [
    {
     "name": "stdout",
     "output_type": "stream",
     "text": [
      "KNN - Completed\n"
     ]
    }
   ],
   "source": [
    "knn_clf_tuned=KNeighborsClassifier(n_neighbors=27,leaf_size=13,p=1)\n",
    "knn_clf_tuned.fit(X_train,y_train)\n",
    "\n",
    "# save the model to disk\n",
    "filename = 'outputs//fakenewsnet_ml_bert//fakenewsnet_ml_KNN_bert.sav'\n",
    "pickle.dump(svm_clf_tuned, open(filename, 'wb'))\n",
    "print('KNN - Completed')"
   ]
  },
  {
   "cell_type": "code",
   "execution_count": 51,
   "id": "969d44c9",
   "metadata": {},
   "outputs": [
    {
     "name": "stdout",
     "output_type": "stream",
     "text": [
      "Accuracy score : 0.8295677799607073\n",
      "Confusion matrix : \n",
      " [[2825  237]\n",
      " [ 457  553]]\n",
      "Classification Report\n",
      "              precision    recall  f1-score   support\n",
      "\n",
      "           0       0.86      0.92      0.89      3062\n",
      "           1       0.70      0.55      0.61      1010\n",
      "\n",
      "    accuracy                           0.83      4072\n",
      "   macro avg       0.78      0.74      0.75      4072\n",
      "weighted avg       0.82      0.83      0.82      4072\n",
      "\n",
      "Precision : 0.7\n",
      "Recall : 0.5475247524752476\n",
      "F1 Score : 0.6144444444444445\n"
     ]
    }
   ],
   "source": [
    "#Loading the model\n",
    "filename = 'outputs//fakenewsnet_ml_bert//fakenewsnet_ml_KNN_bert.sav'\n",
    "\n",
    "knn_clf_tuned = pickle.load(open(filename, 'rb'))\n",
    "\n",
    "#pred = knn_clf_tuned.predict(X_test)\n",
    "y_pred = knn_clf_tuned.predict_proba(X_test)[:, 1]\n",
    "pred=np.array((y_pred > 0.4).astype(int))\n",
    "\n",
    "print(\"Accuracy score : {}\".format(accuracy_score(y_test, pred)))\n",
    "print(\"Confusion matrix : \\n {}\".format(confusion_matrix(y_test, pred)))\n",
    "print(\"Classification Report\")\n",
    "print(classification_report(y_test, pred))\n",
    "precision = precision_score(y_test, pred)\n",
    "print(\"Precision : {}\".format(precision))\n",
    "recall = recall_score(y_test, pred)\n",
    "print(\"Recall : {}\".format(recall))\n",
    "f1score = f1_score(y_test, pred)\n",
    "print(\"F1 Score : {}\".format(f1score))\n"
   ]
  },
  {
   "cell_type": "markdown",
   "id": "ec400569",
   "metadata": {},
   "source": [
    "**Save the classification report to csv**"
   ]
  },
  {
   "cell_type": "code",
   "execution_count": 52,
   "id": "398ab98f",
   "metadata": {},
   "outputs": [
    {
     "data": {
      "text/html": [
       "<div>\n",
       "<style scoped>\n",
       "    .dataframe tbody tr th:only-of-type {\n",
       "        vertical-align: middle;\n",
       "    }\n",
       "\n",
       "    .dataframe tbody tr th {\n",
       "        vertical-align: top;\n",
       "    }\n",
       "\n",
       "    .dataframe thead th {\n",
       "        text-align: right;\n",
       "    }\n",
       "</style>\n",
       "<table border=\"1\" class=\"dataframe\">\n",
       "  <thead>\n",
       "    <tr style=\"text-align: right;\">\n",
       "      <th></th>\n",
       "      <th>precision</th>\n",
       "      <th>recall</th>\n",
       "      <th>f1-score</th>\n",
       "      <th>support</th>\n",
       "    </tr>\n",
       "  </thead>\n",
       "  <tbody>\n",
       "    <tr>\n",
       "      <th>0</th>\n",
       "      <td>0.860756</td>\n",
       "      <td>0.922600</td>\n",
       "      <td>0.890605</td>\n",
       "      <td>3062.000000</td>\n",
       "    </tr>\n",
       "    <tr>\n",
       "      <th>1</th>\n",
       "      <td>0.700000</td>\n",
       "      <td>0.547525</td>\n",
       "      <td>0.614444</td>\n",
       "      <td>1010.000000</td>\n",
       "    </tr>\n",
       "    <tr>\n",
       "      <th>accuracy</th>\n",
       "      <td>0.829568</td>\n",
       "      <td>0.829568</td>\n",
       "      <td>0.829568</td>\n",
       "      <td>0.829568</td>\n",
       "    </tr>\n",
       "    <tr>\n",
       "      <th>macro avg</th>\n",
       "      <td>0.780378</td>\n",
       "      <td>0.735062</td>\n",
       "      <td>0.752525</td>\n",
       "      <td>4072.000000</td>\n",
       "    </tr>\n",
       "    <tr>\n",
       "      <th>weighted avg</th>\n",
       "      <td>0.820883</td>\n",
       "      <td>0.829568</td>\n",
       "      <td>0.822108</td>\n",
       "      <td>4072.000000</td>\n",
       "    </tr>\n",
       "  </tbody>\n",
       "</table>\n",
       "</div>"
      ],
      "text/plain": [
       "              precision    recall  f1-score      support\n",
       "0              0.860756  0.922600  0.890605  3062.000000\n",
       "1              0.700000  0.547525  0.614444  1010.000000\n",
       "accuracy       0.829568  0.829568  0.829568     0.829568\n",
       "macro avg      0.780378  0.735062  0.752525  4072.000000\n",
       "weighted avg   0.820883  0.829568  0.822108  4072.000000"
      ]
     },
     "execution_count": 52,
     "metadata": {},
     "output_type": "execute_result"
    }
   ],
   "source": [
    "report=classification_report(y_test, pred, output_dict=True)\n",
    "df = pd.DataFrame(report).transpose()\n",
    "df.to_csv(\"outputs//fakenewsnet_ml_bert//model_FAKENEWSNET_KNN_BERT_clasifctnrpt.csv\")\n",
    "df.head()"
   ]
  },
  {
   "cell_type": "markdown",
   "id": "847a5620",
   "metadata": {},
   "source": [
    "**Plot confusion matrix using the user defined functions created earlier**"
   ]
  },
  {
   "cell_type": "code",
   "execution_count": 53,
   "id": "dd2fe217",
   "metadata": {},
   "outputs": [
    {
     "data": {
      "image/png": "[encoded data removed]",
      "text/plain": [
       "<Figure size 360x300 with 2 Axes>"
      ]
     },
     "metadata": {},
     "output_type": "display_data"
    },
    {
     "data": {
      "image/png": "[encoded data removed]",
      "text/plain": [
       "<Figure size 360x300 with 2 Axes>"
      ]
     },
     "metadata": {},
     "output_type": "display_data"
    }
   ],
   "source": [
    "cm=confusion_matrix(y_test, pred)\n",
    "path1=\"outputs//fakenewsnet_ml_bert//fakenewsnet_ml_KNN_bert_cmtrx.png\"\n",
    "path2=\"outputs//fakenewsnet_ml_bert//fakenewsnet_ml_KNN_bert_ncmtrx.png\"\n",
    "confusn_mtrx_plot(cm,path1)\n",
    "norm_confusn_mtrx_plot(cm,path2)"
   ]
  },
  {
   "cell_type": "code",
   "execution_count": null,
   "id": "2e3d4f7c",
   "metadata": {},
   "outputs": [],
   "source": []
  },
  {
   "cell_type": "markdown",
   "id": "1f878c31",
   "metadata": {},
   "source": [
    "### Xgboost\n",
    "\n",
    "**Initialise the model and  fit it using train data and measure the accuracy metrics**"
   ]
  },
  {
   "cell_type": "code",
   "execution_count": 54,
   "id": "7ac17299",
   "metadata": {},
   "outputs": [
    {
     "name": "stdout",
     "output_type": "stream",
     "text": [
      "Accuracy score : 0.8295677799607073\n",
      "Confusion matrix : \n",
      " [[2889  173]\n",
      " [ 521  489]]\n",
      "Classification Report\n",
      "              precision    recall  f1-score   support\n",
      "\n",
      "           0       0.85      0.94      0.89      3062\n",
      "           1       0.74      0.48      0.58      1010\n",
      "\n",
      "    accuracy                           0.83      4072\n",
      "   macro avg       0.79      0.71      0.74      4072\n",
      "weighted avg       0.82      0.83      0.82      4072\n",
      "\n"
     ]
    }
   ],
   "source": [
    "#Create KNN Object.\n",
    "xg_clf=XGBClassifier(random_state=0)\n",
    "\n",
    "xg_clf.fit(X_train,y_train)\n",
    "\n",
    "pred = xg_clf.predict(X_test)\n",
    "print(\"Accuracy score : {}\".format(accuracy_score(y_test, pred)))\n",
    "print(\"Confusion matrix : \\n {}\".format(confusion_matrix(y_test, pred)))\n",
    "print(\"Classification Report\")\n",
    "print(classification_report(y_test, pred))\n"
   ]
  },
  {
   "cell_type": "markdown",
   "id": "6303507c",
   "metadata": {},
   "source": [
    "#### Hyperparameter Tuning \n",
    "\n",
    "Define the list of parameters which needed to do hyperparameter tuning"
   ]
  },
  {
   "cell_type": "code",
   "execution_count": 36,
   "id": "b69446c2",
   "metadata": {
    "collapsed": true
   },
   "outputs": [
    {
     "name": "stdout",
     "output_type": "stream",
     "text": [
      "{'alpha': [1e-05, 0.01, 0.1, 1, 10, 50, 100],\n",
      " 'colsample_bylevel': array([0.5, 0.6, 0.7, 0.8, 0.9]),\n",
      " 'colsample_bytree': array([0.5, 0.6, 0.7, 0.8, 0.9]),\n",
      " 'gamma': [1,\n",
      "           2,\n",
      "           3,\n",
      "           4,\n",
      "           5,\n",
      "           6,\n",
      "           7,\n",
      "           8,\n",
      "           9,\n",
      "           10,\n",
      "           11,\n",
      "           12,\n",
      "           13,\n",
      "           14,\n",
      "           15,\n",
      "           16,\n",
      "           17,\n",
      "           18,\n",
      "           19,\n",
      "           20,\n",
      "           21,\n",
      "           22,\n",
      "           23,\n",
      "           24,\n",
      "           25,\n",
      "           26,\n",
      "           27,\n",
      "           28,\n",
      "           29],\n",
      " 'learning_rate': [0.01, 0.1, 0.2, 0.3, 0.4],\n",
      " 'max_depth': range(3, 15, 2),\n",
      " 'min_child_weight': range(1, 6, 2),\n",
      " 'n_estimators': [100, 250, 500],\n",
      " 'scale_pos_weight': range(1, 5),\n",
      " 'subsample': array([0.5, 0.6, 0.7, 0.8, 0.9])}\n"
     ]
    }
   ],
   "source": [
    "# Create the random grid\n",
    "random_grid = {\n",
    "    'min_child_weight': range(1,6,2),\n",
    "    'gamma': list(range(1,30)),\n",
    "    'max_depth':  range(3,15,2),\n",
    "    'alpha': [1e-5, 1e-2, 0.1,1,10,50, 100],\n",
    "    'subsample':np.arange(0.5, 1.0, 0.1),\n",
    "    'scale_pos_weight':range(1,5,1),\n",
    "    'colsample_bytree':np.arange(0.5, 1.0, 0.1),\n",
    "    'n_estimators':[100, 250, 500],\n",
    "    'learning_rate': [0.01, 0.1, 0.2, 0.3, 0.4],\n",
    "    'colsample_bylevel': np.arange(0.5, 1.0, 0.1),\n",
    "    }\n",
    "pprint(random_grid)"
   ]
  },
  {
   "cell_type": "markdown",
   "id": "f8b571c4",
   "metadata": {},
   "source": [
    "**Apply RandomizedSearchCV library for hyperparameter tuning  and fit the model using train data**"
   ]
  },
  {
   "cell_type": "code",
   "execution_count": 37,
   "id": "5c5ea979",
   "metadata": {
    "collapsed": true
   },
   "outputs": [
    {
     "name": "stdout",
     "output_type": "stream",
     "text": [
      "Fitting 3 folds for each of 100 candidates, totalling 300 fits\n",
      "[CV] END alpha=50, colsample_bylevel=0.6, colsample_bytree=0.8999999999999999, gamma=19, learning_rate=0.01, max_depth=5, min_child_weight=1, n_estimators=100, scale_pos_weight=2, subsample=0.7999999999999999; total time=  48.8s\n",
      "[CV] END alpha=0.01, colsample_bylevel=0.5, colsample_bytree=0.7999999999999999, gamma=26, learning_rate=0.1, max_depth=7, min_child_weight=5, n_estimators=100, scale_pos_weight=3, subsample=0.7999999999999999; total time=  53.2s\n",
      "[CV] END alpha=0.1, colsample_bylevel=0.7, colsample_bytree=0.6, gamma=27, learning_rate=0.2, max_depth=11, min_child_weight=3, n_estimators=250, scale_pos_weight=4, subsample=0.8999999999999999; total time= 3.6min\n",
      "[CV] END alpha=50, colsample_bylevel=0.5, colsample_bytree=0.7999999999999999, gamma=22, learning_rate=0.4, max_depth=5, min_child_weight=5, n_estimators=500, scale_pos_weight=4, subsample=0.5; total time= 2.4min\n",
      "[CV] END alpha=100, colsample_bylevel=0.8999999999999999, colsample_bytree=0.7, gamma=1, learning_rate=0.3, max_depth=11, min_child_weight=3, n_estimators=100, scale_pos_weight=4, subsample=0.8999999999999999; total time= 1.3min\n",
      "[CV] END alpha=100, colsample_bylevel=0.8999999999999999, colsample_bytree=0.8999999999999999, gamma=3, learning_rate=0.1, max_depth=13, min_child_weight=5, n_estimators=250, scale_pos_weight=2, subsample=0.8999999999999999; total time= 3.1min\n",
      "[CV] END alpha=1e-05, colsample_bylevel=0.8999999999999999, colsample_bytree=0.6, gamma=15, learning_rate=0.2, max_depth=5, min_child_weight=3, n_estimators=100, scale_pos_weight=3, subsample=0.7; total time=  49.1s\n",
      "[CV] END alpha=0.01, colsample_bylevel=0.8999999999999999, colsample_bytree=0.7, gamma=9, learning_rate=0.1, max_depth=7, min_child_weight=1, n_estimators=100, scale_pos_weight=3, subsample=0.7; total time= 1.2min\n",
      "[CV] END alpha=1e-05, colsample_bylevel=0.5, colsample_bytree=0.5, gamma=20, learning_rate=0.01, max_depth=11, min_child_weight=1, n_estimators=250, scale_pos_weight=4, subsample=0.5; total time= 1.7min\n",
      "[CV] END alpha=1, colsample_bylevel=0.6, colsample_bytree=0.8999999999999999, gamma=16, learning_rate=0.2, max_depth=3, min_child_weight=5, n_estimators=500, scale_pos_weight=1, subsample=0.7999999999999999; total time= 2.3min\n",
      "[CV] END alpha=1e-05, colsample_bylevel=0.8999999999999999, colsample_bytree=0.6, gamma=18, learning_rate=0.4, max_depth=9, min_child_weight=3, n_estimators=250, scale_pos_weight=4, subsample=0.7; total time= 3.3min\n",
      "[CV] END alpha=1e-05, colsample_bylevel=0.8999999999999999, colsample_bytree=0.7, gamma=26, learning_rate=0.4, max_depth=5, min_child_weight=1, n_estimators=100, scale_pos_weight=1, subsample=0.7; total time=  51.3s\n",
      "[CV] END alpha=10, colsample_bylevel=0.8999999999999999, colsample_bytree=0.6, gamma=24, learning_rate=0.3, max_depth=9, min_child_weight=3, n_estimators=100, scale_pos_weight=3, subsample=0.6; total time= 1.2min\n",
      "[CV] END alpha=100, colsample_bylevel=0.8999999999999999, colsample_bytree=0.5, gamma=24, learning_rate=0.3, max_depth=11, min_child_weight=3, n_estimators=100, scale_pos_weight=1, subsample=0.7; total time= 1.0min\n",
      "[CV] END alpha=1e-05, colsample_bylevel=0.6, colsample_bytree=0.6, gamma=13, learning_rate=0.2, max_depth=11, min_child_weight=1, n_estimators=100, scale_pos_weight=3, subsample=0.7999999999999999; total time= 1.1min\n",
      "[CV] END alpha=100, colsample_bylevel=0.8999999999999999, colsample_bytree=0.6, gamma=15, learning_rate=0.4, max_depth=3, min_child_weight=1, n_estimators=500, scale_pos_weight=2, subsample=0.7; total time= 2.3min\n",
      "[CV] END alpha=0.1, colsample_bylevel=0.7999999999999999, colsample_bytree=0.7, gamma=28, learning_rate=0.4, max_depth=3, min_child_weight=5, n_estimators=500, scale_pos_weight=3, subsample=0.5; total time= 1.8min\n",
      "[CV] END alpha=1e-05, colsample_bylevel=0.7999999999999999, colsample_bytree=0.5, gamma=15, learning_rate=0.3, max_depth=9, min_child_weight=1, n_estimators=100, scale_pos_weight=2, subsample=0.7999999999999999; total time= 1.0min\n",
      "[CV] END alpha=50, colsample_bylevel=0.5, colsample_bytree=0.7999999999999999, gamma=28, learning_rate=0.3, max_depth=3, min_child_weight=1, n_estimators=500, scale_pos_weight=1, subsample=0.5; total time= 1.5min\n",
      "[CV] END alpha=50, colsample_bylevel=0.7, colsample_bytree=0.8999999999999999, gamma=2, learning_rate=0.2, max_depth=3, min_child_weight=5, n_estimators=250, scale_pos_weight=3, subsample=0.6; total time= 1.3min\n",
      "[CV] END alpha=50, colsample_bylevel=0.6, colsample_bytree=0.7, gamma=4, learning_rate=0.01, max_depth=3, min_child_weight=1, n_estimators=100, scale_pos_weight=3, subsample=0.7999999999999999; total time=  23.0s\n",
      "[CV] END alpha=50, colsample_bylevel=0.7999999999999999, colsample_bytree=0.6, gamma=21, learning_rate=0.3, max_depth=3, min_child_weight=3, n_estimators=250, scale_pos_weight=2, subsample=0.5; total time=  53.2s\n",
      "[CV] END alpha=0.01, colsample_bylevel=0.8999999999999999, colsample_bytree=0.6, gamma=15, learning_rate=0.2, max_depth=3, min_child_weight=1, n_estimators=100, scale_pos_weight=2, subsample=0.8999999999999999; total time=  30.3s\n",
      "[CV] END alpha=10, colsample_bylevel=0.8999999999999999, colsample_bytree=0.8999999999999999, gamma=4, learning_rate=0.1, max_depth=3, min_child_weight=1, n_estimators=500, scale_pos_weight=1, subsample=0.6; total time= 3.2min\n",
      "[CV] END alpha=1, colsample_bylevel=0.7, colsample_bytree=0.5, gamma=1, learning_rate=0.3, max_depth=11, min_child_weight=5, n_estimators=100, scale_pos_weight=3, subsample=0.7; total time=  53.7s\n",
      "[CV] END alpha=1e-05, colsample_bylevel=0.8999999999999999, colsample_bytree=0.6, gamma=11, learning_rate=0.2, max_depth=3, min_child_weight=1, n_estimators=100, scale_pos_weight=2, subsample=0.8999999999999999; total time=  32.5s\n",
      "[CV] END alpha=0.1, colsample_bylevel=0.7, colsample_bytree=0.7, gamma=14, learning_rate=0.4, max_depth=13, min_child_weight=1, n_estimators=100, scale_pos_weight=3, subsample=0.7999999999999999; total time= 1.9min\n",
      "[CV] END alpha=50, colsample_bylevel=0.5, colsample_bytree=0.7999999999999999, gamma=2, learning_rate=0.2, max_depth=9, min_child_weight=1, n_estimators=250, scale_pos_weight=2, subsample=0.5; total time= 1.4min\n",
      "[CV] END alpha=50, colsample_bylevel=0.8999999999999999, colsample_bytree=0.8999999999999999, gamma=16, learning_rate=0.3, max_depth=7, min_child_weight=5, n_estimators=100, scale_pos_weight=2, subsample=0.8999999999999999; total time= 1.8min\n",
      "[CV] END alpha=1e-05, colsample_bylevel=0.7999999999999999, colsample_bytree=0.7, gamma=2, learning_rate=0.2, max_depth=5, min_child_weight=1, n_estimators=500, scale_pos_weight=4, subsample=0.5; total time= 3.2min\n",
      "[CV] END alpha=10, colsample_bylevel=0.8999999999999999, colsample_bytree=0.8999999999999999, gamma=4, learning_rate=0.1, max_depth=3, min_child_weight=1, n_estimators=500, scale_pos_weight=1, subsample=0.6; total time= 3.4min\n",
      "[CV] END alpha=10, colsample_bylevel=0.5, colsample_bytree=0.7, gamma=23, learning_rate=0.2, max_depth=5, min_child_weight=5, n_estimators=100, scale_pos_weight=4, subsample=0.7999999999999999; total time=  34.2s\n",
      "[CV] END alpha=0.01, colsample_bylevel=0.6, colsample_bytree=0.6, gamma=24, learning_rate=0.2, max_depth=9, min_child_weight=1, n_estimators=100, scale_pos_weight=2, subsample=0.5; total time=  46.1s\n",
      "[CV] END alpha=10, colsample_bylevel=0.5, colsample_bytree=0.6, gamma=28, learning_rate=0.1, max_depth=13, min_child_weight=1, n_estimators=500, scale_pos_weight=4, subsample=0.6; total time= 5.0min\n",
      "[CV] END alpha=0.1, colsample_bylevel=0.8999999999999999, colsample_bytree=0.7, gamma=22, learning_rate=0.3, max_depth=7, min_child_weight=5, n_estimators=500, scale_pos_weight=2, subsample=0.6; total time= 5.4min\n",
      "[CV] END alpha=1e-05, colsample_bylevel=0.6, colsample_bytree=0.6, gamma=13, learning_rate=0.2, max_depth=11, min_child_weight=1, n_estimators=100, scale_pos_weight=3, subsample=0.7999999999999999; total time= 1.2min\n",
      "[CV] END alpha=0.01, colsample_bylevel=0.8999999999999999, colsample_bytree=0.7, gamma=9, learning_rate=0.1, max_depth=7, min_child_weight=1, n_estimators=100, scale_pos_weight=3, subsample=0.7; total time= 1.3min\n",
      "[CV] END alpha=1e-05, colsample_bylevel=0.5, colsample_bytree=0.5, gamma=20, learning_rate=0.01, max_depth=11, min_child_weight=1, n_estimators=250, scale_pos_weight=4, subsample=0.5; total time= 1.7min\n",
      "[CV] END alpha=50, colsample_bylevel=0.7, colsample_bytree=0.7, gamma=9, learning_rate=0.1, max_depth=3, min_child_weight=3, n_estimators=100, scale_pos_weight=4, subsample=0.5; total time=  22.9s\n",
      "[CV] END alpha=10, colsample_bylevel=0.6, colsample_bytree=0.7, gamma=20, learning_rate=0.2, max_depth=13, min_child_weight=1, n_estimators=100, scale_pos_weight=3, subsample=0.5; total time= 1.2min\n",
      "[CV] END alpha=0.1, colsample_bylevel=0.7999999999999999, colsample_bytree=0.8999999999999999, gamma=29, learning_rate=0.2, max_depth=5, min_child_weight=3, n_estimators=100, scale_pos_weight=3, subsample=0.8999999999999999; total time= 1.1min\n",
      "[CV] END alpha=1e-05, colsample_bylevel=0.6, colsample_bytree=0.8999999999999999, gamma=11, learning_rate=0.2, max_depth=3, min_child_weight=5, n_estimators=100, scale_pos_weight=2, subsample=0.8999999999999999; total time=  29.3s\n",
      "[CV] END alpha=0.1, colsample_bylevel=0.8999999999999999, colsample_bytree=0.7, gamma=22, learning_rate=0.3, max_depth=7, min_child_weight=5, n_estimators=500, scale_pos_weight=2, subsample=0.6; total time= 5.5min\n",
      "[CV] END alpha=1e-05, colsample_bylevel=0.6, colsample_bytree=0.6, gamma=13, learning_rate=0.2, max_depth=11, min_child_weight=1, n_estimators=100, scale_pos_weight=3, subsample=0.7999999999999999; total time= 1.3min\n"
     ]
    },
    {
     "name": "stdout",
     "output_type": "stream",
     "text": [
      "[CV] END alpha=100, colsample_bylevel=0.8999999999999999, colsample_bytree=0.6, gamma=15, learning_rate=0.4, max_depth=3, min_child_weight=1, n_estimators=500, scale_pos_weight=2, subsample=0.7; total time= 2.3min\n",
      "[CV] END alpha=0.01, colsample_bylevel=0.7, colsample_bytree=0.8999999999999999, gamma=2, learning_rate=0.01, max_depth=13, min_child_weight=3, n_estimators=250, scale_pos_weight=3, subsample=0.5; total time= 4.0min\n",
      "[CV] END alpha=0.1, colsample_bylevel=0.8999999999999999, colsample_bytree=0.7, gamma=22, learning_rate=0.3, max_depth=7, min_child_weight=5, n_estimators=500, scale_pos_weight=2, subsample=0.6; total time= 5.4min\n",
      "[CV] END alpha=100, colsample_bylevel=0.7999999999999999, colsample_bytree=0.8999999999999999, gamma=3, learning_rate=0.1, max_depth=5, min_child_weight=3, n_estimators=500, scale_pos_weight=1, subsample=0.5; total time= 1.6min\n",
      "[CV] END alpha=50, colsample_bylevel=0.8999999999999999, colsample_bytree=0.7999999999999999, gamma=28, learning_rate=0.4, max_depth=13, min_child_weight=1, n_estimators=250, scale_pos_weight=3, subsample=0.5; total time= 4.2min\n",
      "[CV] END alpha=1e-05, colsample_bylevel=0.7999999999999999, colsample_bytree=0.5, gamma=15, learning_rate=0.3, max_depth=9, min_child_weight=1, n_estimators=100, scale_pos_weight=2, subsample=0.7999999999999999; total time= 1.1min\n",
      "[CV] END alpha=1e-05, colsample_bylevel=0.8999999999999999, colsample_bytree=0.6, gamma=18, learning_rate=0.4, max_depth=9, min_child_weight=3, n_estimators=250, scale_pos_weight=4, subsample=0.7; total time= 3.3min\n",
      "[CV] END alpha=1e-05, colsample_bylevel=0.8999999999999999, colsample_bytree=0.7, gamma=26, learning_rate=0.4, max_depth=5, min_child_weight=1, n_estimators=100, scale_pos_weight=1, subsample=0.7; total time=  51.3s\n",
      "[CV] END alpha=10, colsample_bylevel=0.8999999999999999, colsample_bytree=0.6, gamma=24, learning_rate=0.3, max_depth=9, min_child_weight=3, n_estimators=100, scale_pos_weight=3, subsample=0.6; total time= 1.2min\n",
      "[CV] END alpha=100, colsample_bylevel=0.8999999999999999, colsample_bytree=0.5, gamma=24, learning_rate=0.3, max_depth=11, min_child_weight=3, n_estimators=100, scale_pos_weight=1, subsample=0.7; total time= 1.0min\n",
      "[CV] END alpha=100, colsample_bylevel=0.7999999999999999, colsample_bytree=0.8999999999999999, gamma=3, learning_rate=0.1, max_depth=5, min_child_weight=3, n_estimators=500, scale_pos_weight=1, subsample=0.5; total time= 1.6min\n",
      "[CV] END alpha=50, colsample_bylevel=0.7, colsample_bytree=0.5, gamma=21, learning_rate=0.01, max_depth=9, min_child_weight=5, n_estimators=250, scale_pos_weight=2, subsample=0.7; total time= 2.1min\n",
      "[CV] END alpha=0.1, colsample_bylevel=0.6, colsample_bytree=0.8999999999999999, gamma=13, learning_rate=0.1, max_depth=7, min_child_weight=1, n_estimators=100, scale_pos_weight=2, subsample=0.7999999999999999; total time= 1.1min\n",
      "[CV] END alpha=100, colsample_bylevel=0.8999999999999999, colsample_bytree=0.5, gamma=9, learning_rate=0.1, max_depth=7, min_child_weight=5, n_estimators=100, scale_pos_weight=2, subsample=0.6; total time=  45.1s\n",
      "[CV] END alpha=10, colsample_bylevel=0.7999999999999999, colsample_bytree=0.8999999999999999, gamma=18, learning_rate=0.4, max_depth=3, min_child_weight=1, n_estimators=500, scale_pos_weight=3, subsample=0.5; total time= 2.5min\n",
      "[CV] END alpha=1e-05, colsample_bylevel=0.7999999999999999, colsample_bytree=0.7, gamma=2, learning_rate=0.2, max_depth=5, min_child_weight=1, n_estimators=500, scale_pos_weight=4, subsample=0.5; total time= 3.2min\n",
      "[CV] END alpha=10, colsample_bylevel=0.8999999999999999, colsample_bytree=0.8999999999999999, gamma=4, learning_rate=0.1, max_depth=3, min_child_weight=1, n_estimators=500, scale_pos_weight=1, subsample=0.6; total time= 3.0min\n",
      "[CV] END alpha=100, colsample_bylevel=0.6, colsample_bytree=0.6, gamma=29, learning_rate=0.3, max_depth=7, min_child_weight=5, n_estimators=100, scale_pos_weight=2, subsample=0.8999999999999999; total time=  41.6s\n",
      "[CV] END alpha=1e-05, colsample_bylevel=0.7, colsample_bytree=0.8999999999999999, gamma=8, learning_rate=0.3, max_depth=13, min_child_weight=5, n_estimators=250, scale_pos_weight=2, subsample=0.8999999999999999; total time= 5.3min\n",
      "[CV] END alpha=1e-05, colsample_bylevel=0.8999999999999999, colsample_bytree=0.6, gamma=18, learning_rate=0.4, max_depth=9, min_child_weight=3, n_estimators=250, scale_pos_weight=4, subsample=0.7; total time= 3.3min\n",
      "[CV] END alpha=1e-05, colsample_bylevel=0.8999999999999999, colsample_bytree=0.7, gamma=26, learning_rate=0.4, max_depth=5, min_child_weight=1, n_estimators=100, scale_pos_weight=1, subsample=0.7; total time=  50.7s\n",
      "[CV] END alpha=10, colsample_bylevel=0.8999999999999999, colsample_bytree=0.6, gamma=24, learning_rate=0.3, max_depth=9, min_child_weight=3, n_estimators=100, scale_pos_weight=3, subsample=0.6; total time= 1.2min\n",
      "[CV] END alpha=100, colsample_bylevel=0.8999999999999999, colsample_bytree=0.5, gamma=24, learning_rate=0.3, max_depth=11, min_child_weight=3, n_estimators=100, scale_pos_weight=1, subsample=0.7; total time= 1.0min\n",
      "[CV] END alpha=100, colsample_bylevel=0.7999999999999999, colsample_bytree=0.8999999999999999, gamma=3, learning_rate=0.1, max_depth=5, min_child_weight=3, n_estimators=500, scale_pos_weight=1, subsample=0.5; total time= 1.6min\n",
      "[CV] END alpha=50, colsample_bylevel=0.6, colsample_bytree=0.8999999999999999, gamma=19, learning_rate=0.01, max_depth=5, min_child_weight=1, n_estimators=100, scale_pos_weight=2, subsample=0.7999999999999999; total time=  48.2s\n",
      "[CV] END alpha=0.01, colsample_bylevel=0.5, colsample_bytree=0.7999999999999999, gamma=26, learning_rate=0.1, max_depth=7, min_child_weight=5, n_estimators=100, scale_pos_weight=3, subsample=0.7999999999999999; total time=  51.2s\n",
      "[CV] END alpha=0.01, colsample_bylevel=0.7, colsample_bytree=0.6, gamma=6, learning_rate=0.01, max_depth=5, min_child_weight=1, n_estimators=100, scale_pos_weight=2, subsample=0.8999999999999999; total time=  39.6s\n",
      "[CV] END alpha=0.01, colsample_bylevel=0.7, colsample_bytree=0.8999999999999999, gamma=2, learning_rate=0.01, max_depth=13, min_child_weight=3, n_estimators=250, scale_pos_weight=3, subsample=0.5; total time= 3.9min\n",
      "[CV] END alpha=10, colsample_bylevel=0.8999999999999999, colsample_bytree=0.8999999999999999, gamma=20, learning_rate=0.1, max_depth=11, min_child_weight=3, n_estimators=250, scale_pos_weight=4, subsample=0.8999999999999999; total time= 7.1min\n",
      "[CV] END alpha=0.1, colsample_bylevel=0.7999999999999999, colsample_bytree=0.7, gamma=7, learning_rate=0.2, max_depth=3, min_child_weight=3, n_estimators=250, scale_pos_weight=3, subsample=0.5; total time= 1.0min\n",
      "[CV] END alpha=0.1, colsample_bylevel=0.6, colsample_bytree=0.7999999999999999, gamma=19, learning_rate=0.01, max_depth=5, min_child_weight=5, n_estimators=500, scale_pos_weight=3, subsample=0.6; total time= 3.2min\n",
      "[CV] END alpha=100, colsample_bylevel=0.7, colsample_bytree=0.8999999999999999, gamma=3, learning_rate=0.01, max_depth=11, min_child_weight=3, n_estimators=250, scale_pos_weight=1, subsample=0.7; total time= 3.9min\n",
      "[CV] END alpha=50, colsample_bylevel=0.7999999999999999, colsample_bytree=0.6, gamma=21, learning_rate=0.3, max_depth=3, min_child_weight=3, n_estimators=250, scale_pos_weight=2, subsample=0.5; total time=  55.2s\n",
      "[CV] END alpha=0.01, colsample_bylevel=0.8999999999999999, colsample_bytree=0.6, gamma=15, learning_rate=0.2, max_depth=3, min_child_weight=1, n_estimators=100, scale_pos_weight=2, subsample=0.8999999999999999; total time=  33.2s\n",
      "[CV] END alpha=0.1, colsample_bylevel=0.5, colsample_bytree=0.8999999999999999, gamma=24, learning_rate=0.4, max_depth=7, min_child_weight=3, n_estimators=250, scale_pos_weight=4, subsample=0.7; total time= 2.3min\n",
      "[CV] END alpha=1e-05, colsample_bylevel=0.8999999999999999, colsample_bytree=0.6, gamma=15, learning_rate=0.2, max_depth=5, min_child_weight=3, n_estimators=100, scale_pos_weight=3, subsample=0.7; total time=  49.6s\n",
      "[CV] END alpha=100, colsample_bylevel=0.6, colsample_bytree=0.6, gamma=29, learning_rate=0.3, max_depth=7, min_child_weight=5, n_estimators=100, scale_pos_weight=2, subsample=0.8999999999999999; total time=  40.7s\n",
      "[CV] END alpha=1, colsample_bylevel=0.7999999999999999, colsample_bytree=0.7999999999999999, gamma=5, learning_rate=0.01, max_depth=11, min_child_weight=3, n_estimators=100, scale_pos_weight=2, subsample=0.6; total time= 1.6min\n",
      "[CV] END alpha=0.01, colsample_bylevel=0.7, colsample_bytree=0.6, gamma=6, learning_rate=0.01, max_depth=5, min_child_weight=1, n_estimators=100, scale_pos_weight=2, subsample=0.8999999999999999; total time=  37.3s\n",
      "[CV] END alpha=0.01, colsample_bylevel=0.7, colsample_bytree=0.6, gamma=20, learning_rate=0.2, max_depth=9, min_child_weight=5, n_estimators=500, scale_pos_weight=2, subsample=0.6; total time= 4.6min\n",
      "[CV] END alpha=0.01, colsample_bylevel=0.7999999999999999, colsample_bytree=0.5, gamma=25, learning_rate=0.4, max_depth=3, min_child_weight=3, n_estimators=100, scale_pos_weight=2, subsample=0.6; total time=  19.9s\n",
      "[CV] END alpha=0.1, colsample_bylevel=0.7999999999999999, colsample_bytree=0.8999999999999999, gamma=27, learning_rate=0.01, max_depth=5, min_child_weight=3, n_estimators=500, scale_pos_weight=4, subsample=0.7; total time= 4.8min\n",
      "[CV] END alpha=1e-05, colsample_bylevel=0.8999999999999999, colsample_bytree=0.6, gamma=15, learning_rate=0.2, max_depth=5, min_child_weight=3, n_estimators=100, scale_pos_weight=3, subsample=0.7; total time=  43.4s\n",
      "[CV] END alpha=100, colsample_bylevel=0.6, colsample_bytree=0.6, gamma=29, learning_rate=0.3, max_depth=7, min_child_weight=5, n_estimators=100, scale_pos_weight=2, subsample=0.8999999999999999; total time=  41.2s\n"
     ]
    },
    {
     "name": "stdout",
     "output_type": "stream",
     "text": [
      "[CV] END alpha=50, colsample_bylevel=0.7, colsample_bytree=0.6, gamma=1, learning_rate=0.3, max_depth=3, min_child_weight=1, n_estimators=500, scale_pos_weight=2, subsample=0.5; total time= 1.5min\n",
      "[CV] END alpha=0.1, colsample_bylevel=0.7, colsample_bytree=0.7, gamma=14, learning_rate=0.4, max_depth=13, min_child_weight=1, n_estimators=100, scale_pos_weight=3, subsample=0.7999999999999999; total time= 1.8min\n",
      "[CV] END alpha=1, colsample_bylevel=0.6, colsample_bytree=0.5, gamma=23, learning_rate=0.1, max_depth=11, min_child_weight=1, n_estimators=250, scale_pos_weight=4, subsample=0.7; total time= 2.5min\n",
      "[CV] END alpha=1e-05, colsample_bylevel=0.6, colsample_bytree=0.8999999999999999, gamma=11, learning_rate=0.2, max_depth=3, min_child_weight=5, n_estimators=100, scale_pos_weight=2, subsample=0.8999999999999999; total time=  29.6s\n",
      "[CV] END alpha=10, colsample_bylevel=0.8999999999999999, colsample_bytree=0.8999999999999999, gamma=20, learning_rate=0.1, max_depth=11, min_child_weight=3, n_estimators=250, scale_pos_weight=4, subsample=0.8999999999999999; total time= 7.3min\n",
      "[CV] END alpha=50, colsample_bylevel=0.7, colsample_bytree=0.5, gamma=21, learning_rate=0.01, max_depth=9, min_child_weight=5, n_estimators=250, scale_pos_weight=2, subsample=0.7; total time= 3.0min\n",
      "[CV] END alpha=50, colsample_bylevel=0.7, colsample_bytree=0.7, gamma=9, learning_rate=0.1, max_depth=3, min_child_weight=3, n_estimators=100, scale_pos_weight=4, subsample=0.5; total time=  23.0s\n",
      "[CV] END alpha=10, colsample_bylevel=0.6, colsample_bytree=0.7, gamma=20, learning_rate=0.2, max_depth=13, min_child_weight=1, n_estimators=100, scale_pos_weight=3, subsample=0.5; total time= 1.3min\n",
      "[CV] END alpha=0.1, colsample_bylevel=0.7999999999999999, colsample_bytree=0.8999999999999999, gamma=29, learning_rate=0.2, max_depth=5, min_child_weight=3, n_estimators=100, scale_pos_weight=3, subsample=0.8999999999999999; total time= 1.1min\n",
      "[CV] END alpha=1e-05, colsample_bylevel=0.6, colsample_bytree=0.8999999999999999, gamma=11, learning_rate=0.2, max_depth=3, min_child_weight=5, n_estimators=100, scale_pos_weight=2, subsample=0.8999999999999999; total time=  28.7s\n",
      "[CV] END alpha=10, colsample_bylevel=0.8999999999999999, colsample_bytree=0.8999999999999999, gamma=20, learning_rate=0.1, max_depth=11, min_child_weight=3, n_estimators=250, scale_pos_weight=4, subsample=0.8999999999999999; total time= 7.3min\n",
      "[CV] END alpha=50, colsample_bylevel=0.7, colsample_bytree=0.5, gamma=21, learning_rate=0.01, max_depth=9, min_child_weight=5, n_estimators=250, scale_pos_weight=2, subsample=0.7; total time= 2.1min\n",
      "[CV] END alpha=0.1, colsample_bylevel=0.6, colsample_bytree=0.8999999999999999, gamma=13, learning_rate=0.1, max_depth=7, min_child_weight=1, n_estimators=100, scale_pos_weight=2, subsample=0.7999999999999999; total time= 1.2min\n",
      "[CV] END alpha=1, colsample_bylevel=0.6, colsample_bytree=0.5, gamma=23, learning_rate=0.1, max_depth=11, min_child_weight=1, n_estimators=250, scale_pos_weight=4, subsample=0.7; total time= 2.5min\n",
      "[CV] END alpha=10, colsample_bylevel=0.6, colsample_bytree=0.7, gamma=17, learning_rate=0.2, max_depth=9, min_child_weight=3, n_estimators=100, scale_pos_weight=1, subsample=0.8999999999999999; total time= 1.3min\n",
      "[CV] END alpha=0.01, colsample_bylevel=0.5, colsample_bytree=0.6, gamma=16, learning_rate=0.2, max_depth=7, min_child_weight=5, n_estimators=500, scale_pos_weight=4, subsample=0.8999999999999999; total time= 3.1min\n",
      "[CV] END alpha=50, colsample_bylevel=0.6, colsample_bytree=0.6, gamma=6, learning_rate=0.4, max_depth=9, min_child_weight=3, n_estimators=100, scale_pos_weight=3, subsample=0.6; total time=  39.7s\n",
      "[CV] END alpha=1e-05, colsample_bylevel=0.5, colsample_bytree=0.7999999999999999, gamma=18, learning_rate=0.2, max_depth=13, min_child_weight=1, n_estimators=250, scale_pos_weight=2, subsample=0.5; total time= 2.7min\n",
      "[CV] END alpha=50, colsample_bylevel=0.8999999999999999, colsample_bytree=0.7999999999999999, gamma=5, learning_rate=0.2, max_depth=3, min_child_weight=1, n_estimators=500, scale_pos_weight=1, subsample=0.8999999999999999; total time= 3.3min\n",
      "[CV] END alpha=1, colsample_bylevel=0.6, colsample_bytree=0.5, gamma=23, learning_rate=0.1, max_depth=11, min_child_weight=1, n_estimators=250, scale_pos_weight=4, subsample=0.7; total time= 2.5min\n",
      "[CV] END alpha=0.1, colsample_bylevel=0.8999999999999999, colsample_bytree=0.6, gamma=13, learning_rate=0.01, max_depth=11, min_child_weight=1, n_estimators=100, scale_pos_weight=1, subsample=0.6; total time= 1.4min\n",
      "[CV] END alpha=0.01, colsample_bylevel=0.5, colsample_bytree=0.6, gamma=16, learning_rate=0.2, max_depth=7, min_child_weight=5, n_estimators=500, scale_pos_weight=4, subsample=0.8999999999999999; total time= 3.1min\n",
      "[CV] END alpha=50, colsample_bylevel=0.6, colsample_bytree=0.6, gamma=6, learning_rate=0.4, max_depth=9, min_child_weight=3, n_estimators=100, scale_pos_weight=3, subsample=0.6; total time=  39.3s\n",
      "[CV] END alpha=1e-05, colsample_bylevel=0.5, colsample_bytree=0.7999999999999999, gamma=18, learning_rate=0.2, max_depth=13, min_child_weight=1, n_estimators=250, scale_pos_weight=2, subsample=0.5; total time= 2.7min\n",
      "[CV] END alpha=0.1, colsample_bylevel=0.7, colsample_bytree=0.6, gamma=15, learning_rate=0.01, max_depth=5, min_child_weight=5, n_estimators=100, scale_pos_weight=4, subsample=0.8999999999999999; total time=  42.5s\n",
      "[CV] END alpha=10, colsample_bylevel=0.7999999999999999, colsample_bytree=0.7999999999999999, gamma=13, learning_rate=0.01, max_depth=7, min_child_weight=5, n_estimators=250, scale_pos_weight=2, subsample=0.7; total time= 3.1min\n",
      "[CV] END alpha=0.01, colsample_bylevel=0.6, colsample_bytree=0.7, gamma=26, learning_rate=0.1, max_depth=5, min_child_weight=5, n_estimators=100, scale_pos_weight=1, subsample=0.6; total time=  33.2s\n",
      "[CV] END alpha=1e-05, colsample_bylevel=0.7999999999999999, colsample_bytree=0.7, gamma=1, learning_rate=0.01, max_depth=11, min_child_weight=5, n_estimators=100, scale_pos_weight=2, subsample=0.6; total time= 1.5min\n",
      "[CV] END alpha=10, colsample_bylevel=0.6, colsample_bytree=0.7, gamma=17, learning_rate=0.2, max_depth=9, min_child_weight=3, n_estimators=100, scale_pos_weight=1, subsample=0.8999999999999999; total time= 1.3min\n",
      "[CV] END alpha=0.01, colsample_bylevel=0.5, colsample_bytree=0.6, gamma=16, learning_rate=0.2, max_depth=7, min_child_weight=5, n_estimators=500, scale_pos_weight=4, subsample=0.8999999999999999; total time= 3.1min\n",
      "[CV] END alpha=50, colsample_bylevel=0.6, colsample_bytree=0.6, gamma=6, learning_rate=0.4, max_depth=9, min_child_weight=3, n_estimators=100, scale_pos_weight=3, subsample=0.6; total time=  39.6s\n",
      "[CV] END alpha=1e-05, colsample_bylevel=0.5, colsample_bytree=0.7999999999999999, gamma=18, learning_rate=0.2, max_depth=13, min_child_weight=1, n_estimators=250, scale_pos_weight=2, subsample=0.5; total time= 2.8min\n"
     ]
    },
    {
     "data": {
      "text/plain": [
       "RandomizedSearchCV(cv=3,\n",
       "                   estimator=XGBClassifier(base_score=None, booster=None,\n",
       "                                           callbacks=None,\n",
       "                                           colsample_bylevel=None,\n",
       "                                           colsample_bynode=None,\n",
       "                                           colsample_bytree=None,\n",
       "                                           early_stopping_rounds=None,\n",
       "                                           enable_categorical=False,\n",
       "                                           eval_metric=None, gamma=None,\n",
       "                                           gpu_id=None, grow_policy=None,\n",
       "                                           importance_type=None,\n",
       "                                           interaction_constraints=None,\n",
       "                                           learning_rate=None, max_bin=None,...\n",
       "                                        'colsample_bytree': array([0.5, 0.6, 0.7, 0.8, 0.9]),\n",
       "                                        'gamma': [1, 2, 3, 4, 5, 6, 7, 8, 9, 10,\n",
       "                                                  11, 12, 13, 14, 15, 16, 17,\n",
       "                                                  18, 19, 20, 21, 22, 23, 24,\n",
       "                                                  25, 26, 27, 28, 29],\n",
       "                                        'learning_rate': [0.01, 0.1, 0.2, 0.3,\n",
       "                                                          0.4],\n",
       "                                        'max_depth': range(3, 15, 2),\n",
       "                                        'min_child_weight': range(1, 6, 2),\n",
       "                                        'n_estimators': [100, 250, 500],\n",
       "                                        'scale_pos_weight': range(1, 5),\n",
       "                                        'subsample': array([0.5, 0.6, 0.7, 0.8, 0.9])},\n",
       "                   random_state=42, return_train_score=True, verbose=2)"
      ]
     },
     "execution_count": 37,
     "metadata": {},
     "output_type": "execute_result"
    }
   ],
   "source": [
    "\n",
    "xg_clf1=XGBClassifier(random_state=0)\n",
    "\n",
    "\n",
    "rf_random = RandomizedSearchCV(estimator=xg_clf1, param_distributions=random_grid,\n",
    "                              n_iter = 100, \n",
    "                              cv = 3, verbose=2, random_state=42, n_jobs=-1,\n",
    "                              return_train_score=True)\n",
    "\n",
    "\n",
    "# Fit the random search model\n",
    "rf_random.fit(X_train,y_train)"
   ]
  },
  {
   "cell_type": "code",
   "execution_count": 39,
   "id": "9f99a392",
   "metadata": {},
   "outputs": [
    {
     "data": {
      "text/plain": [
       "{'subsample': 0.7,\n",
       " 'scale_pos_weight': 2,\n",
       " 'n_estimators': 500,\n",
       " 'min_child_weight': 1,\n",
       " 'max_depth': 5,\n",
       " 'learning_rate': 0.1,\n",
       " 'gamma': 3,\n",
       " 'colsample_bytree': 0.7999999999999999,\n",
       " 'colsample_bylevel': 0.8999999999999999,\n",
       " 'alpha': 1}"
      ]
     },
     "execution_count": 39,
     "metadata": {},
     "output_type": "execute_result"
    }
   ],
   "source": [
    "rf_random.best_params_"
   ]
  },
  {
   "cell_type": "markdown",
   "id": "a75c4067",
   "metadata": {},
   "source": [
    "### Using with Best Params \n",
    "\n",
    "\n",
    "**Initialise the model and  fit it using train data and measure the accuracy metrics**"
   ]
  },
  {
   "cell_type": "code",
   "execution_count": 55,
   "id": "52903d86",
   "metadata": {},
   "outputs": [
    {
     "name": "stdout",
     "output_type": "stream",
     "text": [
      "XgBoost - Completed\n"
     ]
    }
   ],
   "source": [
    "xg_clf_tuned=XGBClassifier(subsample=0.7,scale_pos_weight=2,n_estimators=500,min_child_weight=3,max_depth=5,learning_rate=0.1,\n",
    "                     gamma=3,colsample_bytree=0.79,colsample_bylevel=0.89,alpha=1)\n",
    "xg_clf_tuned.fit(X_train,y_train)\n",
    "\n",
    "# save the model to disk\n",
    "filename = 'outputs//fakenewsnet_ml_bert//fakenewsnet_ml_XG_bert.sav'\n",
    "pickle.dump(xg_clf_tuned, open(filename, 'wb'))\n",
    "print('XgBoost - Completed')"
   ]
  },
  {
   "cell_type": "code",
   "execution_count": 56,
   "id": "01ee49fe",
   "metadata": {},
   "outputs": [
    {
     "name": "stdout",
     "output_type": "stream",
     "text": [
      "Accuracy score : 0.8320235756385069\n",
      "Confusion matrix : \n",
      " [[2834  228]\n",
      " [ 456  554]]\n",
      "Classification Report\n",
      "              precision    recall  f1-score   support\n",
      "\n",
      "           0       0.86      0.93      0.89      3062\n",
      "           1       0.71      0.55      0.62      1010\n",
      "\n",
      "    accuracy                           0.83      4072\n",
      "   macro avg       0.78      0.74      0.76      4072\n",
      "weighted avg       0.82      0.83      0.82      4072\n",
      "\n",
      "Precision : 0.7084398976982097\n",
      "Recall : 0.5485148514851486\n",
      "F1 Score : 0.6183035714285714\n"
     ]
    }
   ],
   "source": [
    "#Loading the model\n",
    "filename = 'outputs//fakenewsnet_ml_bert//fakenewsnet_ml_XG_bert.sav'\n",
    "\n",
    "xg_clf_tuned = pickle.load(open(filename, 'rb'))\n",
    "\n",
    "pred = xg_clf_tuned.predict(X_test)\n",
    "print(\"Accuracy score : {}\".format(accuracy_score(y_test, pred)))\n",
    "print(\"Confusion matrix : \\n {}\".format(confusion_matrix(y_test, pred)))\n",
    "print(\"Classification Report\")\n",
    "print(classification_report(y_test, pred))\n",
    "precision = precision_score(y_test, pred)\n",
    "print(\"Precision : {}\".format(precision))\n",
    "recall = recall_score(y_test, pred)\n",
    "print(\"Recall : {}\".format(recall))\n",
    "f1score = f1_score(y_test, pred)\n",
    "print(\"F1 Score : {}\".format(f1score))\n"
   ]
  },
  {
   "cell_type": "markdown",
   "id": "6f331102",
   "metadata": {},
   "source": [
    "**Save the classification report to csv**"
   ]
  },
  {
   "cell_type": "code",
   "execution_count": 59,
   "id": "cde010dd",
   "metadata": {},
   "outputs": [
    {
     "data": {
      "text/html": [
       "<div>\n",
       "<style scoped>\n",
       "    .dataframe tbody tr th:only-of-type {\n",
       "        vertical-align: middle;\n",
       "    }\n",
       "\n",
       "    .dataframe tbody tr th {\n",
       "        vertical-align: top;\n",
       "    }\n",
       "\n",
       "    .dataframe thead th {\n",
       "        text-align: right;\n",
       "    }\n",
       "</style>\n",
       "<table border=\"1\" class=\"dataframe\">\n",
       "  <thead>\n",
       "    <tr style=\"text-align: right;\">\n",
       "      <th></th>\n",
       "      <th>precision</th>\n",
       "      <th>recall</th>\n",
       "      <th>f1-score</th>\n",
       "      <th>support</th>\n",
       "    </tr>\n",
       "  </thead>\n",
       "  <tbody>\n",
       "    <tr>\n",
       "      <th>0</th>\n",
       "      <td>0.861398</td>\n",
       "      <td>0.925539</td>\n",
       "      <td>0.892317</td>\n",
       "      <td>3062.000000</td>\n",
       "    </tr>\n",
       "    <tr>\n",
       "      <th>1</th>\n",
       "      <td>0.708440</td>\n",
       "      <td>0.548515</td>\n",
       "      <td>0.618304</td>\n",
       "      <td>1010.000000</td>\n",
       "    </tr>\n",
       "    <tr>\n",
       "      <th>accuracy</th>\n",
       "      <td>0.832024</td>\n",
       "      <td>0.832024</td>\n",
       "      <td>0.832024</td>\n",
       "      <td>0.832024</td>\n",
       "    </tr>\n",
       "    <tr>\n",
       "      <th>macro avg</th>\n",
       "      <td>0.784919</td>\n",
       "      <td>0.737027</td>\n",
       "      <td>0.755310</td>\n",
       "      <td>4072.000000</td>\n",
       "    </tr>\n",
       "    <tr>\n",
       "      <th>weighted avg</th>\n",
       "      <td>0.823459</td>\n",
       "      <td>0.832024</td>\n",
       "      <td>0.824352</td>\n",
       "      <td>4072.000000</td>\n",
       "    </tr>\n",
       "  </tbody>\n",
       "</table>\n",
       "</div>"
      ],
      "text/plain": [
       "              precision    recall  f1-score      support\n",
       "0              0.861398  0.925539  0.892317  3062.000000\n",
       "1              0.708440  0.548515  0.618304  1010.000000\n",
       "accuracy       0.832024  0.832024  0.832024     0.832024\n",
       "macro avg      0.784919  0.737027  0.755310  4072.000000\n",
       "weighted avg   0.823459  0.832024  0.824352  4072.000000"
      ]
     },
     "execution_count": 59,
     "metadata": {},
     "output_type": "execute_result"
    }
   ],
   "source": [
    "report=classification_report(y_test, pred, output_dict=True)\n",
    "df = pd.DataFrame(report).transpose()\n",
    "df.to_csv(\"outputs//fakenewsnet_ml_bert//model_FAKENEWSNET_XG_BERT_clasifctnrpt.csv\")\n",
    "df.head()"
   ]
  },
  {
   "cell_type": "markdown",
   "id": "fd69f07d",
   "metadata": {},
   "source": [
    "**Plot confusion matrix using the user defined functions created earlier**"
   ]
  },
  {
   "cell_type": "code",
   "execution_count": 60,
   "id": "7fdf2891",
   "metadata": {},
   "outputs": [
    {
     "data": {
      "image/png": "[encoded data removed]",
      "text/plain": [
       "<Figure size 360x300 with 2 Axes>"
      ]
     },
     "metadata": {},
     "output_type": "display_data"
    },
    {
     "data": {
      "image/png": "[encoded data removed]",
      "text/plain": [
       "<Figure size 360x300 with 2 Axes>"
      ]
     },
     "metadata": {},
     "output_type": "display_data"
    }
   ],
   "source": [
    "cm=confusion_matrix(y_test, pred)\n",
    "path1=\"outputs//fakenewsnet_ml_bert//fakenewsnet_ml_XG_bert_cmtrx.png\"\n",
    "path2=\"outputs//fakenewsnet_ml_bert//fakenewsnet_ml_XG_bert_ncmtrx.png\"\n",
    "confusn_mtrx_plot(cm,path1)\n",
    "norm_confusn_mtrx_plot(cm,path2)"
   ]
  },
  {
   "cell_type": "markdown",
   "id": "3927128d",
   "metadata": {},
   "source": [
    "### Naiva Bayes\n",
    "\n",
    "**Initialise the model and  fit it using train data and measure the accuracy metrics**"
   ]
  },
  {
   "cell_type": "code",
   "execution_count": 61,
   "id": "a3cb40fa",
   "metadata": {},
   "outputs": [
    {
     "name": "stdout",
     "output_type": "stream",
     "text": [
      "Accuracy score : 0.6863948919449901\n",
      "Confusion matrix : \n",
      " [[2102  960]\n",
      " [ 317  693]]\n",
      "Classification Report\n",
      "              precision    recall  f1-score   support\n",
      "\n",
      "           0       0.87      0.69      0.77      3062\n",
      "           1       0.42      0.69      0.52      1010\n",
      "\n",
      "    accuracy                           0.69      4072\n",
      "   macro avg       0.64      0.69      0.64      4072\n",
      "weighted avg       0.76      0.69      0.71      4072\n",
      "\n"
     ]
    }
   ],
   "source": [
    "from sklearn.preprocessing import MinMaxScaler\n",
    "from sklearn.naive_bayes import GaussianNB\n",
    "nb_clf=GaussianNB()\n",
    "#p = Pipeline([('Normalizing',MinMaxScaler()),('MultinomialNB',MultinomialNB())])\n",
    "nb_clf.fit(X_train,y_train) \n",
    "\n",
    "pred = nb_clf.predict(X_test)\n",
    "print(\"Accuracy score : {}\".format(accuracy_score(y_test, pred)))\n",
    "print(\"Confusion matrix : \\n {}\".format(confusion_matrix(y_test, pred)))\n",
    "print(\"Classification Report\")\n",
    "print(classification_report(y_test, pred))"
   ]
  },
  {
   "cell_type": "markdown",
   "id": "4e373780",
   "metadata": {},
   "source": [
    "#### Hyperparameter Tuning \n",
    "\n",
    "Define the list of parameters which needed to do hyperparameter tuning"
   ]
  },
  {
   "cell_type": "code",
   "execution_count": 43,
   "id": "9777f1c4",
   "metadata": {},
   "outputs": [
    {
     "name": "stdout",
     "output_type": "stream",
     "text": [
      "{'var_smoothing': [1e-05, 0.0001, 0.001, 0.1, 1, 10, 100, 1000]}\n"
     ]
    }
   ],
   "source": [
    "# Create the random grid\n",
    "random_grid = {\n",
    "    'var_smoothing': [0.00001, 0.0001, 0.001, 0.1, 1, 10, 100,1000]\n",
    "#    # 'class_prior':[True,False],\n",
    "#     'fit_prior':[True,False]\n",
    "              }\n",
    "pprint(random_grid)"
   ]
  },
  {
   "cell_type": "markdown",
   "id": "d05da5c7",
   "metadata": {},
   "source": [
    "**Apply RandomizedSearchCV library for hyperparameter tuning  and fit the model using train data**"
   ]
  },
  {
   "cell_type": "code",
   "execution_count": 44,
   "id": "ce7e05c3",
   "metadata": {},
   "outputs": [
    {
     "name": "stdout",
     "output_type": "stream",
     "text": [
      "Fitting 3 folds for each of 8 candidates, totalling 24 fits\n"
     ]
    },
    {
     "data": {
      "text/plain": [
       "RandomizedSearchCV(cv=3, estimator=GaussianNB(), n_iter=100, n_jobs=-1,\n",
       "                   param_distributions={'var_smoothing': [1e-05, 0.0001, 0.001,\n",
       "                                                          0.1, 1, 10, 100,\n",
       "                                                          1000]},\n",
       "                   random_state=42, return_train_score=True, verbose=2)"
      ]
     },
     "execution_count": 44,
     "metadata": {},
     "output_type": "execute_result"
    }
   ],
   "source": [
    "\n",
    "nb_clf1=GaussianNB()\n",
    "\n",
    "\n",
    "rf_random = RandomizedSearchCV(estimator=nb_clf1, param_distributions=random_grid,\n",
    "                              n_iter = 100, \n",
    "                              cv = 3, verbose=2, random_state=42, n_jobs=-1,\n",
    "                              return_train_score=True)\n",
    "\n",
    "\n",
    "# Fit the random search model\n",
    "rf_random.fit(X_train,y_train)"
   ]
  },
  {
   "cell_type": "code",
   "execution_count": 45,
   "id": "0a620a6c",
   "metadata": {},
   "outputs": [
    {
     "data": {
      "text/plain": [
       "{'var_smoothing': 1}"
      ]
     },
     "execution_count": 45,
     "metadata": {},
     "output_type": "execute_result"
    }
   ],
   "source": [
    "rf_random.best_params_"
   ]
  },
  {
   "cell_type": "markdown",
   "id": "a12053c9",
   "metadata": {},
   "source": [
    "### Using with Best Params \n",
    "\n",
    "\n",
    "**Initialise the model and  fit it using train data and measure the accuracy metrics**"
   ]
  },
  {
   "cell_type": "code",
   "execution_count": 70,
   "id": "afcfca6c",
   "metadata": {},
   "outputs": [
    {
     "name": "stdout",
     "output_type": "stream",
     "text": [
      "Naive Bayes - Completed\n"
     ]
    }
   ],
   "source": [
    "nb_clf_tuned=GaussianNB(var_smoothing=0.7)\n",
    "\n",
    "nb_clf_tuned.fit(X_train,y_train)\n",
    "\n",
    "# save the model to disk\n",
    "filename = 'outputs//fakenewsnet_ml_bert//fakenewsnet_ml_NB_bert.sav'\n",
    "pickle.dump(nb_clf_tuned, open(filename, 'wb'))\n",
    "print('Naive Bayes - Completed')"
   ]
  },
  {
   "cell_type": "code",
   "execution_count": 75,
   "id": "5ace9786",
   "metadata": {},
   "outputs": [
    {
     "name": "stdout",
     "output_type": "stream",
     "text": [
      "Accuracy score : 0.775294695481336\n",
      "Confusion matrix : \n",
      " [[2757  305]\n",
      " [ 610  400]]\n",
      "Classification Report\n",
      "              precision    recall  f1-score   support\n",
      "\n",
      "           0       0.82      0.90      0.86      3062\n",
      "           1       0.57      0.40      0.47      1010\n",
      "\n",
      "    accuracy                           0.78      4072\n",
      "   macro avg       0.69      0.65      0.66      4072\n",
      "weighted avg       0.76      0.78      0.76      4072\n",
      "\n",
      "Precision : 0.5673758865248227\n",
      "Recall : 0.39603960396039606\n",
      "F1 Score : 0.4664723032069971\n"
     ]
    }
   ],
   "source": [
    "#Loading the model\n",
    "filename = 'outputs//fakenewsnet_ml_bert//fakenewsnet_ml_NB_bert.sav'\n",
    "\n",
    "nb_clf_tuned = pickle.load(open(filename, 'rb'))\n",
    "\n",
    "#pred = nb_clf_tuned.predict(X_test)\n",
    "\n",
    "y_pred = nb_clf_tuned.predict_proba(X_test)[:, 1]\n",
    "pred=np.array((y_pred > 0.35).astype(int))\n",
    "\n",
    "\n",
    "\n",
    "print(\"Accuracy score : {}\".format(accuracy_score(y_test, pred)))\n",
    "print(\"Confusion matrix : \\n {}\".format(confusion_matrix(y_test, pred)))\n",
    "print(\"Classification Report\")\n",
    "print(classification_report(y_test, pred))\n",
    "precision = precision_score(y_test, pred)\n",
    "print(\"Precision : {}\".format(precision))\n",
    "recall = recall_score(y_test, pred)\n",
    "print(\"Recall : {}\".format(recall))\n",
    "f1score = f1_score(y_test, pred)\n",
    "print(\"F1 Score : {}\".format(f1score))\n"
   ]
  },
  {
   "cell_type": "markdown",
   "id": "8099a4e5",
   "metadata": {},
   "source": [
    "**Save the classification report to csv**"
   ]
  },
  {
   "cell_type": "code",
   "execution_count": 78,
   "id": "c6fbd0b2",
   "metadata": {},
   "outputs": [
    {
     "data": {
      "text/html": [
       "<div>\n",
       "<style scoped>\n",
       "    .dataframe tbody tr th:only-of-type {\n",
       "        vertical-align: middle;\n",
       "    }\n",
       "\n",
       "    .dataframe tbody tr th {\n",
       "        vertical-align: top;\n",
       "    }\n",
       "\n",
       "    .dataframe thead th {\n",
       "        text-align: right;\n",
       "    }\n",
       "</style>\n",
       "<table border=\"1\" class=\"dataframe\">\n",
       "  <thead>\n",
       "    <tr style=\"text-align: right;\">\n",
       "      <th></th>\n",
       "      <th>precision</th>\n",
       "      <th>recall</th>\n",
       "      <th>f1-score</th>\n",
       "      <th>support</th>\n",
       "    </tr>\n",
       "  </thead>\n",
       "  <tbody>\n",
       "    <tr>\n",
       "      <th>0</th>\n",
       "      <td>0.818830</td>\n",
       "      <td>0.900392</td>\n",
       "      <td>0.857676</td>\n",
       "      <td>3062.000000</td>\n",
       "    </tr>\n",
       "    <tr>\n",
       "      <th>1</th>\n",
       "      <td>0.567376</td>\n",
       "      <td>0.396040</td>\n",
       "      <td>0.466472</td>\n",
       "      <td>1010.000000</td>\n",
       "    </tr>\n",
       "    <tr>\n",
       "      <th>accuracy</th>\n",
       "      <td>0.775295</td>\n",
       "      <td>0.775295</td>\n",
       "      <td>0.775295</td>\n",
       "      <td>0.775295</td>\n",
       "    </tr>\n",
       "    <tr>\n",
       "      <th>macro avg</th>\n",
       "      <td>0.693103</td>\n",
       "      <td>0.648216</td>\n",
       "      <td>0.662074</td>\n",
       "      <td>4072.000000</td>\n",
       "    </tr>\n",
       "    <tr>\n",
       "      <th>weighted avg</th>\n",
       "      <td>0.756460</td>\n",
       "      <td>0.775295</td>\n",
       "      <td>0.760644</td>\n",
       "      <td>4072.000000</td>\n",
       "    </tr>\n",
       "  </tbody>\n",
       "</table>\n",
       "</div>"
      ],
      "text/plain": [
       "              precision    recall  f1-score      support\n",
       "0              0.818830  0.900392  0.857676  3062.000000\n",
       "1              0.567376  0.396040  0.466472  1010.000000\n",
       "accuracy       0.775295  0.775295  0.775295     0.775295\n",
       "macro avg      0.693103  0.648216  0.662074  4072.000000\n",
       "weighted avg   0.756460  0.775295  0.760644  4072.000000"
      ]
     },
     "execution_count": 78,
     "metadata": {},
     "output_type": "execute_result"
    }
   ],
   "source": [
    "report=classification_report(y_test, pred, output_dict=True)\n",
    "df = pd.DataFrame(report).transpose()\n",
    "df.to_csv(\"outputs//fakenewsnet_ml_bert//model_FAKENEWSNET_NB_BERT_clasifctnrpt.csv\")\n",
    "df.head()"
   ]
  },
  {
   "cell_type": "markdown",
   "id": "3beb5dfd",
   "metadata": {},
   "source": [
    "**Plot confusion matrix using the user defined functions created earlier**"
   ]
  },
  {
   "cell_type": "code",
   "execution_count": 79,
   "id": "14ceaa36",
   "metadata": {},
   "outputs": [
    {
     "data": {
      "image/png": "[encoded data removed]",
      "text/plain": [
       "<Figure size 360x300 with 2 Axes>"
      ]
     },
     "metadata": {},
     "output_type": "display_data"
    },
    {
     "data": {
      "image/png": "[encoded data removed]",
      "text/plain": [
       "<Figure size 360x300 with 2 Axes>"
      ]
     },
     "metadata": {},
     "output_type": "display_data"
    }
   ],
   "source": [
    "cm=confusion_matrix(y_test, pred)\n",
    "path1=\"outputs//fakenewsnet_ml_bert//fakenewsnet_ml_NB_bert_cmtrx.png\"\n",
    "path2=\"outputs//fakenewsnet_ml_bert//fakenewsnet_ml_NB_bert_cmtrx.png\"\n",
    "confusn_mtrx_plot(cm,path1)\n",
    "norm_confusn_mtrx_plot(cm,path2)"
   ]
  },
  {
   "cell_type": "code",
   "execution_count": null,
   "id": "1b1a1869",
   "metadata": {},
   "outputs": [],
   "source": []
  },
  {
   "cell_type": "markdown",
   "id": "134d989f",
   "metadata": {},
   "source": [
    "### Logistic Regression\n",
    "\n",
    "**Initialise the model and  fit it using train data and measure the accuracy metrics**"
   ]
  },
  {
   "cell_type": "code",
   "execution_count": 80,
   "id": "1ad9f939",
   "metadata": {},
   "outputs": [],
   "source": [
    "from sklearn.linear_model import LogisticRegression"
   ]
  },
  {
   "cell_type": "code",
   "execution_count": 81,
   "id": "1f69ee08",
   "metadata": {},
   "outputs": [
    {
     "name": "stdout",
     "output_type": "stream",
     "text": [
      "Accuracy score : 0.8172888015717092\n",
      "Confusion matrix : \n",
      " [[2846  216]\n",
      " [ 528  482]]\n",
      "Classification Report\n",
      "              precision    recall  f1-score   support\n",
      "\n",
      "           0       0.84      0.93      0.88      3062\n",
      "           1       0.69      0.48      0.56      1010\n",
      "\n",
      "    accuracy                           0.82      4072\n",
      "   macro avg       0.77      0.70      0.72      4072\n",
      "weighted avg       0.81      0.82      0.81      4072\n",
      "\n"
     ]
    }
   ],
   "source": [
    "logticreg_clf=LogisticRegression()\n",
    "\n",
    "logticreg_clf.fit(X_train,y_train)\n",
    "\n",
    "pred = logticreg_clf.predict(X_test)\n",
    "print(\"Accuracy score : {}\".format(accuracy_score(y_test, pred)))\n",
    "print(\"Confusion matrix : \\n {}\".format(confusion_matrix(y_test, pred)))\n",
    "print(\"Classification Report\")\n",
    "print(classification_report(y_test, pred))"
   ]
  },
  {
   "cell_type": "markdown",
   "id": "7b7cc2e2",
   "metadata": {},
   "source": [
    "#### Hyperparameter Tuning \n",
    "\n",
    "Define the list of parameters which needed to do hyperparameter tuning"
   ]
  },
  {
   "cell_type": "code",
   "execution_count": 54,
   "id": "43a7db77",
   "metadata": {},
   "outputs": [
    {
     "name": "stdout",
     "output_type": "stream",
     "text": [
      "{'C': [100, 10, 1.0, 0.1, 0.01],\n",
      " 'penalty': ['l1', 'l2', 'elasticnet'],\n",
      " 'solver': ['newton-cg', 'lbfgs', 'liblinear', 'sag', 'saga']}\n"
     ]
    }
   ],
   "source": [
    "# Create the random grid\n",
    "random_grid = {\n",
    "    'solver': ['newton-cg', 'lbfgs', 'liblinear', 'sag', 'saga'],\n",
    "     'C':[100, 10, 1.0, 0.1, 0.01],\n",
    "    'penalty':['l1','l2','elasticnet']\n",
    "              }\n",
    "pprint(random_grid)"
   ]
  },
  {
   "cell_type": "markdown",
   "id": "d3d5520e",
   "metadata": {},
   "source": [
    "**Apply RandomizedSearchCV library for hyperparameter tuning  and fit the model using train data**"
   ]
  },
  {
   "cell_type": "code",
   "execution_count": 55,
   "id": "efcac2e9",
   "metadata": {},
   "outputs": [
    {
     "name": "stdout",
     "output_type": "stream",
     "text": [
      "Fitting 3 folds for each of 75 candidates, totalling 225 fits\n"
     ]
    },
    {
     "data": {
      "text/plain": [
       "RandomizedSearchCV(cv=3, estimator=LogisticRegression(), n_iter=100, n_jobs=-1,\n",
       "                   param_distributions={'C': [100, 10, 1.0, 0.1, 0.01],\n",
       "                                        'penalty': ['l1', 'l2', 'elasticnet'],\n",
       "                                        'solver': ['newton-cg', 'lbfgs',\n",
       "                                                   'liblinear', 'sag',\n",
       "                                                   'saga']},\n",
       "                   random_state=42, return_train_score=True, verbose=2)"
      ]
     },
     "execution_count": 55,
     "metadata": {},
     "output_type": "execute_result"
    }
   ],
   "source": [
    "\n",
    "logticreg_clf_tuned=LogisticRegression()\n",
    "\n",
    "\n",
    "rf_random = RandomizedSearchCV(estimator=logticreg_clf_tuned, param_distributions=random_grid,\n",
    "                              n_iter = 100, \n",
    "                              cv = 3, verbose=2, random_state=42, n_jobs=-1,\n",
    "                              return_train_score=True)\n",
    "\n",
    "\n",
    "# Fit the random search model\n",
    "rf_random.fit(X_train,y_train)"
   ]
  },
  {
   "cell_type": "code",
   "execution_count": 56,
   "id": "350e8516",
   "metadata": {},
   "outputs": [
    {
     "data": {
      "text/plain": [
       "{'solver': 'liblinear', 'penalty': 'l1', 'C': 0.01}"
      ]
     },
     "execution_count": 56,
     "metadata": {},
     "output_type": "execute_result"
    }
   ],
   "source": [
    "rf_random.best_params_"
   ]
  },
  {
   "cell_type": "markdown",
   "id": "5c2f42b6",
   "metadata": {},
   "source": [
    "### Using with Best Params \n",
    "\n",
    "\n",
    "**Initialise the model and  fit it using train data and measure the accuracy metrics**"
   ]
  },
  {
   "cell_type": "code",
   "execution_count": 88,
   "id": "c0af2d00",
   "metadata": {},
   "outputs": [
    {
     "name": "stdout",
     "output_type": "stream",
     "text": [
      "Naive Bayes - Completed\n"
     ]
    }
   ],
   "source": [
    "logticreg_clf_tuned=logticreg_clf=LogisticRegression()\n",
    "\n",
    "\n",
    "logticreg_clf_tuned.fit(X_train,y_train)\n",
    "\n",
    "# save the model to disk\n",
    "filename = 'outputs//fakenewsnet_ml_bert//fakenewsnet_ml_LR_bert.sav'\n",
    "pickle.dump(logticreg_clf_tuned, open(filename, 'wb'))\n",
    "print('Naive Bayes - Completed')"
   ]
  },
  {
   "cell_type": "code",
   "execution_count": 91,
   "id": "6d700982",
   "metadata": {
    "scrolled": true
   },
   "outputs": [
    {
     "name": "stdout",
     "output_type": "stream",
     "text": [
      "Accuracy score : 0.8084479371316307\n",
      "Confusion matrix : \n",
      " [[2727  335]\n",
      " [ 445  565]]\n",
      "Classification Report\n",
      "              precision    recall  f1-score   support\n",
      "\n",
      "           0       0.86      0.89      0.87      3062\n",
      "           1       0.63      0.56      0.59      1010\n",
      "\n",
      "    accuracy                           0.81      4072\n",
      "   macro avg       0.74      0.73      0.73      4072\n",
      "weighted avg       0.80      0.81      0.80      4072\n",
      "\n",
      "Precision : 0.6277777777777778\n",
      "Recall : 0.5594059405940595\n",
      "F1 Score : 0.5916230366492147\n"
     ]
    }
   ],
   "source": [
    "#Loading the model\n",
    "filename = 'outputs//fakenewsnet_ml_bert//fakenewsnet_ml_LR_bert.sav'\n",
    "\n",
    "logticreg_clf_tuned = pickle.load(open(filename, 'rb'))\n",
    "\n",
    "#pred = logticreg_clf_tuned.predict(X_test)\n",
    "\n",
    "y_pred = logticreg_clf_tuned.predict_proba(X_test)[:, 1]\n",
    "pred=np.array((y_pred > 0.4).astype(int))\n",
    "\n",
    "\n",
    "\n",
    "print(\"Accuracy score : {}\".format(accuracy_score(y_test, pred)))\n",
    "print(\"Confusion matrix : \\n {}\".format(confusion_matrix(y_test, pred)))\n",
    "print(\"Classification Report\")\n",
    "print(classification_report(y_test, pred))\n",
    "precision = precision_score(y_test, pred)\n",
    "print(\"Precision : {}\".format(precision))\n",
    "recall = recall_score(y_test, pred)\n",
    "print(\"Recall : {}\".format(recall))\n",
    "f1score = f1_score(y_test, pred)\n",
    "print(\"F1 Score : {}\".format(f1score))\n"
   ]
  },
  {
   "cell_type": "markdown",
   "id": "6d89f39f",
   "metadata": {},
   "source": [
    "**Save the classification report to csv**"
   ]
  },
  {
   "cell_type": "code",
   "execution_count": 92,
   "id": "61aaaf83",
   "metadata": {},
   "outputs": [
    {
     "data": {
      "text/html": [
       "<div>\n",
       "<style scoped>\n",
       "    .dataframe tbody tr th:only-of-type {\n",
       "        vertical-align: middle;\n",
       "    }\n",
       "\n",
       "    .dataframe tbody tr th {\n",
       "        vertical-align: top;\n",
       "    }\n",
       "\n",
       "    .dataframe thead th {\n",
       "        text-align: right;\n",
       "    }\n",
       "</style>\n",
       "<table border=\"1\" class=\"dataframe\">\n",
       "  <thead>\n",
       "    <tr style=\"text-align: right;\">\n",
       "      <th></th>\n",
       "      <th>precision</th>\n",
       "      <th>recall</th>\n",
       "      <th>f1-score</th>\n",
       "      <th>support</th>\n",
       "    </tr>\n",
       "  </thead>\n",
       "  <tbody>\n",
       "    <tr>\n",
       "      <th>0</th>\n",
       "      <td>0.859710</td>\n",
       "      <td>0.890594</td>\n",
       "      <td>0.874880</td>\n",
       "      <td>3062.000000</td>\n",
       "    </tr>\n",
       "    <tr>\n",
       "      <th>1</th>\n",
       "      <td>0.627778</td>\n",
       "      <td>0.559406</td>\n",
       "      <td>0.591623</td>\n",
       "      <td>1010.000000</td>\n",
       "    </tr>\n",
       "    <tr>\n",
       "      <th>accuracy</th>\n",
       "      <td>0.808448</td>\n",
       "      <td>0.808448</td>\n",
       "      <td>0.808448</td>\n",
       "      <td>0.808448</td>\n",
       "    </tr>\n",
       "    <tr>\n",
       "      <th>macro avg</th>\n",
       "      <td>0.743744</td>\n",
       "      <td>0.725000</td>\n",
       "      <td>0.733251</td>\n",
       "      <td>4072.000000</td>\n",
       "    </tr>\n",
       "    <tr>\n",
       "      <th>weighted avg</th>\n",
       "      <td>0.802183</td>\n",
       "      <td>0.808448</td>\n",
       "      <td>0.804622</td>\n",
       "      <td>4072.000000</td>\n",
       "    </tr>\n",
       "  </tbody>\n",
       "</table>\n",
       "</div>"
      ],
      "text/plain": [
       "              precision    recall  f1-score      support\n",
       "0              0.859710  0.890594  0.874880  3062.000000\n",
       "1              0.627778  0.559406  0.591623  1010.000000\n",
       "accuracy       0.808448  0.808448  0.808448     0.808448\n",
       "macro avg      0.743744  0.725000  0.733251  4072.000000\n",
       "weighted avg   0.802183  0.808448  0.804622  4072.000000"
      ]
     },
     "execution_count": 92,
     "metadata": {},
     "output_type": "execute_result"
    }
   ],
   "source": [
    "report=classification_report(y_test, pred, output_dict=True)\n",
    "df = pd.DataFrame(report).transpose()\n",
    "df.to_csv(\"outputs//fakenewsnet_ml_bert//model_FAKENEWSNET_LR_BERT_clasifctnrpt.csv\")\n",
    "df.head()"
   ]
  },
  {
   "cell_type": "markdown",
   "id": "7f48b52a",
   "metadata": {},
   "source": [
    "**Plot confusion matrix using the user defined functions created earlier**"
   ]
  },
  {
   "cell_type": "code",
   "execution_count": 93,
   "id": "47ddd967",
   "metadata": {},
   "outputs": [
    {
     "data": {
      "image/png": "[encoded data removed]",
      "text/plain": [
       "<Figure size 360x300 with 2 Axes>"
      ]
     },
     "metadata": {},
     "output_type": "display_data"
    },
    {
     "data": {
      "image/png": "[encoded data removed]",
      "text/plain": [
       "<Figure size 360x300 with 2 Axes>"
      ]
     },
     "metadata": {},
     "output_type": "display_data"
    }
   ],
   "source": [
    "cm=confusion_matrix(y_test, pred)\n",
    "path1=\"outputs//fakenewsnet_ml_bert//fakenewsnet_ml_LR_bert_cmtrx.png\"\n",
    "path2=\"outputs//fakenewsnet_ml_bert//fakenewsnet_ml_LR_bert_cmtrx.png\"\n",
    "confusn_mtrx_plot(cm,path1)\n",
    "norm_confusn_mtrx_plot(cm,path2)"
   ]
  },
  {
   "cell_type": "markdown",
   "id": "0065cc84",
   "metadata": {},
   "source": [
    "### ROC AUC Curve plot based on the scores of all the algorithms"
   ]
  },
  {
   "cell_type": "code",
   "execution_count": 96,
   "id": "38569489",
   "metadata": {},
   "outputs": [
    {
     "data": {
      "text/plain": [
       "<matplotlib.legend.Legend at 0x2b7321c04748>"
      ]
     },
     "execution_count": 96,
     "metadata": {},
     "output_type": "execute_result"
    },
    {
     "data": {
      "image/png": "[encoded data removed]",
      "text/plain": [
       "<Figure size 432x288 with 1 Axes>"
      ]
     },
     "metadata": {},
     "output_type": "display_data"
    }
   ],
   "source": [
    "#set up plotting area\n",
    "plt.figure(0).clf()\n",
    "\n",
    "#fit RF model and plot ROC curve\n",
    "y_pred = rf_clf_tuned.predict_proba(X_test)[:, 1]\n",
    "fpr, tpr, _ = roc_curve(y_test, y_pred)\n",
    "auc = round(roc_auc_score(y_test, y_pred), 4)\n",
    "plt.plot(fpr,tpr,label=\"Random Forest, AUC=\"+str(auc))\n",
    "\n",
    "#fit Logistic model and plot ROC curve\n",
    "y_pred = logticreg_clf_tuned.predict_proba(X_test)[:, 1]\n",
    "y_pred=np.array((y_pred > 0.4).astype(int))\n",
    "fpr, tpr, _ = roc_curve(y_test, y_pred)\n",
    "auc = round(roc_auc_score(y_test, y_pred), 4)\n",
    "plt.plot(fpr,tpr,label=\"Logistic, AUC=\"+str(auc))\n",
    "\n",
    "\n",
    "#fit SVM model and plot ROC curve\n",
    "y_pred = svm_clf_tuned.predict_proba(X_test)[:, 1]\n",
    "y_pred=np.array((y_pred > 0.3).astype(int))\n",
    "fpr, tpr, _ = roc_curve(y_test, y_pred)\n",
    "auc = round(roc_auc_score(y_test, y_pred), 4)\n",
    "plt.plot(fpr,tpr,label=\"SVM, AUC=\"+str(auc))\n",
    "\n",
    "\n",
    "#fit KNN model and plot ROC curve\n",
    "y_pred = knn_clf_tuned.predict_proba(X_test)[:, 1]\n",
    "y_pred=np.array((y_pred > 0.4).astype(int))\n",
    "fpr, tpr, _ = roc_curve(y_test, y_pred)\n",
    "auc = round(roc_auc_score(y_test, y_pred), 4)\n",
    "plt.plot(fpr,tpr,label=\"KNN, AUC=\"+str(auc))\n",
    "\n",
    "#fit Naive Bayes model and plot ROC curve\n",
    "y_pred = nb_clf_tuned.predict_proba(X_test)[:, 1]\n",
    "y_pred=np.array((y_pred > 0.35).astype(int))\n",
    "fpr, tpr, _ = roc_curve(y_test, y_pred)\n",
    "auc = round(roc_auc_score(y_test, y_pred), 4)\n",
    "plt.plot(fpr,tpr,label=\"Naive Bayes, AUC=\"+str(auc))\n",
    "\n",
    "#fit Xgboost model and plot ROC curve\n",
    "y_pred = xg_clf_tuned.predict_proba(X_test)[:, 1]\n",
    "fpr, tpr, _ = roc_curve(y_test, y_pred)\n",
    "auc = round(roc_auc_score(y_test, y_pred), 4)\n",
    "plt.plot(fpr,tpr,label=\"Xgboost, AUC=\"+str(auc))\n",
    "\n",
    "#add legend\n",
    "plt.legend()"
   ]
  },
  {
   "cell_type": "code",
   "execution_count": null,
   "id": "49b961fd",
   "metadata": {},
   "outputs": [],
   "source": []
  },
  {
   "cell_type": "code",
   "execution_count": null,
   "id": "5aa47a34",
   "metadata": {},
   "outputs": [],
   "source": []
  },
  {
   "cell_type": "code",
   "execution_count": null,
   "id": "c9a7aebc",
   "metadata": {},
   "outputs": [],
   "source": []
  },
  {
   "cell_type": "code",
   "execution_count": null,
   "id": "d0aa14c2",
   "metadata": {},
   "outputs": [],
   "source": []
  },
  {
   "cell_type": "code",
   "execution_count": null,
   "id": "db5bcea1",
   "metadata": {},
   "outputs": [],
   "source": []
  },
  {
   "cell_type": "code",
   "execution_count": null,
   "id": "d1100400",
   "metadata": {},
   "outputs": [],
   "source": []
  },
  {
   "cell_type": "code",
   "execution_count": null,
   "id": "84ccf402",
   "metadata": {},
   "outputs": [],
   "source": []
  }
 ],
 "metadata": {
  "kernelspec": {
   "display_name": "Python 3 (ipykernel)",
   "language": "python",
   "name": "python3"
  },
  "language_info": {
   "codemirror_mode": {
    "name": "ipython",
    "version": 3
   },
   "file_extension": ".py",
   "mimetype": "text/x-python",
   "name": "python",
   "nbconvert_exporter": "python",
   "pygments_lexer": "ipython3",
   "version": "3.7.0"
  }
 },
 "nbformat": 4,
 "nbformat_minor": 5
}
