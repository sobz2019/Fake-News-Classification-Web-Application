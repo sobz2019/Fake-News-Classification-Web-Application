{
 "cells": [
  {
   "cell_type": "markdown",
   "id": "9d6d043a",
   "metadata": {
    "scrolled": true
   },
   "source": [
    "# Overview\n",
    "\n",
    "This notebook describes the different stages to build up different machine learning models trained over the dataset called **FakeNewsNet** by using  both **Word2Vec** and **Glove** Embeddings, for the automatic fake news detection\n",
    "\n",
    "List of Machine Learning algorithms included \n",
    "- SVM\n",
    "- Random Forest\n",
    "- XgBoost\n",
    "- KNN\n",
    "- Naive Bayes\n",
    "- Logistic Regression\n",
    "\n"
   ]
  },
  {
   "cell_type": "markdown",
   "id": "863f2e98",
   "metadata": {},
   "source": [
    "## 1. Loading Python libraries"
   ]
  },
  {
   "cell_type": "code",
   "execution_count": 1,
   "id": "81825a37",
   "metadata": {
    "collapsed": true
   },
   "outputs": [
    {
     "name": "stderr",
     "output_type": "stream",
     "text": [
      "[nltk_data] Downloading package stopwords to\n",
      "[nltk_data]     /gpfs/home/psc21zcu/nltk_data...\n",
      "[nltk_data]   Package stopwords is already up-to-date!\n",
      "[nltk_data] Downloading package punkt to\n",
      "[nltk_data]     /gpfs/home/psc21zcu/nltk_data...\n",
      "[nltk_data]   Package punkt is already up-to-date!\n",
      "[nltk_data] Downloading package averaged_perceptron_tagger to\n",
      "[nltk_data]     /gpfs/home/psc21zcu/nltk_data...\n",
      "[nltk_data]   Package averaged_perceptron_tagger is already up-to-\n",
      "[nltk_data]       date!\n",
      "[nltk_data] Downloading package wordnet to\n",
      "[nltk_data]     /gpfs/home/psc21zcu/nltk_data...\n",
      "[nltk_data]   Package wordnet is already up-to-date!\n"
     ]
    }
   ],
   "source": [
    "import numpy as np\n",
    "import pandas as pd\n",
    "import warnings\n",
    "%matplotlib inline\n",
    "import matplotlib.pyplot as plt\n",
    "import seaborn as sns\n",
    "import glob\n",
    "import json\n",
    "import tldextract   # Accurately separates a URL's subdomain, domain, and public suffix\n",
    "from bs4 import BeautifulSoup\n",
    "from sklearn.model_selection import train_test_split\n",
    "from sklearn.metrics import classification_report,confusion_matrix,accuracy_score\n",
    "from sklearn.metrics import precision_score, recall_score\n",
    "from sklearn.pipeline import Pipeline\n",
    "from sklearn.metrics import roc_auc_score\n",
    "from sklearn.ensemble import RandomForestClassifier\n",
    "from sklearn.model_selection import RandomizedSearchCV\n",
    "from sklearn.svm import SVC\n",
    "from sklearn.neighbors import KNeighborsClassifier\n",
    "from sklearn.naive_bayes import GaussianNB\n",
    "from sklearn.naive_bayes import MultinomialNB\n",
    "from xgboost import XGBClassifier\n",
    "from sklearn.linear_model import LogisticRegression\n",
    "import re\n",
    "from sklearn.metrics import roc_curve, roc_auc_score\n",
    "from sklearn.feature_extraction.text import TfidfVectorizer,CountVectorizer\n",
    "import nltk \n",
    "import spacy\n",
    "nltk.download('stopwords')\n",
    "nltk.download('punkt')\n",
    "nltk.download('averaged_perceptron_tagger')\n",
    "nltk.download('wordnet')\n",
    "from wordcloud import WordCloud, ImageColorGenerator,STOPWORDS\n",
    "import gensim\n",
    "from gensim.parsing.preprocessing import STOPWORDS as gensim_stopwords\n",
    "import copy\n",
    "from nltk.stem import PorterStemmer\n",
    "from nltk.corpus import stopwords,wordnet\n",
    "from nltk.tokenize import word_tokenize\n",
    "from nltk.stem import WordNetLemmatizer,LancasterStemmer\n",
    "from sklearn.metrics import f1_score\n",
    "from pprint import pprint\n",
    "import warnings\n",
    "\n",
    "warnings.filterwarnings('ignore')\n",
    "pd.set_option('display.max_rows', 500)\n",
    "pd.set_option('display.max_columns', 500)\n",
    "pd.set_option('display.width', 1000)\n",
    "pd.set_option('display.expand_frame_repr', False)\n",
    "pd.set_option('display.max_colwidth', 1000)"
   ]
  },
  {
   "cell_type": "markdown",
   "id": "d8f4c8c1",
   "metadata": {},
   "source": [
    "***\n",
    "## 2. Dataset Cleaning and Preprocessing"
   ]
  },
  {
   "cell_type": "markdown",
   "id": "777e41e9",
   "metadata": {},
   "source": [
    "From the downloaded Fakenewsnet dataset, assign four variables with corresponding paths urls for the two class-labelled variables that should be in the common **input_dataset** folder as created for the whole experiment."
   ]
  },
  {
   "cell_type": "code",
   "execution_count": 3,
   "id": "9ccd94f8",
   "metadata": {},
   "outputs": [],
   "source": [
    "foldr_pol_real = 'input_dataset//fakenewsnet//politifact//real//'\n",
    "foldr_pol_fake = 'input_dataset//fakenewsnet//politifact//fake//'\n",
    "foldr_gos_real = 'input_dataset//fakenewsnet//gossipcop//real//'\n",
    "foldr_gos_fake = 'input_dataset//fakenewsnet//gossipcop//fake//'"
   ]
  },
  {
   "cell_type": "markdown",
   "id": "d5b383eb",
   "metadata": {},
   "source": [
    "*** \n",
    "\n",
    "### Function to extract or convert  attributes from JSON  News Content format to  dataframe\n",
    "\n",
    "This script is using to extract multiple attributes of the news content from the JSON file  and filtered the domain names from the url attribute  and created a new dataframe.\n"
   ]
  },
  {
   "cell_type": "code",
   "execution_count": 4,
   "id": "ecd8d829",
   "metadata": {},
   "outputs": [],
   "source": [
    "def json_to_newscontent(datapath):\n",
    "    dictlist = []\n",
    "    cols = ['url','text','title','authors','num_images','domain']\n",
    "    folders = glob.glob(datapath+'/*')\n",
    "    for index, subdir in enumerate(folders):\n",
    "        path_file = glob.glob(subdir+'/*')\n",
    "        #check whether file path is valid or not\n",
    "        if len(path_file) == 1:\n",
    "            file = open(path_file[0]).read()\n",
    "            jsondata = json.loads(file)\n",
    "            thedict = {'url':jsondata['url'],'title':jsondata['title'],'text':jsondata['text'],\n",
    "                   'num_images':len(jsondata['images']),'authors':str(jsondata['authors'])}\n",
    "            extrt_url = tldextract.extract(jsondata['url'])\n",
    "            thedict['domain'] = extrt_url.domain\n",
    "            dictlist.append(thedict)\n",
    "    df=pd.DataFrame(dictlist,columns=cols)\n",
    "    return df"
   ]
  },
  {
   "cell_type": "markdown",
   "id": "d8e4e41a",
   "metadata": {},
   "source": [
    "##### Converting seperate dataframes for Politfact fake and real and Gossip fake and real"
   ]
  },
  {
   "cell_type": "code",
   "execution_count": 5,
   "id": "5ebc397e",
   "metadata": {},
   "outputs": [
    {
     "name": "stdout",
     "output_type": "stream",
     "text": [
      "Execution time: 374.3071653842926 seconds\n"
     ]
    }
   ],
   "source": [
    "import time\n",
    "\n",
    "# get the start time\n",
    "st = time.time()\n",
    "\n",
    "df_pol_real = json_to_newscontent(foldr_pol_real)\n",
    "df_pol_fake = json_to_newscontent(foldr_pol_fake)\n",
    "df_gos_real = json_to_newscontent(foldr_gos_real)\n",
    "df_gos_fake = json_to_newscontent(foldr_gos_fake)\n",
    "\n",
    "# get the end time\n",
    "et = time.time()\n",
    "\n",
    "# get the execution time\n",
    "elapsed_time = et - st\n",
    "print('Execution time:', elapsed_time, 'seconds')"
   ]
  },
  {
   "cell_type": "markdown",
   "id": "cfdfdd2c",
   "metadata": {},
   "source": [
    "##### Removing rows having  missing value in the column named 'TEXT'"
   ]
  },
  {
   "cell_type": "code",
   "execution_count": 6,
   "id": "f5af97e5",
   "metadata": {},
   "outputs": [],
   "source": [
    "## Cleaned dataset\n",
    "df_pol_real = df_pol_real.loc[df_pol_real[\"text\"] != '' ]\n",
    "df_pol_fake = df_pol_fake.loc[df_pol_fake[\"text\"] != '' ]\n",
    "df_gos_real = df_gos_real.loc[df_gos_real[\"text\"] != '' ]\n",
    "df_gos_fake = df_gos_fake.loc[df_gos_fake[\"text\"] != '' ]\n",
    "\n",
    "df_pol_real.reset_index(drop=True,inplace=True)\n",
    "df_pol_fake.reset_index(drop=True,inplace=True)\n",
    "df_gos_real.reset_index(drop=True,inplace=True)\n",
    "df_gos_fake.reset_index(drop=True,inplace=True)"
   ]
  },
  {
   "cell_type": "markdown",
   "id": "19f80608",
   "metadata": {},
   "source": [
    "Created one new column named **Category** to identify whether a news article belongs to Politics or Gossip related"
   ]
  },
  {
   "cell_type": "code",
   "execution_count": 7,
   "id": "caefd75d",
   "metadata": {},
   "outputs": [],
   "source": [
    "df_pol_real['Category'] = 'Politics' \n",
    "df_pol_fake['Category'] = 'Politics'\n",
    "df_gos_real['Category'] = 'Gossips'\n",
    "df_gos_fake['Category'] = 'Gossips'"
   ]
  },
  {
   "cell_type": "markdown",
   "id": "5e65feb0",
   "metadata": {},
   "source": [
    "Added response variable 'class' based on True=1 or Fake=0, in each dataframe"
   ]
  },
  {
   "cell_type": "code",
   "execution_count": 8,
   "id": "510886d4",
   "metadata": {},
   "outputs": [],
   "source": [
    "df_pol_real['class'] = 0 #True\n",
    "df_pol_fake['class'] = 1 #Fake\n",
    "df_gos_real['class'] = 0\n",
    "df_gos_fake['class'] = 1"
   ]
  },
  {
   "cell_type": "markdown",
   "id": "ac24eb05",
   "metadata": {},
   "source": [
    "Merging all the four dataframes into a single dataframe for the further steps"
   ]
  },
  {
   "cell_type": "code",
   "execution_count": 12,
   "id": "c215a20d",
   "metadata": {},
   "outputs": [],
   "source": [
    "df_list = [df_pol_real,df_pol_fake,df_gos_real,df_gos_fake]"
   ]
  },
  {
   "cell_type": "code",
   "execution_count": 13,
   "id": "37d9a6c2",
   "metadata": {},
   "outputs": [],
   "source": [
    "#combine df's into one\n",
    "df = pd.concat(df_list).reset_index(drop=True)\n",
    "total_rows = df.shape[0]"
   ]
  },
  {
   "cell_type": "markdown",
   "id": "7320928d",
   "metadata": {},
   "source": [
    "#####  Next step is to create a new column named  'fulltext'  with the combination of 'title' and 'text' columns"
   ]
  },
  {
   "cell_type": "code",
   "execution_count": 15,
   "id": "d230c3fb",
   "metadata": {},
   "outputs": [
    {
     "data": {
      "text/plain": [
       "(20275, 9)"
      ]
     },
     "execution_count": 15,
     "metadata": {},
     "output_type": "execute_result"
    }
   ],
   "source": [
    "df['fulltext']=df['title']+'.'+df['text']\n",
    "df=df.dropna()\n",
    "df.shape"
   ]
  },
  {
   "cell_type": "markdown",
   "id": "c4d2454b",
   "metadata": {},
   "source": [
    "#### Saving Fulldataset to csv format in  a location"
   ]
  },
  {
   "cell_type": "code",
   "execution_count": 16,
   "id": "29378960",
   "metadata": {},
   "outputs": [],
   "source": [
    "df.to_csv('Updated//fakenesnet_full_dataset.csv', index=False)"
   ]
  },
  {
   "cell_type": "markdown",
   "id": "42718c7d",
   "metadata": {},
   "source": [
    "Create a new dataframe by considering two columns 'fulltext' and 'class'"
   ]
  },
  {
   "cell_type": "code",
   "execution_count": 4,
   "id": "b63537a8",
   "metadata": {},
   "outputs": [],
   "source": [
    "filterd_df=df[['fulltext','class']]"
   ]
  },
  {
   "cell_type": "markdown",
   "id": "cc056bf5",
   "metadata": {},
   "source": [
    "#### Preprocess the fulltext column using the built in cleaner option in gensim library"
   ]
  },
  {
   "cell_type": "code",
   "execution_count": null,
   "id": "533b9384",
   "metadata": {},
   "outputs": [],
   "source": [
    "filterd_df['cleantext'] = filterd_df['fulltext'].apply(lambda x: gensim.utils.simple_preprocess(x))"
   ]
  },
  {
   "cell_type": "markdown",
   "id": "8a07c35a",
   "metadata": {},
   "source": [
    "***\n",
    "\n",
    "## 3. Model Training and Evaluation"
   ]
  },
  {
   "cell_type": "markdown",
   "id": "7946c328",
   "metadata": {},
   "source": [
    "### Splitting dataset into train and test"
   ]
  },
  {
   "cell_type": "code",
   "execution_count": 6,
   "id": "d3193744",
   "metadata": {},
   "outputs": [],
   "source": [
    "X=filterd_df['cleantext']\n",
    "y=filterd_df['class']"
   ]
  },
  {
   "cell_type": "code",
   "execution_count": 7,
   "id": "9d4ad273",
   "metadata": {},
   "outputs": [],
   "source": [
    "X_train, X_test, y_train, y_test = train_test_split(X, y, test_size=0.2,stratify=y, random_state=0)"
   ]
  },
  {
   "cell_type": "markdown",
   "id": "3c7bb9a4",
   "metadata": {},
   "source": [
    "####  User defined helper functions to find out the accuracy score metrics and creation of model comparison table\n",
    "\n",
    "\n",
    "- The function named **metrics** is using to calculate the score of the different metrics such as Accuracy, Precision, Recall, F1Score and ROC AUC score for the given classifier with test data\n",
    "\n",
    "\n",
    "- The function named **model_comparison_table** is using to create dataframe to list down all the classifiers with the metrics scores for the comparison purpose"
   ]
  },
  {
   "cell_type": "code",
   "execution_count": 8,
   "id": "0b832779",
   "metadata": {},
   "outputs": [],
   "source": [
    "import timeit\n",
    "from timeit import default_timer as timer\n",
    "from datetime import timedelta\n",
    " \n",
    "\n",
    "\n",
    "def metrics(X_test,y_test,clf):\n",
    "    predictions=clf.predict(X_test)\n",
    "    #predictions=(clf.predict_proba(X_test)[:,1] >= 0.3).astype(bool)\n",
    "    print(\"confusion_matrix :\")\n",
    "    print(confusion_matrix(y_test,predictions))\n",
    "    print(\"Accuracy Score :\")\n",
    "    print(accuracy_score(y_test, predictions))\n",
    "    print(\"Classification Report :\")\n",
    "    print(classification_report(y_test, predictions))\n",
    "    print(\"F1 score :\")\n",
    "    print(f1_score(y_test, predictions))\n",
    "    print(\"ROC AUC Score\")\n",
    "    y_pred_proba = clf.predict_proba(X_test)\n",
    "    print(roc_auc_score(y_test, y_pred_proba[:,1]) )\n",
    "    print(\"------------------------------\")\n",
    "\n",
    "    \n",
    "def model_comparison_table(X_test,y_test,classifier_list):\n",
    "    dict_clf={}\n",
    "    for clf_name,clf in classifier_list:\n",
    "        predictions=clf.predict(X_test)\n",
    "        y_pred_proba = clf.predict_proba(X_test)\n",
    "        accuracy=accuracy_score(y_test, predictions)\n",
    "        precision=precision_score(y_test,predictions,average='macro').round(2)\n",
    "        recall=recall_score(y_test,predictions)\n",
    "        f1score=f1_score(y_test,predictions).round(2)\n",
    "        ROC_AUC=roc_auc_score(y_test, y_pred_proba[:,1])\n",
    "        dict_clf[clf_name]=[accuracy,precision,recall,f1score,ROC_AUC]\n",
    "    df_models_scores = pd.DataFrame(dict_clf, index=['Accuracy', 'Precision', 'Recall', 'F1 Score','roc_auc_score'])\n",
    "    return df_models_scores"
   ]
  },
  {
   "cell_type": "markdown",
   "id": "c317daba",
   "metadata": {},
   "source": [
    "#### User defined helper functions to create the confusion matrix and normalised confusion matrix \n",
    "\n",
    "The below scripts is using to create the confusion matrix and normalised confusion matrix based on the predictions and actual truth lables"
   ]
  },
  {
   "cell_type": "code",
   "execution_count": 9,
   "id": "51e447d5",
   "metadata": {},
   "outputs": [],
   "source": [
    "# Helper function to plot confusion matrix and normalised confusion matrix plot\n",
    "def confusn_mtrx_plot(cm,path):\n",
    "    from sklearn.metrics import confusion_matrix\n",
    "    # Y_pred_evc = evc_mdl.predict(test_X)\n",
    "    #cm = confusion_matrix(ytrue, y_pred)\n",
    "\n",
    "    fig = plt.figure(figsize=(6, 5), dpi=60)\n",
    "    ax = plt.subplot()\n",
    "    sns.set(font_scale=1.4) # Adjust to fit\n",
    "    sns.heatmap(cm, annot=True, ax=ax, cmap=\"GnBu\", fmt=\"g\");  \n",
    "    #sns.heatmap(cm/np.sum(cm), annot=True, ax=ax[1], cmap=\"GnBu\", fmt=\"g\");  \n",
    "\n",
    "    # Labels, title and ticks\n",
    "    label_font = {'size':'18'}  # Adjust to fit\n",
    "    ax.set_xlabel('Predicted', fontdict=label_font);\n",
    "    ax.set_ylabel('Actuals', fontdict=label_font);\n",
    "\n",
    "    title_font = {'size':'20'}  # Adjust to fit\n",
    "    ax.set_title('Confusion Matrix', fontdict=title_font);\n",
    "\n",
    "    ax.tick_params(axis='both', which='major', labelsize=15)  # Adjust to fit\n",
    "    ax.xaxis.set_ticklabels(['Real', 'Fake']);\n",
    "    ax.yaxis.set_ticklabels(['Real', 'Fake']);\n",
    "    #fig.show()\n",
    "    fig.savefig(path)\n",
    "    \n",
    "def norm_confusn_mtrx_plot(cm,path):\n",
    "    fig = plt.figure(figsize=(6, 5), dpi=60)\n",
    "    ax = plt.subplot()\n",
    "    sns.set(font_scale=1.4) # Adjust to fit\n",
    "    sns.heatmap(cm/np.sum(cm), annot=True, ax=ax, cmap=\"GnBu\",fmt='.2%');  \n",
    "\n",
    "    # Labels, title and ticks\n",
    "    label_font = {'size':'18'}  # Adjust to fit\n",
    "    ax.set_xlabel('Predicted', fontdict=label_font);\n",
    "    ax.set_ylabel('Actuals', fontdict=label_font);\n",
    "\n",
    "    title_font = {'size':'18'}  # Adjust to fit\n",
    "    ax.set_title('Normalised Confusion Matrix', fontdict=title_font);\n",
    "\n",
    "    ax.tick_params(axis='both', which='major', labelsize=15)  # Adjust to fit\n",
    "    ax.xaxis.set_ticklabels(['Real', 'Fake']);\n",
    "    ax.yaxis.set_ticklabels(['Real', 'Fake']);\n",
    "    fig.savefig(path)"
   ]
  },
  {
   "cell_type": "markdown",
   "id": "da5ae8c5",
   "metadata": {},
   "source": [
    "### Feature Extractions using pretrained word2vec model"
   ]
  },
  {
   "cell_type": "markdown",
   "id": "43ae1789",
   "metadata": {},
   "source": [
    "#### Load Gensim Downloader library"
   ]
  },
  {
   "cell_type": "code",
   "execution_count": 10,
   "id": "7978858b",
   "metadata": {},
   "outputs": [],
   "source": [
    "import gensim.downloader"
   ]
  },
  {
   "cell_type": "markdown",
   "id": "7621fe1a",
   "metadata": {},
   "source": [
    "##### Download the  pretrained model"
   ]
  },
  {
   "cell_type": "code",
   "execution_count": null,
   "id": "2b18d0fe",
   "metadata": {},
   "outputs": [],
   "source": [
    "!wget -P /root/input/ -c \"https://s3.amazonaws.com/dl4j-distribution/GoogleNews-vectors-negative300.bin.gz\""
   ]
  },
  {
   "cell_type": "markdown",
   "id": "49663ff6",
   "metadata": {},
   "source": [
    "#### After downloading it, you can load it as follows"
   ]
  },
  {
   "cell_type": "code",
   "execution_count": 12,
   "id": "29b61f63",
   "metadata": {},
   "outputs": [],
   "source": [
    "path_to_model = 'Embeddings//GoogleNews-vectors-negative300.bin'"
   ]
  },
  {
   "cell_type": "code",
   "execution_count": 13,
   "id": "60d547a0",
   "metadata": {},
   "outputs": [
    {
     "name": "stdout",
     "output_type": "stream",
     "text": [
      "CPU times: user 19.5 s, sys: 1.64 s, total: 21.1 s\n",
      "Wall time: 21.1 s\n",
      "done loading Word2Vec\n"
     ]
    }
   ],
   "source": [
    "from gensim.models.keyedvectors import KeyedVectors\n",
    "%time w2v_model = KeyedVectors.load_word2vec_format(path_to_model, binary=True)\n",
    "print('done loading Word2Vec')"
   ]
  },
  {
   "cell_type": "markdown",
   "id": "0a3b187d",
   "metadata": {},
   "source": [
    "#### Then inspect the model by getting the list of index of key values from the pretrained model"
   ]
  },
  {
   "cell_type": "code",
   "execution_count": 14,
   "id": "da8c47d0",
   "metadata": {},
   "outputs": [],
   "source": [
    "#Inspect the model\n",
    "word2vec_vocab = list(w2v_model.index_to_key)"
   ]
  },
  {
   "cell_type": "code",
   "execution_count": 15,
   "id": "9475610b",
   "metadata": {},
   "outputs": [],
   "source": [
    "word2vec_vocab_lower = [item.lower() for item in word2vec_vocab]"
   ]
  },
  {
   "cell_type": "markdown",
   "id": "2057c508",
   "metadata": {},
   "source": [
    "#### User defined Function to create a feature vector by averaging all embeddings for the given sentence using the below user defined function"
   ]
  },
  {
   "cell_type": "code",
   "execution_count": 17,
   "id": "644dfb73",
   "metadata": {},
   "outputs": [
    {
     "name": "stdout",
     "output_type": "stream",
     "text": [
      "16220\n"
     ]
    }
   ],
   "source": [
    "# Creating a feature vector by averaging all embeddings for all sentences\n",
    "def embedding_feats(list_of_lists):\n",
    "    DIMENSION = 300\n",
    "    zero_vector = np.zeros(DIMENSION)\n",
    "    feats = []\n",
    "    for tokens in list_of_lists:\n",
    "        feat_for_this =  np.zeros(DIMENSION)\n",
    "        count_for_this = 0 + 1e-5 # to avoid divide-by-zero \n",
    "        for token in tokens:\n",
    "            if token in w2v_model:\n",
    "                feat_for_this += w2v_model[token]\n",
    "                count_for_this +=1\n",
    "        if(count_for_this!=0):\n",
    "            feats.append(feat_for_this/count_for_this) \n",
    "        else:\n",
    "            feats.append(zero_vector)\n",
    "    return feats\n",
    "\n",
    "\n"
   ]
  },
  {
   "cell_type": "markdown",
   "id": "a9070b0a",
   "metadata": {},
   "source": [
    "#### Then fit the training data and transform both training and test data"
   ]
  },
  {
   "cell_type": "code",
   "execution_count": 18,
   "id": "0ef72afb",
   "metadata": {},
   "outputs": [
    {
     "name": "stdout",
     "output_type": "stream",
     "text": [
      "4055\n"
     ]
    }
   ],
   "source": [
    "train_vectors = embedding_feats(X_train)\n",
    "test_vectors = embedding_feats(X_test)"
   ]
  },
  {
   "cell_type": "markdown",
   "id": "de3d75a3",
   "metadata": {},
   "source": [
    "## Model Training "
   ]
  },
  {
   "cell_type": "markdown",
   "id": "b541d0bf",
   "metadata": {},
   "source": [
    "### RandomForest"
   ]
  },
  {
   "cell_type": "markdown",
   "id": "14337ea3",
   "metadata": {},
   "source": [
    "**Initialise the  model and  fit using train data**"
   ]
  },
  {
   "cell_type": "code",
   "execution_count": 19,
   "id": "5bc97f79",
   "metadata": {},
   "outputs": [],
   "source": [
    "rf = RandomForestClassifier(random_state=0)\n",
    "rf_model = rf.fit(train_vectors, y_train.values.ravel())"
   ]
  },
  {
   "cell_type": "markdown",
   "id": "f42af50c",
   "metadata": {},
   "source": [
    "**Predict using test data and measure the accuracy metrics**"
   ]
  },
  {
   "cell_type": "code",
   "execution_count": 20,
   "id": "c98fd636",
   "metadata": {},
   "outputs": [
    {
     "name": "stdout",
     "output_type": "stream",
     "text": [
      "Accuracy score : 0.836498150431566\n",
      "Confusion matrix : \n",
      " [[2983   65]\n",
      " [ 598  409]]\n",
      "Classification Report\n",
      "              precision    recall  f1-score   support\n",
      "\n",
      "           0       0.83      0.98      0.90      3048\n",
      "           1       0.86      0.41      0.55      1007\n",
      "\n",
      "    accuracy                           0.84      4055\n",
      "   macro avg       0.85      0.69      0.73      4055\n",
      "weighted avg       0.84      0.84      0.81      4055\n",
      "\n",
      "Precision : 0.8628691983122363\n",
      "Recall : 0.40615690168818275\n"
     ]
    }
   ],
   "source": [
    "# Use the trained model to make predictions on the test data\n",
    "y_pred = rf_model.predict(test_vectors)\n",
    "print(\"Accuracy score : {}\".format(accuracy_score(y_test, y_pred)))\n",
    "print(\"Confusion matrix : \\n {}\".format(confusion_matrix(y_test, y_pred)))\n",
    "print(\"Classification Report\")\n",
    "print(classification_report(y_test, y_pred))\n",
    "\n",
    "precision = precision_score(y_test, y_pred)\n",
    "print(\"Precision : {}\".format(precision))\n",
    "recall = recall_score(y_test, y_pred)\n",
    "print(\"Recall : {}\".format(recall))"
   ]
  },
  {
   "cell_type": "markdown",
   "id": "403cdd5b",
   "metadata": {},
   "source": [
    "### Hyperparameter Tuning for Random Forest\n",
    "\n",
    "Define the list of parameters which needed to do hyperparameter tuning\n"
   ]
  },
  {
   "cell_type": "code",
   "execution_count": null,
   "id": "b26df9d0",
   "metadata": {},
   "outputs": [],
   "source": [
    "# Number of trees in random forest\n",
    "n_estimators =[int(x) for x in np.linspace(start = 100, stop = 1000, num = 10)]\n",
    "# Number of features to consider at every split\n",
    "max_features = ['auto', 'sqrt']\n",
    "# Maximum number of levels in tree\n",
    "max_depth =[int(x) for x in np.linspace(10, 110, num = 11)]\n",
    "#Minimum number of samples required to split a node\n",
    "min_samples_split = [2, 5, 10]\n",
    "# Minimum number of samples required at each leaf node\n",
    "min_samples_leaf = [1, 2, 4]\n",
    "# Method of selecting samples for training each tree\n",
    "bootstrap = [True, False]\n",
    "\n",
    "# Create the random grid\n",
    "random_grid = {\n",
    "    'n_estimators': n_estimators,\n",
    "               'max_features': max_features,\n",
    "               'max_depth': max_depth,\n",
    "               'min_samples_split': min_samples_split,\n",
    "               'min_samples_leaf': min_samples_leaf,\n",
    "               'bootstrap': bootstrap\n",
    "              }\n",
    "pprint(random_grid)\n",
    "\n"
   ]
  },
  {
   "cell_type": "markdown",
   "id": "02aec728",
   "metadata": {},
   "source": [
    "**Apply RandomizedSearchCV library for hyperparameter tuning  and fit the train data**"
   ]
  },
  {
   "cell_type": "code",
   "execution_count": null,
   "id": "c32948ca",
   "metadata": {},
   "outputs": [],
   "source": [
    "rf_clf1=RandomForestClassifier(random_state=0)"
   ]
  },
  {
   "cell_type": "code",
   "execution_count": null,
   "id": "041ee5dd",
   "metadata": {},
   "outputs": [],
   "source": [
    "rf_random = RandomizedSearchCV(estimator=rf_clf1, param_distributions=random_grid,\n",
    "                              n_iter = 100, \n",
    "                              cv = 3, verbose=2, random_state=42, n_jobs=-1,\n",
    "                              return_train_score=True)\n",
    "\n",
    "\n",
    "# Fit the random search model\n",
    "rf_random.fit(train_vectors, y_train.values.ravel())"
   ]
  },
  {
   "cell_type": "code",
   "execution_count": 32,
   "id": "b794275e",
   "metadata": {},
   "outputs": [
    {
     "data": {
      "text/plain": [
       "{'n_estimators': 400,\n",
       " 'min_samples_split': 2,\n",
       " 'min_samples_leaf': 1,\n",
       " 'max_features': 'sqrt',\n",
       " 'max_depth': 70,\n",
       " 'bootstrap': False}"
      ]
     },
     "execution_count": 32,
     "metadata": {},
     "output_type": "execute_result"
    }
   ],
   "source": [
    "rf_random.best_params_"
   ]
  },
  {
   "cell_type": "markdown",
   "id": "b852a2fb",
   "metadata": {},
   "source": [
    "#### Train Random Forest using with Best Params  and save it to a path"
   ]
  },
  {
   "cell_type": "code",
   "execution_count": 22,
   "id": "7cb21439",
   "metadata": {},
   "outputs": [
    {
     "name": "stdout",
     "output_type": "stream",
     "text": [
      "RandomForest - Completed\n"
     ]
    }
   ],
   "source": [
    "rf_clf_tuned=RandomForestClassifier(random_state=0,n_estimators=400,max_features='sqrt',max_depth=70,min_samples_split=2,min_samples_leaf=1,bootstrap=False)\n",
    "\n",
    "rf_clf_tuned.fit(train_vectors, y_train.values.ravel())\n",
    "\n",
    "import pickle\n",
    "# save the model to disk\n",
    "filename = 'outputs//fakenewsnet_ml_word2vec//fakenewsnet_ml_RF_w2v.sav'\n",
    "pickle.dump(rf_clf_tuned, open(filename, 'wb'))\n",
    "print('RandomForest - Completed')"
   ]
  },
  {
   "cell_type": "markdown",
   "id": "cdd26f06",
   "metadata": {},
   "source": [
    "**Load the saved model and predict using test data and measure the accuracy metrics**"
   ]
  },
  {
   "cell_type": "code",
   "execution_count": 23,
   "id": "5ac8a0cb",
   "metadata": {},
   "outputs": [
    {
     "name": "stdout",
     "output_type": "stream",
     "text": [
      "Accuracy score : 0.8401972872996301\n",
      "Confusion matrix : \n",
      " [[2987   61]\n",
      " [ 587  420]]\n",
      "Classification Report\n",
      "              precision    recall  f1-score   support\n",
      "\n",
      "           0       0.84      0.98      0.90      3048\n",
      "           1       0.87      0.42      0.56      1007\n",
      "\n",
      "    accuracy                           0.84      4055\n",
      "   macro avg       0.85      0.70      0.73      4055\n",
      "weighted avg       0.85      0.84      0.82      4055\n",
      "\n",
      "Precision : 0.8731808731808732\n",
      "Recall : 0.4170804369414101\n",
      "F1 Score : 0.564516129032258\n"
     ]
    }
   ],
   "source": [
    "#Loading the model\n",
    "filename = 'outputs//fakenewsnet_ml_word2vec//fakenewsnet_ml_RF_w2v.sav'\n",
    "\n",
    "rf_clf_tuned = pickle.load(open(filename, 'rb'))\n",
    "\n",
    "pred = rf_clf_tuned.predict(test_vectors)\n",
    "print(\"Accuracy score : {}\".format(accuracy_score(y_test, pred)))\n",
    "print(\"Confusion matrix : \\n {}\".format(confusion_matrix(y_test, pred)))\n",
    "print(\"Classification Report\")\n",
    "print(classification_report(y_test, pred))\n",
    "precision = precision_score(y_test, pred)\n",
    "print(\"Precision : {}\".format(precision))\n",
    "recall = recall_score(y_test, pred)\n",
    "print(\"Recall : {}\".format(recall))\n",
    "f1score = f1_score(y_test, pred)\n",
    "print(\"F1 Score : {}\".format(f1score))\n"
   ]
  },
  {
   "cell_type": "markdown",
   "id": "a853e883",
   "metadata": {},
   "source": [
    "**Save the classification report to csv**"
   ]
  },
  {
   "cell_type": "code",
   "execution_count": 25,
   "id": "58b45ce3",
   "metadata": {},
   "outputs": [],
   "source": [
    "report=classification_report(y_test, pred, output_dict=True)\n",
    "df = pd.DataFrame(report).transpose()\n",
    "df.to_csv(\"outputs//fakenewsnet_ml_word2vec//model_FAKENEWSNET_RF_WORD2VEC_clasifctnrpt.csv\")"
   ]
  },
  {
   "cell_type": "markdown",
   "id": "c25e74ef",
   "metadata": {},
   "source": [
    "**Plot confusion matrix using the user defined functions as mentioned above earlier**"
   ]
  },
  {
   "cell_type": "code",
   "execution_count": 27,
   "id": "772c3662",
   "metadata": {},
   "outputs": [
    {
     "data": {
      "image/png": "[encoded data removed]",
      "text/plain": [
       "<Figure size 360x300 with 2 Axes>"
      ]
     },
     "metadata": {
      "needs_background": "light"
     },
     "output_type": "display_data"
    },
    {
     "data": {
      "image/png": "[encoded data removed]",
      "text/plain": [
       "<Figure size 360x300 with 2 Axes>"
      ]
     },
     "metadata": {},
     "output_type": "display_data"
    }
   ],
   "source": [
    "cm=confusion_matrix(y_test, pred)\n",
    "path1=\"outputs//fakenewsnet_ml_word2vec//fakenewsnet_ml_RF_word2vec_cmtrx.png\"\n",
    "path2=\"outputs//fakenewsnet_ml_word2vec//fakenewsnet_ml_RF_word2vec_ncmtrx.png\"\n",
    "confusn_mtrx_plot(cm,path1)\n",
    "norm_confusn_mtrx_plot(cm,path2)"
   ]
  },
  {
   "cell_type": "markdown",
   "id": "c2ded96a",
   "metadata": {},
   "source": [
    "***"
   ]
  },
  {
   "cell_type": "markdown",
   "id": "1457e97d",
   "metadata": {},
   "source": [
    "### Support Vector Machine"
   ]
  },
  {
   "cell_type": "markdown",
   "id": "46151daa",
   "metadata": {},
   "source": [
    "**Initialise SVM model and  fit the model and measure the accuracy metrics**"
   ]
  },
  {
   "cell_type": "code",
   "execution_count": 28,
   "id": "ae0716c4",
   "metadata": {},
   "outputs": [],
   "source": [
    "svm_clf=SVC(random_state=0)"
   ]
  },
  {
   "cell_type": "code",
   "execution_count": 29,
   "id": "dd368ef9",
   "metadata": {},
   "outputs": [
    {
     "name": "stdout",
     "output_type": "stream",
     "text": [
      "Accuracy score : 0.8438964241676942\n",
      "Confusion matrix : \n",
      " [[2986   62]\n",
      " [ 571  436]]\n",
      "Classification Report\n",
      "              precision    recall  f1-score   support\n",
      "\n",
      "           0       0.84      0.98      0.90      3048\n",
      "           1       0.88      0.43      0.58      1007\n",
      "\n",
      "    accuracy                           0.84      4055\n",
      "   macro avg       0.86      0.71      0.74      4055\n",
      "weighted avg       0.85      0.84      0.82      4055\n",
      "\n"
     ]
    }
   ],
   "source": [
    "svm_clf.fit(train_vectors,y_train)\n",
    "\n",
    "pred = svm_clf.predict(test_vectors)\n",
    "print(\"Accuracy score : {}\".format(accuracy_score(y_test, pred)))\n",
    "print(\"Confusion matrix : \\n {}\".format(confusion_matrix(y_test, pred)))\n",
    "print(\"Classification Report\")\n",
    "print(classification_report(y_test, pred))"
   ]
  },
  {
   "cell_type": "markdown",
   "id": "4cfa06a3",
   "metadata": {},
   "source": [
    "### Hyperparameter Tuning for SVM\n",
    "\n",
    "Define the list of parameters which needed to do hyperparameter tuning"
   ]
  },
  {
   "cell_type": "code",
   "execution_count": 40,
   "id": "2bb14189",
   "metadata": {},
   "outputs": [
    {
     "name": "stdout",
     "output_type": "stream",
     "text": [
      "{'C': [0.1, 1, 10, 100, 1000],\n",
      " 'gamma': [1, 0.1, 0.01, 0.001, 0.0001],\n",
      " 'kernel': ['rbf', 'poly', 'sigmoid']}\n"
     ]
    }
   ],
   "source": [
    "# Create the random grid\n",
    "random_grid = {\n",
    "    'C': [0.1, 1, 10, 100, 1000],\n",
    "               'gamma': [1, 0.1, 0.01, 0.001, 0.0001],\n",
    "               'kernel':  ['rbf', 'poly', 'sigmoid'],\n",
    "              }\n",
    "pprint(random_grid)\n"
   ]
  },
  {
   "cell_type": "markdown",
   "id": "5cd0f574",
   "metadata": {},
   "source": [
    "**Initialise the model and fit using train data with hyperparameter tuning**"
   ]
  },
  {
   "cell_type": "code",
   "execution_count": 41,
   "id": "b0cccc5b",
   "metadata": {
    "collapsed": true
   },
   "outputs": [
    {
     "name": "stdout",
     "output_type": "stream",
     "text": [
      "Fitting 5 folds for each of 50 candidates, totalling 250 fits\n"
     ]
    },
    {
     "data": {
      "text/plain": [
       "RandomizedSearchCV(cv=5, estimator=SVC(random_state=0), n_iter=50, n_jobs=-1,\n",
       "                   param_distributions={'C': [0.1, 1, 10, 100, 1000],\n",
       "                                        'gamma': [1, 0.1, 0.01, 0.001, 0.0001],\n",
       "                                        'kernel': ['rbf', 'poly', 'sigmoid']},\n",
       "                   random_state=42, return_train_score=True, verbose=2)"
      ]
     },
     "execution_count": 41,
     "metadata": {},
     "output_type": "execute_result"
    },
    {
     "name": "stdout",
     "output_type": "stream",
     "text": [
      "[CV] END ......................C=0.1, gamma=0.1, kernel=poly; total time=  43.2s\n",
      "[CV] END .......................C=10, gamma=0.1, kernel=poly; total time= 1.2min\n",
      "[CV] END .......................C=1, gamma=0.01, kernel=poly; total time= 1.3min\n",
      "[CV] END .....................C=10, gamma=0.001, kernel=poly; total time= 1.3min\n",
      "[CV] END ...................C=100, gamma=0.0001, kernel=poly; total time= 1.3min\n",
      "[CV] END ...............C=1000, gamma=0.0001, kernel=sigmoid; total time= 1.4min\n",
      "[CV] END .................C=1000, gamma=0.01, kernel=sigmoid; total time= 1.4min\n",
      "[CV] END .......................C=1000, gamma=1, kernel=poly; total time= 5.0min\n",
      "[CV] END .....................C=10, gamma=0.001, kernel=poly; total time= 1.1min\n",
      "[CV] END .....................C=100, gamma=1, kernel=sigmoid; total time= 1.3min\n",
      "[CV] END ...............C=1000, gamma=0.0001, kernel=sigmoid; total time= 1.3min\n",
      "[CV] END .................C=1000, gamma=0.01, kernel=sigmoid; total time= 1.5min\n",
      "[CV] END ......................C=0.1, gamma=0.1, kernel=poly; total time=  38.2s\n",
      "[CV] END .......................C=10, gamma=0.1, kernel=poly; total time= 1.3min\n",
      "[CV] END .....................C=0.1, gamma=0.001, kernel=rbf; total time= 1.8min\n",
      "[CV] END ...................C=100, gamma=0.0001, kernel=poly; total time= 1.3min\n",
      "[CV] END ...................C=0.1, gamma=0.0001, kernel=poly; total time= 1.2min\n",
      "[CV] END .................C=1000, gamma=0.01, kernel=sigmoid; total time= 1.4min\n",
      "[CV] END .......................C=1000, gamma=1, kernel=poly; total time= 4.4min\n",
      "[CV] END ......................C=10, gamma=0.001, kernel=rbf; total time= 1.9min\n",
      "[CV] END ...................C=0.1, gamma=0.0001, kernel=poly; total time= 1.2min\n",
      "[CV] END ....................C=100, gamma=0.001, kernel=poly; total time= 1.3min\n",
      "[CV] END ....................C=0.1, gamma=0.0001, kernel=rbf; total time= 1.5min\n",
      "[CV] END ........................C=10, gamma=0.1, kernel=rbf; total time= 1.7min\n",
      "[CV] END .........................C=10, gamma=1, kernel=poly; total time= 1.1min\n",
      "[CV] END ...................C=0.1, gamma=0.0001, kernel=poly; total time= 1.2min\n",
      "[CV] END ....................C=100, gamma=0.001, kernel=poly; total time= 1.3min\n",
      "[CV] END .....................C=1, gamma=0.0001, kernel=poly; total time= 1.0min\n",
      "[CV] END ......................C=100, gamma=0.1, kernel=poly; total time= 1.3min\n",
      "[CV] END ...................C=0.1, gamma=0.1, kernel=sigmoid; total time= 1.4min\n",
      "[CV] END ..........................C=1, gamma=1, kernel=poly; total time= 1.3min\n",
      "[CV] END .........................C=10, gamma=1, kernel=poly; total time= 1.1min\n",
      "[CV] END ...................C=0.1, gamma=0.0001, kernel=poly; total time= 1.2min\n",
      "[CV] END ....................C=100, gamma=0.001, kernel=poly; total time= 1.3min\n",
      "[CV] END .....................C=1, gamma=0.0001, kernel=poly; total time= 1.0min\n",
      "[CV] END ......................C=100, gamma=0.1, kernel=poly; total time= 1.3min\n",
      "[CV] END ........................C=10, gamma=0.1, kernel=rbf; total time= 1.6min\n",
      "[CV] END .........................C=10, gamma=1, kernel=poly; total time= 1.2min\n",
      "[CV] END .....................C=100, gamma=0.001, kernel=rbf; total time= 1.6min\n",
      "[CV] END .....................C=1000, gamma=0.1, kernel=poly; total time= 1.1min\n",
      "[CV] END .....................C=0.1, gamma=0.001, kernel=rbf; total time= 1.9min\n",
      "[CV] END .....................C=0.1, gamma=0.01, kernel=poly; total time= 1.2min\n",
      "[CV] END ....................C=1000, gamma=1, kernel=sigmoid; total time=  44.9s\n",
      "[CV] END .....................C=100, gamma=0.001, kernel=rbf; total time= 1.6min\n",
      "[CV] END .........................C=0.1, gamma=1, kernel=rbf; total time= 1.3min\n",
      "[CV] END .......................C=1, gamma=0.01, kernel=poly; total time= 1.2min\n",
      "[CV] END ..........................C=1, gamma=1, kernel=poly; total time= 1.3min\n",
      "[CV] END .........................C=10, gamma=1, kernel=poly; total time= 1.2min\n",
      "[CV] END .....................C=100, gamma=0.001, kernel=rbf; total time= 1.7min\n",
      "[CV] END .......................C=1000, gamma=1, kernel=poly; total time= 5.4min\n",
      "[CV] END ..........................C=1, gamma=1, kernel=poly; total time= 1.4min\n",
      "[CV] END ..................C=100, gamma=0.01, kernel=sigmoid; total time= 1.4min\n",
      "[CV] END .......................C=0.1, gamma=0.1, kernel=rbf; total time= 1.6min\n",
      "[CV] END .........................C=0.1, gamma=1, kernel=rbf; total time= 1.5min\n",
      "[CV] END .................C=100, gamma=0.001, kernel=sigmoid; total time= 1.5min\n",
      "[CV] END .....................C=0.1, gamma=0.01, kernel=poly; total time= 1.3min\n",
      "[CV] END ....................C=1000, gamma=1, kernel=sigmoid; total time= 1.1min\n",
      "[CV] END .......................C=1, gamma=1, kernel=sigmoid; total time= 1.2min\n",
      "[CV] END ....................C=100, gamma=0.001, kernel=poly; total time= 1.3min\n",
      "[CV] END ....................C=0.1, gamma=0.001, kernel=poly; total time=  45.3s\n",
      "[CV] END .......................C=10, gamma=0.1, kernel=poly; total time= 1.3min\n",
      "[CV] END .......................C=1, gamma=0.01, kernel=poly; total time= 1.6min\n",
      "[CV] END .....................C=10, gamma=0.001, kernel=poly; total time= 1.5min\n",
      "[CV] END .........................C=10, gamma=1, kernel=poly; total time= 1.2min\n",
      "[CV] END .....................C=100, gamma=0.001, kernel=rbf; total time= 1.8min\n",
      "[CV] END ....................C=1000, gamma=0.001, kernel=rbf; total time= 1.5min\n",
      "[CV] END ........................C=10, gamma=0.1, kernel=rbf; total time= 1.7min\n",
      "[CV] END ...................C=100, gamma=0.1, kernel=sigmoid; total time= 1.3min\n",
      "[CV] END .......................C=1, gamma=1, kernel=sigmoid; total time= 1.2min\n",
      "[CV] END ....................C=100, gamma=0.001, kernel=poly; total time= 1.4min\n",
      "[CV] END ....................C=10, gamma=0.1, kernel=sigmoid; total time= 1.1min\n",
      "[CV] END ......................C=100, gamma=0.1, kernel=poly; total time= 1.4min\n",
      "[CV] END ........................C=10, gamma=0.1, kernel=rbf; total time= 1.7min\n",
      "[CV] END ..................C=100, gamma=0.01, kernel=sigmoid; total time= 1.3min\n",
      "[CV] END .......................C=0.1, gamma=0.1, kernel=rbf; total time= 1.6min\n",
      "[CV] END ....................C=10, gamma=0.1, kernel=sigmoid; total time= 1.1min\n",
      "[CV] END ......................C=100, gamma=0.1, kernel=poly; total time= 1.4min\n",
      "[CV] END ...................C=0.1, gamma=0.1, kernel=sigmoid; total time= 1.3min\n",
      "[CV] END .................C=10, gamma=0.0001, kernel=sigmoid; total time= 1.4min\n",
      "[CV] END ..................C=100, gamma=0.01, kernel=sigmoid; total time= 1.3min\n",
      "[CV] END .......................C=1, gamma=1, kernel=sigmoid; total time= 1.3min\n",
      "[CV] END ..................C=1000, gamma=0.0001, kernel=poly; total time= 1.3min\n",
      "[CV] END ....................C=0.1, gamma=0.0001, kernel=rbf; total time= 1.6min\n",
      "[CV] END .....................C=1000, gamma=0.01, kernel=rbf; total time= 1.8min\n",
      "[CV] END ........................C=1, gamma=0.1, kernel=poly; total time= 1.2min\n",
      "[CV] END ...................C=10, gamma=0.01, kernel=sigmoid; total time= 1.2min\n",
      "[CV] END ..................C=1000, gamma=0.0001, kernel=poly; total time= 1.3min\n",
      "[CV] END ......................C=0.1, gamma=0.1, kernel=poly; total time=  36.1s\n",
      "[CV] END .....................C=1000, gamma=0.1, kernel=poly; total time= 1.3min\n",
      "[CV] END .....................C=0.1, gamma=0.001, kernel=rbf; total time= 1.9min\n",
      "[CV] END .....................C=100, gamma=1, kernel=sigmoid; total time=  51.9s\n",
      "[CV] END ....................C=1000, gamma=1, kernel=sigmoid; total time= 1.1min\n",
      "[CV] END ..................C=0.1, gamma=0.01, kernel=sigmoid; total time= 1.1min\n",
      "[CV] END ..................C=1000, gamma=0.0001, kernel=poly; total time= 1.3min\n",
      "[CV] END ....................C=10, gamma=0.1, kernel=sigmoid; total time=  58.3s\n",
      "[CV] END .....................C=10, gamma=0.0001, kernel=rbf; total time= 1.8min\n",
      "[CV] END .................C=10, gamma=0.0001, kernel=sigmoid; total time= 1.4min\n",
      "[CV] END ...................C=100, gamma=0.1, kernel=sigmoid; total time= 1.5min\n",
      "[CV] END ...................C=10, gamma=0.01, kernel=sigmoid; total time= 1.2min\n",
      "[CV] END ..................C=1000, gamma=0.0001, kernel=poly; total time= 1.3min\n",
      "[CV] END .....................C=1, gamma=0.0001, kernel=poly; total time= 1.0min\n",
      "[CV] END .........................C=1, gamma=0.1, kernel=rbf; total time= 1.9min\n",
      "[CV] END ..........................C=10, gamma=1, kernel=rbf; total time= 1.7min\n",
      "[CV] END ...................C=10, gamma=0.01, kernel=sigmoid; total time= 1.1min\n",
      "[CV] END ........................C=100, gamma=1, kernel=poly; total time= 1.6min\n"
     ]
    },
    {
     "name": "stdout",
     "output_type": "stream",
     "text": [
      "[CV] END ......................C=1000, gamma=0.1, kernel=rbf; total time= 2.2min\n",
      "[CV] END .................C=100, gamma=0.001, kernel=sigmoid; total time= 1.4min\n",
      "[CV] END ..........................C=10, gamma=1, kernel=rbf; total time= 1.7min\n",
      "[CV] END ..................C=0.1, gamma=0.01, kernel=sigmoid; total time= 1.1min\n",
      "[CV] END ..................C=1000, gamma=0.0001, kernel=poly; total time= 1.4min\n",
      "[CV] END ....................C=1000, gamma=0.001, kernel=rbf; total time= 1.6min\n",
      "[CV] END .................C=100, gamma=0.001, kernel=sigmoid; total time= 1.4min\n",
      "[CV] END ..........................C=10, gamma=1, kernel=rbf; total time= 1.6min\n",
      "[CV] END .......................C=0.1, gamma=0.1, kernel=rbf; total time= 1.8min\n",
      "[CV] END ....................C=1000, gamma=0.001, kernel=rbf; total time= 1.6min\n",
      "[CV] END ...................C=0.1, gamma=0.1, kernel=sigmoid; total time= 1.4min\n",
      "[CV] END .................C=10, gamma=0.0001, kernel=sigmoid; total time= 1.2min\n",
      "[CV] END ..................C=100, gamma=0.01, kernel=sigmoid; total time= 1.2min\n",
      "[CV] END .......................C=0.1, gamma=0.1, kernel=rbf; total time= 1.8min\n",
      "[CV] END .......................C=1000, gamma=1, kernel=poly; total time= 4.4min\n",
      "[CV] END .....................C=10, gamma=0.001, kernel=poly; total time= 1.2min\n",
      "[CV] END .....................C=0.1, gamma=0.01, kernel=poly; total time= 1.1min\n",
      "[CV] END ....................C=1000, gamma=1, kernel=sigmoid; total time=  48.6s\n",
      "[CV] END .......................C=0.1, gamma=0.1, kernel=rbf; total time= 1.8min\n",
      "[CV] END .........................C=0.1, gamma=1, kernel=rbf; total time= 1.5min\n",
      "[CV] END .....................C=1000, gamma=0.01, kernel=rbf; total time= 1.9min\n",
      "[CV] END ...................C=100, gamma=0.1, kernel=sigmoid; total time= 1.3min\n",
      "[CV] END .......................C=1, gamma=1, kernel=sigmoid; total time= 1.2min\n",
      "[CV] END ........................C=100, gamma=1, kernel=poly; total time= 1.9min\n",
      "[CV] END .........................C=0.1, gamma=1, kernel=rbf; total time= 1.4min\n",
      "[CV] END .......................C=1, gamma=0.01, kernel=poly; total time= 1.2min\n",
      "[CV] END ..........................C=1, gamma=1, kernel=poly; total time= 1.1min\n",
      "[CV] END .....................C=100, gamma=1, kernel=sigmoid; total time=  47.0s\n",
      "[CV] END ....................C=1000, gamma=1, kernel=sigmoid; total time=  41.3s\n",
      "[CV] END .....................C=100, gamma=0.001, kernel=rbf; total time= 1.9min\n",
      "[CV] END .....................C=1000, gamma=0.1, kernel=poly; total time= 1.1min\n",
      "[CV] END .........................C=1, gamma=0.1, kernel=rbf; total time= 1.9min\n",
      "[CV] END ..........................C=10, gamma=1, kernel=rbf; total time= 1.7min\n",
      "[CV] END .......................C=1, gamma=1, kernel=sigmoid; total time= 1.2min\n",
      "[CV] END ........................C=100, gamma=1, kernel=poly; total time= 1.9min\n",
      "[CV] END .....................C=1000, gamma=0.1, kernel=poly; total time= 1.1min\n",
      "[CV] END .........................C=1, gamma=0.1, kernel=rbf; total time= 1.9min\n",
      "[CV] END .....................C=0.1, gamma=0.01, kernel=poly; total time= 1.2min\n",
      "[CV] END ........................C=1, gamma=0.1, kernel=poly; total time= 1.3min\n",
      "[CV] END ...................C=1000, gamma=0.0001, kernel=rbf; total time= 1.6min\n",
      "[CV] END ....................C=1000, gamma=0.001, kernel=rbf; total time= 1.6min\n",
      "[CV] END .................C=100, gamma=0.001, kernel=sigmoid; total time= 1.4min\n",
      "[CV] END ..........................C=10, gamma=1, kernel=rbf; total time= 1.6min\n",
      "[CV] END ...................C=10, gamma=0.01, kernel=sigmoid; total time= 1.2min\n",
      "[CV] END ........................C=100, gamma=1, kernel=poly; total time= 1.7min\n",
      "[CV] END ....................C=0.1, gamma=0.0001, kernel=rbf; total time= 1.6min\n",
      "[CV] END .....................C=1000, gamma=0.01, kernel=rbf; total time= 1.8min\n",
      "[CV] END ..................C=100, gamma=0.01, kernel=sigmoid; total time= 1.4min\n",
      "[CV] END ..................C=0.1, gamma=0.01, kernel=sigmoid; total time= 1.1min\n",
      "[CV] END ........................C=100, gamma=1, kernel=poly; total time= 1.7min\n",
      "[CV] END ....................C=0.1, gamma=0.001, kernel=poly; total time=  50.8s\n",
      "[CV] END .....................C=10, gamma=0.0001, kernel=rbf; total time= 2.0min\n",
      "[CV] END .........................C=100, gamma=1, kernel=rbf; total time= 2.5min\n",
      "[CV] END ...................C=1000, gamma=0.0001, kernel=rbf; total time= 1.7min\n",
      "[CV] END ....................C=1000, gamma=0.001, kernel=rbf; total time= 1.7min\n",
      "[CV] END .....................C=1000, gamma=0.01, kernel=rbf; total time= 1.9min\n",
      "[CV] END ........................C=1, gamma=0.1, kernel=poly; total time= 1.5min\n",
      "[CV] END ......................C=0.1, gamma=0.01, kernel=rbf; total time= 1.6min\n",
      "[CV] END ....................C=10, gamma=0.1, kernel=sigmoid; total time= 1.0min\n",
      "[CV] END .....................C=10, gamma=0.0001, kernel=rbf; total time= 1.9min\n",
      "[CV] END .........................C=100, gamma=1, kernel=rbf; total time= 2.7min\n",
      "[CV] END ...................C=1000, gamma=0.0001, kernel=rbf; total time= 1.8min\n",
      "[CV] END ......................C=1000, gamma=0.1, kernel=rbf; total time= 2.4min\n",
      "[CV] END ......................C=10, gamma=0.001, kernel=rbf; total time= 2.0min\n",
      "[CV] END ......................C=1, gamma=0.001, kernel=poly; total time= 1.0min\n",
      "[CV] END ......................C=0.1, gamma=0.01, kernel=rbf; total time= 1.6min\n",
      "[CV] END ......................C=1000, gamma=0.1, kernel=rbf; total time= 2.2min\n",
      "[CV] END .................C=100, gamma=0.001, kernel=sigmoid; total time= 1.4min\n",
      "[CV] END .....................C=0.1, gamma=0.01, kernel=poly; total time= 1.2min\n",
      "[CV] END ........................C=1, gamma=0.1, kernel=poly; total time= 1.3min\n",
      "[CV] END ...................C=1000, gamma=0.0001, kernel=rbf; total time= 1.8min\n",
      "[CV] END .......................C=1000, gamma=1, kernel=poly; total time= 4.2min\n",
      "[CV] END ......................C=10, gamma=0.001, kernel=rbf; total time= 1.9min\n",
      "[CV] END ...................C=0.1, gamma=0.0001, kernel=poly; total time= 1.2min\n",
      "[CV] END .......................C=10, gamma=0.01, kernel=rbf; total time= 1.7min\n",
      "[CV] END ....................C=0.1, gamma=0.0001, kernel=rbf; total time= 1.6min\n",
      "[CV] END ......................C=10, gamma=0.001, kernel=rbf; total time= 1.9min\n",
      "[CV] END ...............C=1000, gamma=0.0001, kernel=sigmoid; total time= 1.1min\n",
      "[CV] END .......................C=10, gamma=0.01, kernel=rbf; total time= 1.7min\n",
      "[CV] END .........................C=0.1, gamma=1, kernel=rbf; total time= 1.4min\n",
      "[CV] END ...................C=0.1, gamma=0.1, kernel=sigmoid; total time= 1.5min\n",
      "[CV] END .........................C=100, gamma=1, kernel=rbf; total time= 2.7min\n",
      "[CV] END .......................C=10, gamma=0.01, kernel=rbf; total time= 1.8min\n",
      "[CV] END ....................C=0.1, gamma=0.001, kernel=poly; total time=  53.5s\n",
      "[CV] END .....................C=10, gamma=0.0001, kernel=rbf; total time= 1.9min\n",
      "[CV] END ..........................C=1, gamma=1, kernel=poly; total time= 1.3min\n",
      "[CV] END .....................C=100, gamma=1, kernel=sigmoid; total time=  50.2s\n",
      "[CV] END ......................C=1, gamma=0.001, kernel=poly; total time= 1.2min\n",
      "[CV] END .......................C=10, gamma=0.01, kernel=rbf; total time= 1.8min\n",
      "[CV] END .....................C=1, gamma=0.0001, kernel=poly; total time= 1.1min\n",
      "[CV] END .........................C=1, gamma=0.1, kernel=rbf; total time= 1.7min\n",
      "[CV] END .........................C=100, gamma=1, kernel=rbf; total time= 2.7min\n",
      "[CV] END .......................C=10, gamma=0.01, kernel=rbf; total time= 1.7min\n",
      "[CV] END ....................C=10, gamma=0.1, kernel=sigmoid; total time= 1.1min\n",
      "[CV] END ......................C=100, gamma=0.1, kernel=poly; total time= 1.4min\n",
      "[CV] END ...................C=0.1, gamma=0.1, kernel=sigmoid; total time= 1.4min\n",
      "[CV] END .................C=10, gamma=0.0001, kernel=sigmoid; total time= 1.4min\n",
      "[CV] END ...................C=100, gamma=0.1, kernel=sigmoid; total time= 1.6min\n",
      "[CV] END ...................C=1000, gamma=0.0001, kernel=rbf; total time= 2.0min\n",
      "[CV] END ......................C=0.1, gamma=0.1, kernel=poly; total time=  37.1s\n",
      "[CV] END .......................C=10, gamma=0.1, kernel=poly; total time= 1.3min\n",
      "[CV] END .....................C=0.1, gamma=0.001, kernel=rbf; total time= 1.7min\n",
      "[CV] END ...................C=100, gamma=0.0001, kernel=poly; total time= 1.1min\n",
      "[CV] END ......................C=1, gamma=0.001, kernel=poly; total time= 1.1min\n",
      "[CV] END ......................C=0.1, gamma=0.01, kernel=rbf; total time= 1.9min\n"
     ]
    },
    {
     "name": "stdout",
     "output_type": "stream",
     "text": [
      "[CV] END ......................C=1000, gamma=0.1, kernel=rbf; total time= 2.2min\n",
      "[CV] END ........................C=10, gamma=0.1, kernel=rbf; total time= 1.7min\n",
      "[CV] END .....................C=100, gamma=1, kernel=sigmoid; total time=  48.5s\n",
      "[CV] END ......................C=1, gamma=0.001, kernel=poly; total time= 1.1min\n",
      "[CV] END ......................C=0.1, gamma=0.01, kernel=rbf; total time= 1.9min\n",
      "[CV] END ....................C=0.1, gamma=0.001, kernel=poly; total time=  47.1s\n",
      "[CV] END .......................C=10, gamma=0.1, kernel=poly; total time= 1.3min\n",
      "[CV] END .......................C=1, gamma=0.01, kernel=poly; total time= 1.2min\n",
      "[CV] END .....................C=10, gamma=0.001, kernel=poly; total time= 1.2min\n",
      "[CV] END ...................C=100, gamma=0.0001, kernel=poly; total time= 1.1min\n",
      "[CV] END ......................C=1, gamma=0.001, kernel=poly; total time= 1.2min\n",
      "[CV] END ......................C=0.1, gamma=0.01, kernel=rbf; total time= 2.0min\n",
      "[CV] END ......................C=1000, gamma=0.1, kernel=rbf; total time= 2.3min\n",
      "[CV] END .....................C=1000, gamma=0.01, kernel=rbf; total time= 1.9min\n",
      "[CV] END ........................C=1, gamma=0.1, kernel=poly; total time= 1.2min\n",
      "[CV] END ..................C=0.1, gamma=0.01, kernel=sigmoid; total time= 1.2min\n",
      "[CV] END ...........................C=1, gamma=1, kernel=rbf; total time= 1.8min\n",
      "[CV] END ....................C=0.1, gamma=0.001, kernel=poly; total time=  51.2s\n",
      "[CV] END .....................C=10, gamma=0.0001, kernel=rbf; total time= 2.0min\n",
      "[CV] END .................C=10, gamma=0.0001, kernel=sigmoid; total time= 1.4min\n",
      "[CV] END ...................C=100, gamma=0.1, kernel=sigmoid; total time= 1.3min\n",
      "[CV] END ...................C=10, gamma=0.01, kernel=sigmoid; total time= 1.3min\n",
      "[CV] END ...........................C=1, gamma=1, kernel=rbf; total time= 1.8min\n",
      "[CV] END .....................C=1, gamma=0.0001, kernel=poly; total time= 1.0min\n",
      "[CV] END .........................C=1, gamma=0.1, kernel=rbf; total time= 1.9min\n",
      "[CV] END .........................C=100, gamma=1, kernel=rbf; total time= 2.3min\n",
      "[CV] END ..................C=0.1, gamma=0.01, kernel=sigmoid; total time= 1.4min\n",
      "[CV] END ...........................C=1, gamma=1, kernel=rbf; total time= 1.7min\n",
      "[CV] END ......................C=0.1, gamma=0.1, kernel=poly; total time=  28.6s\n",
      "[CV] END .....................C=1000, gamma=0.1, kernel=poly; total time= 1.2min\n",
      "[CV] END .....................C=0.1, gamma=0.001, kernel=rbf; total time= 1.9min\n",
      "[CV] END ...................C=100, gamma=0.0001, kernel=poly; total time= 1.2min\n",
      "[CV] END ...............C=1000, gamma=0.0001, kernel=sigmoid; total time= 1.3min\n",
      "[CV] END .................C=1000, gamma=0.01, kernel=sigmoid; total time= 1.2min\n",
      "[CV] END ...........................C=1, gamma=1, kernel=rbf; total time= 1.5min\n",
      "[CV] END ....................C=0.1, gamma=0.0001, kernel=rbf; total time= 1.6min\n",
      "[CV] END ......................C=10, gamma=0.001, kernel=rbf; total time= 2.0min\n",
      "[CV] END ...............C=1000, gamma=0.0001, kernel=sigmoid; total time= 1.4min\n",
      "[CV] END .................C=1000, gamma=0.01, kernel=sigmoid; total time= 1.3min\n",
      "[CV] END ...........................C=1, gamma=1, kernel=rbf; total time= 1.5min\n"
     ]
    }
   ],
   "source": [
    "\n",
    "svm_clf1=SVC(random_state=0)\n",
    "\n",
    "rf_random = RandomizedSearchCV(estimator=svm_clf1, param_distributions=random_grid,\n",
    "                              n_iter = 50, \n",
    "                              cv = 5, verbose=2, random_state=42, n_jobs=-1,\n",
    "                              return_train_score=True)\n",
    "\n",
    "\n",
    "# Fit the random search model\n",
    "rf_random.fit(train_vectors,y_train)"
   ]
  },
  {
   "cell_type": "code",
   "execution_count": 42,
   "id": "f5bb3572",
   "metadata": {},
   "outputs": [
    {
     "data": {
      "text/plain": [
       "{'kernel': 'rbf', 'gamma': 1, 'C': 10}"
      ]
     },
     "execution_count": 42,
     "metadata": {},
     "output_type": "execute_result"
    }
   ],
   "source": [
    "rf_random.best_params_"
   ]
  },
  {
   "cell_type": "markdown",
   "id": "cee6d42b",
   "metadata": {},
   "source": [
    "### Train SVM model  using Best Parameters after hyperparameter tuning\n",
    "\n",
    "**Initialise the model and  fit it using train data and measure the accuracy metrics**"
   ]
  },
  {
   "cell_type": "code",
   "execution_count": 30,
   "id": "b7f05913",
   "metadata": {},
   "outputs": [
    {
     "name": "stdout",
     "output_type": "stream",
     "text": [
      "SVM - Completed\n"
     ]
    }
   ],
   "source": [
    "svm_clf_tuned=SVC(random_state=0,kernel='rbf',gamma=1,C=10,probability=True)\n",
    "\n",
    "svm_clf_tuned.fit(train_vectors, y_train.values.ravel())\n",
    "\n",
    "# save the model to disk\n",
    "filename = 'outputs//fakenewsnet_ml_word2vec//fakenewsnet_ml_SVM_w2v.sav'\n",
    "pickle.dump(svm_clf_tuned, open(filename, 'wb'))\n",
    "print('SVM - Completed')"
   ]
  },
  {
   "cell_type": "code",
   "execution_count": 31,
   "id": "d7afd574",
   "metadata": {},
   "outputs": [
    {
     "name": "stdout",
     "output_type": "stream",
     "text": [
      "Accuracy score : 0.8493218249075216\n",
      "Confusion matrix : \n",
      " [[2950   98]\n",
      " [ 513  494]]\n",
      "Classification Report\n",
      "              precision    recall  f1-score   support\n",
      "\n",
      "           0       0.85      0.97      0.91      3048\n",
      "           1       0.83      0.49      0.62      1007\n",
      "\n",
      "    accuracy                           0.85      4055\n",
      "   macro avg       0.84      0.73      0.76      4055\n",
      "weighted avg       0.85      0.85      0.83      4055\n",
      "\n",
      "Precision : 0.8344594594594594\n",
      "Recall : 0.49056603773584906\n",
      "F1 Score : 0.6178861788617885\n"
     ]
    }
   ],
   "source": [
    "#Loading the model\n",
    "filename = 'outputs//fakenewsnet_ml_word2vec//fakenewsnet_ml_SVM_w2v.sav'\n",
    "\n",
    "svm_clf_tuned = pickle.load(open(filename, 'rb'))\n",
    "\n",
    "pred = svm_clf_tuned.predict(test_vectors)\n",
    "print(\"Accuracy score : {}\".format(accuracy_score(y_test, pred)))\n",
    "print(\"Confusion matrix : \\n {}\".format(confusion_matrix(y_test, pred)))\n",
    "print(\"Classification Report\")\n",
    "print(classification_report(y_test, pred))\n",
    "precision = precision_score(y_test, pred)\n",
    "print(\"Precision : {}\".format(precision))\n",
    "recall = recall_score(y_test, pred)\n",
    "print(\"Recall : {}\".format(recall))\n",
    "f1score = f1_score(y_test, pred)\n",
    "print(\"F1 Score : {}\".format(f1score))\n"
   ]
  },
  {
   "cell_type": "markdown",
   "id": "6275b266",
   "metadata": {},
   "source": [
    "**Save the classification report to csv**"
   ]
  },
  {
   "cell_type": "code",
   "execution_count": 32,
   "id": "534aa317",
   "metadata": {},
   "outputs": [
    {
     "data": {
      "text/html": [
       "<div>\n",
       "<style scoped>\n",
       "    .dataframe tbody tr th:only-of-type {\n",
       "        vertical-align: middle;\n",
       "    }\n",
       "\n",
       "    .dataframe tbody tr th {\n",
       "        vertical-align: top;\n",
       "    }\n",
       "\n",
       "    .dataframe thead th {\n",
       "        text-align: right;\n",
       "    }\n",
       "</style>\n",
       "<table border=\"1\" class=\"dataframe\">\n",
       "  <thead>\n",
       "    <tr style=\"text-align: right;\">\n",
       "      <th></th>\n",
       "      <th>precision</th>\n",
       "      <th>recall</th>\n",
       "      <th>f1-score</th>\n",
       "      <th>support</th>\n",
       "    </tr>\n",
       "  </thead>\n",
       "  <tbody>\n",
       "    <tr>\n",
       "      <th>0</th>\n",
       "      <td>0.851863</td>\n",
       "      <td>0.967848</td>\n",
       "      <td>0.906159</td>\n",
       "      <td>3048.000000</td>\n",
       "    </tr>\n",
       "    <tr>\n",
       "      <th>1</th>\n",
       "      <td>0.834459</td>\n",
       "      <td>0.490566</td>\n",
       "      <td>0.617886</td>\n",
       "      <td>1007.000000</td>\n",
       "    </tr>\n",
       "    <tr>\n",
       "      <th>accuracy</th>\n",
       "      <td>0.849322</td>\n",
       "      <td>0.849322</td>\n",
       "      <td>0.849322</td>\n",
       "      <td>0.849322</td>\n",
       "    </tr>\n",
       "    <tr>\n",
       "      <th>macro avg</th>\n",
       "      <td>0.843161</td>\n",
       "      <td>0.729207</td>\n",
       "      <td>0.762022</td>\n",
       "      <td>4055.000000</td>\n",
       "    </tr>\n",
       "    <tr>\n",
       "      <th>weighted avg</th>\n",
       "      <td>0.847541</td>\n",
       "      <td>0.849322</td>\n",
       "      <td>0.834571</td>\n",
       "      <td>4055.000000</td>\n",
       "    </tr>\n",
       "  </tbody>\n",
       "</table>\n",
       "</div>"
      ],
      "text/plain": [
       "              precision    recall  f1-score      support\n",
       "0              0.851863  0.967848  0.906159  3048.000000\n",
       "1              0.834459  0.490566  0.617886  1007.000000\n",
       "accuracy       0.849322  0.849322  0.849322     0.849322\n",
       "macro avg      0.843161  0.729207  0.762022  4055.000000\n",
       "weighted avg   0.847541  0.849322  0.834571  4055.000000"
      ]
     },
     "execution_count": 32,
     "metadata": {},
     "output_type": "execute_result"
    }
   ],
   "source": [
    "report=classification_report(y_test, pred, output_dict=True)\n",
    "df = pd.DataFrame(report).transpose()\n",
    "df.to_csv(\"outputs//fakenewsnet_ml_word2vec//model_FAKENEWSNET_SVM_WORD2VEC_clasifctnrpt.csv\")\n",
    "df.head()"
   ]
  },
  {
   "cell_type": "markdown",
   "id": "0a770b45",
   "metadata": {},
   "source": [
    "**Plot confusion matrix using the user defined functions as mentioned above earlier**"
   ]
  },
  {
   "cell_type": "code",
   "execution_count": 33,
   "id": "efc84a37",
   "metadata": {},
   "outputs": [
    {
     "data": {
      "image/png": "[encoded data removed]",
      "text/plain": [
       "<Figure size 360x300 with 2 Axes>"
      ]
     },
     "metadata": {},
     "output_type": "display_data"
    },
    {
     "data": {
      "image/png": "[encoded data removed]",
      "text/plain": [
       "<Figure size 360x300 with 2 Axes>"
      ]
     },
     "metadata": {},
     "output_type": "display_data"
    }
   ],
   "source": [
    "cm=confusion_matrix(y_test, pred)\n",
    "path1=\"outputs//fakenewsnet_ml_word2vec//fakenewsnet_ml_SVM_word2vec_cmtrx.png\"\n",
    "path2=\"outputs//fakenewsnet_ml_word2vec//fakenewsnet_ml_SVM_word2vec_ncmtrx.png\"\n",
    "confusn_mtrx_plot(cm,path1)\n",
    "norm_confusn_mtrx_plot(cm,path2)"
   ]
  },
  {
   "cell_type": "markdown",
   "id": "12664f9b",
   "metadata": {},
   "source": [
    "## KNN"
   ]
  },
  {
   "cell_type": "markdown",
   "id": "45dff46f",
   "metadata": {},
   "source": [
    "**Initialise the model and  fit it using train data and measure the accuracy metrics**"
   ]
  },
  {
   "cell_type": "code",
   "execution_count": 34,
   "id": "33653bfc",
   "metadata": {},
   "outputs": [],
   "source": [
    "#Create KNN Object.\n",
    "knn_clf = KNeighborsClassifier()"
   ]
  },
  {
   "cell_type": "code",
   "execution_count": 35,
   "id": "8ab8f50c",
   "metadata": {},
   "outputs": [
    {
     "name": "stdout",
     "output_type": "stream",
     "text": [
      "Accuracy score : 0.7916152897657214\n",
      "Confusion matrix : \n",
      " [[2724  324]\n",
      " [ 521  486]]\n",
      "Classification Report\n",
      "              precision    recall  f1-score   support\n",
      "\n",
      "           0       0.84      0.89      0.87      3048\n",
      "           1       0.60      0.48      0.53      1007\n",
      "\n",
      "    accuracy                           0.79      4055\n",
      "   macro avg       0.72      0.69      0.70      4055\n",
      "weighted avg       0.78      0.79      0.78      4055\n",
      "\n"
     ]
    }
   ],
   "source": [
    "knn_clf.fit(train_vectors,y_train)\n",
    "\n",
    "pred = knn_clf.predict(test_vectors)\n",
    "print(\"Accuracy score : {}\".format(accuracy_score(y_test, pred)))\n",
    "print(\"Confusion matrix : \\n {}\".format(confusion_matrix(y_test, pred)))\n",
    "print(\"Classification Report\")\n",
    "print(classification_report(y_test, pred))"
   ]
  },
  {
   "cell_type": "markdown",
   "id": "ede806e4",
   "metadata": {},
   "source": [
    "### Hyperparameter Tuning for KNN\n",
    "\n",
    "Define the list of parameters which needed to do hyperparameter tuning"
   ]
  },
  {
   "cell_type": "code",
   "execution_count": 47,
   "id": "c84c79ff",
   "metadata": {
    "collapsed": true
   },
   "outputs": [
    {
     "name": "stdout",
     "output_type": "stream",
     "text": [
      "{'leaf_size': [1,\n",
      "               2,\n",
      "               3,\n",
      "               4,\n",
      "               5,\n",
      "               6,\n",
      "               7,\n",
      "               8,\n",
      "               9,\n",
      "               10,\n",
      "               11,\n",
      "               12,\n",
      "               13,\n",
      "               14,\n",
      "               15,\n",
      "               16,\n",
      "               17,\n",
      "               18,\n",
      "               19,\n",
      "               20,\n",
      "               21,\n",
      "               22,\n",
      "               23,\n",
      "               24,\n",
      "               25,\n",
      "               26,\n",
      "               27,\n",
      "               28,\n",
      "               29,\n",
      "               30,\n",
      "               31,\n",
      "               32,\n",
      "               33,\n",
      "               34,\n",
      "               35,\n",
      "               36,\n",
      "               37,\n",
      "               38,\n",
      "               39,\n",
      "               40,\n",
      "               41,\n",
      "               42,\n",
      "               43,\n",
      "               44,\n",
      "               45,\n",
      "               46,\n",
      "               47,\n",
      "               48,\n",
      "               49],\n",
      " 'n_neighbors': [1,\n",
      "                 2,\n",
      "                 3,\n",
      "                 4,\n",
      "                 5,\n",
      "                 6,\n",
      "                 7,\n",
      "                 8,\n",
      "                 9,\n",
      "                 10,\n",
      "                 11,\n",
      "                 12,\n",
      "                 13,\n",
      "                 14,\n",
      "                 15,\n",
      "                 16,\n",
      "                 17,\n",
      "                 18,\n",
      "                 19,\n",
      "                 20,\n",
      "                 21,\n",
      "                 22,\n",
      "                 23,\n",
      "                 24,\n",
      "                 25,\n",
      "                 26,\n",
      "                 27,\n",
      "                 28,\n",
      "                 29],\n",
      " 'p': [1, 2]}\n"
     ]
    }
   ],
   "source": [
    "# Create the random grid\n",
    "random_grid = {\n",
    "    'leaf_size': list(range(1,50)),\n",
    "               'n_neighbors': list(range(1,30)),\n",
    "               'p':  [1,2],\n",
    "              }\n",
    "pprint(random_grid)"
   ]
  },
  {
   "cell_type": "markdown",
   "id": "a8218ebe",
   "metadata": {},
   "source": [
    "**Initialise the model and fit using train data with hyperparameter tuning**"
   ]
  },
  {
   "cell_type": "code",
   "execution_count": 48,
   "id": "f734f68c",
   "metadata": {},
   "outputs": [
    {
     "name": "stdout",
     "output_type": "stream",
     "text": [
      "Fitting 3 folds for each of 100 candidates, totalling 300 fits\n"
     ]
    },
    {
     "data": {
      "text/plain": [
       "RandomizedSearchCV(cv=3, estimator=KNeighborsClassifier(), n_iter=100,\n",
       "                   n_jobs=-1,\n",
       "                   param_distributions={'leaf_size': [1, 2, 3, 4, 5, 6, 7, 8, 9,\n",
       "                                                      10, 11, 12, 13, 14, 15,\n",
       "                                                      16, 17, 18, 19, 20, 21,\n",
       "                                                      22, 23, 24, 25, 26, 27,\n",
       "                                                      28, 29, 30, ...],\n",
       "                                        'n_neighbors': [1, 2, 3, 4, 5, 6, 7, 8,\n",
       "                                                        9, 10, 11, 12, 13, 14,\n",
       "                                                        15, 16, 17, 18, 19, 20,\n",
       "                                                        21, 22, 23, 24, 25, 26,\n",
       "                                                        27, 28, 29],\n",
       "                                        'p': [1, 2]},\n",
       "                   random_state=42, return_train_score=True, verbose=2)"
      ]
     },
     "execution_count": 48,
     "metadata": {},
     "output_type": "execute_result"
    }
   ],
   "source": [
    "\n",
    "knn_clf1=KNeighborsClassifier()\n",
    "\n",
    "rf_random = RandomizedSearchCV(estimator=knn_clf1, param_distributions=random_grid,\n",
    "                              n_iter = 100, \n",
    "                              cv = 3, verbose=2, random_state=42, n_jobs=-1,\n",
    "                              return_train_score=True)\n",
    "\n",
    "\n",
    "# Fit the random search model\n",
    "rf_random.fit(train_vectors,y_train)"
   ]
  },
  {
   "cell_type": "code",
   "execution_count": 49,
   "id": "46b1a292",
   "metadata": {},
   "outputs": [
    {
     "data": {
      "text/plain": [
       "{'p': 1, 'n_neighbors': 28, 'leaf_size': 7}"
      ]
     },
     "execution_count": 49,
     "metadata": {},
     "output_type": "execute_result"
    }
   ],
   "source": [
    "rf_random.best_params_"
   ]
  },
  {
   "cell_type": "markdown",
   "id": "346c3a3d",
   "metadata": {},
   "source": [
    "### Train KNN model  using Best Parameters after hyperparameter tuning\n",
    "\n",
    "**Initialise the model and  fit it using train data and measure the accuracy metrics**"
   ]
  },
  {
   "cell_type": "code",
   "execution_count": 36,
   "id": "71335898",
   "metadata": {},
   "outputs": [
    {
     "name": "stdout",
     "output_type": "stream",
     "text": [
      "KNN - Completed\n"
     ]
    }
   ],
   "source": [
    "knn_clf_tuned=KNeighborsClassifier(n_neighbors=28,leaf_size=7,p=1)\n",
    "knn_clf_tuned.fit(train_vectors,y_train)\n",
    "\n",
    "# save the model to disk\n",
    "filename = 'outputs//fakenewsnet_ml_word2vec//fakenewsnet_ml_KNN_w2v.sav'\n",
    "pickle.dump(knn_clf_tuned, open(filename, 'wb'))\n",
    "print('KNN - Completed')"
   ]
  },
  {
   "cell_type": "code",
   "execution_count": 38,
   "id": "969d44c9",
   "metadata": {},
   "outputs": [
    {
     "name": "stdout",
     "output_type": "stream",
     "text": [
      "Accuracy score : 0.821948212083847\n",
      "Confusion matrix : \n",
      " [[2936  112]\n",
      " [ 610  397]]\n",
      "Classification Report\n",
      "              precision    recall  f1-score   support\n",
      "\n",
      "           0       0.83      0.96      0.89      3048\n",
      "           1       0.78      0.39      0.52      1007\n",
      "\n",
      "    accuracy                           0.82      4055\n",
      "   macro avg       0.80      0.68      0.71      4055\n",
      "weighted avg       0.82      0.82      0.80      4055\n",
      "\n",
      "Precision : 0.7799607072691552\n",
      "Recall : 0.394240317775571\n",
      "F1 Score : 0.5237467018469657\n"
     ]
    }
   ],
   "source": [
    "#Loading the model\n",
    "filename = 'outputs//fakenewsnet_ml_word2vec//fakenewsnet_ml_KNN_w2v.sav'\n",
    "\n",
    "knn_clf_tuned = pickle.load(open(filename, 'rb'))\n",
    "\n",
    "pred = knn_clf_tuned.predict(test_vectors)\n",
    "print(\"Accuracy score : {}\".format(accuracy_score(y_test, pred)))\n",
    "print(\"Confusion matrix : \\n {}\".format(confusion_matrix(y_test, pred)))\n",
    "print(\"Classification Report\")\n",
    "print(classification_report(y_test, pred))\n",
    "precision = precision_score(y_test, pred)\n",
    "print(\"Precision : {}\".format(precision))\n",
    "recall = recall_score(y_test, pred)\n",
    "print(\"Recall : {}\".format(recall))\n",
    "f1score = f1_score(y_test, pred)\n",
    "print(\"F1 Score : {}\".format(f1score))\n"
   ]
  },
  {
   "cell_type": "markdown",
   "id": "923e091a",
   "metadata": {},
   "source": [
    "**Save the classification report to csv**"
   ]
  },
  {
   "cell_type": "code",
   "execution_count": 39,
   "id": "06f5e56d",
   "metadata": {},
   "outputs": [
    {
     "data": {
      "text/html": [
       "<div>\n",
       "<style scoped>\n",
       "    .dataframe tbody tr th:only-of-type {\n",
       "        vertical-align: middle;\n",
       "    }\n",
       "\n",
       "    .dataframe tbody tr th {\n",
       "        vertical-align: top;\n",
       "    }\n",
       "\n",
       "    .dataframe thead th {\n",
       "        text-align: right;\n",
       "    }\n",
       "</style>\n",
       "<table border=\"1\" class=\"dataframe\">\n",
       "  <thead>\n",
       "    <tr style=\"text-align: right;\">\n",
       "      <th></th>\n",
       "      <th>precision</th>\n",
       "      <th>recall</th>\n",
       "      <th>f1-score</th>\n",
       "      <th>support</th>\n",
       "    </tr>\n",
       "  </thead>\n",
       "  <tbody>\n",
       "    <tr>\n",
       "      <th>0</th>\n",
       "      <td>0.827975</td>\n",
       "      <td>0.963255</td>\n",
       "      <td>0.890507</td>\n",
       "      <td>3048.000000</td>\n",
       "    </tr>\n",
       "    <tr>\n",
       "      <th>1</th>\n",
       "      <td>0.779961</td>\n",
       "      <td>0.394240</td>\n",
       "      <td>0.523747</td>\n",
       "      <td>1007.000000</td>\n",
       "    </tr>\n",
       "    <tr>\n",
       "      <th>accuracy</th>\n",
       "      <td>0.821948</td>\n",
       "      <td>0.821948</td>\n",
       "      <td>0.821948</td>\n",
       "      <td>0.821948</td>\n",
       "    </tr>\n",
       "    <tr>\n",
       "      <th>macro avg</th>\n",
       "      <td>0.803968</td>\n",
       "      <td>0.678747</td>\n",
       "      <td>0.707127</td>\n",
       "      <td>4055.000000</td>\n",
       "    </tr>\n",
       "    <tr>\n",
       "      <th>weighted avg</th>\n",
       "      <td>0.816051</td>\n",
       "      <td>0.821948</td>\n",
       "      <td>0.799427</td>\n",
       "      <td>4055.000000</td>\n",
       "    </tr>\n",
       "  </tbody>\n",
       "</table>\n",
       "</div>"
      ],
      "text/plain": [
       "              precision    recall  f1-score      support\n",
       "0              0.827975  0.963255  0.890507  3048.000000\n",
       "1              0.779961  0.394240  0.523747  1007.000000\n",
       "accuracy       0.821948  0.821948  0.821948     0.821948\n",
       "macro avg      0.803968  0.678747  0.707127  4055.000000\n",
       "weighted avg   0.816051  0.821948  0.799427  4055.000000"
      ]
     },
     "execution_count": 39,
     "metadata": {},
     "output_type": "execute_result"
    }
   ],
   "source": [
    "report=classification_report(y_test, pred, output_dict=True)\n",
    "df = pd.DataFrame(report).transpose()\n",
    "df.to_csv(\"outputs//fakenewsnet_ml_word2vec//model_FAKENEWSNET_KNN_WORD2VEC_clasifctnrpt.csv\")\n",
    "\n",
    "df.head()"
   ]
  },
  {
   "cell_type": "markdown",
   "id": "f5a06659",
   "metadata": {},
   "source": [
    "**Plot confusion matrix using the user defined functions as mentioned above earlier**"
   ]
  },
  {
   "cell_type": "code",
   "execution_count": 40,
   "id": "2833e6a9",
   "metadata": {},
   "outputs": [
    {
     "data": {
      "image/png": "[encoded data removed]",
      "text/plain": [
       "<Figure size 360x300 with 2 Axes>"
      ]
     },
     "metadata": {},
     "output_type": "display_data"
    },
    {
     "data": {
      "image/png": "[encoded data removed]",
      "text/plain": [
       "<Figure size 360x300 with 2 Axes>"
      ]
     },
     "metadata": {},
     "output_type": "display_data"
    }
   ],
   "source": [
    "cm=confusion_matrix(y_test, pred)\n",
    "path1=\"outputs//fakenewsnet_ml_word2vec//fakenewsnet_ml_KNN_word2vec_cmtrx.png\"\n",
    "path2=\"outputs//fakenewsnet_ml_word2vec//fakenewsnet_ml_KNN_word2vec_ncmtrx.png\"\n",
    "confusn_mtrx_plot(cm,path1)\n",
    "norm_confusn_mtrx_plot(cm,path2)"
   ]
  },
  {
   "cell_type": "markdown",
   "id": "1f878c31",
   "metadata": {},
   "source": [
    "### Xgboost"
   ]
  },
  {
   "cell_type": "markdown",
   "id": "03d61bc1",
   "metadata": {},
   "source": [
    "**Initialise the model and  fit it using train data and measure the accuracy metrics**"
   ]
  },
  {
   "cell_type": "code",
   "execution_count": 41,
   "id": "7ac17299",
   "metadata": {},
   "outputs": [
    {
     "name": "stdout",
     "output_type": "stream",
     "text": [
      "Accuracy score : 0.847842170160296\n",
      "Confusion matrix : \n",
      " [[2911  137]\n",
      " [ 480  527]]\n",
      "Classification Report\n",
      "              precision    recall  f1-score   support\n",
      "\n",
      "           0       0.86      0.96      0.90      3048\n",
      "           1       0.79      0.52      0.63      1007\n",
      "\n",
      "    accuracy                           0.85      4055\n",
      "   macro avg       0.83      0.74      0.77      4055\n",
      "weighted avg       0.84      0.85      0.84      4055\n",
      "\n"
     ]
    }
   ],
   "source": [
    "#Create KNN Object.\n",
    "xg_clf=XGBClassifier(random_state=0)\n",
    "\n",
    "xg_clf.fit(train_vectors,y_train)\n",
    "\n",
    "pred = xg_clf.predict(test_vectors)\n",
    "print(\"Accuracy score : {}\".format(accuracy_score(y_test, pred)))\n",
    "print(\"Confusion matrix : \\n {}\".format(confusion_matrix(y_test, pred)))\n",
    "print(\"Classification Report\")\n",
    "print(classification_report(y_test, pred))\n"
   ]
  },
  {
   "cell_type": "markdown",
   "id": "6303507c",
   "metadata": {},
   "source": [
    "### Hyperparameter Tuning for KNN\n",
    "\n",
    "Define the list of parameters which needed to do hyperparameter tuning"
   ]
  },
  {
   "cell_type": "code",
   "execution_count": 52,
   "id": "b69446c2",
   "metadata": {
    "collapsed": true
   },
   "outputs": [
    {
     "name": "stdout",
     "output_type": "stream",
     "text": [
      "{'alpha': [1e-05, 0.01, 0.1, 1, 10, 50, 100],\n",
      " 'colsample_bylevel': array([0.5, 0.6, 0.7, 0.8, 0.9]),\n",
      " 'colsample_bytree': array([0.5, 0.6, 0.7, 0.8, 0.9]),\n",
      " 'gamma': [1,\n",
      "           2,\n",
      "           3,\n",
      "           4,\n",
      "           5,\n",
      "           6,\n",
      "           7,\n",
      "           8,\n",
      "           9,\n",
      "           10,\n",
      "           11,\n",
      "           12,\n",
      "           13,\n",
      "           14,\n",
      "           15,\n",
      "           16,\n",
      "           17,\n",
      "           18,\n",
      "           19,\n",
      "           20,\n",
      "           21,\n",
      "           22,\n",
      "           23,\n",
      "           24,\n",
      "           25,\n",
      "           26,\n",
      "           27,\n",
      "           28,\n",
      "           29],\n",
      " 'learning_rate': [0.01, 0.1, 0.2, 0.3, 0.4],\n",
      " 'max_depth': range(3, 15, 2),\n",
      " 'min_child_weight': range(1, 6, 2),\n",
      " 'n_estimators': [100, 250, 500],\n",
      " 'scale_pos_weight': range(1, 5),\n",
      " 'subsample': array([0.5, 0.6, 0.7, 0.8, 0.9])}\n"
     ]
    }
   ],
   "source": [
    "# Create the random grid\n",
    "random_grid = {\n",
    "    'min_child_weight': range(1,6,2),\n",
    "    'gamma': list(range(1,30)),\n",
    "    'max_depth':  range(3,15,2),\n",
    "    'alpha': [1e-5, 1e-2, 0.1,1,10,50, 100],\n",
    "    'subsample':np.arange(0.5, 1.0, 0.1),\n",
    "    'scale_pos_weight':range(1,5,1),\n",
    "    'colsample_bytree':np.arange(0.5, 1.0, 0.1),\n",
    "    'n_estimators':[100, 250, 500],\n",
    "    'learning_rate': [0.01, 0.1, 0.2, 0.3, 0.4],\n",
    "    'colsample_bylevel': np.arange(0.5, 1.0, 0.1),\n",
    "    }\n",
    "pprint(random_grid)"
   ]
  },
  {
   "cell_type": "markdown",
   "id": "b5f698f1",
   "metadata": {},
   "source": [
    "**Initialise the model and apply hyperparameter tuning**"
   ]
  },
  {
   "cell_type": "code",
   "execution_count": 53,
   "id": "5c5ea979",
   "metadata": {
    "collapsed": true
   },
   "outputs": [
    {
     "name": "stdout",
     "output_type": "stream",
     "text": [
      "Fitting 3 folds for each of 100 candidates, totalling 300 fits\n"
     ]
    },
    {
     "data": {
      "text/plain": [
       "RandomizedSearchCV(cv=3,\n",
       "                   estimator=XGBClassifier(base_score=None, booster=None,\n",
       "                                           callbacks=None,\n",
       "                                           colsample_bylevel=None,\n",
       "                                           colsample_bynode=None,\n",
       "                                           colsample_bytree=None,\n",
       "                                           early_stopping_rounds=None,\n",
       "                                           enable_categorical=False,\n",
       "                                           eval_metric=None, gamma=None,\n",
       "                                           gpu_id=None, grow_policy=None,\n",
       "                                           importance_type=None,\n",
       "                                           interaction_constraints=None,\n",
       "                                           learning_rate=None, max_bin=None,...\n",
       "                                        'colsample_bytree': array([0.5, 0.6, 0.7, 0.8, 0.9]),\n",
       "                                        'gamma': [1, 2, 3, 4, 5, 6, 7, 8, 9, 10,\n",
       "                                                  11, 12, 13, 14, 15, 16, 17,\n",
       "                                                  18, 19, 20, 21, 22, 23, 24,\n",
       "                                                  25, 26, 27, 28, 29],\n",
       "                                        'learning_rate': [0.01, 0.1, 0.2, 0.3,\n",
       "                                                          0.4],\n",
       "                                        'max_depth': range(3, 15, 2),\n",
       "                                        'min_child_weight': range(1, 6, 2),\n",
       "                                        'n_estimators': [100, 250, 500],\n",
       "                                        'scale_pos_weight': range(1, 5),\n",
       "                                        'subsample': array([0.5, 0.6, 0.7, 0.8, 0.9])},\n",
       "                   random_state=42, return_train_score=True, verbose=2)"
      ]
     },
     "execution_count": 53,
     "metadata": {},
     "output_type": "execute_result"
    }
   ],
   "source": [
    "\n",
    "xg_clf1=XGBClassifier(random_state=0)\n",
    "\n",
    "\n",
    "rf_random = RandomizedSearchCV(estimator=xg_clf1, param_distributions=random_grid,\n",
    "                              n_iter = 100, \n",
    "                              cv = 3, verbose=2, random_state=42, n_jobs=-1,\n",
    "                              return_train_score=True)\n",
    "\n",
    "\n",
    "# Fit the random search model\n",
    "rf_random.fit(train_vectors,y_train)"
   ]
  },
  {
   "cell_type": "code",
   "execution_count": 55,
   "id": "9f99a392",
   "metadata": {
    "collapsed": true
   },
   "outputs": [
    {
     "data": {
      "text/plain": [
       "{'subsample': 0.8999999999999999,\n",
       " 'scale_pos_weight': 4,\n",
       " 'n_estimators': 500,\n",
       " 'min_child_weight': 3,\n",
       " 'max_depth': 11,\n",
       " 'learning_rate': 0.01,\n",
       " 'gamma': 3,\n",
       " 'colsample_bytree': 0.5,\n",
       " 'colsample_bylevel': 0.8999999999999999,\n",
       " 'alpha': 0.1}"
      ]
     },
     "execution_count": 55,
     "metadata": {},
     "output_type": "execute_result"
    }
   ],
   "source": [
    "rf_random.best_params_"
   ]
  },
  {
   "cell_type": "markdown",
   "id": "d1fcf8fb",
   "metadata": {},
   "source": [
    "### Train XgBoost model  using Best Parameters after hyperparameter tuning\n",
    "\n",
    "**Initialise the model and  fit it using train data and measure the accuracy metrics**"
   ]
  },
  {
   "cell_type": "code",
   "execution_count": 42,
   "id": "52903d86",
   "metadata": {},
   "outputs": [
    {
     "name": "stdout",
     "output_type": "stream",
     "text": [
      "XGBoost - Completed\n"
     ]
    }
   ],
   "source": [
    "xg_clf_tuned=XGBClassifier(subsample=0.89,scale_pos_weight=4,n_estimators=500,min_child_weight=3,max_depth=11,learning_rate=0.01,\n",
    "                     gamma=3,colsample_bytree=0.5,colsample_bylevel=0.89,alpha=0.1)\n",
    "xg_clf_tuned.fit(train_vectors,y_train)\n",
    "\n",
    "# save the model to disk\n",
    "filename = 'outputs//fakenewsnet_ml_word2vec//fakenewsnet_ml_XG_w2v.sav'\n",
    "pickle.dump(xg_clf_tuned, open(filename, 'wb'))\n",
    "print('XGBoost - Completed')"
   ]
  },
  {
   "cell_type": "code",
   "execution_count": 43,
   "id": "3fa2c54d",
   "metadata": {},
   "outputs": [
    {
     "name": "stdout",
     "output_type": "stream",
     "text": [
      "Accuracy score : 0.8463625154130703\n",
      "Confusion matrix : \n",
      " [[2833  215]\n",
      " [ 408  599]]\n",
      "Classification Report\n",
      "              precision    recall  f1-score   support\n",
      "\n",
      "           0       0.87      0.93      0.90      3048\n",
      "           1       0.74      0.59      0.66      1007\n",
      "\n",
      "    accuracy                           0.85      4055\n",
      "   macro avg       0.80      0.76      0.78      4055\n",
      "weighted avg       0.84      0.85      0.84      4055\n",
      "\n",
      "Precision : 0.7358722358722358\n",
      "Recall : 0.5948361469712016\n",
      "F1 Score : 0.657880285557386\n"
     ]
    }
   ],
   "source": [
    "#Loading the model\n",
    "filename = 'outputs//fakenewsnet_ml_word2vec//fakenewsnet_ml_XG_w2v.sav'\n",
    "\n",
    "xg_clf_tuned = pickle.load(open(filename, 'rb'))\n",
    "\n",
    "pred = xg_clf_tuned.predict(test_vectors)\n",
    "print(\"Accuracy score : {}\".format(accuracy_score(y_test, pred)))\n",
    "print(\"Confusion matrix : \\n {}\".format(confusion_matrix(y_test, pred)))\n",
    "print(\"Classification Report\")\n",
    "print(classification_report(y_test, pred))\n",
    "precision = precision_score(y_test, pred)\n",
    "print(\"Precision : {}\".format(precision))\n",
    "recall = recall_score(y_test, pred)\n",
    "print(\"Recall : {}\".format(recall))\n",
    "f1score = f1_score(y_test, pred)\n",
    "print(\"F1 Score : {}\".format(f1score))\n"
   ]
  },
  {
   "cell_type": "markdown",
   "id": "1f94cd19",
   "metadata": {},
   "source": [
    "**Save the classification report to csv**"
   ]
  },
  {
   "cell_type": "code",
   "execution_count": 44,
   "id": "b0d73177",
   "metadata": {},
   "outputs": [
    {
     "data": {
      "text/html": [
       "<div>\n",
       "<style scoped>\n",
       "    .dataframe tbody tr th:only-of-type {\n",
       "        vertical-align: middle;\n",
       "    }\n",
       "\n",
       "    .dataframe tbody tr th {\n",
       "        vertical-align: top;\n",
       "    }\n",
       "\n",
       "    .dataframe thead th {\n",
       "        text-align: right;\n",
       "    }\n",
       "</style>\n",
       "<table border=\"1\" class=\"dataframe\">\n",
       "  <thead>\n",
       "    <tr style=\"text-align: right;\">\n",
       "      <th></th>\n",
       "      <th>precision</th>\n",
       "      <th>recall</th>\n",
       "      <th>f1-score</th>\n",
       "      <th>support</th>\n",
       "    </tr>\n",
       "  </thead>\n",
       "  <tbody>\n",
       "    <tr>\n",
       "      <th>0</th>\n",
       "      <td>0.874113</td>\n",
       "      <td>0.929462</td>\n",
       "      <td>0.900938</td>\n",
       "      <td>3048.000000</td>\n",
       "    </tr>\n",
       "    <tr>\n",
       "      <th>1</th>\n",
       "      <td>0.735872</td>\n",
       "      <td>0.594836</td>\n",
       "      <td>0.657880</td>\n",
       "      <td>1007.000000</td>\n",
       "    </tr>\n",
       "    <tr>\n",
       "      <th>accuracy</th>\n",
       "      <td>0.846363</td>\n",
       "      <td>0.846363</td>\n",
       "      <td>0.846363</td>\n",
       "      <td>0.846363</td>\n",
       "    </tr>\n",
       "    <tr>\n",
       "      <th>macro avg</th>\n",
       "      <td>0.804993</td>\n",
       "      <td>0.762149</td>\n",
       "      <td>0.779409</td>\n",
       "      <td>4055.000000</td>\n",
       "    </tr>\n",
       "    <tr>\n",
       "      <th>weighted avg</th>\n",
       "      <td>0.839783</td>\n",
       "      <td>0.846363</td>\n",
       "      <td>0.840578</td>\n",
       "      <td>4055.000000</td>\n",
       "    </tr>\n",
       "  </tbody>\n",
       "</table>\n",
       "</div>"
      ],
      "text/plain": [
       "              precision    recall  f1-score      support\n",
       "0              0.874113  0.929462  0.900938  3048.000000\n",
       "1              0.735872  0.594836  0.657880  1007.000000\n",
       "accuracy       0.846363  0.846363  0.846363     0.846363\n",
       "macro avg      0.804993  0.762149  0.779409  4055.000000\n",
       "weighted avg   0.839783  0.846363  0.840578  4055.000000"
      ]
     },
     "execution_count": 44,
     "metadata": {},
     "output_type": "execute_result"
    }
   ],
   "source": [
    "report=classification_report(y_test, pred, output_dict=True)\n",
    "df = pd.DataFrame(report).transpose()\n",
    "df.to_csv(\"outputs//fakenewsnet_ml_word2vec//model_FAKENEWSNET_XG_WORD2VEC_clasifctnrpt.csv\")\n",
    "\n",
    "df.head()"
   ]
  },
  {
   "cell_type": "markdown",
   "id": "0e472efd",
   "metadata": {},
   "source": [
    "**Plot confusion matrix using the user defined functions as mentioned above earlier**"
   ]
  },
  {
   "cell_type": "code",
   "execution_count": 45,
   "id": "016abf47",
   "metadata": {},
   "outputs": [
    {
     "data": {
      "image/png": "[encoded data removed]",
      "text/plain": [
       "<Figure size 360x300 with 2 Axes>"
      ]
     },
     "metadata": {},
     "output_type": "display_data"
    },
    {
     "data": {
      "image/png": "[encoded data removed]",
      "text/plain": [
       "<Figure size 360x300 with 2 Axes>"
      ]
     },
     "metadata": {},
     "output_type": "display_data"
    }
   ],
   "source": [
    "cm=confusion_matrix(y_test, pred)\n",
    "path1=\"outputs//fakenewsnet_ml_word2vec//fakenewsnet_ml_XG_word2vec_cmtrx.png\"\n",
    "path2=\"outputs//fakenewsnet_ml_word2vec//fakenewsnet_ml_XG_word2vec_ncmtrx.png\"\n",
    "confusn_mtrx_plot(cm,path1)\n",
    "norm_confusn_mtrx_plot(cm,path2)"
   ]
  },
  {
   "cell_type": "markdown",
   "id": "3927128d",
   "metadata": {},
   "source": [
    "### Naiva Bayes"
   ]
  },
  {
   "cell_type": "markdown",
   "id": "61cbae18",
   "metadata": {},
   "source": [
    "**Initialise the model and measure the accuracy metrics**"
   ]
  },
  {
   "cell_type": "code",
   "execution_count": 46,
   "id": "a3cb40fa",
   "metadata": {},
   "outputs": [
    {
     "name": "stdout",
     "output_type": "stream",
     "text": [
      "Accuracy score : 0.6244143033292232\n",
      "Confusion matrix : \n",
      " [[1756 1292]\n",
      " [ 231  776]]\n",
      "Classification Report\n",
      "              precision    recall  f1-score   support\n",
      "\n",
      "           0       0.88      0.58      0.70      3048\n",
      "           1       0.38      0.77      0.50      1007\n",
      "\n",
      "    accuracy                           0.62      4055\n",
      "   macro avg       0.63      0.67      0.60      4055\n",
      "weighted avg       0.76      0.62      0.65      4055\n",
      "\n"
     ]
    }
   ],
   "source": [
    "from sklearn.preprocessing import MinMaxScaler\n",
    "from sklearn.naive_bayes import GaussianNB\n",
    "nb_clf=GaussianNB()\n",
    "#p = Pipeline([('Normalizing',MinMaxScaler()),('MultinomialNB',MultinomialNB())])\n",
    "nb_clf.fit(train_vectors,y_train) \n",
    "\n",
    "pred = nb_clf.predict(test_vectors)\n",
    "print(\"Accuracy score : {}\".format(accuracy_score(y_test, pred)))\n",
    "print(\"Confusion matrix : \\n {}\".format(confusion_matrix(y_test, pred)))\n",
    "print(\"Classification Report\")\n",
    "print(classification_report(y_test, pred))"
   ]
  },
  {
   "cell_type": "markdown",
   "id": "4e373780",
   "metadata": {},
   "source": [
    "### Hyperparameter Tuning for Naive Bayes\n",
    "\n",
    "Define the list of parameters which needed to do hyperparameter tuning"
   ]
  },
  {
   "cell_type": "code",
   "execution_count": 72,
   "id": "9777f1c4",
   "metadata": {},
   "outputs": [
    {
     "name": "stdout",
     "output_type": "stream",
     "text": [
      "{'var_smoothing': [1e-05, 0.0001, 0.001, 0.1, 1, 10, 100, 1000]}\n"
     ]
    }
   ],
   "source": [
    "# Create the random grid\n",
    "random_grid = {\n",
    "    'var_smoothing': [0.00001, 0.0001, 0.001, 0.1, 1, 10, 100,1000]\n",
    "#    # 'class_prior':[True,False],\n",
    "#     'fit_prior':[True,False]\n",
    "              }\n",
    "pprint(random_grid)"
   ]
  },
  {
   "cell_type": "markdown",
   "id": "c2d65d02",
   "metadata": {},
   "source": [
    "**Initialise the model and apply hyperparameter tuning**"
   ]
  },
  {
   "cell_type": "code",
   "execution_count": 73,
   "id": "ce7e05c3",
   "metadata": {},
   "outputs": [
    {
     "name": "stdout",
     "output_type": "stream",
     "text": [
      "Fitting 3 folds for each of 8 candidates, totalling 24 fits\n"
     ]
    },
    {
     "data": {
      "text/plain": [
       "RandomizedSearchCV(cv=3, estimator=GaussianNB(), n_iter=100, n_jobs=-1,\n",
       "                   param_distributions={'var_smoothing': [1e-05, 0.0001, 0.001,\n",
       "                                                          0.1, 1, 10, 100,\n",
       "                                                          1000]},\n",
       "                   random_state=42, return_train_score=True, verbose=2)"
      ]
     },
     "execution_count": 73,
     "metadata": {},
     "output_type": "execute_result"
    }
   ],
   "source": [
    "\n",
    "nb_clf1=GaussianNB()\n",
    "\n",
    "\n",
    "rf_random = RandomizedSearchCV(estimator=nb_clf1, param_distributions=random_grid,\n",
    "                              n_iter = 100, \n",
    "                              cv = 3, verbose=2, random_state=42, n_jobs=-1,\n",
    "                              return_train_score=True)\n",
    "\n",
    "\n",
    "# Fit the random search model\n",
    "rf_random.fit(train_vectors,y_train)"
   ]
  },
  {
   "cell_type": "code",
   "execution_count": 71,
   "id": "806eb695",
   "metadata": {},
   "outputs": [
    {
     "data": {
      "text/plain": [
       "{'priors': None, 'var_smoothing': 1e-09}"
      ]
     },
     "execution_count": 71,
     "metadata": {},
     "output_type": "execute_result"
    }
   ],
   "source": [
    "nb_clf.get_params()"
   ]
  },
  {
   "cell_type": "code",
   "execution_count": 74,
   "id": "0a620a6c",
   "metadata": {},
   "outputs": [
    {
     "data": {
      "text/plain": [
       "{'var_smoothing': 10}"
      ]
     },
     "execution_count": 74,
     "metadata": {},
     "output_type": "execute_result"
    }
   ],
   "source": [
    "rf_random.best_params_"
   ]
  },
  {
   "cell_type": "markdown",
   "id": "fd01659c",
   "metadata": {},
   "source": [
    "### Train Naive Bayes model  using Best Parameters after hyperparameter tuning\n",
    "\n",
    "**Initialise the model and  fit it using train data and measure the accuracy metrics**"
   ]
  },
  {
   "cell_type": "code",
   "execution_count": 47,
   "id": "afcfca6c",
   "metadata": {},
   "outputs": [
    {
     "name": "stdout",
     "output_type": "stream",
     "text": [
      "Naive Bayes - Completed\n"
     ]
    }
   ],
   "source": [
    "nb_clf_tuned=GaussianNB(var_smoothing=10)\n",
    "\n",
    "nb_clf_tuned.fit(train_vectors,y_train)\n",
    "\n",
    "# save the model to disk\n",
    "filename = 'outputs//fakenewsnet_ml_word2vec//fakenewsnet_ml_NB_w2v.sav'\n",
    "pickle.dump(nb_clf_tuned, open(filename, 'wb'))\n",
    "print('Naive Bayes - Completed')"
   ]
  },
  {
   "cell_type": "code",
   "execution_count": 60,
   "id": "2082a217",
   "metadata": {},
   "outputs": [
    {
     "name": "stdout",
     "output_type": "stream",
     "text": [
      "Accuracy score : 0.7935881627620222\n",
      "Confusion matrix : \n",
      " [[2940  108]\n",
      " [ 729  278]]\n",
      "Classification Report\n",
      "              precision    recall  f1-score   support\n",
      "\n",
      "           0       0.80      0.96      0.88      3048\n",
      "           1       0.72      0.28      0.40      1007\n",
      "\n",
      "    accuracy                           0.79      4055\n",
      "   macro avg       0.76      0.62      0.64      4055\n",
      "weighted avg       0.78      0.79      0.76      4055\n",
      "\n",
      "Precision : 0.7202072538860104\n",
      "Recall : 0.27606752730883816\n",
      "F1 Score : 0.3991385498923188\n"
     ]
    }
   ],
   "source": [
    "#Loading the model\n",
    "filename = 'outputs//fakenewsnet_ml_word2vec//fakenewsnet_ml_NB_w2v.sav'\n",
    "\n",
    "nb_clf_tuned = pickle.load(open(filename, 'rb'))\n",
    "\n",
    "pred = nb_clf_tuned.predict(test_vectors)\n",
    "\n",
    "print(\"Accuracy score : {}\".format(accuracy_score(y_test, pred)))\n",
    "print(\"Confusion matrix : \\n {}\".format(confusion_matrix(y_test, pred)))\n",
    "print(\"Classification Report\")\n",
    "print(classification_report(y_test, pred))\n",
    "precision = precision_score(y_test, pred)\n",
    "print(\"Precision : {}\".format(precision))\n",
    "recall = recall_score(y_test, pred)\n",
    "print(\"Recall : {}\".format(recall))\n",
    "f1score = f1_score(y_test, pred)\n",
    "print(\"F1 Score : {}\".format(f1score))\n"
   ]
  },
  {
   "cell_type": "markdown",
   "id": "d53a119b",
   "metadata": {},
   "source": [
    "**Save the classification report to csv**"
   ]
  },
  {
   "cell_type": "code",
   "execution_count": 61,
   "id": "751106b3",
   "metadata": {},
   "outputs": [
    {
     "data": {
      "text/html": [
       "<div>\n",
       "<style scoped>\n",
       "    .dataframe tbody tr th:only-of-type {\n",
       "        vertical-align: middle;\n",
       "    }\n",
       "\n",
       "    .dataframe tbody tr th {\n",
       "        vertical-align: top;\n",
       "    }\n",
       "\n",
       "    .dataframe thead th {\n",
       "        text-align: right;\n",
       "    }\n",
       "</style>\n",
       "<table border=\"1\" class=\"dataframe\">\n",
       "  <thead>\n",
       "    <tr style=\"text-align: right;\">\n",
       "      <th></th>\n",
       "      <th>precision</th>\n",
       "      <th>recall</th>\n",
       "      <th>f1-score</th>\n",
       "      <th>support</th>\n",
       "    </tr>\n",
       "  </thead>\n",
       "  <tbody>\n",
       "    <tr>\n",
       "      <th>0</th>\n",
       "      <td>0.801308</td>\n",
       "      <td>0.964567</td>\n",
       "      <td>0.875391</td>\n",
       "      <td>3048.000000</td>\n",
       "    </tr>\n",
       "    <tr>\n",
       "      <th>1</th>\n",
       "      <td>0.720207</td>\n",
       "      <td>0.276068</td>\n",
       "      <td>0.399139</td>\n",
       "      <td>1007.000000</td>\n",
       "    </tr>\n",
       "    <tr>\n",
       "      <th>accuracy</th>\n",
       "      <td>0.793588</td>\n",
       "      <td>0.793588</td>\n",
       "      <td>0.793588</td>\n",
       "      <td>0.793588</td>\n",
       "    </tr>\n",
       "    <tr>\n",
       "      <th>macro avg</th>\n",
       "      <td>0.760758</td>\n",
       "      <td>0.620317</td>\n",
       "      <td>0.637265</td>\n",
       "      <td>4055.000000</td>\n",
       "    </tr>\n",
       "    <tr>\n",
       "      <th>weighted avg</th>\n",
       "      <td>0.781168</td>\n",
       "      <td>0.793588</td>\n",
       "      <td>0.757121</td>\n",
       "      <td>4055.000000</td>\n",
       "    </tr>\n",
       "  </tbody>\n",
       "</table>\n",
       "</div>"
      ],
      "text/plain": [
       "              precision    recall  f1-score      support\n",
       "0              0.801308  0.964567  0.875391  3048.000000\n",
       "1              0.720207  0.276068  0.399139  1007.000000\n",
       "accuracy       0.793588  0.793588  0.793588     0.793588\n",
       "macro avg      0.760758  0.620317  0.637265  4055.000000\n",
       "weighted avg   0.781168  0.793588  0.757121  4055.000000"
      ]
     },
     "execution_count": 61,
     "metadata": {},
     "output_type": "execute_result"
    }
   ],
   "source": [
    "report=classification_report(y_test, pred, output_dict=True)\n",
    "df = pd.DataFrame(report).transpose()\n",
    "df.to_csv(\"outputs//fakenewsnet_ml_word2vec//model_FAKENEWSNET_NB_WORD2VEC_clasifctnrpt.csv\")\n",
    "df.head()"
   ]
  },
  {
   "cell_type": "markdown",
   "id": "f6d02ce2",
   "metadata": {},
   "source": [
    "**Plot confusion matrix using the user defined functions as mentioned above earlier**"
   ]
  },
  {
   "cell_type": "code",
   "execution_count": 62,
   "id": "01ca73c0",
   "metadata": {},
   "outputs": [
    {
     "data": {
      "image/png": "[encoded data removed]",
      "text/plain": [
       "<Figure size 360x300 with 2 Axes>"
      ]
     },
     "metadata": {},
     "output_type": "display_data"
    },
    {
     "data": {
      "image/png": "[encoded data removed]",
      "text/plain": [
       "<Figure size 360x300 with 2 Axes>"
      ]
     },
     "metadata": {},
     "output_type": "display_data"
    }
   ],
   "source": [
    "cm=confusion_matrix(y_test, pred)\n",
    "path1=\"outputs//fakenewsnet_ml_word2vec//fakenewsnet_ml_NB_word2vec_cmtrx.png\"\n",
    "path2=\"outputs//fakenewsnet_ml_word2vec//fakenewsnet_ml_NB_word2vec_ncmtrx.png\"\n",
    "confusn_mtrx_plot(cm,path1)\n",
    "norm_confusn_mtrx_plot(cm,path2)"
   ]
  },
  {
   "cell_type": "markdown",
   "id": "134d989f",
   "metadata": {},
   "source": [
    "### Logistic Regression"
   ]
  },
  {
   "cell_type": "markdown",
   "id": "f8344865",
   "metadata": {},
   "source": [
    "**Initialise the model and  fit it using train data and measure the accuracy metrics**"
   ]
  },
  {
   "cell_type": "code",
   "execution_count": 63,
   "id": "1ad9f939",
   "metadata": {},
   "outputs": [],
   "source": [
    "from sklearn.linear_model import LogisticRegression"
   ]
  },
  {
   "cell_type": "code",
   "execution_count": 64,
   "id": "1f69ee08",
   "metadata": {},
   "outputs": [
    {
     "name": "stdout",
     "output_type": "stream",
     "text": [
      "Accuracy score : 0.8271270036991368\n",
      "Confusion matrix : \n",
      " [[2970   78]\n",
      " [ 623  384]]\n",
      "Classification Report\n",
      "              precision    recall  f1-score   support\n",
      "\n",
      "           0       0.83      0.97      0.89      3048\n",
      "           1       0.83      0.38      0.52      1007\n",
      "\n",
      "    accuracy                           0.83      4055\n",
      "   macro avg       0.83      0.68      0.71      4055\n",
      "weighted avg       0.83      0.83      0.80      4055\n",
      "\n"
     ]
    }
   ],
   "source": [
    "logticreg_clf=LogisticRegression()\n",
    "\n",
    "logticreg_clf.fit(train_vectors,y_train)\n",
    "\n",
    "pred = logticreg_clf.predict(test_vectors)\n",
    "print(\"Accuracy score : {}\".format(accuracy_score(y_test, pred)))\n",
    "print(\"Confusion matrix : \\n {}\".format(confusion_matrix(y_test, pred)))\n",
    "print(\"Classification Report\")\n",
    "print(classification_report(y_test, pred))"
   ]
  },
  {
   "cell_type": "markdown",
   "id": "7b7cc2e2",
   "metadata": {},
   "source": [
    "### Hyperparameter Tuning for Logistic Regression\n",
    "\n",
    "Define the list of parameters which needed to do hyperparameter tuning"
   ]
  },
  {
   "cell_type": "code",
   "execution_count": 78,
   "id": "43a7db77",
   "metadata": {},
   "outputs": [
    {
     "name": "stdout",
     "output_type": "stream",
     "text": [
      "{'C': [100, 10, 1.0, 0.1, 0.01],\n",
      " 'penalty': ['l1', 'l2', 'elasticnet'],\n",
      " 'solver': ['newton-cg', 'lbfgs', 'liblinear', 'sag', 'saga']}\n"
     ]
    }
   ],
   "source": [
    "# Create the random grid\n",
    "random_grid = {\n",
    "    'solver': ['newton-cg', 'lbfgs', 'liblinear', 'sag', 'saga'],\n",
    "     'C':[100, 10, 1.0, 0.1, 0.01],\n",
    "    'penalty':['l1','l2','elasticnet']\n",
    "              }\n",
    "pprint(random_grid)"
   ]
  },
  {
   "cell_type": "markdown",
   "id": "59ec041d",
   "metadata": {},
   "source": [
    "**Initialise the model and apply hyperparameter tuning**"
   ]
  },
  {
   "cell_type": "code",
   "execution_count": 79,
   "id": "efcac2e9",
   "metadata": {},
   "outputs": [
    {
     "name": "stdout",
     "output_type": "stream",
     "text": [
      "Fitting 3 folds for each of 75 candidates, totalling 225 fits\n"
     ]
    },
    {
     "data": {
      "text/plain": [
       "RandomizedSearchCV(cv=3, estimator=LogisticRegression(), n_iter=100, n_jobs=-1,\n",
       "                   param_distributions={'C': [100, 10, 1.0, 0.1, 0.01],\n",
       "                                        'penalty': ['l1', 'l2', 'elasticnet'],\n",
       "                                        'solver': ['newton-cg', 'lbfgs',\n",
       "                                                   'liblinear', 'sag',\n",
       "                                                   'saga']},\n",
       "                   random_state=42, return_train_score=True, verbose=2)"
      ]
     },
     "execution_count": 79,
     "metadata": {},
     "output_type": "execute_result"
    }
   ],
   "source": [
    "\n",
    "logticreg_clf_tuned=LogisticRegression()\n",
    "\n",
    "\n",
    "rf_random = RandomizedSearchCV(estimator=logticreg_clf_tuned, param_distributions=random_grid,\n",
    "                              n_iter = 100, \n",
    "                              cv = 3, verbose=2, random_state=42, n_jobs=-1,\n",
    "                              return_train_score=True)\n",
    "\n",
    "\n",
    "# Fit the random search model\n",
    "rf_random.fit(train_vectors,y_train)"
   ]
  },
  {
   "cell_type": "code",
   "execution_count": 80,
   "id": "350e8516",
   "metadata": {},
   "outputs": [
    {
     "data": {
      "text/plain": [
       "{'solver': 'lbfgs', 'penalty': 'l2', 'C': 10}"
      ]
     },
     "execution_count": 80,
     "metadata": {},
     "output_type": "execute_result"
    }
   ],
   "source": [
    "rf_random.best_params_"
   ]
  },
  {
   "cell_type": "markdown",
   "id": "5c2f42b6",
   "metadata": {},
   "source": [
    "### Train Logistic Regreesion model  using Best Parameters after hyperparameter tuning\n",
    "\n",
    "**Initialise the model and  fit it using train data and measure the accuracy metrics**"
   ]
  },
  {
   "cell_type": "code",
   "execution_count": 65,
   "id": "c0af2d00",
   "metadata": {},
   "outputs": [
    {
     "name": "stdout",
     "output_type": "stream",
     "text": [
      "Logistic Regression - Completed\n"
     ]
    }
   ],
   "source": [
    "logticreg_clf_tuned=LogisticRegression(solver='lbfgs',penalty='l2',C=10)\n",
    "\n",
    "logticreg_clf_tuned.fit(train_vectors,y_train)\n",
    "\n",
    "# save the model to disk\n",
    "filename = 'outputs//fakenewsnet_ml_word2vec//fakenewsnet_ml_LR_w2v.sav'\n",
    "pickle.dump(logticreg_clf_tuned, open(filename, 'wb'))\n",
    "print('Logistic Regression - Completed')"
   ]
  },
  {
   "cell_type": "code",
   "execution_count": 66,
   "id": "ddf72db4",
   "metadata": {},
   "outputs": [
    {
     "name": "stdout",
     "output_type": "stream",
     "text": [
      "Accuracy score : 0.8387176325524044\n",
      "Confusion matrix : \n",
      " [[2924  124]\n",
      " [ 530  477]]\n",
      "Classification Report\n",
      "              precision    recall  f1-score   support\n",
      "\n",
      "           0       0.85      0.96      0.90      3048\n",
      "           1       0.79      0.47      0.59      1007\n",
      "\n",
      "    accuracy                           0.84      4055\n",
      "   macro avg       0.82      0.72      0.75      4055\n",
      "weighted avg       0.83      0.84      0.82      4055\n",
      "\n",
      "Precision : 0.7936772046589018\n",
      "Recall : 0.47368421052631576\n",
      "F1 Score : 0.5932835820895522\n"
     ]
    }
   ],
   "source": [
    "#Loading the model\n",
    "filename = 'outputs//fakenewsnet_ml_word2vec//fakenewsnet_ml_LR_w2v.sav'\n",
    "\n",
    "logticreg_clf_tuned = pickle.load(open(filename, 'rb'))\n",
    "\n",
    "pred = logticreg_clf_tuned.predict(test_vectors)\n",
    "\n",
    "print(\"Accuracy score : {}\".format(accuracy_score(y_test, pred)))\n",
    "print(\"Confusion matrix : \\n {}\".format(confusion_matrix(y_test, pred)))\n",
    "print(\"Classification Report\")\n",
    "print(classification_report(y_test, pred))\n",
    "precision = precision_score(y_test, pred)\n",
    "print(\"Precision : {}\".format(precision))\n",
    "recall = recall_score(y_test, pred)\n",
    "print(\"Recall : {}\".format(recall))\n",
    "f1score = f1_score(y_test, pred)\n",
    "print(\"F1 Score : {}\".format(f1score))\n"
   ]
  },
  {
   "cell_type": "markdown",
   "id": "a601988f",
   "metadata": {},
   "source": [
    "**Save the classification report to csv**"
   ]
  },
  {
   "cell_type": "code",
   "execution_count": 67,
   "id": "9fd60a2b",
   "metadata": {},
   "outputs": [
    {
     "data": {
      "text/html": [
       "<div>\n",
       "<style scoped>\n",
       "    .dataframe tbody tr th:only-of-type {\n",
       "        vertical-align: middle;\n",
       "    }\n",
       "\n",
       "    .dataframe tbody tr th {\n",
       "        vertical-align: top;\n",
       "    }\n",
       "\n",
       "    .dataframe thead th {\n",
       "        text-align: right;\n",
       "    }\n",
       "</style>\n",
       "<table border=\"1\" class=\"dataframe\">\n",
       "  <thead>\n",
       "    <tr style=\"text-align: right;\">\n",
       "      <th></th>\n",
       "      <th>precision</th>\n",
       "      <th>recall</th>\n",
       "      <th>f1-score</th>\n",
       "      <th>support</th>\n",
       "    </tr>\n",
       "  </thead>\n",
       "  <tbody>\n",
       "    <tr>\n",
       "      <th>0</th>\n",
       "      <td>0.846555</td>\n",
       "      <td>0.959318</td>\n",
       "      <td>0.899416</td>\n",
       "      <td>3048.000000</td>\n",
       "    </tr>\n",
       "    <tr>\n",
       "      <th>1</th>\n",
       "      <td>0.793677</td>\n",
       "      <td>0.473684</td>\n",
       "      <td>0.593284</td>\n",
       "      <td>1007.000000</td>\n",
       "    </tr>\n",
       "    <tr>\n",
       "      <th>accuracy</th>\n",
       "      <td>0.838718</td>\n",
       "      <td>0.838718</td>\n",
       "      <td>0.838718</td>\n",
       "      <td>0.838718</td>\n",
       "    </tr>\n",
       "    <tr>\n",
       "      <th>macro avg</th>\n",
       "      <td>0.820116</td>\n",
       "      <td>0.716501</td>\n",
       "      <td>0.746350</td>\n",
       "      <td>4055.000000</td>\n",
       "    </tr>\n",
       "    <tr>\n",
       "      <th>weighted avg</th>\n",
       "      <td>0.833423</td>\n",
       "      <td>0.838718</td>\n",
       "      <td>0.823392</td>\n",
       "      <td>4055.000000</td>\n",
       "    </tr>\n",
       "  </tbody>\n",
       "</table>\n",
       "</div>"
      ],
      "text/plain": [
       "              precision    recall  f1-score      support\n",
       "0              0.846555  0.959318  0.899416  3048.000000\n",
       "1              0.793677  0.473684  0.593284  1007.000000\n",
       "accuracy       0.838718  0.838718  0.838718     0.838718\n",
       "macro avg      0.820116  0.716501  0.746350  4055.000000\n",
       "weighted avg   0.833423  0.838718  0.823392  4055.000000"
      ]
     },
     "execution_count": 67,
     "metadata": {},
     "output_type": "execute_result"
    }
   ],
   "source": [
    "report=classification_report(y_test, pred, output_dict=True)\n",
    "df = pd.DataFrame(report).transpose()\n",
    "df.to_csv(\"outputs//fakenewsnet_ml_word2vec//model_FAKENEWSNET_LR_WORD2VEC_clasifctnrpt.csv\")\n",
    "df.head()"
   ]
  },
  {
   "cell_type": "markdown",
   "id": "2d0fdb8e",
   "metadata": {},
   "source": [
    "**Plot confusion matrix using the user defined functions as mentioned above earlier**"
   ]
  },
  {
   "cell_type": "code",
   "execution_count": 68,
   "id": "2c526ca0",
   "metadata": {},
   "outputs": [
    {
     "data": {
      "image/png": "[encoded data removed]",
      "text/plain": [
       "<Figure size 360x300 with 2 Axes>"
      ]
     },
     "metadata": {},
     "output_type": "display_data"
    },
    {
     "data": {
      "image/png": "[encoded data removed]",
      "text/plain": [
       "<Figure size 360x300 with 2 Axes>"
      ]
     },
     "metadata": {},
     "output_type": "display_data"
    }
   ],
   "source": [
    "cm=confusion_matrix(y_test, pred)\n",
    "path1=\"outputs//fakenewsnet_ml_word2vec//fakenewsnet_ml_LR_word2vec_cmtrx.png\"\n",
    "path2=\"outputs//fakenewsnet_ml_word2vec//fakenewsnet_ml_LR_word2vec_ncmtrx.png\"\n",
    "confusn_mtrx_plot(cm,path1)\n",
    "norm_confusn_mtrx_plot(cm,path2)"
   ]
  },
  {
   "cell_type": "code",
   "execution_count": null,
   "id": "c662722a",
   "metadata": {},
   "outputs": [],
   "source": []
  },
  {
   "cell_type": "markdown",
   "id": "0065cc84",
   "metadata": {},
   "source": [
    "### Consolidating all classifiers for  accuracy scores"
   ]
  },
  {
   "cell_type": "code",
   "execution_count": 69,
   "id": "436316f3",
   "metadata": {},
   "outputs": [],
   "source": [
    "classifiers = [('Logistic Regression',logticreg_clf_tuned),('Naive Bayes',nb_clf_tuned),('Xgboost',xg_clf_tuned),\n",
    "              ('KNN',knn_clf_tuned),('Random Forest',rf_clf_tuned),(\"SVM\",svm_clf_tuned)]"
   ]
  },
  {
   "cell_type": "code",
   "execution_count": 71,
   "id": "7df3657c",
   "metadata": {},
   "outputs": [],
   "source": [
    "df_model_scores=model_comparison_table(test_vectors,y_test,classifiers)\n",
    "df_model_scores.head(20).T.sort_values(by='Accuracy', ascending=False)\n",
    "df_model_scores.to_csv('outputs//fakenewsnet_ml_word2vec//comparison_scores.csv')"
   ]
  },
  {
   "cell_type": "code",
   "execution_count": null,
   "id": "eeb448dd",
   "metadata": {},
   "outputs": [],
   "source": [
    "df_model_scores.head()"
   ]
  },
  {
   "cell_type": "markdown",
   "id": "57430c80",
   "metadata": {},
   "source": [
    "### ROC AUC Curve plot using all the algorithms"
   ]
  },
  {
   "cell_type": "code",
   "execution_count": 73,
   "id": "ffadaf87",
   "metadata": {},
   "outputs": [
    {
     "data": {
      "image/png": "[encoded data removed]",
      "text/plain": [
       "<Figure size 360x300 with 1 Axes>"
      ]
     },
     "metadata": {},
     "output_type": "display_data"
    }
   ],
   "source": [
    "#set up plotting area\n",
    "fig = plt.figure(figsize=(6, 5), dpi=60)\n",
    "ax = plt.subplot()\n",
    "\n",
    "#fit RF model and plot ROC curve\n",
    "y_pred = rf_clf_tuned.predict_proba(test_vectors)[:, 1]\n",
    "fpr, tpr, _ = roc_curve(y_test, y_pred)\n",
    "auc = round(roc_auc_score(y_test, y_pred), 4)\n",
    "plt.plot(fpr,tpr,label=\"Random Forest, AUC=\"+str(auc))\n",
    "\n",
    "#fit Logistic model and plot ROC curve\n",
    "y_pred = logticreg_clf_tuned.predict_proba(test_vectors)[:, 1]\n",
    "fpr, tpr, _ = roc_curve(y_test, y_pred)\n",
    "auc = round(roc_auc_score(y_test, y_pred), 4)\n",
    "plt.plot(fpr,tpr,label=\"Logistic, AUC=\"+str(auc))\n",
    "\n",
    "\n",
    "#fit SVM model and plot ROC curve\n",
    "y_pred = svm_clf_tuned.predict_proba(test_vectors)[:, 1]\n",
    "fpr, tpr, _ = roc_curve(y_test, y_pred)\n",
    "auc = round(roc_auc_score(y_test, y_pred), 4)\n",
    "plt.plot(fpr,tpr,label=\"SVM, AUC=\"+str(auc))\n",
    "\n",
    "\n",
    "#fit KNN model and plot ROC curve\n",
    "y_pred = knn_clf_tuned.predict_proba(test_vectors)[:, 1]\n",
    "fpr, tpr, _ = roc_curve(y_test, y_pred)\n",
    "auc = round(roc_auc_score(y_test, y_pred), 4)\n",
    "plt.plot(fpr,tpr,label=\"KNN, AUC=\"+str(auc))\n",
    "\n",
    "#fit Naive Bayes model and plot ROC curve\n",
    "y_pred = nb_clf_tuned.predict_proba(test_vectors)[:, 1]\n",
    "fpr, tpr, _ = roc_curve(y_test, y_pred)\n",
    "auc = round(roc_auc_score(y_test, y_pred), 4)\n",
    "plt.plot(fpr,tpr,label=\"Naive Bayes, AUC=\"+str(auc))\n",
    "\n",
    "#fit Xgboost model and plot ROC curve\n",
    "y_pred = xg_clf_tuned.predict_proba(test_vectors)[:, 1]\n",
    "fpr, tpr, _ = roc_curve(y_test, y_pred)\n",
    "auc = round(roc_auc_score(y_test, y_pred), 4)\n",
    "plt.plot(fpr,tpr,label=\"Xgboost, AUC=\"+str(auc))\n",
    "\n",
    "#add legend\n",
    "plt.legend()\n",
    "fig.savefig(\"outputs//fakenewsnet_ml_word2vec//ROC_AUC.png\")"
   ]
  },
  {
   "cell_type": "code",
   "execution_count": null,
   "id": "04aeb6e4",
   "metadata": {},
   "outputs": [],
   "source": []
  },
  {
   "cell_type": "markdown",
   "id": "07621823",
   "metadata": {},
   "source": [
    "## Feature Extraction using Pretrained Glove"
   ]
  },
  {
   "cell_type": "markdown",
   "id": "6123d458",
   "metadata": {},
   "source": [
    "##### Download the pretrained zip file"
   ]
  },
  {
   "cell_type": "code",
   "execution_count": null,
   "id": "d4d97ee7",
   "metadata": {},
   "outputs": [],
   "source": [
    "!wget http://nlp.stanford.edu/data/glove.6B.zip"
   ]
  },
  {
   "cell_type": "markdown",
   "id": "cebd1bb1",
   "metadata": {},
   "source": [
    "#### Load the downloaded the 300 dimension Glove pretrained model \"glove.6B.300d.txt\" in a path and convert to word2vec format\","
   ]
  },
  {
   "cell_type": "code",
   "execution_count": 74,
   "id": "73942e7b",
   "metadata": {},
   "outputs": [],
   "source": [
    "from gensim.models import KeyedVectors\n",
    "from gensim.scripts.glove2word2vec import glove2word2vec"
   ]
  },
  {
   "cell_type": "code",
   "execution_count": 75,
   "id": "bf0281e3",
   "metadata": {},
   "outputs": [
    {
     "data": {
      "text/plain": [
       "(400000, 300)"
      ]
     },
     "execution_count": 75,
     "metadata": {},
     "output_type": "execute_result"
    }
   ],
   "source": [
    "# Load 300 dimension Glove pretrained model \"glove.6B.300d.txt\" and convert to word2vec format\",\n",
    "path_to_model = '//gpfs//home//psc21zcu//FakeNews_Detection/Dissertation_Work//Embeddings//glove.6B.300d.txt'\n",
    "output_file = '//gpfs//home//psc21zcu//FakeNews_Detection/Dissertation_Work//Embeddings///gensim_glove.6B.300d.txt'\n",
    "glove2word2vec(path_to_model, output_file)"
   ]
  },
  {
   "cell_type": "markdown",
   "id": "5f785093",
   "metadata": {},
   "source": [
    "#### Then load the converted glove model "
   ]
  },
  {
   "cell_type": "code",
   "execution_count": 77,
   "id": "d98342a8",
   "metadata": {},
   "outputs": [
    {
     "name": "stdout",
     "output_type": "stream",
     "text": [
      "CPU times: user 44.4 s, sys: 582 ms, total: 45 s\n",
      "Wall time: 45.1 s\n",
      "done loading Glove Pretrained Embedding\n"
     ]
    }
   ],
   "source": [
    "%time glove_model = KeyedVectors.load_word2vec_format(output_file, binary=False)\n",
    "print('done loading Glove Pretrained Embedding')"
   ]
  },
  {
   "cell_type": "markdown",
   "id": "e5fb347b",
   "metadata": {},
   "source": [
    "### Function to create a feature vector by averaging all embeddings for the given sentence "
   ]
  },
  {
   "cell_type": "code",
   "execution_count": 78,
   "id": "4d227468",
   "metadata": {},
   "outputs": [
    {
     "name": "stdout",
     "output_type": "stream",
     "text": [
      "16220\n"
     ]
    }
   ],
   "source": [
    "# Creating a feature vector by averaging all embeddings for all sentences\n",
    "def glove_embedding_feats(list_of_lists):\n",
    "    DIMENSION = 300\n",
    "    zero_vector = np.zeros(DIMENSION)\n",
    "    feats = []\n",
    "    for tokens in list_of_lists:\n",
    "        feat_for_this =  np.zeros(DIMENSION)\n",
    "        count_for_this = 0 + 1e-5 # to avoid divide-by-zero \n",
    "        for token in tokens:\n",
    "            if token in glove_model:\n",
    "                feat_for_this += glove_model[token]\n",
    "                count_for_this +=1\n",
    "        if(count_for_this!=0):\n",
    "            feats.append(feat_for_this/count_for_this) \n",
    "        else:\n",
    "            feats.append(zero_vector)\n",
    "    return feats\n"
   ]
  },
  {
   "cell_type": "markdown",
   "id": "010357b7",
   "metadata": {},
   "source": [
    "#### Then fit the training data and transform both training and test data"
   ]
  },
  {
   "cell_type": "code",
   "execution_count": 79,
   "id": "eb33d197",
   "metadata": {},
   "outputs": [
    {
     "name": "stdout",
     "output_type": "stream",
     "text": [
      "4055\n"
     ]
    }
   ],
   "source": [
    "glove_train_vectors = glove_embedding_feats(X_train)\n",
    "glove_test_vectors = glove_embedding_feats(X_test)"
   ]
  },
  {
   "cell_type": "markdown",
   "id": "8c978c7d",
   "metadata": {},
   "source": [
    "*** \n",
    "## Model Training \n",
    "\n",
    "### RandomForest"
   ]
  },
  {
   "cell_type": "markdown",
   "id": "5cc85bf5",
   "metadata": {},
   "source": [
    "**Initialise the model and  fit it using train data and measure the accuracy metrics**"
   ]
  },
  {
   "cell_type": "code",
   "execution_count": 80,
   "id": "a1f4cc0a",
   "metadata": {},
   "outputs": [],
   "source": [
    "rf = RandomForestClassifier(random_state=0)\n",
    "rf_model = rf.fit(glove_train_vectors, y_train.values.ravel())"
   ]
  },
  {
   "cell_type": "code",
   "execution_count": 81,
   "id": "bba6fd6e",
   "metadata": {},
   "outputs": [
    {
     "name": "stdout",
     "output_type": "stream",
     "text": [
      "Accuracy score : 0.8305795314426634\n",
      "Confusion matrix : \n",
      " [[3001   47]\n",
      " [ 640  367]]\n",
      "Classification Report\n",
      "              precision    recall  f1-score   support\n",
      "\n",
      "           0       0.82      0.98      0.90      3048\n",
      "           1       0.89      0.36      0.52      1007\n",
      "\n",
      "    accuracy                           0.83      4055\n",
      "   macro avg       0.86      0.67      0.71      4055\n",
      "weighted avg       0.84      0.83      0.80      4055\n",
      "\n",
      "Precision : 0.8864734299516909\n",
      "Recall : 0.3644488579940417\n"
     ]
    }
   ],
   "source": [
    "# Use the trained model to make predictions on the test data\n",
    "y_pred = rf_model.predict(glove_test_vectors)\n",
    "print(\"Accuracy score : {}\".format(accuracy_score(y_test, y_pred)))\n",
    "print(\"Confusion matrix : \\n {}\".format(confusion_matrix(y_test, y_pred)))\n",
    "print(\"Classification Report\")\n",
    "print(classification_report(y_test, y_pred))\n",
    "\n",
    "precision = precision_score(y_test, y_pred)\n",
    "print(\"Precision : {}\".format(precision))\n",
    "recall = recall_score(y_test, y_pred)\n",
    "print(\"Recall : {}\".format(recall))"
   ]
  },
  {
   "cell_type": "markdown",
   "id": "2a0ba299",
   "metadata": {},
   "source": [
    "### Hyperparameter Tuning \n",
    "\n",
    "Define the list of parameters which needed to do hyperparameter tuning"
   ]
  },
  {
   "cell_type": "code",
   "execution_count": 103,
   "id": "fdc79425",
   "metadata": {},
   "outputs": [
    {
     "name": "stdout",
     "output_type": "stream",
     "text": [
      "{'bootstrap': [True, False],\n",
      " 'max_depth': [10, 20, 30, 40, 50, 60, 70, 80, 90, 100, 110],\n",
      " 'max_features': ['auto', 'sqrt'],\n",
      " 'min_samples_leaf': [1, 2, 4],\n",
      " 'min_samples_split': [2, 5, 10],\n",
      " 'n_estimators': [100, 200, 300, 400, 500, 600, 700, 800, 900, 1000]}\n"
     ]
    }
   ],
   "source": [
    "# Number of trees in random forest\n",
    "n_estimators =[int(x) for x in np.linspace(start = 100, stop = 1000, num = 10)]\n",
    "# Number of features to consider at every split\n",
    "max_features = ['auto', 'sqrt']\n",
    "# Maximum number of levels in tree\n",
    "max_depth =[int(x) for x in np.linspace(10, 110, num = 11)]\n",
    "#Minimum number of samples required to split a node\n",
    "min_samples_split = [2, 5, 10]\n",
    "# Minimum number of samples required at each leaf node\n",
    "min_samples_leaf = [1, 2, 4]\n",
    "# Method of selecting samples for training each tree\n",
    "bootstrap = [True, False]\n",
    "\n",
    "# Create the random grid\n",
    "random_grid = {\n",
    "    'n_estimators': n_estimators,\n",
    "               'max_features': max_features,\n",
    "               'max_depth': max_depth,\n",
    "               'min_samples_split': min_samples_split,\n",
    "               'min_samples_leaf': min_samples_leaf,\n",
    "               'bootstrap': bootstrap\n",
    "              }\n",
    "pprint(random_grid)\n",
    "\n"
   ]
  },
  {
   "cell_type": "markdown",
   "id": "c2643d05",
   "metadata": {},
   "source": [
    "**Initialise the model and fit using train data with hyperparameter tuning**"
   ]
  },
  {
   "cell_type": "code",
   "execution_count": 104,
   "id": "03645184",
   "metadata": {},
   "outputs": [],
   "source": [
    "rf_clf1=RandomForestClassifier(random_state=0)"
   ]
  },
  {
   "cell_type": "code",
   "execution_count": 105,
   "id": "1922217b",
   "metadata": {
    "collapsed": true
   },
   "outputs": [
    {
     "name": "stdout",
     "output_type": "stream",
     "text": [
      "Fitting 3 folds for each of 100 candidates, totalling 300 fits\n",
      "[CV] END bootstrap=False, max_depth=50, max_features=sqrt, min_samples_leaf=2, min_samples_split=2, n_estimators=300; total time= 1.4min\n",
      "[CV] END bootstrap=True, max_depth=110, max_features=auto, min_samples_leaf=4, min_samples_split=5, n_estimators=500; total time= 1.4min\n",
      "[CV] END bootstrap=False, max_depth=50, max_features=sqrt, min_samples_leaf=2, min_samples_split=2, n_estimators=100; total time=  29.5s\n",
      "[CV] END bootstrap=False, max_depth=30, max_features=sqrt, min_samples_leaf=4, min_samples_split=5, n_estimators=100; total time=  27.2s\n",
      "[CV] END bootstrap=False, max_depth=110, max_features=auto, min_samples_leaf=1, min_samples_split=5, n_estimators=100; total time=  29.7s\n",
      "[CV] END bootstrap=True, max_depth=10, max_features=auto, min_samples_leaf=4, min_samples_split=5, n_estimators=100; total time=  14.5s\n",
      "[CV] END bootstrap=False, max_depth=110, max_features=auto, min_samples_leaf=1, min_samples_split=5, n_estimators=1000; total time= 4.9min\n",
      "[CV] END bootstrap=True, max_depth=30, max_features=sqrt, min_samples_leaf=1, min_samples_split=2, n_estimators=800; total time= 2.4min\n",
      "[CV] END bootstrap=False, max_depth=80, max_features=auto, min_samples_leaf=1, min_samples_split=10, n_estimators=900; total time= 4.4min\n",
      "[CV] END bootstrap=False, max_depth=80, max_features=auto, min_samples_leaf=2, min_samples_split=5, n_estimators=900; total time= 4.3min\n",
      "[CV] END bootstrap=True, max_depth=30, max_features=auto, min_samples_leaf=4, min_samples_split=5, n_estimators=300; total time=  47.5s\n",
      "[CV] END bootstrap=True, max_depth=30, max_features=sqrt, min_samples_leaf=1, min_samples_split=2, n_estimators=800; total time= 2.5min\n",
      "[CV] END bootstrap=True, max_depth=50, max_features=auto, min_samples_leaf=1, min_samples_split=2, n_estimators=100; total time=  13.9s\n",
      "[CV] END bootstrap=False, max_depth=40, max_features=sqrt, min_samples_leaf=2, min_samples_split=5, n_estimators=100; total time=  29.5s\n",
      "[CV] END bootstrap=False, max_depth=70, max_features=auto, min_samples_leaf=2, min_samples_split=2, n_estimators=600; total time= 2.7min\n",
      "[CV] END bootstrap=False, max_depth=20, max_features=sqrt, min_samples_leaf=1, min_samples_split=5, n_estimators=900; total time= 4.4min\n",
      "[CV] END bootstrap=True, max_depth=90, max_features=sqrt, min_samples_leaf=1, min_samples_split=2, n_estimators=300; total time=  54.8s\n",
      "[CV] END bootstrap=True, max_depth=30, max_features=auto, min_samples_leaf=4, min_samples_split=5, n_estimators=300; total time=  47.9s\n",
      "[CV] END bootstrap=True, max_depth=30, max_features=sqrt, min_samples_leaf=1, min_samples_split=2, n_estimators=800; total time= 2.5min\n",
      "[CV] END bootstrap=True, max_depth=60, max_features=sqrt, min_samples_leaf=2, min_samples_split=2, n_estimators=600; total time= 1.7min\n",
      "[CV] END bootstrap=False, max_depth=30, max_features=auto, min_samples_leaf=4, min_samples_split=2, n_estimators=100; total time=  27.8s\n",
      "[CV] END bootstrap=False, max_depth=20, max_features=auto, min_samples_leaf=1, min_samples_split=5, n_estimators=900; total time= 4.4min\n",
      "[CV] END bootstrap=False, max_depth=100, max_features=sqrt, min_samples_leaf=1, min_samples_split=5, n_estimators=100; total time=  29.4s\n",
      "[CV] END bootstrap=False, max_depth=30, max_features=auto, min_samples_leaf=4, min_samples_split=2, n_estimators=200; total time=  53.3s\n",
      "[CV] END bootstrap=True, max_depth=90, max_features=sqrt, min_samples_leaf=1, min_samples_split=2, n_estimators=300; total time=  52.3s\n",
      "[CV] END bootstrap=False, max_depth=10, max_features=auto, min_samples_leaf=1, min_samples_split=5, n_estimators=1000; total time= 3.5min\n",
      "[CV] END bootstrap=True, max_depth=60, max_features=sqrt, min_samples_leaf=2, min_samples_split=2, n_estimators=600; total time= 1.6min\n",
      "[CV] END bootstrap=True, max_depth=110, max_features=auto, min_samples_leaf=4, min_samples_split=5, n_estimators=500; total time= 1.4min\n",
      "[CV] END bootstrap=False, max_depth=50, max_features=sqrt, min_samples_leaf=2, min_samples_split=2, n_estimators=100; total time=  30.0s\n",
      "[CV] END bootstrap=False, max_depth=30, max_features=sqrt, min_samples_leaf=4, min_samples_split=5, n_estimators=100; total time=  28.1s\n",
      "[CV] END bootstrap=False, max_depth=110, max_features=auto, min_samples_leaf=1, min_samples_split=5, n_estimators=100; total time=  29.6s\n",
      "[CV] END bootstrap=True, max_depth=50, max_features=auto, min_samples_leaf=1, min_samples_split=10, n_estimators=500; total time= 1.5min\n",
      "[CV] END bootstrap=False, max_depth=30, max_features=sqrt, min_samples_leaf=2, min_samples_split=5, n_estimators=400; total time= 1.9min\n",
      "[CV] END bootstrap=True, max_depth=110, max_features=auto, min_samples_leaf=1, min_samples_split=10, n_estimators=300; total time=  55.3s\n",
      "[CV] END bootstrap=False, max_depth=10, max_features=auto, min_samples_leaf=1, min_samples_split=5, n_estimators=1000; total time= 3.6min\n",
      "[CV] END bootstrap=False, max_depth=80, max_features=auto, min_samples_leaf=1, min_samples_split=10, n_estimators=900; total time= 4.3min\n",
      "[CV] END bootstrap=True, max_depth=50, max_features=auto, min_samples_leaf=1, min_samples_split=10, n_estimators=500; total time= 1.5min\n",
      "[CV] END bootstrap=False, max_depth=30, max_features=sqrt, min_samples_leaf=2, min_samples_split=5, n_estimators=400; total time= 1.9min\n",
      "[CV] END bootstrap=True, max_depth=110, max_features=auto, min_samples_leaf=1, min_samples_split=10, n_estimators=300; total time=  55.8s\n",
      "[CV] END bootstrap=False, max_depth=10, max_features=auto, min_samples_leaf=1, min_samples_split=5, n_estimators=1000; total time= 3.7min\n",
      "[CV] END bootstrap=True, max_depth=110, max_features=auto, min_samples_leaf=2, min_samples_split=5, n_estimators=700; total time= 2.0min\n",
      "[CV] END bootstrap=False, max_depth=110, max_features=sqrt, min_samples_leaf=1, min_samples_split=2, n_estimators=100; total time=  29.8s\n",
      "[CV] END bootstrap=False, max_depth=80, max_features=sqrt, min_samples_leaf=2, min_samples_split=5, n_estimators=800; total time= 3.8min\n",
      "[CV] END bootstrap=True, max_depth=60, max_features=auto, min_samples_leaf=1, min_samples_split=10, n_estimators=1000; total time= 3.1min\n",
      "[CV] END bootstrap=True, max_depth=110, max_features=sqrt, min_samples_leaf=4, min_samples_split=2, n_estimators=400; total time= 1.1min\n",
      "[CV] END bootstrap=True, max_depth=100, max_features=sqrt, min_samples_leaf=4, min_samples_split=10, n_estimators=900; total time= 2.4min\n",
      "[CV] END bootstrap=True, max_depth=10, max_features=sqrt, min_samples_leaf=2, min_samples_split=10, n_estimators=1000; total time= 2.0min\n",
      "[CV] END bootstrap=False, max_depth=110, max_features=sqrt, min_samples_leaf=1, min_samples_split=2, n_estimators=100; total time=  29.8s\n",
      "[CV] END bootstrap=False, max_depth=80, max_features=sqrt, min_samples_leaf=2, min_samples_split=5, n_estimators=800; total time= 3.8min\n",
      "[CV] END bootstrap=True, max_depth=60, max_features=auto, min_samples_leaf=1, min_samples_split=10, n_estimators=1000; total time= 3.0min\n",
      "[CV] END bootstrap=True, max_depth=110, max_features=sqrt, min_samples_leaf=4, min_samples_split=2, n_estimators=400; total time= 1.1min\n",
      "[CV] END bootstrap=True, max_depth=100, max_features=sqrt, min_samples_leaf=4, min_samples_split=10, n_estimators=900; total time= 2.4min\n",
      "[CV] END bootstrap=False, max_depth=70, max_features=sqrt, min_samples_leaf=1, min_samples_split=2, n_estimators=400; total time= 1.9min\n",
      "[CV] END bootstrap=False, max_depth=110, max_features=sqrt, min_samples_leaf=1, min_samples_split=2, n_estimators=100; total time=  30.7s\n",
      "[CV] END bootstrap=False, max_depth=80, max_features=sqrt, min_samples_leaf=2, min_samples_split=5, n_estimators=800; total time= 3.8min\n",
      "[CV] END bootstrap=True, max_depth=60, max_features=auto, min_samples_leaf=1, min_samples_split=10, n_estimators=1000; total time= 3.1min\n",
      "[CV] END bootstrap=True, max_depth=110, max_features=sqrt, min_samples_leaf=4, min_samples_split=2, n_estimators=400; total time= 1.1min\n",
      "[CV] END bootstrap=True, max_depth=100, max_features=sqrt, min_samples_leaf=4, min_samples_split=10, n_estimators=900; total time= 2.4min\n",
      "[CV] END bootstrap=True, max_depth=110, max_features=auto, min_samples_leaf=2, min_samples_split=5, n_estimators=700; total time= 1.9min\n",
      "[CV] END bootstrap=False, max_depth=90, max_features=sqrt, min_samples_leaf=2, min_samples_split=5, n_estimators=800; total time= 3.8min\n",
      "[CV] END bootstrap=False, max_depth=90, max_features=auto, min_samples_leaf=1, min_samples_split=5, n_estimators=1000; total time= 4.9min\n",
      "[CV] END bootstrap=False, max_depth=70, max_features=auto, min_samples_leaf=2, min_samples_split=2, n_estimators=500; total time= 2.3min\n"
     ]
    },
    {
     "name": "stdout",
     "output_type": "stream",
     "text": [
      "[CV] END bootstrap=True, max_depth=10, max_features=sqrt, min_samples_leaf=2, min_samples_split=10, n_estimators=1000; total time= 2.0min\n",
      "[CV] END bootstrap=False, max_depth=90, max_features=sqrt, min_samples_leaf=2, min_samples_split=5, n_estimators=800; total time= 3.8min\n",
      "[CV] END bootstrap=False, max_depth=90, max_features=auto, min_samples_leaf=1, min_samples_split=5, n_estimators=1000; total time= 4.9min\n",
      "[CV] END bootstrap=False, max_depth=70, max_features=auto, min_samples_leaf=2, min_samples_split=2, n_estimators=500; total time= 2.3min\n",
      "[CV] END bootstrap=False, max_depth=90, max_features=sqrt, min_samples_leaf=1, min_samples_split=2, n_estimators=200; total time=  57.9s\n",
      "[CV] END bootstrap=False, max_depth=30, max_features=sqrt, min_samples_leaf=4, min_samples_split=5, n_estimators=700; total time= 3.2min\n",
      "[CV] END bootstrap=True, max_depth=10, max_features=auto, min_samples_leaf=4, min_samples_split=5, n_estimators=100; total time=  12.2s\n",
      "[CV] END bootstrap=True, max_depth=60, max_features=auto, min_samples_leaf=2, min_samples_split=2, n_estimators=300; total time=  48.6s\n",
      "[CV] END bootstrap=True, max_depth=100, max_features=sqrt, min_samples_leaf=4, min_samples_split=2, n_estimators=800; total time= 2.2min\n",
      "[CV] END bootstrap=False, max_depth=80, max_features=sqrt, min_samples_leaf=2, min_samples_split=2, n_estimators=100; total time=  28.7s\n",
      "[CV] END bootstrap=False, max_depth=100, max_features=sqrt, min_samples_leaf=4, min_samples_split=5, n_estimators=700; total time= 3.1min\n",
      "[CV] END bootstrap=True, max_depth=30, max_features=auto, min_samples_leaf=2, min_samples_split=10, n_estimators=100; total time=  17.3s\n",
      "[CV] END bootstrap=True, max_depth=10, max_features=sqrt, min_samples_leaf=4, min_samples_split=5, n_estimators=700; total time= 1.4min\n",
      "[CV] END bootstrap=False, max_depth=90, max_features=sqrt, min_samples_leaf=4, min_samples_split=5, n_estimators=500; total time= 2.2min\n",
      "[CV] END bootstrap=True, max_depth=20, max_features=auto, min_samples_leaf=2, min_samples_split=2, n_estimators=200; total time=  33.7s\n",
      "[CV] END bootstrap=True, max_depth=10, max_features=auto, min_samples_leaf=1, min_samples_split=5, n_estimators=500; total time= 1.1min\n",
      "[CV] END bootstrap=True, max_depth=50, max_features=sqrt, min_samples_leaf=1, min_samples_split=2, n_estimators=900; total time= 2.7min\n",
      "[CV] END bootstrap=True, max_depth=60, max_features=sqrt, min_samples_leaf=1, min_samples_split=2, n_estimators=1000; total time= 3.0min\n",
      "[CV] END bootstrap=True, max_depth=50, max_features=auto, min_samples_leaf=2, min_samples_split=2, n_estimators=600; total time= 1.7min\n",
      "[CV] END bootstrap=True, max_depth=10, max_features=sqrt, min_samples_leaf=4, min_samples_split=5, n_estimators=700; total time= 1.4min\n",
      "[CV] END bootstrap=False, max_depth=80, max_features=auto, min_samples_leaf=1, min_samples_split=10, n_estimators=900; total time= 4.3min\n",
      "[CV] END bootstrap=True, max_depth=10, max_features=auto, min_samples_leaf=4, min_samples_split=5, n_estimators=100; total time=  13.4s\n",
      "[CV] END bootstrap=True, max_depth=60, max_features=auto, min_samples_leaf=2, min_samples_split=2, n_estimators=300; total time=  55.4s\n",
      "[CV] END bootstrap=False, max_depth=90, max_features=auto, min_samples_leaf=1, min_samples_split=5, n_estimators=1000; total time= 5.0min\n",
      "[CV] END bootstrap=False, max_depth=70, max_features=auto, min_samples_leaf=2, min_samples_split=2, n_estimators=500; total time= 2.4min\n",
      "[CV] END bootstrap=False, max_depth=90, max_features=sqrt, min_samples_leaf=4, min_samples_split=5, n_estimators=500; total time= 2.2min\n",
      "[CV] END bootstrap=True, max_depth=20, max_features=auto, min_samples_leaf=2, min_samples_split=2, n_estimators=200; total time=  37.1s\n",
      "[CV] END bootstrap=False, max_depth=50, max_features=sqrt, min_samples_leaf=2, min_samples_split=2, n_estimators=100; total time=  28.7s\n",
      "[CV] END bootstrap=False, max_depth=30, max_features=sqrt, min_samples_leaf=4, min_samples_split=5, n_estimators=100; total time=  28.1s\n",
      "[CV] END bootstrap=True, max_depth=60, max_features=auto, min_samples_leaf=1, min_samples_split=5, n_estimators=300; total time=  56.1s\n",
      "[CV] END bootstrap=False, max_depth=110, max_features=auto, min_samples_leaf=1, min_samples_split=10, n_estimators=800; total time= 4.0min\n",
      "[CV] END bootstrap=True, max_depth=70, max_features=auto, min_samples_leaf=2, min_samples_split=5, n_estimators=900; total time= 2.6min\n",
      "[CV] END bootstrap=True, max_depth=10, max_features=sqrt, min_samples_leaf=4, min_samples_split=5, n_estimators=700; total time= 1.4min\n",
      "[CV] END bootstrap=False, max_depth=90, max_features=auto, min_samples_leaf=4, min_samples_split=2, n_estimators=1000; total time= 4.4min\n",
      "[CV] END bootstrap=True, max_depth=40, max_features=auto, min_samples_leaf=1, min_samples_split=10, n_estimators=900; total time= 2.9min\n",
      "[CV] END bootstrap=False, max_depth=90, max_features=sqrt, min_samples_leaf=4, min_samples_split=10, n_estimators=900; total time= 3.9min\n",
      "[CV] END bootstrap=True, max_depth=30, max_features=auto, min_samples_leaf=2, min_samples_split=10, n_estimators=100; total time=  17.4s\n",
      "[CV] END bootstrap=False, max_depth=100, max_features=auto, min_samples_leaf=1, min_samples_split=10, n_estimators=300; total time= 1.3min\n",
      "[CV] END bootstrap=False, max_depth=90, max_features=sqrt, min_samples_leaf=1, min_samples_split=2, n_estimators=200; total time=  58.3s\n",
      "[CV] END bootstrap=False, max_depth=30, max_features=sqrt, min_samples_leaf=4, min_samples_split=5, n_estimators=700; total time= 3.2min\n",
      "[CV] END bootstrap=True, max_depth=50, max_features=sqrt, min_samples_leaf=1, min_samples_split=5, n_estimators=1000; total time= 3.1min\n",
      "[CV] END bootstrap=False, max_depth=90, max_features=sqrt, min_samples_leaf=4, min_samples_split=10, n_estimators=900; total time= 4.0min\n",
      "[CV] END bootstrap=False, max_depth=100, max_features=auto, min_samples_leaf=1, min_samples_split=10, n_estimators=300; total time= 1.4min\n",
      "[CV] END bootstrap=False, max_depth=90, max_features=sqrt, min_samples_leaf=4, min_samples_split=5, n_estimators=500; total time= 2.2min\n",
      "[CV] END bootstrap=True, max_depth=100, max_features=sqrt, min_samples_leaf=2, min_samples_split=2, n_estimators=600; total time= 1.7min\n",
      "[CV] END bootstrap=True, max_depth=60, max_features=auto, min_samples_leaf=1, min_samples_split=5, n_estimators=300; total time=  54.8s\n",
      "[CV] END bootstrap=False, max_depth=110, max_features=auto, min_samples_leaf=1, min_samples_split=10, n_estimators=800; total time= 4.0min\n",
      "[CV] END bootstrap=True, max_depth=70, max_features=auto, min_samples_leaf=2, min_samples_split=5, n_estimators=900; total time= 2.7min\n",
      "[CV] END bootstrap=False, max_depth=100, max_features=auto, min_samples_leaf=1, min_samples_split=10, n_estimators=300; total time= 1.4min\n",
      "[CV] END bootstrap=False, max_depth=90, max_features=auto, min_samples_leaf=2, min_samples_split=10, n_estimators=1000; total time= 4.6min\n",
      "[CV] END bootstrap=True, max_depth=10, max_features=auto, min_samples_leaf=1, min_samples_split=2, n_estimators=900; total time= 2.0min\n",
      "[CV] END bootstrap=True, max_depth=60, max_features=sqrt, min_samples_leaf=1, min_samples_split=2, n_estimators=1000; total time= 3.0min\n",
      "[CV] END bootstrap=False, max_depth=20, max_features=sqrt, min_samples_leaf=2, min_samples_split=10, n_estimators=800; total time= 3.4min\n",
      "[CV] END bootstrap=True, max_depth=20, max_features=sqrt, min_samples_leaf=2, min_samples_split=10, n_estimators=600; total time= 1.6min\n",
      "[CV] END bootstrap=True, max_depth=70, max_features=sqrt, min_samples_leaf=4, min_samples_split=2, n_estimators=200; total time=  33.0s\n",
      "[CV] END bootstrap=True, max_depth=90, max_features=sqrt, min_samples_leaf=4, min_samples_split=10, n_estimators=100; total time=  17.0s\n",
      "[CV] END bootstrap=True, max_depth=100, max_features=auto, min_samples_leaf=1, min_samples_split=10, n_estimators=200; total time=  35.0s\n",
      "[CV] END bootstrap=True, max_depth=110, max_features=sqrt, min_samples_leaf=1, min_samples_split=10, n_estimators=300; total time=  54.1s\n",
      "[CV] END bootstrap=False, max_depth=110, max_features=auto, min_samples_leaf=1, min_samples_split=5, n_estimators=100; total time=  29.6s\n",
      "[CV] END bootstrap=True, max_depth=50, max_features=sqrt, min_samples_leaf=1, min_samples_split=5, n_estimators=1000; total time= 3.0min\n",
      "[CV] END bootstrap=False, max_depth=10, max_features=auto, min_samples_leaf=2, min_samples_split=2, n_estimators=1000; total time= 3.5min\n",
      "[CV] END bootstrap=True, max_depth=80, max_features=auto, min_samples_leaf=4, min_samples_split=5, n_estimators=900; total time= 2.2min\n"
     ]
    },
    {
     "name": "stdout",
     "output_type": "stream",
     "text": [
      "[CV] END bootstrap=False, max_depth=50, max_features=sqrt, min_samples_leaf=2, min_samples_split=2, n_estimators=300; total time= 1.4min\n",
      "[CV] END bootstrap=True, max_depth=70, max_features=sqrt, min_samples_leaf=1, min_samples_split=5, n_estimators=1000; total time= 3.1min\n",
      "[CV] END bootstrap=False, max_depth=80, max_features=auto, min_samples_leaf=2, min_samples_split=5, n_estimators=900; total time= 4.2min\n",
      "[CV] END bootstrap=False, max_depth=10, max_features=auto, min_samples_leaf=2, min_samples_split=2, n_estimators=600; total time= 2.1min\n",
      "[CV] END bootstrap=True, max_depth=80, max_features=auto, min_samples_leaf=4, min_samples_split=5, n_estimators=900; total time= 2.3min\n",
      "[CV] END bootstrap=True, max_depth=20, max_features=sqrt, min_samples_leaf=4, min_samples_split=10, n_estimators=500; total time= 1.4min\n",
      "[CV] END bootstrap=True, max_depth=70, max_features=sqrt, min_samples_leaf=4, min_samples_split=2, n_estimators=200; total time=  33.7s\n",
      "[CV] END bootstrap=True, max_depth=90, max_features=sqrt, min_samples_leaf=4, min_samples_split=10, n_estimators=100; total time=  15.2s\n",
      "[CV] END bootstrap=True, max_depth=100, max_features=auto, min_samples_leaf=1, min_samples_split=10, n_estimators=200; total time=  36.0s\n",
      "[CV] END bootstrap=True, max_depth=110, max_features=sqrt, min_samples_leaf=1, min_samples_split=10, n_estimators=300; total time=  56.6s\n",
      "[CV] END bootstrap=True, max_depth=50, max_features=sqrt, min_samples_leaf=1, min_samples_split=2, n_estimators=900; total time= 2.7min\n",
      "[CV] END bootstrap=True, max_depth=100, max_features=sqrt, min_samples_leaf=2, min_samples_split=10, n_estimators=600; total time= 1.8min\n",
      "[CV] END bootstrap=True, max_depth=110, max_features=auto, min_samples_leaf=1, min_samples_split=2, n_estimators=100; total time=  17.5s\n",
      "[CV] END bootstrap=False, max_depth=50, max_features=auto, min_samples_leaf=4, min_samples_split=10, n_estimators=1000; total time= 4.4min\n",
      "[CV] END bootstrap=False, max_depth=50, max_features=sqrt, min_samples_leaf=2, min_samples_split=2, n_estimators=300; total time= 1.4min\n",
      "[CV] END bootstrap=True, max_depth=70, max_features=sqrt, min_samples_leaf=1, min_samples_split=5, n_estimators=1000; total time= 3.1min\n",
      "[CV] END bootstrap=False, max_depth=80, max_features=auto, min_samples_leaf=2, min_samples_split=5, n_estimators=900; total time= 4.2min\n",
      "[CV] END bootstrap=False, max_depth=10, max_features=auto, min_samples_leaf=2, min_samples_split=2, n_estimators=600; total time= 2.1min\n",
      "[CV] END bootstrap=True, max_depth=80, max_features=auto, min_samples_leaf=4, min_samples_split=5, n_estimators=900; total time= 2.3min\n",
      "[CV] END bootstrap=True, max_depth=20, max_features=sqrt, min_samples_leaf=2, min_samples_split=10, n_estimators=600; total time= 1.7min\n",
      "[CV] END bootstrap=True, max_depth=70, max_features=sqrt, min_samples_leaf=4, min_samples_split=2, n_estimators=200; total time=  33.1s\n",
      "[CV] END bootstrap=True, max_depth=90, max_features=sqrt, min_samples_leaf=4, min_samples_split=10, n_estimators=100; total time=  16.6s\n",
      "[CV] END bootstrap=True, max_depth=100, max_features=auto, min_samples_leaf=1, min_samples_split=10, n_estimators=200; total time=  36.4s\n",
      "[CV] END bootstrap=True, max_depth=110, max_features=sqrt, min_samples_leaf=1, min_samples_split=10, n_estimators=300; total time=  55.8s\n",
      "[CV] END bootstrap=True, max_depth=20, max_features=auto, min_samples_leaf=4, min_samples_split=2, n_estimators=100; total time=  17.2s\n",
      "[CV] END bootstrap=True, max_depth=50, max_features=sqrt, min_samples_leaf=4, min_samples_split=10, n_estimators=800; total time= 2.2min\n",
      "[CV] END bootstrap=False, max_depth=60, max_features=sqrt, min_samples_leaf=2, min_samples_split=10, n_estimators=700; total time= 3.3min\n",
      "[CV] END bootstrap=False, max_depth=20, max_features=sqrt, min_samples_leaf=2, min_samples_split=10, n_estimators=800; total time= 3.6min\n",
      "[CV] END bootstrap=True, max_depth=20, max_features=sqrt, min_samples_leaf=2, min_samples_split=10, n_estimators=600; total time= 1.6min\n",
      "[CV] END bootstrap=False, max_depth=30, max_features=auto, min_samples_leaf=4, min_samples_split=2, n_estimators=100; total time=  28.9s\n",
      "[CV] END bootstrap=False, max_depth=20, max_features=auto, min_samples_leaf=1, min_samples_split=5, n_estimators=900; total time= 4.3min\n",
      "[CV] END bootstrap=False, max_depth=100, max_features=sqrt, min_samples_leaf=1, min_samples_split=5, n_estimators=100; total time=  28.6s\n",
      "[CV] END bootstrap=True, max_depth=100, max_features=sqrt, min_samples_leaf=2, min_samples_split=10, n_estimators=600; total time= 1.8min\n",
      "[CV] END bootstrap=True, max_depth=110, max_features=auto, min_samples_leaf=1, min_samples_split=2, n_estimators=100; total time=  18.8s\n",
      "[CV] END bootstrap=False, max_depth=50, max_features=auto, min_samples_leaf=4, min_samples_split=10, n_estimators=1000; total time= 4.4min\n",
      "[CV] END bootstrap=True, max_depth=20, max_features=sqrt, min_samples_leaf=4, min_samples_split=10, n_estimators=500; total time= 1.3min\n",
      "[CV] END bootstrap=False, max_depth=30, max_features=auto, min_samples_leaf=4, min_samples_split=2, n_estimators=100; total time=  25.9s\n",
      "[CV] END bootstrap=False, max_depth=20, max_features=auto, min_samples_leaf=1, min_samples_split=5, n_estimators=900; total time= 4.5min\n",
      "[CV] END bootstrap=False, max_depth=60, max_features=sqrt, min_samples_leaf=2, min_samples_split=10, n_estimators=700; total time= 3.3min\n",
      "[CV] END bootstrap=False, max_depth=20, max_features=sqrt, min_samples_leaf=2, min_samples_split=10, n_estimators=800; total time= 3.6min\n",
      "[CV] END bootstrap=False, max_depth=70, max_features=sqrt, min_samples_leaf=1, min_samples_split=2, n_estimators=400; total time= 1.9min\n",
      "[CV] END bootstrap=True, max_depth=20, max_features=sqrt, min_samples_leaf=1, min_samples_split=2, n_estimators=100; total time=  18.5s\n",
      "[CV] END bootstrap=True, max_depth=100, max_features=sqrt, min_samples_leaf=4, min_samples_split=10, n_estimators=600; total time= 1.6min\n",
      "[CV] END bootstrap=False, max_depth=10, max_features=auto, min_samples_leaf=1, min_samples_split=10, n_estimators=400; total time= 1.4min\n",
      "[CV] END bootstrap=True, max_depth=30, max_features=auto, min_samples_leaf=4, min_samples_split=5, n_estimators=900; total time= 2.4min\n",
      "[CV] END bootstrap=False, max_depth=90, max_features=sqrt, min_samples_leaf=4, min_samples_split=10, n_estimators=900; total time= 3.9min\n",
      "[CV] END bootstrap=True, max_depth=90, max_features=auto, min_samples_leaf=2, min_samples_split=10, n_estimators=100; total time=  15.7s\n",
      "[CV] END bootstrap=True, max_depth=40, max_features=sqrt, min_samples_leaf=1, min_samples_split=10, n_estimators=600; total time= 1.6min\n",
      "[CV] END bootstrap=False, max_depth=10, max_features=sqrt, min_samples_leaf=4, min_samples_split=10, n_estimators=1000; total time= 3.5min\n",
      "[CV] END bootstrap=False, max_depth=80, max_features=sqrt, min_samples_leaf=2, min_samples_split=2, n_estimators=200; total time=  57.0s\n",
      "[CV] END bootstrap=True, max_depth=10, max_features=auto, min_samples_leaf=1, min_samples_split=2, n_estimators=900; total time= 2.1min\n",
      "[CV] END bootstrap=True, max_depth=100, max_features=sqrt, min_samples_leaf=2, min_samples_split=10, n_estimators=600; total time= 1.8min\n",
      "[CV] END bootstrap=True, max_depth=110, max_features=auto, min_samples_leaf=1, min_samples_split=2, n_estimators=100; total time=  18.1s\n",
      "[CV] END bootstrap=False, max_depth=50, max_features=auto, min_samples_leaf=4, min_samples_split=10, n_estimators=1000; total time= 4.5min\n",
      "[CV] END bootstrap=True, max_depth=20, max_features=sqrt, min_samples_leaf=4, min_samples_split=10, n_estimators=500; total time= 1.3min\n",
      "[CV] END bootstrap=True, max_depth=110, max_features=auto, min_samples_leaf=4, min_samples_split=5, n_estimators=500; total time= 1.4min\n",
      "[CV] END bootstrap=True, max_depth=10, max_features=auto, min_samples_leaf=1, min_samples_split=5, n_estimators=500; total time= 1.2min\n",
      "[CV] END bootstrap=True, max_depth=50, max_features=sqrt, min_samples_leaf=1, min_samples_split=2, n_estimators=900; total time= 2.8min\n",
      "[CV] END bootstrap=False, max_depth=30, max_features=auto, min_samples_leaf=4, min_samples_split=2, n_estimators=200; total time=  54.3s\n",
      "[CV] END bootstrap=True, max_depth=110, max_features=auto, min_samples_leaf=1, min_samples_split=10, n_estimators=300; total time=  55.8s\n",
      "[CV] END bootstrap=False, max_depth=70, max_features=sqrt, min_samples_leaf=2, min_samples_split=5, n_estimators=600; total time= 2.8min\n",
      "[CV] END bootstrap=True, max_depth=90, max_features=auto, min_samples_leaf=2, min_samples_split=10, n_estimators=100; total time=  16.8s\n",
      "[CV] END bootstrap=True, max_depth=40, max_features=sqrt, min_samples_leaf=1, min_samples_split=10, n_estimators=600; total time= 1.6min\n"
     ]
    },
    {
     "name": "stdout",
     "output_type": "stream",
     "text": [
      "[CV] END bootstrap=True, max_depth=30, max_features=auto, min_samples_leaf=2, min_samples_split=5, n_estimators=900; total time= 2.5min\n",
      "[CV] END bootstrap=False, max_depth=70, max_features=auto, min_samples_leaf=4, min_samples_split=2, n_estimators=1000; total time= 4.6min\n",
      "[CV] END bootstrap=True, max_depth=50, max_features=auto, min_samples_leaf=4, min_samples_split=10, n_estimators=600; total time= 1.6min\n",
      "[CV] END bootstrap=False, max_depth=70, max_features=sqrt, min_samples_leaf=2, min_samples_split=5, n_estimators=600; total time= 2.8min\n",
      "[CV] END bootstrap=True, max_depth=90, max_features=auto, min_samples_leaf=2, min_samples_split=10, n_estimators=100; total time=  18.1s\n",
      "[CV] END bootstrap=True, max_depth=40, max_features=sqrt, min_samples_leaf=1, min_samples_split=10, n_estimators=600; total time= 1.6min\n",
      "[CV] END bootstrap=True, max_depth=50, max_features=auto, min_samples_leaf=1, min_samples_split=2, n_estimators=100; total time=  15.4s\n",
      "[CV] END bootstrap=False, max_depth=40, max_features=sqrt, min_samples_leaf=2, min_samples_split=5, n_estimators=100; total time=  28.3s\n",
      "[CV] END bootstrap=False, max_depth=70, max_features=auto, min_samples_leaf=2, min_samples_split=2, n_estimators=600; total time= 2.9min\n",
      "[CV] END bootstrap=False, max_depth=20, max_features=sqrt, min_samples_leaf=1, min_samples_split=5, n_estimators=900; total time= 4.3min\n",
      "[CV] END bootstrap=False, max_depth=50, max_features=sqrt, min_samples_leaf=2, min_samples_split=5, n_estimators=600; total time= 2.8min\n",
      "[CV] END bootstrap=False, max_depth=10, max_features=sqrt, min_samples_leaf=4, min_samples_split=5, n_estimators=900; total time= 2.8min\n",
      "[CV] END bootstrap=True, max_depth=50, max_features=sqrt, min_samples_leaf=2, min_samples_split=5, n_estimators=800; total time= 2.3min\n",
      "[CV] END bootstrap=True, max_depth=100, max_features=sqrt, min_samples_leaf=4, min_samples_split=10, n_estimators=600; total time= 1.7min\n",
      "[CV] END bootstrap=True, max_depth=20, max_features=auto, min_samples_leaf=4, min_samples_split=2, n_estimators=100; total time=  16.3s\n",
      "[CV] END bootstrap=True, max_depth=50, max_features=sqrt, min_samples_leaf=4, min_samples_split=10, n_estimators=800; total time= 2.2min\n",
      "[CV] END bootstrap=False, max_depth=60, max_features=sqrt, min_samples_leaf=2, min_samples_split=10, n_estimators=700; total time= 3.3min\n",
      "[CV] END bootstrap=True, max_depth=50, max_features=auto, min_samples_leaf=2, min_samples_split=2, n_estimators=600; total time= 1.8min\n",
      "[CV] END bootstrap=False, max_depth=60, max_features=auto, min_samples_leaf=1, min_samples_split=2, n_estimators=500; total time= 2.2min\n",
      "[CV] END bootstrap=True, max_depth=30, max_features=auto, min_samples_leaf=2, min_samples_split=5, n_estimators=900; total time= 2.5min\n",
      "[CV] END bootstrap=False, max_depth=70, max_features=auto, min_samples_leaf=4, min_samples_split=2, n_estimators=1000; total time= 4.5min\n",
      "[CV] END bootstrap=True, max_depth=50, max_features=auto, min_samples_leaf=4, min_samples_split=10, n_estimators=600; total time= 1.7min\n",
      "[CV] END bootstrap=False, max_depth=70, max_features=sqrt, min_samples_leaf=2, min_samples_split=5, n_estimators=600; total time= 2.8min\n",
      "[CV] END bootstrap=False, max_depth=60, max_features=auto, min_samples_leaf=1, min_samples_split=2, n_estimators=500; total time= 2.2min\n",
      "[CV] END bootstrap=False, max_depth=10, max_features=sqrt, min_samples_leaf=4, min_samples_split=10, n_estimators=1000; total time= 3.4min\n",
      "[CV] END bootstrap=False, max_depth=20, max_features=sqrt, min_samples_leaf=1, min_samples_split=5, n_estimators=900; total time= 4.4min\n",
      "[CV] END bootstrap=False, max_depth=50, max_features=sqrt, min_samples_leaf=2, min_samples_split=5, n_estimators=600; total time= 2.8min\n",
      "[CV] END bootstrap=False, max_depth=10, max_features=sqrt, min_samples_leaf=4, min_samples_split=5, n_estimators=900; total time= 2.9min\n",
      "[CV] END bootstrap=True, max_depth=10, max_features=sqrt, min_samples_leaf=2, min_samples_split=10, n_estimators=1000; total time= 2.1min\n",
      "[CV] END bootstrap=True, max_depth=20, max_features=sqrt, min_samples_leaf=1, min_samples_split=2, n_estimators=100; total time=  17.6s\n",
      "[CV] END bootstrap=True, max_depth=100, max_features=sqrt, min_samples_leaf=2, min_samples_split=2, n_estimators=600; total time= 1.7min\n",
      "[CV] END bootstrap=True, max_depth=60, max_features=auto, min_samples_leaf=1, min_samples_split=5, n_estimators=300; total time=  54.1s\n",
      "[CV] END bootstrap=False, max_depth=110, max_features=auto, min_samples_leaf=1, min_samples_split=10, n_estimators=800; total time= 4.0min\n",
      "[CV] END bootstrap=True, max_depth=70, max_features=auto, min_samples_leaf=2, min_samples_split=5, n_estimators=900; total time= 2.7min\n",
      "[CV] END bootstrap=False, max_depth=60, max_features=auto, min_samples_leaf=1, min_samples_split=2, n_estimators=500; total time= 2.2min\n",
      "[CV] END bootstrap=False, max_depth=90, max_features=sqrt, min_samples_leaf=1, min_samples_split=2, n_estimators=200; total time=  58.4s\n",
      "[CV] END bootstrap=False, max_depth=30, max_features=sqrt, min_samples_leaf=4, min_samples_split=5, n_estimators=700; total time= 3.2min\n",
      "[CV] END bootstrap=True, max_depth=50, max_features=auto, min_samples_leaf=1, min_samples_split=10, n_estimators=500; total time= 1.5min\n",
      "[CV] END bootstrap=False, max_depth=30, max_features=sqrt, min_samples_leaf=2, min_samples_split=5, n_estimators=400; total time= 1.8min\n",
      "[CV] END bootstrap=True, max_depth=10, max_features=auto, min_samples_leaf=2, min_samples_split=2, n_estimators=300; total time=  40.5s\n",
      "[CV] END bootstrap=False, max_depth=10, max_features=auto, min_samples_leaf=2, min_samples_split=2, n_estimators=700; total time= 2.5min\n",
      "[CV] END bootstrap=False, max_depth=10, max_features=sqrt, min_samples_leaf=4, min_samples_split=5, n_estimators=900; total time= 2.9min\n",
      "[CV] END bootstrap=False, max_depth=70, max_features=sqrt, min_samples_leaf=1, min_samples_split=2, n_estimators=400; total time= 1.9min\n",
      "[CV] END bootstrap=True, max_depth=20, max_features=sqrt, min_samples_leaf=1, min_samples_split=2, n_estimators=100; total time=  17.9s\n",
      "[CV] END bootstrap=True, max_depth=100, max_features=sqrt, min_samples_leaf=4, min_samples_split=10, n_estimators=600; total time= 1.5min\n",
      "[CV] END bootstrap=False, max_depth=80, max_features=sqrt, min_samples_leaf=2, min_samples_split=2, n_estimators=200; total time=  56.5s\n",
      "[CV] END bootstrap=False, max_depth=110, max_features=auto, min_samples_leaf=1, min_samples_split=5, n_estimators=1000; total time= 5.0min\n",
      "[CV] END bootstrap=False, max_depth=100, max_features=sqrt, min_samples_leaf=2, min_samples_split=2, n_estimators=1000; total time= 4.4min\n",
      "[CV] END bootstrap=False, max_depth=90, max_features=auto, min_samples_leaf=2, min_samples_split=10, n_estimators=1000; total time= 4.5min\n",
      "[CV] END bootstrap=False, max_depth=110, max_features=auto, min_samples_leaf=1, min_samples_split=5, n_estimators=1000; total time= 5.0min\n",
      "[CV] END bootstrap=False, max_depth=100, max_features=sqrt, min_samples_leaf=2, min_samples_split=2, n_estimators=1000; total time= 4.4min\n",
      "[CV] END bootstrap=True, max_depth=30, max_features=auto, min_samples_leaf=2, min_samples_split=5, n_estimators=900; total time= 2.7min\n",
      "[CV] END bootstrap=False, max_depth=70, max_features=auto, min_samples_leaf=4, min_samples_split=2, n_estimators=1000; total time= 4.5min\n",
      "[CV] END bootstrap=True, max_depth=50, max_features=auto, min_samples_leaf=4, min_samples_split=10, n_estimators=600; total time= 1.7min\n",
      "[CV] END bootstrap=True, max_depth=30, max_features=auto, min_samples_leaf=4, min_samples_split=5, n_estimators=300; total time=  49.9s\n",
      "[CV] END bootstrap=False, max_depth=100, max_features=sqrt, min_samples_leaf=2, min_samples_split=2, n_estimators=1000; total time= 4.4min\n",
      "[CV] END bootstrap=False, max_depth=10, max_features=sqrt, min_samples_leaf=4, min_samples_split=10, n_estimators=1000; total time= 3.5min\n",
      "[CV] END bootstrap=False, max_depth=10, max_features=auto, min_samples_leaf=1, min_samples_split=10, n_estimators=400; total time= 1.5min\n",
      "[CV] END bootstrap=True, max_depth=30, max_features=auto, min_samples_leaf=4, min_samples_split=5, n_estimators=900; total time= 2.5min\n",
      "[CV] END bootstrap=False, max_depth=50, max_features=sqrt, min_samples_leaf=2, min_samples_split=5, n_estimators=600; total time= 2.8min\n",
      "[CV] END bootstrap=False, max_depth=80, max_features=auto, min_samples_leaf=4, min_samples_split=10, n_estimators=900; total time= 3.5min\n"
     ]
    },
    {
     "name": "stdout",
     "output_type": "stream",
     "text": [
      "[CV] END bootstrap=False, max_depth=90, max_features=auto, min_samples_leaf=4, min_samples_split=2, n_estimators=1000; total time= 4.4min\n",
      "[CV] END bootstrap=True, max_depth=40, max_features=auto, min_samples_leaf=1, min_samples_split=10, n_estimators=900; total time= 2.7min\n",
      "[CV] END bootstrap=False, max_depth=10, max_features=auto, min_samples_leaf=2, min_samples_split=2, n_estimators=1000; total time= 3.5min\n",
      "[CV] END bootstrap=False, max_depth=80, max_features=auto, min_samples_leaf=4, min_samples_split=10, n_estimators=900; total time= 3.5min\n",
      "[CV] END bootstrap=True, max_depth=110, max_features=auto, min_samples_leaf=2, min_samples_split=5, n_estimators=700; total time= 1.9min\n",
      "[CV] END bootstrap=False, max_depth=90, max_features=sqrt, min_samples_leaf=2, min_samples_split=5, n_estimators=800; total time= 3.8min\n",
      "[CV] END bootstrap=True, max_depth=100, max_features=sqrt, min_samples_leaf=4, min_samples_split=2, n_estimators=800; total time= 2.1min\n",
      "[CV] END bootstrap=False, max_depth=80, max_features=sqrt, min_samples_leaf=2, min_samples_split=2, n_estimators=100; total time=  28.3s\n",
      "[CV] END bootstrap=False, max_depth=100, max_features=sqrt, min_samples_leaf=4, min_samples_split=5, n_estimators=700; total time= 3.0min\n",
      "[CV] END bootstrap=True, max_depth=30, max_features=auto, min_samples_leaf=2, min_samples_split=10, n_estimators=100; total time=  16.9s\n",
      "[CV] END bootstrap=False, max_depth=20, max_features=auto, min_samples_leaf=1, min_samples_split=5, n_estimators=700; total time= 2.8min\n",
      "[CV] END bootstrap=True, max_depth=60, max_features=sqrt, min_samples_leaf=2, min_samples_split=2, n_estimators=600; total time= 1.6min\n",
      "[CV] END bootstrap=True, max_depth=70, max_features=sqrt, min_samples_leaf=1, min_samples_split=5, n_estimators=1000; total time= 3.1min\n",
      "[CV] END bootstrap=True, max_depth=40, max_features=auto, min_samples_leaf=1, min_samples_split=10, n_estimators=900; total time= 2.7min\n",
      "[CV] END bootstrap=False, max_depth=10, max_features=auto, min_samples_leaf=2, min_samples_split=2, n_estimators=1000; total time= 3.5min\n",
      "[CV] END bootstrap=False, max_depth=80, max_features=auto, min_samples_leaf=4, min_samples_split=10, n_estimators=900; total time= 3.5min\n",
      "[CV] END bootstrap=False, max_depth=90, max_features=auto, min_samples_leaf=2, min_samples_split=10, n_estimators=1000; total time= 4.6min\n",
      "[CV] END bootstrap=True, max_depth=10, max_features=auto, min_samples_leaf=1, min_samples_split=2, n_estimators=900; total time= 2.0min\n",
      "[CV] END bootstrap=True, max_depth=60, max_features=sqrt, min_samples_leaf=1, min_samples_split=2, n_estimators=1000; total time= 3.0min\n",
      "[CV] END bootstrap=True, max_depth=50, max_features=auto, min_samples_leaf=2, min_samples_split=2, n_estimators=600; total time= 1.7min\n",
      "[CV] END bootstrap=False, max_depth=20, max_features=auto, min_samples_leaf=1, min_samples_split=5, n_estimators=700; total time= 2.8min\n",
      "[CV] END bootstrap=False, max_depth=90, max_features=auto, min_samples_leaf=4, min_samples_split=2, n_estimators=1000; total time= 4.4min\n",
      "[CV] END bootstrap=True, max_depth=50, max_features=sqrt, min_samples_leaf=1, min_samples_split=5, n_estimators=1000; total time= 3.2min\n",
      "[CV] END bootstrap=False, max_depth=80, max_features=sqrt, min_samples_leaf=2, min_samples_split=2, n_estimators=100; total time=  29.8s\n",
      "[CV] END bootstrap=False, max_depth=100, max_features=sqrt, min_samples_leaf=4, min_samples_split=5, n_estimators=700; total time= 3.3min\n",
      "[CV] END bootstrap=False, max_depth=20, max_features=auto, min_samples_leaf=1, min_samples_split=5, n_estimators=700; total time= 2.9min\n",
      "[CV] END bootstrap=True, max_depth=50, max_features=sqrt, min_samples_leaf=2, min_samples_split=5, n_estimators=800; total time= 2.3min\n",
      "[CV] END bootstrap=True, max_depth=20, max_features=auto, min_samples_leaf=2, min_samples_split=2, n_estimators=200; total time=  33.3s\n",
      "[CV] END bootstrap=True, max_depth=10, max_features=auto, min_samples_leaf=1, min_samples_split=5, n_estimators=500; total time= 1.1min\n",
      "[CV] END bootstrap=True, max_depth=20, max_features=auto, min_samples_leaf=4, min_samples_split=2, n_estimators=100; total time=  16.4s\n",
      "[CV] END bootstrap=True, max_depth=50, max_features=sqrt, min_samples_leaf=4, min_samples_split=10, n_estimators=800; total time= 2.1min\n",
      "[CV] END bootstrap=False, max_depth=100, max_features=sqrt, min_samples_leaf=1, min_samples_split=5, n_estimators=100; total time=  28.5s\n",
      "[CV] END bootstrap=False, max_depth=30, max_features=auto, min_samples_leaf=4, min_samples_split=2, n_estimators=200; total time=  52.8s\n",
      "[CV] END bootstrap=True, max_depth=10, max_features=auto, min_samples_leaf=2, min_samples_split=2, n_estimators=300; total time=  42.5s\n",
      "[CV] END bootstrap=False, max_depth=10, max_features=auto, min_samples_leaf=2, min_samples_split=2, n_estimators=700; total time= 2.5min\n",
      "[CV] END bootstrap=False, max_depth=20, max_features=sqrt, min_samples_leaf=1, min_samples_split=10, n_estimators=1000; total time= 3.9min\n"
     ]
    },
    {
     "data": {
      "text/plain": [
       "RandomizedSearchCV(cv=3, estimator=RandomForestClassifier(random_state=0),\n",
       "                   n_iter=100, n_jobs=-1,\n",
       "                   param_distributions={'bootstrap': [True, False],\n",
       "                                        'max_depth': [10, 20, 30, 40, 50, 60,\n",
       "                                                      70, 80, 90, 100, 110],\n",
       "                                        'max_features': ['auto', 'sqrt'],\n",
       "                                        'min_samples_leaf': [1, 2, 4],\n",
       "                                        'min_samples_split': [2, 5, 10],\n",
       "                                        'n_estimators': [100, 200, 300, 400,\n",
       "                                                         500, 600, 700, 800,\n",
       "                                                         900, 1000]},\n",
       "                   random_state=42, return_train_score=True, verbose=2)"
      ]
     },
     "execution_count": 105,
     "metadata": {},
     "output_type": "execute_result"
    }
   ],
   "source": [
    "rf_random = RandomizedSearchCV(estimator=rf_clf1, param_distributions=random_grid,\n",
    "                              n_iter = 100, \n",
    "                              cv = 3, verbose=2, random_state=42, n_jobs=-1,\n",
    "                              return_train_score=True)\n",
    "\n",
    "\n",
    "# Fit the random search model\n",
    "rf_random.fit(glove_train_vectors, y_train.values.ravel())"
   ]
  },
  {
   "cell_type": "code",
   "execution_count": 107,
   "id": "f0b99f66",
   "metadata": {},
   "outputs": [
    {
     "data": {
      "text/plain": [
       "{'n_estimators': 900,\n",
       " 'min_samples_split': 5,\n",
       " 'min_samples_leaf': 1,\n",
       " 'max_features': 'auto',\n",
       " 'max_depth': 20,\n",
       " 'bootstrap': False}"
      ]
     },
     "execution_count": 107,
     "metadata": {},
     "output_type": "execute_result"
    }
   ],
   "source": [
    "rf_random.best_params_"
   ]
  },
  {
   "cell_type": "markdown",
   "id": "7a50914a",
   "metadata": {},
   "source": [
    "### Train Random Forest model  using Best Parameters after hyperparameter tuning\n",
    "\n",
    "**Initialise the model and  fit it using train data and measure the accuracy metrics**"
   ]
  },
  {
   "cell_type": "code",
   "execution_count": 83,
   "id": "efff9443",
   "metadata": {},
   "outputs": [
    {
     "name": "stdout",
     "output_type": "stream",
     "text": [
      "Random Forest - Completed\n"
     ]
    }
   ],
   "source": [
    "rf_clf_tuned_g=RandomForestClassifier(random_state=0,n_estimators=900,max_features='auto',max_depth=20,min_samples_split=5,min_samples_leaf=1,bootstrap=False)\n",
    "\n",
    "rf_clf_tuned_g.fit(glove_train_vectors, y_train.values.ravel())\n",
    "\n",
    "# save the model to disk\n",
    "filename = 'outputs//fakenewsnet_ml_glove//fakenewsnet_RF_glove.sav'\n",
    "pickle.dump(rf_clf_tuned_g, open(filename, 'wb'))\n",
    "print('Random Forest - Completed')"
   ]
  },
  {
   "cell_type": "code",
   "execution_count": 92,
   "id": "7ce31a99",
   "metadata": {},
   "outputs": [
    {
     "name": "stdout",
     "output_type": "stream",
     "text": [
      "Accuracy score : 0.8367447595561036\n",
      "Confusion matrix : \n",
      " [[2861  187]\n",
      " [ 475  532]]\n",
      "Classification Report\n",
      "              precision    recall  f1-score   support\n",
      "\n",
      "           0       0.86      0.94      0.90      3048\n",
      "           1       0.74      0.53      0.62      1007\n",
      "\n",
      "    accuracy                           0.84      4055\n",
      "   macro avg       0.80      0.73      0.76      4055\n",
      "weighted avg       0.83      0.84      0.83      4055\n",
      "\n",
      "Precision : 0.7399165507649513\n",
      "Recall : 0.5283018867924528\n",
      "F1 Score : 0.6164542294322133\n"
     ]
    }
   ],
   "source": [
    "#Loading the model\n",
    "filename = 'outputs//fakenewsnet_ml_glove//fakenewsnet_RF_glove.sav'\n",
    "\n",
    "rf_clf_tuned_g = pickle.load(open(filename, 'rb'))\n",
    "\n",
    "#pred = rf_clf_tuned_g.predict(glove_test_vectors)\n",
    "\n",
    "y_pred = rf_clf_tuned_g.predict_proba(glove_test_vectors)[:, 1]\n",
    "pred=np.array((y_pred > 0.4).astype(int))\n",
    "\n",
    "print(\"Accuracy score : {}\".format(accuracy_score(y_test, pred)))\n",
    "print(\"Confusion matrix : \\n {}\".format(confusion_matrix(y_test, pred)))\n",
    "print(\"Classification Report\")\n",
    "print(classification_report(y_test, pred))\n",
    "precision = precision_score(y_test, pred)\n",
    "print(\"Precision : {}\".format(precision))\n",
    "recall = recall_score(y_test, pred)\n",
    "print(\"Recall : {}\".format(recall))\n",
    "f1score = f1_score(y_test, pred)\n",
    "print(\"F1 Score : {}\".format(f1score))"
   ]
  },
  {
   "cell_type": "markdown",
   "id": "b34e6302",
   "metadata": {},
   "source": [
    "**Save the classification report to csv**"
   ]
  },
  {
   "cell_type": "code",
   "execution_count": 93,
   "id": "774837ec",
   "metadata": {},
   "outputs": [
    {
     "data": {
      "text/html": [
       "<div>\n",
       "<style scoped>\n",
       "    .dataframe tbody tr th:only-of-type {\n",
       "        vertical-align: middle;\n",
       "    }\n",
       "\n",
       "    .dataframe tbody tr th {\n",
       "        vertical-align: top;\n",
       "    }\n",
       "\n",
       "    .dataframe thead th {\n",
       "        text-align: right;\n",
       "    }\n",
       "</style>\n",
       "<table border=\"1\" class=\"dataframe\">\n",
       "  <thead>\n",
       "    <tr style=\"text-align: right;\">\n",
       "      <th></th>\n",
       "      <th>precision</th>\n",
       "      <th>recall</th>\n",
       "      <th>f1-score</th>\n",
       "      <th>support</th>\n",
       "    </tr>\n",
       "  </thead>\n",
       "  <tbody>\n",
       "    <tr>\n",
       "      <th>0</th>\n",
       "      <td>0.857614</td>\n",
       "      <td>0.938648</td>\n",
       "      <td>0.896303</td>\n",
       "      <td>3048.000000</td>\n",
       "    </tr>\n",
       "    <tr>\n",
       "      <th>1</th>\n",
       "      <td>0.739917</td>\n",
       "      <td>0.528302</td>\n",
       "      <td>0.616454</td>\n",
       "      <td>1007.000000</td>\n",
       "    </tr>\n",
       "    <tr>\n",
       "      <th>accuracy</th>\n",
       "      <td>0.836745</td>\n",
       "      <td>0.836745</td>\n",
       "      <td>0.836745</td>\n",
       "      <td>0.836745</td>\n",
       "    </tr>\n",
       "    <tr>\n",
       "      <th>macro avg</th>\n",
       "      <td>0.798765</td>\n",
       "      <td>0.733475</td>\n",
       "      <td>0.756379</td>\n",
       "      <td>4055.000000</td>\n",
       "    </tr>\n",
       "    <tr>\n",
       "      <th>weighted avg</th>\n",
       "      <td>0.828385</td>\n",
       "      <td>0.836745</td>\n",
       "      <td>0.826807</td>\n",
       "      <td>4055.000000</td>\n",
       "    </tr>\n",
       "  </tbody>\n",
       "</table>\n",
       "</div>"
      ],
      "text/plain": [
       "              precision    recall  f1-score      support\n",
       "0              0.857614  0.938648  0.896303  3048.000000\n",
       "1              0.739917  0.528302  0.616454  1007.000000\n",
       "accuracy       0.836745  0.836745  0.836745     0.836745\n",
       "macro avg      0.798765  0.733475  0.756379  4055.000000\n",
       "weighted avg   0.828385  0.836745  0.826807  4055.000000"
      ]
     },
     "execution_count": 93,
     "metadata": {},
     "output_type": "execute_result"
    }
   ],
   "source": [
    "report=classification_report(y_test, pred, output_dict=True)\n",
    "df = pd.DataFrame(report).transpose()\n",
    "df.to_csv(\"outputs//fakenewsnet_ml_glove//model_FAKENEWSNET_RF_GLOVE_clasifctnrpt.csv\")\n",
    "df.head()"
   ]
  },
  {
   "cell_type": "markdown",
   "id": "edd8382f",
   "metadata": {},
   "source": [
    "**Plot confusion matrix using the user defined functions as mentioned above earlier**"
   ]
  },
  {
   "cell_type": "code",
   "execution_count": 94,
   "id": "02331559",
   "metadata": {},
   "outputs": [
    {
     "data": {
      "image/png": "[encoded data removed]",
      "text/plain": [
       "<Figure size 360x300 with 2 Axes>"
      ]
     },
     "metadata": {},
     "output_type": "display_data"
    },
    {
     "data": {
      "image/png": "[encoded data removed]",
      "text/plain": [
       "<Figure size 360x300 with 2 Axes>"
      ]
     },
     "metadata": {},
     "output_type": "display_data"
    }
   ],
   "source": [
    "cm=confusion_matrix(y_test, pred)\n",
    "path1=\"outputs//fakenewsnet_ml_glove//fakenewsnet_ml_RF_glove_cmtrx.png\"\n",
    "path2=\"outputs//fakenewsnet_ml_glove//fakenewsnet_ml_RF_glove_ncmtrx.png\"\n",
    "confusn_mtrx_plot(cm,path1)\n",
    "norm_confusn_mtrx_plot(cm,path2)"
   ]
  },
  {
   "cell_type": "markdown",
   "id": "e459da72",
   "metadata": {},
   "source": [
    "***"
   ]
  },
  {
   "cell_type": "markdown",
   "id": "3595a476",
   "metadata": {},
   "source": [
    "### Support Vector Machine"
   ]
  },
  {
   "cell_type": "markdown",
   "id": "8c739e1f",
   "metadata": {},
   "source": [
    "**Initialise the model and  fit it using train data and measure the accuracy metrics**"
   ]
  },
  {
   "cell_type": "code",
   "execution_count": 95,
   "id": "18ab4759",
   "metadata": {},
   "outputs": [],
   "source": [
    "svm_clf=SVC(random_state=0,probability=True)"
   ]
  },
  {
   "cell_type": "code",
   "execution_count": 96,
   "id": "801ed38c",
   "metadata": {},
   "outputs": [
    {
     "name": "stdout",
     "output_type": "stream",
     "text": [
      "Accuracy score : 0.8241676942046856\n",
      "Confusion matrix : \n",
      " [[2999   49]\n",
      " [ 664  343]]\n",
      "Classification Report\n",
      "              precision    recall  f1-score   support\n",
      "\n",
      "           0       0.82      0.98      0.89      3048\n",
      "           1       0.88      0.34      0.49      1007\n",
      "\n",
      "    accuracy                           0.82      4055\n",
      "   macro avg       0.85      0.66      0.69      4055\n",
      "weighted avg       0.83      0.82      0.79      4055\n",
      "\n"
     ]
    }
   ],
   "source": [
    "svm_clf.fit(glove_train_vectors,y_train)\n",
    "\n",
    "pred = svm_clf.predict(glove_test_vectors)\n",
    "print(\"Accuracy score : {}\".format(accuracy_score(y_test, pred)))\n",
    "print(\"Confusion matrix : \\n {}\".format(confusion_matrix(y_test, pred)))\n",
    "print(\"Classification Report\")\n",
    "print(classification_report(y_test, pred))"
   ]
  },
  {
   "cell_type": "markdown",
   "id": "f642ea1a",
   "metadata": {},
   "source": [
    "### Hyperparameter Tuning \n",
    "\n",
    "Define the list of parameters which needed to do hyperparameter tuning"
   ]
  },
  {
   "cell_type": "code",
   "execution_count": 113,
   "id": "d1320232",
   "metadata": {},
   "outputs": [
    {
     "name": "stdout",
     "output_type": "stream",
     "text": [
      "{'C': [0.1, 1, 10, 100, 1000],\n",
      " 'gamma': [1, 0.1, 0.01, 0.001, 0.0001],\n",
      " 'kernel': ['rbf', 'poly', 'sigmoid']}\n"
     ]
    }
   ],
   "source": [
    "# Create the random grid\n",
    "random_grid = {\n",
    "    'C': [0.1, 1, 10, 100, 1000],\n",
    "               'gamma': [1, 0.1, 0.01, 0.001, 0.0001],\n",
    "               'kernel':  ['rbf', 'poly', 'sigmoid'],\n",
    "              }\n",
    "pprint(random_grid)\n"
   ]
  },
  {
   "cell_type": "markdown",
   "id": "16498d7c",
   "metadata": {},
   "source": [
    "**Initialise the model and fit using train data with hyperparameter tuning**"
   ]
  },
  {
   "cell_type": "code",
   "execution_count": 114,
   "id": "b04b61f1",
   "metadata": {
    "collapsed": true
   },
   "outputs": [
    {
     "name": "stdout",
     "output_type": "stream",
     "text": [
      "Fitting 5 folds for each of 50 candidates, totalling 250 fits\n",
      "[CV] END ......................C=0.1, gamma=0.1, kernel=poly; total time=  45.8s\n",
      "[CV] END .....................C=10, gamma=0.0001, kernel=rbf; total time= 2.1min\n",
      "[CV] END ......................C=10, gamma=0.001, kernel=rbf; total time= 1.5min\n",
      "[CV] END ..................C=100, gamma=0.01, kernel=sigmoid; total time= 1.1min\n",
      "[CV] END .....................C=100, gamma=0.001, kernel=rbf; total time= 1.7min\n",
      "[CV] END .....................C=1, gamma=0.0001, kernel=poly; total time=  59.8s\n",
      "[CV] END ......................C=100, gamma=0.1, kernel=poly; total time= 1.8min\n",
      "[CV] END ........................C=10, gamma=0.1, kernel=rbf; total time= 1.8min\n",
      "[CV] END .....................C=100, gamma=1, kernel=sigmoid; total time=  58.4s\n",
      "[CV] END ....................C=1000, gamma=1, kernel=sigmoid; total time=  55.5s\n",
      "[CV] END .......................C=0.1, gamma=0.1, kernel=rbf; total time= 1.7min\n",
      "[CV] END ....................C=1000, gamma=0.001, kernel=rbf; total time= 1.7min\n",
      "[CV] END ...................C=0.1, gamma=0.1, kernel=sigmoid; total time= 1.6min\n",
      "[CV] END .........................C=100, gamma=1, kernel=rbf; total time= 4.6min\n",
      "[CV] END .................C=1000, gamma=0.01, kernel=sigmoid; total time= 1.2min\n",
      "[CV] END .......................C=1000, gamma=1, kernel=poly; total time=10.7min\n",
      "[CV] END .....................C=100, gamma=0.001, kernel=rbf; total time= 1.7min\n",
      "[CV] END ......................C=0.1, gamma=0.1, kernel=poly; total time=  47.9s\n",
      "[CV] END .....................C=10, gamma=0.0001, kernel=rbf; total time= 1.7min\n",
      "[CV] END .....................C=1000, gamma=0.01, kernel=rbf; total time= 2.1min\n",
      "[CV] END ........................C=1, gamma=0.1, kernel=poly; total time= 1.3min\n",
      "[CV] END ...................C=10, gamma=0.01, kernel=sigmoid; total time= 1.3min\n",
      "[CV] END ....................C=100, gamma=0.001, kernel=poly; total time= 1.2min\n",
      "[CV] END ....................C=0.1, gamma=0.001, kernel=poly; total time=  47.4s\n",
      "[CV] END .....................C=10, gamma=0.0001, kernel=rbf; total time= 1.7min\n",
      "[CV] END ......................C=10, gamma=0.001, kernel=rbf; total time= 1.8min\n",
      "[CV] END ....................C=1000, gamma=1, kernel=sigmoid; total time=  56.4s\n",
      "[CV] END .......................C=0.1, gamma=0.1, kernel=rbf; total time= 1.7min\n",
      "[CV] END .....................C=1000, gamma=0.1, kernel=poly; total time= 3.8min\n",
      "[CV] END .................C=100, gamma=0.001, kernel=sigmoid; total time= 1.3min\n",
      "[CV] END .........................C=100, gamma=1, kernel=rbf; total time= 5.0min\n",
      "[CV] END ....................C=100, gamma=0.001, kernel=poly; total time= 1.2min\n",
      "[CV] END ....................C=0.1, gamma=0.001, kernel=poly; total time=  41.5s\n",
      "[CV] END .....................C=10, gamma=0.0001, kernel=rbf; total time= 1.7min\n",
      "[CV] END ......................C=10, gamma=0.001, kernel=rbf; total time= 1.8min\n",
      "[CV] END ....................C=1000, gamma=1, kernel=sigmoid; total time= 1.1min\n",
      "[CV] END .......................C=1, gamma=1, kernel=sigmoid; total time= 1.3min\n",
      "[CV] END ....................C=100, gamma=0.001, kernel=poly; total time= 1.2min\n",
      "[CV] END ....................C=0.1, gamma=0.001, kernel=poly; total time=  51.6s\n",
      "[CV] END ......................C=100, gamma=0.1, kernel=poly; total time= 1.9min\n",
      "[CV] END ...................C=0.1, gamma=0.1, kernel=sigmoid; total time= 1.3min\n",
      "[CV] END ..........................C=1, gamma=1, kernel=poly; total time= 3.6min\n",
      "[CV] END ......................C=1, gamma=0.001, kernel=poly; total time=  58.1s\n",
      "[CV] END ...................C=10, gamma=0.01, kernel=sigmoid; total time= 1.4min\n",
      "[CV] END ....................C=100, gamma=0.001, kernel=poly; total time= 1.1min\n",
      "[CV] END .......................C=1000, gamma=1, kernel=poly; total time=10.7min\n",
      "[CV] END .......................C=0.1, gamma=0.1, kernel=rbf; total time= 1.8min\n",
      "[CV] END ....................C=10, gamma=0.1, kernel=sigmoid; total time=  43.1s\n",
      "[CV] END .......................C=10, gamma=0.1, kernel=poly; total time= 1.3min\n",
      "[CV] END .....................C=0.1, gamma=0.001, kernel=rbf; total time= 1.9min\n",
      "[CV] END .....................C=0.1, gamma=0.01, kernel=poly; total time= 1.1min\n",
      "[CV] END ..................C=100, gamma=0.01, kernel=sigmoid; total time= 1.2min\n",
      "[CV] END .......................C=0.1, gamma=0.1, kernel=rbf; total time= 1.7min\n",
      "[CV] END .........................C=0.1, gamma=1, kernel=rbf; total time= 1.4min\n",
      "[CV] END .......................C=1, gamma=0.01, kernel=poly; total time= 1.3min\n",
      "[CV] END .....................C=10, gamma=0.001, kernel=poly; total time= 1.2min\n",
      "[CV] END ...................C=100, gamma=0.0001, kernel=poly; total time= 1.0min\n",
      "[CV] END ........................C=1, gamma=0.1, kernel=poly; total time= 1.2min\n",
      "[CV] END .......................C=1, gamma=1, kernel=sigmoid; total time= 1.3min\n",
      "[CV] END ....................C=100, gamma=0.001, kernel=poly; total time= 1.3min\n",
      "[CV] END ....................C=1000, gamma=0.001, kernel=rbf; total time= 1.8min\n",
      "[CV] END .................C=100, gamma=0.001, kernel=sigmoid; total time= 1.4min\n",
      "[CV] END .........................C=100, gamma=1, kernel=rbf; total time= 5.2min\n",
      "[CV] END ..................C=1000, gamma=0.0001, kernel=poly; total time= 1.1min\n",
      "[CV] END .......................C=1000, gamma=1, kernel=poly; total time=11.0min\n",
      "[CV] END .......................C=0.1, gamma=0.1, kernel=rbf; total time= 1.9min\n",
      "[CV] END .......................C=1000, gamma=1, kernel=poly; total time=10.1min\n",
      "[CV] END ...............C=1000, gamma=0.0001, kernel=sigmoid; total time= 1.2min\n",
      "[CV] END ...................C=1000, gamma=0.0001, kernel=rbf; total time= 1.8min\n",
      "[CV] END ....................C=10, gamma=0.1, kernel=sigmoid; total time=  40.9s\n",
      "[CV] END .......................C=10, gamma=0.1, kernel=poly; total time= 1.2min\n",
      "[CV] END .........................C=1, gamma=0.1, kernel=rbf; total time= 1.9min\n",
      "[CV] END ..........................C=10, gamma=1, kernel=rbf; total time= 2.6min\n",
      "[CV] END ..................C=0.1, gamma=0.01, kernel=sigmoid; total time= 1.3min\n",
      "[CV] END ..................C=1000, gamma=0.0001, kernel=poly; total time= 1.2min\n",
      "[CV] END ....................C=10, gamma=0.1, kernel=sigmoid; total time=  41.3s\n",
      "[CV] END .......................C=10, gamma=0.1, kernel=poly; total time= 1.3min\n",
      "[CV] END .....................C=0.1, gamma=0.001, kernel=rbf; total time= 1.8min\n",
      "[CV] END ..........................C=10, gamma=1, kernel=rbf; total time= 2.8min\n",
      "[CV] END ...................C=1000, gamma=0.0001, kernel=rbf; total time= 1.6min\n",
      "[CV] END ....................C=1000, gamma=0.001, kernel=rbf; total time= 1.7min\n",
      "[CV] END ........................C=10, gamma=0.1, kernel=rbf; total time= 1.4min\n",
      "[CV] END .....................C=0.1, gamma=0.01, kernel=poly; total time= 1.0min\n",
      "[CV] END ..................C=100, gamma=0.01, kernel=sigmoid; total time= 1.1min\n",
      "[CV] END .....................C=100, gamma=0.001, kernel=rbf; total time= 1.6min\n",
      "[CV] END ..................C=1000, gamma=0.0001, kernel=poly; total time=  55.7s\n",
      "[CV] END ......................C=0.1, gamma=0.1, kernel=poly; total time=  31.9s\n",
      "[CV] END .....................C=1000, gamma=0.1, kernel=poly; total time= 4.4min\n",
      "[CV] END .....................C=10, gamma=0.001, kernel=poly; total time=  58.6s\n",
      "[CV] END .....................C=0.1, gamma=0.01, kernel=poly; total time= 1.0min\n",
      "[CV] END ..................C=100, gamma=0.01, kernel=sigmoid; total time= 1.1min\n",
      "[CV] END .....................C=100, gamma=0.001, kernel=rbf; total time= 1.8min\n",
      "[CV] END ..................C=1000, gamma=0.0001, kernel=poly; total time=  53.3s\n",
      "[CV] END .....................C=1000, gamma=0.1, kernel=poly; total time= 4.0min\n",
      "[CV] END .................C=100, gamma=0.001, kernel=sigmoid; total time= 1.4min\n",
      "[CV] END ..........................C=10, gamma=1, kernel=rbf; total time= 2.8min\n",
      "[CV] END ...................C=1000, gamma=0.0001, kernel=rbf; total time= 2.0min\n",
      "[CV] END ......................C=0.1, gamma=0.1, kernel=poly; total time=  45.4s\n",
      "[CV] END .....................C=10, gamma=0.0001, kernel=rbf; total time= 1.7min\n",
      "[CV] END .....................C=1000, gamma=0.01, kernel=rbf; total time= 2.2min\n",
      "[CV] END ...................C=100, gamma=0.1, kernel=sigmoid; total time=  50.1s\n",
      "[CV] END ...................C=0.1, gamma=0.0001, kernel=poly; total time= 1.2min\n",
      "[CV] END .......................C=10, gamma=0.01, kernel=rbf; total time= 1.6min\n"
     ]
    },
    {
     "name": "stdout",
     "output_type": "stream",
     "text": [
      "[CV] END .........................C=0.1, gamma=1, kernel=rbf; total time= 1.5min\n",
      "[CV] END ...................C=0.1, gamma=0.1, kernel=sigmoid; total time= 1.2min\n",
      "[CV] END ..........................C=1, gamma=1, kernel=poly; total time= 4.0min\n",
      "[CV] END ...................C=0.1, gamma=0.0001, kernel=poly; total time= 1.3min\n",
      "[CV] END .......................C=10, gamma=0.01, kernel=rbf; total time= 1.8min\n",
      "[CV] END .......................C=1000, gamma=1, kernel=poly; total time=10.1min\n",
      "[CV] END ...............C=1000, gamma=0.0001, kernel=sigmoid; total time= 1.5min\n",
      "[CV] END ......................C=0.1, gamma=0.01, kernel=rbf; total time= 1.6min\n",
      "[CV] END ......................C=1000, gamma=0.1, kernel=rbf; total time= 3.8min\n",
      "[CV] END ..........................C=1, gamma=1, kernel=poly; total time= 4.0min\n",
      "[CV] END ...............C=1000, gamma=0.0001, kernel=sigmoid; total time= 1.3min\n",
      "[CV] END ......................C=0.1, gamma=0.01, kernel=rbf; total time= 1.8min\n",
      "[CV] END ....................C=10, gamma=0.1, kernel=sigmoid; total time=  40.5s\n",
      "[CV] END .....................C=1000, gamma=0.1, kernel=poly; total time= 4.3min\n",
      "[CV] END ..........................C=1, gamma=1, kernel=poly; total time= 3.8min\n",
      "[CV] END ......................C=1, gamma=0.001, kernel=poly; total time= 1.2min\n",
      "[CV] END ..................C=0.1, gamma=0.01, kernel=sigmoid; total time= 1.6min\n",
      "[CV] END ..................C=1000, gamma=0.0001, kernel=poly; total time= 1.2min\n",
      "[CV] END ......................C=0.1, gamma=0.1, kernel=poly; total time=  40.7s\n",
      "[CV] END .......................C=10, gamma=0.1, kernel=poly; total time= 1.3min\n",
      "[CV] END .....................C=0.1, gamma=0.001, kernel=rbf; total time= 1.9min\n",
      "[CV] END ..........................C=10, gamma=1, kernel=rbf; total time= 2.6min\n",
      "[CV] END ...................C=1000, gamma=0.0001, kernel=rbf; total time= 1.9min\n",
      "[CV] END ....................C=1000, gamma=0.001, kernel=rbf; total time= 1.8min\n",
      "[CV] END .................C=100, gamma=0.001, kernel=sigmoid; total time= 1.3min\n",
      "[CV] END .................C=10, gamma=0.0001, kernel=sigmoid; total time= 1.2min\n",
      "[CV] END .........................C=10, gamma=1, kernel=poly; total time= 8.3min\n",
      "[CV] END .....................C=1, gamma=0.0001, kernel=poly; total time= 1.0min\n",
      "[CV] END .........................C=1, gamma=0.1, kernel=rbf; total time= 1.7min\n",
      "[CV] END ..........................C=1, gamma=1, kernel=poly; total time= 4.1min\n",
      "[CV] END ...............C=1000, gamma=0.0001, kernel=sigmoid; total time= 1.4min\n",
      "[CV] END .......................C=10, gamma=0.01, kernel=rbf; total time= 1.7min\n",
      "[CV] END ....................C=0.1, gamma=0.0001, kernel=rbf; total time= 1.5min\n",
      "[CV] END ........................C=10, gamma=0.1, kernel=rbf; total time= 1.7min\n",
      "[CV] END .....................C=100, gamma=1, kernel=sigmoid; total time=  51.4s\n",
      "[CV] END ...................C=100, gamma=0.1, kernel=sigmoid; total time=  48.6s\n",
      "[CV] END ...................C=0.1, gamma=0.0001, kernel=poly; total time= 1.1min\n",
      "[CV] END ...................C=1000, gamma=0.0001, kernel=rbf; total time= 1.9min\n",
      "[CV] END .........................C=0.1, gamma=1, kernel=rbf; total time= 1.4min\n",
      "[CV] END .......................C=1, gamma=0.01, kernel=poly; total time= 1.3min\n",
      "[CV] END .....................C=10, gamma=0.001, kernel=poly; total time= 1.2min\n",
      "[CV] END ...................C=100, gamma=0.0001, kernel=poly; total time= 1.0min\n",
      "[CV] END ...................C=100, gamma=0.1, kernel=sigmoid; total time=  46.6s\n",
      "[CV] END ...................C=0.1, gamma=0.0001, kernel=poly; total time= 1.1min\n",
      "[CV] END ......................C=0.1, gamma=0.01, kernel=rbf; total time= 1.8min\n",
      "[CV] END ......................C=1000, gamma=0.1, kernel=rbf; total time= 3.8min\n",
      "[CV] END .....................C=10, gamma=0.001, kernel=poly; total time= 1.2min\n",
      "[CV] END ...................C=100, gamma=0.0001, kernel=poly; total time= 1.1min\n",
      "[CV] END ...................C=100, gamma=0.1, kernel=sigmoid; total time=  48.7s\n",
      "[CV] END ...................C=0.1, gamma=0.0001, kernel=poly; total time= 1.1min\n",
      "[CV] END ......................C=0.1, gamma=0.01, kernel=rbf; total time= 1.9min\n",
      "[CV] END ......................C=1000, gamma=0.1, kernel=rbf; total time= 3.8min\n",
      "[CV] END .....................C=10, gamma=0.001, kernel=poly; total time= 1.2min\n",
      "[CV] END ...................C=100, gamma=0.0001, kernel=poly; total time= 1.0min\n",
      "[CV] END ...................C=100, gamma=0.1, kernel=sigmoid; total time=  46.0s\n",
      "[CV] END ...............C=1000, gamma=0.0001, kernel=sigmoid; total time= 1.3min\n",
      "[CV] END ......................C=0.1, gamma=0.01, kernel=rbf; total time= 1.9min\n",
      "[CV] END ....................C=0.1, gamma=0.0001, kernel=rbf; total time= 1.4min\n",
      "[CV] END ...................C=0.1, gamma=0.1, kernel=sigmoid; total time= 1.6min\n",
      "[CV] END .........................C=100, gamma=1, kernel=rbf; total time= 4.4min\n",
      "[CV] END .......................C=10, gamma=0.01, kernel=rbf; total time= 1.6min\n",
      "[CV] END .....................C=1, gamma=0.0001, kernel=poly; total time=  59.0s\n",
      "[CV] END ......................C=100, gamma=0.1, kernel=poly; total time= 1.8min\n",
      "[CV] END ...................C=0.1, gamma=0.1, kernel=sigmoid; total time= 1.6min\n",
      "[CV] END .........................C=100, gamma=1, kernel=rbf; total time= 4.5min\n",
      "[CV] END .......................C=10, gamma=0.01, kernel=rbf; total time= 1.7min\n",
      "[CV] END ....................C=1000, gamma=0.001, kernel=rbf; total time= 1.8min\n",
      "[CV] END .................C=100, gamma=0.001, kernel=sigmoid; total time= 1.2min\n",
      "[CV] END .................C=10, gamma=0.0001, kernel=sigmoid; total time= 1.2min\n",
      "[CV] END .........................C=10, gamma=1, kernel=poly; total time= 8.8min\n",
      "[CV] END .....................C=1, gamma=0.0001, kernel=poly; total time= 1.0min\n",
      "[CV] END .........................C=1, gamma=0.1, kernel=rbf; total time= 2.0min\n",
      "[CV] END .................C=10, gamma=0.0001, kernel=sigmoid; total time= 1.3min\n",
      "[CV] END .........................C=10, gamma=1, kernel=poly; total time= 8.8min\n"
     ]
    },
    {
     "data": {
      "text/plain": [
       "RandomizedSearchCV(cv=5, estimator=SVC(random_state=0), n_iter=50, n_jobs=-1,\n",
       "                   param_distributions={'C': [0.1, 1, 10, 100, 1000],\n",
       "                                        'gamma': [1, 0.1, 0.01, 0.001, 0.0001],\n",
       "                                        'kernel': ['rbf', 'poly', 'sigmoid']},\n",
       "                   random_state=42, return_train_score=True, verbose=2)"
      ]
     },
     "execution_count": 114,
     "metadata": {},
     "output_type": "execute_result"
    }
   ],
   "source": [
    "\n",
    "svm_clf1=SVC(random_state=0)\n",
    "\n",
    "rf_random = RandomizedSearchCV(estimator=svm_clf1, param_distributions=random_grid,\n",
    "                              n_iter = 50, \n",
    "                              cv = 5, verbose=2, random_state=42, n_jobs=-1,\n",
    "                              return_train_score=True)\n",
    "\n",
    "\n",
    "# Fit the random search model\n",
    "rf_random.fit(glove_train_vectors,y_train)"
   ]
  },
  {
   "cell_type": "code",
   "execution_count": 116,
   "id": "07eb9614",
   "metadata": {},
   "outputs": [
    {
     "data": {
      "text/plain": [
       "{'kernel': 'rbf', 'gamma': 1, 'C': 10}"
      ]
     },
     "execution_count": 116,
     "metadata": {},
     "output_type": "execute_result"
    }
   ],
   "source": [
    "rf_random.best_params_"
   ]
  },
  {
   "cell_type": "markdown",
   "id": "57e01d37",
   "metadata": {},
   "source": [
    "### Train SVM model  using Best Parameters after hyperparameter tuning\n",
    "\n",
    "**Initialise the model and  fit it using train data and measure the accuracy metrics**"
   ]
  },
  {
   "cell_type": "code",
   "execution_count": 97,
   "id": "24e34fd1",
   "metadata": {},
   "outputs": [
    {
     "name": "stdout",
     "output_type": "stream",
     "text": [
      "SVM - Completed\n"
     ]
    }
   ],
   "source": [
    "svm_clf_tuned_g=SVC(random_state=0,kernel='rbf',gamma=1,C=10,probability=True)\n",
    "\n",
    "svm_clf_tuned_g.fit(glove_train_vectors, y_train.values.ravel())\n",
    "\n",
    "# save the model to disk\n",
    "filename = 'outputs//fakenewsnet_ml_glove//fakenewsnet_SVM_glove.sav'\n",
    "pickle.dump(svm_clf_tuned_g, open(filename, 'wb'))\n",
    "print('SVM - Completed')"
   ]
  },
  {
   "cell_type": "code",
   "execution_count": 98,
   "id": "629988f2",
   "metadata": {},
   "outputs": [
    {
     "name": "stdout",
     "output_type": "stream",
     "text": [
      "Accuracy score : 0.8493218249075216\n",
      "Confusion matrix : \n",
      " [[2865  183]\n",
      " [ 428  579]]\n",
      "Classification Report\n",
      "              precision    recall  f1-score   support\n",
      "\n",
      "           0       0.87      0.94      0.90      3048\n",
      "           1       0.76      0.57      0.65      1007\n",
      "\n",
      "    accuracy                           0.85      4055\n",
      "   macro avg       0.81      0.76      0.78      4055\n",
      "weighted avg       0.84      0.85      0.84      4055\n",
      "\n",
      "Precision : 0.7598425196850394\n",
      "Recall : 0.5749751737835154\n",
      "F1 Score : 0.6546071226681741\n"
     ]
    }
   ],
   "source": [
    "#Loading the model\n",
    "filename = 'outputs//fakenewsnet_ml_glove//fakenewsnet_SVM_glove.sav'\n",
    "\n",
    "svm_clf_tuned_g = pickle.load(open(filename, 'rb'))\n",
    "\n",
    "pred = svm_clf_tuned_g.predict(glove_test_vectors)\n",
    "print(\"Accuracy score : {}\".format(accuracy_score(y_test, pred)))\n",
    "print(\"Confusion matrix : \\n {}\".format(confusion_matrix(y_test, pred)))\n",
    "print(\"Classification Report\")\n",
    "print(classification_report(y_test, pred))\n",
    "precision = precision_score(y_test, pred)\n",
    "print(\"Precision : {}\".format(precision))\n",
    "recall = recall_score(y_test, pred)\n",
    "print(\"Recall : {}\".format(recall))\n",
    "f1score = f1_score(y_test, pred)\n",
    "print(\"F1 Score : {}\".format(f1score))"
   ]
  },
  {
   "cell_type": "markdown",
   "id": "67e35142",
   "metadata": {},
   "source": [
    "**Save the classification report to csv**"
   ]
  },
  {
   "cell_type": "code",
   "execution_count": 99,
   "id": "e429c378",
   "metadata": {},
   "outputs": [
    {
     "data": {
      "text/html": [
       "<div>\n",
       "<style scoped>\n",
       "    .dataframe tbody tr th:only-of-type {\n",
       "        vertical-align: middle;\n",
       "    }\n",
       "\n",
       "    .dataframe tbody tr th {\n",
       "        vertical-align: top;\n",
       "    }\n",
       "\n",
       "    .dataframe thead th {\n",
       "        text-align: right;\n",
       "    }\n",
       "</style>\n",
       "<table border=\"1\" class=\"dataframe\">\n",
       "  <thead>\n",
       "    <tr style=\"text-align: right;\">\n",
       "      <th></th>\n",
       "      <th>precision</th>\n",
       "      <th>recall</th>\n",
       "      <th>f1-score</th>\n",
       "      <th>support</th>\n",
       "    </tr>\n",
       "  </thead>\n",
       "  <tbody>\n",
       "    <tr>\n",
       "      <th>0</th>\n",
       "      <td>0.870027</td>\n",
       "      <td>0.939961</td>\n",
       "      <td>0.903643</td>\n",
       "      <td>3048.000000</td>\n",
       "    </tr>\n",
       "    <tr>\n",
       "      <th>1</th>\n",
       "      <td>0.759843</td>\n",
       "      <td>0.574975</td>\n",
       "      <td>0.654607</td>\n",
       "      <td>1007.000000</td>\n",
       "    </tr>\n",
       "    <tr>\n",
       "      <th>accuracy</th>\n",
       "      <td>0.849322</td>\n",
       "      <td>0.849322</td>\n",
       "      <td>0.849322</td>\n",
       "      <td>0.849322</td>\n",
       "    </tr>\n",
       "    <tr>\n",
       "      <th>macro avg</th>\n",
       "      <td>0.814935</td>\n",
       "      <td>0.757468</td>\n",
       "      <td>0.779125</td>\n",
       "      <td>4055.000000</td>\n",
       "    </tr>\n",
       "    <tr>\n",
       "      <th>weighted avg</th>\n",
       "      <td>0.842665</td>\n",
       "      <td>0.849322</td>\n",
       "      <td>0.841799</td>\n",
       "      <td>4055.000000</td>\n",
       "    </tr>\n",
       "  </tbody>\n",
       "</table>\n",
       "</div>"
      ],
      "text/plain": [
       "              precision    recall  f1-score      support\n",
       "0              0.870027  0.939961  0.903643  3048.000000\n",
       "1              0.759843  0.574975  0.654607  1007.000000\n",
       "accuracy       0.849322  0.849322  0.849322     0.849322\n",
       "macro avg      0.814935  0.757468  0.779125  4055.000000\n",
       "weighted avg   0.842665  0.849322  0.841799  4055.000000"
      ]
     },
     "execution_count": 99,
     "metadata": {},
     "output_type": "execute_result"
    }
   ],
   "source": [
    "report=classification_report(y_test, pred, output_dict=True)\n",
    "df = pd.DataFrame(report).transpose()\n",
    "df.to_csv(\"outputs//fakenewsnet_ml_glove//model_FAKENEWSNET_SVM_GLOVE_clasifctnrpt.csv\")\n",
    "df.head()"
   ]
  },
  {
   "cell_type": "markdown",
   "id": "ae03bfac",
   "metadata": {},
   "source": [
    "**Plot confusion matrix using the user defined functions as mentioned above earlier**"
   ]
  },
  {
   "cell_type": "code",
   "execution_count": 100,
   "id": "1e8640d2",
   "metadata": {},
   "outputs": [
    {
     "data": {
      "image/png": "[encoded data removed]",
      "text/plain": [
       "<Figure size 360x300 with 2 Axes>"
      ]
     },
     "metadata": {},
     "output_type": "display_data"
    },
    {
     "data": {
      "image/png": "[encoded data removed]",
      "text/plain": [
       "<Figure size 360x300 with 2 Axes>"
      ]
     },
     "metadata": {},
     "output_type": "display_data"
    }
   ],
   "source": [
    "cm=confusion_matrix(y_test, pred)\n",
    "path1=\"outputs//fakenewsnet_ml_glove//fakenewsnet_ml_SVM_glove_cmtrx.png\"\n",
    "path2=\"outputs//fakenewsnet_ml_glove//fakenewsnet_ml_SVM_glove_ncmtrx.png\"\n",
    "confusn_mtrx_plot(cm,path1)\n",
    "norm_confusn_mtrx_plot(cm,path2)"
   ]
  },
  {
   "cell_type": "markdown",
   "id": "1bc92930",
   "metadata": {},
   "source": [
    "***"
   ]
  },
  {
   "cell_type": "markdown",
   "id": "c4f5cd1d",
   "metadata": {},
   "source": [
    "## KNN"
   ]
  },
  {
   "cell_type": "markdown",
   "id": "53384e13",
   "metadata": {},
   "source": [
    "**Initialise the model and  fit it using train data and measure the accuracy metrics**"
   ]
  },
  {
   "cell_type": "code",
   "execution_count": 101,
   "id": "f9cd940b",
   "metadata": {},
   "outputs": [],
   "source": [
    "#Create KNN Object.\n",
    "knn_clf = KNeighborsClassifier()"
   ]
  },
  {
   "cell_type": "code",
   "execution_count": 102,
   "id": "9bbc39b8",
   "metadata": {},
   "outputs": [
    {
     "name": "stdout",
     "output_type": "stream",
     "text": [
      "Accuracy score : 0.8022194821208385\n",
      "Confusion matrix : \n",
      " [[2763  285]\n",
      " [ 517  490]]\n",
      "Classification Report\n",
      "              precision    recall  f1-score   support\n",
      "\n",
      "           0       0.84      0.91      0.87      3048\n",
      "           1       0.63      0.49      0.55      1007\n",
      "\n",
      "    accuracy                           0.80      4055\n",
      "   macro avg       0.74      0.70      0.71      4055\n",
      "weighted avg       0.79      0.80      0.79      4055\n",
      "\n"
     ]
    }
   ],
   "source": [
    "knn_clf.fit(glove_train_vectors,y_train)\n",
    "\n",
    "pred = knn_clf.predict(glove_test_vectors)\n",
    "print(\"Accuracy score : {}\".format(accuracy_score(y_test, pred)))\n",
    "print(\"Confusion matrix : \\n {}\".format(confusion_matrix(y_test, pred)))\n",
    "print(\"Classification Report\")\n",
    "print(classification_report(y_test, pred))"
   ]
  },
  {
   "cell_type": "markdown",
   "id": "389362d5",
   "metadata": {},
   "source": [
    "### Hyperparameter Tuning \n",
    "\n",
    "Define the list of parameters which needed to do hyperparameter tuning"
   ]
  },
  {
   "cell_type": "code",
   "execution_count": 121,
   "id": "a6f8f635",
   "metadata": {
    "collapsed": true
   },
   "outputs": [
    {
     "name": "stdout",
     "output_type": "stream",
     "text": [
      "{'leaf_size': [1,\n",
      "               2,\n",
      "               3,\n",
      "               4,\n",
      "               5,\n",
      "               6,\n",
      "               7,\n",
      "               8,\n",
      "               9,\n",
      "               10,\n",
      "               11,\n",
      "               12,\n",
      "               13,\n",
      "               14,\n",
      "               15,\n",
      "               16,\n",
      "               17,\n",
      "               18,\n",
      "               19,\n",
      "               20,\n",
      "               21,\n",
      "               22,\n",
      "               23,\n",
      "               24,\n",
      "               25,\n",
      "               26,\n",
      "               27,\n",
      "               28,\n",
      "               29,\n",
      "               30,\n",
      "               31,\n",
      "               32,\n",
      "               33,\n",
      "               34,\n",
      "               35,\n",
      "               36,\n",
      "               37,\n",
      "               38,\n",
      "               39,\n",
      "               40,\n",
      "               41,\n",
      "               42,\n",
      "               43,\n",
      "               44,\n",
      "               45,\n",
      "               46,\n",
      "               47,\n",
      "               48,\n",
      "               49],\n",
      " 'n_neighbors': [1,\n",
      "                 2,\n",
      "                 3,\n",
      "                 4,\n",
      "                 5,\n",
      "                 6,\n",
      "                 7,\n",
      "                 8,\n",
      "                 9,\n",
      "                 10,\n",
      "                 11,\n",
      "                 12,\n",
      "                 13,\n",
      "                 14,\n",
      "                 15,\n",
      "                 16,\n",
      "                 17,\n",
      "                 18,\n",
      "                 19,\n",
      "                 20,\n",
      "                 21,\n",
      "                 22,\n",
      "                 23,\n",
      "                 24,\n",
      "                 25,\n",
      "                 26,\n",
      "                 27,\n",
      "                 28,\n",
      "                 29],\n",
      " 'p': [1, 2]}\n"
     ]
    }
   ],
   "source": [
    "# Create the random grid\n",
    "random_grid = {\n",
    "    'leaf_size': list(range(1,50)),\n",
    "               'n_neighbors': list(range(1,30)),\n",
    "               'p':  [1,2],\n",
    "              }\n",
    "pprint(random_grid)"
   ]
  },
  {
   "cell_type": "markdown",
   "id": "f1b6246c",
   "metadata": {},
   "source": [
    "**Initialise the model and fit using train data with hyperparameter tuning**"
   ]
  },
  {
   "cell_type": "code",
   "execution_count": 122,
   "id": "a4379480",
   "metadata": {},
   "outputs": [
    {
     "name": "stdout",
     "output_type": "stream",
     "text": [
      "Fitting 3 folds for each of 100 candidates, totalling 300 fits\n"
     ]
    },
    {
     "data": {
      "text/plain": [
       "RandomizedSearchCV(cv=3, estimator=KNeighborsClassifier(), n_iter=100,\n",
       "                   n_jobs=-1,\n",
       "                   param_distributions={'leaf_size': [1, 2, 3, 4, 5, 6, 7, 8, 9,\n",
       "                                                      10, 11, 12, 13, 14, 15,\n",
       "                                                      16, 17, 18, 19, 20, 21,\n",
       "                                                      22, 23, 24, 25, 26, 27,\n",
       "                                                      28, 29, 30, ...],\n",
       "                                        'n_neighbors': [1, 2, 3, 4, 5, 6, 7, 8,\n",
       "                                                        9, 10, 11, 12, 13, 14,\n",
       "                                                        15, 16, 17, 18, 19, 20,\n",
       "                                                        21, 22, 23, 24, 25, 26,\n",
       "                                                        27, 28, 29],\n",
       "                                        'p': [1, 2]},\n",
       "                   random_state=42, return_train_score=True, verbose=2)"
      ]
     },
     "execution_count": 122,
     "metadata": {},
     "output_type": "execute_result"
    }
   ],
   "source": [
    "\n",
    "knn_clf1=KNeighborsClassifier()\n",
    "\n",
    "rf_random = RandomizedSearchCV(estimator=knn_clf1, param_distributions=random_grid,\n",
    "                              n_iter = 100, \n",
    "                              cv = 3, verbose=2, random_state=42, n_jobs=-1,\n",
    "                              return_train_score=True)\n",
    "\n",
    "\n",
    "# Fit the random search model\n",
    "rf_random.fit(glove_train_vectors,y_train)"
   ]
  },
  {
   "cell_type": "code",
   "execution_count": 123,
   "id": "d3a53a91",
   "metadata": {},
   "outputs": [
    {
     "data": {
      "text/plain": [
       "{'p': 1, 'n_neighbors': 27, 'leaf_size': 13}"
      ]
     },
     "execution_count": 123,
     "metadata": {},
     "output_type": "execute_result"
    }
   ],
   "source": [
    "rf_random.best_params_"
   ]
  },
  {
   "cell_type": "markdown",
   "id": "ad18e021",
   "metadata": {},
   "source": [
    "### Train KNN model  using Best Parameters after hyperparameter tuning\n",
    "\n",
    "**Initialise the model and  fit it using train data and measure the accuracy metrics**"
   ]
  },
  {
   "cell_type": "code",
   "execution_count": 103,
   "id": "194fa9a1",
   "metadata": {},
   "outputs": [
    {
     "name": "stdout",
     "output_type": "stream",
     "text": [
      "KNN - Completed\n"
     ]
    }
   ],
   "source": [
    "knn_clf_tuned_g=KNeighborsClassifier(n_neighbors=27,leaf_size=13,p=1)\n",
    "knn_clf_tuned_g.fit(glove_train_vectors,y_train)\n",
    "\n",
    "# save the model to disk\n",
    "filename = 'outputs//fakenewsnet_ml_glove//fakenewsnet_KNN_glove.sav'\n",
    "pickle.dump(knn_clf_tuned_g, open(filename, 'wb'))\n",
    "print('KNN - Completed')"
   ]
  },
  {
   "cell_type": "code",
   "execution_count": 104,
   "id": "85178580",
   "metadata": {},
   "outputs": [
    {
     "name": "stdout",
     "output_type": "stream",
     "text": [
      "Accuracy score : 0.8246609124537608\n",
      "Confusion matrix : \n",
      " [[2927  121]\n",
      " [ 590  417]]\n",
      "Classification Report\n",
      "              precision    recall  f1-score   support\n",
      "\n",
      "           0       0.83      0.96      0.89      3048\n",
      "           1       0.78      0.41      0.54      1007\n",
      "\n",
      "    accuracy                           0.82      4055\n",
      "   macro avg       0.80      0.69      0.72      4055\n",
      "weighted avg       0.82      0.82      0.80      4055\n",
      "\n",
      "Precision : 0.775092936802974\n",
      "Recall : 0.4141012909632572\n",
      "F1 Score : 0.5398058252427184\n"
     ]
    }
   ],
   "source": [
    "#Loading the model\n",
    "filename = 'outputs//fakenewsnet_ml_glove//fakenewsnet_KNN_glove.sav'\n",
    "\n",
    "knn_clf_tuned_g = pickle.load(open(filename, 'rb'))\n",
    "\n",
    "pred = knn_clf_tuned_g.predict(glove_test_vectors)\n",
    "print(\"Accuracy score : {}\".format(accuracy_score(y_test, pred)))\n",
    "print(\"Confusion matrix : \\n {}\".format(confusion_matrix(y_test, pred)))\n",
    "print(\"Classification Report\")\n",
    "print(classification_report(y_test, pred))\n",
    "precision = precision_score(y_test, pred)\n",
    "print(\"Precision : {}\".format(precision))\n",
    "recall = recall_score(y_test, pred)\n",
    "print(\"Recall : {}\".format(recall))\n",
    "f1score = f1_score(y_test, pred)\n",
    "print(\"F1 Score : {}\".format(f1score))"
   ]
  },
  {
   "cell_type": "markdown",
   "id": "2e294b06",
   "metadata": {},
   "source": [
    "**Save the classification report to csv**"
   ]
  },
  {
   "cell_type": "code",
   "execution_count": 105,
   "id": "26e2ba2d",
   "metadata": {},
   "outputs": [
    {
     "data": {
      "text/html": [
       "<div>\n",
       "<style scoped>\n",
       "    .dataframe tbody tr th:only-of-type {\n",
       "        vertical-align: middle;\n",
       "    }\n",
       "\n",
       "    .dataframe tbody tr th {\n",
       "        vertical-align: top;\n",
       "    }\n",
       "\n",
       "    .dataframe thead th {\n",
       "        text-align: right;\n",
       "    }\n",
       "</style>\n",
       "<table border=\"1\" class=\"dataframe\">\n",
       "  <thead>\n",
       "    <tr style=\"text-align: right;\">\n",
       "      <th></th>\n",
       "      <th>precision</th>\n",
       "      <th>recall</th>\n",
       "      <th>f1-score</th>\n",
       "      <th>support</th>\n",
       "    </tr>\n",
       "  </thead>\n",
       "  <tbody>\n",
       "    <tr>\n",
       "      <th>0</th>\n",
       "      <td>0.832243</td>\n",
       "      <td>0.960302</td>\n",
       "      <td>0.891698</td>\n",
       "      <td>3048.000000</td>\n",
       "    </tr>\n",
       "    <tr>\n",
       "      <th>1</th>\n",
       "      <td>0.775093</td>\n",
       "      <td>0.414101</td>\n",
       "      <td>0.539806</td>\n",
       "      <td>1007.000000</td>\n",
       "    </tr>\n",
       "    <tr>\n",
       "      <th>accuracy</th>\n",
       "      <td>0.824661</td>\n",
       "      <td>0.824661</td>\n",
       "      <td>0.824661</td>\n",
       "      <td>0.824661</td>\n",
       "    </tr>\n",
       "    <tr>\n",
       "      <th>macro avg</th>\n",
       "      <td>0.803668</td>\n",
       "      <td>0.687202</td>\n",
       "      <td>0.715752</td>\n",
       "      <td>4055.000000</td>\n",
       "    </tr>\n",
       "    <tr>\n",
       "      <th>weighted avg</th>\n",
       "      <td>0.818051</td>\n",
       "      <td>0.824661</td>\n",
       "      <td>0.804311</td>\n",
       "      <td>4055.000000</td>\n",
       "    </tr>\n",
       "  </tbody>\n",
       "</table>\n",
       "</div>"
      ],
      "text/plain": [
       "              precision    recall  f1-score      support\n",
       "0              0.832243  0.960302  0.891698  3048.000000\n",
       "1              0.775093  0.414101  0.539806  1007.000000\n",
       "accuracy       0.824661  0.824661  0.824661     0.824661\n",
       "macro avg      0.803668  0.687202  0.715752  4055.000000\n",
       "weighted avg   0.818051  0.824661  0.804311  4055.000000"
      ]
     },
     "execution_count": 105,
     "metadata": {},
     "output_type": "execute_result"
    }
   ],
   "source": [
    "report=classification_report(y_test, pred, output_dict=True)\n",
    "df = pd.DataFrame(report).transpose()\n",
    "df.to_csv(\"outputs//fakenewsnet_ml_glove//model_FAKENEWSNET_KNN_GLOVE_clasifctnrpt.csv\")\n",
    "df.head()"
   ]
  },
  {
   "cell_type": "markdown",
   "id": "a80f848d",
   "metadata": {},
   "source": [
    "**Plot confusion matrix using the user defined functions as mentioned above earlier**"
   ]
  },
  {
   "cell_type": "code",
   "execution_count": 106,
   "id": "292e7d25",
   "metadata": {},
   "outputs": [
    {
     "data": {
      "image/png": "[encoded data removed]",
      "text/plain": [
       "<Figure size 360x300 with 2 Axes>"
      ]
     },
     "metadata": {},
     "output_type": "display_data"
    },
    {
     "data": {
      "image/png": "[encoded data removed]",
      "text/plain": [
       "<Figure size 360x300 with 2 Axes>"
      ]
     },
     "metadata": {},
     "output_type": "display_data"
    }
   ],
   "source": [
    "cm=confusion_matrix(y_test, pred)\n",
    "path1=\"outputs//fakenewsnet_ml_glove//fakenewsnet_ml_KNN_glove_cmtrx.png\"\n",
    "path2=\"outputs//fakenewsnet_ml_glove//fakenewsnet_ml_KNN_glove_ncmtrx.png\"\n",
    "confusn_mtrx_plot(cm,path1)\n",
    "norm_confusn_mtrx_plot(cm,path2)"
   ]
  },
  {
   "cell_type": "markdown",
   "id": "25bcca78",
   "metadata": {},
   "source": [
    "***"
   ]
  },
  {
   "cell_type": "markdown",
   "id": "23fe63e1",
   "metadata": {},
   "source": [
    "### Xgboost"
   ]
  },
  {
   "cell_type": "markdown",
   "id": "69fa0871",
   "metadata": {},
   "source": [
    "**Initialise the model and  fit it using train data and measure the accuracy metrics**"
   ]
  },
  {
   "cell_type": "code",
   "execution_count": 107,
   "id": "bf453fc3",
   "metadata": {},
   "outputs": [
    {
     "name": "stdout",
     "output_type": "stream",
     "text": [
      "Accuracy score : 0.8473489519112207\n",
      "Confusion matrix : \n",
      " [[2906  142]\n",
      " [ 477  530]]\n",
      "Classification Report\n",
      "              precision    recall  f1-score   support\n",
      "\n",
      "           0       0.86      0.95      0.90      3048\n",
      "           1       0.79      0.53      0.63      1007\n",
      "\n",
      "    accuracy                           0.85      4055\n",
      "   macro avg       0.82      0.74      0.77      4055\n",
      "weighted avg       0.84      0.85      0.84      4055\n",
      "\n"
     ]
    }
   ],
   "source": [
    "#Create KNN Object.\n",
    "xg_clf=XGBClassifier(random_state=0)\n",
    "\n",
    "xg_clf.fit(glove_train_vectors,y_train)\n",
    "\n",
    "pred = xg_clf.predict(glove_test_vectors)\n",
    "print(\"Accuracy score : {}\".format(accuracy_score(y_test, pred)))\n",
    "print(\"Confusion matrix : \\n {}\".format(confusion_matrix(y_test, pred)))\n",
    "print(\"Classification Report\")\n",
    "print(classification_report(y_test, pred))\n"
   ]
  },
  {
   "cell_type": "markdown",
   "id": "987fbbde",
   "metadata": {},
   "source": [
    "### Hyperparameter Tuning \n",
    "\n",
    "Define the list of parameters which needed to do hyperparameter tuning"
   ]
  },
  {
   "cell_type": "code",
   "execution_count": 141,
   "id": "d4ab4811",
   "metadata": {
    "collapsed": true
   },
   "outputs": [
    {
     "name": "stdout",
     "output_type": "stream",
     "text": [
      "{'alpha': [1e-05, 0.01, 0.1, 1, 10, 50, 100],\n",
      " 'colsample_bylevel': array([0.5, 0.6, 0.7, 0.8, 0.9]),\n",
      " 'colsample_bytree': array([0.5, 0.6, 0.7, 0.8, 0.9]),\n",
      " 'gamma': [1,\n",
      "           2,\n",
      "           3,\n",
      "           4,\n",
      "           5,\n",
      "           6,\n",
      "           7,\n",
      "           8,\n",
      "           9,\n",
      "           10,\n",
      "           11,\n",
      "           12,\n",
      "           13,\n",
      "           14,\n",
      "           15,\n",
      "           16,\n",
      "           17,\n",
      "           18,\n",
      "           19,\n",
      "           20,\n",
      "           21,\n",
      "           22,\n",
      "           23,\n",
      "           24,\n",
      "           25,\n",
      "           26,\n",
      "           27,\n",
      "           28,\n",
      "           29],\n",
      " 'learning_rate': [0.01, 0.1, 0.2, 0.3, 0.4],\n",
      " 'max_depth': range(3, 15, 2),\n",
      " 'min_child_weight': range(1, 6, 2),\n",
      " 'n_estimators': [100, 250, 500],\n",
      " 'scale_pos_weight': range(1, 5),\n",
      " 'subsample': array([0.5, 0.6, 0.7, 0.8, 0.9])}\n"
     ]
    }
   ],
   "source": [
    "# Create the random grid\n",
    "random_grid = {\n",
    "    'min_child_weight': range(1,6,2),\n",
    "    'gamma': list(range(1,30)),\n",
    "    'max_depth':  range(3,15,2),\n",
    "    'alpha': [1e-5, 1e-2, 0.1,1,10,50, 100],\n",
    "    'subsample':np.arange(0.5, 1.0, 0.1),\n",
    "    'scale_pos_weight':range(1,5,1),\n",
    "    'colsample_bytree':np.arange(0.5, 1.0, 0.1),\n",
    "    'n_estimators':[100, 250, 500],\n",
    "    'learning_rate': [0.01, 0.1, 0.2, 0.3, 0.4],\n",
    "    'colsample_bylevel': np.arange(0.5, 1.0, 0.1),\n",
    "    }\n",
    "pprint(random_grid)"
   ]
  },
  {
   "cell_type": "markdown",
   "id": "24365754",
   "metadata": {},
   "source": [
    "**Initialise the model and fit using train data with hyperparameter tuning**"
   ]
  },
  {
   "cell_type": "code",
   "execution_count": 142,
   "id": "97aa812e",
   "metadata": {
    "scrolled": true
   },
   "outputs": [
    {
     "name": "stdout",
     "output_type": "stream",
     "text": [
      "Fitting 3 folds for each of 100 candidates, totalling 300 fits\n"
     ]
    },
    {
     "data": {
      "text/plain": [
       "RandomizedSearchCV(cv=3,\n",
       "                   estimator=XGBClassifier(base_score=None, booster=None,\n",
       "                                           callbacks=None,\n",
       "                                           colsample_bylevel=None,\n",
       "                                           colsample_bynode=None,\n",
       "                                           colsample_bytree=None,\n",
       "                                           early_stopping_rounds=None,\n",
       "                                           enable_categorical=False,\n",
       "                                           eval_metric=None, gamma=None,\n",
       "                                           gpu_id=None, grow_policy=None,\n",
       "                                           importance_type=None,\n",
       "                                           interaction_constraints=None,\n",
       "                                           learning_rate=None, max_bin=None,...\n",
       "                                        'colsample_bytree': array([0.5, 0.6, 0.7, 0.8, 0.9]),\n",
       "                                        'gamma': [1, 2, 3, 4, 5, 6, 7, 8, 9, 10,\n",
       "                                                  11, 12, 13, 14, 15, 16, 17,\n",
       "                                                  18, 19, 20, 21, 22, 23, 24,\n",
       "                                                  25, 26, 27, 28, 29],\n",
       "                                        'learning_rate': [0.01, 0.1, 0.2, 0.3,\n",
       "                                                          0.4],\n",
       "                                        'max_depth': range(3, 15, 2),\n",
       "                                        'min_child_weight': range(1, 6, 2),\n",
       "                                        'n_estimators': [100, 250, 500],\n",
       "                                        'scale_pos_weight': range(1, 5),\n",
       "                                        'subsample': array([0.5, 0.6, 0.7, 0.8, 0.9])},\n",
       "                   random_state=42, return_train_score=True, verbose=2)"
      ]
     },
     "execution_count": 142,
     "metadata": {},
     "output_type": "execute_result"
    }
   ],
   "source": [
    "\n",
    "xg_clf1=XGBClassifier(random_state=0)\n",
    "\n",
    "\n",
    "rf_random = RandomizedSearchCV(estimator=xg_clf1, param_distributions=random_grid,\n",
    "                              n_iter = 100, \n",
    "                              cv = 3, verbose=2, random_state=42, n_jobs=-1,\n",
    "                              return_train_score=True)\n",
    "\n",
    "\n",
    "# Fit the random search model\n",
    "rf_random.fit(glove_train_vectors,y_train)"
   ]
  },
  {
   "cell_type": "code",
   "execution_count": 143,
   "id": "3c3fc847",
   "metadata": {
    "collapsed": true
   },
   "outputs": [
    {
     "data": {
      "text/plain": [
       "{'subsample': 0.7,\n",
       " 'scale_pos_weight': 2,\n",
       " 'n_estimators': 500,\n",
       " 'min_child_weight': 1,\n",
       " 'max_depth': 5,\n",
       " 'learning_rate': 0.1,\n",
       " 'gamma': 3,\n",
       " 'colsample_bytree': 0.7999999999999999,\n",
       " 'colsample_bylevel': 0.8999999999999999,\n",
       " 'alpha': 1}"
      ]
     },
     "execution_count": 143,
     "metadata": {},
     "output_type": "execute_result"
    }
   ],
   "source": [
    "rf_random.best_params_"
   ]
  },
  {
   "cell_type": "markdown",
   "id": "47a04681",
   "metadata": {},
   "source": [
    "### Train XgBoost model  using Best Parameters after hyperparameter tuning\n",
    "\n",
    "**Initialise the model and  fit it using train data and measure the accuracy metrics**"
   ]
  },
  {
   "cell_type": "code",
   "execution_count": 108,
   "id": "9362cb9b",
   "metadata": {},
   "outputs": [
    {
     "name": "stdout",
     "output_type": "stream",
     "text": [
      "XgBoost - Completed\n"
     ]
    }
   ],
   "source": [
    "xg_clf_tuned_g=XGBClassifier(subsample=0.7,scale_pos_weight=2,n_estimators=500,min_child_weight=1,max_depth=5,learning_rate=0.1,\n",
    "                     gamma=3,colsample_bytree=0.79,colsample_bylevel=0.89,alpha=1)\n",
    "xg_clf_tuned_g.fit(glove_train_vectors,y_train)\n",
    "\n",
    "\n",
    "# save the model to disk\n",
    "filename = 'outputs//fakenewsnet_ml_glove//fakenewsnet_XG_glove.sav'\n",
    "pickle.dump(xg_clf_tuned_g, open(filename, 'wb'))\n",
    "print('XgBoost - Completed')"
   ]
  },
  {
   "cell_type": "code",
   "execution_count": 109,
   "id": "3355068c",
   "metadata": {},
   "outputs": [
    {
     "name": "stdout",
     "output_type": "stream",
     "text": [
      "Accuracy score : 0.8475955610357583\n",
      "Confusion matrix : \n",
      " [[2821  227]\n",
      " [ 391  616]]\n",
      "Classification Report\n",
      "              precision    recall  f1-score   support\n",
      "\n",
      "           0       0.88      0.93      0.90      3048\n",
      "           1       0.73      0.61      0.67      1007\n",
      "\n",
      "    accuracy                           0.85      4055\n",
      "   macro avg       0.80      0.77      0.78      4055\n",
      "weighted avg       0.84      0.85      0.84      4055\n",
      "\n",
      "Precision : 0.730723606168446\n",
      "Recall : 0.6117179741807348\n",
      "F1 Score : 0.6659459459459459\n"
     ]
    }
   ],
   "source": [
    "#Loading the model\n",
    "filename = 'outputs//fakenewsnet_ml_glove//fakenewsnet_XG_glove.sav'\n",
    "\n",
    "xg_clf_tuned_g = pickle.load(open(filename, 'rb'))\n",
    "\n",
    "pred = xg_clf_tuned_g.predict(glove_test_vectors)\n",
    "print(\"Accuracy score : {}\".format(accuracy_score(y_test, pred)))\n",
    "print(\"Confusion matrix : \\n {}\".format(confusion_matrix(y_test, pred)))\n",
    "print(\"Classification Report\")\n",
    "print(classification_report(y_test, pred))\n",
    "precision = precision_score(y_test, pred)\n",
    "print(\"Precision : {}\".format(precision))\n",
    "recall = recall_score(y_test, pred)\n",
    "print(\"Recall : {}\".format(recall))\n",
    "f1score = f1_score(y_test, pred)\n",
    "print(\"F1 Score : {}\".format(f1score))"
   ]
  },
  {
   "cell_type": "markdown",
   "id": "afbb4a96",
   "metadata": {},
   "source": [
    "**Save the classification report to csv**"
   ]
  },
  {
   "cell_type": "code",
   "execution_count": 110,
   "id": "07988122",
   "metadata": {},
   "outputs": [
    {
     "data": {
      "text/html": [
       "<div>\n",
       "<style scoped>\n",
       "    .dataframe tbody tr th:only-of-type {\n",
       "        vertical-align: middle;\n",
       "    }\n",
       "\n",
       "    .dataframe tbody tr th {\n",
       "        vertical-align: top;\n",
       "    }\n",
       "\n",
       "    .dataframe thead th {\n",
       "        text-align: right;\n",
       "    }\n",
       "</style>\n",
       "<table border=\"1\" class=\"dataframe\">\n",
       "  <thead>\n",
       "    <tr style=\"text-align: right;\">\n",
       "      <th></th>\n",
       "      <th>precision</th>\n",
       "      <th>recall</th>\n",
       "      <th>f1-score</th>\n",
       "      <th>support</th>\n",
       "    </tr>\n",
       "  </thead>\n",
       "  <tbody>\n",
       "    <tr>\n",
       "      <th>0</th>\n",
       "      <td>0.878269</td>\n",
       "      <td>0.925525</td>\n",
       "      <td>0.901278</td>\n",
       "      <td>3048.000000</td>\n",
       "    </tr>\n",
       "    <tr>\n",
       "      <th>1</th>\n",
       "      <td>0.730724</td>\n",
       "      <td>0.611718</td>\n",
       "      <td>0.665946</td>\n",
       "      <td>1007.000000</td>\n",
       "    </tr>\n",
       "    <tr>\n",
       "      <th>accuracy</th>\n",
       "      <td>0.847596</td>\n",
       "      <td>0.847596</td>\n",
       "      <td>0.847596</td>\n",
       "      <td>0.847596</td>\n",
       "    </tr>\n",
       "    <tr>\n",
       "      <th>macro avg</th>\n",
       "      <td>0.804496</td>\n",
       "      <td>0.768621</td>\n",
       "      <td>0.783612</td>\n",
       "      <td>4055.000000</td>\n",
       "    </tr>\n",
       "    <tr>\n",
       "      <th>weighted avg</th>\n",
       "      <td>0.841628</td>\n",
       "      <td>0.847596</td>\n",
       "      <td>0.842837</td>\n",
       "      <td>4055.000000</td>\n",
       "    </tr>\n",
       "  </tbody>\n",
       "</table>\n",
       "</div>"
      ],
      "text/plain": [
       "              precision    recall  f1-score      support\n",
       "0              0.878269  0.925525  0.901278  3048.000000\n",
       "1              0.730724  0.611718  0.665946  1007.000000\n",
       "accuracy       0.847596  0.847596  0.847596     0.847596\n",
       "macro avg      0.804496  0.768621  0.783612  4055.000000\n",
       "weighted avg   0.841628  0.847596  0.842837  4055.000000"
      ]
     },
     "execution_count": 110,
     "metadata": {},
     "output_type": "execute_result"
    }
   ],
   "source": [
    "report=classification_report(y_test, pred, output_dict=True)\n",
    "df = pd.DataFrame(report).transpose()\n",
    "df.to_csv(\"outputs//fakenewsnet_ml_glove//model_FAKENEWSNET_XG_GLOVE_clasifctnrpt.csv\")\n",
    "df.head()"
   ]
  },
  {
   "cell_type": "markdown",
   "id": "30c85041",
   "metadata": {},
   "source": [
    "**Plot confusion matrix using the user defined functions as mentioned above earlier**"
   ]
  },
  {
   "cell_type": "code",
   "execution_count": 111,
   "id": "e9b02fc2",
   "metadata": {},
   "outputs": [
    {
     "data": {
      "image/png": "[encoded data removed]",
      "text/plain": [
       "<Figure size 360x300 with 2 Axes>"
      ]
     },
     "metadata": {},
     "output_type": "display_data"
    },
    {
     "data": {
      "image/png": "[encoded data removed]",
      "text/plain": [
       "<Figure size 360x300 with 2 Axes>"
      ]
     },
     "metadata": {},
     "output_type": "display_data"
    }
   ],
   "source": [
    "cm=confusion_matrix(y_test, pred)\n",
    "path1=\"outputs//fakenewsnet_ml_glove//fakenewsnet_ml_XG_glove_cmtrx.png\"\n",
    "path2=\"outputs//fakenewsnet_ml_glove//fakenewsnet_ml_XG_glove_ncmtrx.png\"\n",
    "confusn_mtrx_plot(cm,path1)\n",
    "norm_confusn_mtrx_plot(cm,path2)"
   ]
  },
  {
   "cell_type": "markdown",
   "id": "de3cd5a0",
   "metadata": {},
   "source": [
    "***"
   ]
  },
  {
   "cell_type": "markdown",
   "id": "4697b144",
   "metadata": {},
   "source": [
    "### Naiva Bayes"
   ]
  },
  {
   "cell_type": "markdown",
   "id": "1f13b1ef",
   "metadata": {},
   "source": [
    "**Initialise the model and  fit it using train data and measure the accuracy metrics**"
   ]
  },
  {
   "cell_type": "code",
   "execution_count": 112,
   "id": "9bbbc428",
   "metadata": {},
   "outputs": [
    {
     "name": "stdout",
     "output_type": "stream",
     "text": [
      "Accuracy score : 0.6180024660912454\n",
      "Confusion matrix : \n",
      " [[1740 1308]\n",
      " [ 241  766]]\n",
      "Classification Report\n",
      "              precision    recall  f1-score   support\n",
      "\n",
      "           0       0.88      0.57      0.69      3048\n",
      "           1       0.37      0.76      0.50      1007\n",
      "\n",
      "    accuracy                           0.62      4055\n",
      "   macro avg       0.62      0.67      0.59      4055\n",
      "weighted avg       0.75      0.62      0.64      4055\n",
      "\n"
     ]
    }
   ],
   "source": [
    "from sklearn.preprocessing import MinMaxScaler\n",
    "from sklearn.naive_bayes import GaussianNB\n",
    "nb_clf=GaussianNB()\n",
    "#p = Pipeline([('Normalizing',MinMaxScaler()),('MultinomialNB',MultinomialNB())])\n",
    "nb_clf.fit(glove_train_vectors,y_train) \n",
    "\n",
    "pred = nb_clf.predict(glove_test_vectors)\n",
    "print(\"Accuracy score : {}\".format(accuracy_score(y_test, pred)))\n",
    "print(\"Confusion matrix : \\n {}\".format(confusion_matrix(y_test, pred)))\n",
    "print(\"Classification Report\")\n",
    "print(classification_report(y_test, pred))"
   ]
  },
  {
   "cell_type": "markdown",
   "id": "26debaa3",
   "metadata": {},
   "source": [
    "### Hyperparameter Tuning \n",
    "\n",
    "Define the list of parameters which needed to do hyperparameter tuning"
   ]
  },
  {
   "cell_type": "code",
   "execution_count": 157,
   "id": "46cd5b25",
   "metadata": {},
   "outputs": [
    {
     "name": "stdout",
     "output_type": "stream",
     "text": [
      "{'var_smoothing': [1e-05, 0.0001, 0.001, 0.1, 1, 10, 100, 1000]}\n"
     ]
    }
   ],
   "source": [
    "# Create the random grid\n",
    "random_grid = {\n",
    "    'var_smoothing': [0.00001, 0.0001, 0.001, 0.1, 1, 10, 100,1000]\n",
    "#    # 'class_prior':[True,False],\n",
    "#     'fit_prior':[True,False]\n",
    "              }\n",
    "pprint(random_grid)"
   ]
  },
  {
   "cell_type": "markdown",
   "id": "426ff4fb",
   "metadata": {},
   "source": [
    "**Initialise the model and fit using train data with hyperparameter tuning**"
   ]
  },
  {
   "cell_type": "code",
   "execution_count": 158,
   "id": "fe092078",
   "metadata": {},
   "outputs": [
    {
     "name": "stdout",
     "output_type": "stream",
     "text": [
      "Fitting 3 folds for each of 8 candidates, totalling 24 fits\n"
     ]
    },
    {
     "data": {
      "text/plain": [
       "RandomizedSearchCV(cv=3, estimator=GaussianNB(), n_iter=100, n_jobs=-1,\n",
       "                   param_distributions={'var_smoothing': [1e-05, 0.0001, 0.001,\n",
       "                                                          0.1, 1, 10, 100,\n",
       "                                                          1000]},\n",
       "                   random_state=42, return_train_score=True, verbose=2)"
      ]
     },
     "execution_count": 158,
     "metadata": {},
     "output_type": "execute_result"
    }
   ],
   "source": [
    "\n",
    "nb_clf1=GaussianNB()\n",
    "\n",
    "\n",
    "rf_random = RandomizedSearchCV(estimator=nb_clf1, param_distributions=random_grid,\n",
    "                              n_iter = 100, \n",
    "                              cv = 3, verbose=2, random_state=42, n_jobs=-1,\n",
    "                              return_train_score=True)\n",
    "\n",
    "\n",
    "# Fit the random search model\n",
    "rf_random.fit(glove_train_vectors,y_train)"
   ]
  },
  {
   "cell_type": "code",
   "execution_count": 159,
   "id": "7cbd5f68",
   "metadata": {},
   "outputs": [
    {
     "data": {
      "text/plain": [
       "{'var_smoothing': 10}"
      ]
     },
     "execution_count": 159,
     "metadata": {},
     "output_type": "execute_result"
    }
   ],
   "source": [
    "rf_random.best_params_"
   ]
  },
  {
   "cell_type": "markdown",
   "id": "f3d95ad7",
   "metadata": {},
   "source": [
    "### Train Naive Bayes model  using Best Parameters after hyperparameter tuning\n",
    "\n",
    "**Initialise the model and  fit it using train data and measure the accuracy metrics**"
   ]
  },
  {
   "cell_type": "code",
   "execution_count": 113,
   "id": "59e39250",
   "metadata": {},
   "outputs": [
    {
     "name": "stdout",
     "output_type": "stream",
     "text": [
      "Naive Bayes - Completed\n"
     ]
    }
   ],
   "source": [
    "nb_clf_tuned_g=GaussianNB(var_smoothing=10)\n",
    "\n",
    "nb_clf_tuned_g.fit(glove_train_vectors,y_train)\n",
    "\n",
    "# save the model to disk\n",
    "filename = 'outputs//fakenewsnet_ml_glove//fakenewsnet_NB_glove.sav'\n",
    "pickle.dump(nb_clf_tuned_g, open(filename, 'wb'))\n",
    "print('Naive Bayes - Completed')"
   ]
  },
  {
   "cell_type": "code",
   "execution_count": 123,
   "id": "8b9afe70",
   "metadata": {},
   "outputs": [
    {
     "name": "stdout",
     "output_type": "stream",
     "text": [
      "Accuracy score : 0.6944512946979038\n",
      "Confusion matrix : \n",
      " [[2186  862]\n",
      " [ 377  630]]\n",
      "Classification Report\n",
      "              precision    recall  f1-score   support\n",
      "\n",
      "           0       0.85      0.72      0.78      3048\n",
      "           1       0.42      0.63      0.50      1007\n",
      "\n",
      "    accuracy                           0.69      4055\n",
      "   macro avg       0.64      0.67      0.64      4055\n",
      "weighted avg       0.75      0.69      0.71      4055\n",
      "\n",
      "Precision : 0.4222520107238606\n",
      "Recall : 0.6256206554121152\n",
      "F1 Score : 0.5042016806722689\n"
     ]
    }
   ],
   "source": [
    "#Loading the model\n",
    "filename = 'outputs//fakenewsnet_ml_glove//fakenewsnet_NB_glove.sav'\n",
    "\n",
    "nb_clf_tuned_g = pickle.load(open(filename, 'rb'))\n",
    "\n",
    "#pred = nb_clf_tuned_g.predict(glove_test_vectors)\n",
    "\n",
    "y_pred = nb_clf_tuned_g.predict_proba(glove_test_vectors)[:, 1]\n",
    "pred=np.array((y_pred > 0.27).astype(int))\n",
    "\n",
    "print(\"Accuracy score : {}\".format(accuracy_score(y_test, pred)))\n",
    "print(\"Confusion matrix : \\n {}\".format(confusion_matrix(y_test, pred)))\n",
    "print(\"Classification Report\")\n",
    "print(classification_report(y_test, pred))\n",
    "precision = precision_score(y_test, pred)\n",
    "print(\"Precision : {}\".format(precision))\n",
    "recall = recall_score(y_test, pred)\n",
    "print(\"Recall : {}\".format(recall))\n",
    "f1score = f1_score(y_test, pred)\n",
    "print(\"F1 Score : {}\".format(f1score))"
   ]
  },
  {
   "cell_type": "markdown",
   "id": "9beb7d86",
   "metadata": {},
   "source": [
    "**Save the classification report to csv**"
   ]
  },
  {
   "cell_type": "code",
   "execution_count": 124,
   "id": "37db30ac",
   "metadata": {},
   "outputs": [
    {
     "data": {
      "text/html": [
       "<div>\n",
       "<style scoped>\n",
       "    .dataframe tbody tr th:only-of-type {\n",
       "        vertical-align: middle;\n",
       "    }\n",
       "\n",
       "    .dataframe tbody tr th {\n",
       "        vertical-align: top;\n",
       "    }\n",
       "\n",
       "    .dataframe thead th {\n",
       "        text-align: right;\n",
       "    }\n",
       "</style>\n",
       "<table border=\"1\" class=\"dataframe\">\n",
       "  <thead>\n",
       "    <tr style=\"text-align: right;\">\n",
       "      <th></th>\n",
       "      <th>precision</th>\n",
       "      <th>recall</th>\n",
       "      <th>f1-score</th>\n",
       "      <th>support</th>\n",
       "    </tr>\n",
       "  </thead>\n",
       "  <tbody>\n",
       "    <tr>\n",
       "      <th>0</th>\n",
       "      <td>0.852907</td>\n",
       "      <td>0.717192</td>\n",
       "      <td>0.779184</td>\n",
       "      <td>3048.000000</td>\n",
       "    </tr>\n",
       "    <tr>\n",
       "      <th>1</th>\n",
       "      <td>0.422252</td>\n",
       "      <td>0.625621</td>\n",
       "      <td>0.504202</td>\n",
       "      <td>1007.000000</td>\n",
       "    </tr>\n",
       "    <tr>\n",
       "      <th>accuracy</th>\n",
       "      <td>0.694451</td>\n",
       "      <td>0.694451</td>\n",
       "      <td>0.694451</td>\n",
       "      <td>0.694451</td>\n",
       "    </tr>\n",
       "    <tr>\n",
       "      <th>macro avg</th>\n",
       "      <td>0.637579</td>\n",
       "      <td>0.671406</td>\n",
       "      <td>0.641693</td>\n",
       "      <td>4055.000000</td>\n",
       "    </tr>\n",
       "    <tr>\n",
       "      <th>weighted avg</th>\n",
       "      <td>0.745960</td>\n",
       "      <td>0.694451</td>\n",
       "      <td>0.710896</td>\n",
       "      <td>4055.000000</td>\n",
       "    </tr>\n",
       "  </tbody>\n",
       "</table>\n",
       "</div>"
      ],
      "text/plain": [
       "              precision    recall  f1-score      support\n",
       "0              0.852907  0.717192  0.779184  3048.000000\n",
       "1              0.422252  0.625621  0.504202  1007.000000\n",
       "accuracy       0.694451  0.694451  0.694451     0.694451\n",
       "macro avg      0.637579  0.671406  0.641693  4055.000000\n",
       "weighted avg   0.745960  0.694451  0.710896  4055.000000"
      ]
     },
     "execution_count": 124,
     "metadata": {},
     "output_type": "execute_result"
    }
   ],
   "source": [
    "report=classification_report(y_test, pred, output_dict=True)\n",
    "df = pd.DataFrame(report).transpose()\n",
    "df.to_csv(\"outputs//fakenewsnet_ml_glove//model_FAKENEWSNET_NB_GLOVE_clasifctnrpt.csv\")\n",
    "df.head()"
   ]
  },
  {
   "cell_type": "markdown",
   "id": "52610a26",
   "metadata": {},
   "source": [
    "**Plot confusion matrix using the user defined functions as mentioned above earlier**"
   ]
  },
  {
   "cell_type": "code",
   "execution_count": 125,
   "id": "2d1c947c",
   "metadata": {},
   "outputs": [
    {
     "data": {
      "image/png": "[encoded data removed]",
      "text/plain": [
       "<Figure size 360x300 with 2 Axes>"
      ]
     },
     "metadata": {},
     "output_type": "display_data"
    },
    {
     "data": {
      "image/png": "[encoded data removed]",
      "text/plain": [
       "<Figure size 360x300 with 2 Axes>"
      ]
     },
     "metadata": {},
     "output_type": "display_data"
    }
   ],
   "source": [
    "cm=confusion_matrix(y_test, pred)\n",
    "path1=\"outputs//fakenewsnet_ml_glove//fakenewsnet_ml_NB_glove_cmtrx.png\"\n",
    "path2=\"outputs//fakenewsnet_ml_glove//fakenewsnet_ml_NB_glove_ncmtrx.png\"\n",
    "confusn_mtrx_plot(cm,path1)\n",
    "norm_confusn_mtrx_plot(cm,path2)"
   ]
  },
  {
   "cell_type": "markdown",
   "id": "e1e90aa0",
   "metadata": {},
   "source": [
    "***"
   ]
  },
  {
   "cell_type": "markdown",
   "id": "07a06350",
   "metadata": {},
   "source": [
    "### Logistic Regression"
   ]
  },
  {
   "cell_type": "markdown",
   "id": "37523aaa",
   "metadata": {},
   "source": [
    "**Initialise the model and  fit it using train data and measure the accuracy metrics**"
   ]
  },
  {
   "cell_type": "code",
   "execution_count": 126,
   "id": "9938e179",
   "metadata": {},
   "outputs": [],
   "source": [
    "from sklearn.linear_model import LogisticRegression"
   ]
  },
  {
   "cell_type": "code",
   "execution_count": 127,
   "id": "dd9d95af",
   "metadata": {},
   "outputs": [
    {
     "name": "stdout",
     "output_type": "stream",
     "text": [
      "Accuracy score : 0.8231812577065352\n",
      "Confusion matrix : \n",
      " [[2923  125]\n",
      " [ 592  415]]\n",
      "Classification Report\n",
      "              precision    recall  f1-score   support\n",
      "\n",
      "           0       0.83      0.96      0.89      3048\n",
      "           1       0.77      0.41      0.54      1007\n",
      "\n",
      "    accuracy                           0.82      4055\n",
      "   macro avg       0.80      0.69      0.71      4055\n",
      "weighted avg       0.82      0.82      0.80      4055\n",
      "\n"
     ]
    }
   ],
   "source": [
    "logticreg_clf=LogisticRegression()\n",
    "\n",
    "logticreg_clf.fit(glove_train_vectors,y_train)\n",
    "\n",
    "pred = logticreg_clf.predict(glove_test_vectors)\n",
    "print(\"Accuracy score : {}\".format(accuracy_score(y_test, pred)))\n",
    "print(\"Confusion matrix : \\n {}\".format(confusion_matrix(y_test, pred)))\n",
    "print(\"Classification Report\")\n",
    "print(classification_report(y_test, pred))"
   ]
  },
  {
   "cell_type": "markdown",
   "id": "21ad942f",
   "metadata": {},
   "source": [
    "### Hyperparameter Tuning for Logistic Regression\n",
    "\n",
    "Define the list of parameters which needed to do hyperparameter tuning"
   ]
  },
  {
   "cell_type": "code",
   "execution_count": 166,
   "id": "35b59595",
   "metadata": {},
   "outputs": [
    {
     "name": "stdout",
     "output_type": "stream",
     "text": [
      "{'C': [100, 10, 1.0, 0.1, 0.01],\n",
      " 'penalty': ['l1', 'l2', 'elasticnet'],\n",
      " 'solver': ['newton-cg', 'lbfgs', 'liblinear', 'sag', 'saga']}\n"
     ]
    }
   ],
   "source": [
    "# Create the random grid\n",
    "random_grid = {\n",
    "    'solver': ['newton-cg', 'lbfgs', 'liblinear', 'sag', 'saga'],\n",
    "     'C':[100, 10, 1.0, 0.1, 0.01],\n",
    "    'penalty':['l1','l2','elasticnet']\n",
    "              }\n",
    "pprint(random_grid)"
   ]
  },
  {
   "cell_type": "markdown",
   "id": "94e1ab2e",
   "metadata": {},
   "source": [
    "**Initialise the model and fit using train data with hyperparameter tuning**"
   ]
  },
  {
   "cell_type": "code",
   "execution_count": 167,
   "id": "76182aa4",
   "metadata": {},
   "outputs": [
    {
     "name": "stdout",
     "output_type": "stream",
     "text": [
      "Fitting 3 folds for each of 75 candidates, totalling 225 fits\n"
     ]
    },
    {
     "data": {
      "text/plain": [
       "RandomizedSearchCV(cv=3, estimator=LogisticRegression(), n_iter=100, n_jobs=-1,\n",
       "                   param_distributions={'C': [100, 10, 1.0, 0.1, 0.01],\n",
       "                                        'penalty': ['l1', 'l2', 'elasticnet'],\n",
       "                                        'solver': ['newton-cg', 'lbfgs',\n",
       "                                                   'liblinear', 'sag',\n",
       "                                                   'saga']},\n",
       "                   random_state=42, return_train_score=True, verbose=2)"
      ]
     },
     "execution_count": 167,
     "metadata": {},
     "output_type": "execute_result"
    }
   ],
   "source": [
    "\n",
    "logticreg_clf_tuned=LogisticRegression()\n",
    "\n",
    "\n",
    "rf_random = RandomizedSearchCV(estimator=logticreg_clf_tuned, param_distributions=random_grid,\n",
    "                              n_iter = 100, \n",
    "                              cv = 3, verbose=2, random_state=42, n_jobs=-1,\n",
    "                              return_train_score=True)\n",
    "\n",
    "\n",
    "# Fit the random search model\n",
    "rf_random.fit(glove_train_vectors,y_train)"
   ]
  },
  {
   "cell_type": "code",
   "execution_count": 168,
   "id": "ee492629",
   "metadata": {},
   "outputs": [
    {
     "data": {
      "text/plain": [
       "{'solver': 'liblinear', 'penalty': 'l1', 'C': 10}"
      ]
     },
     "execution_count": 168,
     "metadata": {},
     "output_type": "execute_result"
    }
   ],
   "source": [
    "rf_random.best_params_"
   ]
  },
  {
   "cell_type": "markdown",
   "id": "2536836d",
   "metadata": {},
   "source": [
    "### Train Logistic Regression model  using Best Parameters after hyperparameter tuning\n",
    "\n",
    "**Initialise the model and  fit it using train data and measure the accuracy metrics**"
   ]
  },
  {
   "cell_type": "code",
   "execution_count": 131,
   "id": "b2154289",
   "metadata": {},
   "outputs": [
    {
     "name": "stdout",
     "output_type": "stream",
     "text": [
      "Logisitic Regression - Completed\n"
     ]
    }
   ],
   "source": [
    "logticreg_clf_tuned_g=LogisticRegression()\n",
    "\n",
    "logticreg_clf_tuned_g.fit(glove_train_vectors,y_train)\n",
    "\n",
    "# save the model to disk\n",
    "filename = 'outputs//fakenewsnet_ml_glove//fakenewsnet_LR_glove.sav'\n",
    "pickle.dump(logticreg_clf_tuned_g, open(filename, 'wb'))\n",
    "print('Logisitic Regression - Completed')"
   ]
  },
  {
   "cell_type": "code",
   "execution_count": 132,
   "id": "92ab1c0c",
   "metadata": {},
   "outputs": [
    {
     "name": "stdout",
     "output_type": "stream",
     "text": [
      "Accuracy score : 0.8231812577065352\n",
      "Confusion matrix : \n",
      " [[2923  125]\n",
      " [ 592  415]]\n",
      "Classification Report\n",
      "              precision    recall  f1-score   support\n",
      "\n",
      "           0       0.83      0.96      0.89      3048\n",
      "           1       0.77      0.41      0.54      1007\n",
      "\n",
      "    accuracy                           0.82      4055\n",
      "   macro avg       0.80      0.69      0.71      4055\n",
      "weighted avg       0.82      0.82      0.80      4055\n",
      "\n",
      "Precision : 0.7685185185185185\n",
      "Recall : 0.41211519364448856\n",
      "F1 Score : 0.5365223012281836\n"
     ]
    }
   ],
   "source": [
    "#Loading the model\n",
    "filename = 'outputs//fakenewsnet_ml_glove//fakenewsnet_LR_glove.sav'\n",
    "\n",
    "logticreg_clf_tuned_g = pickle.load(open(filename, 'rb'))\n",
    "\n",
    "pred = logticreg_clf_tuned_g.predict(glove_test_vectors)\n",
    "\n",
    "print(\"Accuracy score : {}\".format(accuracy_score(y_test, pred)))\n",
    "print(\"Confusion matrix : \\n {}\".format(confusion_matrix(y_test, pred)))\n",
    "print(\"Classification Report\")\n",
    "print(classification_report(y_test, pred))\n",
    "precision = precision_score(y_test, pred)\n",
    "print(\"Precision : {}\".format(precision))\n",
    "recall = recall_score(y_test, pred)\n",
    "print(\"Recall : {}\".format(recall))\n",
    "f1score = f1_score(y_test, pred)\n",
    "print(\"F1 Score : {}\".format(f1score))"
   ]
  },
  {
   "cell_type": "markdown",
   "id": "15f0b1a2",
   "metadata": {},
   "source": [
    "**Save the classification report to csv**"
   ]
  },
  {
   "cell_type": "code",
   "execution_count": 133,
   "id": "d68e03b1",
   "metadata": {},
   "outputs": [
    {
     "data": {
      "text/html": [
       "<div>\n",
       "<style scoped>\n",
       "    .dataframe tbody tr th:only-of-type {\n",
       "        vertical-align: middle;\n",
       "    }\n",
       "\n",
       "    .dataframe tbody tr th {\n",
       "        vertical-align: top;\n",
       "    }\n",
       "\n",
       "    .dataframe thead th {\n",
       "        text-align: right;\n",
       "    }\n",
       "</style>\n",
       "<table border=\"1\" class=\"dataframe\">\n",
       "  <thead>\n",
       "    <tr style=\"text-align: right;\">\n",
       "      <th></th>\n",
       "      <th>precision</th>\n",
       "      <th>recall</th>\n",
       "      <th>f1-score</th>\n",
       "      <th>support</th>\n",
       "    </tr>\n",
       "  </thead>\n",
       "  <tbody>\n",
       "    <tr>\n",
       "      <th>0</th>\n",
       "      <td>0.831579</td>\n",
       "      <td>0.958990</td>\n",
       "      <td>0.890751</td>\n",
       "      <td>3048.000000</td>\n",
       "    </tr>\n",
       "    <tr>\n",
       "      <th>1</th>\n",
       "      <td>0.768519</td>\n",
       "      <td>0.412115</td>\n",
       "      <td>0.536522</td>\n",
       "      <td>1007.000000</td>\n",
       "    </tr>\n",
       "    <tr>\n",
       "      <th>accuracy</th>\n",
       "      <td>0.823181</td>\n",
       "      <td>0.823181</td>\n",
       "      <td>0.823181</td>\n",
       "      <td>0.823181</td>\n",
       "    </tr>\n",
       "    <tr>\n",
       "      <th>macro avg</th>\n",
       "      <td>0.800049</td>\n",
       "      <td>0.685552</td>\n",
       "      <td>0.713637</td>\n",
       "      <td>4055.000000</td>\n",
       "    </tr>\n",
       "    <tr>\n",
       "      <th>weighted avg</th>\n",
       "      <td>0.815919</td>\n",
       "      <td>0.823181</td>\n",
       "      <td>0.802784</td>\n",
       "      <td>4055.000000</td>\n",
       "    </tr>\n",
       "  </tbody>\n",
       "</table>\n",
       "</div>"
      ],
      "text/plain": [
       "              precision    recall  f1-score      support\n",
       "0              0.831579  0.958990  0.890751  3048.000000\n",
       "1              0.768519  0.412115  0.536522  1007.000000\n",
       "accuracy       0.823181  0.823181  0.823181     0.823181\n",
       "macro avg      0.800049  0.685552  0.713637  4055.000000\n",
       "weighted avg   0.815919  0.823181  0.802784  4055.000000"
      ]
     },
     "execution_count": 133,
     "metadata": {},
     "output_type": "execute_result"
    }
   ],
   "source": [
    "report=classification_report(y_test, pred, output_dict=True)\n",
    "df = pd.DataFrame(report).transpose()\n",
    "df.to_csv(\"outputs//fakenewsnet_ml_glove//model_FAKENEWSNET_LR_GLOVE_clasifctnrpt.csv\")\n",
    "df.head()"
   ]
  },
  {
   "cell_type": "markdown",
   "id": "4f7562e7",
   "metadata": {},
   "source": [
    "**Plot confusion matrix using the user defined functions as mentioned above earlier**"
   ]
  },
  {
   "cell_type": "code",
   "execution_count": 134,
   "id": "bfda191f",
   "metadata": {},
   "outputs": [
    {
     "data": {
      "image/png": "[encoded data removed]",
      "text/plain": [
       "<Figure size 360x300 with 2 Axes>"
      ]
     },
     "metadata": {},
     "output_type": "display_data"
    },
    {
     "data": {
      "image/png": "[encoded data removed]",
      "text/plain": [
       "<Figure size 360x300 with 2 Axes>"
      ]
     },
     "metadata": {},
     "output_type": "display_data"
    }
   ],
   "source": [
    "cm=confusion_matrix(y_test, pred)\n",
    "path1=\"outputs//fakenewsnet_ml_glove//fakenewsnet_ml_LR_glove_cmtrx.png\"\n",
    "path2=\"outputs//fakenewsnet_ml_glove//fakenewsnet_ml_LR_glove_ncmtrx.png\"\n",
    "confusn_mtrx_plot(cm,path1)\n",
    "norm_confusn_mtrx_plot(cm,path2)"
   ]
  },
  {
   "cell_type": "markdown",
   "id": "06cd5a6b",
   "metadata": {},
   "source": [
    "***"
   ]
  },
  {
   "cell_type": "markdown",
   "id": "cbe31f19",
   "metadata": {},
   "source": [
    "### ROC AUC Curve plot using all the algorithms"
   ]
  },
  {
   "cell_type": "code",
   "execution_count": 137,
   "id": "2feb44eb",
   "metadata": {
    "scrolled": true
   },
   "outputs": [
    {
     "data": {
      "image/png": "[encoded data removed]",
      "text/plain": [
       "<Figure size 432x288 with 1 Axes>"
      ]
     },
     "metadata": {},
     "output_type": "display_data"
    }
   ],
   "source": [
    "#set up plotting area\n",
    "plt.figure(0).clf()\n",
    "\n",
    "#fit RF model and plot ROC curve\n",
    "y_pred = rf_clf_tuned_g.predict_proba(glove_test_vectors)[:, 1]\n",
    "fpr, tpr, _ = roc_curve(y_test, y_pred)\n",
    "auc = round(roc_auc_score(y_test, y_pred), 4)\n",
    "plt.plot(fpr,tpr,label=\"Random Forest, AUC=\"+str(auc))\n",
    "\n",
    "#fit Logistic model and plot ROC curve\n",
    "y_pred = logticreg_clf_tuned_g.predict_proba(glove_test_vectors)[:, 1]\n",
    "fpr, tpr, _ = roc_curve(y_test, y_pred)\n",
    "auc = round(roc_auc_score(y_test, y_pred), 4)\n",
    "plt.plot(fpr,tpr,label=\"Logistic, AUC=\"+str(auc))\n",
    "\n",
    "\n",
    "#fit SVM model and plot ROC curve\n",
    "y_pred = svm_clf_tuned_g.predict_proba(glove_test_vectors)[:, 1]\n",
    "fpr, tpr, _ = roc_curve(y_test, y_pred)\n",
    "auc = round(roc_auc_score(y_test, y_pred), 4)\n",
    "plt.plot(fpr,tpr,label=\"SVM, AUC=\"+str(auc))\n",
    "\n",
    "\n",
    "#fit KNN model and plot ROC curve\n",
    "y_pred = knn_clf_tuned_g.predict_proba(glove_test_vectors)[:, 1]\n",
    "fpr, tpr, _ = roc_curve(y_test, y_pred)\n",
    "auc = round(roc_auc_score(y_test, y_pred), 4)\n",
    "plt.plot(fpr,tpr,label=\"KNN, AUC=\"+str(auc))\n",
    "\n",
    "#fit Naive Bayes model and plot ROC curve\n",
    "y_pred = nb_clf_tuned_g.predict_proba(glove_test_vectors)[:, 1]\n",
    "y_pred=np.array((y_pred > 0.27).astype(int))\n",
    "\n",
    "fpr, tpr, _ = roc_curve(y_test, y_pred)\n",
    "auc = round(roc_auc_score(y_test, y_pred), 4)\n",
    "plt.plot(fpr,tpr,label=\"Naive Bayes, AUC=\"+str(auc))\n",
    "\n",
    "#fit Xgboost model and plot ROC curve\n",
    "y_pred = xg_clf_tuned_g.predict_proba(glove_test_vectors)[:, 1]\n",
    "fpr, tpr, _ = roc_curve(y_test, y_pred)\n",
    "auc = round(roc_auc_score(y_test, y_pred), 4)\n",
    "plt.plot(fpr,tpr,label=\"Xgboost, AUC=\"+str(auc))\n",
    "\n",
    "#add legend\n",
    "plt.legend()\n",
    "fig.savefig(\"outputs//fakenewsnet_ml_glove//ROC_AUC.png\")"
   ]
  },
  {
   "cell_type": "code",
   "execution_count": null,
   "id": "af8453d9",
   "metadata": {},
   "outputs": [],
   "source": []
  }
 ],
 "metadata": {
  "kernelspec": {
   "display_name": "Python 3 (ipykernel)",
   "language": "python",
   "name": "python3"
  },
  "language_info": {
   "codemirror_mode": {
    "name": "ipython",
    "version": 3
   },
   "file_extension": ".py",
   "mimetype": "text/x-python",
   "name": "python",
   "nbconvert_exporter": "python",
   "pygments_lexer": "ipython3",
   "version": "3.7.0"
  }
 },
 "nbformat": 4,
 "nbformat_minor": 5
}
