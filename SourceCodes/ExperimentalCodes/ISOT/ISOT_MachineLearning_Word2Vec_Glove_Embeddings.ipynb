{
 "cells": [
  {
   "cell_type": "markdown",
   "id": "efba13cc",
   "metadata": {},
   "source": [
    "# Overview\n",
    "\n",
    "This notebook describes the different stages to build up different machine learning models trained over the dataset called **ISOT** by using  both **Word2Vec** and **Glove** tokenisation, for the automatic fake news detection\n",
    "\n",
    "List of Machine Learning algorithms included \n",
    "- SVM\n",
    "- Random Forest\n",
    "- XgBoost\n",
    "- KNN\n",
    "- Naive Bayes\n",
    "- Logistic Regression\n",
    "\n"
   ]
  },
  {
   "cell_type": "markdown",
   "id": "7db961f2",
   "metadata": {},
   "source": [
    "## 1. Loading Python libraries"
   ]
  },
  {
   "cell_type": "code",
   "execution_count": 1,
   "id": "72deb23d",
   "metadata": {
    "collapsed": true
   },
   "outputs": [
    {
     "name": "stderr",
     "output_type": "stream",
     "text": [
      "[nltk_data] Downloading package stopwords to\n",
      "[nltk_data]     /gpfs/home/psc21zcu/nltk_data...\n",
      "[nltk_data]   Package stopwords is already up-to-date!\n",
      "[nltk_data] Downloading package punkt to\n",
      "[nltk_data]     /gpfs/home/psc21zcu/nltk_data...\n",
      "[nltk_data]   Package punkt is already up-to-date!\n",
      "[nltk_data] Downloading package averaged_perceptron_tagger to\n",
      "[nltk_data]     /gpfs/home/psc21zcu/nltk_data...\n",
      "[nltk_data]   Package averaged_perceptron_tagger is already up-to-\n",
      "[nltk_data]       date!\n",
      "[nltk_data] Downloading package wordnet to\n",
      "[nltk_data]     /gpfs/home/psc21zcu/nltk_data...\n",
      "[nltk_data]   Package wordnet is already up-to-date!\n"
     ]
    }
   ],
   "source": [
    "import numpy as np\n",
    "import pandas as pd\n",
    "import warnings\n",
    "%matplotlib inline\n",
    "import matplotlib.pyplot as plt\n",
    "import seaborn as sns\n",
    "import glob\n",
    "import json\n",
    "import tldextract   # Accurately separates a URL's subdomain, domain, and public suffix\n",
    "from bs4 import BeautifulSoup\n",
    "from sklearn.model_selection import train_test_split\n",
    "from sklearn.metrics import classification_report,confusion_matrix,accuracy_score\n",
    "from sklearn.metrics import precision_score, recall_score\n",
    "from sklearn.pipeline import Pipeline\n",
    "from sklearn.metrics import roc_auc_score\n",
    "from sklearn.ensemble import RandomForestClassifier\n",
    "from sklearn.model_selection import RandomizedSearchCV\n",
    "from sklearn.svm import SVC\n",
    "from sklearn.neighbors import KNeighborsClassifier\n",
    "from sklearn.naive_bayes import GaussianNB\n",
    "from sklearn.naive_bayes import MultinomialNB\n",
    "from xgboost import XGBClassifier\n",
    "from sklearn.linear_model import LogisticRegression\n",
    "import re\n",
    "from sklearn.metrics import roc_curve, roc_auc_score\n",
    "from sklearn.feature_extraction.text import TfidfVectorizer,CountVectorizer\n",
    "import nltk \n",
    "import spacy\n",
    "nltk.download('stopwords')\n",
    "nltk.download('punkt')\n",
    "nltk.download('averaged_perceptron_tagger')\n",
    "nltk.download('wordnet')\n",
    "from wordcloud import WordCloud, ImageColorGenerator,STOPWORDS\n",
    "import gensim\n",
    "from gensim.parsing.preprocessing import STOPWORDS as gensim_stopwords\n",
    "import copy\n",
    "from nltk.stem import PorterStemmer\n",
    "from nltk.corpus import stopwords,wordnet\n",
    "from nltk.tokenize import word_tokenize\n",
    "from nltk.stem import WordNetLemmatizer,LancasterStemmer\n",
    "from sklearn.metrics import f1_score\n",
    "from pprint import pprint\n",
    "import warnings\n",
    "\n",
    "warnings.filterwarnings('ignore')\n",
    "pd.set_option('display.max_rows', 500)\n",
    "pd.set_option('display.max_columns', 500)\n",
    "pd.set_option('display.width', 1000)\n",
    "pd.set_option('display.expand_frame_repr', False)\n",
    "pd.set_option('display.max_colwidth', 1000)"
   ]
  },
  {
   "cell_type": "markdown",
   "id": "239f8fa6",
   "metadata": {},
   "source": [
    "#### Loading the ISOT Full Dataset  -- After combined fake and real news  in the previous notebook   \"ISOT_ML_Classifiers_TfiDF_Tokenisation\""
   ]
  },
  {
   "cell_type": "code",
   "execution_count": 2,
   "id": "aa94991f",
   "metadata": {},
   "outputs": [],
   "source": [
    "isot_full_df = pd.read_csv(\"Updated//ISOT_Combined_FullData.csv\")"
   ]
  },
  {
   "cell_type": "markdown",
   "id": "55d71bdb",
   "metadata": {},
   "source": [
    "#### Dropping the columns 'title' , 'text' and 'date'"
   ]
  },
  {
   "cell_type": "code",
   "execution_count": 3,
   "id": "20450fe0",
   "metadata": {},
   "outputs": [],
   "source": [
    "isot_full_df = isot_full_df.drop(columns = ['title','text', 'subject','date','title_length','body_length','date'])"
   ]
  },
  {
   "cell_type": "code",
   "execution_count": 4,
   "id": "0b503e19",
   "metadata": {},
   "outputs": [],
   "source": [
    "isot_full_df=isot_full_df.reset_index(drop=True)"
   ]
  },
  {
   "cell_type": "markdown",
   "id": "9a1063b9",
   "metadata": {},
   "source": [
    "#### Preprocess the fulltext column using the built in cleaner option in gensim library"
   ]
  },
  {
   "cell_type": "code",
   "execution_count": null,
   "id": "28278f23",
   "metadata": {},
   "outputs": [],
   "source": [
    "# Clean data using the built in cleaner in gensim\n",
    "isot_full_df['cleantext'] = isot_full_df['fulltext'].apply(lambda x: gensim.utils.simple_preprocess(x)"
   ]
  },
  {
   "cell_type": "markdown",
   "id": "7946c328",
   "metadata": {},
   "source": [
    "***\n",
    "\n",
    "## 2. Model Training and Evaluation\n",
    "\n",
    "### Splitting dataset into train and test"
   ]
  },
  {
   "cell_type": "code",
   "execution_count": 7,
   "id": "d3193744",
   "metadata": {},
   "outputs": [],
   "source": [
    "X=isot_full_df['cleantext']\n",
    "y=isot_full_df['class']"
   ]
  },
  {
   "cell_type": "code",
   "execution_count": 8,
   "id": "9d4ad273",
   "metadata": {},
   "outputs": [],
   "source": [
    "X_train, X_test, y_train, y_test = train_test_split(X, y, test_size=0.2,stratify=y, random_state=0)"
   ]
  },
  {
   "cell_type": "markdown",
   "id": "6ea675c7",
   "metadata": {},
   "source": [
    "####  User defined helper functions to find out the accuracy score metrics and creation of model comparison table\n",
    "\n",
    "\n",
    "- The function named **metrics** is using to calculate the score of the different metrics such as Accuracy, Precision, Recall, F1Score and ROC AUC score for the given classifier with test data\n",
    "\n",
    "\n",
    "- The function named **model_comparison_table** is using to create dataframe to list down all the classifiers with the metrics scores for the comparison purpose"
   ]
  },
  {
   "cell_type": "code",
   "execution_count": 9,
   "id": "0b832779",
   "metadata": {},
   "outputs": [],
   "source": [
    "import timeit\n",
    "from timeit import default_timer as timer\n",
    "from datetime import timedelta\n",
    " \n",
    "\n",
    "\n",
    "def metrics(X_test,y_test,clf):\n",
    "    predictions=clf.predict(X_test)\n",
    "    #predictions=(clf.predict_proba(X_test)[:,1] >= 0.3).astype(bool)\n",
    "    print(\"confusion_matrix :\")\n",
    "    print(confusion_matrix(y_test,predictions))\n",
    "    print(\"Accuracy Score :\")\n",
    "    print(accuracy_score(y_test, predictions))\n",
    "    print(\"Classification Report :\")\n",
    "    print(classification_report(y_test, predictions))\n",
    "    print(\"F1 score :\")\n",
    "    print(f1_score(y_test, predictions))\n",
    "    print(\"ROC AUC Score\")\n",
    "    y_pred_proba = clf.predict_proba(X_test)\n",
    "    print(roc_auc_score(y_test, y_pred_proba[:,1]) )\n",
    "    print(\"------------------------------\")\n",
    "\n",
    "    \n",
    "def model_comparison_table(X_test,y_test,classifier_list):\n",
    "    dict_clf={}\n",
    "    for clf_name,clf in classifier_list:\n",
    "        predictions=clf.predict(X_test)\n",
    "        y_pred_proba = clf.predict_proba(X_test)\n",
    "        accuracy=accuracy_score(y_test, predictions)\n",
    "        precision=precision_score(y_test,predictions,average='macro').round(2)\n",
    "        recall=recall_score(y_test,predictions)\n",
    "        f1score=f1_score(y_test,predictions).round(2)\n",
    "        ROC_AUC=roc_auc_score(y_test, y_pred_proba[:,1])\n",
    "        dict_clf[clf_name]=[accuracy,precision,recall,f1score,ROC_AUC]\n",
    "    df_models_scores = pd.DataFrame(dict_clf, index=['Accuracy', 'Precision', 'Recall', 'F1 Score','roc_auc_score'])\n",
    "    return df_models_scores"
   ]
  },
  {
   "cell_type": "markdown",
   "id": "bb5ad1ea",
   "metadata": {},
   "source": [
    "#### User defined helper functions to create the confusion matrix and normalised confusion matrix \n",
    "\n",
    "The below scripts is using to create the confusion matrix and normalised confusion matrix based on the predictions and actual truth lables"
   ]
  },
  {
   "cell_type": "code",
   "execution_count": 10,
   "id": "51e447d5",
   "metadata": {},
   "outputs": [],
   "source": [
    "# Helper function to plot confusion matrix and normalised confusion matrix plot\n",
    "def confusn_mtrx_plot(cm,path):\n",
    "    from sklearn.metrics import confusion_matrix\n",
    "    # Y_pred_evc = evc_mdl.predict(test_X)\n",
    "    #cm = confusion_matrix(ytrue, y_pred)\n",
    "\n",
    "    fig = plt.figure(figsize=(6, 5), dpi=60)\n",
    "    ax = plt.subplot()\n",
    "    sns.set(font_scale=1.4) # Adjust to fit\n",
    "    sns.heatmap(cm, annot=True, ax=ax, cmap=\"GnBu\", fmt=\"g\");  \n",
    "    #sns.heatmap(cm/np.sum(cm), annot=True, ax=ax[1], cmap=\"GnBu\", fmt=\"g\");  \n",
    "\n",
    "    # Labels, title and ticks\n",
    "    label_font = {'size':'18'}  # Adjust to fit\n",
    "    ax.set_xlabel('Predicted', fontdict=label_font);\n",
    "    ax.set_ylabel('Actuals', fontdict=label_font);\n",
    "\n",
    "    title_font = {'size':'20'}  # Adjust to fit\n",
    "    ax.set_title('Confusion Matrix', fontdict=title_font);\n",
    "\n",
    "    ax.tick_params(axis='both', which='major', labelsize=15)  # Adjust to fit\n",
    "    ax.xaxis.set_ticklabels(['Real', 'Fake']);\n",
    "    ax.yaxis.set_ticklabels(['Real', 'Fake']);\n",
    "    #fig.show()\n",
    "    fig.savefig(path)\n",
    "    \n",
    "def norm_confusn_mtrx_plot(cm,path):\n",
    "    fig = plt.figure(figsize=(6, 5), dpi=60)\n",
    "    ax = plt.subplot()\n",
    "    sns.set(font_scale=1.4) # Adjust to fit\n",
    "    sns.heatmap(cm/np.sum(cm), annot=True, ax=ax, cmap=\"GnBu\",fmt='.2%');  \n",
    "\n",
    "    # Labels, title and ticks\n",
    "    label_font = {'size':'18'}  # Adjust to fit\n",
    "    ax.set_xlabel('Predicted', fontdict=label_font);\n",
    "    ax.set_ylabel('Actuals', fontdict=label_font);\n",
    "\n",
    "    title_font = {'size':'18'}  # Adjust to fit\n",
    "    ax.set_title('Normalised Confusion Matrix', fontdict=title_font);\n",
    "\n",
    "    ax.tick_params(axis='both', which='major', labelsize=15)  # Adjust to fit\n",
    "    ax.xaxis.set_ticklabels(['Real', 'Fake']);\n",
    "    ax.yaxis.set_ticklabels(['Real', 'Fake']);\n",
    "    fig.savefig(path)"
   ]
  },
  {
   "cell_type": "code",
   "execution_count": null,
   "id": "f2469f60",
   "metadata": {},
   "outputs": [],
   "source": []
  },
  {
   "cell_type": "markdown",
   "id": "b1526554",
   "metadata": {},
   "source": [
    "### Feature Extractions using pretrained word2vec model\n",
    "\n",
    "#### Load Gensim Downloader library"
   ]
  },
  {
   "cell_type": "code",
   "execution_count": 11,
   "id": "7978858b",
   "metadata": {},
   "outputs": [],
   "source": [
    "import gensim.downloader"
   ]
  },
  {
   "cell_type": "markdown",
   "id": "7621fe1a",
   "metadata": {},
   "source": [
    "##### Download the  pretrained model"
   ]
  },
  {
   "cell_type": "code",
   "execution_count": 13,
   "id": "8a112b77",
   "metadata": {},
   "outputs": [],
   "source": [
    "!wget -P /root/input/ -c \"https://s3.amazonaws.com/dl4j-distribution/GoogleNews-vectors-negative300.bin.gz\""
   ]
  },
  {
   "cell_type": "markdown",
   "id": "b56ff622",
   "metadata": {},
   "source": [
    "#### After downloading it, you can load it as follows by specified the downloaded path"
   ]
  },
  {
   "cell_type": "code",
   "execution_count": 14,
   "id": "207cc4f5",
   "metadata": {},
   "outputs": [],
   "source": [
    "path_to_model = 'Embeddings//GoogleNews-vectors-negative300.bin'"
   ]
  },
  {
   "cell_type": "code",
   "execution_count": 15,
   "id": "57a687a8",
   "metadata": {},
   "outputs": [
    {
     "name": "stdout",
     "output_type": "stream",
     "text": [
      "CPU times: user 18.4 s, sys: 1.54 s, total: 20 s\n",
      "Wall time: 20 s\n",
      "done loading Word2Vec\n"
     ]
    }
   ],
   "source": [
    "from gensim.models.keyedvectors import KeyedVectors\n",
    "%time w2v_model = KeyedVectors.load_word2vec_format(path_to_model, binary=True)\n",
    "print('done loading Word2Vec')"
   ]
  },
  {
   "cell_type": "markdown",
   "id": "8154049a",
   "metadata": {},
   "source": [
    "#### Then inspect the model by getting the list of index of key values from the pretrained model"
   ]
  },
  {
   "cell_type": "code",
   "execution_count": 16,
   "id": "e9770c1f",
   "metadata": {},
   "outputs": [],
   "source": [
    "#Inspect the model\n",
    "word2vec_vocab = list(w2v_model.index_to_key)"
   ]
  },
  {
   "cell_type": "code",
   "execution_count": 17,
   "id": "5e7b6149",
   "metadata": {},
   "outputs": [],
   "source": [
    "word2vec_vocab_lower = [item.lower() for item in word2vec_vocab]"
   ]
  },
  {
   "cell_type": "markdown",
   "id": "fe41e96f",
   "metadata": {},
   "source": [
    "#### User defined Function to create a feature vector by averaging all embeddings for the given sentence using the below user defined function"
   ]
  },
  {
   "cell_type": "code",
   "execution_count": 18,
   "id": "51d9c5d7",
   "metadata": {},
   "outputs": [
    {
     "name": "stdout",
     "output_type": "stream",
     "text": [
      "30616\n"
     ]
    }
   ],
   "source": [
    "def embedding_feats(list_of_lists):\n",
    "    DIMENSION = 300\n",
    "    zero_vector = np.zeros(DIMENSION)\n",
    "    feats = []\n",
    "    for tokens in list_of_lists:\n",
    "        feat_for_this =  np.zeros(DIMENSION)\n",
    "        count_for_this = 0 + 1e-5 # to avoid divide-by-zero \n",
    "        for token in tokens:\n",
    "            if token in w2v_model:\n",
    "                feat_for_this += w2v_model[token]\n",
    "                count_for_this +=1\n",
    "        if(count_for_this!=0):\n",
    "            feats.append(feat_for_this/count_for_this) \n",
    "        else:\n",
    "            feats.append(zero_vector)\n",
    "    return feats\n",
    "\n"
   ]
  },
  {
   "cell_type": "markdown",
   "id": "aa04fd53",
   "metadata": {},
   "source": [
    "#### Then fit the training data and transform both training and test data"
   ]
  },
  {
   "cell_type": "code",
   "execution_count": 19,
   "id": "d0b724b5",
   "metadata": {},
   "outputs": [
    {
     "name": "stdout",
     "output_type": "stream",
     "text": [
      "7654\n"
     ]
    }
   ],
   "source": [
    "train_vectors = embedding_feats(X_train)\n",
    "test_vectors = embedding_feats(X_test)\n",
    "print(len(test_vectors))\n"
   ]
  },
  {
   "cell_type": "markdown",
   "id": "d6c7fbdb",
   "metadata": {},
   "source": [
    "***\n",
    "## Model Training "
   ]
  },
  {
   "cell_type": "markdown",
   "id": "b541d0bf",
   "metadata": {},
   "source": [
    "### RandomForest"
   ]
  },
  {
   "cell_type": "markdown",
   "id": "df3883d1",
   "metadata": {},
   "source": [
    "**Initialise the  model and  fit using train data and save it to a path**"
   ]
  },
  {
   "cell_type": "code",
   "execution_count": 24,
   "id": "5bc97f79",
   "metadata": {},
   "outputs": [],
   "source": [
    "rf = RandomForestClassifier(random_state=0)\n",
    "rf_clf = rf.fit(train_vectors, y_train.values.ravel())"
   ]
  },
  {
   "cell_type": "code",
   "execution_count": 25,
   "id": "c98fd636",
   "metadata": {},
   "outputs": [
    {
     "name": "stdout",
     "output_type": "stream",
     "text": [
      "RandomForest - Completed\n"
     ]
    }
   ],
   "source": [
    "import pickle\n",
    "# save the model to disk\n",
    "filename = 'outputs//isot_ml_word2vec//isot_ml_RF_word2vec.sav'\n",
    "pickle.dump(rf_clf, open(filename, 'wb'))\n",
    "print('RandomForest - Completed')"
   ]
  },
  {
   "cell_type": "markdown",
   "id": "81ef24c7",
   "metadata": {},
   "source": [
    "**Load the saved model and predict using test data and measure the accuracy metrics**"
   ]
  },
  {
   "cell_type": "code",
   "execution_count": 26,
   "id": "d42026df",
   "metadata": {},
   "outputs": [
    {
     "name": "stdout",
     "output_type": "stream",
     "text": [
      "Accuracy score : 0.9332375228638621\n",
      "Confusion matrix : \n",
      " [[3995  169]\n",
      " [ 342 3148]]\n",
      "Classification Report\n",
      "              precision    recall  f1-score   support\n",
      "\n",
      "           0       0.92      0.96      0.94      4164\n",
      "           1       0.95      0.90      0.92      3490\n",
      "\n",
      "    accuracy                           0.93      7654\n",
      "   macro avg       0.94      0.93      0.93      7654\n",
      "weighted avg       0.93      0.93      0.93      7654\n",
      "\n",
      "Precision : 0.9490503466988243\n",
      "Recall : 0.9020057306590258\n",
      "F1 Score : 0.9249302188923167\n"
     ]
    }
   ],
   "source": [
    "#Loading the model\n",
    "filename = 'outputs//isot_ml_word2vec//isot_ml_RF_word2vec.sav'\n",
    "\n",
    "rf_clf_tuned = pickle.load(open(filename, 'rb'))\n",
    "# result = rf_model_loaded.score(X_test_tfidf, y_test)\n",
    "# print(result)\n",
    "\n",
    "\n",
    "pred = rf_clf_tuned.predict(test_vectors)\n",
    "print(\"Accuracy score : {}\".format(accuracy_score(y_test, pred)))\n",
    "print(\"Confusion matrix : \\n {}\".format(confusion_matrix(y_test, pred)))\n",
    "print(\"Classification Report\")\n",
    "print(classification_report(y_test, pred))\n",
    "precision = precision_score(y_test, pred)\n",
    "print(\"Precision : {}\".format(precision))\n",
    "recall = recall_score(y_test, pred)\n",
    "print(\"Recall : {}\".format(recall))\n",
    "f1score = f1_score(y_test, pred)\n",
    "print(\"F1 Score : {}\".format(f1score))\n"
   ]
  },
  {
   "cell_type": "markdown",
   "id": "97b27f15",
   "metadata": {},
   "source": [
    "**Save the classification report to csv**"
   ]
  },
  {
   "cell_type": "code",
   "execution_count": 27,
   "id": "db501e28",
   "metadata": {},
   "outputs": [
    {
     "data": {
      "text/html": [
       "<div>\n",
       "<style scoped>\n",
       "    .dataframe tbody tr th:only-of-type {\n",
       "        vertical-align: middle;\n",
       "    }\n",
       "\n",
       "    .dataframe tbody tr th {\n",
       "        vertical-align: top;\n",
       "    }\n",
       "\n",
       "    .dataframe thead th {\n",
       "        text-align: right;\n",
       "    }\n",
       "</style>\n",
       "<table border=\"1\" class=\"dataframe\">\n",
       "  <thead>\n",
       "    <tr style=\"text-align: right;\">\n",
       "      <th></th>\n",
       "      <th>precision</th>\n",
       "      <th>recall</th>\n",
       "      <th>f1-score</th>\n",
       "      <th>support</th>\n",
       "    </tr>\n",
       "  </thead>\n",
       "  <tbody>\n",
       "    <tr>\n",
       "      <th>0</th>\n",
       "      <td>0.921144</td>\n",
       "      <td>0.959414</td>\n",
       "      <td>0.939889</td>\n",
       "      <td>4164.000000</td>\n",
       "    </tr>\n",
       "    <tr>\n",
       "      <th>1</th>\n",
       "      <td>0.949050</td>\n",
       "      <td>0.902006</td>\n",
       "      <td>0.924930</td>\n",
       "      <td>3490.000000</td>\n",
       "    </tr>\n",
       "    <tr>\n",
       "      <th>accuracy</th>\n",
       "      <td>0.933238</td>\n",
       "      <td>0.933238</td>\n",
       "      <td>0.933238</td>\n",
       "      <td>0.933238</td>\n",
       "    </tr>\n",
       "    <tr>\n",
       "      <th>macro avg</th>\n",
       "      <td>0.935097</td>\n",
       "      <td>0.930710</td>\n",
       "      <td>0.932410</td>\n",
       "      <td>7654.000000</td>\n",
       "    </tr>\n",
       "    <tr>\n",
       "      <th>weighted avg</th>\n",
       "      <td>0.933868</td>\n",
       "      <td>0.933238</td>\n",
       "      <td>0.933068</td>\n",
       "      <td>7654.000000</td>\n",
       "    </tr>\n",
       "  </tbody>\n",
       "</table>\n",
       "</div>"
      ],
      "text/plain": [
       "              precision    recall  f1-score      support\n",
       "0              0.921144  0.959414  0.939889  4164.000000\n",
       "1              0.949050  0.902006  0.924930  3490.000000\n",
       "accuracy       0.933238  0.933238  0.933238     0.933238\n",
       "macro avg      0.935097  0.930710  0.932410  7654.000000\n",
       "weighted avg   0.933868  0.933238  0.933068  7654.000000"
      ]
     },
     "execution_count": 27,
     "metadata": {},
     "output_type": "execute_result"
    }
   ],
   "source": [
    "report=classification_report(y_test, pred, output_dict=True)\n",
    "df = pd.DataFrame(report).transpose()\n",
    "df.to_csv(\"outputs//isot_ml_word2vec//model_ISOT_RF_WORD2VEC_clasifctnrpt.csv\")\n",
    "df.head()"
   ]
  },
  {
   "cell_type": "markdown",
   "id": "040c2f34",
   "metadata": {},
   "source": [
    "**Plot confusion matrix using the user defined functions as mentioned above earlier**"
   ]
  },
  {
   "cell_type": "code",
   "execution_count": 28,
   "id": "634e6739",
   "metadata": {},
   "outputs": [
    {
     "data": {
      "image/png": "[encoded data removed]",
      "text/plain": [
       "<Figure size 360x300 with 2 Axes>"
      ]
     },
     "metadata": {
      "needs_background": "light"
     },
     "output_type": "display_data"
    },
    {
     "data": {
      "image/png": "[encoded data removed]",
      "text/plain": [
       "<Figure size 360x300 with 2 Axes>"
      ]
     },
     "metadata": {},
     "output_type": "display_data"
    }
   ],
   "source": [
    "cm=confusion_matrix(y_test, pred)\n",
    "path1=\"outputs//isot_ml_word2vec//isot_ml_RF_w2v_cmtrx.png\"\n",
    "path2=\"outputs//isot_ml_word2vec//isot_ml_RF_w2v_ncmtrx.png\"\n",
    "confusn_mtrx_plot(cm,path1)\n",
    "norm_confusn_mtrx_plot(cm,path2)"
   ]
  },
  {
   "cell_type": "markdown",
   "id": "1457e97d",
   "metadata": {},
   "source": [
    "### Support Vector Machine"
   ]
  },
  {
   "cell_type": "markdown",
   "id": "0991e688",
   "metadata": {},
   "source": [
    "**Initialise the  model and  fit using train data and save it to a path**"
   ]
  },
  {
   "cell_type": "code",
   "execution_count": 32,
   "id": "ae0716c4",
   "metadata": {},
   "outputs": [],
   "source": [
    "svm_clf=SVC(random_state=0,probability=True)"
   ]
  },
  {
   "cell_type": "code",
   "execution_count": 33,
   "id": "dd368ef9",
   "metadata": {},
   "outputs": [
    {
     "name": "stdout",
     "output_type": "stream",
     "text": [
      "SVM - Completed\n"
     ]
    }
   ],
   "source": [
    "svm_clf.fit(train_vectors,y_train)\n",
    "\n",
    "# save the model to disk\n",
    "filename = 'outputs//isot_ml_word2vec//isot_ml_SVM_word2vec.sav'\n",
    "pickle.dump(svm_clf, open(filename, 'wb'))\n",
    "print('SVM - Completed')"
   ]
  },
  {
   "cell_type": "markdown",
   "id": "f10f7fa0",
   "metadata": {},
   "source": [
    "**Load the saved model and predict using test data and measure the accuracy metrics**"
   ]
  },
  {
   "cell_type": "code",
   "execution_count": 34,
   "id": "b4c75b23",
   "metadata": {},
   "outputs": [
    {
     "name": "stdout",
     "output_type": "stream",
     "text": [
      "Accuracy score : 0.9702116540371047\n",
      "Confusion matrix : \n",
      " [[4069   95]\n",
      " [ 133 3357]]\n",
      "Classification Report\n",
      "              precision    recall  f1-score   support\n",
      "\n",
      "           0       0.97      0.98      0.97      4164\n",
      "           1       0.97      0.96      0.97      3490\n",
      "\n",
      "    accuracy                           0.97      7654\n",
      "   macro avg       0.97      0.97      0.97      7654\n",
      "weighted avg       0.97      0.97      0.97      7654\n",
      "\n",
      "Precision : 0.9724797219003476\n",
      "Recall : 0.9618911174785101\n",
      "F1 Score : 0.9671564390665515\n"
     ]
    }
   ],
   "source": [
    "#Loading the model\n",
    "filename = 'outputs//isot_ml_word2vec//isot_ml_SVM_word2vec.sav'\n",
    "\n",
    "svm_clf_tuned = pickle.load(open(filename, 'rb'))\n",
    "# result = rf_model_loaded.score(X_test_tfidf, y_test)\n",
    "# print(result)\n",
    "\n",
    "\n",
    "pred = svm_clf_tuned.predict(test_vectors)\n",
    "print(\"Accuracy score : {}\".format(accuracy_score(y_test, pred)))\n",
    "print(\"Confusion matrix : \\n {}\".format(confusion_matrix(y_test, pred)))\n",
    "print(\"Classification Report\")\n",
    "print(classification_report(y_test, pred))\n",
    "precision = precision_score(y_test, pred)\n",
    "print(\"Precision : {}\".format(precision))\n",
    "recall = recall_score(y_test, pred)\n",
    "print(\"Recall : {}\".format(recall))\n",
    "f1score = f1_score(y_test, pred)\n",
    "print(\"F1 Score : {}\".format(f1score))\n"
   ]
  },
  {
   "cell_type": "markdown",
   "id": "e6708958",
   "metadata": {},
   "source": [
    "**Save the classification report to csv**"
   ]
  },
  {
   "cell_type": "code",
   "execution_count": 35,
   "id": "eb9f81e4",
   "metadata": {},
   "outputs": [
    {
     "data": {
      "text/html": [
       "<div>\n",
       "<style scoped>\n",
       "    .dataframe tbody tr th:only-of-type {\n",
       "        vertical-align: middle;\n",
       "    }\n",
       "\n",
       "    .dataframe tbody tr th {\n",
       "        vertical-align: top;\n",
       "    }\n",
       "\n",
       "    .dataframe thead th {\n",
       "        text-align: right;\n",
       "    }\n",
       "</style>\n",
       "<table border=\"1\" class=\"dataframe\">\n",
       "  <thead>\n",
       "    <tr style=\"text-align: right;\">\n",
       "      <th></th>\n",
       "      <th>precision</th>\n",
       "      <th>recall</th>\n",
       "      <th>f1-score</th>\n",
       "      <th>support</th>\n",
       "    </tr>\n",
       "  </thead>\n",
       "  <tbody>\n",
       "    <tr>\n",
       "      <th>0</th>\n",
       "      <td>0.968348</td>\n",
       "      <td>0.977185</td>\n",
       "      <td>0.972747</td>\n",
       "      <td>4164.000000</td>\n",
       "    </tr>\n",
       "    <tr>\n",
       "      <th>1</th>\n",
       "      <td>0.972480</td>\n",
       "      <td>0.961891</td>\n",
       "      <td>0.967156</td>\n",
       "      <td>3490.000000</td>\n",
       "    </tr>\n",
       "    <tr>\n",
       "      <th>accuracy</th>\n",
       "      <td>0.970212</td>\n",
       "      <td>0.970212</td>\n",
       "      <td>0.970212</td>\n",
       "      <td>0.970212</td>\n",
       "    </tr>\n",
       "    <tr>\n",
       "      <th>macro avg</th>\n",
       "      <td>0.970414</td>\n",
       "      <td>0.969538</td>\n",
       "      <td>0.969952</td>\n",
       "      <td>7654.000000</td>\n",
       "    </tr>\n",
       "    <tr>\n",
       "      <th>weighted avg</th>\n",
       "      <td>0.970232</td>\n",
       "      <td>0.970212</td>\n",
       "      <td>0.970198</td>\n",
       "      <td>7654.000000</td>\n",
       "    </tr>\n",
       "  </tbody>\n",
       "</table>\n",
       "</div>"
      ],
      "text/plain": [
       "              precision    recall  f1-score      support\n",
       "0              0.968348  0.977185  0.972747  4164.000000\n",
       "1              0.972480  0.961891  0.967156  3490.000000\n",
       "accuracy       0.970212  0.970212  0.970212     0.970212\n",
       "macro avg      0.970414  0.969538  0.969952  7654.000000\n",
       "weighted avg   0.970232  0.970212  0.970198  7654.000000"
      ]
     },
     "execution_count": 35,
     "metadata": {},
     "output_type": "execute_result"
    }
   ],
   "source": [
    "report=classification_report(y_test, pred, output_dict=True)\n",
    "df = pd.DataFrame(report).transpose()\n",
    "df.to_csv(\"outputs//isot_ml_word2vec//model_ISOT_SVM_WORD2VEC_clasifctnrpt.csv\")\n",
    "df.head()"
   ]
  },
  {
   "cell_type": "markdown",
   "id": "0b388b2a",
   "metadata": {},
   "source": [
    "**Plot confusion matrix using the user defined functions as mentioned above earlier**"
   ]
  },
  {
   "cell_type": "code",
   "execution_count": 37,
   "id": "b854ced9",
   "metadata": {},
   "outputs": [
    {
     "data": {
      "image/png": "[encoded data removed]",
      "text/plain": [
       "<Figure size 360x300 with 2 Axes>"
      ]
     },
     "metadata": {},
     "output_type": "display_data"
    },
    {
     "data": {
      "image/png": "[encoded data removed]",
      "text/plain": [
       "<Figure size 360x300 with 2 Axes>"
      ]
     },
     "metadata": {},
     "output_type": "display_data"
    }
   ],
   "source": [
    "cm=confusion_matrix(y_test, pred)\n",
    "path1=\"outputs//isot_ml_word2vec//isot_ml_SVM_w2v_cmtrx.png\"\n",
    "path2=\"outputs//isot_ml_word2vec//isot_ml_SVM_w2v_ncmtrx.png\"\n",
    "confusn_mtrx_plot(cm,path1)\n",
    "norm_confusn_mtrx_plot(cm,path2)"
   ]
  },
  {
   "cell_type": "markdown",
   "id": "12664f9b",
   "metadata": {},
   "source": [
    "## KNN"
   ]
  },
  {
   "cell_type": "markdown",
   "id": "538f17a1",
   "metadata": {},
   "source": [
    "**Initialise the  model and  fit using train data and save it to a path**"
   ]
  },
  {
   "cell_type": "code",
   "execution_count": 38,
   "id": "33653bfc",
   "metadata": {},
   "outputs": [],
   "source": [
    "#Create KNN Object.\n",
    "knn_clf = KNeighborsClassifier()"
   ]
  },
  {
   "cell_type": "code",
   "execution_count": 39,
   "id": "8ab8f50c",
   "metadata": {},
   "outputs": [
    {
     "name": "stdout",
     "output_type": "stream",
     "text": [
      "KNN - Completed\n"
     ]
    }
   ],
   "source": [
    "knn_clf.fit(train_vectors,y_train)\n",
    "\n",
    "# save the model to disk\n",
    "filename = 'outputs//isot_ml_word2vec//isot_ml_KNN_word2vec.sav'\n",
    "pickle.dump(knn_clf, open(filename, 'wb'))\n",
    "print('KNN - Completed')"
   ]
  },
  {
   "cell_type": "markdown",
   "id": "4b09dc29",
   "metadata": {},
   "source": [
    "**Load the saved model and predict using test data and measure the accuracy metrics**"
   ]
  },
  {
   "cell_type": "code",
   "execution_count": 40,
   "id": "84d24cc6",
   "metadata": {},
   "outputs": [
    {
     "name": "stdout",
     "output_type": "stream",
     "text": [
      "Accuracy score : 0.9376796446302587\n",
      "Confusion matrix : \n",
      " [[4041  123]\n",
      " [ 354 3136]]\n",
      "Classification Report\n",
      "              precision    recall  f1-score   support\n",
      "\n",
      "           0       0.92      0.97      0.94      4164\n",
      "           1       0.96      0.90      0.93      3490\n",
      "\n",
      "    accuracy                           0.94      7654\n",
      "   macro avg       0.94      0.93      0.94      7654\n",
      "weighted avg       0.94      0.94      0.94      7654\n",
      "\n",
      "Precision : 0.9622583614605708\n",
      "Recall : 0.898567335243553\n",
      "F1 Score : 0.9293228626463179\n"
     ]
    }
   ],
   "source": [
    "#Loading the model\n",
    "filename = 'outputs//isot_ml_word2vec//isot_ml_KNN_word2vec.sav'\n",
    "\n",
    "knn_clf_tuned = pickle.load(open(filename, 'rb'))\n",
    "# result = rf_model_loaded.score(X_test_tfidf, y_test)\n",
    "# print(result)\n",
    "\n",
    "\n",
    "pred = knn_clf_tuned.predict(test_vectors)\n",
    "print(\"Accuracy score : {}\".format(accuracy_score(y_test, pred)))\n",
    "print(\"Confusion matrix : \\n {}\".format(confusion_matrix(y_test, pred)))\n",
    "print(\"Classification Report\")\n",
    "print(classification_report(y_test, pred))\n",
    "precision = precision_score(y_test, pred)\n",
    "print(\"Precision : {}\".format(precision))\n",
    "recall = recall_score(y_test, pred)\n",
    "print(\"Recall : {}\".format(recall))\n",
    "f1score = f1_score(y_test, pred)\n",
    "print(\"F1 Score : {}\".format(f1score))\n"
   ]
  },
  {
   "cell_type": "markdown",
   "id": "230e58b6",
   "metadata": {},
   "source": [
    "**Save the classification report to csv**"
   ]
  },
  {
   "cell_type": "code",
   "execution_count": 41,
   "id": "eab07326",
   "metadata": {},
   "outputs": [
    {
     "data": {
      "text/html": [
       "<div>\n",
       "<style scoped>\n",
       "    .dataframe tbody tr th:only-of-type {\n",
       "        vertical-align: middle;\n",
       "    }\n",
       "\n",
       "    .dataframe tbody tr th {\n",
       "        vertical-align: top;\n",
       "    }\n",
       "\n",
       "    .dataframe thead th {\n",
       "        text-align: right;\n",
       "    }\n",
       "</style>\n",
       "<table border=\"1\" class=\"dataframe\">\n",
       "  <thead>\n",
       "    <tr style=\"text-align: right;\">\n",
       "      <th></th>\n",
       "      <th>precision</th>\n",
       "      <th>recall</th>\n",
       "      <th>f1-score</th>\n",
       "      <th>support</th>\n",
       "    </tr>\n",
       "  </thead>\n",
       "  <tbody>\n",
       "    <tr>\n",
       "      <th>0</th>\n",
       "      <td>0.919454</td>\n",
       "      <td>0.970461</td>\n",
       "      <td>0.944269</td>\n",
       "      <td>4164.00000</td>\n",
       "    </tr>\n",
       "    <tr>\n",
       "      <th>1</th>\n",
       "      <td>0.962258</td>\n",
       "      <td>0.898567</td>\n",
       "      <td>0.929323</td>\n",
       "      <td>3490.00000</td>\n",
       "    </tr>\n",
       "    <tr>\n",
       "      <th>accuracy</th>\n",
       "      <td>0.937680</td>\n",
       "      <td>0.937680</td>\n",
       "      <td>0.937680</td>\n",
       "      <td>0.93768</td>\n",
       "    </tr>\n",
       "    <tr>\n",
       "      <th>macro avg</th>\n",
       "      <td>0.940856</td>\n",
       "      <td>0.934514</td>\n",
       "      <td>0.936796</td>\n",
       "      <td>7654.00000</td>\n",
       "    </tr>\n",
       "    <tr>\n",
       "      <th>weighted avg</th>\n",
       "      <td>0.938971</td>\n",
       "      <td>0.937680</td>\n",
       "      <td>0.937454</td>\n",
       "      <td>7654.00000</td>\n",
       "    </tr>\n",
       "  </tbody>\n",
       "</table>\n",
       "</div>"
      ],
      "text/plain": [
       "              precision    recall  f1-score     support\n",
       "0              0.919454  0.970461  0.944269  4164.00000\n",
       "1              0.962258  0.898567  0.929323  3490.00000\n",
       "accuracy       0.937680  0.937680  0.937680     0.93768\n",
       "macro avg      0.940856  0.934514  0.936796  7654.00000\n",
       "weighted avg   0.938971  0.937680  0.937454  7654.00000"
      ]
     },
     "execution_count": 41,
     "metadata": {},
     "output_type": "execute_result"
    }
   ],
   "source": [
    "report=classification_report(y_test, pred, output_dict=True)\n",
    "df = pd.DataFrame(report).transpose()\n",
    "df.to_csv(\"outputs//isot_ml_word2vec//model_ISOT_KNN_WORD2VEC_clasifctnrpt.csv\")\n",
    "df.head()"
   ]
  },
  {
   "cell_type": "markdown",
   "id": "f3cd7b1c",
   "metadata": {},
   "source": [
    "**Plot confusion matrix using the user defined functions as mentioned above earlier**"
   ]
  },
  {
   "cell_type": "code",
   "execution_count": 43,
   "id": "f1875002",
   "metadata": {},
   "outputs": [
    {
     "data": {
      "image/png": "[encoded data removed]",
      "text/plain": [
       "<Figure size 360x300 with 2 Axes>"
      ]
     },
     "metadata": {},
     "output_type": "display_data"
    },
    {
     "data": {
      "image/png": "[encoded data removed]",
      "text/plain": [
       "<Figure size 360x300 with 2 Axes>"
      ]
     },
     "metadata": {},
     "output_type": "display_data"
    }
   ],
   "source": [
    "cm=confusion_matrix(y_test, pred)\n",
    "path1=\"outputs//isot_ml_word2vec//isot_ml_KNN_w2v_cmtrx.png\"\n",
    "path2=\"outputs//isot_ml_word2vec//isot_ml_KNN_w2v_ncmtrx.png\"\n",
    "confusn_mtrx_plot(cm,path1)\n",
    "norm_confusn_mtrx_plot(cm,path2)"
   ]
  },
  {
   "cell_type": "markdown",
   "id": "1f878c31",
   "metadata": {},
   "source": [
    "### Xgboost"
   ]
  },
  {
   "cell_type": "markdown",
   "id": "d8336be5",
   "metadata": {},
   "source": [
    "**Initialise the  model and  fit using train data and save it to a path**"
   ]
  },
  {
   "cell_type": "code",
   "execution_count": 44,
   "id": "7ac17299",
   "metadata": {},
   "outputs": [
    {
     "name": "stdout",
     "output_type": "stream",
     "text": [
      "XgBoost - Completed\n"
     ]
    }
   ],
   "source": [
    "#Create KNN Object.\n",
    "xg_clf=XGBClassifier(random_state=0)\n",
    "\n",
    "xg_clf.fit(train_vectors,y_train)\n",
    "\n",
    "# save the model to disk\n",
    "filename = 'outputs//isot_ml_word2vec//isot_ml_XG_word2vec.sav'\n",
    "pickle.dump(xg_clf, open(filename, 'wb'))\n",
    "print('XgBoost - Completed')\n"
   ]
  },
  {
   "cell_type": "markdown",
   "id": "34b86340",
   "metadata": {},
   "source": [
    "**Load the saved model and predict using test data and measure the accuracy metrics**"
   ]
  },
  {
   "cell_type": "code",
   "execution_count": 45,
   "id": "404cc1ed",
   "metadata": {},
   "outputs": [
    {
     "name": "stdout",
     "output_type": "stream",
     "text": [
      "Accuracy score : 0.9608048079435589\n",
      "Confusion matrix : \n",
      " [[4041  123]\n",
      " [ 177 3313]]\n",
      "Classification Report\n",
      "              precision    recall  f1-score   support\n",
      "\n",
      "           0       0.96      0.97      0.96      4164\n",
      "           1       0.96      0.95      0.96      3490\n",
      "\n",
      "    accuracy                           0.96      7654\n",
      "   macro avg       0.96      0.96      0.96      7654\n",
      "weighted avg       0.96      0.96      0.96      7654\n",
      "\n",
      "Precision : 0.9642025611175786\n",
      "Recall : 0.9492836676217765\n",
      "F1 Score : 0.9566849552411204\n"
     ]
    }
   ],
   "source": [
    "#Loading the model\n",
    "filename = 'outputs//isot_ml_word2vec//isot_ml_XG_word2vec.sav'\n",
    "\n",
    "xg_clf_tuned = pickle.load(open(filename, 'rb'))\n",
    "# result = rf_model_loaded.score(X_test_tfidf, y_test)\n",
    "# print(result)\n",
    "\n",
    "\n",
    "pred = xg_clf_tuned.predict(test_vectors)\n",
    "print(\"Accuracy score : {}\".format(accuracy_score(y_test, pred)))\n",
    "print(\"Confusion matrix : \\n {}\".format(confusion_matrix(y_test, pred)))\n",
    "print(\"Classification Report\")\n",
    "print(classification_report(y_test, pred))\n",
    "precision = precision_score(y_test, pred)\n",
    "print(\"Precision : {}\".format(precision))\n",
    "recall = recall_score(y_test, pred)\n",
    "print(\"Recall : {}\".format(recall))\n",
    "f1score = f1_score(y_test, pred)\n",
    "print(\"F1 Score : {}\".format(f1score))\n"
   ]
  },
  {
   "cell_type": "markdown",
   "id": "6aa5f7f2",
   "metadata": {},
   "source": [
    "**Save the classification report to csv**"
   ]
  },
  {
   "cell_type": "code",
   "execution_count": 46,
   "id": "605c42da",
   "metadata": {},
   "outputs": [
    {
     "data": {
      "text/html": [
       "<div>\n",
       "<style scoped>\n",
       "    .dataframe tbody tr th:only-of-type {\n",
       "        vertical-align: middle;\n",
       "    }\n",
       "\n",
       "    .dataframe tbody tr th {\n",
       "        vertical-align: top;\n",
       "    }\n",
       "\n",
       "    .dataframe thead th {\n",
       "        text-align: right;\n",
       "    }\n",
       "</style>\n",
       "<table border=\"1\" class=\"dataframe\">\n",
       "  <thead>\n",
       "    <tr style=\"text-align: right;\">\n",
       "      <th></th>\n",
       "      <th>precision</th>\n",
       "      <th>recall</th>\n",
       "      <th>f1-score</th>\n",
       "      <th>support</th>\n",
       "    </tr>\n",
       "  </thead>\n",
       "  <tbody>\n",
       "    <tr>\n",
       "      <th>0</th>\n",
       "      <td>0.958037</td>\n",
       "      <td>0.970461</td>\n",
       "      <td>0.964209</td>\n",
       "      <td>4164.000000</td>\n",
       "    </tr>\n",
       "    <tr>\n",
       "      <th>1</th>\n",
       "      <td>0.964203</td>\n",
       "      <td>0.949284</td>\n",
       "      <td>0.956685</td>\n",
       "      <td>3490.000000</td>\n",
       "    </tr>\n",
       "    <tr>\n",
       "      <th>accuracy</th>\n",
       "      <td>0.960805</td>\n",
       "      <td>0.960805</td>\n",
       "      <td>0.960805</td>\n",
       "      <td>0.960805</td>\n",
       "    </tr>\n",
       "    <tr>\n",
       "      <th>macro avg</th>\n",
       "      <td>0.961120</td>\n",
       "      <td>0.959872</td>\n",
       "      <td>0.960447</td>\n",
       "      <td>7654.000000</td>\n",
       "    </tr>\n",
       "    <tr>\n",
       "      <th>weighted avg</th>\n",
       "      <td>0.960848</td>\n",
       "      <td>0.960805</td>\n",
       "      <td>0.960778</td>\n",
       "      <td>7654.000000</td>\n",
       "    </tr>\n",
       "  </tbody>\n",
       "</table>\n",
       "</div>"
      ],
      "text/plain": [
       "              precision    recall  f1-score      support\n",
       "0              0.958037  0.970461  0.964209  4164.000000\n",
       "1              0.964203  0.949284  0.956685  3490.000000\n",
       "accuracy       0.960805  0.960805  0.960805     0.960805\n",
       "macro avg      0.961120  0.959872  0.960447  7654.000000\n",
       "weighted avg   0.960848  0.960805  0.960778  7654.000000"
      ]
     },
     "execution_count": 46,
     "metadata": {},
     "output_type": "execute_result"
    }
   ],
   "source": [
    "report=classification_report(y_test, pred, output_dict=True)\n",
    "df = pd.DataFrame(report).transpose()\n",
    "df.to_csv(\"outputs//isot_ml_word2vec//model_ISOT_XG_WORD2VEC_clasifctnrpt.csv\")\n",
    "df.head()"
   ]
  },
  {
   "cell_type": "markdown",
   "id": "fd7300fe",
   "metadata": {},
   "source": [
    "**Plot confusion matrix using the user defined functions as mentioned above earlier**"
   ]
  },
  {
   "cell_type": "code",
   "execution_count": 48,
   "id": "46afcb66",
   "metadata": {},
   "outputs": [
    {
     "data": {
      "image/png": "[encoded data removed]",
      "text/plain": [
       "<Figure size 360x300 with 2 Axes>"
      ]
     },
     "metadata": {},
     "output_type": "display_data"
    },
    {
     "data": {
      "image/png": "[encoded data removed]",
      "text/plain": [
       "<Figure size 360x300 with 2 Axes>"
      ]
     },
     "metadata": {},
     "output_type": "display_data"
    }
   ],
   "source": [
    "cm=confusion_matrix(y_test, pred)\n",
    "path1=\"outputs//isot_ml_word2vec//isot_ml_XG_w2v_cmtrx.png\"\n",
    "path2=\"outputs//isot_ml_word2vec//isot_ml_XG_w2v_ncmtrx.png\"\n",
    "confusn_mtrx_plot(cm,path1)\n",
    "norm_confusn_mtrx_plot(cm,path2)"
   ]
  },
  {
   "cell_type": "markdown",
   "id": "3927128d",
   "metadata": {},
   "source": [
    "### Naiva Bayes"
   ]
  },
  {
   "cell_type": "markdown",
   "id": "c429cf94",
   "metadata": {},
   "source": [
    "**Initialise the  model and  fit using train data and save it to a path**"
   ]
  },
  {
   "cell_type": "code",
   "execution_count": 49,
   "id": "a3cb40fa",
   "metadata": {},
   "outputs": [
    {
     "name": "stdout",
     "output_type": "stream",
     "text": [
      "Naive Bayes - Completed\n"
     ]
    }
   ],
   "source": [
    "from sklearn.preprocessing import MinMaxScaler\n",
    "from sklearn.naive_bayes import GaussianNB\n",
    "nb_clf=GaussianNB()\n",
    "#p = Pipeline([('Normalizing',MinMaxScaler()),('MultinomialNB',MultinomialNB())])\n",
    "nb_clf.fit(train_vectors,y_train) \n",
    "\n",
    "# save the model to disk\n",
    "filename = 'outputs//isot_ml_word2vec//isot_ml_NB_word2vec.sav'\n",
    "pickle.dump(nb_clf, open(filename, 'wb'))\n",
    "print('Naive Bayes - Completed')"
   ]
  },
  {
   "cell_type": "markdown",
   "id": "5e810bae",
   "metadata": {},
   "source": [
    "**Load the saved model and predict using test data and measure the accuracy metrics**"
   ]
  },
  {
   "cell_type": "code",
   "execution_count": 50,
   "id": "68b6fc70",
   "metadata": {},
   "outputs": [
    {
     "name": "stdout",
     "output_type": "stream",
     "text": [
      "Accuracy score : 0.8881630519989548\n",
      "Confusion matrix : \n",
      " [[3752  412]\n",
      " [ 444 3046]]\n",
      "Classification Report\n",
      "              precision    recall  f1-score   support\n",
      "\n",
      "           0       0.89      0.90      0.90      4164\n",
      "           1       0.88      0.87      0.88      3490\n",
      "\n",
      "    accuracy                           0.89      7654\n",
      "   macro avg       0.89      0.89      0.89      7654\n",
      "weighted avg       0.89      0.89      0.89      7654\n",
      "\n",
      "Precision : 0.8808559861191441\n",
      "Recall : 0.8727793696275071\n",
      "F1 Score : 0.8767990788716177\n"
     ]
    }
   ],
   "source": [
    "#Loading the model\n",
    "filename = 'outputs//isot_ml_word2vec//isot_ml_NB_word2vec.sav'\n",
    "\n",
    "nb_clf_tuned = pickle.load(open(filename, 'rb'))\n",
    "# result = rf_model_loaded.score(X_test_tfidf, y_test)\n",
    "# print(result)\n",
    "\n",
    "\n",
    "pred = nb_clf_tuned.predict(test_vectors)\n",
    "print(\"Accuracy score : {}\".format(accuracy_score(y_test, pred)))\n",
    "print(\"Confusion matrix : \\n {}\".format(confusion_matrix(y_test, pred)))\n",
    "print(\"Classification Report\")\n",
    "print(classification_report(y_test, pred))\n",
    "precision = precision_score(y_test, pred)\n",
    "print(\"Precision : {}\".format(precision))\n",
    "recall = recall_score(y_test, pred)\n",
    "print(\"Recall : {}\".format(recall))\n",
    "f1score = f1_score(y_test, pred)\n",
    "print(\"F1 Score : {}\".format(f1score))\n"
   ]
  },
  {
   "cell_type": "markdown",
   "id": "cb7b9752",
   "metadata": {},
   "source": [
    "**Save the classification report to csv**"
   ]
  },
  {
   "cell_type": "code",
   "execution_count": 51,
   "id": "f1b61703",
   "metadata": {},
   "outputs": [
    {
     "data": {
      "text/html": [
       "<div>\n",
       "<style scoped>\n",
       "    .dataframe tbody tr th:only-of-type {\n",
       "        vertical-align: middle;\n",
       "    }\n",
       "\n",
       "    .dataframe tbody tr th {\n",
       "        vertical-align: top;\n",
       "    }\n",
       "\n",
       "    .dataframe thead th {\n",
       "        text-align: right;\n",
       "    }\n",
       "</style>\n",
       "<table border=\"1\" class=\"dataframe\">\n",
       "  <thead>\n",
       "    <tr style=\"text-align: right;\">\n",
       "      <th></th>\n",
       "      <th>precision</th>\n",
       "      <th>recall</th>\n",
       "      <th>f1-score</th>\n",
       "      <th>support</th>\n",
       "    </tr>\n",
       "  </thead>\n",
       "  <tbody>\n",
       "    <tr>\n",
       "      <th>0</th>\n",
       "      <td>0.894185</td>\n",
       "      <td>0.901057</td>\n",
       "      <td>0.897608</td>\n",
       "      <td>4164.000000</td>\n",
       "    </tr>\n",
       "    <tr>\n",
       "      <th>1</th>\n",
       "      <td>0.880856</td>\n",
       "      <td>0.872779</td>\n",
       "      <td>0.876799</td>\n",
       "      <td>3490.000000</td>\n",
       "    </tr>\n",
       "    <tr>\n",
       "      <th>accuracy</th>\n",
       "      <td>0.888163</td>\n",
       "      <td>0.888163</td>\n",
       "      <td>0.888163</td>\n",
       "      <td>0.888163</td>\n",
       "    </tr>\n",
       "    <tr>\n",
       "      <th>macro avg</th>\n",
       "      <td>0.887520</td>\n",
       "      <td>0.886918</td>\n",
       "      <td>0.887203</td>\n",
       "      <td>7654.000000</td>\n",
       "    </tr>\n",
       "    <tr>\n",
       "      <th>weighted avg</th>\n",
       "      <td>0.888107</td>\n",
       "      <td>0.888163</td>\n",
       "      <td>0.888120</td>\n",
       "      <td>7654.000000</td>\n",
       "    </tr>\n",
       "  </tbody>\n",
       "</table>\n",
       "</div>"
      ],
      "text/plain": [
       "              precision    recall  f1-score      support\n",
       "0              0.894185  0.901057  0.897608  4164.000000\n",
       "1              0.880856  0.872779  0.876799  3490.000000\n",
       "accuracy       0.888163  0.888163  0.888163     0.888163\n",
       "macro avg      0.887520  0.886918  0.887203  7654.000000\n",
       "weighted avg   0.888107  0.888163  0.888120  7654.000000"
      ]
     },
     "execution_count": 51,
     "metadata": {},
     "output_type": "execute_result"
    }
   ],
   "source": [
    "report=classification_report(y_test, pred, output_dict=True)\n",
    "df = pd.DataFrame(report).transpose()\n",
    "df.to_csv(\"outputs//isot_ml_word2vec//model_ISOT_NB_WORD2VEC_clasifctnrpt.csv\")\n",
    "df.head()"
   ]
  },
  {
   "cell_type": "markdown",
   "id": "4230738a",
   "metadata": {},
   "source": [
    "**Plot confusion matrix using the user defined functions as mentioned above earlier**"
   ]
  },
  {
   "cell_type": "code",
   "execution_count": 53,
   "id": "96751bc5",
   "metadata": {},
   "outputs": [
    {
     "data": {
      "image/png": "[encoded data removed]",
      "text/plain": [
       "<Figure size 360x300 with 2 Axes>"
      ]
     },
     "metadata": {},
     "output_type": "display_data"
    },
    {
     "data": {
      "image/png": "[encoded data removed]",
      "text/plain": [
       "<Figure size 360x300 with 2 Axes>"
      ]
     },
     "metadata": {},
     "output_type": "display_data"
    }
   ],
   "source": [
    "cm=confusion_matrix(y_test, pred)\n",
    "path1=\"outputs//isot_ml_word2vec//isot_ml_NB_w2v_cmtrx.png\"\n",
    "path2=\"outputs//isot_ml_word2vec//isot_ml_NB_w2v_ncmtrx.png\"\n",
    "confusn_mtrx_plot(cm,path1)\n",
    "norm_confusn_mtrx_plot(cm,path2)"
   ]
  },
  {
   "cell_type": "markdown",
   "id": "134d989f",
   "metadata": {},
   "source": [
    "### Logistic Regression"
   ]
  },
  {
   "cell_type": "markdown",
   "id": "336dd026",
   "metadata": {},
   "source": [
    "**Initialise the  model and  fit using train data and save it to a path**"
   ]
  },
  {
   "cell_type": "code",
   "execution_count": 54,
   "id": "1ad9f939",
   "metadata": {},
   "outputs": [],
   "source": [
    "from sklearn.linear_model import LogisticRegression"
   ]
  },
  {
   "cell_type": "code",
   "execution_count": 55,
   "id": "1f69ee08",
   "metadata": {},
   "outputs": [
    {
     "name": "stdout",
     "output_type": "stream",
     "text": [
      "Logistic - Completed\n"
     ]
    }
   ],
   "source": [
    "logticreg_clf=LogisticRegression()\n",
    "\n",
    "logticreg_clf.fit(train_vectors,y_train)\n",
    "\n",
    "# save the model to disk\n",
    "filename = 'outputs//isot_ml_word2vec//isot_ml_LR_word2vec.sav'\n",
    "pickle.dump(nb_clf, open(filename, 'wb'))\n",
    "print('Logistic - Completed')"
   ]
  },
  {
   "cell_type": "markdown",
   "id": "bef21545",
   "metadata": {},
   "source": [
    "**Load the saved model and predict using test data and measure the accuracy metrics**"
   ]
  },
  {
   "cell_type": "code",
   "execution_count": 56,
   "id": "f53d2820",
   "metadata": {},
   "outputs": [
    {
     "name": "stdout",
     "output_type": "stream",
     "text": [
      "Accuracy score : 0.8881630519989548\n",
      "Confusion matrix : \n",
      " [[3752  412]\n",
      " [ 444 3046]]\n",
      "Classification Report\n",
      "              precision    recall  f1-score   support\n",
      "\n",
      "           0       0.89      0.90      0.90      4164\n",
      "           1       0.88      0.87      0.88      3490\n",
      "\n",
      "    accuracy                           0.89      7654\n",
      "   macro avg       0.89      0.89      0.89      7654\n",
      "weighted avg       0.89      0.89      0.89      7654\n",
      "\n",
      "Precision : 0.8808559861191441\n",
      "Recall : 0.8727793696275071\n",
      "F1 Score : 0.8767990788716177\n"
     ]
    }
   ],
   "source": [
    "#Loading the model\n",
    "filename = 'outputs//isot_ml_word2vec//isot_ml_LR_word2vec.sav'\n",
    "\n",
    "lr_clf_tuned = pickle.load(open(filename, 'rb'))\n",
    "# result = rf_model_loaded.score(X_test_tfidf, y_test)\n",
    "# print(result)\n",
    "\n",
    "\n",
    "pred = lr_clf_tuned.predict(test_vectors)\n",
    "print(\"Accuracy score : {}\".format(accuracy_score(y_test, pred)))\n",
    "print(\"Confusion matrix : \\n {}\".format(confusion_matrix(y_test, pred)))\n",
    "print(\"Classification Report\")\n",
    "print(classification_report(y_test, pred))\n",
    "precision = precision_score(y_test, pred)\n",
    "print(\"Precision : {}\".format(precision))\n",
    "recall = recall_score(y_test, pred)\n",
    "print(\"Recall : {}\".format(recall))\n",
    "f1score = f1_score(y_test, pred)\n",
    "print(\"F1 Score : {}\".format(f1score))\n"
   ]
  },
  {
   "cell_type": "markdown",
   "id": "c17ae105",
   "metadata": {},
   "source": [
    "**Save the classification report to csv**"
   ]
  },
  {
   "cell_type": "code",
   "execution_count": 57,
   "id": "838add57",
   "metadata": {},
   "outputs": [
    {
     "data": {
      "text/html": [
       "<div>\n",
       "<style scoped>\n",
       "    .dataframe tbody tr th:only-of-type {\n",
       "        vertical-align: middle;\n",
       "    }\n",
       "\n",
       "    .dataframe tbody tr th {\n",
       "        vertical-align: top;\n",
       "    }\n",
       "\n",
       "    .dataframe thead th {\n",
       "        text-align: right;\n",
       "    }\n",
       "</style>\n",
       "<table border=\"1\" class=\"dataframe\">\n",
       "  <thead>\n",
       "    <tr style=\"text-align: right;\">\n",
       "      <th></th>\n",
       "      <th>precision</th>\n",
       "      <th>recall</th>\n",
       "      <th>f1-score</th>\n",
       "      <th>support</th>\n",
       "    </tr>\n",
       "  </thead>\n",
       "  <tbody>\n",
       "    <tr>\n",
       "      <th>0</th>\n",
       "      <td>0.894185</td>\n",
       "      <td>0.901057</td>\n",
       "      <td>0.897608</td>\n",
       "      <td>4164.000000</td>\n",
       "    </tr>\n",
       "    <tr>\n",
       "      <th>1</th>\n",
       "      <td>0.880856</td>\n",
       "      <td>0.872779</td>\n",
       "      <td>0.876799</td>\n",
       "      <td>3490.000000</td>\n",
       "    </tr>\n",
       "    <tr>\n",
       "      <th>accuracy</th>\n",
       "      <td>0.888163</td>\n",
       "      <td>0.888163</td>\n",
       "      <td>0.888163</td>\n",
       "      <td>0.888163</td>\n",
       "    </tr>\n",
       "    <tr>\n",
       "      <th>macro avg</th>\n",
       "      <td>0.887520</td>\n",
       "      <td>0.886918</td>\n",
       "      <td>0.887203</td>\n",
       "      <td>7654.000000</td>\n",
       "    </tr>\n",
       "    <tr>\n",
       "      <th>weighted avg</th>\n",
       "      <td>0.888107</td>\n",
       "      <td>0.888163</td>\n",
       "      <td>0.888120</td>\n",
       "      <td>7654.000000</td>\n",
       "    </tr>\n",
       "  </tbody>\n",
       "</table>\n",
       "</div>"
      ],
      "text/plain": [
       "              precision    recall  f1-score      support\n",
       "0              0.894185  0.901057  0.897608  4164.000000\n",
       "1              0.880856  0.872779  0.876799  3490.000000\n",
       "accuracy       0.888163  0.888163  0.888163     0.888163\n",
       "macro avg      0.887520  0.886918  0.887203  7654.000000\n",
       "weighted avg   0.888107  0.888163  0.888120  7654.000000"
      ]
     },
     "execution_count": 57,
     "metadata": {},
     "output_type": "execute_result"
    }
   ],
   "source": [
    "report=classification_report(y_test, pred, output_dict=True)\n",
    "df = pd.DataFrame(report).transpose()\n",
    "df.to_csv(\"outputs//isot_ml_word2vec//model_ISOT_LR_WORD2VEC_clasifctnrpt.csv\")\n",
    "df.head()"
   ]
  },
  {
   "cell_type": "markdown",
   "id": "cedec459",
   "metadata": {},
   "source": [
    "**Plot confusion matrix using the user defined functions as mentioned above earlier**"
   ]
  },
  {
   "cell_type": "code",
   "execution_count": 59,
   "id": "3bcad3e3",
   "metadata": {},
   "outputs": [
    {
     "data": {
      "image/png": "[encoded data removed]",
      "text/plain": [
       "<Figure size 360x300 with 2 Axes>"
      ]
     },
     "metadata": {},
     "output_type": "display_data"
    },
    {
     "data": {
      "image/png": "[encoded data removed]",
      "text/plain": [
       "<Figure size 360x300 with 2 Axes>"
      ]
     },
     "metadata": {},
     "output_type": "display_data"
    }
   ],
   "source": [
    "cm=confusion_matrix(y_test, pred)\n",
    "path1=\"outputs//isot_ml_word2vec//isot_ml_LR_w2v_cmtrx.png\"\n",
    "path2=\"outputs//isot_ml_word2vec//isot_ml_LR_w2v_ncmtrx.png\"\n",
    "confusn_mtrx_plot(cm,path1)\n",
    "norm_confusn_mtrx_plot(cm,path2)"
   ]
  },
  {
   "cell_type": "code",
   "execution_count": null,
   "id": "4f23057e",
   "metadata": {},
   "outputs": [],
   "source": []
  },
  {
   "cell_type": "markdown",
   "id": "cc986e6c",
   "metadata": {},
   "source": [
    "### ROC AUC Curve plot using all the algorithms"
   ]
  },
  {
   "cell_type": "code",
   "execution_count": 61,
   "id": "b8241e82",
   "metadata": {},
   "outputs": [
    {
     "data": {
      "image/png": "[encoded data removed]",
      "text/plain": [
       "<Figure size 360x300 with 1 Axes>"
      ]
     },
     "metadata": {},
     "output_type": "display_data"
    }
   ],
   "source": [
    "#set up plotting area\n",
    "fig = plt.figure(figsize=(6, 5), dpi=60)\n",
    "ax = plt.subplot()\n",
    "#fit RF model and plot ROC curve\n",
    "\n",
    "y_pred = rf_clf_tuned.predict_proba(test_vectors)[:, 1]\n",
    "fpr, tpr, _ = roc_curve(y_test, y_pred)\n",
    "auc = round(roc_auc_score(y_test, y_pred), 4)\n",
    "plt.plot(fpr,tpr,label=\"Random Forest, AUC=\"+str(auc))\n",
    "\n",
    "#fit Logistic model and plot ROC curve\n",
    "\n",
    "y_pred = lr_clf_tuned.predict_proba(test_vectors)[:, 1]\n",
    "fpr, tpr, _ = roc_curve(y_test, y_pred)\n",
    "auc = round(roc_auc_score(y_test, y_pred), 4)\n",
    "plt.plot(fpr,tpr,label=\"Logistic, AUC=\"+str(auc))\n",
    "\n",
    "\n",
    "#fit SVM model and plot ROC curve\n",
    "\n",
    "y_pred = svm_clf_tuned.predict_proba(test_vectors)[:, 1]\n",
    "fpr, tpr, _ = roc_curve(y_test, y_pred)\n",
    "auc = round(roc_auc_score(y_test, y_pred), 4)\n",
    "plt.plot(fpr,tpr,label=\"SVM, AUC=\"+str(auc))\n",
    "\n",
    "\n",
    "#fit KNN model and plot ROC curve\n",
    "\n",
    "\n",
    "y_pred = knn_clf_tuned.predict_proba(test_vectors)[:, 1]\n",
    "fpr, tpr, _ = roc_curve(y_test, y_pred)\n",
    "auc = round(roc_auc_score(y_test, y_pred), 4)\n",
    "plt.plot(fpr,tpr,label=\"KNN, AUC=\"+str(auc))\n",
    "\n",
    "#fit Naive Bayes model and plot ROC curve\n",
    "\n",
    "y_pred = nb_clf_tuned.predict_proba(test_vectors)[:, 1]\n",
    "fpr, tpr, _ = roc_curve(y_test, y_pred)\n",
    "auc = round(roc_auc_score(y_test, y_pred), 4)\n",
    "plt.plot(fpr,tpr,label=\"Naive Bayes, AUC=\"+str(auc))\n",
    "\n",
    "#fit Xgboost model and plot ROC curve\n",
    "\n",
    "y_pred = xg_clf_tuned.predict_proba(test_vectors)[:, 1]\n",
    "fpr, tpr, _ = roc_curve(y_test, y_pred)\n",
    "auc = round(roc_auc_score(y_test, y_pred), 4)\n",
    "plt.plot(fpr,tpr,label=\"Xgboost, AUC=\"+str(auc))\n",
    "\n",
    "#add legend\n",
    "plt.legend()\n",
    "fig.savefig(\"outputs//isot_ml_word2vec//ROC_AUC.png\")"
   ]
  },
  {
   "cell_type": "code",
   "execution_count": null,
   "id": "32c1f9a2",
   "metadata": {},
   "outputs": [],
   "source": []
  },
  {
   "cell_type": "markdown",
   "id": "90e59b33",
   "metadata": {},
   "source": [
    "### Consolidating all classifiers accuracy scores"
   ]
  },
  {
   "cell_type": "code",
   "execution_count": 62,
   "id": "02d00501",
   "metadata": {},
   "outputs": [],
   "source": [
    "classifiers = [('Logistic Regression',lr_clf_tuned),('Naive Bayes',nb_clf_tuned),('Xgboost',xg_clf_tuned),\n",
    "              ('KNN',knn_clf_tuned),('Random Forest',rf_clf_tuned),(\"SVM\",svm_clf_tuned)]"
   ]
  },
  {
   "cell_type": "code",
   "execution_count": 63,
   "id": "274b8851",
   "metadata": {},
   "outputs": [],
   "source": [
    "df_model_scores=model_comparison_table(test_vectors,y_test,classifiers)\n",
    "df_model_scores.head(20).T.sort_values(by='Accuracy', ascending=False)\n",
    "df_model_scores.to_csv(\"outputs//isot_ml_word2vec/comparison_scores.csv\")"
   ]
  },
  {
   "cell_type": "code",
   "execution_count": 64,
   "id": "066c4d73",
   "metadata": {},
   "outputs": [
    {
     "data": {
      "text/html": [
       "<div>\n",
       "<style scoped>\n",
       "    .dataframe tbody tr th:only-of-type {\n",
       "        vertical-align: middle;\n",
       "    }\n",
       "\n",
       "    .dataframe tbody tr th {\n",
       "        vertical-align: top;\n",
       "    }\n",
       "\n",
       "    .dataframe thead th {\n",
       "        text-align: right;\n",
       "    }\n",
       "</style>\n",
       "<table border=\"1\" class=\"dataframe\">\n",
       "  <thead>\n",
       "    <tr style=\"text-align: right;\">\n",
       "      <th></th>\n",
       "      <th>Logistic Regression</th>\n",
       "      <th>Naive Bayes</th>\n",
       "      <th>Xgboost</th>\n",
       "      <th>KNN</th>\n",
       "      <th>Random Forest</th>\n",
       "      <th>SVM</th>\n",
       "    </tr>\n",
       "  </thead>\n",
       "  <tbody>\n",
       "    <tr>\n",
       "      <th>Accuracy</th>\n",
       "      <td>0.888163</td>\n",
       "      <td>0.888163</td>\n",
       "      <td>0.960805</td>\n",
       "      <td>0.937680</td>\n",
       "      <td>0.933238</td>\n",
       "      <td>0.970212</td>\n",
       "    </tr>\n",
       "    <tr>\n",
       "      <th>Precision</th>\n",
       "      <td>0.890000</td>\n",
       "      <td>0.890000</td>\n",
       "      <td>0.960000</td>\n",
       "      <td>0.940000</td>\n",
       "      <td>0.940000</td>\n",
       "      <td>0.970000</td>\n",
       "    </tr>\n",
       "    <tr>\n",
       "      <th>Recall</th>\n",
       "      <td>0.872779</td>\n",
       "      <td>0.872779</td>\n",
       "      <td>0.949284</td>\n",
       "      <td>0.898567</td>\n",
       "      <td>0.902006</td>\n",
       "      <td>0.961891</td>\n",
       "    </tr>\n",
       "    <tr>\n",
       "      <th>F1 Score</th>\n",
       "      <td>0.880000</td>\n",
       "      <td>0.880000</td>\n",
       "      <td>0.960000</td>\n",
       "      <td>0.930000</td>\n",
       "      <td>0.920000</td>\n",
       "      <td>0.970000</td>\n",
       "    </tr>\n",
       "    <tr>\n",
       "      <th>roc_auc_score</th>\n",
       "      <td>0.944391</td>\n",
       "      <td>0.944391</td>\n",
       "      <td>0.992910</td>\n",
       "      <td>0.975750</td>\n",
       "      <td>0.981484</td>\n",
       "      <td>0.994976</td>\n",
       "    </tr>\n",
       "  </tbody>\n",
       "</table>\n",
       "</div>"
      ],
      "text/plain": [
       "               Logistic Regression  Naive Bayes   Xgboost       KNN  Random Forest       SVM\n",
       "Accuracy                  0.888163     0.888163  0.960805  0.937680       0.933238  0.970212\n",
       "Precision                 0.890000     0.890000  0.960000  0.940000       0.940000  0.970000\n",
       "Recall                    0.872779     0.872779  0.949284  0.898567       0.902006  0.961891\n",
       "F1 Score                  0.880000     0.880000  0.960000  0.930000       0.920000  0.970000\n",
       "roc_auc_score             0.944391     0.944391  0.992910  0.975750       0.981484  0.994976"
      ]
     },
     "execution_count": 64,
     "metadata": {},
     "output_type": "execute_result"
    }
   ],
   "source": [
    "df_model_scores.head()"
   ]
  },
  {
   "cell_type": "code",
   "execution_count": null,
   "id": "fb0b2fdb",
   "metadata": {},
   "outputs": [],
   "source": []
  },
  {
   "cell_type": "markdown",
   "id": "4e149837",
   "metadata": {},
   "source": [
    "## Feature Extraction using Pretrained Glove"
   ]
  },
  {
   "cell_type": "markdown",
   "id": "5c1c5648",
   "metadata": {},
   "source": [
    "##### Download the pretrained zip file"
   ]
  },
  {
   "cell_type": "code",
   "execution_count": null,
   "id": "0dcf1333",
   "metadata": {},
   "outputs": [],
   "source": [
    "!wget http://nlp.stanford.edu/data/glove.6B.zip"
   ]
  },
  {
   "cell_type": "markdown",
   "id": "f3c8f6e0",
   "metadata": {},
   "source": [
    "#### Load the downloaded the 300 dimension Glove pretrained model \"glove.6B.300d.txt\" in a path and convert to word2vec format\","
   ]
  },
  {
   "cell_type": "code",
   "execution_count": 11,
   "id": "73942e7b",
   "metadata": {},
   "outputs": [],
   "source": [
    "from gensim.models import KeyedVectors\n",
    "from gensim.scripts.glove2word2vec import glove2word2vec"
   ]
  },
  {
   "cell_type": "code",
   "execution_count": 12,
   "id": "bf0281e3",
   "metadata": {},
   "outputs": [
    {
     "data": {
      "text/plain": [
       "(400000, 300)"
      ]
     },
     "execution_count": 12,
     "metadata": {},
     "output_type": "execute_result"
    }
   ],
   "source": [
    "path_to_model = '//gpfs//home//psc21zcu//FakeNews_Detection/Dissertation_Work//Embeddings//glove.6B.300d.txt'\n",
    "output_file = '//gpfs//home//psc21zcu//FakeNews_Detection/Dissertation_Work//Embeddings///gensim_glove.6B.300d.txt'\n",
    "glove2word2vec(path_to_model, output_file)"
   ]
  },
  {
   "cell_type": "markdown",
   "id": "b5e57de2",
   "metadata": {},
   "source": [
    "#### Then load the converted glove model "
   ]
  },
  {
   "cell_type": "code",
   "execution_count": 14,
   "id": "d98342a8",
   "metadata": {},
   "outputs": [
    {
     "name": "stdout",
     "output_type": "stream",
     "text": [
      "CPU times: user 41.8 s, sys: 547 ms, total: 42.3 s\n",
      "Wall time: 42.5 s\n",
      "done loading Glove Pretrained Embedding\n"
     ]
    }
   ],
   "source": [
    "%time glove_model = KeyedVectors.load_word2vec_format(output_file, binary=False)\n",
    "print('done loading Glove Pretrained Embedding')"
   ]
  },
  {
   "cell_type": "markdown",
   "id": "0d8d2fd5",
   "metadata": {},
   "source": [
    "### Function to create a feature vector by averaging all embeddings for the given sentence "
   ]
  },
  {
   "cell_type": "code",
   "execution_count": 15,
   "id": "4d227468",
   "metadata": {},
   "outputs": [
    {
     "name": "stdout",
     "output_type": "stream",
     "text": [
      "30616\n"
     ]
    }
   ],
   "source": [
    "# Creating a feature vector by averaging all embeddings for all sentences\n",
    "def glove_embedding_feats(list_of_lists):\n",
    "    DIMENSION = 300\n",
    "    zero_vector = np.zeros(DIMENSION)\n",
    "    feats = []\n",
    "    for tokens in list_of_lists:\n",
    "        feat_for_this =  np.zeros(DIMENSION)\n",
    "        count_for_this = 0 + 1e-5 # to avoid divide-by-zero \n",
    "        for token in tokens:\n",
    "            if token in glove_model:\n",
    "                feat_for_this += glove_model[token]\n",
    "                count_for_this +=1\n",
    "        if(count_for_this!=0):\n",
    "            feats.append(feat_for_this/count_for_this) \n",
    "        else:\n",
    "            feats.append(zero_vector)\n",
    "    return feats\n",
    "\n"
   ]
  },
  {
   "cell_type": "markdown",
   "id": "0abf7a0c",
   "metadata": {},
   "source": [
    "#### Then fit the training data and transform both training and test data"
   ]
  },
  {
   "cell_type": "code",
   "execution_count": 16,
   "id": "e71a656e",
   "metadata": {},
   "outputs": [
    {
     "name": "stdout",
     "output_type": "stream",
     "text": [
      "7654\n"
     ]
    }
   ],
   "source": [
    "glove_train_vectors = glove_embedding_feats(X_train)\n",
    "glove_test_vectors = glove_embedding_feats(X_test)\n",
    "print(len(glove_test_vectors))"
   ]
  },
  {
   "cell_type": "markdown",
   "id": "8c978c7d",
   "metadata": {},
   "source": [
    "### RandomForest"
   ]
  },
  {
   "cell_type": "markdown",
   "id": "9dcfe5b6",
   "metadata": {},
   "source": [
    "**Initialise the  model and  fit using train data and save it to a path**"
   ]
  },
  {
   "cell_type": "code",
   "execution_count": 18,
   "id": "a1f4cc0a",
   "metadata": {},
   "outputs": [
    {
     "name": "stdout",
     "output_type": "stream",
     "text": [
      "RandomForest - Completed\n"
     ]
    }
   ],
   "source": [
    "rf = RandomForestClassifier(random_state=0)\n",
    "rf_clf_g = rf.fit(glove_train_vectors, y_train.values.ravel())\n",
    "import pickle\n",
    "# save the model to disk\n",
    "filename = 'outputs//isot_ml_glove//isot_ml_RF_glove.sav'\n",
    "pickle.dump(rf_clf_g, open(filename, 'wb'))\n",
    "print('RandomForest - Completed')"
   ]
  },
  {
   "cell_type": "markdown",
   "id": "aa0e9502",
   "metadata": {},
   "source": [
    "**Load the saved model and predict using test data and measure the accuracy metrics**"
   ]
  },
  {
   "cell_type": "code",
   "execution_count": 19,
   "id": "bba6fd6e",
   "metadata": {},
   "outputs": [
    {
     "name": "stdout",
     "output_type": "stream",
     "text": [
      "Accuracy score : 0.9355892343872485\n",
      "Confusion matrix : \n",
      " [[3998  166]\n",
      " [ 327 3163]]\n",
      "Classification Report\n",
      "              precision    recall  f1-score   support\n",
      "\n",
      "           0       0.92      0.96      0.94      4164\n",
      "           1       0.95      0.91      0.93      3490\n",
      "\n",
      "    accuracy                           0.94      7654\n",
      "   macro avg       0.94      0.93      0.93      7654\n",
      "weighted avg       0.94      0.94      0.94      7654\n",
      "\n",
      "Precision : 0.950135175728447\n",
      "Recall : 0.9063037249283667\n",
      "F1 Score : 0.9277020090922422\n"
     ]
    }
   ],
   "source": [
    "#Loading the model\n",
    "filename = 'outputs//isot_ml_glove//isot_ml_RF_glove.sav'\n",
    "\n",
    "rf_clf_tuned_g = pickle.load(open(filename, 'rb'))\n",
    "# result = rf_model_loaded.score(X_test_tfidf, y_test)\n",
    "# print(result)\n",
    "\n",
    "\n",
    "pred = rf_clf_tuned_g.predict(glove_test_vectors)\n",
    "print(\"Accuracy score : {}\".format(accuracy_score(y_test, pred)))\n",
    "print(\"Confusion matrix : \\n {}\".format(confusion_matrix(y_test, pred)))\n",
    "print(\"Classification Report\")\n",
    "print(classification_report(y_test, pred))\n",
    "precision = precision_score(y_test, pred)\n",
    "print(\"Precision : {}\".format(precision))\n",
    "recall = recall_score(y_test, pred)\n",
    "print(\"Recall : {}\".format(recall))\n",
    "f1score = f1_score(y_test, pred)\n",
    "print(\"F1 Score : {}\".format(f1score))\n"
   ]
  },
  {
   "cell_type": "markdown",
   "id": "0a90cc6e",
   "metadata": {},
   "source": [
    "**Save the classification report to csv**"
   ]
  },
  {
   "cell_type": "code",
   "execution_count": 20,
   "id": "f8ac2735",
   "metadata": {},
   "outputs": [
    {
     "data": {
      "text/html": [
       "<div>\n",
       "<style scoped>\n",
       "    .dataframe tbody tr th:only-of-type {\n",
       "        vertical-align: middle;\n",
       "    }\n",
       "\n",
       "    .dataframe tbody tr th {\n",
       "        vertical-align: top;\n",
       "    }\n",
       "\n",
       "    .dataframe thead th {\n",
       "        text-align: right;\n",
       "    }\n",
       "</style>\n",
       "<table border=\"1\" class=\"dataframe\">\n",
       "  <thead>\n",
       "    <tr style=\"text-align: right;\">\n",
       "      <th></th>\n",
       "      <th>precision</th>\n",
       "      <th>recall</th>\n",
       "      <th>f1-score</th>\n",
       "      <th>support</th>\n",
       "    </tr>\n",
       "  </thead>\n",
       "  <tbody>\n",
       "    <tr>\n",
       "      <th>0</th>\n",
       "      <td>0.924393</td>\n",
       "      <td>0.960134</td>\n",
       "      <td>0.941925</td>\n",
       "      <td>4164.000000</td>\n",
       "    </tr>\n",
       "    <tr>\n",
       "      <th>1</th>\n",
       "      <td>0.950135</td>\n",
       "      <td>0.906304</td>\n",
       "      <td>0.927702</td>\n",
       "      <td>3490.000000</td>\n",
       "    </tr>\n",
       "    <tr>\n",
       "      <th>accuracy</th>\n",
       "      <td>0.935589</td>\n",
       "      <td>0.935589</td>\n",
       "      <td>0.935589</td>\n",
       "      <td>0.935589</td>\n",
       "    </tr>\n",
       "    <tr>\n",
       "      <th>macro avg</th>\n",
       "      <td>0.937264</td>\n",
       "      <td>0.933219</td>\n",
       "      <td>0.934813</td>\n",
       "      <td>7654.000000</td>\n",
       "    </tr>\n",
       "    <tr>\n",
       "      <th>weighted avg</th>\n",
       "      <td>0.936131</td>\n",
       "      <td>0.935589</td>\n",
       "      <td>0.935440</td>\n",
       "      <td>7654.000000</td>\n",
       "    </tr>\n",
       "  </tbody>\n",
       "</table>\n",
       "</div>"
      ],
      "text/plain": [
       "              precision    recall  f1-score      support\n",
       "0              0.924393  0.960134  0.941925  4164.000000\n",
       "1              0.950135  0.906304  0.927702  3490.000000\n",
       "accuracy       0.935589  0.935589  0.935589     0.935589\n",
       "macro avg      0.937264  0.933219  0.934813  7654.000000\n",
       "weighted avg   0.936131  0.935589  0.935440  7654.000000"
      ]
     },
     "execution_count": 20,
     "metadata": {},
     "output_type": "execute_result"
    }
   ],
   "source": [
    "report=classification_report(y_test, pred, output_dict=True)\n",
    "df = pd.DataFrame(report).transpose()\n",
    "df.to_csv(\"outputs//isot_ml_glove//model_ISOT_RF_GLOVE_clasifctnrpt.csv\")\n",
    "df.head()"
   ]
  },
  {
   "cell_type": "markdown",
   "id": "50dc4314",
   "metadata": {},
   "source": [
    "**Plot confusion matrix using the user defined functions as mentioned above earlier**"
   ]
  },
  {
   "cell_type": "code",
   "execution_count": 22,
   "id": "967bd662",
   "metadata": {},
   "outputs": [
    {
     "data": {
      "image/png": "[encoded data removed]",
      "text/plain": [
       "<Figure size 360x300 with 2 Axes>"
      ]
     },
     "metadata": {
      "needs_background": "light"
     },
     "output_type": "display_data"
    },
    {
     "data": {
      "image/png": "[encoded data removed]",
      "text/plain": [
       "<Figure size 360x300 with 2 Axes>"
      ]
     },
     "metadata": {},
     "output_type": "display_data"
    }
   ],
   "source": [
    "cm=confusion_matrix(y_test, pred)\n",
    "path1=\"outputs//isot_ml_glove//isot_ml_RF_glove_cmtrx.png\"\n",
    "path2=\"outputs//isot_ml_glove//isot_ml_RF_glove_ncmtrx.png\"\n",
    "confusn_mtrx_plot(cm,path1)\n",
    "norm_confusn_mtrx_plot(cm,path2)"
   ]
  },
  {
   "cell_type": "markdown",
   "id": "3595a476",
   "metadata": {},
   "source": [
    "### Support Vector Machine"
   ]
  },
  {
   "cell_type": "markdown",
   "id": "c3ab883b",
   "metadata": {},
   "source": [
    "**Initialise the  model and  fit using train data and save it to a path**"
   ]
  },
  {
   "cell_type": "code",
   "execution_count": 23,
   "id": "18ab4759",
   "metadata": {},
   "outputs": [],
   "source": [
    "svm_clf_g=SVC(random_state=0,probability=True)"
   ]
  },
  {
   "cell_type": "code",
   "execution_count": 24,
   "id": "801ed38c",
   "metadata": {},
   "outputs": [
    {
     "name": "stdout",
     "output_type": "stream",
     "text": [
      "SVM - Completed\n"
     ]
    }
   ],
   "source": [
    "svm_clf_g.fit(glove_train_vectors,y_train)\n",
    "\n",
    "# save the model to disk\n",
    "filename = 'outputs//isot_ml_glove//isot_ml_SVM_glove.sav'\n",
    "pickle.dump(svm_clf_g, open(filename, 'wb'))\n",
    "print('SVM - Completed')"
   ]
  },
  {
   "cell_type": "markdown",
   "id": "bced6f0e",
   "metadata": {},
   "source": [
    "**Load the saved model and predict using test data and measure the accuracy metrics**"
   ]
  },
  {
   "cell_type": "code",
   "execution_count": 25,
   "id": "9a3906fa",
   "metadata": {},
   "outputs": [
    {
     "name": "stdout",
     "output_type": "stream",
     "text": [
      "Accuracy score : 0.9594983015416776\n",
      "Confusion matrix : \n",
      " [[4026  138]\n",
      " [ 172 3318]]\n",
      "Classification Report\n",
      "              precision    recall  f1-score   support\n",
      "\n",
      "           0       0.96      0.97      0.96      4164\n",
      "           1       0.96      0.95      0.96      3490\n",
      "\n",
      "    accuracy                           0.96      7654\n",
      "   macro avg       0.96      0.96      0.96      7654\n",
      "weighted avg       0.96      0.96      0.96      7654\n",
      "\n",
      "Precision : 0.9600694444444444\n",
      "Recall : 0.9507163323782235\n",
      "F1 Score : 0.955369997120645\n"
     ]
    }
   ],
   "source": [
    "#Loading the model\n",
    "filename = 'outputs//isot_ml_glove//isot_ml_SVM_glove.sav'\n",
    "\n",
    "svm_clf_tuned_g = pickle.load(open(filename, 'rb'))\n",
    "# result = rf_model_loaded.score(X_test_tfidf, y_test)\n",
    "# print(result)\n",
    "\n",
    "\n",
    "pred = svm_clf_tuned_g.predict(glove_test_vectors)\n",
    "print(\"Accuracy score : {}\".format(accuracy_score(y_test, pred)))\n",
    "print(\"Confusion matrix : \\n {}\".format(confusion_matrix(y_test, pred)))\n",
    "print(\"Classification Report\")\n",
    "print(classification_report(y_test, pred))\n",
    "precision = precision_score(y_test, pred)\n",
    "print(\"Precision : {}\".format(precision))\n",
    "recall = recall_score(y_test, pred)\n",
    "print(\"Recall : {}\".format(recall))\n",
    "f1score = f1_score(y_test, pred)\n",
    "print(\"F1 Score : {}\".format(f1score))\n"
   ]
  },
  {
   "cell_type": "markdown",
   "id": "e1a71e61",
   "metadata": {},
   "source": [
    "**Save the classification report to csv**"
   ]
  },
  {
   "cell_type": "code",
   "execution_count": 26,
   "id": "126f8e50",
   "metadata": {},
   "outputs": [
    {
     "data": {
      "text/html": [
       "<div>\n",
       "<style scoped>\n",
       "    .dataframe tbody tr th:only-of-type {\n",
       "        vertical-align: middle;\n",
       "    }\n",
       "\n",
       "    .dataframe tbody tr th {\n",
       "        vertical-align: top;\n",
       "    }\n",
       "\n",
       "    .dataframe thead th {\n",
       "        text-align: right;\n",
       "    }\n",
       "</style>\n",
       "<table border=\"1\" class=\"dataframe\">\n",
       "  <thead>\n",
       "    <tr style=\"text-align: right;\">\n",
       "      <th></th>\n",
       "      <th>precision</th>\n",
       "      <th>recall</th>\n",
       "      <th>f1-score</th>\n",
       "      <th>support</th>\n",
       "    </tr>\n",
       "  </thead>\n",
       "  <tbody>\n",
       "    <tr>\n",
       "      <th>0</th>\n",
       "      <td>0.959028</td>\n",
       "      <td>0.966859</td>\n",
       "      <td>0.962928</td>\n",
       "      <td>4164.000000</td>\n",
       "    </tr>\n",
       "    <tr>\n",
       "      <th>1</th>\n",
       "      <td>0.960069</td>\n",
       "      <td>0.950716</td>\n",
       "      <td>0.955370</td>\n",
       "      <td>3490.000000</td>\n",
       "    </tr>\n",
       "    <tr>\n",
       "      <th>accuracy</th>\n",
       "      <td>0.959498</td>\n",
       "      <td>0.959498</td>\n",
       "      <td>0.959498</td>\n",
       "      <td>0.959498</td>\n",
       "    </tr>\n",
       "    <tr>\n",
       "      <th>macro avg</th>\n",
       "      <td>0.959549</td>\n",
       "      <td>0.958788</td>\n",
       "      <td>0.959149</td>\n",
       "      <td>7654.000000</td>\n",
       "    </tr>\n",
       "    <tr>\n",
       "      <th>weighted avg</th>\n",
       "      <td>0.959503</td>\n",
       "      <td>0.959498</td>\n",
       "      <td>0.959482</td>\n",
       "      <td>7654.000000</td>\n",
       "    </tr>\n",
       "  </tbody>\n",
       "</table>\n",
       "</div>"
      ],
      "text/plain": [
       "              precision    recall  f1-score      support\n",
       "0              0.959028  0.966859  0.962928  4164.000000\n",
       "1              0.960069  0.950716  0.955370  3490.000000\n",
       "accuracy       0.959498  0.959498  0.959498     0.959498\n",
       "macro avg      0.959549  0.958788  0.959149  7654.000000\n",
       "weighted avg   0.959503  0.959498  0.959482  7654.000000"
      ]
     },
     "execution_count": 26,
     "metadata": {},
     "output_type": "execute_result"
    }
   ],
   "source": [
    "report=classification_report(y_test, pred, output_dict=True)\n",
    "df = pd.DataFrame(report).transpose()\n",
    "df.to_csv(\"outputs//isot_ml_glove//model_ISOT_SVM_GLOVE_clasifctnrpt.csv\")\n",
    "df.head()"
   ]
  },
  {
   "cell_type": "markdown",
   "id": "ff7c1392",
   "metadata": {},
   "source": [
    "**Plot confusion matrix using the user defined functions as mentioned above earlier**"
   ]
  },
  {
   "cell_type": "code",
   "execution_count": 28,
   "id": "5702acab",
   "metadata": {},
   "outputs": [
    {
     "data": {
      "image/png": "[encoded data removed]",
      "text/plain": [
       "<Figure size 360x300 with 2 Axes>"
      ]
     },
     "metadata": {},
     "output_type": "display_data"
    },
    {
     "data": {
      "image/png": "[encoded data removed]",
      "text/plain": [
       "<Figure size 360x300 with 2 Axes>"
      ]
     },
     "metadata": {},
     "output_type": "display_data"
    }
   ],
   "source": [
    "cm=confusion_matrix(y_test, pred)\n",
    "path1=\"outputs//isot_ml_glove//isot_ml_SVM_glove_cmtrx.png\"\n",
    "path2=\"outputs//isot_ml_glove//isot_ml_SVM_glove_ncmtrx.png\"\n",
    "confusn_mtrx_plot(cm,path1)\n",
    "norm_confusn_mtrx_plot(cm,path2)"
   ]
  },
  {
   "cell_type": "markdown",
   "id": "db24b633",
   "metadata": {},
   "source": [
    "## KNN"
   ]
  },
  {
   "cell_type": "markdown",
   "id": "7b49b2d2",
   "metadata": {},
   "source": [
    "**Initialise the  model and  fit using train data and save it to a path**"
   ]
  },
  {
   "cell_type": "code",
   "execution_count": 29,
   "id": "f9cd940b",
   "metadata": {},
   "outputs": [],
   "source": [
    "#Create KNN Object.\n",
    "knn_clf_g = KNeighborsClassifier()"
   ]
  },
  {
   "cell_type": "code",
   "execution_count": 30,
   "id": "9bbc39b8",
   "metadata": {},
   "outputs": [
    {
     "name": "stdout",
     "output_type": "stream",
     "text": [
      "KNN - Completed\n"
     ]
    }
   ],
   "source": [
    "knn_clf_g.fit(glove_train_vectors,y_train)\n",
    "\n",
    "# save the model to disk\n",
    "filename = 'outputs//isot_ml_glove//isot_ml_KNN_glove.sav'\n",
    "pickle.dump(knn_clf_g, open(filename, 'wb'))\n",
    "print('KNN - Completed')"
   ]
  },
  {
   "cell_type": "markdown",
   "id": "5d47b740",
   "metadata": {},
   "source": [
    "**Load the saved model and predict using test data and measure the accuracy metrics**"
   ]
  },
  {
   "cell_type": "code",
   "execution_count": 31,
   "id": "e428774a",
   "metadata": {},
   "outputs": [
    {
     "name": "stdout",
     "output_type": "stream",
     "text": [
      "Accuracy score : 0.9385941991115756\n",
      "Confusion matrix : \n",
      " [[4030  134]\n",
      " [ 336 3154]]\n",
      "Classification Report\n",
      "              precision    recall  f1-score   support\n",
      "\n",
      "           0       0.92      0.97      0.94      4164\n",
      "           1       0.96      0.90      0.93      3490\n",
      "\n",
      "    accuracy                           0.94      7654\n",
      "   macro avg       0.94      0.94      0.94      7654\n",
      "weighted avg       0.94      0.94      0.94      7654\n",
      "\n",
      "Precision : 0.9592457420924574\n",
      "Recall : 0.9037249283667622\n",
      "F1 Score : 0.9306580112127472\n"
     ]
    }
   ],
   "source": [
    "#Loading the model\n",
    "filename = 'outputs//isot_ml_glove//isot_ml_KNN_glove.sav'\n",
    "\n",
    "knn_clf_tuned_g = pickle.load(open(filename, 'rb'))\n",
    "# result = rf_model_loaded.score(X_test_tfidf, y_test)\n",
    "# print(result)\n",
    "\n",
    "\n",
    "pred = knn_clf_tuned_g.predict(glove_test_vectors)\n",
    "print(\"Accuracy score : {}\".format(accuracy_score(y_test, pred)))\n",
    "print(\"Confusion matrix : \\n {}\".format(confusion_matrix(y_test, pred)))\n",
    "print(\"Classification Report\")\n",
    "print(classification_report(y_test, pred))\n",
    "precision = precision_score(y_test, pred)\n",
    "print(\"Precision : {}\".format(precision))\n",
    "recall = recall_score(y_test, pred)\n",
    "print(\"Recall : {}\".format(recall))\n",
    "f1score = f1_score(y_test, pred)\n",
    "print(\"F1 Score : {}\".format(f1score))\n"
   ]
  },
  {
   "cell_type": "markdown",
   "id": "a6f0d5c0",
   "metadata": {},
   "source": [
    "**Save the classification report to csv**"
   ]
  },
  {
   "cell_type": "code",
   "execution_count": 32,
   "id": "8c831bb2",
   "metadata": {},
   "outputs": [
    {
     "data": {
      "text/html": [
       "<div>\n",
       "<style scoped>\n",
       "    .dataframe tbody tr th:only-of-type {\n",
       "        vertical-align: middle;\n",
       "    }\n",
       "\n",
       "    .dataframe tbody tr th {\n",
       "        vertical-align: top;\n",
       "    }\n",
       "\n",
       "    .dataframe thead th {\n",
       "        text-align: right;\n",
       "    }\n",
       "</style>\n",
       "<table border=\"1\" class=\"dataframe\">\n",
       "  <thead>\n",
       "    <tr style=\"text-align: right;\">\n",
       "      <th></th>\n",
       "      <th>precision</th>\n",
       "      <th>recall</th>\n",
       "      <th>f1-score</th>\n",
       "      <th>support</th>\n",
       "    </tr>\n",
       "  </thead>\n",
       "  <tbody>\n",
       "    <tr>\n",
       "      <th>0</th>\n",
       "      <td>0.923042</td>\n",
       "      <td>0.967819</td>\n",
       "      <td>0.944900</td>\n",
       "      <td>4164.000000</td>\n",
       "    </tr>\n",
       "    <tr>\n",
       "      <th>1</th>\n",
       "      <td>0.959246</td>\n",
       "      <td>0.903725</td>\n",
       "      <td>0.930658</td>\n",
       "      <td>3490.000000</td>\n",
       "    </tr>\n",
       "    <tr>\n",
       "      <th>accuracy</th>\n",
       "      <td>0.938594</td>\n",
       "      <td>0.938594</td>\n",
       "      <td>0.938594</td>\n",
       "      <td>0.938594</td>\n",
       "    </tr>\n",
       "    <tr>\n",
       "      <th>macro avg</th>\n",
       "      <td>0.941144</td>\n",
       "      <td>0.935772</td>\n",
       "      <td>0.937779</td>\n",
       "      <td>7654.000000</td>\n",
       "    </tr>\n",
       "    <tr>\n",
       "      <th>weighted avg</th>\n",
       "      <td>0.939550</td>\n",
       "      <td>0.938594</td>\n",
       "      <td>0.938406</td>\n",
       "      <td>7654.000000</td>\n",
       "    </tr>\n",
       "  </tbody>\n",
       "</table>\n",
       "</div>"
      ],
      "text/plain": [
       "              precision    recall  f1-score      support\n",
       "0              0.923042  0.967819  0.944900  4164.000000\n",
       "1              0.959246  0.903725  0.930658  3490.000000\n",
       "accuracy       0.938594  0.938594  0.938594     0.938594\n",
       "macro avg      0.941144  0.935772  0.937779  7654.000000\n",
       "weighted avg   0.939550  0.938594  0.938406  7654.000000"
      ]
     },
     "execution_count": 32,
     "metadata": {},
     "output_type": "execute_result"
    }
   ],
   "source": [
    "report=classification_report(y_test, pred, output_dict=True)\n",
    "df = pd.DataFrame(report).transpose()\n",
    "df.to_csv(\"outputs//isot_ml_glove//model_ISOT_KNN_GLOVE_clasifctnrpt.csv\")\n",
    "df.head()"
   ]
  },
  {
   "cell_type": "markdown",
   "id": "f5550fda",
   "metadata": {},
   "source": [
    "**Plot confusion matrix using the user defined functions as mentioned above earlier**"
   ]
  },
  {
   "cell_type": "code",
   "execution_count": 34,
   "id": "7c254146",
   "metadata": {},
   "outputs": [
    {
     "data": {
      "image/png": "[encoded data removed]",
      "text/plain": [
       "<Figure size 360x300 with 2 Axes>"
      ]
     },
     "metadata": {},
     "output_type": "display_data"
    },
    {
     "data": {
      "image/png": "[encoded data removed]",
      "text/plain": [
       "<Figure size 360x300 with 2 Axes>"
      ]
     },
     "metadata": {},
     "output_type": "display_data"
    }
   ],
   "source": [
    "cm=confusion_matrix(y_test, pred)\n",
    "path1=\"outputs//isot_ml_glove//isot_ml_KNN_glove_cmtrx.png\"\n",
    "path2=\"outputs//isot_ml_glove//isot_ml_KNN_glove_ncmtrx.png\"\n",
    "confusn_mtrx_plot(cm,path1)\n",
    "norm_confusn_mtrx_plot(cm,path2)"
   ]
  },
  {
   "cell_type": "markdown",
   "id": "23fe63e1",
   "metadata": {},
   "source": [
    "### Xgboost"
   ]
  },
  {
   "cell_type": "markdown",
   "id": "cf52af98",
   "metadata": {},
   "source": [
    "**Initialise the  model and  fit using train data and save it to a path**"
   ]
  },
  {
   "cell_type": "code",
   "execution_count": 35,
   "id": "bf453fc3",
   "metadata": {},
   "outputs": [
    {
     "name": "stdout",
     "output_type": "stream",
     "text": [
      "XGBoost - Completed\n"
     ]
    }
   ],
   "source": [
    "#Create KNN Object.\n",
    "xg_clf_g=XGBClassifier(random_state=0)\n",
    "\n",
    "xg_clf_g.fit(glove_train_vectors,y_train)\n",
    "\n",
    "# save the model to disk\n",
    "filename = 'outputs//isot_ml_glove//isot_ml_XG_glove.sav'\n",
    "pickle.dump(xg_clf_g, open(filename, 'wb'))\n",
    "print('XGBoost - Completed')\n"
   ]
  },
  {
   "cell_type": "markdown",
   "id": "3231db16",
   "metadata": {},
   "source": [
    "**Load the saved model and predict using test data and measure the accuracy metrics**"
   ]
  },
  {
   "cell_type": "code",
   "execution_count": 36,
   "id": "4371b56e",
   "metadata": {},
   "outputs": [
    {
     "name": "stdout",
     "output_type": "stream",
     "text": [
      "Accuracy score : 0.9604128560229945\n",
      "Confusion matrix : \n",
      " [[4040  124]\n",
      " [ 179 3311]]\n",
      "Classification Report\n",
      "              precision    recall  f1-score   support\n",
      "\n",
      "           0       0.96      0.97      0.96      4164\n",
      "           1       0.96      0.95      0.96      3490\n",
      "\n",
      "    accuracy                           0.96      7654\n",
      "   macro avg       0.96      0.96      0.96      7654\n",
      "weighted avg       0.96      0.96      0.96      7654\n",
      "\n",
      "Precision : 0.963901018922853\n",
      "Recall : 0.9487106017191977\n",
      "F1 Score : 0.956245487364621\n"
     ]
    }
   ],
   "source": [
    "#Loading the model\n",
    "filename = 'outputs//isot_ml_glove//isot_ml_XG_glove.sav'\n",
    "\n",
    "xg_clf_tuned_g = pickle.load(open(filename, 'rb'))\n",
    "# result = rf_model_loaded.score(X_test_tfidf, y_test)\n",
    "# print(result)\n",
    "\n",
    "\n",
    "pred = xg_clf_tuned_g.predict(glove_test_vectors)\n",
    "print(\"Accuracy score : {}\".format(accuracy_score(y_test, pred)))\n",
    "print(\"Confusion matrix : \\n {}\".format(confusion_matrix(y_test, pred)))\n",
    "print(\"Classification Report\")\n",
    "print(classification_report(y_test, pred))\n",
    "precision = precision_score(y_test, pred)\n",
    "print(\"Precision : {}\".format(precision))\n",
    "recall = recall_score(y_test, pred)\n",
    "print(\"Recall : {}\".format(recall))\n",
    "f1score = f1_score(y_test, pred)\n",
    "print(\"F1 Score : {}\".format(f1score))\n"
   ]
  },
  {
   "cell_type": "markdown",
   "id": "8f10c20f",
   "metadata": {},
   "source": [
    "**Save the classification report to csv**"
   ]
  },
  {
   "cell_type": "code",
   "execution_count": 37,
   "id": "47929935",
   "metadata": {},
   "outputs": [
    {
     "data": {
      "text/html": [
       "<div>\n",
       "<style scoped>\n",
       "    .dataframe tbody tr th:only-of-type {\n",
       "        vertical-align: middle;\n",
       "    }\n",
       "\n",
       "    .dataframe tbody tr th {\n",
       "        vertical-align: top;\n",
       "    }\n",
       "\n",
       "    .dataframe thead th {\n",
       "        text-align: right;\n",
       "    }\n",
       "</style>\n",
       "<table border=\"1\" class=\"dataframe\">\n",
       "  <thead>\n",
       "    <tr style=\"text-align: right;\">\n",
       "      <th></th>\n",
       "      <th>precision</th>\n",
       "      <th>recall</th>\n",
       "      <th>f1-score</th>\n",
       "      <th>support</th>\n",
       "    </tr>\n",
       "  </thead>\n",
       "  <tbody>\n",
       "    <tr>\n",
       "      <th>0</th>\n",
       "      <td>0.957573</td>\n",
       "      <td>0.970221</td>\n",
       "      <td>0.963855</td>\n",
       "      <td>4164.000000</td>\n",
       "    </tr>\n",
       "    <tr>\n",
       "      <th>1</th>\n",
       "      <td>0.963901</td>\n",
       "      <td>0.948711</td>\n",
       "      <td>0.956245</td>\n",
       "      <td>3490.000000</td>\n",
       "    </tr>\n",
       "    <tr>\n",
       "      <th>accuracy</th>\n",
       "      <td>0.960413</td>\n",
       "      <td>0.960413</td>\n",
       "      <td>0.960413</td>\n",
       "      <td>0.960413</td>\n",
       "    </tr>\n",
       "    <tr>\n",
       "      <th>macro avg</th>\n",
       "      <td>0.960737</td>\n",
       "      <td>0.959466</td>\n",
       "      <td>0.960050</td>\n",
       "      <td>7654.000000</td>\n",
       "    </tr>\n",
       "    <tr>\n",
       "      <th>weighted avg</th>\n",
       "      <td>0.960458</td>\n",
       "      <td>0.960413</td>\n",
       "      <td>0.960386</td>\n",
       "      <td>7654.000000</td>\n",
       "    </tr>\n",
       "  </tbody>\n",
       "</table>\n",
       "</div>"
      ],
      "text/plain": [
       "              precision    recall  f1-score      support\n",
       "0              0.957573  0.970221  0.963855  4164.000000\n",
       "1              0.963901  0.948711  0.956245  3490.000000\n",
       "accuracy       0.960413  0.960413  0.960413     0.960413\n",
       "macro avg      0.960737  0.959466  0.960050  7654.000000\n",
       "weighted avg   0.960458  0.960413  0.960386  7654.000000"
      ]
     },
     "execution_count": 37,
     "metadata": {},
     "output_type": "execute_result"
    }
   ],
   "source": [
    "report=classification_report(y_test, pred, output_dict=True)\n",
    "df = pd.DataFrame(report).transpose()\n",
    "df.to_csv(\"outputs//isot_ml_glove//model_ISOT_XG_GLOVE_clasifctnrpt.csv\")\n",
    "df.head()"
   ]
  },
  {
   "cell_type": "markdown",
   "id": "d88cf687",
   "metadata": {},
   "source": [
    "**Plot confusion matrix using the user defined functions as mentioned above earlier**"
   ]
  },
  {
   "cell_type": "code",
   "execution_count": 39,
   "id": "0d510f7f",
   "metadata": {},
   "outputs": [
    {
     "data": {
      "image/png": "[encoded data removed]",
      "text/plain": [
       "<Figure size 360x300 with 2 Axes>"
      ]
     },
     "metadata": {},
     "output_type": "display_data"
    },
    {
     "data": {
      "image/png": "[encoded data removed]",
      "text/plain": [
       "<Figure size 360x300 with 2 Axes>"
      ]
     },
     "metadata": {},
     "output_type": "display_data"
    }
   ],
   "source": [
    "cm=confusion_matrix(y_test, pred)\n",
    "path1=\"outputs//isot_ml_glove//isot_ml_XG_glove_cmtrx.png\"\n",
    "path2=\"outputs//isot_ml_glove//isot_ml_XG_glove_ncmtrx.png\"\n",
    "confusn_mtrx_plot(cm,path1)\n",
    "norm_confusn_mtrx_plot(cm,path2)"
   ]
  },
  {
   "cell_type": "code",
   "execution_count": null,
   "id": "2bbbd29c",
   "metadata": {},
   "outputs": [],
   "source": []
  },
  {
   "cell_type": "markdown",
   "id": "4697b144",
   "metadata": {},
   "source": [
    "### Naiva Bayes"
   ]
  },
  {
   "cell_type": "markdown",
   "id": "bb8fa128",
   "metadata": {},
   "source": [
    "**Initialise the  model and  fit using train data and save it to a path**"
   ]
  },
  {
   "cell_type": "code",
   "execution_count": 42,
   "id": "9bbbc428",
   "metadata": {},
   "outputs": [
    {
     "name": "stdout",
     "output_type": "stream",
     "text": [
      "Naive Bayes - Completed\n"
     ]
    }
   ],
   "source": [
    "from sklearn.preprocessing import MinMaxScaler\n",
    "from sklearn.naive_bayes import GaussianNB\n",
    "nb_clf_g=GaussianNB()\n",
    "\n",
    "nb_clf_g.fit(glove_train_vectors,y_train) \n",
    "\n",
    "# save the model to disk\n",
    "filename = 'outputs//isot_ml_glove//isot_ml_NB_glove.sav'\n",
    "pickle.dump(nb_clf_g, open(filename, 'wb'))\n",
    "print('Naive Bayes - Completed')\n"
   ]
  },
  {
   "cell_type": "markdown",
   "id": "bb14beef",
   "metadata": {},
   "source": [
    "**Load the saved model and predict using test data and measure the accuracy metrics**"
   ]
  },
  {
   "cell_type": "code",
   "execution_count": 43,
   "id": "34df505e",
   "metadata": {},
   "outputs": [
    {
     "name": "stdout",
     "output_type": "stream",
     "text": [
      "Accuracy score : 0.8800627123072903\n",
      "Confusion matrix : \n",
      " [[3656  508]\n",
      " [ 410 3080]]\n",
      "Classification Report\n",
      "              precision    recall  f1-score   support\n",
      "\n",
      "           0       0.90      0.88      0.89      4164\n",
      "           1       0.86      0.88      0.87      3490\n",
      "\n",
      "    accuracy                           0.88      7654\n",
      "   macro avg       0.88      0.88      0.88      7654\n",
      "weighted avg       0.88      0.88      0.88      7654\n",
      "\n",
      "Precision : 0.8584169453734671\n",
      "Recall : 0.8825214899713467\n",
      "F1 Score : 0.8703023452952812\n"
     ]
    }
   ],
   "source": [
    "#Loading the model\n",
    "filename = 'outputs//isot_ml_glove//isot_ml_NB_glove.sav'\n",
    "\n",
    "nb_clf_tuned_g = pickle.load(open(filename, 'rb'))\n",
    "# result = rf_model_loaded.score(X_test_tfidf, y_test)\n",
    "# print(result)\n",
    "\n",
    "\n",
    "pred = nb_clf_tuned_g.predict(glove_test_vectors)\n",
    "print(\"Accuracy score : {}\".format(accuracy_score(y_test, pred)))\n",
    "print(\"Confusion matrix : \\n {}\".format(confusion_matrix(y_test, pred)))\n",
    "print(\"Classification Report\")\n",
    "print(classification_report(y_test, pred))\n",
    "precision = precision_score(y_test, pred)\n",
    "print(\"Precision : {}\".format(precision))\n",
    "recall = recall_score(y_test, pred)\n",
    "print(\"Recall : {}\".format(recall))\n",
    "f1score = f1_score(y_test, pred)\n",
    "print(\"F1 Score : {}\".format(f1score))\n"
   ]
  },
  {
   "cell_type": "markdown",
   "id": "334ce73b",
   "metadata": {},
   "source": [
    "**Save the classification report to csv**"
   ]
  },
  {
   "cell_type": "code",
   "execution_count": 44,
   "id": "e3541fba",
   "metadata": {},
   "outputs": [
    {
     "data": {
      "text/html": [
       "<div>\n",
       "<style scoped>\n",
       "    .dataframe tbody tr th:only-of-type {\n",
       "        vertical-align: middle;\n",
       "    }\n",
       "\n",
       "    .dataframe tbody tr th {\n",
       "        vertical-align: top;\n",
       "    }\n",
       "\n",
       "    .dataframe thead th {\n",
       "        text-align: right;\n",
       "    }\n",
       "</style>\n",
       "<table border=\"1\" class=\"dataframe\">\n",
       "  <thead>\n",
       "    <tr style=\"text-align: right;\">\n",
       "      <th></th>\n",
       "      <th>precision</th>\n",
       "      <th>recall</th>\n",
       "      <th>f1-score</th>\n",
       "      <th>support</th>\n",
       "    </tr>\n",
       "  </thead>\n",
       "  <tbody>\n",
       "    <tr>\n",
       "      <th>0</th>\n",
       "      <td>0.899164</td>\n",
       "      <td>0.878002</td>\n",
       "      <td>0.888457</td>\n",
       "      <td>4164.000000</td>\n",
       "    </tr>\n",
       "    <tr>\n",
       "      <th>1</th>\n",
       "      <td>0.858417</td>\n",
       "      <td>0.882521</td>\n",
       "      <td>0.870302</td>\n",
       "      <td>3490.000000</td>\n",
       "    </tr>\n",
       "    <tr>\n",
       "      <th>accuracy</th>\n",
       "      <td>0.880063</td>\n",
       "      <td>0.880063</td>\n",
       "      <td>0.880063</td>\n",
       "      <td>0.880063</td>\n",
       "    </tr>\n",
       "    <tr>\n",
       "      <th>macro avg</th>\n",
       "      <td>0.878790</td>\n",
       "      <td>0.880262</td>\n",
       "      <td>0.879380</td>\n",
       "      <td>7654.000000</td>\n",
       "    </tr>\n",
       "    <tr>\n",
       "      <th>weighted avg</th>\n",
       "      <td>0.880584</td>\n",
       "      <td>0.880063</td>\n",
       "      <td>0.880179</td>\n",
       "      <td>7654.000000</td>\n",
       "    </tr>\n",
       "  </tbody>\n",
       "</table>\n",
       "</div>"
      ],
      "text/plain": [
       "              precision    recall  f1-score      support\n",
       "0              0.899164  0.878002  0.888457  4164.000000\n",
       "1              0.858417  0.882521  0.870302  3490.000000\n",
       "accuracy       0.880063  0.880063  0.880063     0.880063\n",
       "macro avg      0.878790  0.880262  0.879380  7654.000000\n",
       "weighted avg   0.880584  0.880063  0.880179  7654.000000"
      ]
     },
     "execution_count": 44,
     "metadata": {},
     "output_type": "execute_result"
    }
   ],
   "source": [
    "report=classification_report(y_test, pred, output_dict=True)\n",
    "df = pd.DataFrame(report).transpose()\n",
    "df.to_csv(\"outputs//isot_ml_glove//model_ISOT_NB_GLOVE_clasifctnrpt.csv\")\n",
    "df.head()"
   ]
  },
  {
   "cell_type": "markdown",
   "id": "cafafde7",
   "metadata": {},
   "source": [
    "**Plot confusion matrix using the user defined functions as mentioned above earlier**"
   ]
  },
  {
   "cell_type": "code",
   "execution_count": 46,
   "id": "2e4ffcce",
   "metadata": {},
   "outputs": [
    {
     "data": {
      "image/png": "[encoded data removed]",
      "text/plain": [
       "<Figure size 360x300 with 2 Axes>"
      ]
     },
     "metadata": {},
     "output_type": "display_data"
    },
    {
     "data": {
      "image/png": "[encoded data removed]",
      "text/plain": [
       "<Figure size 360x300 with 2 Axes>"
      ]
     },
     "metadata": {},
     "output_type": "display_data"
    }
   ],
   "source": [
    "cm=confusion_matrix(y_test, pred)\n",
    "path1=\"outputs//isot_ml_glove//isot_ml_NB_glove_cmtrx.png\"\n",
    "path2=\"outputs//isot_ml_glove//isot_ml_NB_glove_ncmtrx.png\"\n",
    "confusn_mtrx_plot(cm,path1)\n",
    "norm_confusn_mtrx_plot(cm,path2)"
   ]
  },
  {
   "cell_type": "code",
   "execution_count": null,
   "id": "0f7de42c",
   "metadata": {},
   "outputs": [],
   "source": []
  },
  {
   "cell_type": "markdown",
   "id": "07a06350",
   "metadata": {},
   "source": [
    "### Logistic Regression"
   ]
  },
  {
   "cell_type": "markdown",
   "id": "7a2449bb",
   "metadata": {},
   "source": [
    "**Initialise the  model and  fit using train data and save it to a path**"
   ]
  },
  {
   "cell_type": "code",
   "execution_count": 47,
   "id": "9938e179",
   "metadata": {},
   "outputs": [],
   "source": [
    "from sklearn.linear_model import LogisticRegression"
   ]
  },
  {
   "cell_type": "code",
   "execution_count": 48,
   "id": "dd9d95af",
   "metadata": {},
   "outputs": [
    {
     "name": "stdout",
     "output_type": "stream",
     "text": [
      "Logistic - Completed\n"
     ]
    }
   ],
   "source": [
    "logticreg_clf_g=LogisticRegression()\n",
    "\n",
    "logticreg_clf_g.fit(glove_train_vectors,y_train)\n",
    "\n",
    "# save the model to disk\n",
    "filename = 'outputs//isot_ml_glove//isot_ml_LR_glove.sav'\n",
    "pickle.dump(nb_clf_g, open(filename, 'wb'))\n",
    "print('Logistic - Completed')\n"
   ]
  },
  {
   "cell_type": "markdown",
   "id": "d65a7e5d",
   "metadata": {},
   "source": [
    "**Load the saved model and predict using test data and measure the accuracy metrics**"
   ]
  },
  {
   "cell_type": "code",
   "execution_count": 49,
   "id": "93924c56",
   "metadata": {},
   "outputs": [
    {
     "name": "stdout",
     "output_type": "stream",
     "text": [
      "Accuracy score : 0.8800627123072903\n",
      "Confusion matrix : \n",
      " [[3656  508]\n",
      " [ 410 3080]]\n",
      "Classification Report\n",
      "              precision    recall  f1-score   support\n",
      "\n",
      "           0       0.90      0.88      0.89      4164\n",
      "           1       0.86      0.88      0.87      3490\n",
      "\n",
      "    accuracy                           0.88      7654\n",
      "   macro avg       0.88      0.88      0.88      7654\n",
      "weighted avg       0.88      0.88      0.88      7654\n",
      "\n",
      "Precision : 0.8584169453734671\n",
      "Recall : 0.8825214899713467\n",
      "F1 Score : 0.8703023452952812\n"
     ]
    }
   ],
   "source": [
    "#Loading the model\n",
    "filename = 'outputs//isot_ml_glove//isot_ml_LR_glove.sav'\n",
    "\n",
    "lr_clf_tuned_g = pickle.load(open(filename, 'rb'))\n",
    "# result = rf_model_loaded.score(X_test_tfidf, y_test)\n",
    "# print(result)\n",
    "\n",
    "\n",
    "pred = lr_clf_tuned_g.predict(glove_test_vectors)\n",
    "print(\"Accuracy score : {}\".format(accuracy_score(y_test, pred)))\n",
    "print(\"Confusion matrix : \\n {}\".format(confusion_matrix(y_test, pred)))\n",
    "print(\"Classification Report\")\n",
    "print(classification_report(y_test, pred))\n",
    "precision = precision_score(y_test, pred)\n",
    "print(\"Precision : {}\".format(precision))\n",
    "recall = recall_score(y_test, pred)\n",
    "print(\"Recall : {}\".format(recall))\n",
    "f1score = f1_score(y_test, pred)\n",
    "print(\"F1 Score : {}\".format(f1score))\n"
   ]
  },
  {
   "cell_type": "markdown",
   "id": "4b95091b",
   "metadata": {},
   "source": [
    "**Save the classification report to csv**"
   ]
  },
  {
   "cell_type": "code",
   "execution_count": 50,
   "id": "23e47c84",
   "metadata": {},
   "outputs": [
    {
     "data": {
      "text/html": [
       "<div>\n",
       "<style scoped>\n",
       "    .dataframe tbody tr th:only-of-type {\n",
       "        vertical-align: middle;\n",
       "    }\n",
       "\n",
       "    .dataframe tbody tr th {\n",
       "        vertical-align: top;\n",
       "    }\n",
       "\n",
       "    .dataframe thead th {\n",
       "        text-align: right;\n",
       "    }\n",
       "</style>\n",
       "<table border=\"1\" class=\"dataframe\">\n",
       "  <thead>\n",
       "    <tr style=\"text-align: right;\">\n",
       "      <th></th>\n",
       "      <th>precision</th>\n",
       "      <th>recall</th>\n",
       "      <th>f1-score</th>\n",
       "      <th>support</th>\n",
       "    </tr>\n",
       "  </thead>\n",
       "  <tbody>\n",
       "    <tr>\n",
       "      <th>0</th>\n",
       "      <td>0.899164</td>\n",
       "      <td>0.878002</td>\n",
       "      <td>0.888457</td>\n",
       "      <td>4164.000000</td>\n",
       "    </tr>\n",
       "    <tr>\n",
       "      <th>1</th>\n",
       "      <td>0.858417</td>\n",
       "      <td>0.882521</td>\n",
       "      <td>0.870302</td>\n",
       "      <td>3490.000000</td>\n",
       "    </tr>\n",
       "    <tr>\n",
       "      <th>accuracy</th>\n",
       "      <td>0.880063</td>\n",
       "      <td>0.880063</td>\n",
       "      <td>0.880063</td>\n",
       "      <td>0.880063</td>\n",
       "    </tr>\n",
       "    <tr>\n",
       "      <th>macro avg</th>\n",
       "      <td>0.878790</td>\n",
       "      <td>0.880262</td>\n",
       "      <td>0.879380</td>\n",
       "      <td>7654.000000</td>\n",
       "    </tr>\n",
       "    <tr>\n",
       "      <th>weighted avg</th>\n",
       "      <td>0.880584</td>\n",
       "      <td>0.880063</td>\n",
       "      <td>0.880179</td>\n",
       "      <td>7654.000000</td>\n",
       "    </tr>\n",
       "  </tbody>\n",
       "</table>\n",
       "</div>"
      ],
      "text/plain": [
       "              precision    recall  f1-score      support\n",
       "0              0.899164  0.878002  0.888457  4164.000000\n",
       "1              0.858417  0.882521  0.870302  3490.000000\n",
       "accuracy       0.880063  0.880063  0.880063     0.880063\n",
       "macro avg      0.878790  0.880262  0.879380  7654.000000\n",
       "weighted avg   0.880584  0.880063  0.880179  7654.000000"
      ]
     },
     "execution_count": 50,
     "metadata": {},
     "output_type": "execute_result"
    }
   ],
   "source": [
    "report=classification_report(y_test, pred, output_dict=True)\n",
    "df = pd.DataFrame(report).transpose()\n",
    "df.to_csv(\"outputs//isot_ml_glove//model_ISOT_LR_GLOVE_clasifctnrpt.csv\")\n",
    "df.head()"
   ]
  },
  {
   "cell_type": "markdown",
   "id": "64cb8cef",
   "metadata": {},
   "source": [
    "**Plot confusion matrix using the user defined functions as mentioned above earlier**"
   ]
  },
  {
   "cell_type": "code",
   "execution_count": 52,
   "id": "39cf5c0b",
   "metadata": {},
   "outputs": [
    {
     "data": {
      "image/png": "[encoded data removed]",
      "text/plain": [
       "<Figure size 360x300 with 2 Axes>"
      ]
     },
     "metadata": {},
     "output_type": "display_data"
    },
    {
     "data": {
      "image/png": "[encoded data removed]",
      "text/plain": [
       "<Figure size 360x300 with 2 Axes>"
      ]
     },
     "metadata": {},
     "output_type": "display_data"
    }
   ],
   "source": [
    "cm=confusion_matrix(y_test, pred)\n",
    "path1=\"outputs//isot_ml_glove//isot_ml_LR_glove_cmtrx.png\"\n",
    "path2=\"outputs//isot_ml_glove//isot_ml_LR_glove_ncmtrx.png\"\n",
    "confusn_mtrx_plot(cm,path1)\n",
    "norm_confusn_mtrx_plot(cm,path2)"
   ]
  },
  {
   "cell_type": "markdown",
   "id": "03e60ac5",
   "metadata": {},
   "source": [
    "### ROC AUC Curve plot using all the algorithms"
   ]
  },
  {
   "cell_type": "code",
   "execution_count": 54,
   "id": "b680f085",
   "metadata": {},
   "outputs": [
    {
     "data": {
      "image/png": "[encoded data removed]",
      "text/plain": [
       "<Figure size 360x300 with 1 Axes>"
      ]
     },
     "metadata": {},
     "output_type": "display_data"
    }
   ],
   "source": [
    "#set up plotting area\n",
    "fig = plt.figure(figsize=(6, 5), dpi=60)\n",
    "ax = plt.subplot()\n",
    "#fit RF model and plot ROC curve\n",
    "\n",
    "y_pred = rf_clf_tuned_g.predict_proba(glove_test_vectors)[:, 1]\n",
    "fpr, tpr, _ = roc_curve(y_test, y_pred)\n",
    "auc = round(roc_auc_score(y_test, y_pred), 4)\n",
    "plt.plot(fpr,tpr,label=\"Random Forest, AUC=\"+str(auc))\n",
    "\n",
    "#fit Logistic model and plot ROC curve\n",
    "\n",
    "y_pred = lr_clf_tuned_g.predict_proba(glove_test_vectors)[:, 1]\n",
    "fpr, tpr, _ = roc_curve(y_test, y_pred)\n",
    "auc = round(roc_auc_score(y_test, y_pred), 4)\n",
    "plt.plot(fpr,tpr,label=\"Logistic, AUC=\"+str(auc))\n",
    "\n",
    "\n",
    "#fit SVM model and plot ROC curve\n",
    "\n",
    "y_pred = svm_clf_tuned_g.predict_proba(glove_test_vectors)[:, 1]\n",
    "fpr, tpr, _ = roc_curve(y_test, y_pred)\n",
    "auc = round(roc_auc_score(y_test, y_pred), 4)\n",
    "plt.plot(fpr,tpr,label=\"SVM, AUC=\"+str(auc))\n",
    "\n",
    "\n",
    "#fit KNN model and plot ROC curve\n",
    "\n",
    "\n",
    "y_pred = knn_clf_tuned_g.predict_proba(glove_test_vectors)[:, 1]\n",
    "fpr, tpr, _ = roc_curve(y_test, y_pred)\n",
    "auc = round(roc_auc_score(y_test, y_pred), 4)\n",
    "plt.plot(fpr,tpr,label=\"KNN, AUC=\"+str(auc))\n",
    "\n",
    "#fit Naive Bayes model and plot ROC curve\n",
    "\n",
    "y_pred = nb_clf_tuned_g.predict_proba(glove_test_vectors)[:, 1]\n",
    "fpr, tpr, _ = roc_curve(y_test, y_pred)\n",
    "auc = round(roc_auc_score(y_test, y_pred), 4)\n",
    "plt.plot(fpr,tpr,label=\"Naive Bayes, AUC=\"+str(auc))\n",
    "\n",
    "#fit Xgboost model and plot ROC curve\n",
    "\n",
    "y_pred = xg_clf_tuned_g.predict_proba(glove_test_vectors)[:, 1]\n",
    "fpr, tpr, _ = roc_curve(y_test, y_pred)\n",
    "auc = round(roc_auc_score(y_test, y_pred), 4)\n",
    "plt.plot(fpr,tpr,label=\"Xgboost, AUC=\"+str(auc))\n",
    "\n",
    "#add legend\n",
    "plt.legend()\n",
    "fig.savefig(\"outputs//isot_ml_glove//ROC_AUC.png\")"
   ]
  },
  {
   "cell_type": "markdown",
   "id": "72c86d3d",
   "metadata": {},
   "source": [
    "### Consolidating all classifiers accuracy scores"
   ]
  },
  {
   "cell_type": "code",
   "execution_count": 55,
   "id": "4dcb9a32",
   "metadata": {},
   "outputs": [],
   "source": [
    "classifiers = [('Logistic Regression',lr_clf_tuned_g),('Naive Bayes',nb_clf_tuned_g),('Xgboost',xg_clf_tuned_g),\n",
    "              ('KNN',knn_clf_tuned_g),('Random Forest',rf_clf_tuned_g),(\"SVM\",svm_clf_tuned_g)]"
   ]
  },
  {
   "cell_type": "code",
   "execution_count": 56,
   "id": "44c843bd",
   "metadata": {},
   "outputs": [
    {
     "data": {
      "text/html": [
       "<div>\n",
       "<style scoped>\n",
       "    .dataframe tbody tr th:only-of-type {\n",
       "        vertical-align: middle;\n",
       "    }\n",
       "\n",
       "    .dataframe tbody tr th {\n",
       "        vertical-align: top;\n",
       "    }\n",
       "\n",
       "    .dataframe thead th {\n",
       "        text-align: right;\n",
       "    }\n",
       "</style>\n",
       "<table border=\"1\" class=\"dataframe\">\n",
       "  <thead>\n",
       "    <tr style=\"text-align: right;\">\n",
       "      <th></th>\n",
       "      <th>Accuracy</th>\n",
       "      <th>Precision</th>\n",
       "      <th>Recall</th>\n",
       "      <th>F1 Score</th>\n",
       "      <th>roc_auc_score</th>\n",
       "    </tr>\n",
       "  </thead>\n",
       "  <tbody>\n",
       "    <tr>\n",
       "      <th>Xgboost</th>\n",
       "      <td>0.960413</td>\n",
       "      <td>0.96</td>\n",
       "      <td>0.948711</td>\n",
       "      <td>0.96</td>\n",
       "      <td>0.993443</td>\n",
       "    </tr>\n",
       "    <tr>\n",
       "      <th>SVM</th>\n",
       "      <td>0.959498</td>\n",
       "      <td>0.96</td>\n",
       "      <td>0.950716</td>\n",
       "      <td>0.96</td>\n",
       "      <td>0.991805</td>\n",
       "    </tr>\n",
       "    <tr>\n",
       "      <th>KNN</th>\n",
       "      <td>0.938594</td>\n",
       "      <td>0.94</td>\n",
       "      <td>0.903725</td>\n",
       "      <td>0.93</td>\n",
       "      <td>0.976491</td>\n",
       "    </tr>\n",
       "    <tr>\n",
       "      <th>Random Forest</th>\n",
       "      <td>0.935589</td>\n",
       "      <td>0.94</td>\n",
       "      <td>0.906304</td>\n",
       "      <td>0.93</td>\n",
       "      <td>0.982540</td>\n",
       "    </tr>\n",
       "    <tr>\n",
       "      <th>Logistic Regression</th>\n",
       "      <td>0.880063</td>\n",
       "      <td>0.88</td>\n",
       "      <td>0.882521</td>\n",
       "      <td>0.87</td>\n",
       "      <td>0.935605</td>\n",
       "    </tr>\n",
       "    <tr>\n",
       "      <th>Naive Bayes</th>\n",
       "      <td>0.880063</td>\n",
       "      <td>0.88</td>\n",
       "      <td>0.882521</td>\n",
       "      <td>0.87</td>\n",
       "      <td>0.935605</td>\n",
       "    </tr>\n",
       "  </tbody>\n",
       "</table>\n",
       "</div>"
      ],
      "text/plain": [
       "                     Accuracy  Precision    Recall  F1 Score  roc_auc_score\n",
       "Xgboost              0.960413       0.96  0.948711      0.96       0.993443\n",
       "SVM                  0.959498       0.96  0.950716      0.96       0.991805\n",
       "KNN                  0.938594       0.94  0.903725      0.93       0.976491\n",
       "Random Forest        0.935589       0.94  0.906304      0.93       0.982540\n",
       "Logistic Regression  0.880063       0.88  0.882521      0.87       0.935605\n",
       "Naive Bayes          0.880063       0.88  0.882521      0.87       0.935605"
      ]
     },
     "execution_count": 56,
     "metadata": {},
     "output_type": "execute_result"
    }
   ],
   "source": [
    "df_model_scores=model_comparison_table(glove_test_vectors,y_test,classifiers)\n",
    "df_model_scores.head(20).T.sort_values(by='Accuracy', ascending=False)"
   ]
  },
  {
   "cell_type": "code",
   "execution_count": 57,
   "id": "d44dcaaa",
   "metadata": {},
   "outputs": [],
   "source": [
    "df_model_scores.to_csv(\"outputs//isot_ml_glove/comparison_scores.csv\")"
   ]
  },
  {
   "cell_type": "code",
   "execution_count": null,
   "id": "078d4b90",
   "metadata": {},
   "outputs": [],
   "source": []
  },
  {
   "cell_type": "code",
   "execution_count": null,
   "id": "d4d0dcf9",
   "metadata": {},
   "outputs": [],
   "source": []
  }
 ],
 "metadata": {
  "kernelspec": {
   "display_name": "Python 3 (ipykernel)",
   "language": "python",
   "name": "python3"
  },
  "language_info": {
   "codemirror_mode": {
    "name": "ipython",
    "version": 3
   },
   "file_extension": ".py",
   "mimetype": "text/x-python",
   "name": "python",
   "nbconvert_exporter": "python",
   "pygments_lexer": "ipython3",
   "version": "3.7.0"
  }
 },
 "nbformat": 4,
 "nbformat_minor": 5
}
