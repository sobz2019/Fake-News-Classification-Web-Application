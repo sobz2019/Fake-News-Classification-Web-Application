{
 "cells": [
  {
   "cell_type": "markdown",
   "id": "114a4a18",
   "metadata": {},
   "source": [
    "# Overview\n",
    "\n",
    "\n",
    "This notebook describes the different stages to build up different deep learning models trained over the dataset called **ISOT** by using pretrained **Word2Vec** and **Glove** Embeddings, for the automatic fake news detection\n",
    "\n",
    "List of Deep Learning algorithms included \n",
    "- 1D CNN\n",
    "- LSTM\n",
    "- BiLSTM\n",
    "\n"
   ]
  },
  {
   "cell_type": "markdown",
   "id": "38739f9a",
   "metadata": {},
   "source": [
    "## 1. Loading Python libraries"
   ]
  },
  {
   "cell_type": "code",
   "execution_count": 1,
   "id": "5c0833c0",
   "metadata": {
    "collapsed": true
   },
   "outputs": [
    {
     "name": "stderr",
     "output_type": "stream",
     "text": [
      "2022-07-08 21:34:26.066068: I tensorflow/core/util/util.cc:169] oneDNN custom operations are on. You may see slightly different numerical results due to floating-point round-off errors from different computation orders. To turn them off, set the environment variable `TF_ENABLE_ONEDNN_OPTS=0`.\n",
      "2022-07-08 21:34:26.071022: W tensorflow/stream_executor/platform/default/dso_loader.cc:64] Could not load dynamic library 'libcudart.so.11.0'; dlerror: libcudart.so.11.0: cannot open shared object file: No such file or directory; LD_LIBRARY_PATH: /gpfs/software/ada/python/anaconda/2020.11/3.8/lib:/gpfs/software/ada/cuda/10.2.89/lib64:/gpfs/software/ada/cuda/10.2.89/lib/lib64\n",
      "2022-07-08 21:34:26.071037: I tensorflow/stream_executor/cuda/cudart_stub.cc:29] Ignore above cudart dlerror if you do not have a GPU set up on your machine.\n",
      "[nltk_data] Downloading package omw-1.4 to\n",
      "[nltk_data]     /gpfs/home/psc21zcu/nltk_data...\n",
      "[nltk_data]   Package omw-1.4 is already up-to-date!\n",
      "[nltk_data] Downloading package stopwords to\n",
      "[nltk_data]     /gpfs/home/psc21zcu/nltk_data...\n",
      "[nltk_data]   Package stopwords is already up-to-date!\n",
      "[nltk_data] Downloading package punkt to\n",
      "[nltk_data]     /gpfs/home/psc21zcu/nltk_data...\n",
      "[nltk_data]   Package punkt is already up-to-date!\n",
      "[nltk_data] Downloading package averaged_perceptron_tagger to\n",
      "[nltk_data]     /gpfs/home/psc21zcu/nltk_data...\n",
      "[nltk_data]   Package averaged_perceptron_tagger is already up-to-\n",
      "[nltk_data]       date!\n",
      "[nltk_data] Downloading package wordnet to\n",
      "[nltk_data]     /gpfs/home/psc21zcu/nltk_data...\n",
      "[nltk_data]   Package wordnet is already up-to-date!\n"
     ]
    }
   ],
   "source": [
    "import numpy as np\n",
    "import pandas as pd\n",
    "import warnings\n",
    "%matplotlib inline\n",
    "import matplotlib.pyplot as plt\n",
    "import seaborn as sns\n",
    "import glob\n",
    "import json\n",
    "import tensorflow_hub as hub\n",
    "import tensorflow_text\n",
    "import tldextract  \n",
    "import warnings\n",
    "warnings.filterwarnings('ignore')\n",
    "\n",
    "from bs4 import BeautifulSoup\n",
    "from sklearn.model_selection import train_test_split,StratifiedKFold,RandomizedSearchCV\n",
    "from sklearn.metrics import classification_report,confusion_matrix,accuracy_score,roc_curve, roc_auc_score,f1_score,precision_score, recall_score\n",
    "from sklearn.feature_extraction.text import TfidfVectorizer,CountVectorizer\n",
    "from imblearn.over_sampling import SMOTE,ADASYN\n",
    "from sklearn.pipeline import Pipeline\n",
    "from sklearn.ensemble import RandomForestClassifier\n",
    "from sklearn.svm import SVC\n",
    "from sklearn.neighbors import KNeighborsClassifier\n",
    "from sklearn.naive_bayes import GaussianNB,MultinomialNB\n",
    "from xgboost import XGBClassifier\n",
    "from sklearn.linear_model import LogisticRegression\n",
    "import re\n",
    "\n",
    "from collections import Counter\n",
    "import nltk \n",
    "import spacy\n",
    "nltk.download('omw-1.4')\n",
    "nltk.download('stopwords')\n",
    "nltk.download('punkt')\n",
    "nltk.download('averaged_perceptron_tagger')\n",
    "nltk.download('wordnet')\n",
    "\n",
    "from wordcloud import WordCloud, ImageColorGenerator,STOPWORDS\n",
    "import gensim\n",
    "from gensim.parsing.preprocessing import STOPWORDS as gensim_stopwords\n",
    "import copy\n",
    "from nltk.stem import PorterStemmer\n",
    "from nltk.corpus import stopwords,wordnet\n",
    "from nltk.tokenize import word_tokenize\n",
    "from nltk.stem import WordNetLemmatizer,LancasterStemmer\n",
    "from pprint import pprint\n",
    "\n",
    "\n",
    "import tensorflow as tf\n",
    "import bert\n",
    "from tensorflow.keras.models import  Model\n",
    "from tqdm import tqdm\n",
    "import tensorflow_hub as hub\n",
    "from tensorflow.keras.models import Sequential\n",
    "from tensorflow.keras import layers\n",
    "from tensorflow.keras.preprocessing.text import Tokenizer\n",
    "from tensorflow.keras.preprocessing.sequence import pad_sequences\n",
    "from tensorflow.keras.wrappers.scikit_learn import KerasClassifier\n",
    "from tensorflow.keras.layers import Dense, Dropout, Activation,Embedding,Flatten,LSTM,Bidirectional\n",
    "from tensorflow.keras.layers import Reshape,Conv1D, MaxPooling1D, Concatenate,BatchNormalization,GlobalMaxPooling1D\n",
    "from tensorflow.keras.callbacks import ModelCheckpoint,EarlyStopping\n",
    "from keras.backend import clear_session\n",
    "\n",
    "\n",
    "\n",
    "pd.set_option('display.max_rows', 500)\n",
    "pd.set_option('display.max_columns', 500)\n",
    "pd.set_option('display.width', 1000)\n",
    "pd.set_option('display.expand_frame_repr', False)\n",
    "pd.set_option('display.max_colwidth', 200)\n",
    "\n",
    "import warnings\n",
    "warnings.filterwarnings('ignore')"
   ]
  },
  {
   "cell_type": "markdown",
   "id": "9c96b29b",
   "metadata": {},
   "source": [
    "#### Loading the ISOT Full Dataset  -- After combined fake and real news  in the previous notebook   \"ISOT_ML_Classifiers_TfiDF_Tokeniser\""
   ]
  },
  {
   "cell_type": "code",
   "execution_count": 2,
   "id": "aa94991f",
   "metadata": {},
   "outputs": [],
   "source": [
    "isot_full_df = pd.read_csv(\"Updated//ISOT_Combined_FullData.csv\")"
   ]
  },
  {
   "cell_type": "markdown",
   "id": "22bdf22c",
   "metadata": {},
   "source": [
    "***\n",
    "\n",
    "## 2. Text Preprocessing\n"
   ]
  },
  {
   "cell_type": "markdown",
   "id": "b7764bf8",
   "metadata": {},
   "source": [
    "#### Remove the null values"
   ]
  },
  {
   "cell_type": "code",
   "execution_count": 3,
   "id": "063b675d",
   "metadata": {},
   "outputs": [],
   "source": [
    "df = isot_full_df[isot_full_df['fulltext'].notna()]"
   ]
  },
  {
   "cell_type": "markdown",
   "id": "21e83fbc",
   "metadata": {},
   "source": [
    "#### Shuffling the rows"
   ]
  },
  {
   "cell_type": "code",
   "execution_count": 6,
   "id": "afa6fb29",
   "metadata": {},
   "outputs": [],
   "source": [
    "df = df.sample(frac=1).reset_index(drop=True)"
   ]
  },
  {
   "cell_type": "markdown",
   "id": "806be28c",
   "metadata": {},
   "source": [
    "#### Clean data using the built in cleaner function from  gensim library"
   ]
  },
  {
   "cell_type": "code",
   "execution_count": 7,
   "id": "7e0bf0ff",
   "metadata": {},
   "outputs": [],
   "source": [
    "# Clean data using the built in cleaner in gensim\n",
    "df['cleantext'] = df['fulltext'].apply(lambda x: gensim.utils.simple_preprocess(x))"
   ]
  },
  {
   "cell_type": "markdown",
   "id": "8d564fda",
   "metadata": {},
   "source": [
    "***\n",
    "\n",
    "## 3. Model Training and Evaluation\n",
    "\n",
    "### Splitting dataset into Features and Class labels"
   ]
  },
  {
   "cell_type": "code",
   "execution_count": 8,
   "id": "38387feb",
   "metadata": {},
   "outputs": [],
   "source": [
    "X=df['cleantext']\n",
    "y=df['class']"
   ]
  },
  {
   "cell_type": "markdown",
   "id": "fcaa21f5",
   "metadata": {},
   "source": [
    "#### Train and Test Split"
   ]
  },
  {
   "cell_type": "code",
   "execution_count": 9,
   "id": "0ebfe54f",
   "metadata": {},
   "outputs": [],
   "source": [
    "X_train, X_test, y_train, y_test = train_test_split(X, y, test_size=0.2,stratify=y, random_state=0)"
   ]
  },
  {
   "cell_type": "markdown",
   "id": "d1ca19d0",
   "metadata": {},
   "source": [
    "Since we need to pad  the sentences before feed to the model, For this, we need to find the maximum lenght of any document."
   ]
  },
  {
   "cell_type": "code",
   "execution_count": 10,
   "id": "4a2da72b",
   "metadata": {},
   "outputs": [
    {
     "name": "stdout",
     "output_type": "stream",
     "text": [
      "7912\n"
     ]
    }
   ],
   "source": [
    "maxi=-1\n",
    "for i,sent in enumerate(df['cleantext']):\n",
    "    if(len(sent)>maxi):\n",
    "        maxi=len(sent)\n",
    "print(maxi)"
   ]
  },
  {
   "cell_type": "code",
   "execution_count": 11,
   "id": "b25ceca6",
   "metadata": {},
   "outputs": [
    {
     "name": "stdout",
     "output_type": "stream",
     "text": [
      "Maximum Length of the sequence :  7912\n"
     ]
    }
   ],
   "source": [
    "print(\"Maximum Length of the sequence : \",maxi)"
   ]
  },
  {
   "cell_type": "markdown",
   "id": "932e124f",
   "metadata": {},
   "source": [
    "#### Now we intialise Keras Tokeniser and fit on training set"
   ]
  },
  {
   "cell_type": "code",
   "execution_count": 12,
   "id": "8212583c",
   "metadata": {},
   "outputs": [],
   "source": [
    "tokenzr = Tokenizer()"
   ]
  },
  {
   "cell_type": "code",
   "execution_count": 13,
   "id": "867ae5c5",
   "metadata": {},
   "outputs": [],
   "source": [
    "tokenzr.fit_on_texts(X_train)\n",
    "vocab_size = len(tokenzr.word_index) + 1\n"
   ]
  },
  {
   "cell_type": "markdown",
   "id": "21ef2ed5",
   "metadata": {},
   "source": [
    "#### Encode  texts to sequence format for both training set and test set "
   ]
  },
  {
   "cell_type": "code",
   "execution_count": 14,
   "id": "045a9ba6",
   "metadata": {},
   "outputs": [],
   "source": [
    "encd_train = tokenzr.texts_to_sequences(X_train)\n",
    "encd_test = tokenzr.texts_to_sequences(X_test)"
   ]
  },
  {
   "cell_type": "markdown",
   "id": "26a29eba",
   "metadata": {},
   "source": [
    "##### Hyperparameter Configuration Setting for the model training"
   ]
  },
  {
   "cell_type": "code",
   "execution_count": 15,
   "id": "00d24426",
   "metadata": {},
   "outputs": [
    {
     "name": "stdout",
     "output_type": "stream",
     "text": [
      "103042\n"
     ]
    }
   ],
   "source": [
    "print(len(tokenzr.word_index))"
   ]
  },
  {
   "cell_type": "code",
   "execution_count": 16,
   "id": "51aad461",
   "metadata": {},
   "outputs": [],
   "source": [
    "maxi=2000  # max lenght of a review\n",
    "vocab_size = len(tokenzr.word_index) + 1  # total no of words\n",
    "embed_dim=300 # embedding dimension as choosen in word2vec constructor"
   ]
  },
  {
   "cell_type": "markdown",
   "id": "bd17a8b7",
   "metadata": {},
   "source": [
    "**Pad both training and test encoded data to maximum length variable value**"
   ]
  },
  {
   "cell_type": "code",
   "execution_count": 17,
   "id": "f75db92a",
   "metadata": {},
   "outputs": [
    {
     "data": {
      "text/plain": [
       "(30616, 2000)"
      ]
     },
     "execution_count": 17,
     "metadata": {},
     "output_type": "execute_result"
    }
   ],
   "source": [
    "pad_train= pad_sequences(encd_train, maxlen=maxi, padding='post')\n",
    "pad_train.shape   "
   ]
  },
  {
   "cell_type": "code",
   "execution_count": 18,
   "id": "22873047",
   "metadata": {},
   "outputs": [
    {
     "data": {
      "text/plain": [
       "(7654, 2000)"
      ]
     },
     "execution_count": 18,
     "metadata": {},
     "output_type": "execute_result"
    }
   ],
   "source": [
    "pad_test= pad_sequences(encd_test, maxlen=maxi, padding='post')\n",
    "pad_test.shape"
   ]
  },
  {
   "cell_type": "markdown",
   "id": "5233cf66",
   "metadata": {},
   "source": [
    "####  User defined helper functions to plot training and testing accuracy of the trained model\n",
    "\n",
    "This function is using to save the loss and accuracy metrics of the training and test sets from the given input parameter which is a keras history callback object obtained during the model traning"
   ]
  },
  {
   "cell_type": "code",
   "execution_count": 20,
   "id": "96e21a5d",
   "metadata": {},
   "outputs": [],
   "source": [
    "import matplotlib.pyplot as plt\n",
    " \n",
    "def plot_loss_and_acc_from_hist2(hist_df):\n",
    "    print('Training Accuracy :',hist_df.iloc[-1]['accuracy'])\n",
    "    print('Validation Accuracy :',hist_df.iloc[-1]['val_accuracy'])\n",
    "    print('Precision :',hist_df.iloc[-1][\"precision\"])\n",
    "    print('Recall :',hist_df.iloc[-1][\"recall\"])\n",
    "    print('F1 Score :',hist_df.iloc[-1][\"f1score\"])\n",
    "    train_loss = hist_df[\"loss\"]\n",
    "    train_acc = hist_df[\"accuracy\"]\n",
    "    val_loss = hist_df[\"val_loss\"]\n",
    "    val_acc = hist_df[\"val_accuracy\"]\n",
    "    fig = plt.figure(figsize=(12,5))\n",
    "    ax = fig.add_subplot(121)\n",
    "    ax.plot(range(len(train_loss)), train_loss, label=\"Train Loss\");\n",
    "    ax.plot(range(len(val_loss)), val_loss, label=\"Validation Loss\");\n",
    "    plt.xlabel(\"Epochs\"); plt.ylabel(\"Loss\");\n",
    "    plt.title(\"Train Loss vs Validation Loss\");\n",
    "    plt.legend(loc=\"best\");\n",
    "\n",
    "    ax = fig.add_subplot(122)\n",
    "    ax.plot(range(len(train_acc)), train_acc, label=\"Train Accuracy\");\n",
    "    ax.plot(range(len(val_acc)), val_acc, label=\"Validation Accuracy\");\n",
    "    plt.xlabel(\"Epochs\"); plt.ylabel(\"Accuracy\");\n",
    "    plt.title(\"Train Accuracy vs Validation Accuracy\");\n",
    "    plt.legend(loc=\"best\");    \n",
    "\n",
    "    \n"
   ]
  },
  {
   "cell_type": "markdown",
   "id": "5798f238",
   "metadata": {},
   "source": [
    "#### User defined helper functions to create the confusion matrix and normalised confusion matrix \n",
    "\n",
    "The below scripts is using to create the confusion matrix and normalised confusion matrix based on the predictions and actual truth lables"
   ]
  },
  {
   "cell_type": "code",
   "execution_count": 21,
   "id": "0f91b950",
   "metadata": {},
   "outputs": [],
   "source": [
    "# Helper function to plot confusion matrix and normalised confusion matrix plot\n",
    "def confusn_mtrx_plot(cm,path):\n",
    "    from sklearn.metrics import confusion_matrix\n",
    "    # Y_pred_evc = evc_mdl.predict(test_X)\n",
    "    #cm = confusion_matrix(ytrue, y_pred)\n",
    "\n",
    "    fig = plt.figure(figsize=(6, 5), dpi=60)\n",
    "    ax = plt.subplot()\n",
    "    sns.set(font_scale=1.4) # Adjust to fit\n",
    "    sns.heatmap(cm, annot=True, ax=ax, cmap=\"GnBu\", fmt=\"g\");  \n",
    "    #sns.heatmap(cm/np.sum(cm), annot=True, ax=ax[1], cmap=\"GnBu\", fmt=\"g\");  \n",
    "\n",
    "    # Labels, title and ticks\n",
    "    label_font = {'size':'18'}  # Adjust to fit\n",
    "    ax.set_xlabel('Predicted', fontdict=label_font);\n",
    "    ax.set_ylabel('Actuals', fontdict=label_font);\n",
    "\n",
    "    title_font = {'size':'20'}  # Adjust to fit\n",
    "    ax.set_title('Confusion Matrix', fontdict=title_font);\n",
    "\n",
    "    ax.tick_params(axis='both', which='major', labelsize=15)  # Adjust to fit\n",
    "    ax.xaxis.set_ticklabels(['Real', 'Fake']);\n",
    "    ax.yaxis.set_ticklabels(['Real', 'Fake']);\n",
    "    #fig.show()\n",
    "    fig.savefig(path)\n",
    "    \n",
    "def norm_confusn_mtrx_plot(cm,path):\n",
    "    fig = plt.figure(figsize=(6, 5), dpi=60)\n",
    "    ax = plt.subplot()\n",
    "    sns.set(font_scale=1.4) # Adjust to fit\n",
    "    sns.heatmap(cm/np.sum(cm), annot=True, ax=ax, cmap=\"GnBu\",fmt='.2%');  \n",
    "\n",
    "    # Labels, title and ticks\n",
    "    label_font = {'size':'18'}  # Adjust to fit\n",
    "    ax.set_xlabel('Predicted', fontdict=label_font);\n",
    "    ax.set_ylabel('Actuals', fontdict=label_font);\n",
    "\n",
    "    title_font = {'size':'18'}  # Adjust to fit\n",
    "    ax.set_title('Normalised Confusion Matrix', fontdict=title_font);\n",
    "\n",
    "    ax.tick_params(axis='both', which='major', labelsize=15)  # Adjust to fit\n",
    "    ax.xaxis.set_ticklabels(['Real', 'Fake']);\n",
    "    ax.yaxis.set_ticklabels(['Real', 'Fake']);\n",
    "    fig.savefig(path)"
   ]
  },
  {
   "cell_type": "markdown",
   "id": "fc0ec1eb",
   "metadata": {},
   "source": [
    "## Feature Extractions using pretrained Word2Vec model"
   ]
  },
  {
   "cell_type": "markdown",
   "id": "9db30571",
   "metadata": {},
   "source": [
    "##### Load the  pretrained model"
   ]
  },
  {
   "cell_type": "code",
   "execution_count": 22,
   "id": "68804411",
   "metadata": {},
   "outputs": [],
   "source": [
    "!wget -P /root/input/ -c \"https://s3.amazonaws.com/dl4j-distribution/GoogleNews-vectors-negative300.bin.gz\""
   ]
  },
  {
   "cell_type": "markdown",
   "id": "a4754a0b",
   "metadata": {},
   "source": [
    "#### After downloading it, you can load it as follows"
   ]
  },
  {
   "cell_type": "code",
   "execution_count": 23,
   "id": "f1f1f412",
   "metadata": {},
   "outputs": [],
   "source": [
    "path_to_model = 'Embeddings//GoogleNews-vectors-negative300.bin'"
   ]
  },
  {
   "cell_type": "code",
   "execution_count": 24,
   "id": "66824bf5",
   "metadata": {},
   "outputs": [
    {
     "name": "stdout",
     "output_type": "stream",
     "text": [
      "CPU times: user 18.1 s, sys: 1.31 s, total: 19.4 s\n",
      "Wall time: 19.6 s\n",
      "done loading Word2Vec\n"
     ]
    }
   ],
   "source": [
    "from gensim.models.keyedvectors import KeyedVectors\n",
    "%time w2v_model_pretrained = KeyedVectors.load_word2vec_format(path_to_model, binary=True)\n",
    "print('done loading Word2Vec')"
   ]
  },
  {
   "cell_type": "markdown",
   "id": "b39f4c80",
   "metadata": {},
   "source": [
    "#### Then inspect the model by getting the list of index of key values from the pretrained model"
   ]
  },
  {
   "cell_type": "code",
   "execution_count": 26,
   "id": "d2a5976c",
   "metadata": {},
   "outputs": [
    {
     "name": "stdout",
     "output_type": "stream",
     "text": [
      "The total number of words are :  3000000\n"
     ]
    }
   ],
   "source": [
    "# total numberof extracted words.\n",
    "word2vec_vocab=w2v_model_pretrained.index_to_key\n",
    "print(\"The total number of words are : \",len(word2vec_vocab))"
   ]
  },
  {
   "cell_type": "code",
   "execution_count": 27,
   "id": "ae0511bc",
   "metadata": {},
   "outputs": [],
   "source": [
    "word2vec_vocab_lower = [item.lower() for item in word2vec_vocab]"
   ]
  },
  {
   "cell_type": "markdown",
   "id": "e3a4deda",
   "metadata": {},
   "source": [
    "#### Finding out the number of key value pairs of  vocabulary count and save those in a dictionary"
   ]
  },
  {
   "cell_type": "code",
   "execution_count": 28,
   "id": "4fa1076c",
   "metadata": {},
   "outputs": [
    {
     "name": "stdout",
     "output_type": "stream",
     "text": [
      "The no of key-value pairs :  3000000\n"
     ]
    }
   ],
   "source": [
    "word_vec_dict_pre={}\n",
    "for word in word2vec_vocab:\n",
    "    word_vec_dict_pre[word]=w2v_model_pretrained.get_vector(word)\n",
    "print(\"The no of key-value pairs : \",len(word_vec_dict_pre)) # should come equal to vocab size\n",
    "  "
   ]
  },
  {
   "cell_type": "markdown",
   "id": "2d62ca3a",
   "metadata": {},
   "source": [
    "#### Creation of Embedding matrix which is a list of all words and their corresponding embeddings"
   ]
  },
  {
   "cell_type": "code",
   "execution_count": 30,
   "id": "9716c326",
   "metadata": {},
   "outputs": [],
   "source": [
    "# now creating the embedding matrix\n",
    "embedded_matrix_2=np.zeros(shape=(vocab_size,embed_dim))\n",
    "for word,i in tokenzr.word_index.items():\n",
    "    embedded_vec=word_vec_dict_pre.get(word)\n",
    "    if embedded_vec is not None:  # word is in the vocabulary learned by the w2v model\n",
    "        embedded_matrix_2[i]=embedded_vec"
   ]
  },
  {
   "cell_type": "markdown",
   "id": "3e6c96f2",
   "metadata": {},
   "source": [
    "***\n",
    "## Model Training\n",
    "\n",
    "### Using 1D CNN\n",
    "\n",
    "#### Checkpoint and EarlyStopping configuration setting for the model training"
   ]
  },
  {
   "cell_type": "code",
   "execution_count": 31,
   "id": "b2b4ba52",
   "metadata": {},
   "outputs": [],
   "source": [
    "# Model Checkpoint and EarlyStopping\n",
    "filepath = \"outputs//isot_dl_word2vec//model_ISOT_CNN_WORD2VEC_PRETRAINED.h5\" # Location to get the model\n",
    "checkpoint = ModelCheckpoint(filepath, monitor='loss', verbose=1, save_best_only=True, mode='min')\n",
    "es = EarlyStopping(monitor='val_loss', patience=3,mode='min', verbose=1)\n",
    "callbacks_list = [checkpoint,es]"
   ]
  },
  {
   "cell_type": "markdown",
   "id": "3ef379de",
   "metadata": {},
   "source": [
    "#### Build the model"
   ]
  },
  {
   "cell_type": "code",
   "execution_count": 32,
   "id": "2c7b6789",
   "metadata": {},
   "outputs": [
    {
     "name": "stderr",
     "output_type": "stream",
     "text": [
      "2022-07-08 21:35:57.320918: W tensorflow/stream_executor/platform/default/dso_loader.cc:64] Could not load dynamic library 'libcudart.so.11.0'; dlerror: libcudart.so.11.0: cannot open shared object file: No such file or directory; LD_LIBRARY_PATH: /gpfs/software/ada/python/anaconda/2020.11/3.8/lib:/gpfs/software/ada/cuda/10.2.89/lib64:/gpfs/software/ada/cuda/10.2.89/lib/lib64\n",
      "2022-07-08 21:35:57.321318: W tensorflow/stream_executor/platform/default/dso_loader.cc:64] Could not load dynamic library 'libcublas.so.11'; dlerror: libcublas.so.11: cannot open shared object file: No such file or directory; LD_LIBRARY_PATH: /gpfs/software/ada/python/anaconda/2020.11/3.8/lib:/gpfs/software/ada/cuda/10.2.89/lib64:/gpfs/software/ada/cuda/10.2.89/lib/lib64\n",
      "2022-07-08 21:35:57.321625: W tensorflow/stream_executor/platform/default/dso_loader.cc:64] Could not load dynamic library 'libcublasLt.so.11'; dlerror: libcublasLt.so.11: cannot open shared object file: No such file or directory; LD_LIBRARY_PATH: /gpfs/software/ada/python/anaconda/2020.11/3.8/lib:/gpfs/software/ada/cuda/10.2.89/lib64:/gpfs/software/ada/cuda/10.2.89/lib/lib64\n",
      "2022-07-08 21:35:57.392712: W tensorflow/stream_executor/platform/default/dso_loader.cc:64] Could not load dynamic library 'libcusolver.so.11'; dlerror: libcusolver.so.11: cannot open shared object file: No such file or directory; LD_LIBRARY_PATH: /gpfs/software/ada/python/anaconda/2020.11/3.8/lib:/gpfs/software/ada/cuda/10.2.89/lib64:/gpfs/software/ada/cuda/10.2.89/lib/lib64\n",
      "2022-07-08 21:35:57.393046: W tensorflow/stream_executor/platform/default/dso_loader.cc:64] Could not load dynamic library 'libcusparse.so.11'; dlerror: libcusparse.so.11: cannot open shared object file: No such file or directory; LD_LIBRARY_PATH: /gpfs/software/ada/python/anaconda/2020.11/3.8/lib:/gpfs/software/ada/cuda/10.2.89/lib64:/gpfs/software/ada/cuda/10.2.89/lib/lib64\n",
      "2022-07-08 21:35:57.393348: W tensorflow/stream_executor/platform/default/dso_loader.cc:64] Could not load dynamic library 'libcudnn.so.8'; dlerror: libcudnn.so.8: cannot open shared object file: No such file or directory; LD_LIBRARY_PATH: /gpfs/software/ada/python/anaconda/2020.11/3.8/lib:/gpfs/software/ada/cuda/10.2.89/lib64:/gpfs/software/ada/cuda/10.2.89/lib/lib64\n",
      "2022-07-08 21:35:57.393390: W tensorflow/core/common_runtime/gpu/gpu_device.cc:1850] Cannot dlopen some GPU libraries. Please make sure the missing libraries mentioned above are installed properly if you would like to use GPU. Follow the guide at https://www.tensorflow.org/install/gpu for how to download and setup the required libraries for your platform.\n",
      "Skipping registering GPU devices...\n",
      "2022-07-08 21:35:57.395082: I tensorflow/core/platform/cpu_feature_guard.cc:193] This TensorFlow binary is optimized with oneAPI Deep Neural Network Library (oneDNN) to use the following CPU instructions in performance-critical operations:  AVX2 AVX512F AVX512_VNNI FMA\n",
      "To enable them in other operations, rebuild TensorFlow with the appropriate compiler flags.\n"
     ]
    },
    {
     "name": "stdout",
     "output_type": "stream",
     "text": [
      "Model: \"sequential\"\n",
      "_________________________________________________________________\n",
      " Layer (type)                Output Shape              Param #   \n",
      "=================================================================\n",
      " embedding (Embedding)       (None, 2000, 300)         30912900  \n",
      "                                                                 \n",
      " conv1d (Conv1D)             (None, 1998, 128)         115328    \n",
      "                                                                 \n",
      " max_pooling1d (MaxPooling1D  (None, 999, 128)         0         \n",
      " )                                                               \n",
      "                                                                 \n",
      " flatten (Flatten)           (None, 127872)            0         \n",
      "                                                                 \n",
      " dense (Dense)               (None, 128)               16367744  \n",
      "                                                                 \n",
      " dense_1 (Dense)             (None, 1)                 129       \n",
      "                                                                 \n",
      "=================================================================\n",
      "Total params: 47,396,101\n",
      "Trainable params: 47,396,101\n",
      "Non-trainable params: 0\n",
      "_________________________________________________________________\n",
      "None\n"
     ]
    }
   ],
   "source": [
    "clear_session()\n",
    "cnn_model=Sequential()\n",
    "cnn_model.add(Embedding(vocab_size,embed_dim,input_length=maxi))\n",
    "cnn_model.add(Conv1D(filters=128, kernel_size=3, padding='valid', activation='relu'))\n",
    "cnn_model.add(MaxPooling1D())\n",
    "cnn_model.add(Flatten())\n",
    "cnn_model.add(Dense(128, activation='relu'))\n",
    "cnn_model.add(Dense(1, activation='sigmoid'))\n",
    "# compile the model\n",
    "cnn_model.compile(optimizer='adam', loss='binary_crossentropy', metrics=['accuracy'])\n",
    "# summarize the model\n",
    "print(cnn_model.summary())"
   ]
  },
  {
   "cell_type": "markdown",
   "id": "8cb60bbc",
   "metadata": {},
   "source": [
    "#### Model Training"
   ]
  },
  {
   "cell_type": "code",
   "execution_count": 33,
   "id": "b459e5ec",
   "metadata": {},
   "outputs": [
    {
     "name": "stdout",
     "output_type": "stream",
     "text": [
      "Epoch 1/2\n",
      "WARNING:tensorflow:AutoGraph could not transform <function Model.make_train_function.<locals>.train_function at 0x2aca8feebea0> and will run it as-is.\n",
      "Please report this to the TensorFlow team. When filing the bug, set the verbosity to 10 (on Linux, `export AUTOGRAPH_VERBOSITY=10`) and attach the full output.\n",
      "Cause: 'arguments' object has no attribute 'posonlyargs'\n",
      "To silence this warning, decorate the function with @tf.autograph.experimental.do_not_convert\n",
      "WARNING: AutoGraph could not transform <function Model.make_train_function.<locals>.train_function at 0x2aca8feebea0> and will run it as-is.\n",
      "Please report this to the TensorFlow team. When filing the bug, set the verbosity to 10 (on Linux, `export AUTOGRAPH_VERBOSITY=10`) and attach the full output.\n",
      "Cause: 'arguments' object has no attribute 'posonlyargs'\n",
      "To silence this warning, decorate the function with @tf.autograph.experimental.do_not_convert\n",
      "192/192 [==============================] - ETA: 0s - loss: 0.1492 - accuracy: 0.9344WARNING:tensorflow:AutoGraph could not transform <function Model.make_test_function.<locals>.test_function at 0x2acc13eb3840> and will run it as-is.\n",
      "Please report this to the TensorFlow team. When filing the bug, set the verbosity to 10 (on Linux, `export AUTOGRAPH_VERBOSITY=10`) and attach the full output.\n",
      "Cause: 'arguments' object has no attribute 'posonlyargs'\n",
      "To silence this warning, decorate the function with @tf.autograph.experimental.do_not_convert\n",
      "WARNING: AutoGraph could not transform <function Model.make_test_function.<locals>.test_function at 0x2acc13eb3840> and will run it as-is.\n",
      "Please report this to the TensorFlow team. When filing the bug, set the verbosity to 10 (on Linux, `export AUTOGRAPH_VERBOSITY=10`) and attach the full output.\n",
      "Cause: 'arguments' object has no attribute 'posonlyargs'\n",
      "To silence this warning, decorate the function with @tf.autograph.experimental.do_not_convert\n",
      "\n",
      "Epoch 1: loss improved from inf to 0.14918, saving model to outputs//isot_dl_word2vec/model_ISOT_CNN_WORD2VEC_PRETRAINED.h5\n",
      "192/192 [==============================] - 52s 265ms/step - loss: 0.1492 - accuracy: 0.9344 - val_loss: 0.0349 - val_accuracy: 0.9884\n",
      "Epoch 2/2\n",
      "192/192 [==============================] - ETA: 0s - loss: 0.0067 - accuracy: 0.9983\n",
      "Epoch 2: loss improved from 0.14918 to 0.00668, saving model to outputs//isot_dl_word2vec/model_ISOT_CNN_WORD2VEC_PRETRAINED.h5\n",
      "192/192 [==============================] - 51s 264ms/step - loss: 0.0067 - accuracy: 0.9983 - val_loss: 0.0596 - val_accuracy: 0.9811\n"
     ]
    }
   ],
   "source": [
    "history_cnn_word2vec=cnn_model.fit(pad_train,y_train,epochs=2,batch_size=128,validation_split=0.2,shuffle=True, callbacks=callbacks_list) "
   ]
  },
  {
   "cell_type": "markdown",
   "id": "ece94b84",
   "metadata": {},
   "source": [
    "Save the model callback history details to csv "
   ]
  },
  {
   "cell_type": "code",
   "execution_count": null,
   "id": "8d09fd3c",
   "metadata": {},
   "outputs": [],
   "source": [
    "hist_df = pd.DataFrame(history_cnn_word2vec.history) \n",
    "hist_df.to_csv(\"outputs//isot_dl_word2vec//model_ISOT_CNN_WORD2VEC_history.csv\",index=False)\n"
   ]
  },
  {
   "cell_type": "markdown",
   "id": "f4f896da",
   "metadata": {},
   "source": [
    "#### Load the trained model"
   ]
  },
  {
   "cell_type": "code",
   "execution_count": 36,
   "id": "80ddeb19",
   "metadata": {},
   "outputs": [],
   "source": [
    "from tensorflow.keras.models import load_model\n",
    "cnn_model = load_model('outputs//isot_dl_word2vec//model_ISOT_CNN_WORD2VEC_PRETRAINED.h5')"
   ]
  },
  {
   "cell_type": "markdown",
   "id": "abe40fbf",
   "metadata": {},
   "source": [
    "#### Predict the test data and calculate the metrics"
   ]
  },
  {
   "cell_type": "code",
   "execution_count": 37,
   "id": "27ffbbbb",
   "metadata": {},
   "outputs": [
    {
     "name": "stdout",
     "output_type": "stream",
     "text": [
      "WARNING:tensorflow:AutoGraph could not transform <function Model.make_predict_function.<locals>.predict_function at 0x2ace8bf1c268> and will run it as-is.\n",
      "Please report this to the TensorFlow team. When filing the bug, set the verbosity to 10 (on Linux, `export AUTOGRAPH_VERBOSITY=10`) and attach the full output.\n",
      "Cause: 'arguments' object has no attribute 'posonlyargs'\n",
      "To silence this warning, decorate the function with @tf.autograph.experimental.do_not_convert\n",
      "WARNING: AutoGraph could not transform <function Model.make_predict_function.<locals>.predict_function at 0x2ace8bf1c268> and will run it as-is.\n",
      "Please report this to the TensorFlow team. When filing the bug, set the verbosity to 10 (on Linux, `export AUTOGRAPH_VERBOSITY=10`) and attach the full output.\n",
      "Cause: 'arguments' object has no attribute 'posonlyargs'\n",
      "To silence this warning, decorate the function with @tf.autograph.experimental.do_not_convert\n",
      "240/240 [==============================] - 8s 31ms/step\n"
     ]
    }
   ],
   "source": [
    "y_pred=cnn_model.predict(pad_test)\n",
    "# ytrue = y_test.astype(int).tolist()\n",
    "ytrue = y_test.values\n",
    "y_pred2 = np.array((y_pred > 0.5).astype(int)[:,0])\n",
    "precision = precision_score(ytrue, y_pred2)\n",
    "recall = recall_score(ytrue, y_pred2)\n",
    "f1score = f1_score(ytrue, y_pred2)"
   ]
  },
  {
   "cell_type": "code",
   "execution_count": 38,
   "id": "aca50067",
   "metadata": {},
   "outputs": [
    {
     "name": "stdout",
     "output_type": "stream",
     "text": [
      "Accuracy score : 0.9815782597334727\n",
      "precision = 0.9973269973269974\n",
      "recall = 0.9621776504297994\n",
      "f1score = 0.9794370716056584\n",
      "[[4155    9]\n",
      " [ 132 3358]]\n",
      "              precision    recall  f1-score   support\n",
      "\n",
      "           0       0.97      1.00      0.98      4164\n",
      "           1       1.00      0.96      0.98      3490\n",
      "\n",
      "    accuracy                           0.98      7654\n",
      "   macro avg       0.98      0.98      0.98      7654\n",
      "weighted avg       0.98      0.98      0.98      7654\n",
      "\n"
     ]
    }
   ],
   "source": [
    "print(\"Accuracy score : {}\".format(accuracy_score(ytrue, y_pred2)))\n",
    "print('precision =',precision)\n",
    "print('recall =',recall)\n",
    "print('f1score =',f1score)\n",
    "print(confusion_matrix(ytrue, y_pred2))\n",
    "print(classification_report(ytrue, y_pred2))"
   ]
  },
  {
   "cell_type": "markdown",
   "id": "b5d3f931",
   "metadata": {},
   "source": [
    "**Save the classification report to csv**"
   ]
  },
  {
   "cell_type": "code",
   "execution_count": 39,
   "id": "3e526de6",
   "metadata": {},
   "outputs": [
    {
     "data": {
      "text/html": [
       "<div>\n",
       "<style scoped>\n",
       "    .dataframe tbody tr th:only-of-type {\n",
       "        vertical-align: middle;\n",
       "    }\n",
       "\n",
       "    .dataframe tbody tr th {\n",
       "        vertical-align: top;\n",
       "    }\n",
       "\n",
       "    .dataframe thead th {\n",
       "        text-align: right;\n",
       "    }\n",
       "</style>\n",
       "<table border=\"1\" class=\"dataframe\">\n",
       "  <thead>\n",
       "    <tr style=\"text-align: right;\">\n",
       "      <th></th>\n",
       "      <th>precision</th>\n",
       "      <th>recall</th>\n",
       "      <th>f1-score</th>\n",
       "      <th>support</th>\n",
       "    </tr>\n",
       "  </thead>\n",
       "  <tbody>\n",
       "    <tr>\n",
       "      <th>0</th>\n",
       "      <td>0.969209</td>\n",
       "      <td>0.997839</td>\n",
       "      <td>0.983316</td>\n",
       "      <td>4164.000000</td>\n",
       "    </tr>\n",
       "    <tr>\n",
       "      <th>1</th>\n",
       "      <td>0.997327</td>\n",
       "      <td>0.962178</td>\n",
       "      <td>0.979437</td>\n",
       "      <td>3490.000000</td>\n",
       "    </tr>\n",
       "    <tr>\n",
       "      <th>accuracy</th>\n",
       "      <td>0.981578</td>\n",
       "      <td>0.981578</td>\n",
       "      <td>0.981578</td>\n",
       "      <td>0.981578</td>\n",
       "    </tr>\n",
       "    <tr>\n",
       "      <th>macro avg</th>\n",
       "      <td>0.983268</td>\n",
       "      <td>0.980008</td>\n",
       "      <td>0.981376</td>\n",
       "      <td>7654.000000</td>\n",
       "    </tr>\n",
       "    <tr>\n",
       "      <th>weighted avg</th>\n",
       "      <td>0.982030</td>\n",
       "      <td>0.981578</td>\n",
       "      <td>0.981547</td>\n",
       "      <td>7654.000000</td>\n",
       "    </tr>\n",
       "  </tbody>\n",
       "</table>\n",
       "</div>"
      ],
      "text/plain": [
       "              precision    recall  f1-score      support\n",
       "0              0.969209  0.997839  0.983316  4164.000000\n",
       "1              0.997327  0.962178  0.979437  3490.000000\n",
       "accuracy       0.981578  0.981578  0.981578     0.981578\n",
       "macro avg      0.983268  0.980008  0.981376  7654.000000\n",
       "weighted avg   0.982030  0.981578  0.981547  7654.000000"
      ]
     },
     "execution_count": 39,
     "metadata": {},
     "output_type": "execute_result"
    }
   ],
   "source": [
    "report=classification_report(ytrue, y_pred2, output_dict=True)\n",
    "df = pd.DataFrame(report).transpose()\n",
    "df.to_csv(\"outputs//isot_dl_word2vec//model_ISOT_CNN_WORD2VEC_clasifctnrpt.csv\")\n",
    "df.head()"
   ]
  },
  {
   "cell_type": "markdown",
   "id": "eeb493b9",
   "metadata": {},
   "source": [
    "**Plot confusion matrix using the user defined functions created earlier**"
   ]
  },
  {
   "cell_type": "code",
   "execution_count": 41,
   "id": "e326017c",
   "metadata": {},
   "outputs": [
    {
     "data": {
      "image/png": "[encoded data removed]",
      "text/plain": [
       "<Figure size 360x300 with 2 Axes>"
      ]
     },
     "metadata": {
      "needs_background": "light"
     },
     "output_type": "display_data"
    },
    {
     "data": {
      "image/png": "[encoded data removed]",
      "text/plain": [
       "<Figure size 360x300 with 2 Axes>"
      ]
     },
     "metadata": {},
     "output_type": "display_data"
    }
   ],
   "source": [
    "cm=confusion_matrix(ytrue, y_pred2)\n",
    "path1=\"outputs//isot_dl_word2vec//isot_cnn_w2v_cmtrx.png\"\n",
    "path2=\"outputs//isot_dl_word2vec//isot_cnn_w2v_ncmtrx.png\"\n",
    "confusn_mtrx_plot(cm,path1)\n",
    "norm_confusn_mtrx_plot(cm,path2)"
   ]
  },
  {
   "cell_type": "markdown",
   "id": "389efa7e",
   "metadata": {},
   "source": [
    "#### Plot the training and test accuracy scores from the callback history details"
   ]
  },
  {
   "cell_type": "code",
   "execution_count": 35,
   "id": "2338f8e6",
   "metadata": {},
   "outputs": [
    {
     "name": "stdout",
     "output_type": "stream",
     "text": [
      "Training Accuracy : 0.9983260035514832\n",
      "Validation Accuracy : 0.9810581207275392\n",
      "Precision : 0.9973269973269974\n",
      "Recall : 0.9621776504297994\n",
      "F1 Score : 0.9794370716056584\n"
     ]
    },
    {
     "data": {
      "image/png": "[encoded data removed]",
      "text/plain": [
       "<Figure size 864x360 with 2 Axes>"
      ]
     },
     "metadata": {
      "needs_background": "light"
     },
     "output_type": "display_data"
    }
   ],
   "source": [
    "hist_df = pd.read_csv(\"outputs//isot_dl_word2vec//model_ISOT_CNN_WORD2VEC_history.csv\")\n",
    "plot_loss_and_acc_from_hist2(hist_df)\n",
    "# print(\"CNN Completed\")"
   ]
  },
  {
   "cell_type": "markdown",
   "id": "2b3d5484",
   "metadata": {},
   "source": [
    "### Using LSTM\n",
    "\n",
    "#### Checkpoint and EarlyStopping configuration setting for the model training"
   ]
  },
  {
   "cell_type": "code",
   "execution_count": 42,
   "id": "ec4c5015",
   "metadata": {},
   "outputs": [],
   "source": [
    "# Model Checkpoint and EarlyStopping\n",
    "filepath_lstm = \"outputs//isot_dl_word2vec//model_ISOT_LSTM_WORD2VEC_PRETRAINED.h5\" # Location to get the model\n",
    "checkpoint_lstm = ModelCheckpoint(filepath_lstm, monitor='loss', verbose=1, save_best_only=True, mode='min')\n",
    "es_lstm = EarlyStopping(monitor='val_loss', patience=3,mode='min', verbose=1)\n",
    "callbacks_list_lstm = [checkpoint_lstm,es_lstm]"
   ]
  },
  {
   "cell_type": "markdown",
   "id": "de9b512a",
   "metadata": {},
   "source": [
    "#### Build the model "
   ]
  },
  {
   "cell_type": "code",
   "execution_count": 43,
   "id": "4ae2f1f5",
   "metadata": {},
   "outputs": [
    {
     "name": "stdout",
     "output_type": "stream",
     "text": [
      "Model: \"sequential_1\"\n",
      "_________________________________________________________________\n",
      " Layer (type)                Output Shape              Param #   \n",
      "=================================================================\n",
      " embedding_1 (Embedding)     (None, 2000, 300)         30912900  \n",
      "                                                                 \n",
      " lstm (LSTM)                 (None, 2000, 128)         219648    \n",
      "                                                                 \n",
      " global_max_pooling1d (Globa  (None, 128)              0         \n",
      " lMaxPooling1D)                                                  \n",
      "                                                                 \n",
      " dropout (Dropout)           (None, 128)               0         \n",
      "                                                                 \n",
      " dense_2 (Dense)             (None, 64)                8256      \n",
      "                                                                 \n",
      " dense_3 (Dense)             (None, 1)                 65        \n",
      "                                                                 \n",
      "=================================================================\n",
      "Total params: 31,140,869\n",
      "Trainable params: 31,140,869\n",
      "Non-trainable params: 0\n",
      "_________________________________________________________________\n"
     ]
    }
   ],
   "source": [
    "from keras.initializers import Constant\n",
    "lstm_model=Sequential()\n",
    "lstm_model.add(Embedding(input_dim=vocab_size,output_dim=embed_dim,input_length=maxi,\n",
    "                    embeddings_initializer=Constant(embedded_matrix_2),trainable=True))\n",
    "lstm_model.add(LSTM(128,return_sequences=True,dropout=0.2)) # loss stucks at about \n",
    "lstm_model.add(GlobalMaxPooling1D())\n",
    "lstm_model.add(Dropout(0.3))\n",
    "lstm_model.add(Dense(64,activation='relu'))\n",
    "lstm_model.add(Dense(1,activation='sigmoid'))  # sigmod for bin. classification.\n",
    "\n",
    "# compile the model\n",
    "lstm_model.compile(optimizer='adam',loss='binary_crossentropy',metrics=['accuracy'])\n",
    "lstm_model.summary()"
   ]
  },
  {
   "cell_type": "code",
   "execution_count": 44,
   "id": "6711797a",
   "metadata": {},
   "outputs": [],
   "source": [
    "clear_session()"
   ]
  },
  {
   "cell_type": "markdown",
   "id": "ab1585bb",
   "metadata": {},
   "source": [
    "#### Model Training"
   ]
  },
  {
   "cell_type": "code",
   "execution_count": 45,
   "id": "e8e37968",
   "metadata": {},
   "outputs": [
    {
     "name": "stdout",
     "output_type": "stream",
     "text": [
      "Epoch 1/2\n",
      "WARNING:tensorflow:AutoGraph could not transform <function Model.make_train_function.<locals>.train_function at 0x2acc1359c400> and will run it as-is.\n",
      "Please report this to the TensorFlow team. When filing the bug, set the verbosity to 10 (on Linux, `export AUTOGRAPH_VERBOSITY=10`) and attach the full output.\n",
      "Cause: 'arguments' object has no attribute 'posonlyargs'\n",
      "To silence this warning, decorate the function with @tf.autograph.experimental.do_not_convert\n",
      "WARNING: AutoGraph could not transform <function Model.make_train_function.<locals>.train_function at 0x2acc1359c400> and will run it as-is.\n",
      "Please report this to the TensorFlow team. When filing the bug, set the verbosity to 10 (on Linux, `export AUTOGRAPH_VERBOSITY=10`) and attach the full output.\n",
      "Cause: 'arguments' object has no attribute 'posonlyargs'\n",
      "To silence this warning, decorate the function with @tf.autograph.experimental.do_not_convert\n",
      "192/192 [==============================] - ETA: 0s - loss: 0.2672 - accuracy: 0.9038WARNING:tensorflow:AutoGraph could not transform <function Model.make_test_function.<locals>.test_function at 0x2acc13c78ae8> and will run it as-is.\n",
      "Please report this to the TensorFlow team. When filing the bug, set the verbosity to 10 (on Linux, `export AUTOGRAPH_VERBOSITY=10`) and attach the full output.\n",
      "Cause: 'arguments' object has no attribute 'posonlyargs'\n",
      "To silence this warning, decorate the function with @tf.autograph.experimental.do_not_convert\n",
      "WARNING: AutoGraph could not transform <function Model.make_test_function.<locals>.test_function at 0x2acc13c78ae8> and will run it as-is.\n",
      "Please report this to the TensorFlow team. When filing the bug, set the verbosity to 10 (on Linux, `export AUTOGRAPH_VERBOSITY=10`) and attach the full output.\n",
      "Cause: 'arguments' object has no attribute 'posonlyargs'\n",
      "To silence this warning, decorate the function with @tf.autograph.experimental.do_not_convert\n",
      "\n",
      "Epoch 1: loss improved from inf to 0.26720, saving model to outputs//isot_dl_word2vec/model_ISOT_LSTM_WORD2VEC_PRETRAINED.h5\n",
      "192/192 [==============================] - 1137s 6s/step - loss: 0.2672 - accuracy: 0.9038 - val_loss: 0.1035 - val_accuracy: 0.9657\n",
      "Epoch 2/2\n",
      "192/192 [==============================] - ETA: 0s - loss: 0.0530 - accuracy: 0.9823\n",
      "Epoch 2: loss improved from 0.26720 to 0.05300, saving model to outputs//isot_dl_word2vec/model_ISOT_LSTM_WORD2VEC_PRETRAINED.h5\n",
      "192/192 [==============================] - 1129s 6s/step - loss: 0.0530 - accuracy: 0.9823 - val_loss: 0.0356 - val_accuracy: 0.9871\n"
     ]
    }
   ],
   "source": [
    "history_lstm_word2vec=lstm_model.fit(pad_train,y_train,epochs=2,batch_size=128,validation_split=0.2,shuffle=True, callbacks=callbacks_list_lstm) "
   ]
  },
  {
   "cell_type": "markdown",
   "id": "ed50a270",
   "metadata": {},
   "source": [
    "Save the model callback history details to csv "
   ]
  },
  {
   "cell_type": "code",
   "execution_count": null,
   "id": "d29dbac3",
   "metadata": {},
   "outputs": [],
   "source": [
    "hist_df = pd.DataFrame(history_lstm_word2vec.history) \n",
    "hist_df.to_csv(\"outputs//isot_dl_word2vec//model_ISOT_LSTM_WORD2VEC_history.csv\",index=False)"
   ]
  },
  {
   "cell_type": "markdown",
   "id": "ae7d3a88",
   "metadata": {},
   "source": [
    "#### Load the model"
   ]
  },
  {
   "cell_type": "code",
   "execution_count": 50,
   "id": "3bb71bbd",
   "metadata": {},
   "outputs": [],
   "source": [
    "from tensorflow.keras.models import load_model\n",
    "lstm_model = load_model('outputs//isot_dl_word2vec//model_ISOT_LSTM_WORD2VEC_PRETRAINED.h5')"
   ]
  },
  {
   "cell_type": "markdown",
   "id": "ba8a2c92",
   "metadata": {},
   "source": [
    "#### Predict the test data and calculate the metrics"
   ]
  },
  {
   "cell_type": "code",
   "execution_count": 51,
   "id": "3d88ff73",
   "metadata": {},
   "outputs": [
    {
     "name": "stdout",
     "output_type": "stream",
     "text": [
      "WARNING:tensorflow:AutoGraph could not transform <function Model.make_predict_function.<locals>.predict_function at 0x2ad1796f0ea0> and will run it as-is.\n",
      "Please report this to the TensorFlow team. When filing the bug, set the verbosity to 10 (on Linux, `export AUTOGRAPH_VERBOSITY=10`) and attach the full output.\n",
      "Cause: 'arguments' object has no attribute 'posonlyargs'\n",
      "To silence this warning, decorate the function with @tf.autograph.experimental.do_not_convert\n",
      "WARNING: AutoGraph could not transform <function Model.make_predict_function.<locals>.predict_function at 0x2ad1796f0ea0> and will run it as-is.\n",
      "Please report this to the TensorFlow team. When filing the bug, set the verbosity to 10 (on Linux, `export AUTOGRAPH_VERBOSITY=10`) and attach the full output.\n",
      "Cause: 'arguments' object has no attribute 'posonlyargs'\n",
      "To silence this warning, decorate the function with @tf.autograph.experimental.do_not_convert\n",
      "240/240 [==============================] - 196s 817ms/step\n"
     ]
    }
   ],
   "source": [
    "y_pred=lstm_model.predict(pad_test)\n",
    "# ytrue = y_test.astype(int).tolist()\n",
    "ytrue = y_test.values\n",
    "y_pred2 = np.array((y_pred > 0.5).astype(int)[:,0])\n",
    "precision = precision_score(ytrue, y_pred2)\n",
    "recall = recall_score(ytrue, y_pred2)\n",
    "f1score = f1_score(ytrue, y_pred2)"
   ]
  },
  {
   "cell_type": "code",
   "execution_count": 52,
   "id": "22d0cfdf",
   "metadata": {},
   "outputs": [
    {
     "name": "stdout",
     "output_type": "stream",
     "text": [
      "Accuracy score : 0.9881107917428795\n",
      "precision = 0.987661406025825\n",
      "recall = 0.9862464183381089\n",
      "f1score = 0.9869534050179212\n",
      "[[4121   43]\n",
      " [  48 3442]]\n",
      "              precision    recall  f1-score   support\n",
      "\n",
      "           0       0.99      0.99      0.99      4164\n",
      "           1       0.99      0.99      0.99      3490\n",
      "\n",
      "    accuracy                           0.99      7654\n",
      "   macro avg       0.99      0.99      0.99      7654\n",
      "weighted avg       0.99      0.99      0.99      7654\n",
      "\n"
     ]
    }
   ],
   "source": [
    "print(\"Accuracy score : {}\".format(accuracy_score(ytrue, y_pred2)))\n",
    "print('precision =',precision)\n",
    "print('recall =',recall)\n",
    "print('f1score =',f1score)\n",
    "print(confusion_matrix(ytrue, y_pred2))\n",
    "print(classification_report(ytrue, y_pred2))"
   ]
  },
  {
   "cell_type": "markdown",
   "id": "c09a4ee5",
   "metadata": {},
   "source": [
    "**Save the classification report to csv**"
   ]
  },
  {
   "cell_type": "code",
   "execution_count": 53,
   "id": "e409512e",
   "metadata": {},
   "outputs": [
    {
     "data": {
      "text/html": [
       "<div>\n",
       "<style scoped>\n",
       "    .dataframe tbody tr th:only-of-type {\n",
       "        vertical-align: middle;\n",
       "    }\n",
       "\n",
       "    .dataframe tbody tr th {\n",
       "        vertical-align: top;\n",
       "    }\n",
       "\n",
       "    .dataframe thead th {\n",
       "        text-align: right;\n",
       "    }\n",
       "</style>\n",
       "<table border=\"1\" class=\"dataframe\">\n",
       "  <thead>\n",
       "    <tr style=\"text-align: right;\">\n",
       "      <th></th>\n",
       "      <th>precision</th>\n",
       "      <th>recall</th>\n",
       "      <th>f1-score</th>\n",
       "      <th>support</th>\n",
       "    </tr>\n",
       "  </thead>\n",
       "  <tbody>\n",
       "    <tr>\n",
       "      <th>0</th>\n",
       "      <td>0.988486</td>\n",
       "      <td>0.989673</td>\n",
       "      <td>0.989080</td>\n",
       "      <td>4164.000000</td>\n",
       "    </tr>\n",
       "    <tr>\n",
       "      <th>1</th>\n",
       "      <td>0.987661</td>\n",
       "      <td>0.986246</td>\n",
       "      <td>0.986953</td>\n",
       "      <td>3490.000000</td>\n",
       "    </tr>\n",
       "    <tr>\n",
       "      <th>accuracy</th>\n",
       "      <td>0.988111</td>\n",
       "      <td>0.988111</td>\n",
       "      <td>0.988111</td>\n",
       "      <td>0.988111</td>\n",
       "    </tr>\n",
       "    <tr>\n",
       "      <th>macro avg</th>\n",
       "      <td>0.988074</td>\n",
       "      <td>0.987960</td>\n",
       "      <td>0.988016</td>\n",
       "      <td>7654.000000</td>\n",
       "    </tr>\n",
       "    <tr>\n",
       "      <th>weighted avg</th>\n",
       "      <td>0.988110</td>\n",
       "      <td>0.988111</td>\n",
       "      <td>0.988110</td>\n",
       "      <td>7654.000000</td>\n",
       "    </tr>\n",
       "  </tbody>\n",
       "</table>\n",
       "</div>"
      ],
      "text/plain": [
       "              precision    recall  f1-score      support\n",
       "0              0.988486  0.989673  0.989080  4164.000000\n",
       "1              0.987661  0.986246  0.986953  3490.000000\n",
       "accuracy       0.988111  0.988111  0.988111     0.988111\n",
       "macro avg      0.988074  0.987960  0.988016  7654.000000\n",
       "weighted avg   0.988110  0.988111  0.988110  7654.000000"
      ]
     },
     "execution_count": 53,
     "metadata": {},
     "output_type": "execute_result"
    }
   ],
   "source": [
    "report=classification_report(ytrue, y_pred2, output_dict=True)\n",
    "df = pd.DataFrame(report).transpose()\n",
    "df.to_csv(\"outputs//isot_dl_word2vec//model_ISOT_LSTM_WORD2VEC_clasifctnrpt.csv\")\n",
    "df.head()"
   ]
  },
  {
   "cell_type": "markdown",
   "id": "b930ac23",
   "metadata": {},
   "source": [
    "**Plot confusion matrix using the user defined functions created earlier**"
   ]
  },
  {
   "cell_type": "code",
   "execution_count": 55,
   "id": "e3bd2605",
   "metadata": {},
   "outputs": [
    {
     "data": {
      "image/png": "[encoded data removed]",
      "text/plain": [
       "<Figure size 360x300 with 2 Axes>"
      ]
     },
     "metadata": {},
     "output_type": "display_data"
    },
    {
     "data": {
      "image/png": "[encoded data removed]",
      "text/plain": [
       "<Figure size 360x300 with 2 Axes>"
      ]
     },
     "metadata": {},
     "output_type": "display_data"
    }
   ],
   "source": [
    "cm=confusion_matrix(ytrue, y_pred2)\n",
    "path1=\"outputs//isot_dl_word2vec//isot_lstm_w2v_cmtrx.png\"\n",
    "path2=\"outputs//isot_dl_word2vec//isot_lstm_w2v_ncmtrx.png\"\n",
    "confusn_mtrx_plot(cm,path1)\n",
    "norm_confusn_mtrx_plot(cm,path2)"
   ]
  },
  {
   "cell_type": "markdown",
   "id": "83abf161",
   "metadata": {},
   "source": [
    "#### Plot the training and test accuracy scores from the callback history details"
   ]
  },
  {
   "cell_type": "code",
   "execution_count": 49,
   "id": "216a95f9",
   "metadata": {},
   "outputs": [
    {
     "name": "stdout",
     "output_type": "stream",
     "text": [
      "240/240 [==============================] - 192s 801ms/step\n",
      "Training Accuracy : 0.9823207855224609\n",
      "Validation Accuracy : 0.9870999455451965\n",
      "Precision : 0.987661406025825\n",
      "Recall : 0.9862464183381089\n",
      "F1 Score : 0.9869534050179212\n",
      "LSTM Completed\n"
     ]
    },
    {
     "data": {
      "image/png": "[encoded data removed]",
      "text/plain": [
       "<Figure size 864x360 with 2 Axes>"
      ]
     },
     "metadata": {},
     "output_type": "display_data"
    }
   ],
   "source": [
    "plot_loss_and_acc_from_hist2(hist_df)\n",
    "print(\"LSTM Completed\")\n"
   ]
  },
  {
   "cell_type": "markdown",
   "id": "8d40663b",
   "metadata": {},
   "source": [
    "### Using BiLSTM\n",
    "\n",
    "#### Checkpoint and EarlyStopping configuration setting for the model training"
   ]
  },
  {
   "cell_type": "code",
   "execution_count": 57,
   "id": "7d4afb56",
   "metadata": {},
   "outputs": [],
   "source": [
    "# Model Checkpoint and EarlyStopping\n",
    "filepath_bilstm = \"outputs//isot_dl_word2vec//model_ISOT_BiLSTM_WORD2VEC_PRETRAINED.h5\" # Location to get the model\n",
    "checkpoint_bilstm = ModelCheckpoint(filepath_bilstm, monitor='loss', verbose=1, save_best_only=True, mode='min')\n",
    "es_bilstm = EarlyStopping(monitor='val_loss', patience=3,mode='min', verbose=1)\n",
    "callbacks_list_bilstm = [checkpoint_bilstm,es_bilstm]"
   ]
  },
  {
   "cell_type": "markdown",
   "id": "2f859e36",
   "metadata": {},
   "source": [
    "#### Build the model "
   ]
  },
  {
   "cell_type": "code",
   "execution_count": 58,
   "id": "b005f462",
   "metadata": {},
   "outputs": [
    {
     "name": "stdout",
     "output_type": "stream",
     "text": [
      "Model: \"sequential\"\n",
      "_________________________________________________________________\n",
      " Layer (type)                Output Shape              Param #   \n",
      "=================================================================\n",
      " embedding (Embedding)       (None, 2000, 300)         30912900  \n",
      "                                                                 \n",
      " bidirectional (Bidirectiona  (None, 2000, 256)        439296    \n",
      " l)                                                              \n",
      "                                                                 \n",
      " global_max_pooling1d (Globa  (None, 256)              0         \n",
      " lMaxPooling1D)                                                  \n",
      "                                                                 \n",
      " dropout (Dropout)           (None, 256)               0         \n",
      "                                                                 \n",
      " dense (Dense)               (None, 64)                16448     \n",
      "                                                                 \n",
      " dense_1 (Dense)             (None, 1)                 65        \n",
      "                                                                 \n",
      "=================================================================\n",
      "Total params: 31,368,709\n",
      "Trainable params: 31,368,709\n",
      "Non-trainable params: 0\n",
      "_________________________________________________________________\n"
     ]
    }
   ],
   "source": [
    "from keras.initializers import Constant\n",
    "bilstm_model=Sequential()\n",
    "bilstm_model.add(Embedding(input_dim=vocab_size,output_dim=embed_dim,input_length=maxi,\n",
    "                    embeddings_initializer=Constant(embedded_matrix_2),trainable=True))\n",
    "bilstm_model.add(Bidirectional(LSTM(128,return_sequences=True,dropout=0.2))) # loss stucks at about \n",
    "bilstm_model.add(GlobalMaxPooling1D())\n",
    "bilstm_model.add(Dropout(0.3))\n",
    "bilstm_model.add(Dense(64,activation='relu'))\n",
    "bilstm_model.add(Dense(1,activation='sigmoid'))  # sigmod for bin. classification.\n",
    "\n",
    "# compile the model\n",
    "bilstm_model.compile(optimizer='adam',loss='binary_crossentropy',metrics=['accuracy'])\n",
    "bilstm_model.summary()"
   ]
  },
  {
   "cell_type": "markdown",
   "id": "271b0ba5",
   "metadata": {},
   "source": [
    "#### Model Training"
   ]
  },
  {
   "cell_type": "code",
   "execution_count": 59,
   "id": "a3d223f8",
   "metadata": {},
   "outputs": [
    {
     "name": "stdout",
     "output_type": "stream",
     "text": [
      "Epoch 1/2\n",
      "WARNING:tensorflow:AutoGraph could not transform <function Model.make_train_function.<locals>.train_function at 0x2ad179653510> and will run it as-is.\n",
      "Please report this to the TensorFlow team. When filing the bug, set the verbosity to 10 (on Linux, `export AUTOGRAPH_VERBOSITY=10`) and attach the full output.\n",
      "Cause: 'arguments' object has no attribute 'posonlyargs'\n",
      "To silence this warning, decorate the function with @tf.autograph.experimental.do_not_convert\n",
      "WARNING: AutoGraph could not transform <function Model.make_train_function.<locals>.train_function at 0x2ad179653510> and will run it as-is.\n",
      "Please report this to the TensorFlow team. When filing the bug, set the verbosity to 10 (on Linux, `export AUTOGRAPH_VERBOSITY=10`) and attach the full output.\n",
      "Cause: 'arguments' object has no attribute 'posonlyargs'\n",
      "To silence this warning, decorate the function with @tf.autograph.experimental.do_not_convert\n",
      "192/192 [==============================] - ETA: 0s - loss: 0.1369 - accuracy: 0.9441WARNING:tensorflow:AutoGraph could not transform <function Model.make_test_function.<locals>.test_function at 0x2ad163c260d0> and will run it as-is.\n",
      "Please report this to the TensorFlow team. When filing the bug, set the verbosity to 10 (on Linux, `export AUTOGRAPH_VERBOSITY=10`) and attach the full output.\n",
      "Cause: 'arguments' object has no attribute 'posonlyargs'\n",
      "To silence this warning, decorate the function with @tf.autograph.experimental.do_not_convert\n",
      "WARNING: AutoGraph could not transform <function Model.make_test_function.<locals>.test_function at 0x2ad163c260d0> and will run it as-is.\n",
      "Please report this to the TensorFlow team. When filing the bug, set the verbosity to 10 (on Linux, `export AUTOGRAPH_VERBOSITY=10`) and attach the full output.\n",
      "Cause: 'arguments' object has no attribute 'posonlyargs'\n",
      "To silence this warning, decorate the function with @tf.autograph.experimental.do_not_convert\n",
      "\n",
      "Epoch 1: loss improved from inf to 0.13691, saving model to outputs//isot_dl_word2vec/model_ISOT_BiLSTM_WORD2VEC_PRETRAINED.h5\n",
      "192/192 [==============================] - 1071s 6s/step - loss: 0.1369 - accuracy: 0.9441 - val_loss: 0.0557 - val_accuracy: 0.9781\n",
      "Epoch 2/2\n",
      "192/192 [==============================] - ETA: 0s - loss: 0.0185 - accuracy: 0.9934\n",
      "Epoch 2: loss improved from 0.13691 to 0.01850, saving model to outputs//isot_dl_word2vec/model_ISOT_BiLSTM_WORD2VEC_PRETRAINED.h5\n",
      "192/192 [==============================] - 1063s 6s/step - loss: 0.0185 - accuracy: 0.9934 - val_loss: 0.0201 - val_accuracy: 0.9935\n"
     ]
    }
   ],
   "source": [
    "clear_session()\n",
    "history_bilstm_word2vec=bilstm_model.fit(pad_train,y_train,epochs=2,batch_size=128,validation_split=0.2,shuffle=True, callbacks=callbacks_list_bilstm) "
   ]
  },
  {
   "cell_type": "markdown",
   "id": "a56a4c9b",
   "metadata": {},
   "source": [
    "Save the model callback history details to csv "
   ]
  },
  {
   "cell_type": "code",
   "execution_count": null,
   "id": "c2449d53",
   "metadata": {},
   "outputs": [],
   "source": [
    "hist_df = pd.DataFrame(history_bilstm_word2vec.history) \n",
    "hist_df.to_csv(\"outputs//isot_dl_word2vec//model_ISOT_BILSTM_WORD2VEC_history.csv\",index=False)"
   ]
  },
  {
   "cell_type": "markdown",
   "id": "93747745",
   "metadata": {},
   "source": [
    "#### Load the model"
   ]
  },
  {
   "cell_type": "code",
   "execution_count": 61,
   "id": "8bd085fe",
   "metadata": {},
   "outputs": [],
   "source": [
    "from tensorflow.keras.models import load_model\n",
    "bilstm_model = load_model('outputs//isot_dl_word2vec//model_ISOT_BiLSTM_WORD2VEC_PRETRAINED.h5')"
   ]
  },
  {
   "cell_type": "markdown",
   "id": "6ad435cd",
   "metadata": {},
   "source": [
    "#### Predict the test data and calculate the metrics"
   ]
  },
  {
   "cell_type": "code",
   "execution_count": 62,
   "id": "f0a15858",
   "metadata": {},
   "outputs": [
    {
     "name": "stdout",
     "output_type": "stream",
     "text": [
      "WARNING:tensorflow:AutoGraph could not transform <function Model.make_predict_function.<locals>.predict_function at 0x2acdce8b52f0> and will run it as-is.\n",
      "Please report this to the TensorFlow team. When filing the bug, set the verbosity to 10 (on Linux, `export AUTOGRAPH_VERBOSITY=10`) and attach the full output.\n",
      "Cause: 'arguments' object has no attribute 'posonlyargs'\n",
      "To silence this warning, decorate the function with @tf.autograph.experimental.do_not_convert\n",
      "WARNING: AutoGraph could not transform <function Model.make_predict_function.<locals>.predict_function at 0x2acdce8b52f0> and will run it as-is.\n",
      "Please report this to the TensorFlow team. When filing the bug, set the verbosity to 10 (on Linux, `export AUTOGRAPH_VERBOSITY=10`) and attach the full output.\n",
      "Cause: 'arguments' object has no attribute 'posonlyargs'\n",
      "To silence this warning, decorate the function with @tf.autograph.experimental.do_not_convert\n",
      "240/240 [==============================] - 230s 955ms/step\n"
     ]
    }
   ],
   "source": [
    "y_pred=bilstm_model.predict(pad_test)\n",
    "# ytrue = y_test.astype(int).tolist()\n",
    "ytrue = y_test.values\n",
    "y_pred2 = np.array((y_pred > 0.5).astype(int)[:,0])\n",
    "precision = precision_score(ytrue, y_pred2)\n",
    "recall = recall_score(ytrue, y_pred2)\n",
    "f1score = f1_score(ytrue, y_pred2)"
   ]
  },
  {
   "cell_type": "code",
   "execution_count": 63,
   "id": "a2ffe3bc",
   "metadata": {},
   "outputs": [
    {
     "name": "stdout",
     "output_type": "stream",
     "text": [
      "Accuracy score : 0.9930755160700288\n",
      "precision = 0.9928305133352452\n",
      "recall = 0.9919770773638968\n",
      "f1score = 0.9924036118675649\n",
      "[[4139   25]\n",
      " [  28 3462]]\n",
      "              precision    recall  f1-score   support\n",
      "\n",
      "           0       0.99      0.99      0.99      4164\n",
      "           1       0.99      0.99      0.99      3490\n",
      "\n",
      "    accuracy                           0.99      7654\n",
      "   macro avg       0.99      0.99      0.99      7654\n",
      "weighted avg       0.99      0.99      0.99      7654\n",
      "\n"
     ]
    }
   ],
   "source": [
    "print(\"Accuracy score : {}\".format(accuracy_score(ytrue, y_pred2)))\n",
    "print('precision =',precision)\n",
    "print('recall =',recall)\n",
    "print('f1score =',f1score)\n",
    "print(confusion_matrix(ytrue, y_pred2))\n",
    "print(classification_report(ytrue, y_pred2))"
   ]
  },
  {
   "cell_type": "markdown",
   "id": "e13e18bb",
   "metadata": {},
   "source": [
    "**Save the classification report to csv**"
   ]
  },
  {
   "cell_type": "code",
   "execution_count": 64,
   "id": "9e296f72",
   "metadata": {},
   "outputs": [
    {
     "data": {
      "text/html": [
       "<div>\n",
       "<style scoped>\n",
       "    .dataframe tbody tr th:only-of-type {\n",
       "        vertical-align: middle;\n",
       "    }\n",
       "\n",
       "    .dataframe tbody tr th {\n",
       "        vertical-align: top;\n",
       "    }\n",
       "\n",
       "    .dataframe thead th {\n",
       "        text-align: right;\n",
       "    }\n",
       "</style>\n",
       "<table border=\"1\" class=\"dataframe\">\n",
       "  <thead>\n",
       "    <tr style=\"text-align: right;\">\n",
       "      <th></th>\n",
       "      <th>precision</th>\n",
       "      <th>recall</th>\n",
       "      <th>f1-score</th>\n",
       "      <th>support</th>\n",
       "    </tr>\n",
       "  </thead>\n",
       "  <tbody>\n",
       "    <tr>\n",
       "      <th>0</th>\n",
       "      <td>0.993281</td>\n",
       "      <td>0.993996</td>\n",
       "      <td>0.993638</td>\n",
       "      <td>4164.000000</td>\n",
       "    </tr>\n",
       "    <tr>\n",
       "      <th>1</th>\n",
       "      <td>0.992831</td>\n",
       "      <td>0.991977</td>\n",
       "      <td>0.992404</td>\n",
       "      <td>3490.000000</td>\n",
       "    </tr>\n",
       "    <tr>\n",
       "      <th>accuracy</th>\n",
       "      <td>0.993076</td>\n",
       "      <td>0.993076</td>\n",
       "      <td>0.993076</td>\n",
       "      <td>0.993076</td>\n",
       "    </tr>\n",
       "    <tr>\n",
       "      <th>macro avg</th>\n",
       "      <td>0.993056</td>\n",
       "      <td>0.992987</td>\n",
       "      <td>0.993021</td>\n",
       "      <td>7654.000000</td>\n",
       "    </tr>\n",
       "    <tr>\n",
       "      <th>weighted avg</th>\n",
       "      <td>0.993075</td>\n",
       "      <td>0.993076</td>\n",
       "      <td>0.993075</td>\n",
       "      <td>7654.000000</td>\n",
       "    </tr>\n",
       "  </tbody>\n",
       "</table>\n",
       "</div>"
      ],
      "text/plain": [
       "              precision    recall  f1-score      support\n",
       "0              0.993281  0.993996  0.993638  4164.000000\n",
       "1              0.992831  0.991977  0.992404  3490.000000\n",
       "accuracy       0.993076  0.993076  0.993076     0.993076\n",
       "macro avg      0.993056  0.992987  0.993021  7654.000000\n",
       "weighted avg   0.993075  0.993076  0.993075  7654.000000"
      ]
     },
     "execution_count": 64,
     "metadata": {},
     "output_type": "execute_result"
    }
   ],
   "source": [
    "report=classification_report(ytrue, y_pred2, output_dict=True)\n",
    "df = pd.DataFrame(report).transpose()\n",
    "df.to_csv(\"outputs//isot_dl_word2vec//model_ISOT_BILSTM_WORD2VEC_clasifctnrpt.csv\")\n",
    "df.head()"
   ]
  },
  {
   "cell_type": "markdown",
   "id": "a66fb687",
   "metadata": {},
   "source": [
    "**Plot confusion matrix using the user defined functions created earlier**"
   ]
  },
  {
   "cell_type": "code",
   "execution_count": 66,
   "id": "d965beab",
   "metadata": {},
   "outputs": [
    {
     "data": {
      "image/png": "[encoded data removed]",
      "text/plain": [
       "<Figure size 360x300 with 2 Axes>"
      ]
     },
     "metadata": {},
     "output_type": "display_data"
    },
    {
     "data": {
      "image/png": "[encoded data removed]",
      "text/plain": [
       "<Figure size 360x300 with 2 Axes>"
      ]
     },
     "metadata": {},
     "output_type": "display_data"
    }
   ],
   "source": [
    "cm=confusion_matrix(ytrue, y_pred2)\n",
    "path1=\"outputs//isot_dl_word2vec//isot_bilstm_w2v_cmtrx.png\"\n",
    "path2=\"outputs//isot_dl_word2vec//isot_bilstm_w2v_ncmtrx.png\"\n",
    "confusn_mtrx_plot(cm,path1)\n",
    "norm_confusn_mtrx_plot(cm,path2)"
   ]
  },
  {
   "cell_type": "markdown",
   "id": "bdb9dfe4",
   "metadata": {},
   "source": [
    "#### Plot the training and test accuracy scores from the callback history details"
   ]
  },
  {
   "cell_type": "code",
   "execution_count": 60,
   "id": "a2ca8d90",
   "metadata": {},
   "outputs": [
    {
     "name": "stdout",
     "output_type": "stream",
     "text": [
      "WARNING:tensorflow:AutoGraph could not transform <function Model.make_predict_function.<locals>.predict_function at 0x2acc12c3af28> and will run it as-is.\n",
      "Please report this to the TensorFlow team. When filing the bug, set the verbosity to 10 (on Linux, `export AUTOGRAPH_VERBOSITY=10`) and attach the full output.\n",
      "Cause: 'arguments' object has no attribute 'posonlyargs'\n",
      "To silence this warning, decorate the function with @tf.autograph.experimental.do_not_convert\n",
      "WARNING: AutoGraph could not transform <function Model.make_predict_function.<locals>.predict_function at 0x2acc12c3af28> and will run it as-is.\n",
      "Please report this to the TensorFlow team. When filing the bug, set the verbosity to 10 (on Linux, `export AUTOGRAPH_VERBOSITY=10`) and attach the full output.\n",
      "Cause: 'arguments' object has no attribute 'posonlyargs'\n",
      "To silence this warning, decorate the function with @tf.autograph.experimental.do_not_convert\n",
      "240/240 [==============================] - 232s 963ms/step\n",
      "Training Accuracy : 0.9934264421463013\n",
      "Validation Accuracy : 0.9934683442115784\n",
      "Precision : 0.9928305133352452\n",
      "Recall : 0.9919770773638968\n",
      "F1 Score : 0.9924036118675649\n"
     ]
    },
    {
     "data": {
      "image/png": "[encoded data removed]",
      "text/plain": [
       "<Figure size 864x360 with 2 Axes>"
      ]
     },
     "metadata": {},
     "output_type": "display_data"
    }
   ],
   "source": [
    "plot_loss_and_acc_from_hist2(hist_df)\n",
    "#print(\"BILSTM Completed\")\n"
   ]
  },
  {
   "cell_type": "code",
   "execution_count": null,
   "id": "24fa12fb",
   "metadata": {},
   "outputs": [],
   "source": []
  },
  {
   "cell_type": "markdown",
   "id": "3374dc90",
   "metadata": {},
   "source": [
    "## Feature Extraction Pretrained Glove"
   ]
  },
  {
   "cell_type": "markdown",
   "id": "c5deb7ab",
   "metadata": {},
   "source": [
    "##### Download the pretrained zip file"
   ]
  },
  {
   "cell_type": "code",
   "execution_count": null,
   "id": "1310ed8e",
   "metadata": {},
   "outputs": [],
   "source": [
    "!wget http://nlp.stanford.edu/data/glove.6B.zip"
   ]
  },
  {
   "cell_type": "markdown",
   "id": "5c9bad31",
   "metadata": {},
   "source": [
    "#### Load the downloaded the 300 dimension Glove pretrained model \"glove.6B.300d.txt\" in a path and convert to word2vec format\","
   ]
  },
  {
   "cell_type": "code",
   "execution_count": 67,
   "id": "07538213",
   "metadata": {},
   "outputs": [],
   "source": [
    "from gensim.models import KeyedVectors\n",
    "from gensim.scripts.glove2word2vec import glove2word2vec"
   ]
  },
  {
   "cell_type": "code",
   "execution_count": 68,
   "id": "fb861934",
   "metadata": {},
   "outputs": [],
   "source": [
    "glove_path = 'Embeddings//glove.6B.300d.txt'"
   ]
  },
  {
   "cell_type": "code",
   "execution_count": 69,
   "id": "2c37c3cf",
   "metadata": {},
   "outputs": [],
   "source": [
    "import os\n",
    "glove_embeddings_index = {}\n",
    "f = open(os.path.join(glove_path), encoding=\"utf8\")"
   ]
  },
  {
   "cell_type": "markdown",
   "id": "e6349dd1",
   "metadata": {},
   "source": [
    "#### Finding out the number of key value pairs of  vocabulary count and save those in a dictionary"
   ]
  },
  {
   "cell_type": "code",
   "execution_count": 70,
   "id": "1e80eaac",
   "metadata": {},
   "outputs": [],
   "source": [
    "for line in f:\n",
    "    values = line.split()\n",
    "    #print(values[1:])\n",
    "    word = values[0]\n",
    "    coefs = np.asarray(values[1:], dtype='float32')\n",
    "    glove_embeddings_index[word] = coefs\n",
    "f.close()"
   ]
  },
  {
   "cell_type": "code",
   "execution_count": 71,
   "id": "8bb3d6d2",
   "metadata": {},
   "outputs": [
    {
     "name": "stdout",
     "output_type": "stream",
     "text": [
      "Total 400000 word vectors in Glove.\n"
     ]
    }
   ],
   "source": [
    "print('Total %s word vectors in Glove.' % len(glove_embeddings_index))\n"
   ]
  },
  {
   "cell_type": "markdown",
   "id": "2d3b7844",
   "metadata": {},
   "source": [
    "#### Creation of Embedding matrix which is a list of all words and their corresponding embeddings"
   ]
  },
  {
   "cell_type": "code",
   "execution_count": 72,
   "id": "1abaea97",
   "metadata": {},
   "outputs": [],
   "source": [
    "embedding_gmatrix = np.random.random((len(tokenzr.word_index) + 1, embed_dim))\n",
    "for word, i in tokenzr.word_index.items():\n",
    "    embedding_gvector = glove_embeddings_index.get(word)\n",
    "    if embedding_gvector is not None:\n",
    "        # words not found in embedding index will be all-zeros.\n",
    "        embedding_gmatrix[i] = embedding_gvector"
   ]
  },
  {
   "cell_type": "markdown",
   "id": "3124cc97",
   "metadata": {},
   "source": [
    "***"
   ]
  },
  {
   "cell_type": "markdown",
   "id": "331095ff",
   "metadata": {},
   "source": [
    "### 1D CNN\n",
    "\n",
    "#### Checkpoint and EarlyStopping configuration setting for the model training"
   ]
  },
  {
   "cell_type": "code",
   "execution_count": 73,
   "id": "01adcdf5",
   "metadata": {},
   "outputs": [],
   "source": [
    "filepath = \"outputs//isot_dl_glove//model_ISOT_CNN_GLOVE_V1.h5\" # Location to get the model\n",
    "checkpoint = ModelCheckpoint(filepath, monitor='loss', verbose=1, save_best_only=True, mode='min')\n",
    "es = EarlyStopping(monitor='val_loss', patience=3,mode='min', verbose=1)\n",
    "callbacks_list = [checkpoint,es]"
   ]
  },
  {
   "cell_type": "markdown",
   "id": "e068caa2",
   "metadata": {},
   "source": [
    "#### Build the model"
   ]
  },
  {
   "cell_type": "code",
   "execution_count": 74,
   "id": "ded81efd",
   "metadata": {},
   "outputs": [
    {
     "name": "stdout",
     "output_type": "stream",
     "text": [
      "Model: \"sequential\"\n",
      "_________________________________________________________________\n",
      " Layer (type)                Output Shape              Param #   \n",
      "=================================================================\n",
      " embedding (Embedding)       (None, 2000, 300)         30912900  \n",
      "                                                                 \n",
      " conv1d (Conv1D)             (None, 1998, 128)         115328    \n",
      "                                                                 \n",
      " max_pooling1d (MaxPooling1D  (None, 999, 128)         0         \n",
      " )                                                               \n",
      "                                                                 \n",
      " flatten (Flatten)           (None, 127872)            0         \n",
      "                                                                 \n",
      " dense (Dense)               (None, 128)               16367744  \n",
      "                                                                 \n",
      " dense_1 (Dense)             (None, 1)                 129       \n",
      "                                                                 \n",
      "=================================================================\n",
      "Total params: 47,396,101\n",
      "Trainable params: 47,396,101\n",
      "Non-trainable params: 0\n",
      "_________________________________________________________________\n",
      "None\n"
     ]
    }
   ],
   "source": [
    "warnings.filterwarnings('ignore')\n",
    "cnn_model_g=Sequential()\n",
    "cnn_model_g.add(Embedding(vocab_size,embed_dim,input_length=maxi))\n",
    "cnn_model_g.add(Conv1D(filters=128, kernel_size=3, padding='valid', activation='relu'))\n",
    "cnn_model_g.add(MaxPooling1D())\n",
    "cnn_model_g.add(Flatten())\n",
    "cnn_model_g.add(Dense(128, activation='relu'))\n",
    "cnn_model_g.add(Dense(1, activation='sigmoid'))\n",
    "# compile the model\n",
    "cnn_model_g.compile(optimizer='adam', loss='binary_crossentropy', metrics=['accuracy'])\n",
    "# summarize the model\n",
    "print(cnn_model_g.summary())"
   ]
  },
  {
   "cell_type": "markdown",
   "id": "c6ed8c90",
   "metadata": {},
   "source": [
    "#### Train the model"
   ]
  },
  {
   "cell_type": "code",
   "execution_count": 75,
   "id": "315d5b41",
   "metadata": {},
   "outputs": [
    {
     "name": "stdout",
     "output_type": "stream",
     "text": [
      "Epoch 1/2\n",
      "WARNING:tensorflow:AutoGraph could not transform <function Model.make_train_function.<locals>.train_function at 0x2acc1352c840> and will run it as-is.\n",
      "Please report this to the TensorFlow team. When filing the bug, set the verbosity to 10 (on Linux, `export AUTOGRAPH_VERBOSITY=10`) and attach the full output.\n",
      "Cause: 'arguments' object has no attribute 'posonlyargs'\n",
      "To silence this warning, decorate the function with @tf.autograph.experimental.do_not_convert\n",
      "WARNING: AutoGraph could not transform <function Model.make_train_function.<locals>.train_function at 0x2acc1352c840> and will run it as-is.\n",
      "Please report this to the TensorFlow team. When filing the bug, set the verbosity to 10 (on Linux, `export AUTOGRAPH_VERBOSITY=10`) and attach the full output.\n",
      "Cause: 'arguments' object has no attribute 'posonlyargs'\n",
      "To silence this warning, decorate the function with @tf.autograph.experimental.do_not_convert\n",
      "192/192 [==============================] - ETA: 0s - loss: 0.2128 - accuracy: 0.8941WARNING:tensorflow:AutoGraph could not transform <function Model.make_test_function.<locals>.test_function at 0x2ad3a6fe8598> and will run it as-is.\n",
      "Please report this to the TensorFlow team. When filing the bug, set the verbosity to 10 (on Linux, `export AUTOGRAPH_VERBOSITY=10`) and attach the full output.\n",
      "Cause: 'arguments' object has no attribute 'posonlyargs'\n",
      "To silence this warning, decorate the function with @tf.autograph.experimental.do_not_convert\n",
      "WARNING: AutoGraph could not transform <function Model.make_test_function.<locals>.test_function at 0x2ad3a6fe8598> and will run it as-is.\n",
      "Please report this to the TensorFlow team. When filing the bug, set the verbosity to 10 (on Linux, `export AUTOGRAPH_VERBOSITY=10`) and attach the full output.\n",
      "Cause: 'arguments' object has no attribute 'posonlyargs'\n",
      "To silence this warning, decorate the function with @tf.autograph.experimental.do_not_convert\n",
      "\n",
      "Epoch 1: loss improved from inf to 0.21280, saving model to outputs//isot_dl_glove/model_ISOT_CNN_GLOVE_V1.h5\n",
      "192/192 [==============================] - 50s 258ms/step - loss: 0.2128 - accuracy: 0.8941 - val_loss: 0.0286 - val_accuracy: 0.9905\n",
      "Epoch 2/2\n",
      "192/192 [==============================] - ETA: 0s - loss: 0.0086 - accuracy: 0.9977\n",
      "Epoch 2: loss improved from 0.21280 to 0.00858, saving model to outputs//isot_dl_glove/model_ISOT_CNN_GLOVE_V1.h5\n",
      "192/192 [==============================] - 49s 257ms/step - loss: 0.0086 - accuracy: 0.9977 - val_loss: 0.0338 - val_accuracy: 0.9884\n"
     ]
    }
   ],
   "source": [
    "history_cnn_glove=cnn_model_g.fit(pad_train,y_train,epochs=2,batch_size=128,validation_split=0.2,shuffle=True, callbacks=callbacks_list) "
   ]
  },
  {
   "cell_type": "markdown",
   "id": "040737d5",
   "metadata": {},
   "source": [
    "Save the model callback history details to csv "
   ]
  },
  {
   "cell_type": "code",
   "execution_count": null,
   "id": "2dc900f3",
   "metadata": {},
   "outputs": [],
   "source": [
    "hist_df = pd.DataFrame(history_cnn_glove.history) \n",
    "hist_df.to_csv(\"outputs//isot_dl_glove//model_ISOT_CNN_GLOVE_history.csv\",index=False)\n"
   ]
  },
  {
   "cell_type": "markdown",
   "id": "005a2326",
   "metadata": {},
   "source": [
    "#### Load the model"
   ]
  },
  {
   "cell_type": "code",
   "execution_count": 77,
   "id": "f4c0b407",
   "metadata": {},
   "outputs": [],
   "source": [
    "from tensorflow.keras.models import load_model\n",
    "cnn_model = load_model('outputs//isot_dl_glove//model_ISOT_CNN_GLOVE_V1.h5')"
   ]
  },
  {
   "cell_type": "markdown",
   "id": "da21c808",
   "metadata": {},
   "source": [
    "#### Predict the test data and calculate the metrics"
   ]
  },
  {
   "cell_type": "code",
   "execution_count": 78,
   "id": "b67f0271",
   "metadata": {},
   "outputs": [
    {
     "name": "stdout",
     "output_type": "stream",
     "text": [
      "WARNING:tensorflow:AutoGraph could not transform <function Model.make_predict_function.<locals>.predict_function at 0x2ad3a70cbd08> and will run it as-is.\n",
      "Please report this to the TensorFlow team. When filing the bug, set the verbosity to 10 (on Linux, `export AUTOGRAPH_VERBOSITY=10`) and attach the full output.\n",
      "Cause: 'arguments' object has no attribute 'posonlyargs'\n",
      "To silence this warning, decorate the function with @tf.autograph.experimental.do_not_convert\n",
      "WARNING: AutoGraph could not transform <function Model.make_predict_function.<locals>.predict_function at 0x2ad3a70cbd08> and will run it as-is.\n",
      "Please report this to the TensorFlow team. When filing the bug, set the verbosity to 10 (on Linux, `export AUTOGRAPH_VERBOSITY=10`) and attach the full output.\n",
      "Cause: 'arguments' object has no attribute 'posonlyargs'\n",
      "To silence this warning, decorate the function with @tf.autograph.experimental.do_not_convert\n",
      "240/240 [==============================] - 7s 31ms/step\n"
     ]
    }
   ],
   "source": [
    "y_pred=cnn_model.predict(pad_test)\n",
    "# ytrue = y_test.astype(int).tolist()\n",
    "ytrue = y_test.values\n",
    "y_pred2 = np.array((y_pred > 0.4).astype(int)[:,0])\n",
    "precision = precision_score(ytrue, y_pred2)\n",
    "recall = recall_score(ytrue, y_pred2)\n",
    "f1score = f1_score(ytrue, y_pred2)"
   ]
  },
  {
   "cell_type": "code",
   "execution_count": 79,
   "id": "a3817c4b",
   "metadata": {},
   "outputs": [
    {
     "name": "stdout",
     "output_type": "stream",
     "text": [
      "Accuracy score : 0.9911157564672067\n",
      "precision = 0.9936526255049047\n",
      "recall = 0.9868194842406877\n",
      "f1score = 0.9902242668200115\n",
      "[[4142   22]\n",
      " [  46 3444]]\n",
      "              precision    recall  f1-score   support\n",
      "\n",
      "           0       0.99      0.99      0.99      4164\n",
      "           1       0.99      0.99      0.99      3490\n",
      "\n",
      "    accuracy                           0.99      7654\n",
      "   macro avg       0.99      0.99      0.99      7654\n",
      "weighted avg       0.99      0.99      0.99      7654\n",
      "\n"
     ]
    }
   ],
   "source": [
    "print(\"Accuracy score : {}\".format(accuracy_score(ytrue, y_pred2)))\n",
    "print('precision =',precision)\n",
    "print('recall =',recall)\n",
    "print('f1score =',f1score)\n",
    "print(confusion_matrix(ytrue, y_pred2))\n",
    "print(classification_report(ytrue, y_pred2))"
   ]
  },
  {
   "cell_type": "markdown",
   "id": "4eab122d",
   "metadata": {},
   "source": [
    "#### Save the classification report to csv"
   ]
  },
  {
   "cell_type": "code",
   "execution_count": 80,
   "id": "c9c40650",
   "metadata": {},
   "outputs": [],
   "source": [
    "report=classification_report(ytrue, y_pred2, output_dict=True)\n",
    "df = pd.DataFrame(report).transpose()\n",
    "df.to_csv(\"outputs//isot_dl_glove//model_ISOT_CNN_GLOVE_clasifctnrpt.csv\")"
   ]
  },
  {
   "cell_type": "markdown",
   "id": "d842dd2c",
   "metadata": {},
   "source": [
    "**Plot confusion matrix using the user defined functions created earlier**"
   ]
  },
  {
   "cell_type": "code",
   "execution_count": 82,
   "id": "b743833e",
   "metadata": {},
   "outputs": [
    {
     "data": {
      "image/png": "[encoded data removed]",
      "text/plain": [
       "<Figure size 360x300 with 2 Axes>"
      ]
     },
     "metadata": {},
     "output_type": "display_data"
    },
    {
     "data": {
      "image/png": "[encoded data removed]",
      "text/plain": [
       "<Figure size 360x300 with 2 Axes>"
      ]
     },
     "metadata": {},
     "output_type": "display_data"
    }
   ],
   "source": [
    "cm=confusion_matrix(ytrue, y_pred2)\n",
    "path1=\"outputs//isot_dl_glove//isot_cnn_cmtrx.png\"\n",
    "path2=\"outputs//isot_dl_glove//isot_cnn_ncmtrx.png\"\n",
    "confusn_mtrx_plot(cm,path1)\n",
    "norm_confusn_mtrx_plot(cm,path2)"
   ]
  },
  {
   "cell_type": "markdown",
   "id": "a0ac5d9a",
   "metadata": {},
   "source": [
    "#### Plot the training and test accuracy scores from the callback history details"
   ]
  },
  {
   "cell_type": "code",
   "execution_count": 76,
   "id": "8135cde6",
   "metadata": {},
   "outputs": [
    {
     "name": "stdout",
     "output_type": "stream",
     "text": [
      "WARNING:tensorflow:AutoGraph could not transform <function Model.make_predict_function.<locals>.predict_function at 0x2ad3ad4e8f28> and will run it as-is.\n",
      "Please report this to the TensorFlow team. When filing the bug, set the verbosity to 10 (on Linux, `export AUTOGRAPH_VERBOSITY=10`) and attach the full output.\n",
      "Cause: 'arguments' object has no attribute 'posonlyargs'\n",
      "To silence this warning, decorate the function with @tf.autograph.experimental.do_not_convert\n",
      "WARNING: AutoGraph could not transform <function Model.make_predict_function.<locals>.predict_function at 0x2ad3ad4e8f28> and will run it as-is.\n",
      "Please report this to the TensorFlow team. When filing the bug, set the verbosity to 10 (on Linux, `export AUTOGRAPH_VERBOSITY=10`) and attach the full output.\n",
      "Cause: 'arguments' object has no attribute 'posonlyargs'\n",
      "To silence this warning, decorate the function with @tf.autograph.experimental.do_not_convert\n",
      "240/240 [==============================] - 8s 31ms/step\n",
      "Training Accuracy : 0.997713565826416\n",
      "Validation Accuracy : 0.988406240940094\n",
      "Precision : 0.9942146369684698\n",
      "Recall : 0.9848137535816619\n",
      "F1 Score : 0.9894918669929466\n"
     ]
    },
    {
     "data": {
      "image/png": "[encoded data removed]",
      "text/plain": [
       "<Figure size 864x360 with 2 Axes>"
      ]
     },
     "metadata": {},
     "output_type": "display_data"
    }
   ],
   "source": [
    "plot_loss_and_acc_from_hist2(hist_df)\n",
    "#print(\"CNN Completed\")\n"
   ]
  },
  {
   "cell_type": "code",
   "execution_count": null,
   "id": "585e006f",
   "metadata": {},
   "outputs": [],
   "source": []
  },
  {
   "cell_type": "markdown",
   "id": "8b372e44",
   "metadata": {},
   "source": [
    "### Using LSTM"
   ]
  },
  {
   "cell_type": "code",
   "execution_count": 83,
   "id": "bfd8a425",
   "metadata": {},
   "outputs": [],
   "source": [
    "# Model Checkpoint and EarlyStopping\n",
    "filepath = \"outputs//isot_dl_glove//model_ISOT_LSTM_GLOVE_PRETRAINED_V2.h5\" # Location to get the model\n",
    "checkpoint = ModelCheckpoint(filepath, monitor='loss', verbose=1, save_best_only=True, mode='min')\n",
    "es = EarlyStopping(monitor='val_loss', patience=3,mode='min', verbose=1)\n",
    "callbacks_list = [checkpoint,es]"
   ]
  },
  {
   "cell_type": "markdown",
   "id": "99cb0081",
   "metadata": {},
   "source": [
    "#### Build the model"
   ]
  },
  {
   "cell_type": "code",
   "execution_count": 84,
   "id": "541dcc15",
   "metadata": {},
   "outputs": [
    {
     "name": "stdout",
     "output_type": "stream",
     "text": [
      "Model: \"sequential_1\"\n",
      "_________________________________________________________________\n",
      " Layer (type)                Output Shape              Param #   \n",
      "=================================================================\n",
      " embedding_1 (Embedding)     (None, 2000, 300)         30912900  \n",
      "                                                                 \n",
      " lstm (LSTM)                 (None, 2000, 128)         219648    \n",
      "                                                                 \n",
      " global_max_pooling1d (Globa  (None, 128)              0         \n",
      " lMaxPooling1D)                                                  \n",
      "                                                                 \n",
      " dropout (Dropout)           (None, 128)               0         \n",
      "                                                                 \n",
      " dense_2 (Dense)             (None, 64)                8256      \n",
      "                                                                 \n",
      " dense_3 (Dense)             (None, 1)                 65        \n",
      "                                                                 \n",
      "=================================================================\n",
      "Total params: 31,140,869\n",
      "Trainable params: 31,140,869\n",
      "Non-trainable params: 0\n",
      "_________________________________________________________________\n"
     ]
    }
   ],
   "source": [
    "from keras.initializers import Constant\n",
    "lstm_model_g=Sequential()\n",
    "lstm_model_g.add(Embedding(input_dim=vocab_size,output_dim=embed_dim,input_length=maxi,\n",
    "                    embeddings_initializer=Constant(embedding_gmatrix),trainable=True))\n",
    "lstm_model_g.add(LSTM(128,return_sequences=True,dropout=0.2)) # loss stucks at about \n",
    "lstm_model_g.add(GlobalMaxPooling1D())\n",
    "lstm_model_g.add(Dropout(0.3))\n",
    "lstm_model_g.add(Dense(64,activation='relu'))\n",
    "lstm_model_g.add(Dense(1,activation='sigmoid'))  # sigmod for bin. classification.\n",
    "\n",
    "# compile the model\n",
    "lstm_model_g.compile(optimizer='adam',loss='binary_crossentropy',metrics=['accuracy'])\n",
    "lstm_model_g.summary()"
   ]
  },
  {
   "cell_type": "code",
   "execution_count": 85,
   "id": "7e229842",
   "metadata": {},
   "outputs": [],
   "source": [
    "clear_session()"
   ]
  },
  {
   "cell_type": "markdown",
   "id": "f94f3a22",
   "metadata": {},
   "source": [
    "#### Model Training"
   ]
  },
  {
   "cell_type": "code",
   "execution_count": null,
   "id": "453fba50",
   "metadata": {},
   "outputs": [
    {
     "name": "stdout",
     "output_type": "stream",
     "text": [
      "Epoch 1/3\n",
      "  1/192 [..............................] - ETA: 17:09 - loss: 0.0236 - accuracy: 0.9922"
     ]
    }
   ],
   "source": [
    "history_lstm_glove=lstm_model_g.fit(pad_train,y_train,epochs=3,batch_size=128,validation_split=0.2,shuffle=True, callbacks=callbacks_list) "
   ]
  },
  {
   "cell_type": "markdown",
   "id": "a2221414",
   "metadata": {},
   "source": [
    "#### Save the model callback history details to csv "
   ]
  },
  {
   "cell_type": "code",
   "execution_count": null,
   "id": "c2a848a5",
   "metadata": {
    "scrolled": true
   },
   "outputs": [],
   "source": [
    "hist_df = pd.DataFrame(history_lstm_glove.history) \n",
    "hist_df.to_csv(\"outputs//isot_dl_glove//model_ISOT_LSTM_GLOVE_history.csv\",index=False)\n",
    "\n"
   ]
  },
  {
   "cell_type": "markdown",
   "id": "73a64ae9",
   "metadata": {},
   "source": [
    "#### Load the model and Predict the test data and calculate the metrics"
   ]
  },
  {
   "cell_type": "code",
   "execution_count": null,
   "id": "6f37d3cd",
   "metadata": {},
   "outputs": [],
   "source": [
    "from tensorflow.keras.models import load_model\n",
    "lstm_model_g = load_model('outputs//isot_dl_glove//model_ISOT_LSTM_GLOVE_PRETRAINED_V2.h5')\n",
    "\n",
    "\n",
    "y_pred=lstm_model_g.predict(pad_test)\n",
    "# ytrue = y_test.astype(int).tolist()\n",
    "ytrue = y_test.values\n",
    "y_pred2 = np.array((y_pred > 0.4).astype(int)[:,0])\n",
    "precision = precision_score(ytrue, y_pred2)\n",
    "recall = recall_score(ytrue, y_pred2)\n",
    "f1score = f1_score(ytrue, y_pred2)"
   ]
  },
  {
   "cell_type": "code",
   "execution_count": null,
   "id": "0a0c7e8f",
   "metadata": {},
   "outputs": [],
   "source": [
    "print(\"Accuracy score : {}\".format(accuracy_score(ytrue, y_pred2)))\n",
    "print('precision =',precision)\n",
    "print('recall =',recall)\n",
    "print('f1score =',f1score)\n",
    "print(confusion_matrix(ytrue, y_pred2))\n",
    "print(classification_report(ytrue, y_pred2))"
   ]
  },
  {
   "cell_type": "markdown",
   "id": "8fba82eb",
   "metadata": {},
   "source": [
    "#### Save the classification report to csv"
   ]
  },
  {
   "cell_type": "code",
   "execution_count": null,
   "id": "a048b8e2",
   "metadata": {},
   "outputs": [],
   "source": [
    "report=classification_report(ytrue, y_pred2, output_dict=True)\n",
    "df = pd.DataFrame(report).transpose()\n",
    "df.to_csv(\"outputs//isot_dl_glove//model_ISOT_LSTM_GLOVE_clasifctnrpt.csv\")"
   ]
  },
  {
   "cell_type": "markdown",
   "id": "c39a6fe4",
   "metadata": {},
   "source": [
    "**Plot confusion matrix using the user defined functions created earlier**"
   ]
  },
  {
   "cell_type": "code",
   "execution_count": null,
   "id": "ca369295",
   "metadata": {},
   "outputs": [],
   "source": [
    "cm=confusion_matrix(ytrue, y_pred2)\n",
    "path1=\"outputs//isot_dl_glove//isot_lstm_cmtrx.png\"\n",
    "path2=\"outputs//isot_dl_glove//isot_lstm_ncmtrx.png\"\n",
    "confusn_mtrx_plot(cm,path1)\n",
    "norm_confusn_mtrx_plot(cm,path2)"
   ]
  },
  {
   "cell_type": "markdown",
   "id": "580fa923",
   "metadata": {},
   "source": [
    "#### Plot the training and test accuracy scores from the callback history details"
   ]
  },
  {
   "cell_type": "code",
   "execution_count": null,
   "id": "8e5ab158",
   "metadata": {},
   "outputs": [],
   "source": [
    "\n",
    "plot_loss_and_acc_from_hist2(hist_df)\n",
    "#print(\"LSTM Completed\")"
   ]
  },
  {
   "cell_type": "code",
   "execution_count": null,
   "id": "52d222f2",
   "metadata": {},
   "outputs": [],
   "source": []
  },
  {
   "cell_type": "markdown",
   "id": "38556dbf",
   "metadata": {},
   "source": [
    "### Using BiLSTM"
   ]
  },
  {
   "cell_type": "code",
   "execution_count": null,
   "id": "89a3e828",
   "metadata": {},
   "outputs": [],
   "source": [
    "# Model Checkpoint and EarlyStopping\n",
    "filepath_bilstm_g = \"outputs//isot_dl_glove//model_ISOT_BILSTM_GLOVE_PRETRAINED_V2.h5\" # Location to get the model\n",
    "checkpoint_bilstm_g = ModelCheckpoint(filepath_bilstm_g, monitor='loss', verbose=1, save_best_only=True, mode='min')\n",
    "es_bilstm_g = EarlyStopping(monitor='val_loss', patience=3,mode='min', verbose=1)\n",
    "callbacks_list_bilstm_g = [checkpoint_bilstm_g,es_bilstm_g]"
   ]
  },
  {
   "cell_type": "markdown",
   "id": "85304351",
   "metadata": {},
   "source": [
    "#### Build the model"
   ]
  },
  {
   "cell_type": "code",
   "execution_count": null,
   "id": "ff9ad7f2",
   "metadata": {},
   "outputs": [],
   "source": [
    "from keras.initializers import Constant\n",
    "bilstm_model_g=Sequential()\n",
    "bilstm_model_g.add(Embedding(input_dim=vocab_size,output_dim=embed_dim,input_length=maxi,\n",
    "                    embeddings_initializer=Constant(embedding_gmatrix),trainable=True))\n",
    "bilstm_model_g.add(Bidirectional(LSTM(128,return_sequences=True,dropout=0.2))) # loss stucks at about \n",
    "bilstm_model_g.add(GlobalMaxPooling1D())\n",
    "bilstm_model_g.add(Dropout(0.3))\n",
    "bilstm_model_g.add(Dense(64,activation='relu'))\n",
    "bilstm_model_g.add(Dense(1,activation='sigmoid'))  # sigmod for bin. classification.\n",
    "\n",
    "# compile the model\n",
    "bilstm_model_g.compile(optimizer='adam',loss='binary_crossentropy',metrics=['accuracy'])\n",
    "bilstm_model_g.summary()"
   ]
  },
  {
   "cell_type": "code",
   "execution_count": null,
   "id": "9f4f434c",
   "metadata": {},
   "outputs": [],
   "source": [
    "clear_session()"
   ]
  },
  {
   "cell_type": "markdown",
   "id": "72f9016f",
   "metadata": {},
   "source": [
    "#### Model Training"
   ]
  },
  {
   "cell_type": "code",
   "execution_count": null,
   "id": "99856826",
   "metadata": {},
   "outputs": [],
   "source": [
    "history_bilstm_glove=bilstm_model_g.fit(pad_train,y_train,epochs=3,batch_size=128,validation_split=0.2,shuffle=True, callbacks=callbacks_list_bilstm_g) "
   ]
  },
  {
   "cell_type": "markdown",
   "id": "cc5ed6af",
   "metadata": {},
   "source": [
    "#### Save the model callback history details to csv "
   ]
  },
  {
   "cell_type": "code",
   "execution_count": null,
   "id": "39539375",
   "metadata": {},
   "outputs": [],
   "source": [
    "hist_df = pd.DataFrame(history_bilstm_glove.history) \n",
    "hist_df.to_csv(\"outputs//isot_dl_glove//model_ISOT_BILSTM_GLOVE_history.csv\",index=False)\n"
   ]
  },
  {
   "cell_type": "markdown",
   "id": "391be1c3",
   "metadata": {},
   "source": [
    "#### Load the model and Predict the test data and calculate the metrics"
   ]
  },
  {
   "cell_type": "code",
   "execution_count": null,
   "id": "3add8c73",
   "metadata": {},
   "outputs": [],
   "source": [
    "from tensorflow.keras.models import load_model\n",
    "bilstm_model_g = load_model('outputs//isot_dl_glove//model_ISOT_BILSTM_GLOVE_PRETRAINED_V2.h5')\n",
    "\n",
    "\n",
    "y_pred=bilstm_model_g.predict(pad_test)\n",
    "# ytrue = y_test.astype(int).tolist()\n",
    "ytrue = y_test.values\n",
    "y_pred2 = np.array((y_pred > 0.5).astype(int)[:,0])\n",
    "precision = precision_score(ytrue, y_pred2)\n",
    "recall = recall_score(ytrue, y_pred2)\n",
    "f1score = f1_score(ytrue, y_pred2)"
   ]
  },
  {
   "cell_type": "code",
   "execution_count": null,
   "id": "d789cbc3",
   "metadata": {},
   "outputs": [],
   "source": [
    "print(\"Accuracy score : {}\".format(accuracy_score(ytrue, y_pred2)))\n",
    "print('precision =',precision)\n",
    "print('recall =',recall)\n",
    "print('f1score =',f1score)\n",
    "print(confusion_matrix(ytrue, y_pred2))\n",
    "print(classification_report(ytrue, y_pred2))"
   ]
  },
  {
   "cell_type": "markdown",
   "id": "a816a498",
   "metadata": {},
   "source": [
    "#### Save the classification report to csv"
   ]
  },
  {
   "cell_type": "code",
   "execution_count": null,
   "id": "d0a63d81",
   "metadata": {},
   "outputs": [],
   "source": [
    "report=classification_report(ytrue, y_pred2, output_dict=True)\n",
    "df = pd.DataFrame(report).transpose()\n",
    "df.to_csv(\"outputs//isot_dl_glove//model_ISOT_BILSTM_GLOVE_clasifctnrpt.csv\")"
   ]
  },
  {
   "cell_type": "markdown",
   "id": "348580ee",
   "metadata": {},
   "source": [
    "**Plot confusion matrix using the user defined functions created earlier**"
   ]
  },
  {
   "cell_type": "code",
   "execution_count": null,
   "id": "7cf44643",
   "metadata": {},
   "outputs": [],
   "source": [
    "cm=confusion_matrix(ytrue, y_pred2)\n",
    "path1=\"outputs//isot_dl_glove//isot_bilstm_cmtrx.png\"\n",
    "path2=\"outputs//isot_dl_glove//isot_bilstm_ncmtrx.png\"\n",
    "confusn_mtrx_plot(cm,path1)\n",
    "norm_confusn_mtrx_plot(cm,path2)"
   ]
  },
  {
   "cell_type": "markdown",
   "id": "fd4b31c9",
   "metadata": {},
   "source": [
    "#### Plot the training and test accuracy scores from the callback history details"
   ]
  },
  {
   "cell_type": "code",
   "execution_count": null,
   "id": "3e193cfe",
   "metadata": {},
   "outputs": [],
   "source": [
    "\n",
    "plot_loss_and_acc_from_hist2(hist_df)\n",
    "#print(\"BiLSTM Completed\")"
   ]
  },
  {
   "cell_type": "code",
   "execution_count": null,
   "id": "889db61f",
   "metadata": {},
   "outputs": [],
   "source": []
  },
  {
   "cell_type": "code",
   "execution_count": null,
   "id": "a9b274c5",
   "metadata": {},
   "outputs": [],
   "source": []
  },
  {
   "cell_type": "code",
   "execution_count": null,
   "id": "b5202f0b",
   "metadata": {},
   "outputs": [],
   "source": []
  }
 ],
 "metadata": {
  "kernelspec": {
   "display_name": "Python 3 (ipykernel)",
   "language": "python",
   "name": "python3"
  },
  "language_info": {
   "codemirror_mode": {
    "name": "ipython",
    "version": 3
   },
   "file_extension": ".py",
   "mimetype": "text/x-python",
   "name": "python",
   "nbconvert_exporter": "python",
   "pygments_lexer": "ipython3",
   "version": "3.7.0"
  }
 },
 "nbformat": 4,
 "nbformat_minor": 5
}
