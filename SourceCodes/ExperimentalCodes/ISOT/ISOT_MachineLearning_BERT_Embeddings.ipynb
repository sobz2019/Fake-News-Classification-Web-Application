{
 "cells": [
  {
   "cell_type": "markdown",
   "id": "a2f80efa",
   "metadata": {},
   "source": [
    "# Overview\n",
    "\n",
    "This notebook describes the different stages to build up different machine learning models trained over the dataset called **ISOT** by using pretrained **BERT** Embeddings, for the automatic fake news detection\n",
    "\n",
    "List of Machine Learning algorithms included \n",
    "- SVM\n",
    "- Random Forest\n",
    "- XgBoost\n",
    "- KNN\n",
    "- Naive Bayes\n",
    "- Logistic Regression\n",
    "\n"
   ]
  },
  {
   "cell_type": "markdown",
   "id": "479c3613",
   "metadata": {},
   "source": [
    "## 1. Loading Python libraries"
   ]
  },
  {
   "cell_type": "code",
   "execution_count": 1,
   "id": "08e81a4c",
   "metadata": {
    "collapsed": true
   },
   "outputs": [
    {
     "name": "stderr",
     "output_type": "stream",
     "text": [
      "2022-07-08 15:45:58.009740: I tensorflow/core/util/util.cc:169] oneDNN custom operations are on. You may see slightly different numerical results due to floating-point round-off errors from different computation orders. To turn them off, set the environment variable `TF_ENABLE_ONEDNN_OPTS=0`.\n",
      "2022-07-08 15:45:59.427100: W tensorflow/stream_executor/platform/default/dso_loader.cc:64] Could not load dynamic library 'libcudart.so.11.0'; dlerror: libcudart.so.11.0: cannot open shared object file: No such file or directory; LD_LIBRARY_PATH: /gpfs/software/ada/python/anaconda/2020.11/3.8/lib:/gpfs/software/ada/cuda/10.2.89/lib64:/gpfs/software/ada/cuda/10.2.89/lib/lib64\n",
      "2022-07-08 15:45:59.427155: I tensorflow/stream_executor/cuda/cudart_stub.cc:29] Ignore above cudart dlerror if you do not have a GPU set up on your machine.\n",
      "[nltk_data] Downloading package stopwords to\n",
      "[nltk_data]     /gpfs/home/psc21zcu/nltk_data...\n",
      "[nltk_data]   Package stopwords is already up-to-date!\n",
      "[nltk_data] Downloading package punkt to\n",
      "[nltk_data]     /gpfs/home/psc21zcu/nltk_data...\n",
      "[nltk_data]   Package punkt is already up-to-date!\n",
      "[nltk_data] Downloading package averaged_perceptron_tagger to\n",
      "[nltk_data]     /gpfs/home/psc21zcu/nltk_data...\n",
      "[nltk_data]   Package averaged_perceptron_tagger is already up-to-\n",
      "[nltk_data]       date!\n",
      "[nltk_data] Downloading package wordnet to\n",
      "[nltk_data]     /gpfs/home/psc21zcu/nltk_data...\n",
      "[nltk_data]   Package wordnet is already up-to-date!\n"
     ]
    }
   ],
   "source": [
    "import numpy as np\n",
    "import pandas as pd\n",
    "import warnings\n",
    "%matplotlib inline\n",
    "import matplotlib.pyplot as plt\n",
    "import seaborn as sns\n",
    "import glob\n",
    "import json\n",
    "import tensorflow_hub as hub\n",
    "import tensorflow_text\n",
    "import tldextract   # Accurately separates a URL's subdomain, domain, and public suffix\n",
    "from bs4 import BeautifulSoup\n",
    "from sklearn.model_selection import train_test_split\n",
    "from sklearn.metrics import classification_report,confusion_matrix,accuracy_score\n",
    "from sklearn.metrics import precision_score, recall_score\n",
    "from sklearn.pipeline import Pipeline\n",
    "from sklearn.metrics import roc_auc_score\n",
    "from sklearn.ensemble import RandomForestClassifier\n",
    "from sklearn.model_selection import RandomizedSearchCV\n",
    "from sklearn.svm import SVC\n",
    "from sklearn.neighbors import KNeighborsClassifier\n",
    "from sklearn.naive_bayes import GaussianNB\n",
    "from sklearn.naive_bayes import MultinomialNB\n",
    "from xgboost import XGBClassifier\n",
    "from sklearn.linear_model import LogisticRegression\n",
    "import re\n",
    "from sklearn.metrics import roc_curve, roc_auc_score\n",
    "from sklearn.feature_extraction.text import TfidfVectorizer,CountVectorizer\n",
    "from imblearn.over_sampling import SMOTE,ADASYN\n",
    "from collections import Counter\n",
    "import nltk \n",
    "import spacy\n",
    "nltk.download('stopwords')\n",
    "nltk.download('punkt')\n",
    "nltk.download('averaged_perceptron_tagger')\n",
    "nltk.download('wordnet')\n",
    "\n",
    "from wordcloud import WordCloud, ImageColorGenerator,STOPWORDS\n",
    "import gensim\n",
    "from gensim.parsing.preprocessing import STOPWORDS as gensim_stopwords\n",
    "import copy\n",
    "from nltk.stem import PorterStemmer\n",
    "from nltk.corpus import stopwords,wordnet\n",
    "from nltk.tokenize import word_tokenize\n",
    "from nltk.stem import WordNetLemmatizer,LancasterStemmer\n",
    "from sklearn.metrics import f1_score\n",
    "from pprint import pprint\n",
    "import warnings\n",
    "warnings.filterwarnings('ignore')\n",
    "pd.set_option('display.max_rows', 500)\n",
    "pd.set_option('display.max_columns', 500)\n",
    "pd.set_option('display.width', 1000)\n",
    "pd.set_option('display.expand_frame_repr', False)\n",
    "pd.set_option('display.max_colwidth', 1000)"
   ]
  },
  {
   "cell_type": "markdown",
   "id": "239f8fa6",
   "metadata": {},
   "source": [
    "#### Loading the ISOT Full Dataset  -- After combined fake and real news  in the previous notebook   \"ISOT_ML_Classifiers_TfiDF_Tokeniser\""
   ]
  },
  {
   "cell_type": "code",
   "execution_count": 2,
   "id": "aa94991f",
   "metadata": {},
   "outputs": [],
   "source": [
    "isot_full_df = pd.read_csv(\"Updated//ISOT_Combined_FullData.csv\")"
   ]
  },
  {
   "cell_type": "markdown",
   "id": "55d71bdb",
   "metadata": {},
   "source": [
    "#### Dropping the columns 'title' , 'text' and 'date'"
   ]
  },
  {
   "cell_type": "code",
   "execution_count": 3,
   "id": "20450fe0",
   "metadata": {},
   "outputs": [],
   "source": [
    "isot_full_df = isot_full_df.drop(columns = ['title','text', 'subject','date','title_length','body_length','date'])"
   ]
  },
  {
   "cell_type": "code",
   "execution_count": 4,
   "id": "0b503e19",
   "metadata": {},
   "outputs": [],
   "source": [
    "isot_full_df=isot_full_df.reset_index(drop=True)"
   ]
  },
  {
   "cell_type": "markdown",
   "id": "d234a8d8",
   "metadata": {},
   "source": [
    "***\n",
    "\n",
    "## 2. Model Training and Evaluation"
   ]
  },
  {
   "cell_type": "markdown",
   "id": "f08647ab",
   "metadata": {},
   "source": [
    "### BERT Embeddings\n",
    "\n",
    "Next step is extract features from the news text column using pretrained BERT embeddings model"
   ]
  },
  {
   "cell_type": "markdown",
   "id": "4a5d8c7c",
   "metadata": {},
   "source": [
    "###### Create a pandas series dataframe which consists only fulltext column values"
   ]
  },
  {
   "cell_type": "code",
   "execution_count": 7,
   "id": "635f9552",
   "metadata": {},
   "outputs": [],
   "source": [
    "texts=isot_full_df['fulltext']"
   ]
  },
  {
   "cell_type": "markdown",
   "id": "fe6b4b75",
   "metadata": {},
   "source": [
    "##### Download the Pretrained BERT embedding preprocessor and encoder  model from tensorflow hub"
   ]
  },
  {
   "cell_type": "code",
   "execution_count": 21,
   "id": "d4e45e44",
   "metadata": {
    "collapsed": true
   },
   "outputs": [
    {
     "name": "stderr",
     "output_type": "stream",
     "text": [
      "2022-06-20 00:16:47.412807: W tensorflow/stream_executor/platform/default/dso_loader.cc:64] Could not load dynamic library 'libcudart.so.11.0'; dlerror: libcudart.so.11.0: cannot open shared object file: No such file or directory; LD_LIBRARY_PATH: /gpfs/software/ada/python/anaconda/2020.11/3.8/lib:/gpfs/software/ada/cuda/10.2.89/lib64:/gpfs/software/ada/cuda/10.2.89/lib/lib64\n",
      "2022-06-20 00:16:47.413205: W tensorflow/stream_executor/platform/default/dso_loader.cc:64] Could not load dynamic library 'libcublas.so.11'; dlerror: libcublas.so.11: cannot open shared object file: No such file or directory; LD_LIBRARY_PATH: /gpfs/software/ada/python/anaconda/2020.11/3.8/lib:/gpfs/software/ada/cuda/10.2.89/lib64:/gpfs/software/ada/cuda/10.2.89/lib/lib64\n",
      "2022-06-20 00:16:47.413505: W tensorflow/stream_executor/platform/default/dso_loader.cc:64] Could not load dynamic library 'libcublasLt.so.11'; dlerror: libcublasLt.so.11: cannot open shared object file: No such file or directory; LD_LIBRARY_PATH: /gpfs/software/ada/python/anaconda/2020.11/3.8/lib:/gpfs/software/ada/cuda/10.2.89/lib64:/gpfs/software/ada/cuda/10.2.89/lib/lib64\n",
      "2022-06-20 00:16:47.607965: W tensorflow/stream_executor/platform/default/dso_loader.cc:64] Could not load dynamic library 'libcusolver.so.11'; dlerror: libcusolver.so.11: cannot open shared object file: No such file or directory; LD_LIBRARY_PATH: /gpfs/software/ada/python/anaconda/2020.11/3.8/lib:/gpfs/software/ada/cuda/10.2.89/lib64:/gpfs/software/ada/cuda/10.2.89/lib/lib64\n",
      "2022-06-20 00:16:47.608307: W tensorflow/stream_executor/platform/default/dso_loader.cc:64] Could not load dynamic library 'libcusparse.so.11'; dlerror: libcusparse.so.11: cannot open shared object file: No such file or directory; LD_LIBRARY_PATH: /gpfs/software/ada/python/anaconda/2020.11/3.8/lib:/gpfs/software/ada/cuda/10.2.89/lib64:/gpfs/software/ada/cuda/10.2.89/lib/lib64\n",
      "2022-06-20 00:16:47.608612: W tensorflow/stream_executor/platform/default/dso_loader.cc:64] Could not load dynamic library 'libcudnn.so.8'; dlerror: libcudnn.so.8: cannot open shared object file: No such file or directory; LD_LIBRARY_PATH: /gpfs/software/ada/python/anaconda/2020.11/3.8/lib:/gpfs/software/ada/cuda/10.2.89/lib64:/gpfs/software/ada/cuda/10.2.89/lib/lib64\n",
      "2022-06-20 00:16:47.608685: W tensorflow/core/common_runtime/gpu/gpu_device.cc:1850] Cannot dlopen some GPU libraries. Please make sure the missing libraries mentioned above are installed properly if you would like to use GPU. Follow the guide at https://www.tensorflow.org/install/gpu for how to download and setup the required libraries for your platform.\n",
      "Skipping registering GPU devices...\n",
      "2022-06-20 00:16:47.610197: I tensorflow/core/platform/cpu_feature_guard.cc:193] This TensorFlow binary is optimized with oneAPI Deep Neural Network Library (oneDNN) to use the following CPU instructions in performance-critical operations:  AVX2 AVX512F AVX512_VNNI FMA\n",
      "To enable them in other operations, rebuild TensorFlow with the appropriate compiler flags.\n"
     ]
    }
   ],
   "source": [
    "# bert preprocessor - https://tfhub.dev/tensorflow/bert_en_uncased_preprocess/3\n",
    "preprocessor = hub.KerasLayer(\"https://tfhub.dev/tensorflow/bert_en_uncased_preprocess/3\")\n",
    "# bert encoder - https://tfhub.dev/tensorflow/small_bert/bert_en_uncased_L-12_H-512_A-8/2\n",
    "encoder = hub.KerasLayer(\"https://tfhub.dev/tensorflow/small_bert/bert_en_uncased_L-12_H-512_A-8/2\",trainable=True)"
   ]
  },
  {
   "cell_type": "markdown",
   "id": "915ad8c6",
   "metadata": {},
   "source": [
    "Text inputs need to be transformed to numeric token ids and arranged in several Tensors before being input to BERT.\n",
    "Since our dataset is huge and it is not possible to transform full data to numeric token ids , we can do the same by splitting the data into multiple chunks as like below"
   ]
  },
  {
   "cell_type": "markdown",
   "id": "37a1267d",
   "metadata": {},
   "source": [
    "**First set** =  Create a first chunk of text series dataframe with first 10000 rows"
   ]
  },
  {
   "cell_type": "code",
   "execution_count": 12,
   "id": "ef52e4bf",
   "metadata": {},
   "outputs": [],
   "source": [
    "# preprocessing dataset  - First Set\n",
    "inputs = preprocessor(texts[0:10000])"
   ]
  },
  {
   "cell_type": "markdown",
   "id": "792a73d1",
   "metadata": {},
   "source": [
    "After executing the above command, 3 outputs from the preprocessing will be generated that a BERT model would use (input_words_id, input_mask and input_type_ids).\n",
    "Then encode the output and convert it into bert model features which can be feed to the model"
   ]
  },
  {
   "cell_type": "code",
   "execution_count": null,
   "id": "b94dd40a",
   "metadata": {},
   "outputs": [],
   "source": [
    "# feeding it to model for vectorization\n",
    "outputs = encoder(inputs)"
   ]
  },
  {
   "cell_type": "markdown",
   "id": "5466ade4",
   "metadata": {},
   "source": [
    "The above output BERT models return a map with 3 important keys: pooled_output, sequence_output, encoder_outputs:\n",
    "\n",
    "- pooled_output represents each input sequence as a whole. The shape is [batch_size, H]. \n",
    "- sequence_output represents each input token in the context. The shape is [batch_size, seq_length, H]. \n",
    "- encoder_outputs are the intermediate activations of the L Transformer block\n"
   ]
  },
  {
   "cell_type": "code",
   "execution_count": 13,
   "id": "a0581f0d",
   "metadata": {},
   "outputs": [],
   "source": [
    "pooled_output = outputs[\"pooled_output\"]      # [batch_size, 512].\n",
    "sequence_output = outputs[\"sequence_output\"]  # [batch_size, seq_length, 512]."
   ]
  },
  {
   "cell_type": "markdown",
   "id": "8a78a334",
   "metadata": {},
   "source": [
    "Then convert bert encoder sequence outputs to 1 dimension  and save the encoder sequence output to a dataframe for a single chunk.This same process need to do for all the splitted data chunks and then need to merge all the dataframes into a single one , which will feed to the model training"
   ]
  },
  {
   "cell_type": "code",
   "execution_count": 14,
   "id": "5dac6436",
   "metadata": {},
   "outputs": [],
   "source": [
    "# defining dataframe\n",
    "bertf_df1=pd.DataFrame()"
   ]
  },
  {
   "cell_type": "code",
   "execution_count": 15,
   "id": "977eb3d6",
   "metadata": {},
   "outputs": [
    {
     "name": "stdout",
     "output_type": "stream",
     "text": [
      "values added in dataframe\n"
     ]
    }
   ],
   "source": [
    "## Converting bert encoder sequence output to 1 dimension for ML Model training\n",
    "for i in range(0,len(sequence_output)):\n",
    "    b=sequence_output[i].numpy().sum(axis=0)\n",
    "    bertf_df1=bertf_df1.append(pd.Series(b),ignore_index=True)\n",
    "print('values added in dataframe')"
   ]
  },
  {
   "cell_type": "markdown",
   "id": "40b17f5b",
   "metadata": {},
   "source": [
    "**Second set** =  Create a next chunk of text series dataframe ranging from 10000 to 20000"
   ]
  },
  {
   "cell_type": "code",
   "execution_count": 9,
   "id": "a9ec6b22",
   "metadata": {},
   "outputs": [],
   "source": [
    "# preprocessing dataset  - First Set\n",
    "inputs2 = preprocessor(texts[10000:20000])\n",
    "# feeding it to model for vectorization\n",
    "outputs2 = encoder(inputs2)"
   ]
  },
  {
   "cell_type": "code",
   "execution_count": 10,
   "id": "3f01e03d",
   "metadata": {},
   "outputs": [],
   "source": [
    "pooled_output2 = outputs2[\"pooled_output\"]      # [batch_size, 512].\n",
    "sequence_output2 = outputs2[\"sequence_output\"]  # [batch_size, seq_length, 512]."
   ]
  },
  {
   "cell_type": "code",
   "execution_count": 11,
   "id": "01262aee",
   "metadata": {},
   "outputs": [],
   "source": [
    "# defining dataframe\n",
    "bertf_df2=pd.DataFrame()"
   ]
  },
  {
   "cell_type": "code",
   "execution_count": 12,
   "id": "554da319",
   "metadata": {},
   "outputs": [
    {
     "name": "stdout",
     "output_type": "stream",
     "text": [
      "values added in dataframe\n"
     ]
    }
   ],
   "source": [
    "## Converting bert encoder sequence output to 1 dimension for ML Model training\n",
    "\n",
    "for i in range(0,len(sequence_output2)):\n",
    "    b=sequence_output2[i].numpy().sum(axis=0)\n",
    "    bertf_df2=bertf_df2.append(pd.Series(b),ignore_index=True)\n",
    "print('values added in dataframe')"
   ]
  },
  {
   "cell_type": "markdown",
   "id": "21e2d064",
   "metadata": {},
   "source": [
    "**Third set** =  Create a next chunk of text series dataframe ranging from 10000 to 20000"
   ]
  },
  {
   "cell_type": "code",
   "execution_count": 14,
   "id": "a79f0926",
   "metadata": {},
   "outputs": [],
   "source": [
    "# preprocessing dataset  - First Set\n",
    "inputs3 = preprocessor(texts[20000:30000])\n",
    "# feeding it to model for vectorization\n",
    "outputs3 = encoder(inputs3)"
   ]
  },
  {
   "cell_type": "code",
   "execution_count": 15,
   "id": "636ee7af",
   "metadata": {},
   "outputs": [],
   "source": [
    "pooled_output3 = outputs3[\"pooled_output\"]      # [batch_size, 512].\n",
    "sequence_output3 = outputs3[\"sequence_output\"]  # [batch_size, seq_length, 512]."
   ]
  },
  {
   "cell_type": "code",
   "execution_count": 16,
   "id": "064daa75",
   "metadata": {},
   "outputs": [],
   "source": [
    "# defining dataframe\n",
    "bertf_df3=pd.DataFrame()"
   ]
  },
  {
   "cell_type": "code",
   "execution_count": 17,
   "id": "91e20b54",
   "metadata": {},
   "outputs": [
    {
     "name": "stdout",
     "output_type": "stream",
     "text": [
      "values added in dataframe\n"
     ]
    }
   ],
   "source": [
    "## Converting bert encoder sequence output to 1 dimension for ML Model training\n",
    "\n",
    "for i in range(0,len(sequence_output3)):\n",
    "    b=sequence_output3[i].numpy().sum(axis=0)\n",
    "    bertf_df3=bertf_df3.append(pd.Series(b),ignore_index=True)\n",
    "print('values added in dataframe')"
   ]
  },
  {
   "cell_type": "markdown",
   "id": "bdfe9ea5",
   "metadata": {},
   "source": [
    "**Fourth set** =  Create a next chunk of text series dataframe ranging from 10000 to 20000"
   ]
  },
  {
   "cell_type": "code",
   "execution_count": 9,
   "id": "0f304752",
   "metadata": {},
   "outputs": [],
   "source": [
    "# preprocessing dataset  - First Set\n",
    "inputs4 = preprocessor(texts[30000:40000])\n",
    "# feeding it to model for vectorization\n",
    "outputs4 = encoder(inputs4)"
   ]
  },
  {
   "cell_type": "code",
   "execution_count": 10,
   "id": "ace5f69d",
   "metadata": {},
   "outputs": [],
   "source": [
    "pooled_output4 = outputs4[\"pooled_output\"]      # [batch_size, 512].\n",
    "sequence_output4 = outputs4[\"sequence_output\"]  # [batch_size, seq_length, 512]."
   ]
  },
  {
   "cell_type": "code",
   "execution_count": 11,
   "id": "2017f1c7",
   "metadata": {},
   "outputs": [],
   "source": [
    "# defining dataframe\n",
    "bertf_df4=pd.DataFrame()"
   ]
  },
  {
   "cell_type": "code",
   "execution_count": 12,
   "id": "94cc0190",
   "metadata": {},
   "outputs": [
    {
     "name": "stdout",
     "output_type": "stream",
     "text": [
      "values added in dataframe\n"
     ]
    }
   ],
   "source": [
    "## Converting bert encoder sequence output to 1 dimension for ML Model training\n",
    "\n",
    "for i in range(0,len(sequence_output4)):\n",
    "    b=sequence_output4[i].numpy().sum(axis=0)\n",
    "    bertf_df4=bertf_df4.append(pd.Series(b),ignore_index=True)\n",
    "print('values added in dataframe')"
   ]
  },
  {
   "cell_type": "markdown",
   "id": "d2de7599",
   "metadata": {},
   "source": [
    "Merge all the bert feature dataframes into a single one , which will feed to the model training"
   ]
  },
  {
   "cell_type": "code",
   "execution_count": 9,
   "id": "7846da4e",
   "metadata": {},
   "outputs": [],
   "source": [
    "# merging both props \n",
    "bertVectors_fulldf=pd.concat([bertf_df1,bertf_df2,bertf_df3,bertf_df4])\n",
    "bertVectors_fulldf.reset_index(drop=True,inplace=True)"
   ]
  },
  {
   "cell_type": "markdown",
   "id": "66cede48",
   "metadata": {},
   "source": [
    "Then add class label column in the merged bert feature dataframe and then this dataframe will go with train-test data splitting"
   ]
  },
  {
   "cell_type": "code",
   "execution_count": 13,
   "id": "0413828f",
   "metadata": {},
   "outputs": [],
   "source": [
    "bertVectors_fulldf.insert(len(bertVectors_fulldf.columns),'class',isot_full_df['class'])"
   ]
  },
  {
   "cell_type": "code",
   "execution_count": 14,
   "id": "80e0ad30",
   "metadata": {},
   "outputs": [
    {
     "data": {
      "text/plain": [
       "0    20820\n",
       "1    17450\n",
       "Name: class, dtype: int64"
      ]
     },
     "execution_count": 14,
     "metadata": {},
     "output_type": "execute_result"
    }
   ],
   "source": [
    "bertVectors_fulldf['class'].value_counts()"
   ]
  },
  {
   "cell_type": "markdown",
   "id": "c115b1e2",
   "metadata": {},
   "source": [
    "#### Convert Bertvectors dataframe  to CSV format  and store in a path"
   ]
  },
  {
   "cell_type": "code",
   "execution_count": null,
   "id": "507fa59a",
   "metadata": {},
   "outputs": [],
   "source": [
    "bertVectors_fulldf.to_csv('Updated//bertVectors_fulldf_ISOT.csv', index=False)"
   ]
  },
  {
   "cell_type": "markdown",
   "id": "a52b5229",
   "metadata": {},
   "source": [
    "#### Splitting bert vectors dataframe into features and class "
   ]
  },
  {
   "cell_type": "code",
   "execution_count": 7,
   "id": "6fa3f905",
   "metadata": {},
   "outputs": [],
   "source": [
    "X=bertVectors_fulldf.drop('class',axis=1)\n",
    "y=bertVectors_fulldf['class']"
   ]
  },
  {
   "cell_type": "markdown",
   "id": "dad8bdf3",
   "metadata": {},
   "source": [
    "#### Using StratifiedKFold technique to create X_train , X_test, Y_train and Y_test"
   ]
  },
  {
   "cell_type": "code",
   "execution_count": 8,
   "id": "8434f0c8",
   "metadata": {},
   "outputs": [],
   "source": [
    "from sklearn.model_selection import StratifiedKFold\n",
    "kfold = StratifiedKFold(n_splits=5, shuffle=True, random_state=1)"
   ]
  },
  {
   "cell_type": "code",
   "execution_count": 9,
   "id": "e798288f",
   "metadata": {},
   "outputs": [],
   "source": [
    "for i, j in kfold.split(X, y):\n",
    "    # select rows\n",
    "    X_train, X_test = X.iloc[i], X.iloc[j]\n",
    "    y_train, y_test = y.iloc[i], y.iloc[j]"
   ]
  },
  {
   "cell_type": "markdown",
   "id": "3c7bb9a4",
   "metadata": {},
   "source": [
    "####  User defined helper functions to find out the accuracy score metrics and creation of model comparison table\n",
    "\n",
    "\n",
    "- The function named **metrics** is using to calculate the score of the different metrics such as Accuracy, Precision, Recall, F1Score and ROC AUC score for the given classifier with test data\n",
    "\n",
    "\n",
    "- The function named **model_comparison_table** is using to create dataframe to list down all the classifiers with the metrics scores for the comparison purpose"
   ]
  },
  {
   "cell_type": "code",
   "execution_count": 11,
   "id": "0b832779",
   "metadata": {},
   "outputs": [],
   "source": [
    "import timeit\n",
    "from timeit import default_timer as timer\n",
    "from datetime import timedelta\n",
    " \n",
    "\n",
    "\n",
    "def metrics(X_test,y_test,clf):\n",
    "    predictions=clf.predict(X_test)\n",
    "    #predictions=(clf.predict_proba(X_test)[:,1] >= 0.3).astype(bool)\n",
    "    print(\"confusion_matrix :\")\n",
    "    print(confusion_matrix(y_test,predictions))\n",
    "    print(\"Accuracy Score :\")\n",
    "    print(accuracy_score(y_test, predictions))\n",
    "    print(\"Classification Report :\")\n",
    "    print(classification_report(y_test, predictions))\n",
    "    print(\"F1 score :\")\n",
    "    print(f1_score(y_test, predictions))\n",
    "    print(\"ROC AUC Score\")\n",
    "    y_pred_proba = clf.predict_proba(X_test)\n",
    "    print(roc_auc_score(y_test, y_pred_proba[:,1]) )\n",
    "    print(\"------------------------------\")\n",
    "\n",
    "    \n",
    "def model_comparison_table(X_test,y_test,classifier_list):\n",
    "    dict_clf={}\n",
    "    for clf_name,clf in classifier_list:\n",
    "        predictions=clf.predict(X_test)\n",
    "        y_pred_proba = clf.predict_proba(X_test)\n",
    "        accuracy=accuracy_score(y_test, predictions)\n",
    "        precision=precision_score(y_test,predictions,average='macro').round(2)\n",
    "        recall=recall_score(y_test,predictions)\n",
    "        f1score=f1_score(y_test,predictions).round(2)\n",
    "        ROC_AUC=roc_auc_score(y_test, y_pred_proba[:,1])\n",
    "        dict_clf[clf_name]=[accuracy,precision,recall,f1score,ROC_AUC]\n",
    "    df_models_scores = pd.DataFrame(dict_clf, index=['Accuracy', 'Precision', 'Recall', 'F1 Score','roc_auc_score'])\n",
    "    return df_models_scores"
   ]
  },
  {
   "cell_type": "markdown",
   "id": "f2fad121",
   "metadata": {},
   "source": [
    "#### User defined helper functions to create the confusion matrix and normalised confusion matrix \n",
    "\n",
    "The below scripts is using to create the confusion matrix and normalised confusion matrix based on the predictions and actual truth lables\n"
   ]
  },
  {
   "cell_type": "code",
   "execution_count": 12,
   "id": "92c3befb",
   "metadata": {},
   "outputs": [],
   "source": [
    "# Helper function to plot confusion matrix and normalised confusion matrix plot\n",
    "def confusn_mtrx_plot(cm,path):\n",
    "    from sklearn.metrics import confusion_matrix\n",
    "    # Y_pred_evc = evc_mdl.predict(test_X)\n",
    "    #cm = confusion_matrix(ytrue, y_pred)\n",
    "\n",
    "    fig = plt.figure(figsize=(6, 5), dpi=60)\n",
    "    ax = plt.subplot()\n",
    "    sns.set(font_scale=1.4) # Adjust to fit\n",
    "    sns.heatmap(cm, annot=True, ax=ax, cmap=\"GnBu\", fmt=\"g\");  \n",
    "    #sns.heatmap(cm/np.sum(cm), annot=True, ax=ax[1], cmap=\"GnBu\", fmt=\"g\");  \n",
    "\n",
    "    # Labels, title and ticks\n",
    "    label_font = {'size':'18'}  # Adjust to fit\n",
    "    ax.set_xlabel('Predicted', fontdict=label_font);\n",
    "    ax.set_ylabel('Actuals', fontdict=label_font);\n",
    "\n",
    "    title_font = {'size':'20'}  # Adjust to fit\n",
    "    ax.set_title('Confusion Matrix', fontdict=title_font);\n",
    "\n",
    "    ax.tick_params(axis='both', which='major', labelsize=15)  # Adjust to fit\n",
    "    ax.xaxis.set_ticklabels(['Real', 'Fake']);\n",
    "    ax.yaxis.set_ticklabels(['Real', 'Fake']);\n",
    "    #fig.show()\n",
    "    fig.savefig(path)\n",
    "    \n",
    "def norm_confusn_mtrx_plot(cm,path):\n",
    "    fig = plt.figure(figsize=(6, 5), dpi=60)\n",
    "    ax = plt.subplot()\n",
    "    sns.set(font_scale=1.4) # Adjust to fit\n",
    "    sns.heatmap(cm/np.sum(cm), annot=True, ax=ax, cmap=\"GnBu\",fmt='.2%');  \n",
    "\n",
    "    # Labels, title and ticks\n",
    "    label_font = {'size':'18'}  # Adjust to fit\n",
    "    ax.set_xlabel('Predicted', fontdict=label_font);\n",
    "    ax.set_ylabel('Actuals', fontdict=label_font);\n",
    "\n",
    "    title_font = {'size':'18'}  # Adjust to fit\n",
    "    ax.set_title('Normalised Confusion Matrix', fontdict=title_font);\n",
    "\n",
    "    ax.tick_params(axis='both', which='major', labelsize=15)  # Adjust to fit\n",
    "    ax.xaxis.set_ticklabels(['Real', 'Fake']);\n",
    "    ax.yaxis.set_ticklabels(['Real', 'Fake']);\n",
    "    fig.savefig(path)"
   ]
  },
  {
   "cell_type": "markdown",
   "id": "3ccbd3f1",
   "metadata": {},
   "source": [
    "***"
   ]
  },
  {
   "cell_type": "markdown",
   "id": "b83306eb",
   "metadata": {},
   "source": [
    "## Random Forest\n",
    "\n",
    "**Initialise Random Forest model and  fit using train data and save the model**"
   ]
  },
  {
   "cell_type": "code",
   "execution_count": 13,
   "id": "c3a9e34f",
   "metadata": {},
   "outputs": [
    {
     "name": "stdout",
     "output_type": "stream",
     "text": [
      "RandomForest - Completed\n"
     ]
    }
   ],
   "source": [
    "# Instantiate and fit a basic Random Forest model on top of the vectors\n",
    "from sklearn.ensemble import RandomForestClassifier\n",
    "rf = RandomForestClassifier(random_state=0)\n",
    "rf_model = rf.fit(X_train, y_train)\n",
    "\n",
    "import pickle\n",
    "# save the model to disk\n",
    "filename = 'outputs//isot_ml_bert//isot_ml_RF_bert.sav'\n",
    "pickle.dump(rf_model, open(filename, 'wb'))\n",
    "print('RandomForest - Completed')"
   ]
  },
  {
   "cell_type": "markdown",
   "id": "0bab246c",
   "metadata": {},
   "source": [
    "**Load the saved model and predict using test data and measure the accuracy metrics**"
   ]
  },
  {
   "cell_type": "code",
   "execution_count": 14,
   "id": "2a223a5b",
   "metadata": {},
   "outputs": [
    {
     "name": "stdout",
     "output_type": "stream",
     "text": [
      "Accuracy score : 0.9380715965508231\n",
      "Confusion matrix : \n",
      " [[3992  172]\n",
      " [ 302 3188]]\n",
      "Classification Report\n",
      "              precision    recall  f1-score   support\n",
      "\n",
      "           0       0.93      0.96      0.94      4164\n",
      "           1       0.95      0.91      0.93      3490\n",
      "\n",
      "    accuracy                           0.94      7654\n",
      "   macro avg       0.94      0.94      0.94      7654\n",
      "weighted avg       0.94      0.94      0.94      7654\n",
      "\n",
      "Precision : 0.9488095238095238\n",
      "Recall : 0.9134670487106017\n",
      "F1 Score : 0.9308029197080291\n"
     ]
    }
   ],
   "source": [
    "#Loading the model\n",
    "filename = 'outputs//isot_ml_bert//isot_ml_RF_bert.sav'\n",
    "\n",
    "rf_clf_tuned = pickle.load(open(filename, 'rb'))\n",
    "\n",
    "pred = rf_clf_tuned.predict(X_test)\n",
    "print(\"Accuracy score : {}\".format(accuracy_score(y_test, pred)))\n",
    "print(\"Confusion matrix : \\n {}\".format(confusion_matrix(y_test, pred)))\n",
    "print(\"Classification Report\")\n",
    "print(classification_report(y_test, pred))\n",
    "precision = precision_score(y_test, pred)\n",
    "print(\"Precision : {}\".format(precision))\n",
    "recall = recall_score(y_test, pred)\n",
    "print(\"Recall : {}\".format(recall))\n",
    "f1score = f1_score(y_test, pred)\n",
    "print(\"F1 Score : {}\".format(f1score))\n"
   ]
  },
  {
   "cell_type": "markdown",
   "id": "fe6cfcf8",
   "metadata": {},
   "source": [
    "**Save the classification report to csv**"
   ]
  },
  {
   "cell_type": "code",
   "execution_count": 15,
   "id": "2324033e",
   "metadata": {},
   "outputs": [
    {
     "data": {
      "text/html": [
       "<div>\n",
       "<style scoped>\n",
       "    .dataframe tbody tr th:only-of-type {\n",
       "        vertical-align: middle;\n",
       "    }\n",
       "\n",
       "    .dataframe tbody tr th {\n",
       "        vertical-align: top;\n",
       "    }\n",
       "\n",
       "    .dataframe thead th {\n",
       "        text-align: right;\n",
       "    }\n",
       "</style>\n",
       "<table border=\"1\" class=\"dataframe\">\n",
       "  <thead>\n",
       "    <tr style=\"text-align: right;\">\n",
       "      <th></th>\n",
       "      <th>precision</th>\n",
       "      <th>recall</th>\n",
       "      <th>f1-score</th>\n",
       "      <th>support</th>\n",
       "    </tr>\n",
       "  </thead>\n",
       "  <tbody>\n",
       "    <tr>\n",
       "      <th>0</th>\n",
       "      <td>0.929669</td>\n",
       "      <td>0.958694</td>\n",
       "      <td>0.943958</td>\n",
       "      <td>4164.000000</td>\n",
       "    </tr>\n",
       "    <tr>\n",
       "      <th>1</th>\n",
       "      <td>0.948810</td>\n",
       "      <td>0.913467</td>\n",
       "      <td>0.930803</td>\n",
       "      <td>3490.000000</td>\n",
       "    </tr>\n",
       "    <tr>\n",
       "      <th>accuracy</th>\n",
       "      <td>0.938072</td>\n",
       "      <td>0.938072</td>\n",
       "      <td>0.938072</td>\n",
       "      <td>0.938072</td>\n",
       "    </tr>\n",
       "    <tr>\n",
       "      <th>macro avg</th>\n",
       "      <td>0.939239</td>\n",
       "      <td>0.936080</td>\n",
       "      <td>0.937381</td>\n",
       "      <td>7654.000000</td>\n",
       "    </tr>\n",
       "    <tr>\n",
       "      <th>weighted avg</th>\n",
       "      <td>0.938397</td>\n",
       "      <td>0.938072</td>\n",
       "      <td>0.937960</td>\n",
       "      <td>7654.000000</td>\n",
       "    </tr>\n",
       "  </tbody>\n",
       "</table>\n",
       "</div>"
      ],
      "text/plain": [
       "              precision    recall  f1-score      support\n",
       "0              0.929669  0.958694  0.943958  4164.000000\n",
       "1              0.948810  0.913467  0.930803  3490.000000\n",
       "accuracy       0.938072  0.938072  0.938072     0.938072\n",
       "macro avg      0.939239  0.936080  0.937381  7654.000000\n",
       "weighted avg   0.938397  0.938072  0.937960  7654.000000"
      ]
     },
     "execution_count": 15,
     "metadata": {},
     "output_type": "execute_result"
    }
   ],
   "source": [
    "report=classification_report(y_test, pred, output_dict=True)\n",
    "df = pd.DataFrame(report).transpose()\n",
    "df.to_csv(\"outputs//isot_ml_bert//model_ISOT_RF_BERT_clasifctnrpt.csv\")\n",
    "df.head()"
   ]
  },
  {
   "cell_type": "markdown",
   "id": "630f9114",
   "metadata": {},
   "source": [
    "**Plot confusion matrix using the user defined functions created earlier**"
   ]
  },
  {
   "cell_type": "code",
   "execution_count": 17,
   "id": "7ff4dff6",
   "metadata": {},
   "outputs": [
    {
     "data": {
      "image/png": "[encoded data removed]",
      "text/plain": [
       "<Figure size 360x300 with 2 Axes>"
      ]
     },
     "metadata": {
      "needs_background": "light"
     },
     "output_type": "display_data"
    },
    {
     "data": {
      "image/png": "[encoded data removed]",
      "text/plain": [
       "<Figure size 360x300 with 2 Axes>"
      ]
     },
     "metadata": {},
     "output_type": "display_data"
    }
   ],
   "source": [
    "cm=confusion_matrix(y_test, pred)\n",
    "path1=\"outputs//isot_ml_bert//isot_ml_RF_bert_cmtrx.png\"\n",
    "path2=\"outputs//isot_ml_bert//isot_ml_RF_bert_ncmtrx.png\"\n",
    "confusn_mtrx_plot(cm,path1)\n",
    "norm_confusn_mtrx_plot(cm,path2)"
   ]
  },
  {
   "cell_type": "markdown",
   "id": "1457e97d",
   "metadata": {},
   "source": [
    "### Support Vector Machine"
   ]
  },
  {
   "cell_type": "markdown",
   "id": "19fed7f3",
   "metadata": {},
   "source": [
    "**Initialise the model and  fit using train data and save the model**"
   ]
  },
  {
   "cell_type": "code",
   "execution_count": 18,
   "id": "ae0716c4",
   "metadata": {},
   "outputs": [],
   "source": [
    "svm_clf=SVC(random_state=0,probability=True)"
   ]
  },
  {
   "cell_type": "code",
   "execution_count": 19,
   "id": "dd368ef9",
   "metadata": {},
   "outputs": [
    {
     "name": "stdout",
     "output_type": "stream",
     "text": [
      "SVM - Completed\n"
     ]
    }
   ],
   "source": [
    "svm_clf.fit(X_train, y_train)\n",
    "\n",
    "# save the model to disk\n",
    "filename = 'outputs//isot_ml_bert//isot_ml_SVM_bert.sav'\n",
    "pickle.dump(svm_clf, open(filename, 'wb'))\n",
    "print('SVM - Completed')"
   ]
  },
  {
   "cell_type": "markdown",
   "id": "c79e1d1b",
   "metadata": {},
   "source": [
    "**Load the saved model and predict using test data and measure the accuracy metrics**"
   ]
  },
  {
   "cell_type": "code",
   "execution_count": 20,
   "id": "66a86ac4",
   "metadata": {},
   "outputs": [
    {
     "name": "stdout",
     "output_type": "stream",
     "text": [
      "Accuracy score : 0.9760909328455709\n",
      "Confusion matrix : \n",
      " [[4089   75]\n",
      " [ 108 3382]]\n",
      "Classification Report\n",
      "              precision    recall  f1-score   support\n",
      "\n",
      "           0       0.97      0.98      0.98      4164\n",
      "           1       0.98      0.97      0.97      3490\n",
      "\n",
      "    accuracy                           0.98      7654\n",
      "   macro avg       0.98      0.98      0.98      7654\n",
      "weighted avg       0.98      0.98      0.98      7654\n",
      "\n",
      "Precision : 0.9783048886317617\n",
      "Recall : 0.969054441260745\n",
      "F1 Score : 0.9736576939686196\n"
     ]
    }
   ],
   "source": [
    "#Loading the model\n",
    "filename = 'outputs//isot_ml_bert//isot_ml_SVM_bert.sav'\n",
    "\n",
    "svm_clf_tuned = pickle.load(open(filename, 'rb'))\n",
    "\n",
    "pred = svm_clf_tuned.predict(X_test)\n",
    "print(\"Accuracy score : {}\".format(accuracy_score(y_test, pred)))\n",
    "print(\"Confusion matrix : \\n {}\".format(confusion_matrix(y_test, pred)))\n",
    "print(\"Classification Report\")\n",
    "print(classification_report(y_test, pred))\n",
    "precision = precision_score(y_test, pred)\n",
    "print(\"Precision : {}\".format(precision))\n",
    "recall = recall_score(y_test, pred)\n",
    "print(\"Recall : {}\".format(recall))\n",
    "f1score = f1_score(y_test, pred)\n",
    "print(\"F1 Score : {}\".format(f1score))\n"
   ]
  },
  {
   "cell_type": "markdown",
   "id": "1530d5f8",
   "metadata": {},
   "source": [
    "**Save the classification report to csv**"
   ]
  },
  {
   "cell_type": "code",
   "execution_count": 21,
   "id": "e6da9a9f",
   "metadata": {},
   "outputs": [
    {
     "data": {
      "text/html": [
       "<div>\n",
       "<style scoped>\n",
       "    .dataframe tbody tr th:only-of-type {\n",
       "        vertical-align: middle;\n",
       "    }\n",
       "\n",
       "    .dataframe tbody tr th {\n",
       "        vertical-align: top;\n",
       "    }\n",
       "\n",
       "    .dataframe thead th {\n",
       "        text-align: right;\n",
       "    }\n",
       "</style>\n",
       "<table border=\"1\" class=\"dataframe\">\n",
       "  <thead>\n",
       "    <tr style=\"text-align: right;\">\n",
       "      <th></th>\n",
       "      <th>precision</th>\n",
       "      <th>recall</th>\n",
       "      <th>f1-score</th>\n",
       "      <th>support</th>\n",
       "    </tr>\n",
       "  </thead>\n",
       "  <tbody>\n",
       "    <tr>\n",
       "      <th>0</th>\n",
       "      <td>0.974267</td>\n",
       "      <td>0.981988</td>\n",
       "      <td>0.978113</td>\n",
       "      <td>4164.000000</td>\n",
       "    </tr>\n",
       "    <tr>\n",
       "      <th>1</th>\n",
       "      <td>0.978305</td>\n",
       "      <td>0.969054</td>\n",
       "      <td>0.973658</td>\n",
       "      <td>3490.000000</td>\n",
       "    </tr>\n",
       "    <tr>\n",
       "      <th>accuracy</th>\n",
       "      <td>0.976091</td>\n",
       "      <td>0.976091</td>\n",
       "      <td>0.976091</td>\n",
       "      <td>0.976091</td>\n",
       "    </tr>\n",
       "    <tr>\n",
       "      <th>macro avg</th>\n",
       "      <td>0.976286</td>\n",
       "      <td>0.975521</td>\n",
       "      <td>0.975885</td>\n",
       "      <td>7654.000000</td>\n",
       "    </tr>\n",
       "    <tr>\n",
       "      <th>weighted avg</th>\n",
       "      <td>0.976108</td>\n",
       "      <td>0.976091</td>\n",
       "      <td>0.976081</td>\n",
       "      <td>7654.000000</td>\n",
       "    </tr>\n",
       "  </tbody>\n",
       "</table>\n",
       "</div>"
      ],
      "text/plain": [
       "              precision    recall  f1-score      support\n",
       "0              0.974267  0.981988  0.978113  4164.000000\n",
       "1              0.978305  0.969054  0.973658  3490.000000\n",
       "accuracy       0.976091  0.976091  0.976091     0.976091\n",
       "macro avg      0.976286  0.975521  0.975885  7654.000000\n",
       "weighted avg   0.976108  0.976091  0.976081  7654.000000"
      ]
     },
     "execution_count": 21,
     "metadata": {},
     "output_type": "execute_result"
    }
   ],
   "source": [
    "report=classification_report(y_test, pred, output_dict=True)\n",
    "df = pd.DataFrame(report).transpose()\n",
    "df.to_csv(\"outputs//isot_ml_bert//model_ISOT_SVM_BERT_clasifctnrpt.csv\")\n",
    "df.head()"
   ]
  },
  {
   "cell_type": "markdown",
   "id": "1a38fabe",
   "metadata": {},
   "source": [
    "**Plot confusion matrix using the user defined functions created earlier**"
   ]
  },
  {
   "cell_type": "code",
   "execution_count": 23,
   "id": "9c657cfa",
   "metadata": {
    "scrolled": true
   },
   "outputs": [
    {
     "data": {
      "image/png": "[encoded data removed]",
      "text/plain": [
       "<Figure size 360x300 with 2 Axes>"
      ]
     },
     "metadata": {},
     "output_type": "display_data"
    },
    {
     "data": {
      "image/png": "[encoded data removed]",
      "text/plain": [
       "<Figure size 360x300 with 2 Axes>"
      ]
     },
     "metadata": {},
     "output_type": "display_data"
    }
   ],
   "source": [
    "cm=confusion_matrix(y_test, pred)\n",
    "path1=\"outputs//isot_ml_bert//isot_ml_SVM_bert_cmtrx.png\"\n",
    "path2=\"outputs//isot_ml_bert//isot_ml_SVM_bert_ncmtrx.png\"\n",
    "confusn_mtrx_plot(cm,path1)\n",
    "norm_confusn_mtrx_plot(cm,path2)"
   ]
  },
  {
   "cell_type": "markdown",
   "id": "12664f9b",
   "metadata": {},
   "source": [
    "## KNN\n",
    "**Initialise the model and  fit using train data and save the model**"
   ]
  },
  {
   "cell_type": "code",
   "execution_count": 24,
   "id": "33653bfc",
   "metadata": {},
   "outputs": [],
   "source": [
    "#Create KNN Object.\n",
    "knn_clf = KNeighborsClassifier()"
   ]
  },
  {
   "cell_type": "code",
   "execution_count": 25,
   "id": "8ab8f50c",
   "metadata": {},
   "outputs": [
    {
     "name": "stdout",
     "output_type": "stream",
     "text": [
      "KNN - Completed\n"
     ]
    }
   ],
   "source": [
    "knn_clf.fit(X_train,y_train)\n",
    "\n",
    "# save the model to disk\n",
    "filename = 'outputs//isot_ml_bert//isot_ml_KNN_bert.sav'\n",
    "pickle.dump(svm_clf, open(filename, 'wb'))\n",
    "print('KNN - Completed')"
   ]
  },
  {
   "cell_type": "markdown",
   "id": "556ed13e",
   "metadata": {},
   "source": [
    "**Load the saved model and predict using test data and measure the accuracy metrics**"
   ]
  },
  {
   "cell_type": "code",
   "execution_count": 26,
   "id": "44ecdcf2",
   "metadata": {},
   "outputs": [
    {
     "name": "stdout",
     "output_type": "stream",
     "text": [
      "Accuracy score : 0.9760909328455709\n",
      "Confusion matrix : \n",
      " [[4089   75]\n",
      " [ 108 3382]]\n",
      "Classification Report\n",
      "              precision    recall  f1-score   support\n",
      "\n",
      "           0       0.97      0.98      0.98      4164\n",
      "           1       0.98      0.97      0.97      3490\n",
      "\n",
      "    accuracy                           0.98      7654\n",
      "   macro avg       0.98      0.98      0.98      7654\n",
      "weighted avg       0.98      0.98      0.98      7654\n",
      "\n",
      "Precision : 0.9783048886317617\n",
      "Recall : 0.969054441260745\n",
      "F1 Score : 0.9736576939686196\n"
     ]
    }
   ],
   "source": [
    "#Loading the model\n",
    "filename = 'outputs//isot_ml_bert//isot_ml_KNN_bert.sav'\n",
    "\n",
    "knn_clf_tuned = pickle.load(open(filename, 'rb'))\n",
    "\n",
    "pred = knn_clf_tuned.predict(X_test)\n",
    "print(\"Accuracy score : {}\".format(accuracy_score(y_test, pred)))\n",
    "print(\"Confusion matrix : \\n {}\".format(confusion_matrix(y_test, pred)))\n",
    "print(\"Classification Report\")\n",
    "print(classification_report(y_test, pred))\n",
    "precision = precision_score(y_test, pred)\n",
    "print(\"Precision : {}\".format(precision))\n",
    "recall = recall_score(y_test, pred)\n",
    "print(\"Recall : {}\".format(recall))\n",
    "f1score = f1_score(y_test, pred)\n",
    "print(\"F1 Score : {}\".format(f1score))\n"
   ]
  },
  {
   "cell_type": "markdown",
   "id": "bd5823ab",
   "metadata": {},
   "source": [
    "**Save the classification report to csv**"
   ]
  },
  {
   "cell_type": "code",
   "execution_count": 27,
   "id": "d9d1f916",
   "metadata": {},
   "outputs": [
    {
     "data": {
      "text/html": [
       "<div>\n",
       "<style scoped>\n",
       "    .dataframe tbody tr th:only-of-type {\n",
       "        vertical-align: middle;\n",
       "    }\n",
       "\n",
       "    .dataframe tbody tr th {\n",
       "        vertical-align: top;\n",
       "    }\n",
       "\n",
       "    .dataframe thead th {\n",
       "        text-align: right;\n",
       "    }\n",
       "</style>\n",
       "<table border=\"1\" class=\"dataframe\">\n",
       "  <thead>\n",
       "    <tr style=\"text-align: right;\">\n",
       "      <th></th>\n",
       "      <th>precision</th>\n",
       "      <th>recall</th>\n",
       "      <th>f1-score</th>\n",
       "      <th>support</th>\n",
       "    </tr>\n",
       "  </thead>\n",
       "  <tbody>\n",
       "    <tr>\n",
       "      <th>0</th>\n",
       "      <td>0.974267</td>\n",
       "      <td>0.981988</td>\n",
       "      <td>0.978113</td>\n",
       "      <td>4164.000000</td>\n",
       "    </tr>\n",
       "    <tr>\n",
       "      <th>1</th>\n",
       "      <td>0.978305</td>\n",
       "      <td>0.969054</td>\n",
       "      <td>0.973658</td>\n",
       "      <td>3490.000000</td>\n",
       "    </tr>\n",
       "    <tr>\n",
       "      <th>accuracy</th>\n",
       "      <td>0.976091</td>\n",
       "      <td>0.976091</td>\n",
       "      <td>0.976091</td>\n",
       "      <td>0.976091</td>\n",
       "    </tr>\n",
       "    <tr>\n",
       "      <th>macro avg</th>\n",
       "      <td>0.976286</td>\n",
       "      <td>0.975521</td>\n",
       "      <td>0.975885</td>\n",
       "      <td>7654.000000</td>\n",
       "    </tr>\n",
       "    <tr>\n",
       "      <th>weighted avg</th>\n",
       "      <td>0.976108</td>\n",
       "      <td>0.976091</td>\n",
       "      <td>0.976081</td>\n",
       "      <td>7654.000000</td>\n",
       "    </tr>\n",
       "  </tbody>\n",
       "</table>\n",
       "</div>"
      ],
      "text/plain": [
       "              precision    recall  f1-score      support\n",
       "0              0.974267  0.981988  0.978113  4164.000000\n",
       "1              0.978305  0.969054  0.973658  3490.000000\n",
       "accuracy       0.976091  0.976091  0.976091     0.976091\n",
       "macro avg      0.976286  0.975521  0.975885  7654.000000\n",
       "weighted avg   0.976108  0.976091  0.976081  7654.000000"
      ]
     },
     "execution_count": 27,
     "metadata": {},
     "output_type": "execute_result"
    }
   ],
   "source": [
    "report=classification_report(y_test, pred, output_dict=True)\n",
    "df = pd.DataFrame(report).transpose()\n",
    "df.to_csv(\"outputs//isot_ml_bert//model_ISOT_KNN_BERT_clasifctnrpt.csv\")\n",
    "df.head()"
   ]
  },
  {
   "cell_type": "markdown",
   "id": "d6bc036b",
   "metadata": {},
   "source": [
    "**Plot confusion matrix using the user defined functions created earlier**"
   ]
  },
  {
   "cell_type": "code",
   "execution_count": 29,
   "id": "5f5542e7",
   "metadata": {},
   "outputs": [
    {
     "data": {
      "image/png": "[encoded data removed]",
      "text/plain": [
       "<Figure size 360x300 with 2 Axes>"
      ]
     },
     "metadata": {},
     "output_type": "display_data"
    },
    {
     "data": {
      "image/png": "[encoded data removed]",
      "text/plain": [
       "<Figure size 360x300 with 2 Axes>"
      ]
     },
     "metadata": {},
     "output_type": "display_data"
    }
   ],
   "source": [
    "cm=confusion_matrix(y_test, pred)\n",
    "path1=\"outputs//isot_ml_bert//isot_ml_KNN_bert_cmtrx.png\"\n",
    "path2=\"outputs//isot_ml_bert//isot_ml_KNN_bert_ncmtrx.png\"\n",
    "confusn_mtrx_plot(cm,path1)\n",
    "norm_confusn_mtrx_plot(cm,path2)"
   ]
  },
  {
   "cell_type": "code",
   "execution_count": null,
   "id": "f25312c1",
   "metadata": {},
   "outputs": [],
   "source": []
  },
  {
   "cell_type": "markdown",
   "id": "1f878c31",
   "metadata": {},
   "source": [
    "### Xgboost\n",
    "**Initialise the model and  fit using train data and save the model**"
   ]
  },
  {
   "cell_type": "code",
   "execution_count": 30,
   "id": "7ac17299",
   "metadata": {},
   "outputs": [
    {
     "name": "stdout",
     "output_type": "stream",
     "text": [
      "XgBoost - Completed\n"
     ]
    }
   ],
   "source": [
    "#Create KNN Object.\n",
    "xg_clf=XGBClassifier(random_state=0)\n",
    "\n",
    "xg_clf.fit(X_train,y_train)\n",
    "\n",
    "# save the model to disk\n",
    "filename = 'outputs//isot_ml_bert//isot_ml_XG_bert.sav'\n",
    "pickle.dump(svm_clf, open(filename, 'wb'))\n",
    "print('XgBoost - Completed')"
   ]
  },
  {
   "cell_type": "markdown",
   "id": "bde465ac",
   "metadata": {},
   "source": [
    "**Load the saved model and predict using test data and measure the accuracy metrics**"
   ]
  },
  {
   "cell_type": "code",
   "execution_count": 31,
   "id": "8a2a4e10",
   "metadata": {},
   "outputs": [
    {
     "name": "stdout",
     "output_type": "stream",
     "text": [
      "Accuracy score : 0.9760909328455709\n",
      "Confusion matrix : \n",
      " [[4089   75]\n",
      " [ 108 3382]]\n",
      "Classification Report\n",
      "              precision    recall  f1-score   support\n",
      "\n",
      "           0       0.97      0.98      0.98      4164\n",
      "           1       0.98      0.97      0.97      3490\n",
      "\n",
      "    accuracy                           0.98      7654\n",
      "   macro avg       0.98      0.98      0.98      7654\n",
      "weighted avg       0.98      0.98      0.98      7654\n",
      "\n",
      "Precision : 0.9783048886317617\n",
      "Recall : 0.969054441260745\n",
      "F1 Score : 0.9736576939686196\n"
     ]
    }
   ],
   "source": [
    "#Loading the model\n",
    "filename = 'outputs//isot_ml_bert//isot_ml_XG_bert.sav'\n",
    "\n",
    "xg_clf_tuned = pickle.load(open(filename, 'rb'))\n",
    "\n",
    "pred = xg_clf_tuned.predict(X_test)\n",
    "print(\"Accuracy score : {}\".format(accuracy_score(y_test, pred)))\n",
    "print(\"Confusion matrix : \\n {}\".format(confusion_matrix(y_test, pred)))\n",
    "print(\"Classification Report\")\n",
    "print(classification_report(y_test, pred))\n",
    "precision = precision_score(y_test, pred)\n",
    "print(\"Precision : {}\".format(precision))\n",
    "recall = recall_score(y_test, pred)\n",
    "print(\"Recall : {}\".format(recall))\n",
    "f1score = f1_score(y_test, pred)\n",
    "print(\"F1 Score : {}\".format(f1score))\n"
   ]
  },
  {
   "cell_type": "markdown",
   "id": "6385a9a2",
   "metadata": {},
   "source": [
    "**Save the classification report to csv**"
   ]
  },
  {
   "cell_type": "code",
   "execution_count": 32,
   "id": "4dd16dfd",
   "metadata": {},
   "outputs": [
    {
     "data": {
      "text/html": [
       "<div>\n",
       "<style scoped>\n",
       "    .dataframe tbody tr th:only-of-type {\n",
       "        vertical-align: middle;\n",
       "    }\n",
       "\n",
       "    .dataframe tbody tr th {\n",
       "        vertical-align: top;\n",
       "    }\n",
       "\n",
       "    .dataframe thead th {\n",
       "        text-align: right;\n",
       "    }\n",
       "</style>\n",
       "<table border=\"1\" class=\"dataframe\">\n",
       "  <thead>\n",
       "    <tr style=\"text-align: right;\">\n",
       "      <th></th>\n",
       "      <th>precision</th>\n",
       "      <th>recall</th>\n",
       "      <th>f1-score</th>\n",
       "      <th>support</th>\n",
       "    </tr>\n",
       "  </thead>\n",
       "  <tbody>\n",
       "    <tr>\n",
       "      <th>0</th>\n",
       "      <td>0.974267</td>\n",
       "      <td>0.981988</td>\n",
       "      <td>0.978113</td>\n",
       "      <td>4164.000000</td>\n",
       "    </tr>\n",
       "    <tr>\n",
       "      <th>1</th>\n",
       "      <td>0.978305</td>\n",
       "      <td>0.969054</td>\n",
       "      <td>0.973658</td>\n",
       "      <td>3490.000000</td>\n",
       "    </tr>\n",
       "    <tr>\n",
       "      <th>accuracy</th>\n",
       "      <td>0.976091</td>\n",
       "      <td>0.976091</td>\n",
       "      <td>0.976091</td>\n",
       "      <td>0.976091</td>\n",
       "    </tr>\n",
       "    <tr>\n",
       "      <th>macro avg</th>\n",
       "      <td>0.976286</td>\n",
       "      <td>0.975521</td>\n",
       "      <td>0.975885</td>\n",
       "      <td>7654.000000</td>\n",
       "    </tr>\n",
       "    <tr>\n",
       "      <th>weighted avg</th>\n",
       "      <td>0.976108</td>\n",
       "      <td>0.976091</td>\n",
       "      <td>0.976081</td>\n",
       "      <td>7654.000000</td>\n",
       "    </tr>\n",
       "  </tbody>\n",
       "</table>\n",
       "</div>"
      ],
      "text/plain": [
       "              precision    recall  f1-score      support\n",
       "0              0.974267  0.981988  0.978113  4164.000000\n",
       "1              0.978305  0.969054  0.973658  3490.000000\n",
       "accuracy       0.976091  0.976091  0.976091     0.976091\n",
       "macro avg      0.976286  0.975521  0.975885  7654.000000\n",
       "weighted avg   0.976108  0.976091  0.976081  7654.000000"
      ]
     },
     "execution_count": 32,
     "metadata": {},
     "output_type": "execute_result"
    }
   ],
   "source": [
    "report=classification_report(y_test, pred, output_dict=True)\n",
    "df = pd.DataFrame(report).transpose()\n",
    "df.to_csv(\"outputs//isot_ml_bert//model_ISOT_XG_BERT_clasifctnrpt.csv\")\n",
    "df.head()"
   ]
  },
  {
   "cell_type": "markdown",
   "id": "f0e3c03e",
   "metadata": {},
   "source": [
    "**Plot confusion matrix using the user defined functions created earlier**"
   ]
  },
  {
   "cell_type": "code",
   "execution_count": 34,
   "id": "c66f261c",
   "metadata": {},
   "outputs": [
    {
     "data": {
      "image/png": "[encoded data removed]",
      "text/plain": [
       "<Figure size 360x300 with 2 Axes>"
      ]
     },
     "metadata": {},
     "output_type": "display_data"
    },
    {
     "data": {
      "image/png": "[encoded data removed]",
      "text/plain": [
       "<Figure size 360x300 with 2 Axes>"
      ]
     },
     "metadata": {},
     "output_type": "display_data"
    }
   ],
   "source": [
    "cm=confusion_matrix(y_test, pred)\n",
    "path1=\"outputs//isot_ml_bert//isot_ml_XG_bert_cmtrx.png\"\n",
    "path2=\"outputs//isot_ml_bert//isot_ml_XG_bert_ncmtrx.png\"\n",
    "confusn_mtrx_plot(cm,path1)\n",
    "norm_confusn_mtrx_plot(cm,path2)"
   ]
  },
  {
   "cell_type": "code",
   "execution_count": null,
   "id": "0d495198",
   "metadata": {},
   "outputs": [],
   "source": []
  },
  {
   "cell_type": "code",
   "execution_count": null,
   "id": "0a389a57",
   "metadata": {},
   "outputs": [],
   "source": []
  },
  {
   "cell_type": "markdown",
   "id": "3927128d",
   "metadata": {},
   "source": [
    "### Naive Bayes\n",
    "\n",
    "**Initialise the model and  fit using train data and save the model**"
   ]
  },
  {
   "cell_type": "code",
   "execution_count": 35,
   "id": "a3cb40fa",
   "metadata": {},
   "outputs": [
    {
     "name": "stdout",
     "output_type": "stream",
     "text": [
      "Naive Bayes - Completed\n"
     ]
    }
   ],
   "source": [
    "from sklearn.preprocessing import MinMaxScaler\n",
    "from sklearn.naive_bayes import GaussianNB\n",
    "nb_clf=GaussianNB()\n",
    "#p = Pipeline([('Normalizing',MinMaxScaler()),('MultinomialNB',MultinomialNB())])\n",
    "nb_clf.fit(X_train,y_train) \n",
    "\n",
    "# save the model to disk\n",
    "filename = 'outputs//isot_ml_bert//isot_ml_NB_bert.sav'\n",
    "pickle.dump(nb_clf, open(filename, 'wb'))\n",
    "print('Naive Bayes - Completed')"
   ]
  },
  {
   "cell_type": "markdown",
   "id": "dc3b1a06",
   "metadata": {},
   "source": [
    "**Load the saved model and predict using test data and measure the accuracy metrics**"
   ]
  },
  {
   "cell_type": "code",
   "execution_count": 36,
   "id": "d5b0eb18",
   "metadata": {},
   "outputs": [
    {
     "name": "stdout",
     "output_type": "stream",
     "text": [
      "Accuracy score : 0.9178207473216619\n",
      "Confusion matrix : \n",
      " [[3895  269]\n",
      " [ 360 3130]]\n",
      "Classification Report\n",
      "              precision    recall  f1-score   support\n",
      "\n",
      "           0       0.92      0.94      0.93      4164\n",
      "           1       0.92      0.90      0.91      3490\n",
      "\n",
      "    accuracy                           0.92      7654\n",
      "   macro avg       0.92      0.92      0.92      7654\n",
      "weighted avg       0.92      0.92      0.92      7654\n",
      "\n",
      "Precision : 0.9208590761988821\n",
      "Recall : 0.8968481375358166\n",
      "F1 Score : 0.9086950210480476\n"
     ]
    }
   ],
   "source": [
    "#Loading the model\n",
    "filename = 'outputs//isot_ml_bert//isot_ml_NB_bert.sav'\n",
    "\n",
    "nb_clf_tuned = pickle.load(open(filename, 'rb'))\n",
    "\n",
    "pred = nb_clf_tuned.predict(X_test)\n",
    "print(\"Accuracy score : {}\".format(accuracy_score(y_test, pred)))\n",
    "print(\"Confusion matrix : \\n {}\".format(confusion_matrix(y_test, pred)))\n",
    "print(\"Classification Report\")\n",
    "print(classification_report(y_test, pred))\n",
    "precision = precision_score(y_test, pred)\n",
    "print(\"Precision : {}\".format(precision))\n",
    "recall = recall_score(y_test, pred)\n",
    "print(\"Recall : {}\".format(recall))\n",
    "f1score = f1_score(y_test, pred)\n",
    "print(\"F1 Score : {}\".format(f1score))\n"
   ]
  },
  {
   "cell_type": "markdown",
   "id": "7ecca858",
   "metadata": {},
   "source": [
    "**Save the classification report to csv**"
   ]
  },
  {
   "cell_type": "code",
   "execution_count": 37,
   "id": "e6db544f",
   "metadata": {},
   "outputs": [
    {
     "data": {
      "text/html": [
       "<div>\n",
       "<style scoped>\n",
       "    .dataframe tbody tr th:only-of-type {\n",
       "        vertical-align: middle;\n",
       "    }\n",
       "\n",
       "    .dataframe tbody tr th {\n",
       "        vertical-align: top;\n",
       "    }\n",
       "\n",
       "    .dataframe thead th {\n",
       "        text-align: right;\n",
       "    }\n",
       "</style>\n",
       "<table border=\"1\" class=\"dataframe\">\n",
       "  <thead>\n",
       "    <tr style=\"text-align: right;\">\n",
       "      <th></th>\n",
       "      <th>precision</th>\n",
       "      <th>recall</th>\n",
       "      <th>f1-score</th>\n",
       "      <th>support</th>\n",
       "    </tr>\n",
       "  </thead>\n",
       "  <tbody>\n",
       "    <tr>\n",
       "      <th>0</th>\n",
       "      <td>0.915394</td>\n",
       "      <td>0.935399</td>\n",
       "      <td>0.925288</td>\n",
       "      <td>4164.000000</td>\n",
       "    </tr>\n",
       "    <tr>\n",
       "      <th>1</th>\n",
       "      <td>0.920859</td>\n",
       "      <td>0.896848</td>\n",
       "      <td>0.908695</td>\n",
       "      <td>3490.000000</td>\n",
       "    </tr>\n",
       "    <tr>\n",
       "      <th>accuracy</th>\n",
       "      <td>0.917821</td>\n",
       "      <td>0.917821</td>\n",
       "      <td>0.917821</td>\n",
       "      <td>0.917821</td>\n",
       "    </tr>\n",
       "    <tr>\n",
       "      <th>macro avg</th>\n",
       "      <td>0.918126</td>\n",
       "      <td>0.916123</td>\n",
       "      <td>0.916992</td>\n",
       "      <td>7654.000000</td>\n",
       "    </tr>\n",
       "    <tr>\n",
       "      <th>weighted avg</th>\n",
       "      <td>0.917886</td>\n",
       "      <td>0.917821</td>\n",
       "      <td>0.917722</td>\n",
       "      <td>7654.000000</td>\n",
       "    </tr>\n",
       "  </tbody>\n",
       "</table>\n",
       "</div>"
      ],
      "text/plain": [
       "              precision    recall  f1-score      support\n",
       "0              0.915394  0.935399  0.925288  4164.000000\n",
       "1              0.920859  0.896848  0.908695  3490.000000\n",
       "accuracy       0.917821  0.917821  0.917821     0.917821\n",
       "macro avg      0.918126  0.916123  0.916992  7654.000000\n",
       "weighted avg   0.917886  0.917821  0.917722  7654.000000"
      ]
     },
     "execution_count": 37,
     "metadata": {},
     "output_type": "execute_result"
    }
   ],
   "source": [
    "report=classification_report(y_test, pred, output_dict=True)\n",
    "df = pd.DataFrame(report).transpose()\n",
    "df.to_csv(\"outputs//isot_ml_bert//model_ISOT_NB_BERT_clasifctnrpt.csv\")\n",
    "df.head()"
   ]
  },
  {
   "cell_type": "markdown",
   "id": "5036fa3b",
   "metadata": {},
   "source": [
    "**Plot confusion matrix using the user defined functions created earlier**"
   ]
  },
  {
   "cell_type": "code",
   "execution_count": 39,
   "id": "5e471818",
   "metadata": {},
   "outputs": [
    {
     "data": {
      "image/png": "[encoded data removed]",
      "text/plain": [
       "<Figure size 360x300 with 2 Axes>"
      ]
     },
     "metadata": {},
     "output_type": "display_data"
    },
    {
     "data": {
      "image/png": "[encoded data removed]",
      "text/plain": [
       "<Figure size 360x300 with 2 Axes>"
      ]
     },
     "metadata": {},
     "output_type": "display_data"
    }
   ],
   "source": [
    "cm=confusion_matrix(y_test, pred)\n",
    "path1=\"outputs//isot_ml_bert//isot_ml_NB_bert_cmtrx.png\"\n",
    "path2=\"outputs//isot_ml_bert//isot_ml_NB_bert_ncmtrx.png\"\n",
    "confusn_mtrx_plot(cm,path1)\n",
    "norm_confusn_mtrx_plot(cm,path2)"
   ]
  },
  {
   "cell_type": "code",
   "execution_count": null,
   "id": "3b041f46",
   "metadata": {},
   "outputs": [],
   "source": []
  },
  {
   "cell_type": "markdown",
   "id": "134d989f",
   "metadata": {},
   "source": [
    "### Logistic Regression\n",
    "\n",
    "**Initialise the model and  fit using train data and save the model**"
   ]
  },
  {
   "cell_type": "code",
   "execution_count": 40,
   "id": "1ad9f939",
   "metadata": {},
   "outputs": [],
   "source": [
    "from sklearn.linear_model import LogisticRegression"
   ]
  },
  {
   "cell_type": "code",
   "execution_count": 41,
   "id": "1f69ee08",
   "metadata": {},
   "outputs": [
    {
     "name": "stdout",
     "output_type": "stream",
     "text": [
      "Logistic Regression - Completed\n"
     ]
    }
   ],
   "source": [
    "logticreg_clf=LogisticRegression()\n",
    "\n",
    "logticreg_clf.fit(X_train,y_train)\n",
    "\n",
    "# save the model to disk\n",
    "filename = 'outputs//isot_ml_bert//isot_ml_LR_bert.sav'\n",
    "pickle.dump(nb_clf, open(filename, 'wb'))\n",
    "print('Logistic Regression - Completed')"
   ]
  },
  {
   "cell_type": "markdown",
   "id": "fc504a43",
   "metadata": {},
   "source": [
    "**Load the saved model and predict using test data and measure the accuracy metrics**"
   ]
  },
  {
   "cell_type": "code",
   "execution_count": 42,
   "id": "34275bdc",
   "metadata": {},
   "outputs": [
    {
     "name": "stdout",
     "output_type": "stream",
     "text": [
      "Accuracy score : 0.9178207473216619\n",
      "Confusion matrix : \n",
      " [[3895  269]\n",
      " [ 360 3130]]\n",
      "Classification Report\n",
      "              precision    recall  f1-score   support\n",
      "\n",
      "           0       0.92      0.94      0.93      4164\n",
      "           1       0.92      0.90      0.91      3490\n",
      "\n",
      "    accuracy                           0.92      7654\n",
      "   macro avg       0.92      0.92      0.92      7654\n",
      "weighted avg       0.92      0.92      0.92      7654\n",
      "\n",
      "Precision : 0.9208590761988821\n",
      "Recall : 0.8968481375358166\n",
      "F1 Score : 0.9086950210480476\n"
     ]
    }
   ],
   "source": [
    "#Loading the model\n",
    "filename = 'outputs//isot_ml_bert//isot_ml_LR_bert.sav'\n",
    "\n",
    "lr_clf_tuned = pickle.load(open(filename, 'rb'))\n",
    "\n",
    "pred = lr_clf_tuned.predict(X_test)\n",
    "print(\"Accuracy score : {}\".format(accuracy_score(y_test, pred)))\n",
    "print(\"Confusion matrix : \\n {}\".format(confusion_matrix(y_test, pred)))\n",
    "print(\"Classification Report\")\n",
    "print(classification_report(y_test, pred))\n",
    "precision = precision_score(y_test, pred)\n",
    "print(\"Precision : {}\".format(precision))\n",
    "recall = recall_score(y_test, pred)\n",
    "print(\"Recall : {}\".format(recall))\n",
    "f1score = f1_score(y_test, pred)\n",
    "print(\"F1 Score : {}\".format(f1score))\n"
   ]
  },
  {
   "cell_type": "markdown",
   "id": "18dc1b94",
   "metadata": {},
   "source": [
    "**Save the classification report to csv**"
   ]
  },
  {
   "cell_type": "code",
   "execution_count": 43,
   "id": "fd177b42",
   "metadata": {},
   "outputs": [
    {
     "data": {
      "text/html": [
       "<div>\n",
       "<style scoped>\n",
       "    .dataframe tbody tr th:only-of-type {\n",
       "        vertical-align: middle;\n",
       "    }\n",
       "\n",
       "    .dataframe tbody tr th {\n",
       "        vertical-align: top;\n",
       "    }\n",
       "\n",
       "    .dataframe thead th {\n",
       "        text-align: right;\n",
       "    }\n",
       "</style>\n",
       "<table border=\"1\" class=\"dataframe\">\n",
       "  <thead>\n",
       "    <tr style=\"text-align: right;\">\n",
       "      <th></th>\n",
       "      <th>precision</th>\n",
       "      <th>recall</th>\n",
       "      <th>f1-score</th>\n",
       "      <th>support</th>\n",
       "    </tr>\n",
       "  </thead>\n",
       "  <tbody>\n",
       "    <tr>\n",
       "      <th>0</th>\n",
       "      <td>0.915394</td>\n",
       "      <td>0.935399</td>\n",
       "      <td>0.925288</td>\n",
       "      <td>4164.000000</td>\n",
       "    </tr>\n",
       "    <tr>\n",
       "      <th>1</th>\n",
       "      <td>0.920859</td>\n",
       "      <td>0.896848</td>\n",
       "      <td>0.908695</td>\n",
       "      <td>3490.000000</td>\n",
       "    </tr>\n",
       "    <tr>\n",
       "      <th>accuracy</th>\n",
       "      <td>0.917821</td>\n",
       "      <td>0.917821</td>\n",
       "      <td>0.917821</td>\n",
       "      <td>0.917821</td>\n",
       "    </tr>\n",
       "    <tr>\n",
       "      <th>macro avg</th>\n",
       "      <td>0.918126</td>\n",
       "      <td>0.916123</td>\n",
       "      <td>0.916992</td>\n",
       "      <td>7654.000000</td>\n",
       "    </tr>\n",
       "    <tr>\n",
       "      <th>weighted avg</th>\n",
       "      <td>0.917886</td>\n",
       "      <td>0.917821</td>\n",
       "      <td>0.917722</td>\n",
       "      <td>7654.000000</td>\n",
       "    </tr>\n",
       "  </tbody>\n",
       "</table>\n",
       "</div>"
      ],
      "text/plain": [
       "              precision    recall  f1-score      support\n",
       "0              0.915394  0.935399  0.925288  4164.000000\n",
       "1              0.920859  0.896848  0.908695  3490.000000\n",
       "accuracy       0.917821  0.917821  0.917821     0.917821\n",
       "macro avg      0.918126  0.916123  0.916992  7654.000000\n",
       "weighted avg   0.917886  0.917821  0.917722  7654.000000"
      ]
     },
     "execution_count": 43,
     "metadata": {},
     "output_type": "execute_result"
    }
   ],
   "source": [
    "report=classification_report(y_test, pred, output_dict=True)\n",
    "df = pd.DataFrame(report).transpose()\n",
    "df.to_csv(\"outputs//isot_ml_bert//model_ISOT_LR_BERT_clasifctnrpt.csv\")\n",
    "df.head()"
   ]
  },
  {
   "cell_type": "markdown",
   "id": "c6cd3504",
   "metadata": {},
   "source": [
    "**Plot confusion matrix using the user defined functions created earlier**"
   ]
  },
  {
   "cell_type": "code",
   "execution_count": 45,
   "id": "b530289a",
   "metadata": {},
   "outputs": [
    {
     "data": {
      "image/png": "[encoded data removed]",
      "text/plain": [
       "<Figure size 360x300 with 2 Axes>"
      ]
     },
     "metadata": {},
     "output_type": "display_data"
    },
    {
     "data": {
      "image/png": "[encoded data removed]",
      "text/plain": [
       "<Figure size 360x300 with 2 Axes>"
      ]
     },
     "metadata": {},
     "output_type": "display_data"
    }
   ],
   "source": [
    "cm=confusion_matrix(y_test, pred)\n",
    "path1=\"outputs//isot_ml_bert//isot_ml_LR_bert_cmtrx.png\"\n",
    "path2=\"outputs//isot_ml_bert//isot_ml_LR_bert_ncmtrx.png\"\n",
    "confusn_mtrx_plot(cm,path1)\n",
    "norm_confusn_mtrx_plot(cm,path2)"
   ]
  },
  {
   "cell_type": "code",
   "execution_count": null,
   "id": "8bd90865",
   "metadata": {},
   "outputs": [],
   "source": []
  },
  {
   "cell_type": "markdown",
   "id": "0315f482",
   "metadata": {},
   "source": [
    "### ROC AUC Curve plot based on the scores of all the algorithms"
   ]
  },
  {
   "cell_type": "code",
   "execution_count": 47,
   "id": "fd9ee467",
   "metadata": {},
   "outputs": [
    {
     "data": {
      "image/png": "[encoded data removed]",
      "text/plain": [
       "<Figure size 360x300 with 1 Axes>"
      ]
     },
     "metadata": {},
     "output_type": "display_data"
    }
   ],
   "source": [
    "#set up plotting area\n",
    "fig = plt.figure(figsize=(6, 5), dpi=60)\n",
    "ax = plt.subplot()\n",
    "#fit RF model and plot ROC curve\n",
    "\n",
    "y_pred = rf_clf_tuned.predict_proba(X_test)[:, 1]\n",
    "fpr, tpr, _ = roc_curve(y_test, y_pred)\n",
    "auc = round(roc_auc_score(y_test, y_pred), 4)\n",
    "plt.plot(fpr,tpr,label=\"Random Forest, AUC=\"+str(auc))\n",
    "\n",
    "#fit Logistic model and plot ROC curve\n",
    "\n",
    "y_pred = lr_clf_tuned.predict_proba(X_test)[:, 1]\n",
    "fpr, tpr, _ = roc_curve(y_test, y_pred)\n",
    "auc = round(roc_auc_score(y_test, y_pred), 4)\n",
    "plt.plot(fpr,tpr,label=\"Logistic, AUC=\"+str(auc))\n",
    "\n",
    "\n",
    "#fit SVM model and plot ROC curve\n",
    "\n",
    "y_pred = svm_clf_tuned.predict_proba(X_test)[:, 1]\n",
    "fpr, tpr, _ = roc_curve(y_test, y_pred)\n",
    "auc = round(roc_auc_score(y_test, y_pred), 4)\n",
    "plt.plot(fpr,tpr,label=\"SVM, AUC=\"+str(auc))\n",
    "\n",
    "\n",
    "#fit KNN model and plot ROC curve\n",
    "\n",
    "\n",
    "y_pred = knn_clf_tuned.predict_proba(X_test)[:, 1]\n",
    "fpr, tpr, _ = roc_curve(y_test, y_pred)\n",
    "auc = round(roc_auc_score(y_test, y_pred), 4)\n",
    "plt.plot(fpr,tpr,label=\"KNN, AUC=\"+str(auc))\n",
    "\n",
    "#fit Naive Bayes model and plot ROC curve\n",
    "\n",
    "y_pred = nb_clf_tuned.predict_proba(X_test)[:, 1]\n",
    "fpr, tpr, _ = roc_curve(y_test, y_pred)\n",
    "auc = round(roc_auc_score(y_test, y_pred), 4)\n",
    "plt.plot(fpr,tpr,label=\"Naive Bayes, AUC=\"+str(auc))\n",
    "\n",
    "#fit Xgboost model and plot ROC curve\n",
    "\n",
    "y_pred = xg_clf_tuned.predict_proba(X_test)[:, 1]\n",
    "fpr, tpr, _ = roc_curve(y_test, y_pred)\n",
    "auc = round(roc_auc_score(y_test, y_pred), 4)\n",
    "plt.plot(fpr,tpr,label=\"Xgboost, AUC=\"+str(auc))\n",
    "\n",
    "#add legend\n",
    "plt.legend()\n",
    "fig.savefig(\"outputs//isot_ml_bert//ROC_AUC.png\")"
   ]
  },
  {
   "cell_type": "code",
   "execution_count": null,
   "id": "a3c22d2c",
   "metadata": {},
   "outputs": [],
   "source": []
  },
  {
   "cell_type": "markdown",
   "id": "0065cc84",
   "metadata": {},
   "source": [
    "### Consolidating all classifiers accuracy scores"
   ]
  },
  {
   "cell_type": "code",
   "execution_count": 48,
   "id": "436316f3",
   "metadata": {},
   "outputs": [],
   "source": [
    "classifiers = [('Logistic Regression',lr_clf_tuned),('Naive Bayes',nb_clf_tuned),('Xgboost',xg_clf_tuned),\n",
    "              ('KNN',knn_clf_tuned),('Random Forest',rf_clf_tuned),(\"SVM\",svm_clf_tuned)]"
   ]
  },
  {
   "cell_type": "code",
   "execution_count": 49,
   "id": "7df3657c",
   "metadata": {},
   "outputs": [
    {
     "data": {
      "text/html": [
       "<div>\n",
       "<style scoped>\n",
       "    .dataframe tbody tr th:only-of-type {\n",
       "        vertical-align: middle;\n",
       "    }\n",
       "\n",
       "    .dataframe tbody tr th {\n",
       "        vertical-align: top;\n",
       "    }\n",
       "\n",
       "    .dataframe thead th {\n",
       "        text-align: right;\n",
       "    }\n",
       "</style>\n",
       "<table border=\"1\" class=\"dataframe\">\n",
       "  <thead>\n",
       "    <tr style=\"text-align: right;\">\n",
       "      <th></th>\n",
       "      <th>Accuracy</th>\n",
       "      <th>Precision</th>\n",
       "      <th>Recall</th>\n",
       "      <th>F1 Score</th>\n",
       "      <th>roc_auc_score</th>\n",
       "    </tr>\n",
       "  </thead>\n",
       "  <tbody>\n",
       "    <tr>\n",
       "      <th>Xgboost</th>\n",
       "      <td>0.976091</td>\n",
       "      <td>0.98</td>\n",
       "      <td>0.969054</td>\n",
       "      <td>0.97</td>\n",
       "      <td>0.997531</td>\n",
       "    </tr>\n",
       "    <tr>\n",
       "      <th>KNN</th>\n",
       "      <td>0.976091</td>\n",
       "      <td>0.98</td>\n",
       "      <td>0.969054</td>\n",
       "      <td>0.97</td>\n",
       "      <td>0.997531</td>\n",
       "    </tr>\n",
       "    <tr>\n",
       "      <th>SVM</th>\n",
       "      <td>0.976091</td>\n",
       "      <td>0.98</td>\n",
       "      <td>0.969054</td>\n",
       "      <td>0.97</td>\n",
       "      <td>0.997531</td>\n",
       "    </tr>\n",
       "    <tr>\n",
       "      <th>Random Forest</th>\n",
       "      <td>0.938072</td>\n",
       "      <td>0.94</td>\n",
       "      <td>0.913467</td>\n",
       "      <td>0.93</td>\n",
       "      <td>0.984804</td>\n",
       "    </tr>\n",
       "    <tr>\n",
       "      <th>Logistic Regression</th>\n",
       "      <td>0.917821</td>\n",
       "      <td>0.92</td>\n",
       "      <td>0.896848</td>\n",
       "      <td>0.91</td>\n",
       "      <td>0.968778</td>\n",
       "    </tr>\n",
       "    <tr>\n",
       "      <th>Naive Bayes</th>\n",
       "      <td>0.917821</td>\n",
       "      <td>0.92</td>\n",
       "      <td>0.896848</td>\n",
       "      <td>0.91</td>\n",
       "      <td>0.968778</td>\n",
       "    </tr>\n",
       "  </tbody>\n",
       "</table>\n",
       "</div>"
      ],
      "text/plain": [
       "                     Accuracy  Precision    Recall  F1 Score  roc_auc_score\n",
       "Xgboost              0.976091       0.98  0.969054      0.97       0.997531\n",
       "KNN                  0.976091       0.98  0.969054      0.97       0.997531\n",
       "SVM                  0.976091       0.98  0.969054      0.97       0.997531\n",
       "Random Forest        0.938072       0.94  0.913467      0.93       0.984804\n",
       "Logistic Regression  0.917821       0.92  0.896848      0.91       0.968778\n",
       "Naive Bayes          0.917821       0.92  0.896848      0.91       0.968778"
      ]
     },
     "execution_count": 49,
     "metadata": {},
     "output_type": "execute_result"
    }
   ],
   "source": [
    "df_model_scores=model_comparison_table(X_test,y_test,classifiers)\n",
    "df_model_scores.head(20).T.sort_values(by='Accuracy', ascending=False)"
   ]
  },
  {
   "cell_type": "code",
   "execution_count": 50,
   "id": "ca4dafcf",
   "metadata": {},
   "outputs": [],
   "source": [
    "df_model_scores.to_csv(\"outputs//isot_ml_bert/comparison_scores.csv\")"
   ]
  },
  {
   "cell_type": "code",
   "execution_count": null,
   "id": "430da1fc",
   "metadata": {},
   "outputs": [],
   "source": []
  },
  {
   "cell_type": "code",
   "execution_count": null,
   "id": "f818983f",
   "metadata": {},
   "outputs": [],
   "source": []
  },
  {
   "cell_type": "code",
   "execution_count": null,
   "id": "4ad1beb3",
   "metadata": {},
   "outputs": [],
   "source": []
  }
 ],
 "metadata": {
  "kernelspec": {
   "display_name": "Python 3 (ipykernel)",
   "language": "python",
   "name": "python3"
  },
  "language_info": {
   "codemirror_mode": {
    "name": "ipython",
    "version": 3
   },
   "file_extension": ".py",
   "mimetype": "text/x-python",
   "name": "python",
   "nbconvert_exporter": "python",
   "pygments_lexer": "ipython3",
   "version": "3.7.0"
  }
 },
 "nbformat": 4,
 "nbformat_minor": 5
}
