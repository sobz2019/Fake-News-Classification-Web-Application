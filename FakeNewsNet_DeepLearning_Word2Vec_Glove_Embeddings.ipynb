{
 "cells": [
  {
   "cell_type": "code",
   "execution_count": 1,
   "id": "0993a9af",
   "metadata": {},
   "outputs": [
    {
     "name": "stderr",
     "output_type": "stream",
     "text": [
      "2022-06-19 20:33:35.234064: I tensorflow/core/util/util.cc:169] oneDNN custom operations are on. You may see slightly different numerical results due to floating-point round-off errors from different computation orders. To turn them off, set the environment variable `TF_ENABLE_ONEDNN_OPTS=0`.\n",
      "2022-06-19 20:33:36.041916: W tensorflow/stream_executor/platform/default/dso_loader.cc:64] Could not load dynamic library 'libcudart.so.11.0'; dlerror: libcudart.so.11.0: cannot open shared object file: No such file or directory; LD_LIBRARY_PATH: /gpfs/software/ada/python/anaconda/2020.11/3.8/lib:/gpfs/software/ada/cuda/10.2.89/lib64:/gpfs/software/ada/cuda/10.2.89/lib/lib64\n",
      "2022-06-19 20:33:36.041977: I tensorflow/stream_executor/cuda/cudart_stub.cc:29] Ignore above cudart dlerror if you do not have a GPU set up on your machine.\n",
      "[nltk_data] Downloading package omw-1.4 to\n",
      "[nltk_data]     /gpfs/home/psc21zcu/nltk_data...\n",
      "[nltk_data]   Package omw-1.4 is already up-to-date!\n",
      "[nltk_data] Downloading package stopwords to\n",
      "[nltk_data]     /gpfs/home/psc21zcu/nltk_data...\n",
      "[nltk_data]   Package stopwords is already up-to-date!\n",
      "[nltk_data] Downloading package punkt to\n",
      "[nltk_data]     /gpfs/home/psc21zcu/nltk_data...\n",
      "[nltk_data]   Package punkt is already up-to-date!\n",
      "[nltk_data] Downloading package averaged_perceptron_tagger to\n",
      "[nltk_data]     /gpfs/home/psc21zcu/nltk_data...\n",
      "[nltk_data]   Package averaged_perceptron_tagger is already up-to-\n",
      "[nltk_data]       date!\n",
      "[nltk_data] Downloading package wordnet to\n",
      "[nltk_data]     /gpfs/home/psc21zcu/nltk_data...\n",
      "[nltk_data]   Package wordnet is already up-to-date!\n"
     ]
    }
   ],
   "source": [
    "import numpy as np\n",
    "import pandas as pd\n",
    "import warnings\n",
    "%matplotlib inline\n",
    "import matplotlib.pyplot as plt\n",
    "import seaborn as sns\n",
    "import glob\n",
    "import json\n",
    "import tensorflow_hub as hub\n",
    "import tensorflow_text\n",
    "import tldextract  \n",
    "import warnings\n",
    "warnings.filterwarnings('ignore')\n",
    "\n",
    "from bs4 import BeautifulSoup\n",
    "from sklearn.model_selection import train_test_split,StratifiedKFold,RandomizedSearchCV\n",
    "from sklearn.metrics import classification_report,confusion_matrix,accuracy_score,roc_curve, roc_auc_score,f1_score,precision_score, recall_score\n",
    "from sklearn.feature_extraction.text import TfidfVectorizer,CountVectorizer\n",
    "from imblearn.over_sampling import SMOTE,ADASYN\n",
    "from sklearn.pipeline import Pipeline\n",
    "from sklearn.ensemble import RandomForestClassifier\n",
    "from sklearn.svm import SVC\n",
    "from sklearn.neighbors import KNeighborsClassifier\n",
    "from sklearn.naive_bayes import GaussianNB,MultinomialNB\n",
    "from xgboost import XGBClassifier\n",
    "from sklearn.linear_model import LogisticRegression\n",
    "import re\n",
    "\n",
    "from collections import Counter\n",
    "import nltk \n",
    "import spacy\n",
    "nltk.download('omw-1.4')\n",
    "nltk.download('stopwords')\n",
    "nltk.download('punkt')\n",
    "nltk.download('averaged_perceptron_tagger')\n",
    "nltk.download('wordnet')\n",
    "\n",
    "from wordcloud import WordCloud, ImageColorGenerator,STOPWORDS\n",
    "import gensim\n",
    "from gensim.parsing.preprocessing import STOPWORDS as gensim_stopwords\n",
    "import copy\n",
    "from nltk.stem import PorterStemmer\n",
    "from nltk.corpus import stopwords,wordnet\n",
    "from nltk.tokenize import word_tokenize\n",
    "from nltk.stem import WordNetLemmatizer,LancasterStemmer\n",
    "from pprint import pprint\n",
    "\n",
    "\n",
    "import tensorflow as tf\n",
    "import bert\n",
    "from tensorflow.keras.models import  Model\n",
    "from tqdm import tqdm\n",
    "import tensorflow_hub as hub\n",
    "from tensorflow.keras.models import Sequential\n",
    "from tensorflow.keras import layers\n",
    "from tensorflow.keras.preprocessing.text import Tokenizer\n",
    "from tensorflow.keras.preprocessing.sequence import pad_sequences\n",
    "from tensorflow.keras.wrappers.scikit_learn import KerasClassifier\n",
    "from tensorflow.keras.layers import Dense, Dropout, Activation,Embedding,Flatten,LSTM,Bidirectional\n",
    "from tensorflow.keras.layers import Reshape,Conv1D, MaxPooling1D, Concatenate,BatchNormalization,GlobalMaxPooling1D\n",
    "from tensorflow.keras.callbacks import ModelCheckpoint,EarlyStopping\n",
    "from keras.backend import clear_session\n",
    "\n",
    "\n",
    "\n",
    "pd.set_option('display.max_rows', 500)\n",
    "pd.set_option('display.max_columns', 500)\n",
    "pd.set_option('display.width', 1000)\n",
    "pd.set_option('display.expand_frame_repr', False)\n",
    "pd.set_option('display.max_colwidth', 200)\n",
    "\n",
    "import warnings\n",
    "warnings.filterwarnings('ignore')"
   ]
  },
  {
   "cell_type": "markdown",
   "id": "3f8dac95",
   "metadata": {},
   "source": [
    "### Loading the Full prepared dataset  cleaned data using nltk library- FakeNewsNet"
   ]
  },
  {
   "cell_type": "code",
   "execution_count": 2,
   "id": "2fd6b362",
   "metadata": {},
   "outputs": [],
   "source": [
    "#creating a data frame\n",
    "df = pd.read_csv(\"Updated//full_dataset.csv\")"
   ]
  },
  {
   "cell_type": "code",
   "execution_count": 3,
   "id": "063b675d",
   "metadata": {},
   "outputs": [],
   "source": [
    "df = df[df['fulltext'].notna()]"
   ]
  },
  {
   "cell_type": "code",
   "execution_count": 4,
   "id": "6b6dc9a0",
   "metadata": {},
   "outputs": [
    {
     "data": {
      "text/plain": [
       "(20362, 9)"
      ]
     },
     "execution_count": 4,
     "metadata": {},
     "output_type": "execute_result"
    }
   ],
   "source": [
    "df.shape"
   ]
  },
  {
   "cell_type": "code",
   "execution_count": 5,
   "id": "09d52fed",
   "metadata": {},
   "outputs": [
    {
     "data": {
      "text/plain": [
       "0"
      ]
     },
     "execution_count": 5,
     "metadata": {},
     "output_type": "execute_result"
    }
   ],
   "source": [
    "df['fulltext'].isnull().sum()"
   ]
  },
  {
   "cell_type": "code",
   "execution_count": 6,
   "id": "afa6fb29",
   "metadata": {},
   "outputs": [],
   "source": [
    "## Shuffling the rows\n",
    "df = df.sample(frac=1).reset_index(drop=True)"
   ]
  },
  {
   "cell_type": "code",
   "execution_count": 7,
   "id": "7e0bf0ff",
   "metadata": {},
   "outputs": [],
   "source": [
    "# Clean data using the built in cleaner in gensim\n",
    "df['cleantext'] = df['fulltext'].apply(lambda x: gensim.utils.simple_preprocess(x))\n",
    "#df.head(1)"
   ]
  },
  {
   "cell_type": "code",
   "execution_count": 8,
   "id": "38387feb",
   "metadata": {},
   "outputs": [],
   "source": [
    "X=df['cleantext']\n",
    "y=df['class']"
   ]
  },
  {
   "cell_type": "markdown",
   "id": "8d564fda",
   "metadata": {},
   "source": [
    "### Train and Test Split"
   ]
  },
  {
   "cell_type": "code",
   "execution_count": 9,
   "id": "0ebfe54f",
   "metadata": {},
   "outputs": [],
   "source": [
    "X_train, X_test, y_train, y_test = train_test_split(X, y, test_size=0.2,stratify=y, random_state=0)"
   ]
  },
  {
   "cell_type": "code",
   "execution_count": 10,
   "id": "4a2da72b",
   "metadata": {},
   "outputs": [
    {
     "name": "stdout",
     "output_type": "stream",
     "text": [
      "17351\n"
     ]
    }
   ],
   "source": [
    "# now since we will have to pad we need to find the maximum lenght of any document.\n",
    "\n",
    "maxi=-1\n",
    "for i,sent in enumerate(df['cleantext']):\n",
    "    if(len(sent)>maxi):\n",
    "        maxi=len(sent)\n",
    "print(maxi)"
   ]
  },
  {
   "cell_type": "code",
   "execution_count": 11,
   "id": "b25ceca6",
   "metadata": {},
   "outputs": [
    {
     "name": "stdout",
     "output_type": "stream",
     "text": [
      "Maximum Length of the sequence :  17351\n"
     ]
    }
   ],
   "source": [
    "print(\"Maximum Length of the sequence : \",maxi)"
   ]
  },
  {
   "cell_type": "markdown",
   "id": "932e124f",
   "metadata": {},
   "source": [
    "#### Now we integer encode the words in the reviews using Keras tokenizer."
   ]
  },
  {
   "cell_type": "code",
   "execution_count": 12,
   "id": "8212583c",
   "metadata": {},
   "outputs": [],
   "source": [
    "tokenzr = Tokenizer()"
   ]
  },
  {
   "cell_type": "code",
   "execution_count": null,
   "id": "867ae5c5",
   "metadata": {},
   "outputs": [],
   "source": [
    "tokenzr.fit_on_texts(X_train)\n",
    "vocab_size = len(tokenzr.word_index) + 1\n",
    "encd_train = tokenzr.texts_to_sequences(X_train)"
   ]
  },
  {
   "cell_type": "code",
   "execution_count": null,
   "id": "045a9ba6",
   "metadata": {},
   "outputs": [],
   "source": [
    "encd_test = tokenzr.texts_to_sequences(X_test)"
   ]
  },
  {
   "cell_type": "markdown",
   "id": "26a29eba",
   "metadata": {},
   "source": [
    "##### Configuration Setting"
   ]
  },
  {
   "cell_type": "code",
   "execution_count": null,
   "id": "00d24426",
   "metadata": {},
   "outputs": [],
   "source": [
    "print(len(tokenzr.word_index))"
   ]
  },
  {
   "cell_type": "code",
   "execution_count": null,
   "id": "51aad461",
   "metadata": {},
   "outputs": [],
   "source": [
    "maxi=10000  # max lenght of a review\n",
    "vocab_size = len(tokenzr.word_index) + 1  # total no of words\n",
    "embed_dim=300 # embedding dimension as choosen in word2vec constructor"
   ]
  },
  {
   "cell_type": "code",
   "execution_count": null,
   "id": "f75db92a",
   "metadata": {},
   "outputs": [],
   "source": [
    "# now padding to have a maximum length of 17351\n",
    "pad_train= pad_sequences(encd_train, maxlen=maxi, padding='post')\n",
    "pad_train.shape   "
   ]
  },
  {
   "cell_type": "code",
   "execution_count": null,
   "id": "22873047",
   "metadata": {},
   "outputs": [],
   "source": [
    "# now padding to have a maximum length of 1565\n",
    "pad_test= pad_sequences(encd_test, maxlen=maxi, padding='post')\n",
    "pad_test.shape"
   ]
  },
  {
   "cell_type": "markdown",
   "id": "bafb2369",
   "metadata": {},
   "source": [
    "### Word2vec\n",
    "\n",
    "##### Learning Embeddings from Scratch"
   ]
  },
  {
   "cell_type": "code",
   "execution_count": 24,
   "id": "cd776d55",
   "metadata": {},
   "outputs": [],
   "source": [
    "# Train the word2vec model\n",
    "w2v_embedng_model = gensim.models.Word2Vec(X_train,\n",
    "                                   vector_size=300,\n",
    "                                   window=5,\n",
    "                                   min_count=2)"
   ]
  },
  {
   "cell_type": "code",
   "execution_count": 25,
   "id": "48f8fa22",
   "metadata": {},
   "outputs": [],
   "source": [
    "#print(type(w2v_embedng_model))"
   ]
  },
  {
   "cell_type": "code",
   "execution_count": 26,
   "id": "57f8b2b0",
   "metadata": {},
   "outputs": [
    {
     "name": "stdout",
     "output_type": "stream",
     "text": [
      "The total number of words are :  63307\n"
     ]
    }
   ],
   "source": [
    "# total numberof extracted words.\n",
    "vocab=w2v_embedng_model.wv.index_to_key\n",
    "print(\"The total number of words are : \",len(vocab))"
   ]
  },
  {
   "cell_type": "code",
   "execution_count": 27,
   "id": "27932798",
   "metadata": {},
   "outputs": [],
   "source": [
    "#print(type(vocab))"
   ]
  },
  {
   "cell_type": "code",
   "execution_count": 28,
   "id": "f9373936",
   "metadata": {},
   "outputs": [],
   "source": [
    "#print(vocab)\n",
    "#vocab=list(vocab)"
   ]
  },
  {
   "cell_type": "markdown",
   "id": "07035921",
   "metadata": {},
   "source": [
    "#### Finding out the vocabulary count"
   ]
  },
  {
   "cell_type": "code",
   "execution_count": 29,
   "id": "a3282b34",
   "metadata": {},
   "outputs": [
    {
     "name": "stdout",
     "output_type": "stream",
     "text": [
      "The no of key-value pairs :  63307\n"
     ]
    }
   ],
   "source": [
    "word_vec_dict={}\n",
    "for word in vocab:\n",
    "    word_vec_dict[word]=w2v_embedng_model.wv.get_vector(word)\n",
    "print(\"The no of key-value pairs : \",len(word_vec_dict)) # should come equal to vocab size\n",
    "  "
   ]
  },
  {
   "cell_type": "markdown",
   "id": "e2ab7e9a",
   "metadata": {},
   "source": [
    "#### Creation of Embedding matrix\n",
    "\n",
    "Create an embedding matrix by assigning the vocabulary with the pretrained word embeddings:"
   ]
  },
  {
   "cell_type": "code",
   "execution_count": 30,
   "id": "50d33459",
   "metadata": {},
   "outputs": [],
   "source": [
    "# now creating the embedding matrix\n",
    "embedded_matrix=np.zeros(shape=(vocab_size,embed_dim))\n",
    "for word,i in tokenzr.word_index.items():\n",
    "    embedded_vec=word_vec_dict.get(word)\n",
    "    if embedded_vec is not None:  # word is in the vocabulary learned by the w2v model\n",
    "        embedded_matrix[i]=embedded_vec # if word is not found then embed_vector corressponding to that vector will stay zero."
   ]
  },
  {
   "cell_type": "code",
   "execution_count": null,
   "id": "410b0fa0",
   "metadata": {},
   "outputs": [],
   "source": []
  },
  {
   "cell_type": "markdown",
   "id": "d652b801",
   "metadata": {},
   "source": [
    "### LSTM"
   ]
  },
  {
   "cell_type": "code",
   "execution_count": 43,
   "id": "516c00c3",
   "metadata": {},
   "outputs": [],
   "source": [
    "# Model Checkpoint and EarlyStopping\n",
    "filepath = \"Updated//modelFakeNewsNetLSTM_WORD2VEC.h5\" # Location to get the model\n",
    "checkpoint = ModelCheckpoint(filepath, monitor='loss', verbose=1, save_best_only=True, mode='min')\n",
    "es = EarlyStopping(monitor='val_loss', patience=3,mode='min', verbose=1)\n",
    "callbacks_list = [checkpoint,es]"
   ]
  },
  {
   "cell_type": "code",
   "execution_count": 46,
   "id": "27b17e6b",
   "metadata": {},
   "outputs": [],
   "source": [
    "from keras.initializers import Constant\n",
    "lstm_model=Sequential()\n",
    "lstm_model.add(Embedding(input_dim=vocab_size,output_dim=embed_dim,input_length=maxi,\n",
    "                    embeddings_initializer=Constant(embedded_matrix)))\n",
    "lstm_model.add(LSTM(64,return_sequences=False)) # loss stucks at about \n",
    "lstm_model.add(Flatten())\n",
    "lstm_model.add(Dense(16,activation='relu'))\n",
    "lstm_model.add(Dropout(0.50))\n",
    "# model.add(Dense(16,activation='relu'))\n",
    "# model.add(Dropout(0.20))\n",
    "lstm_model.add(Dense(1,activation='sigmoid'))  # sigmod for bin. classification.\n",
    "\n",
    "# compile the model\n",
    "lstm_model.compile(optimizer=tf.keras.optimizers.RMSprop(lr=1e-3),loss='binary_crossentropy',metrics=['accuracy'])"
   ]
  },
  {
   "cell_type": "code",
   "execution_count": 47,
   "id": "154d5fdc",
   "metadata": {},
   "outputs": [
    {
     "name": "stdout",
     "output_type": "stream",
     "text": [
      "Model: \"sequential_1\"\n",
      "_________________________________________________________________\n",
      " Layer (type)                Output Shape              Param #   \n",
      "=================================================================\n",
      " embedding_1 (Embedding)     (None, 10000, 300)        29481000  \n",
      "                                                                 \n",
      " lstm (LSTM)                 (None, 64)                93440     \n",
      "                                                                 \n",
      " flatten (Flatten)           (None, 64)                0         \n",
      "                                                                 \n",
      " dense (Dense)               (None, 16)                1040      \n",
      "                                                                 \n",
      " dropout (Dropout)           (None, 16)                0         \n",
      "                                                                 \n",
      " dense_1 (Dense)             (None, 1)                 17        \n",
      "                                                                 \n",
      "=================================================================\n",
      "Total params: 29,575,497\n",
      "Trainable params: 29,575,497\n",
      "Non-trainable params: 0\n",
      "_________________________________________________________________\n"
     ]
    }
   ],
   "source": [
    "lstm_model.summary()"
   ]
  },
  {
   "cell_type": "code",
   "execution_count": null,
   "id": "f4ddc582",
   "metadata": {},
   "outputs": [
    {
     "name": "stdout",
     "output_type": "stream",
     "text": [
      "Epoch 1/3\n",
      "WARNING:tensorflow:AutoGraph could not transform <function Model.make_train_function.<locals>.train_function at 0x2afe9d79b620> and will run it as-is.\n",
      "Please report this to the TensorFlow team. When filing the bug, set the verbosity to 10 (on Linux, `export AUTOGRAPH_VERBOSITY=10`) and attach the full output.\n",
      "Cause: 'arguments' object has no attribute 'posonlyargs'\n",
      "To silence this warning, decorate the function with @tf.autograph.experimental.do_not_convert\n",
      "WARNING: AutoGraph could not transform <function Model.make_train_function.<locals>.train_function at 0x2afe9d79b620> and will run it as-is.\n",
      "Please report this to the TensorFlow team. When filing the bug, set the verbosity to 10 (on Linux, `export AUTOGRAPH_VERBOSITY=10`) and attach the full output.\n",
      "Cause: 'arguments' object has no attribute 'posonlyargs'\n",
      "To silence this warning, decorate the function with @tf.autograph.experimental.do_not_convert\n",
      "408/408 [==============================] - ETA: 0s - loss: 0.5868 - accuracy: 0.7517 WARNING:tensorflow:AutoGraph could not transform <function Model.make_test_function.<locals>.test_function at 0x2afede6c6b70> and will run it as-is.\n",
      "Please report this to the TensorFlow team. When filing the bug, set the verbosity to 10 (on Linux, `export AUTOGRAPH_VERBOSITY=10`) and attach the full output.\n",
      "Cause: 'arguments' object has no attribute 'posonlyargs'\n",
      "To silence this warning, decorate the function with @tf.autograph.experimental.do_not_convert\n",
      "WARNING: AutoGraph could not transform <function Model.make_test_function.<locals>.test_function at 0x2afede6c6b70> and will run it as-is.\n",
      "Please report this to the TensorFlow team. When filing the bug, set the verbosity to 10 (on Linux, `export AUTOGRAPH_VERBOSITY=10`) and attach the full output.\n",
      "Cause: 'arguments' object has no attribute 'posonlyargs'\n",
      "To silence this warning, decorate the function with @tf.autograph.experimental.do_not_convert\n",
      "\n",
      "Epoch 1: loss improved from inf to 0.58685, saving model to Updated/modelFakeNewsNetLSTM_WORD2VEC.h5\n",
      "408/408 [==============================] - 6922s 17s/step - loss: 0.5868 - accuracy: 0.7517 - val_loss: 0.5622 - val_accuracy: 0.7508\n",
      "Epoch 2/3\n",
      "276/408 [===================>..........] - ETA: 36:15 - loss: 0.5698 - accuracy: 0.7569"
     ]
    }
   ],
   "source": [
    "history_lstm_word2vec=lstm_model.fit(pad_train,y_train,epochs=3,batch_size=32,validation_split=0.2,shuffle=True, callbacks=callbacks_list)"
   ]
  },
  {
   "cell_type": "code",
   "execution_count": 46,
   "id": "079b54b8",
   "metadata": {},
   "outputs": [],
   "source": [
    "import matplotlib.pyplot as plt\n",
    "\n",
    "\n",
    "def plot_loss_and_acc(history):\n",
    "    train_loss = history.history[\"loss\"]\n",
    "    train_acc = history.history[\"accuracy\"]\n",
    "    val_loss = history.history[\"val_loss\"]\n",
    "    val_acc = history.history[\"val_accuracy\"]\n",
    "\n",
    "    fig = plt.figure(figsize=(12,5))\n",
    "\n",
    "    ax = fig.add_subplot(121)\n",
    "    ax.plot(range(len(train_loss)), train_loss, label=\"Train Loss\");\n",
    "    ax.plot(range(len(val_loss)), val_loss, label=\"Validation Loss\");\n",
    "    plt.xlabel(\"Epochs\"); plt.ylabel(\"Loss\");\n",
    "    plt.title(\"Train Loss vs Validation Loss\");\n",
    "    plt.legend(loc=\"best\");\n",
    "\n",
    "    ax = fig.add_subplot(122)\n",
    "    ax.plot(range(len(train_acc)), train_acc, label=\"Train Accuracy\");\n",
    "    ax.plot(range(len(val_acc)), val_acc, label=\"Validation Accuracy\");\n",
    "    plt.xlabel(\"Epochs\"); plt.ylabel(\"Accuracy\");\n",
    "    plt.title(\"Train Accuracy vs Validation Accuracy\");\n",
    "    plt.legend(loc=\"best\");"
   ]
  },
  {
   "cell_type": "code",
   "execution_count": 47,
   "id": "eafc6aa8",
   "metadata": {},
   "outputs": [
    {
     "data": {
      "image/png": "[encoded data removed]",
      "text/plain": [
       "<Figure size 864x360 with 2 Axes>"
      ]
     },
     "metadata": {
      "needs_background": "light"
     },
     "output_type": "display_data"
    }
   ],
   "source": [
    "plot_loss_and_acc(history_lstm_word2vec)"
   ]
  },
  {
   "cell_type": "code",
   "execution_count": null,
   "id": "2ad89c24",
   "metadata": {},
   "outputs": [],
   "source": []
  },
  {
   "cell_type": "code",
   "execution_count": null,
   "id": "890b0a2b",
   "metadata": {},
   "outputs": [],
   "source": []
  },
  {
   "cell_type": "markdown",
   "id": "fc0ec1eb",
   "metadata": {},
   "source": [
    "## Pretrained Word2vec model"
   ]
  },
  {
   "cell_type": "code",
   "execution_count": null,
   "id": "171b1d5f",
   "metadata": {},
   "outputs": [],
   "source": [
    "# !wget -P /root/input/ -c \"https://s3.amazonaws.com/dl4j-distribution/GoogleNews-vectors-negative300.bin.gz\""
   ]
  },
  {
   "cell_type": "code",
   "execution_count": 31,
   "id": "f1f1f412",
   "metadata": {},
   "outputs": [],
   "source": [
    "path_to_model = 'Embeddings//GoogleNews-vectors-negative300.bin'"
   ]
  },
  {
   "cell_type": "code",
   "execution_count": 32,
   "id": "66824bf5",
   "metadata": {},
   "outputs": [
    {
     "name": "stdout",
     "output_type": "stream",
     "text": [
      "CPU times: user 22.6 s, sys: 3.08 s, total: 25.7 s\n",
      "Wall time: 27 s\n",
      "done loading Word2Vec\n"
     ]
    }
   ],
   "source": [
    "from gensim.models.keyedvectors import KeyedVectors\n",
    "%time w2v_model_pretrained = KeyedVectors.load_word2vec_format(path_to_model, binary=True)\n",
    "print('done loading Word2Vec')"
   ]
  },
  {
   "cell_type": "code",
   "execution_count": 33,
   "id": "0d3c1be0",
   "metadata": {},
   "outputs": [],
   "source": [
    "#Inspect the model\n",
    "#word2vec_vocab = list(w2v_model.index_to_key)"
   ]
  },
  {
   "cell_type": "code",
   "execution_count": 34,
   "id": "d2a5976c",
   "metadata": {},
   "outputs": [
    {
     "name": "stdout",
     "output_type": "stream",
     "text": [
      "The total number of words are :  3000000\n"
     ]
    }
   ],
   "source": [
    "# total numberof extracted words.\n",
    "word2vec_vocab=w2v_model_pretrained.index_to_key\n",
    "print(\"The total number of words are : \",len(word2vec_vocab))"
   ]
  },
  {
   "cell_type": "code",
   "execution_count": 35,
   "id": "ae0511bc",
   "metadata": {},
   "outputs": [],
   "source": [
    "word2vec_vocab_lower = [item.lower() for item in word2vec_vocab]"
   ]
  },
  {
   "cell_type": "markdown",
   "id": "e3a4deda",
   "metadata": {},
   "source": [
    "#### Finding out the vocabulary count"
   ]
  },
  {
   "cell_type": "code",
   "execution_count": 36,
   "id": "4fa1076c",
   "metadata": {},
   "outputs": [
    {
     "name": "stdout",
     "output_type": "stream",
     "text": [
      "The no of key-value pairs :  3000000\n"
     ]
    }
   ],
   "source": [
    "word_vec_dict_pre={}\n",
    "for word in word2vec_vocab:\n",
    "    word_vec_dict_pre[word]=w2v_model_pretrained.get_vector(word)\n",
    "print(\"The no of key-value pairs : \",len(word_vec_dict_pre)) # should come equal to vocab size\n",
    "  "
   ]
  },
  {
   "cell_type": "markdown",
   "id": "2d62ca3a",
   "metadata": {},
   "source": [
    "#### Creation of Embedding matrix"
   ]
  },
  {
   "cell_type": "code",
   "execution_count": 37,
   "id": "88b084fc",
   "metadata": {},
   "outputs": [
    {
     "data": {
      "text/plain": [
       "300"
      ]
     },
     "execution_count": 37,
     "metadata": {},
     "output_type": "execute_result"
    }
   ],
   "source": [
    "embed_dim"
   ]
  },
  {
   "cell_type": "code",
   "execution_count": 38,
   "id": "9716c326",
   "metadata": {},
   "outputs": [],
   "source": [
    "# now creating the embedding matrix\n",
    "embedded_matrix_2=np.zeros(shape=(vocab_size,embed_dim))\n",
    "for word,i in tokenzr.word_index.items():\n",
    "    embedded_vec=word_vec_dict_pre.get(word)\n",
    "    if embedded_vec is not None:  # word is in the vocabulary learned by the w2v model\n",
    "        embedded_matrix_2[i]=embedded_vec"
   ]
  },
  {
   "cell_type": "code",
   "execution_count": 39,
   "id": "96e21a5d",
   "metadata": {},
   "outputs": [],
   "source": [
    "import matplotlib.pyplot as plt\n",
    "\n",
    "\n",
    "def plot_loss_and_acc(history):\n",
    "    train_loss = history.history[\"loss\"]\n",
    "    train_acc = history.history[\"accuracy\"]\n",
    "    val_loss = history.history[\"val_loss\"]\n",
    "    val_acc = history.history[\"val_accuracy\"]\n",
    "\n",
    "    fig = plt.figure(figsize=(12,5))\n",
    "\n",
    "    ax = fig.add_subplot(121)\n",
    "    ax.plot(range(len(train_loss)), train_loss, label=\"Train Loss\");\n",
    "    ax.plot(range(len(val_loss)), val_loss, label=\"Validation Loss\");\n",
    "    plt.xlabel(\"Epochs\"); plt.ylabel(\"Loss\");\n",
    "    plt.title(\"Train Loss vs Validation Loss\");\n",
    "    plt.legend(loc=\"best\");\n",
    "\n",
    "    ax = fig.add_subplot(122)\n",
    "    ax.plot(range(len(train_acc)), train_acc, label=\"Train Accuracy\");\n",
    "    ax.plot(range(len(val_acc)), val_acc, label=\"Validation Accuracy\");\n",
    "    plt.xlabel(\"Epochs\"); plt.ylabel(\"Accuracy\");\n",
    "    plt.title(\"Train Accuracy vs Validation Accuracy\");\n",
    "    plt.legend(loc=\"best\");\n"
   ]
  },
  {
   "cell_type": "markdown",
   "id": "523dae34",
   "metadata": {},
   "source": [
    "### 1d CNN"
   ]
  },
  {
   "cell_type": "code",
   "execution_count": 40,
   "id": "01706dc1",
   "metadata": {},
   "outputs": [],
   "source": [
    "# Model Checkpoint and EarlyStopping\n",
    "filepath = \"Updated//modelFakeNewsNet_CNN_WORD2VEC_PRETRAINED.h5\" # Location to get the model\n",
    "checkpoint = ModelCheckpoint(filepath, monitor='loss', verbose=1, save_best_only=True, mode='min')\n",
    "es = EarlyStopping(monitor='val_loss', patience=3,mode='min', verbose=1)\n",
    "callbacks_list = [checkpoint,es]"
   ]
  },
  {
   "cell_type": "code",
   "execution_count": 42,
   "id": "4035e06b",
   "metadata": {},
   "outputs": [
    {
     "name": "stdout",
     "output_type": "stream",
     "text": [
      "Model: \"sequential_1\"\n",
      "_________________________________________________________________\n",
      " Layer (type)                Output Shape              Param #   \n",
      "=================================================================\n",
      " embedding (Embedding)       (None, 10000, 300)        29595000  \n",
      "                                                                 \n",
      " conv1d (Conv1D)             (None, 9998, 128)         115328    \n",
      "                                                                 \n",
      " conv1d_1 (Conv1D)           (None, 9996, 64)          24640     \n",
      "                                                                 \n",
      " max_pooling1d (MaxPooling1D  (None, 4998, 64)         0         \n",
      " )                                                               \n",
      "                                                                 \n",
      " conv1d_2 (Conv1D)           (None, 4998, 32)          6176      \n",
      "                                                                 \n",
      " max_pooling1d_1 (MaxPooling  (None, 2499, 32)         0         \n",
      " 1D)                                                             \n",
      "                                                                 \n",
      " flatten (Flatten)           (None, 79968)             0         \n",
      "                                                                 \n",
      " dense (Dense)               (None, 128)               10236032  \n",
      "                                                                 \n",
      " dropout (Dropout)           (None, 128)               0         \n",
      "                                                                 \n",
      " dense_1 (Dense)             (None, 64)                8256      \n",
      "                                                                 \n",
      " dropout_1 (Dropout)         (None, 64)                0         \n",
      "                                                                 \n",
      " dense_2 (Dense)             (None, 1)                 65        \n",
      "                                                                 \n",
      "=================================================================\n",
      "Total params: 39,985,497\n",
      "Trainable params: 39,985,497\n",
      "Non-trainable params: 0\n",
      "_________________________________________________________________\n",
      "None\n"
     ]
    }
   ],
   "source": [
    "warnings.filterwarnings('ignore')\n",
    "cnn_model=Sequential()\n",
    "cnn_model.add(Embedding(vocab_size,embed_dim,input_length=maxi))\n",
    "cnn_model.add(Conv1D(filters=128, kernel_size=3, padding='valid', activation='relu'))\n",
    "cnn_model.add(Conv1D(filters=64, kernel_size=3, padding='valid', activation='relu'))\n",
    "cnn_model.add(MaxPooling1D())\n",
    "cnn_model.add(Conv1D(filters=32, kernel_size=3, padding='same', activation='relu'))\n",
    "cnn_model.add(MaxPooling1D())\n",
    "cnn_model.add(Flatten())\n",
    "cnn_model.add(Dense(128, activation='relu'))\n",
    "cnn_model.add(Dropout(0.4))\n",
    "cnn_model.add(Dense(64, activation='relu'))\n",
    "cnn_model.add(Dropout(0.2))\n",
    "cnn_model.add(Dense(1, activation='sigmoid'))\n",
    "# compile the model\n",
    "cnn_model.compile(optimizer='adam', loss='binary_crossentropy', metrics=['accuracy'])\n",
    "# summarize the model\n",
    "print(cnn_model.summary())"
   ]
  },
  {
   "cell_type": "code",
   "execution_count": 43,
   "id": "59b71be7",
   "metadata": {},
   "outputs": [
    {
     "name": "stdout",
     "output_type": "stream",
     "text": [
      "Epoch 1/2\n",
      "WARNING:tensorflow:AutoGraph could not transform <function Model.make_train_function.<locals>.train_function at 0x2aefd7e7d620> and will run it as-is.\n",
      "Please report this to the TensorFlow team. When filing the bug, set the verbosity to 10 (on Linux, `export AUTOGRAPH_VERBOSITY=10`) and attach the full output.\n",
      "Cause: 'arguments' object has no attribute 'posonlyargs'\n",
      "To silence this warning, decorate the function with @tf.autograph.experimental.do_not_convert\n",
      "WARNING: AutoGraph could not transform <function Model.make_train_function.<locals>.train_function at 0x2aefd7e7d620> and will run it as-is.\n",
      "Please report this to the TensorFlow team. When filing the bug, set the verbosity to 10 (on Linux, `export AUTOGRAPH_VERBOSITY=10`) and attach the full output.\n",
      "Cause: 'arguments' object has no attribute 'posonlyargs'\n",
      "To silence this warning, decorate the function with @tf.autograph.experimental.do_not_convert\n",
      "102/102 [==============================] - ETA: 0s - loss: 0.5220 - accuracy: 0.7498WARNING:tensorflow:AutoGraph could not transform <function Model.make_test_function.<locals>.test_function at 0x2aefe6e657b8> and will run it as-is.\n",
      "Please report this to the TensorFlow team. When filing the bug, set the verbosity to 10 (on Linux, `export AUTOGRAPH_VERBOSITY=10`) and attach the full output.\n",
      "Cause: 'arguments' object has no attribute 'posonlyargs'\n",
      "To silence this warning, decorate the function with @tf.autograph.experimental.do_not_convert\n",
      "WARNING: AutoGraph could not transform <function Model.make_test_function.<locals>.test_function at 0x2aefe6e657b8> and will run it as-is.\n",
      "Please report this to the TensorFlow team. When filing the bug, set the verbosity to 10 (on Linux, `export AUTOGRAPH_VERBOSITY=10`) and attach the full output.\n",
      "Cause: 'arguments' object has no attribute 'posonlyargs'\n",
      "To silence this warning, decorate the function with @tf.autograph.experimental.do_not_convert\n",
      "\n",
      "Epoch 1: loss improved from inf to 0.52201, saving model to Updated/modelFakeNewsNet_CNN_WORD2VEC_PRETRAINED.h5\n",
      "102/102 [==============================] - 150s 1s/step - loss: 0.5220 - accuracy: 0.7498 - val_loss: 0.4487 - val_accuracy: 0.7603\n",
      "Epoch 2/2\n",
      "102/102 [==============================] - ETA: 0s - loss: 0.3236 - accuracy: 0.8646\n",
      "Epoch 2: loss improved from 0.52201 to 0.32360, saving model to Updated/modelFakeNewsNet_CNN_WORD2VEC_PRETRAINED.h5\n",
      "102/102 [==============================] - 164s 2s/step - loss: 0.3236 - accuracy: 0.8646 - val_loss: 0.3769 - val_accuracy: 0.8475\n"
     ]
    }
   ],
   "source": [
    "history_cnn_word2vec=cnn_model.fit(pad_train,y_train,epochs=2,batch_size=128,validation_split=0.2,shuffle=True, callbacks=callbacks_list) "
   ]
  },
  {
   "cell_type": "code",
   "execution_count": 44,
   "id": "09d28943",
   "metadata": {},
   "outputs": [
    {
     "data": {
      "image/png": "[encoded data removed]",
      "text/plain": [
       "<Figure size 864x360 with 2 Axes>"
      ]
     },
     "metadata": {
      "needs_background": "light"
     },
     "output_type": "display_data"
    }
   ],
   "source": [
    "plot_loss_and_acc(history_cnn_word2vec)"
   ]
  },
  {
   "cell_type": "markdown",
   "id": "2f245ce2",
   "metadata": {},
   "source": [
    "### LSTM"
   ]
  },
  {
   "cell_type": "code",
   "execution_count": 59,
   "id": "9ddf38e2",
   "metadata": {},
   "outputs": [],
   "source": [
    "# Model Checkpoint and EarlyStopping\n",
    "filepath = \"Updated//modelFakeNewsNetLSTM_WORD2VEC_PRETRAINED.h5\" # Location to get the model\n",
    "checkpoint = ModelCheckpoint(filepath, monitor='loss', verbose=1, save_best_only=True, mode='min')\n",
    "es = EarlyStopping(monitor='val_loss', patience=3,mode='min', verbose=1)\n",
    "callbacks_list = [checkpoint,es]"
   ]
  },
  {
   "cell_type": "code",
   "execution_count": 61,
   "id": "3c960768",
   "metadata": {},
   "outputs": [],
   "source": [
    "from keras.initializers import Constant\n",
    "lstm_model=Sequential()\n",
    "lstm_model.add(Embedding(input_dim=vocab_size,output_dim=embed_dim,input_length=maxi,\n",
    "                    embeddings_initializer=Constant(embedded_matrix_2),trainable=True))\n",
    "lstm_model.add(LSTM(128,return_sequences=True,dropout=0.2)) # loss stucks at about \n",
    "lstm_model.add(GlobalMaxPooling1D())\n",
    "lstm_model.add(Dense(64,activation='relu'))\n",
    "lstm_model.add(Dense(1,activation='sigmoid'))  # sigmod for bin. classification.\n",
    "\n",
    "# compile the model\n",
    "lstm_model.compile(optimizer='adam',loss='binary_crossentropy',metrics=['accuracy'])"
   ]
  },
  {
   "cell_type": "code",
   "execution_count": 62,
   "id": "92755aaa",
   "metadata": {},
   "outputs": [
    {
     "name": "stdout",
     "output_type": "stream",
     "text": [
      "Model: \"sequential_2\"\n",
      "_________________________________________________________________\n",
      " Layer (type)                Output Shape              Param #   \n",
      "=================================================================\n",
      " embedding_1 (Embedding)     (None, 10000, 300)        29623500  \n",
      "                                                                 \n",
      " lstm_1 (LSTM)               (None, 10000, 128)        219648    \n",
      "                                                                 \n",
      " global_max_pooling1d_1 (Glo  (None, 128)              0         \n",
      " balMaxPooling1D)                                                \n",
      "                                                                 \n",
      " dense_2 (Dense)             (None, 64)                8256      \n",
      "                                                                 \n",
      " dense_3 (Dense)             (None, 1)                 65        \n",
      "                                                                 \n",
      "=================================================================\n",
      "Total params: 29,851,469\n",
      "Trainable params: 29,851,469\n",
      "Non-trainable params: 0\n",
      "_________________________________________________________________\n"
     ]
    }
   ],
   "source": [
    "lstm_model.summary()"
   ]
  },
  {
   "cell_type": "code",
   "execution_count": 63,
   "id": "f7a8952d",
   "metadata": {
    "scrolled": true
   },
   "outputs": [
    {
     "name": "stdout",
     "output_type": "stream",
     "text": [
      "Epoch 1/3\n",
      "WARNING:tensorflow:AutoGraph could not transform <function Model.make_train_function.<locals>.train_function at 0x2ab8bb7cfd90> and will run it as-is.\n",
      "Please report this to the TensorFlow team. When filing the bug, set the verbosity to 10 (on Linux, `export AUTOGRAPH_VERBOSITY=10`) and attach the full output.\n",
      "Cause: 'arguments' object has no attribute 'posonlyargs'\n",
      "To silence this warning, decorate the function with @tf.autograph.experimental.do_not_convert\n",
      "WARNING: AutoGraph could not transform <function Model.make_train_function.<locals>.train_function at 0x2ab8bb7cfd90> and will run it as-is.\n",
      "Please report this to the TensorFlow team. When filing the bug, set the verbosity to 10 (on Linux, `export AUTOGRAPH_VERBOSITY=10`) and attach the full output.\n",
      "Cause: 'arguments' object has no attribute 'posonlyargs'\n",
      "To silence this warning, decorate the function with @tf.autograph.experimental.do_not_convert\n",
      "66/66 [==============================] - ETA: 0s - loss: 0.5222 - accuracy: 0.7583 WARNING:tensorflow:AutoGraph could not transform <function Model.make_test_function.<locals>.test_function at 0x2ab104adb488> and will run it as-is.\n",
      "Please report this to the TensorFlow team. When filing the bug, set the verbosity to 10 (on Linux, `export AUTOGRAPH_VERBOSITY=10`) and attach the full output.\n",
      "Cause: 'arguments' object has no attribute 'posonlyargs'\n",
      "To silence this warning, decorate the function with @tf.autograph.experimental.do_not_convert\n",
      "WARNING: AutoGraph could not transform <function Model.make_test_function.<locals>.test_function at 0x2ab104adb488> and will run it as-is.\n",
      "Please report this to the TensorFlow team. When filing the bug, set the verbosity to 10 (on Linux, `export AUTOGRAPH_VERBOSITY=10`) and attach the full output.\n",
      "Cause: 'arguments' object has no attribute 'posonlyargs'\n",
      "To silence this warning, decorate the function with @tf.autograph.experimental.do_not_convert\n",
      "\n",
      "Epoch 1: loss improved from inf to 0.52225, saving model to Updated/modelFakeNewsNetLSTM_WORD2VEC_PRETRAINED.h5\n",
      "66/66 [==============================] - 3237s 49s/step - loss: 0.5222 - accuracy: 0.7583 - val_loss: 0.4413 - val_accuracy: 0.8106\n",
      "Epoch 2/3\n",
      "66/66 [==============================] - ETA: 0s - loss: 0.3594 - accuracy: 0.8496 \n",
      "Epoch 2: loss improved from 0.52225 to 0.35939, saving model to Updated/modelFakeNewsNetLSTM_WORD2VEC_PRETRAINED.h5\n",
      "66/66 [==============================] - 3124s 47s/step - loss: 0.3594 - accuracy: 0.8496 - val_loss: 0.3573 - val_accuracy: 0.8548\n",
      "Epoch 3/3\n",
      "66/66 [==============================] - ETA: 0s - loss: 0.2588 - accuracy: 0.8956 \n",
      "Epoch 3: loss improved from 0.35939 to 0.25876, saving model to Updated/modelFakeNewsNetLSTM_WORD2VEC_PRETRAINED.h5\n",
      "66/66 [==============================] - 2764s 42s/step - loss: 0.2588 - accuracy: 0.8956 - val_loss: 0.3697 - val_accuracy: 0.8539\n"
     ]
    }
   ],
   "source": [
    "history_lstm_word2vec=lstm_model.fit(pad_train,y_train,epochs=3,batch_size=200,validation_split=0.2,shuffle=True, callbacks=callbacks_list) "
   ]
  },
  {
   "cell_type": "code",
   "execution_count": 64,
   "id": "662826fd",
   "metadata": {},
   "outputs": [
    {
     "data": {
      "image/png": "[encoded data removed]",
      "text/plain": [
       "<Figure size 864x360 with 2 Axes>"
      ]
     },
     "metadata": {},
     "output_type": "display_data"
    }
   ],
   "source": [
    "plot_loss_and_acc(history_lstm_word2vec)"
   ]
  },
  {
   "cell_type": "code",
   "execution_count": null,
   "id": "4d7c1652",
   "metadata": {},
   "outputs": [],
   "source": []
  },
  {
   "cell_type": "markdown",
   "id": "e258f4d2",
   "metadata": {},
   "source": [
    "### Bi LSTM"
   ]
  },
  {
   "cell_type": "code",
   "execution_count": 30,
   "id": "60f0d2b0",
   "metadata": {},
   "outputs": [],
   "source": [
    "# Model Checkpoint and EarlyStopping\n",
    "filepath = \"Updated//modelFakeNewsNet_BiLSTM_WORD2VEC_PRETRAINED.h5\" # Location to get the model\n",
    "checkpoint = ModelCheckpoint(filepath, monitor='loss', verbose=1, save_best_only=True, mode='min')\n",
    "es = EarlyStopping(monitor='val_loss', patience=3,mode='min', verbose=1)\n",
    "callbacks_list = [checkpoint,es]"
   ]
  },
  {
   "cell_type": "code",
   "execution_count": 31,
   "id": "6024f64b",
   "metadata": {},
   "outputs": [],
   "source": [
    "from keras.initializers import Constant\n",
    "bilstm_model=Sequential()\n",
    "bilstm_model.add(Embedding(input_dim=vocab_size,output_dim=embed_dim,input_length=maxi,\n",
    "                    embeddings_initializer=Constant(embedded_matrix_2),trainable=True))\n",
    "bilstm_model.add(Bidirectional(LSTM(128,return_sequences=True,dropout=0.2))) # loss stucks at about \n",
    "bilstm_model.add(GlobalMaxPooling1D())\n",
    "bilstm_model.add(Dense(64,activation='relu'))\n",
    "bilstm_model.add(Dense(1,activation='sigmoid'))  # sigmod for bin. classification.\n",
    "\n",
    "# compile the model\n",
    "bilstm_model.compile(optimizer='adam',loss='binary_crossentropy',metrics=['accuracy'])"
   ]
  },
  {
   "cell_type": "code",
   "execution_count": 32,
   "id": "f9d07238",
   "metadata": {},
   "outputs": [
    {
     "name": "stdout",
     "output_type": "stream",
     "text": [
      "Model: \"sequential_1\"\n",
      "_________________________________________________________________\n",
      " Layer (type)                Output Shape              Param #   \n",
      "=================================================================\n",
      " embedding (Embedding)       (None, 10000, 300)        29293800  \n",
      "                                                                 \n",
      " bidirectional (Bidirectiona  (None, 10000, 256)       439296    \n",
      " l)                                                              \n",
      "                                                                 \n",
      " global_max_pooling1d (Globa  (None, 256)              0         \n",
      " lMaxPooling1D)                                                  \n",
      "                                                                 \n",
      " dense (Dense)               (None, 64)                16448     \n",
      "                                                                 \n",
      " dense_1 (Dense)             (None, 1)                 65        \n",
      "                                                                 \n",
      "=================================================================\n",
      "Total params: 29,749,609\n",
      "Trainable params: 29,749,609\n",
      "Non-trainable params: 0\n",
      "_________________________________________________________________\n"
     ]
    }
   ],
   "source": [
    "bilstm_model.summary()"
   ]
  },
  {
   "cell_type": "code",
   "execution_count": 33,
   "id": "6c25634f",
   "metadata": {},
   "outputs": [
    {
     "name": "stdout",
     "output_type": "stream",
     "text": [
      "Epoch 1/2\n",
      "WARNING:tensorflow:AutoGraph could not transform <function Model.make_train_function.<locals>.train_function at 0x2b7614d1a840> and will run it as-is.\n",
      "Please report this to the TensorFlow team. When filing the bug, set the verbosity to 10 (on Linux, `export AUTOGRAPH_VERBOSITY=10`) and attach the full output.\n",
      "Cause: 'arguments' object has no attribute 'posonlyargs'\n",
      "To silence this warning, decorate the function with @tf.autograph.experimental.do_not_convert\n",
      "WARNING: AutoGraph could not transform <function Model.make_train_function.<locals>.train_function at 0x2b7614d1a840> and will run it as-is.\n",
      "Please report this to the TensorFlow team. When filing the bug, set the verbosity to 10 (on Linux, `export AUTOGRAPH_VERBOSITY=10`) and attach the full output.\n",
      "Cause: 'arguments' object has no attribute 'posonlyargs'\n",
      "To silence this warning, decorate the function with @tf.autograph.experimental.do_not_convert\n",
      "102/102 [==============================] - ETA: 0s - loss: 0.4777 - accuracy: 0.7858 WARNING:tensorflow:AutoGraph could not transform <function Model.make_test_function.<locals>.test_function at 0x2b7643825ea0> and will run it as-is.\n",
      "Please report this to the TensorFlow team. When filing the bug, set the verbosity to 10 (on Linux, `export AUTOGRAPH_VERBOSITY=10`) and attach the full output.\n",
      "Cause: 'arguments' object has no attribute 'posonlyargs'\n",
      "To silence this warning, decorate the function with @tf.autograph.experimental.do_not_convert\n",
      "WARNING: AutoGraph could not transform <function Model.make_test_function.<locals>.test_function at 0x2b7643825ea0> and will run it as-is.\n",
      "Please report this to the TensorFlow team. When filing the bug, set the verbosity to 10 (on Linux, `export AUTOGRAPH_VERBOSITY=10`) and attach the full output.\n",
      "Cause: 'arguments' object has no attribute 'posonlyargs'\n",
      "To silence this warning, decorate the function with @tf.autograph.experimental.do_not_convert\n",
      "\n",
      "Epoch 1: loss improved from inf to 0.47771, saving model to Updated/modelFakeNewsNet_BiLSTM_WORD2VEC_PRETRAINED.h5\n",
      "102/102 [==============================] - 3368s 33s/step - loss: 0.4777 - accuracy: 0.7858 - val_loss: 0.3843 - val_accuracy: 0.8410\n",
      "Epoch 2/2\n",
      "102/102 [==============================] - ETA: 0s - loss: 0.3208 - accuracy: 0.8685 \n",
      "Epoch 2: loss improved from 0.47771 to 0.32076, saving model to Updated/modelFakeNewsNet_BiLSTM_WORD2VEC_PRETRAINED.h5\n",
      "102/102 [==============================] - 3662s 36s/step - loss: 0.3208 - accuracy: 0.8685 - val_loss: 0.3482 - val_accuracy: 0.8542\n"
     ]
    }
   ],
   "source": [
    "history_bilstm_word2vec=bilstm_model.fit(pad_train,y_train,epochs=2,batch_size=128,validation_split=0.2,shuffle=True, callbacks=callbacks_list) "
   ]
  },
  {
   "cell_type": "code",
   "execution_count": 29,
   "id": "ef3a0c8f",
   "metadata": {},
   "outputs": [],
   "source": [
    "# from keras.models import load_model\n",
    "# bilstm_model = load_model('Updated//modelFakeNewsNet_BiLSTM_WORD2VEC_PRETRAINED.h5')"
   ]
  },
  {
   "cell_type": "code",
   "execution_count": null,
   "id": "e0e1b188",
   "metadata": {},
   "outputs": [],
   "source": []
  },
  {
   "cell_type": "code",
   "execution_count": null,
   "id": "c3c96fcb",
   "metadata": {},
   "outputs": [],
   "source": []
  },
  {
   "cell_type": "code",
   "execution_count": null,
   "id": "d51c81dc",
   "metadata": {},
   "outputs": [],
   "source": []
  },
  {
   "cell_type": "markdown",
   "id": "3374dc90",
   "metadata": {},
   "source": [
    "## Glove\n",
    "\n",
    "##### using PreTrained"
   ]
  },
  {
   "cell_type": "markdown",
   "id": "f411ca33",
   "metadata": {},
   "source": [
    "##### Download the pretrained zip file"
   ]
  },
  {
   "cell_type": "code",
   "execution_count": null,
   "id": "56904b1b",
   "metadata": {},
   "outputs": [],
   "source": [
    "# !wget http://nlp.stanford.edu/data/glove.6B.zip"
   ]
  },
  {
   "cell_type": "markdown",
   "id": "ee85ef50",
   "metadata": {},
   "source": [
    "##### Unzip it"
   ]
  },
  {
   "cell_type": "code",
   "execution_count": null,
   "id": "5d8e13f9",
   "metadata": {},
   "outputs": [],
   "source": [
    "# !unzip glove*.zip"
   ]
  },
  {
   "cell_type": "code",
   "execution_count": null,
   "id": "07538213",
   "metadata": {},
   "outputs": [],
   "source": [
    "from gensim.models import KeyedVectors\n",
    "from gensim.scripts.glove2word2vec import glove2word2vec"
   ]
  },
  {
   "cell_type": "code",
   "execution_count": null,
   "id": "fb861934",
   "metadata": {},
   "outputs": [],
   "source": [
    "glove_path = 'Embeddings//glove.6B.300d.txt'"
   ]
  },
  {
   "cell_type": "code",
   "execution_count": null,
   "id": "2c37c3cf",
   "metadata": {},
   "outputs": [],
   "source": [
    "import os\n",
    "glove_embeddings_index = {}\n",
    "f = open(os.path.join(glove_path), encoding=\"utf8\")"
   ]
  },
  {
   "cell_type": "code",
   "execution_count": null,
   "id": "1e80eaac",
   "metadata": {},
   "outputs": [],
   "source": [
    "for line in f:\n",
    "    values = line.split()\n",
    "    #print(values[1:])\n",
    "    word = values[0]\n",
    "    coefs = np.asarray(values[1:], dtype='float32')\n",
    "    glove_embeddings_index[word] = coefs\n",
    "f.close()"
   ]
  },
  {
   "cell_type": "code",
   "execution_count": null,
   "id": "8bb3d6d2",
   "metadata": {},
   "outputs": [],
   "source": [
    "print('Total %s word vectors in Glove.' % len(glove_embeddings_index))\n"
   ]
  },
  {
   "cell_type": "code",
   "execution_count": null,
   "id": "1abaea97",
   "metadata": {},
   "outputs": [],
   "source": [
    "embedding_gmatrix = np.random.random((len(tokenzr.word_index) + 1, embed_dim))\n",
    "for word, i in tokenzr.word_index.items():\n",
    "    embedding_gvector = glove_embeddings_index.get(word)\n",
    "    if embedding_gvector is not None:\n",
    "        # words not found in embedding index will be all-zeros.\n",
    "        embedding_gmatrix[i] = embedding_gvector"
   ]
  },
  {
   "cell_type": "markdown",
   "id": "84e77899",
   "metadata": {},
   "source": [
    "### 1D CNN"
   ]
  },
  {
   "cell_type": "code",
   "execution_count": 53,
   "id": "f1a88aa1",
   "metadata": {},
   "outputs": [],
   "source": [
    "# Model Checkpoint and EarlyStopping\n",
    "filepath = \"Updated//modelFakeNewsNet_CNN_GLOVE.h5\" # Location to get the model\n",
    "checkpoint = ModelCheckpoint(filepath, monitor='loss', verbose=1, save_best_only=True, mode='min')\n",
    "es = EarlyStopping(monitor='val_loss', patience=3,mode='min', verbose=1)\n",
    "callbacks_list = [checkpoint,es]"
   ]
  },
  {
   "cell_type": "code",
   "execution_count": 54,
   "id": "be211ea0",
   "metadata": {},
   "outputs": [
    {
     "name": "stdout",
     "output_type": "stream",
     "text": [
      "Model: \"sequential\"\n",
      "_________________________________________________________________\n",
      " Layer (type)                Output Shape              Param #   \n",
      "=================================================================\n",
      " embedding (Embedding)       (None, 10000, 300)        29595000  \n",
      "                                                                 \n",
      " conv1d (Conv1D)             (None, 9998, 128)         115328    \n",
      "                                                                 \n",
      " conv1d_1 (Conv1D)           (None, 9996, 64)          24640     \n",
      "                                                                 \n",
      " max_pooling1d (MaxPooling1D  (None, 4998, 64)         0         \n",
      " )                                                               \n",
      "                                                                 \n",
      " conv1d_2 (Conv1D)           (None, 4998, 32)          6176      \n",
      "                                                                 \n",
      " max_pooling1d_1 (MaxPooling  (None, 2499, 32)         0         \n",
      " 1D)                                                             \n",
      "                                                                 \n",
      " flatten (Flatten)           (None, 79968)             0         \n",
      "                                                                 \n",
      " dense (Dense)               (None, 128)               10236032  \n",
      "                                                                 \n",
      " dropout (Dropout)           (None, 128)               0         \n",
      "                                                                 \n",
      " dense_1 (Dense)             (None, 64)                8256      \n",
      "                                                                 \n",
      " dropout_1 (Dropout)         (None, 64)                0         \n",
      "                                                                 \n",
      " dense_2 (Dense)             (None, 1)                 65        \n",
      "                                                                 \n",
      "=================================================================\n",
      "Total params: 39,985,497\n",
      "Trainable params: 39,985,497\n",
      "Non-trainable params: 0\n",
      "_________________________________________________________________\n",
      "None\n"
     ]
    }
   ],
   "source": [
    "warnings.filterwarnings('ignore')\n",
    "cnn_model_g=Sequential()\n",
    "cnn_model_g.add(Embedding(vocab_size,embed_dim,input_length=maxi))\n",
    "cnn_model_g.add(Conv1D(filters=128, kernel_size=3, padding='valid', activation='relu'))\n",
    "cnn_model_g.add(Conv1D(filters=64, kernel_size=3, padding='valid', activation='relu'))\n",
    "cnn_model_g.add(MaxPooling1D())\n",
    "cnn_model_g.add(Conv1D(filters=32, kernel_size=3, padding='same', activation='relu'))\n",
    "cnn_model_g.add(MaxPooling1D())\n",
    "cnn_model_g.add(Flatten())\n",
    "cnn_model_g.add(Dense(128, activation='relu'))\n",
    "cnn_model_g.add(Dropout(0.4))\n",
    "cnn_model_g.add(Dense(64, activation='relu'))\n",
    "cnn_model_g.add(Dropout(0.2))\n",
    "cnn_model_g.add(Dense(1, activation='sigmoid'))\n",
    "# compile the model\n",
    "cnn_model_g.compile(optimizer='adam', loss='binary_crossentropy', metrics=['accuracy'])\n",
    "# summarize the model\n",
    "print(cnn_model_g.summary())"
   ]
  },
  {
   "cell_type": "code",
   "execution_count": 55,
   "id": "0983524b",
   "metadata": {},
   "outputs": [
    {
     "name": "stdout",
     "output_type": "stream",
     "text": [
      "Epoch 1/2\n",
      "WARNING:tensorflow:AutoGraph could not transform <function Model.make_train_function.<locals>.train_function at 0x2aefe6e22d08> and will run it as-is.\n",
      "Please report this to the TensorFlow team. When filing the bug, set the verbosity to 10 (on Linux, `export AUTOGRAPH_VERBOSITY=10`) and attach the full output.\n",
      "Cause: 'arguments' object has no attribute 'posonlyargs'\n",
      "To silence this warning, decorate the function with @tf.autograph.experimental.do_not_convert\n",
      "WARNING: AutoGraph could not transform <function Model.make_train_function.<locals>.train_function at 0x2aefe6e22d08> and will run it as-is.\n",
      "Please report this to the TensorFlow team. When filing the bug, set the verbosity to 10 (on Linux, `export AUTOGRAPH_VERBOSITY=10`) and attach the full output.\n",
      "Cause: 'arguments' object has no attribute 'posonlyargs'\n",
      "To silence this warning, decorate the function with @tf.autograph.experimental.do_not_convert\n",
      "102/102 [==============================] - ETA: 0s - loss: 0.5317 - accuracy: 0.7509WARNING:tensorflow:AutoGraph could not transform <function Model.make_test_function.<locals>.test_function at 0x2af2a6fb89d8> and will run it as-is.\n",
      "Please report this to the TensorFlow team. When filing the bug, set the verbosity to 10 (on Linux, `export AUTOGRAPH_VERBOSITY=10`) and attach the full output.\n",
      "Cause: 'arguments' object has no attribute 'posonlyargs'\n",
      "To silence this warning, decorate the function with @tf.autograph.experimental.do_not_convert\n",
      "WARNING: AutoGraph could not transform <function Model.make_test_function.<locals>.test_function at 0x2af2a6fb89d8> and will run it as-is.\n",
      "Please report this to the TensorFlow team. When filing the bug, set the verbosity to 10 (on Linux, `export AUTOGRAPH_VERBOSITY=10`) and attach the full output.\n",
      "Cause: 'arguments' object has no attribute 'posonlyargs'\n",
      "To silence this warning, decorate the function with @tf.autograph.experimental.do_not_convert\n",
      "\n",
      "Epoch 1: loss improved from inf to 0.53167, saving model to Updated/modelFakeNewsNet_CNN_GLOVE.h5\n",
      "102/102 [==============================] - 158s 1s/step - loss: 0.5317 - accuracy: 0.7509 - val_loss: 0.4705 - val_accuracy: 0.7744\n",
      "Epoch 2/2\n",
      "102/102 [==============================] - ETA: 0s - loss: 0.3464 - accuracy: 0.8578\n",
      "Epoch 2: loss improved from 0.53167 to 0.34645, saving model to Updated/modelFakeNewsNet_CNN_GLOVE.h5\n",
      "102/102 [==============================] - 200s 2s/step - loss: 0.3464 - accuracy: 0.8578 - val_loss: 0.3813 - val_accuracy: 0.8484\n"
     ]
    }
   ],
   "source": [
    "history_cnn_glove=cnn_model_g.fit(pad_train,y_train,epochs=2,batch_size=128,validation_split=0.2,shuffle=True, callbacks=callbacks_list) "
   ]
  },
  {
   "cell_type": "code",
   "execution_count": 56,
   "id": "85e39a9b",
   "metadata": {},
   "outputs": [
    {
     "data": {
      "image/png": "[encoded data removed]",
      "text/plain": [
       "<Figure size 864x360 with 2 Axes>"
      ]
     },
     "metadata": {
      "needs_background": "light"
     },
     "output_type": "display_data"
    }
   ],
   "source": [
    "plot_loss_and_acc(history_cnn_glove)"
   ]
  },
  {
   "cell_type": "markdown",
   "id": "bc447f1f",
   "metadata": {},
   "source": [
    "### LSTM"
   ]
  },
  {
   "cell_type": "code",
   "execution_count": 51,
   "id": "6cd03cad",
   "metadata": {},
   "outputs": [],
   "source": [
    "clear_session()"
   ]
  },
  {
   "cell_type": "code",
   "execution_count": 35,
   "id": "00810c58",
   "metadata": {},
   "outputs": [],
   "source": [
    "# Model Checkpoint and EarlyStopping\n",
    "filepath = \"Updated//modelFakeNewsNetLSTM_GLOVE.h5\" # Location to get the model\n",
    "checkpoint = ModelCheckpoint(filepath, monitor='loss', verbose=1, save_best_only=True, mode='min')\n",
    "es = EarlyStopping(monitor='val_loss', patience=3,mode='min', verbose=1)\n",
    "callbacks_list = [checkpoint,es]"
   ]
  },
  {
   "cell_type": "code",
   "execution_count": 36,
   "id": "a2a37122",
   "metadata": {},
   "outputs": [],
   "source": [
    "from keras.initializers import Constant\n",
    "lstm_model_g=Sequential()\n",
    "lstm_model_g.add(Embedding(input_dim=vocab_size,output_dim=embed_dim,input_length=maxi,\n",
    "                    embeddings_initializer=Constant(embedding_gmatrix),trainable=True))\n",
    "lstm_model_g.add(LSTM(128,return_sequences=True,dropout=0.2)) # loss stucks at about \n",
    "lstm_model_g.add(GlobalMaxPooling1D())\n",
    "lstm_model_g.add(Dense(64,activation='relu'))\n",
    "lstm_model_g.add(Dense(1,activation='sigmoid'))  # sigmod for bin. classification.\n",
    "\n",
    "# compile the model\n",
    "lstm_model_g.compile(optimizer='adam',loss='binary_crossentropy',metrics=['accuracy'])"
   ]
  },
  {
   "cell_type": "code",
   "execution_count": 31,
   "id": "bc41b0f2",
   "metadata": {},
   "outputs": [],
   "source": [
    "clear_session()"
   ]
  },
  {
   "cell_type": "code",
   "execution_count": 32,
   "id": "47248c06",
   "metadata": {},
   "outputs": [
    {
     "name": "stdout",
     "output_type": "stream",
     "text": [
      "Model: \"sequential\"\n",
      "_________________________________________________________________\n",
      " Layer (type)                Output Shape              Param #   \n",
      "=================================================================\n",
      " embedding (Embedding)       (None, 10000, 300)        29623500  \n",
      "                                                                 \n",
      " lstm (LSTM)                 (None, 10000, 128)        219648    \n",
      "                                                                 \n",
      " global_max_pooling1d (Globa  (None, 128)              0         \n",
      " lMaxPooling1D)                                                  \n",
      "                                                                 \n",
      " dense (Dense)               (None, 64)                8256      \n",
      "                                                                 \n",
      " dense_1 (Dense)             (None, 1)                 65        \n",
      "                                                                 \n",
      "=================================================================\n",
      "Total params: 29,851,469\n",
      "Trainable params: 29,851,469\n",
      "Non-trainable params: 0\n",
      "_________________________________________________________________\n"
     ]
    }
   ],
   "source": [
    "lstm_model_g.summary()"
   ]
  },
  {
   "cell_type": "code",
   "execution_count": 33,
   "id": "83092f3b",
   "metadata": {
    "scrolled": true
   },
   "outputs": [
    {
     "name": "stdout",
     "output_type": "stream",
     "text": [
      "Epoch 1/3\n",
      "WARNING:tensorflow:AutoGraph could not transform <function Model.make_train_function.<locals>.train_function at 0x2aaf3c140268> and will run it as-is.\n",
      "Please report this to the TensorFlow team. When filing the bug, set the verbosity to 10 (on Linux, `export AUTOGRAPH_VERBOSITY=10`) and attach the full output.\n",
      "Cause: 'arguments' object has no attribute 'posonlyargs'\n",
      "To silence this warning, decorate the function with @tf.autograph.experimental.do_not_convert\n",
      "WARNING: AutoGraph could not transform <function Model.make_train_function.<locals>.train_function at 0x2aaf3c140268> and will run it as-is.\n",
      "Please report this to the TensorFlow team. When filing the bug, set the verbosity to 10 (on Linux, `export AUTOGRAPH_VERBOSITY=10`) and attach the full output.\n",
      "Cause: 'arguments' object has no attribute 'posonlyargs'\n",
      "To silence this warning, decorate the function with @tf.autograph.experimental.do_not_convert\n",
      "102/102 [==============================] - ETA: 0s - loss: 0.4916 - accuracy: 0.7785 WARNING:tensorflow:AutoGraph could not transform <function Model.make_test_function.<locals>.test_function at 0x2aafe3eea1e0> and will run it as-is.\n",
      "Please report this to the TensorFlow team. When filing the bug, set the verbosity to 10 (on Linux, `export AUTOGRAPH_VERBOSITY=10`) and attach the full output.\n",
      "Cause: 'arguments' object has no attribute 'posonlyargs'\n",
      "To silence this warning, decorate the function with @tf.autograph.experimental.do_not_convert\n",
      "WARNING: AutoGraph could not transform <function Model.make_test_function.<locals>.test_function at 0x2aafe3eea1e0> and will run it as-is.\n",
      "Please report this to the TensorFlow team. When filing the bug, set the verbosity to 10 (on Linux, `export AUTOGRAPH_VERBOSITY=10`) and attach the full output.\n",
      "Cause: 'arguments' object has no attribute 'posonlyargs'\n",
      "To silence this warning, decorate the function with @tf.autograph.experimental.do_not_convert\n",
      "\n",
      "Epoch 1: loss improved from inf to 0.49159, saving model to Updated/modelFakeNewsNetLSTM_GLOVE.h5\n",
      "102/102 [==============================] - 3354s 33s/step - loss: 0.4916 - accuracy: 0.7785 - val_loss: 0.4213 - val_accuracy: 0.8315\n",
      "Epoch 2/3\n",
      "102/102 [==============================] - ETA: 0s - loss: 0.3584 - accuracy: 0.8484 \n",
      "Epoch 2: loss improved from 0.49159 to 0.35836, saving model to Updated/modelFakeNewsNetLSTM_GLOVE.h5\n",
      "102/102 [==============================] - 3291s 32s/step - loss: 0.3584 - accuracy: 0.8484 - val_loss: 0.3589 - val_accuracy: 0.8502\n",
      "Epoch 3/3\n",
      "102/102 [==============================] - ETA: 0s - loss: 0.2895 - accuracy: 0.8801 \n",
      "Epoch 3: loss improved from 0.35836 to 0.28951, saving model to Updated/modelFakeNewsNetLSTM_GLOVE.h5\n",
      "102/102 [==============================] - 3296s 32s/step - loss: 0.2895 - accuracy: 0.8801 - val_loss: 0.3629 - val_accuracy: 0.8453\n"
     ]
    }
   ],
   "source": [
    "history_lstm_glove=lstm_model_g.fit(pad_train,y_train,epochs=3,batch_size=128,validation_split=0.2,shuffle=True, callbacks=callbacks_list) "
   ]
  },
  {
   "cell_type": "code",
   "execution_count": null,
   "id": "9ae565e0",
   "metadata": {},
   "outputs": [],
   "source": []
  },
  {
   "cell_type": "code",
   "execution_count": null,
   "id": "8d00c28a",
   "metadata": {},
   "outputs": [],
   "source": []
  },
  {
   "cell_type": "markdown",
   "id": "7bcd5b20",
   "metadata": {},
   "source": [
    "### Bi-LSTM"
   ]
  },
  {
   "cell_type": "code",
   "execution_count": null,
   "id": "1e1af5e7",
   "metadata": {},
   "outputs": [],
   "source": [
    "# Model Checkpoint and EarlyStopping\n",
    "filepath = \"Updated//modelFakeNewsNet_BiLSTM_GLOVE.h5\" # Location to get the model\n",
    "checkpoint = ModelCheckpoint(filepath, monitor='loss', verbose=1, save_best_only=True, mode='min')\n",
    "es = EarlyStopping(monitor='val_loss', patience=3,mode='min', verbose=1)\n",
    "callbacks_list = [checkpoint,es]"
   ]
  },
  {
   "cell_type": "code",
   "execution_count": null,
   "id": "f1661bff",
   "metadata": {},
   "outputs": [],
   "source": [
    "from keras.initializers import Constant\n",
    "bilstm_model_g=Sequential()\n",
    "bilstm_model_g.add(Embedding(input_dim=vocab_size,output_dim=embed_dim,input_length=maxi,\n",
    "                    embeddings_initializer=Constant(embedding_gmatrix),trainable=True))\n",
    "bilstm_model_g.add(Bidirectional(LSTM(128,return_sequences=True,dropout=0.2))) # loss stucks at about \n",
    "bilstm_model_g.add(GlobalMaxPooling1D())\n",
    "bilstm_model_g.add(Dense(64,activation='relu'))\n",
    "bilstm_model_g.add(Dense(1,activation='sigmoid'))  # sigmod for bin. classification.\n",
    "\n",
    "# compile the model\n",
    "bilstm_model_g.compile(optimizer='adam',loss='binary_crossentropy',metrics=['accuracy'])"
   ]
  },
  {
   "cell_type": "code",
   "execution_count": null,
   "id": "82a9a307",
   "metadata": {},
   "outputs": [],
   "source": [
    "clear_session()"
   ]
  },
  {
   "cell_type": "code",
   "execution_count": null,
   "id": "d0e30e17",
   "metadata": {},
   "outputs": [],
   "source": [
    "bilstm_model_g.summary()"
   ]
  },
  {
   "cell_type": "code",
   "execution_count": null,
   "id": "b9875619",
   "metadata": {},
   "outputs": [],
   "source": [
    "history_bilstm_glove=bilstm_model_g.fit(pad_train,y_train,epochs=2,batch_size=128,validation_split=0.2,shuffle=True, callbacks=callbacks_list) "
   ]
  },
  {
   "cell_type": "code",
   "execution_count": null,
   "id": "c56c6e32",
   "metadata": {},
   "outputs": [
    {
     "name": "stdout",
     "output_type": "stream",
     "text": [
      "Epoch 1/2\n",
      "WARNING:tensorflow:AutoGraph could not transform <function Model.make_train_function.<locals>.train_function at 0x2b01b4367ea0> and will run it as-is.\n",
      "Please report this to the TensorFlow team. When filing the bug, set the verbosity to 10 (on Linux, `export AUTOGRAPH_VERBOSITY=10`) and attach the full output.\n",
      "Cause: 'arguments' object has no attribute 'posonlyargs'\n",
      "To silence this warning, decorate the function with @tf.autograph.experimental.do_not_convert\n",
      "WARNING: AutoGraph could not transform <function Model.make_train_function.<locals>.train_function at 0x2b01b4367ea0> and will run it as-is.\n",
      "Please report this to the TensorFlow team. When filing the bug, set the verbosity to 10 (on Linux, `export AUTOGRAPH_VERBOSITY=10`) and attach the full output.\n",
      "Cause: 'arguments' object has no attribute 'posonlyargs'\n",
      "To silence this warning, decorate the function with @tf.autograph.experimental.do_not_convert\n",
      "102/102 [==============================] - ETA: 0s - loss: 0.4914 - accuracy: 0.7781 WARNING:tensorflow:AutoGraph could not transform <function Model.make_test_function.<locals>.test_function at 0x2b0393e95f28> and will run it as-is.\n",
      "Please report this to the TensorFlow team. When filing the bug, set the verbosity to 10 (on Linux, `export AUTOGRAPH_VERBOSITY=10`) and attach the full output.\n",
      "Cause: 'arguments' object has no attribute 'posonlyargs'\n",
      "To silence this warning, decorate the function with @tf.autograph.experimental.do_not_convert\n",
      "WARNING: AutoGraph could not transform <function Model.make_test_function.<locals>.test_function at 0x2b0393e95f28> and will run it as-is.\n",
      "Please report this to the TensorFlow team. When filing the bug, set the verbosity to 10 (on Linux, `export AUTOGRAPH_VERBOSITY=10`) and attach the full output.\n",
      "Cause: 'arguments' object has no attribute 'posonlyargs'\n",
      "To silence this warning, decorate the function with @tf.autograph.experimental.do_not_convert\n",
      "\n",
      "Epoch 1: loss improved from inf to 0.49144, saving model to Updated/modelFakeNewsNet_BiLSTM_GLOVE.h5\n",
      "102/102 [==============================] - 3821s 37s/step - loss: 0.4914 - accuracy: 0.7781 - val_loss: 0.4158 - val_accuracy: 0.8097\n",
      "Epoch 2/2\n",
      "102/102 [==============================] - ETA: 0s - loss: 0.3535 - accuracy: 0.8529 "
     ]
    }
   ],
   "source": [
    "history_bilstm_glove=bilstm_model_g.fit(pad_train,y_train,epochs=2,batch_size=128,validation_split=0.2,shuffle=True, callbacks=callbacks_list) "
   ]
  },
  {
   "cell_type": "code",
   "execution_count": 4,
   "id": "a615bca6",
   "metadata": {},
   "outputs": [],
   "source": [
    "# from keras.models import load_model\n",
    "# bilstm_model = load_model('Updated//modelFakeNewsNet_BiLSTM_GLOVE.h5')"
   ]
  },
  {
   "cell_type": "code",
   "execution_count": null,
   "id": "c806bcb4",
   "metadata": {},
   "outputs": [],
   "source": [
    "plot_loss_and_acc(history_bilstm_glove)"
   ]
  },
  {
   "cell_type": "code",
   "execution_count": null,
   "id": "b00aa84e",
   "metadata": {},
   "outputs": [],
   "source": []
  }
 ],
 "metadata": {
  "kernelspec": {
   "display_name": "Python 3",
   "language": "python",
   "name": "python3"
  },
  "language_info": {
   "codemirror_mode": {
    "name": "ipython",
    "version": 3
   },
   "file_extension": ".py",
   "mimetype": "text/x-python",
   "name": "python",
   "nbconvert_exporter": "python",
   "pygments_lexer": "ipython3",
   "version": "3.7.11"
  }
 },
 "nbformat": 4,
 "nbformat_minor": 5
}
