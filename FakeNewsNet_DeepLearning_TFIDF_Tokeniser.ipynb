{
 "cells": [
  {
   "cell_type": "code",
   "execution_count": 1,
   "id": "e34e8c15",
   "metadata": {},
   "outputs": [
    {
     "name": "stderr",
     "output_type": "stream",
     "text": [
      "2022-06-19 13:14:21.935956: I tensorflow/core/util/util.cc:169] oneDNN custom operations are on. You may see slightly different numerical results due to floating-point round-off errors from different computation orders. To turn them off, set the environment variable `TF_ENABLE_ONEDNN_OPTS=0`.\n",
      "2022-06-19 13:14:22.145321: W tensorflow/stream_executor/platform/default/dso_loader.cc:64] Could not load dynamic library 'libcudart.so.11.0'; dlerror: libcudart.so.11.0: cannot open shared object file: No such file or directory; LD_LIBRARY_PATH: /gpfs/software/ada/python/anaconda/2020.11/3.8/lib:/gpfs/software/ada/cuda/10.2.89/lib64:/gpfs/software/ada/cuda/10.2.89/lib/lib64\n",
      "2022-06-19 13:14:22.145389: I tensorflow/stream_executor/cuda/cudart_stub.cc:29] Ignore above cudart dlerror if you do not have a GPU set up on your machine.\n",
      "[nltk_data] Downloading package omw-1.4 to\n",
      "[nltk_data]     /gpfs/home/psc21zcu/nltk_data...\n",
      "[nltk_data]   Package omw-1.4 is already up-to-date!\n",
      "[nltk_data] Downloading package stopwords to\n",
      "[nltk_data]     /gpfs/home/psc21zcu/nltk_data...\n",
      "[nltk_data]   Package stopwords is already up-to-date!\n",
      "[nltk_data] Downloading package punkt to\n",
      "[nltk_data]     /gpfs/home/psc21zcu/nltk_data...\n",
      "[nltk_data]   Package punkt is already up-to-date!\n",
      "[nltk_data] Downloading package averaged_perceptron_tagger to\n",
      "[nltk_data]     /gpfs/home/psc21zcu/nltk_data...\n",
      "[nltk_data]   Package averaged_perceptron_tagger is already up-to-\n",
      "[nltk_data]       date!\n",
      "[nltk_data] Downloading package wordnet to\n",
      "[nltk_data]     /gpfs/home/psc21zcu/nltk_data...\n",
      "[nltk_data]   Package wordnet is already up-to-date!\n"
     ]
    }
   ],
   "source": [
    "import numpy as np\n",
    "import pandas as pd\n",
    "import warnings\n",
    "%matplotlib inline\n",
    "import matplotlib.pyplot as plt\n",
    "import seaborn as sns\n",
    "import glob\n",
    "import json\n",
    "import tensorflow_hub as hub\n",
    "import tensorflow_text\n",
    "import tldextract  \n",
    "import warnings\n",
    "warnings.filterwarnings('ignore')\n",
    "\n",
    "from bs4 import BeautifulSoup\n",
    "from sklearn.model_selection import train_test_split,StratifiedKFold,RandomizedSearchCV\n",
    "from sklearn.metrics import classification_report,confusion_matrix,accuracy_score,roc_curve, roc_auc_score,f1_score,precision_score, recall_score\n",
    "from sklearn.feature_extraction.text import TfidfVectorizer,CountVectorizer\n",
    "from imblearn.over_sampling import SMOTE,ADASYN\n",
    "from sklearn.pipeline import Pipeline\n",
    "from sklearn.ensemble import RandomForestClassifier\n",
    "from sklearn.svm import SVC\n",
    "from sklearn.neighbors import KNeighborsClassifier\n",
    "from sklearn.naive_bayes import GaussianNB,MultinomialNB\n",
    "from xgboost import XGBClassifier\n",
    "from sklearn.linear_model import LogisticRegression\n",
    "import re\n",
    "\n",
    "from collections import Counter\n",
    "import nltk \n",
    "import spacy\n",
    "nltk.download('omw-1.4')\n",
    "nltk.download('stopwords')\n",
    "nltk.download('punkt')\n",
    "nltk.download('averaged_perceptron_tagger')\n",
    "nltk.download('wordnet')\n",
    "\n",
    "from wordcloud import WordCloud, ImageColorGenerator,STOPWORDS\n",
    "import gensim\n",
    "from gensim.parsing.preprocessing import STOPWORDS as gensim_stopwords\n",
    "import copy\n",
    "from nltk.stem import PorterStemmer\n",
    "from nltk.corpus import stopwords,wordnet\n",
    "from nltk.tokenize import word_tokenize\n",
    "from nltk.stem import WordNetLemmatizer,LancasterStemmer\n",
    "from pprint import pprint\n",
    "\n",
    "\n",
    "import tensorflow as tf\n",
    "from tensorflow.keras.models import Sequential\n",
    "from tensorflow.keras import layers\n",
    "from tensorflow.keras.preprocessing.text import Tokenizer\n",
    "from tensorflow.keras.preprocessing.sequence import pad_sequences\n",
    "from tensorflow.keras.wrappers.scikit_learn import KerasClassifier\n",
    "from tensorflow.keras.layers import Dense, Dropout, Activation,Embedding,Flatten,LSTM,Bidirectional,GlobalMaxPooling1D\n",
    "from tensorflow.keras.layers import Reshape,Conv1D, MaxPooling1D, Concatenate\n",
    "from tensorflow.keras.callbacks import ModelCheckpoint,EarlyStopping\n",
    "from tensorflow.keras.layers import BatchNormalization\n",
    "from keras.backend import clear_session\n",
    "\n",
    "\n",
    "pd.set_option('display.max_rows', 500)\n",
    "pd.set_option('display.max_columns', 500)\n",
    "pd.set_option('display.width', 1000)\n",
    "pd.set_option('display.expand_frame_repr', False)\n",
    "pd.set_option('display.max_colwidth', 200)\n",
    "\n",
    "import warnings\n",
    "warnings.filterwarnings('ignore')"
   ]
  },
  {
   "cell_type": "markdown",
   "id": "ff34bd20",
   "metadata": {},
   "source": [
    "### Loading the Full prepared dataset - FakeNewsNet"
   ]
  },
  {
   "cell_type": "code",
   "execution_count": 2,
   "id": "86f8274c",
   "metadata": {},
   "outputs": [],
   "source": [
    "#creating a data frame\n",
    "df = pd.read_csv(\"Updated//full_dataset.csv\")"
   ]
  },
  {
   "cell_type": "markdown",
   "id": "8d6fee90",
   "metadata": {},
   "source": [
    "##### Consolidating Stopwords list"
   ]
  },
  {
   "cell_type": "code",
   "execution_count": 3,
   "id": "a935ca0e",
   "metadata": {},
   "outputs": [],
   "source": [
    "#loading the english language small model of spacy\n",
    "import spacy\n",
    "en = spacy.load('en_core_web_sm')\n",
    "sw_spacy = en.Defaults.stop_words"
   ]
  },
  {
   "cell_type": "code",
   "execution_count": 4,
   "id": "4b41d824",
   "metadata": {},
   "outputs": [],
   "source": [
    "gensim_stopwords_list=list(gensim_stopwords) # gensim\n",
    "nltk_stopwords_list=stopwords.words('english') # nltk\n",
    "spacy_stopwords=list(sw_spacy) # spacy\n",
    "wordcloud_stopwords_list=list(STOPWORDS)"
   ]
  },
  {
   "cell_type": "code",
   "execution_count": 5,
   "id": "d5f2eaf7",
   "metadata": {},
   "outputs": [],
   "source": [
    "total_stop_words_list= set(gensim_stopwords_list + nltk_stopwords_list + spacy_stopwords + wordcloud_stopwords_list)"
   ]
  },
  {
   "cell_type": "markdown",
   "id": "4c0bba78",
   "metadata": {},
   "source": [
    "#### Helper Function to preprocess the text  with all the operations as mentioned above"
   ]
  },
  {
   "cell_type": "code",
   "execution_count": 6,
   "id": "3f953ad4",
   "metadata": {},
   "outputs": [],
   "source": [
    "def get_wordnet_pos(word):\n",
    "    tag = nltk.pos_tag([word])[0][1][0].upper()\n",
    "    tag_dict = {\"J\": wordnet.ADJ,\n",
    "                \"N\": wordnet.NOUN,\n",
    "                \"V\": wordnet.VERB,\n",
    "                \"R\": wordnet.ADV}\n",
    "\n",
    "    return tag_dict.get(tag,wordnet.NOUN)\n",
    "\n",
    "porter = PorterStemmer()\n",
    "lancaster=LancasterStemmer()\n",
    "lemmatizer = WordNetLemmatizer()"
   ]
  },
  {
   "cell_type": "code",
   "execution_count": 7,
   "id": "cdfd0e47",
   "metadata": {},
   "outputs": [],
   "source": [
    "def clean_format(text):\n",
    "    # Remove HTML tags\n",
    "    bsoup = BeautifulSoup(text, \"html.parser\")\n",
    "    clean_text = bsoup.get_text()\n",
    "    \n",
    "    \n",
    "    # Remove any URL\n",
    "    url = re.compile(r'https?://\\S+|www\\.\\S+')\n",
    "    url.sub(r'', clean_text)\n",
    "    \n",
    "    # Remove any numbers\n",
    "    clean_text=re.sub(r'\\d+','',clean_text)\n",
    "    \n",
    "    # Remove all kinds of date formats\n",
    "    clean_text=re.sub(r'\\d+[\\.\\/-]\\d+[\\.\\/-]\\d+', '', clean_text)\n",
    "    clean_text=re.sub(r'\\d+[\\.\\/-]\\d+[\\.\\/-]\\d+', '', clean_text)\n",
    "    clean_text=re.sub(r'\\d+[\\.\\/-]\\d+[\\.\\/-]\\d+', '', clean_text)\n",
    "    \n",
    "    \n",
    "    # Removal of punctuation and lower case conversion\n",
    "    clean_text = re.sub('\\[[^]]*\\]', ' ', clean_text)\n",
    "    clean_text = re.sub('[^a-zA-Z]',' ',clean_text)  # replaces non-alphabets with spaces\n",
    "    clean_text = clean_text.lower()\n",
    "    \n",
    "    # Removal of 2 consecutive double space\n",
    "    clean_text=re.sub(r' {2,}',' ',clean_text)\n",
    "    \n",
    "    clean_text = clean_text.split()\n",
    "    \n",
    "    textclean=[]\n",
    "    clean_text = [textclean.append(word) for word in clean_text if word not in total_stop_words_list and len(word) > 2]\n",
    "    clean_text = ' '.join(textclean)\n",
    "    \n",
    "#     # Lemmatization\n",
    "    clean_text = clean_text.split()\n",
    "    lemmatizer = WordNetLemmatizer()\n",
    "    newcleantext= [lemmatizer.lemmatize(w) for w in clean_text]\n",
    "    newcleantext = ' '.join(newcleantext)\n",
    "    \n",
    "    return newcleantext"
   ]
  },
  {
   "cell_type": "code",
   "execution_count": 8,
   "id": "facfaa6f",
   "metadata": {},
   "outputs": [],
   "source": [
    "df['cleantext']=df['fulltext'].apply(clean_format)"
   ]
  },
  {
   "cell_type": "code",
   "execution_count": 9,
   "id": "6c8616d3",
   "metadata": {},
   "outputs": [
    {
     "data": {
      "text/plain": [
       "0    rick santorum amending constitution balance budget good rick santorum amending constitution balance budget good rick santorum summer saw great groundswell national support fiscal house order cutti...\n",
       "Name: cleantext, dtype: object"
      ]
     },
     "execution_count": 9,
     "metadata": {},
     "output_type": "execute_result"
    }
   ],
   "source": [
    "df['cleantext'].head(1)"
   ]
  },
  {
   "cell_type": "code",
   "execution_count": null,
   "id": "564ee0d7",
   "metadata": {},
   "outputs": [],
   "source": []
  },
  {
   "cell_type": "markdown",
   "id": "64f3a097",
   "metadata": {},
   "source": [
    "### Saving Fulldataset"
   ]
  },
  {
   "cell_type": "code",
   "execution_count": 12,
   "id": "d1592759",
   "metadata": {},
   "outputs": [],
   "source": [
    "df.to_csv('Updated//full_dataset_fakenewsnet_cleaned_using_nltk.csv', index=False)"
   ]
  },
  {
   "cell_type": "markdown",
   "id": "3f8dac95",
   "metadata": {},
   "source": [
    "### Loading the Full prepared dataset  cleaned data using nltk- FakeNewsNet"
   ]
  },
  {
   "cell_type": "code",
   "execution_count": 10,
   "id": "2fd6b362",
   "metadata": {},
   "outputs": [],
   "source": [
    "#creating a data frame\n",
    "df = pd.read_csv(\"Updated//full_dataset_fakenewsnet_cleaned_using_nltk.csv\")"
   ]
  },
  {
   "cell_type": "code",
   "execution_count": 11,
   "id": "fddda4c5",
   "metadata": {},
   "outputs": [],
   "source": [
    "df = df[df['cleantext'].notna()]"
   ]
  },
  {
   "cell_type": "code",
   "execution_count": 12,
   "id": "bff1e0da",
   "metadata": {},
   "outputs": [],
   "source": [
    "## Shuffling the rows\n",
    "df = df.sample(frac=1).reset_index(drop=True)"
   ]
  },
  {
   "cell_type": "code",
   "execution_count": null,
   "id": "920922fa",
   "metadata": {},
   "outputs": [],
   "source": []
  },
  {
   "cell_type": "code",
   "execution_count": 13,
   "id": "e03f8f59",
   "metadata": {},
   "outputs": [],
   "source": [
    "X=df['cleantext'].apply(str)\n",
    "y=df['class']"
   ]
  },
  {
   "cell_type": "code",
   "execution_count": 14,
   "id": "9ba979ba",
   "metadata": {},
   "outputs": [],
   "source": [
    "X_train, X_test, y_train, y_test = train_test_split(X, y, test_size=0.2,stratify=y, random_state=0)"
   ]
  },
  {
   "cell_type": "code",
   "execution_count": 15,
   "id": "6f410083",
   "metadata": {},
   "outputs": [],
   "source": [
    "#num_words: the maximum number of words to keep, based on word frequency. Only the most common num_words-1 words will be kept.\n",
    "tokenizer = Tokenizer(num_words=10000,lower= 1, oov_token=\"<OOV>\")"
   ]
  },
  {
   "cell_type": "code",
   "execution_count": 16,
   "id": "09643749",
   "metadata": {
    "scrolled": true
   },
   "outputs": [],
   "source": [
    "tokenizer.fit_on_texts(X_train)\n",
    "word_index = tokenizer.word_index"
   ]
  },
  {
   "cell_type": "code",
   "execution_count": 17,
   "id": "146396de",
   "metadata": {},
   "outputs": [],
   "source": [
    "vocab_size=len(tokenizer.word_index) + 1  #10000\n",
    "embedding_dim=300\n",
    "max_tokens=10000\n",
    "EPOCHS = 3"
   ]
  },
  {
   "cell_type": "markdown",
   "id": "bfef6206",
   "metadata": {},
   "source": [
    "### Using TFIDF Tokenisation mode"
   ]
  },
  {
   "cell_type": "code",
   "execution_count": 18,
   "id": "8b689637",
   "metadata": {
    "scrolled": true
   },
   "outputs": [],
   "source": [
    "X_train_tokens = tokenizer.texts_to_matrix(X_train, mode='tfidf')\n",
    "X_test_tokens = tokenizer.texts_to_matrix(X_test, mode='tfidf')"
   ]
  },
  {
   "cell_type": "code",
   "execution_count": 19,
   "id": "fde56386",
   "metadata": {},
   "outputs": [],
   "source": [
    "#df['cleantext'].str.len().max()"
   ]
  },
  {
   "cell_type": "code",
   "execution_count": 20,
   "id": "f6e6472f",
   "metadata": {},
   "outputs": [],
   "source": [
    "X_train_pad=pad_sequences(X_train_tokens,padding='post')\n",
    "X_test_pad=pad_sequences(X_test_tokens,padding='post')"
   ]
  },
  {
   "cell_type": "code",
   "execution_count": 21,
   "id": "4f85f993",
   "metadata": {},
   "outputs": [
    {
     "data": {
      "text/plain": [
       "array([[ 0, 27,  0, ...,  0,  0,  0],\n",
       "       [ 0, 48,  2, ...,  0,  0,  0],\n",
       "       [ 0,  9,  0, ...,  0,  0,  0],\n",
       "       ...,\n",
       "       [ 0,  9,  0, ...,  0,  0,  0],\n",
       "       [ 0, 40,  1, ...,  6,  0,  0],\n",
       "       [ 0, 25,  1, ...,  0,  0,  0]], dtype=int32)"
      ]
     },
     "execution_count": 21,
     "metadata": {},
     "output_type": "execute_result"
    }
   ],
   "source": [
    "X_train_pad"
   ]
  },
  {
   "cell_type": "code",
   "execution_count": 22,
   "id": "f5a6b88b",
   "metadata": {},
   "outputs": [
    {
     "data": {
      "text/plain": [
       "10000"
      ]
     },
     "execution_count": 22,
     "metadata": {},
     "output_type": "execute_result"
    }
   ],
   "source": [
    "#print(type(X_train_tokens))\n",
    "max(map(len, X_train_pad))"
   ]
  },
  {
   "cell_type": "code",
   "execution_count": 23,
   "id": "4ba8bc09",
   "metadata": {},
   "outputs": [
    {
     "data": {
      "text/plain": [
       "86468"
      ]
     },
     "execution_count": 23,
     "metadata": {},
     "output_type": "execute_result"
    }
   ],
   "source": [
    "len(tokenizer.word_index)+1"
   ]
  },
  {
   "cell_type": "code",
   "execution_count": 43,
   "id": "079b54b8",
   "metadata": {},
   "outputs": [],
   "source": [
    "import matplotlib.pyplot as plt\n",
    "\n",
    "\n",
    "def plot_loss_and_acc(history):\n",
    "    train_loss = history.history[\"loss\"]\n",
    "    train_acc = history.history[\"accuracy\"]\n",
    "    val_loss = history.history[\"val_loss\"]\n",
    "    val_acc = history.history[\"val_accuracy\"]\n",
    "\n",
    "    fig = plt.figure(figsize=(12,5))\n",
    "\n",
    "    ax = fig.add_subplot(121)\n",
    "    ax.plot(range(len(train_loss)), train_loss, label=\"Train Loss\");\n",
    "    ax.plot(range(len(val_loss)), val_loss, label=\"Validation Loss\");\n",
    "    plt.xlabel(\"Epochs\"); plt.ylabel(\"Loss\");\n",
    "    plt.title(\"Train Loss vs Validation Loss\");\n",
    "    plt.legend(loc=\"best\");\n",
    "\n",
    "    ax = fig.add_subplot(122)\n",
    "    ax.plot(range(len(train_acc)), train_acc, label=\"Train Accuracy\");\n",
    "    ax.plot(range(len(val_acc)), val_acc, label=\"Validation Accuracy\");\n",
    "    plt.xlabel(\"Epochs\"); plt.ylabel(\"Accuracy\");\n",
    "    plt.title(\"Train Accuracy vs Validation Accuracy\");\n",
    "    plt.legend(loc=\"best\");"
   ]
  },
  {
   "cell_type": "markdown",
   "id": "7086d462",
   "metadata": {},
   "source": [
    "## Using 1D CNN"
   ]
  },
  {
   "cell_type": "code",
   "execution_count": 18,
   "id": "14159e0c",
   "metadata": {},
   "outputs": [],
   "source": [
    "# Model Checkpoint and EarlyStopping\n",
    "filepath = \"Updated//modelFakeNewsNetCNN.h5\" # Location to get the model\n",
    "checkpoint = ModelCheckpoint(filepath, monitor='loss', verbose=1, save_best_only=True, mode='min')\n",
    "es = EarlyStopping(monitor='val_loss', patience=3,mode='min', verbose=1)\n",
    "callbacks_list = [checkpoint,es]"
   ]
  },
  {
   "cell_type": "code",
   "execution_count": 24,
   "id": "8cb4cf1b",
   "metadata": {},
   "outputs": [],
   "source": [
    "# warnings.filterwarnings('ignore')\n",
    "# model=Sequential()\n",
    "# model.add(Embedding(vocab_size,embedding_dim,input_length=max_tokens))\n",
    "# model.add(Conv1D(filters=32, kernel_size=7, padding='valid', activation='relu'))\n",
    "# model.add(Conv1D(filters=64, kernel_size=7, padding='valid', activation='relu'))\n",
    "# model.add(MaxPooling1D())\n",
    "# model.add(Conv1D(filters=128, kernel_size=3, padding='same', activation='relu'))\n",
    "# model.add(MaxPooling1D())\n",
    "# model.add(Flatten())\n",
    "# model.add(Dense(64, activation='relu'))\n",
    "# model.add(Dropout(0.5))\n",
    "# model.add(Dense(1, activation='sigmoid'))\n",
    "# # compile the model\n",
    "# model.compile(optimizer='adam', loss='binary_crossentropy', metrics=['accuracy'])\n",
    "# # summarize the model\n",
    "# print(model.summary())"
   ]
  },
  {
   "cell_type": "code",
   "execution_count": 44,
   "id": "933bf892",
   "metadata": {},
   "outputs": [
    {
     "name": "stdout",
     "output_type": "stream",
     "text": [
      "Model: \"sequential_1\"\n",
      "_________________________________________________________________\n",
      " Layer (type)                Output Shape              Param #   \n",
      "=================================================================\n",
      " embedding_1 (Embedding)     (None, 10000, 500)        5000000   \n",
      "                                                                 \n",
      " conv1d_3 (Conv1D)           (None, 9998, 128)         192128    \n",
      "                                                                 \n",
      " conv1d_4 (Conv1D)           (None, 9996, 64)          24640     \n",
      "                                                                 \n",
      " max_pooling1d_2 (MaxPooling  (None, 4998, 64)         0         \n",
      " 1D)                                                             \n",
      "                                                                 \n",
      " conv1d_5 (Conv1D)           (None, 4998, 32)          6176      \n",
      "                                                                 \n",
      " max_pooling1d_3 (MaxPooling  (None, 2499, 32)         0         \n",
      " 1D)                                                             \n",
      "                                                                 \n",
      " flatten_1 (Flatten)         (None, 79968)             0         \n",
      "                                                                 \n",
      " dense_3 (Dense)             (None, 128)               10236032  \n",
      "                                                                 \n",
      " dropout_2 (Dropout)         (None, 128)               0         \n",
      "                                                                 \n",
      " dense_4 (Dense)             (None, 64)                8256      \n",
      "                                                                 \n",
      " dropout_3 (Dropout)         (None, 64)                0         \n",
      "                                                                 \n",
      " dense_5 (Dense)             (None, 1)                 65        \n",
      "                                                                 \n",
      "=================================================================\n",
      "Total params: 15,467,297\n",
      "Trainable params: 15,467,297\n",
      "Non-trainable params: 0\n",
      "_________________________________________________________________\n",
      "None\n"
     ]
    }
   ],
   "source": [
    "warnings.filterwarnings('ignore')\n",
    "model=Sequential()\n",
    "model.add(Embedding(vocab_size,embedding_dim,input_length=max_tokens))\n",
    "model.add(Conv1D(filters=128, kernel_size=3, padding='valid', activation='relu'))\n",
    "model.add(Conv1D(filters=64, kernel_size=3, padding='valid', activation='relu'))\n",
    "model.add(MaxPooling1D())\n",
    "model.add(Conv1D(filters=32, kernel_size=3, padding='same', activation='relu'))\n",
    "model.add(MaxPooling1D())\n",
    "model.add(Flatten())\n",
    "model.add(Dense(128, activation='relu'))\n",
    "model.add(Dropout(0.4))\n",
    "model.add(Dense(64, activation='relu'))\n",
    "model.add(Dropout(0.2))\n",
    "model.add(Dense(1, activation='sigmoid'))\n",
    "# compile the model\n",
    "model.compile(optimizer='adam', loss='binary_crossentropy', metrics=['accuracy'])\n",
    "# summarize the model\n",
    "print(model.summary())"
   ]
  },
  {
   "cell_type": "code",
   "execution_count": 45,
   "id": "6f89ed14",
   "metadata": {},
   "outputs": [],
   "source": [
    "clear_session()"
   ]
  },
  {
   "cell_type": "code",
   "execution_count": 46,
   "id": "36cfda44",
   "metadata": {
    "scrolled": true
   },
   "outputs": [
    {
     "name": "stdout",
     "output_type": "stream",
     "text": [
      "Epoch 1/3\n",
      "WARNING:tensorflow:AutoGraph could not transform <function Model.make_train_function.<locals>.train_function at 0x2b9ed8c4a620> and will run it as-is.\n",
      "Please report this to the TensorFlow team. When filing the bug, set the verbosity to 10 (on Linux, `export AUTOGRAPH_VERBOSITY=10`) and attach the full output.\n",
      "Cause: 'arguments' object has no attribute 'posonlyargs'\n",
      "To silence this warning, decorate the function with @tf.autograph.experimental.do_not_convert\n",
      "WARNING: AutoGraph could not transform <function Model.make_train_function.<locals>.train_function at 0x2b9ed8c4a620> and will run it as-is.\n",
      "Please report this to the TensorFlow team. When filing the bug, set the verbosity to 10 (on Linux, `export AUTOGRAPH_VERBOSITY=10`) and attach the full output.\n",
      "Cause: 'arguments' object has no attribute 'posonlyargs'\n",
      "To silence this warning, decorate the function with @tf.autograph.experimental.do_not_convert\n",
      "255/255 [==============================] - ETA: 0s - loss: 0.5398 - accuracy: 0.7603WARNING:tensorflow:AutoGraph could not transform <function Model.make_test_function.<locals>.test_function at 0x2b9ed8e289d8> and will run it as-is.\n",
      "Please report this to the TensorFlow team. When filing the bug, set the verbosity to 10 (on Linux, `export AUTOGRAPH_VERBOSITY=10`) and attach the full output.\n",
      "Cause: 'arguments' object has no attribute 'posonlyargs'\n",
      "To silence this warning, decorate the function with @tf.autograph.experimental.do_not_convert\n",
      "WARNING: AutoGraph could not transform <function Model.make_test_function.<locals>.test_function at 0x2b9ed8e289d8> and will run it as-is.\n",
      "Please report this to the TensorFlow team. When filing the bug, set the verbosity to 10 (on Linux, `export AUTOGRAPH_VERBOSITY=10`) and attach the full output.\n",
      "Cause: 'arguments' object has no attribute 'posonlyargs'\n",
      "To silence this warning, decorate the function with @tf.autograph.experimental.do_not_convert\n",
      "\n",
      "Epoch 1: loss did not improve from 0.12867\n",
      "255/255 [==============================] - 361s 1s/step - loss: 0.5398 - accuracy: 0.7603 - val_loss: 0.4359 - val_accuracy: 0.8137\n",
      "Epoch 2/3\n",
      "255/255 [==============================] - ETA: 0s - loss: 0.4073 - accuracy: 0.8274\n",
      "Epoch 2: loss did not improve from 0.12867\n",
      "255/255 [==============================] - 368s 1s/step - loss: 0.4073 - accuracy: 0.8274 - val_loss: 0.3777 - val_accuracy: 0.8480\n",
      "Epoch 3/3\n",
      "255/255 [==============================] - ETA: 0s - loss: 0.3387 - accuracy: 0.8629\n",
      "Epoch 3: loss did not improve from 0.12867\n",
      "255/255 [==============================] - 371s 1s/step - loss: 0.3387 - accuracy: 0.8629 - val_loss: 0.3676 - val_accuracy: 0.8554\n"
     ]
    }
   ],
   "source": [
    "warnings.filterwarnings('ignore')\n",
    "history=model.fit(X_train_pad, y_train, epochs=3, batch_size=64,validation_data=(X_test_pad,y_test), callbacks=callbacks_list)"
   ]
  },
  {
   "cell_type": "code",
   "execution_count": 47,
   "id": "eafc6aa8",
   "metadata": {},
   "outputs": [
    {
     "data": {
      "image/png": "[encoded data removed]",
      "text/plain": [
       "<Figure size 864x360 with 2 Axes>"
      ]
     },
     "metadata": {
      "needs_background": "light"
     },
     "output_type": "display_data"
    }
   ],
   "source": [
    "\n",
    "\n",
    "plot_loss_and_acc(history)\n"
   ]
  },
  {
   "cell_type": "markdown",
   "id": "da2f63c3",
   "metadata": {},
   "source": [
    "#### 86% Accuracy got for Test Validation dataset"
   ]
  },
  {
   "cell_type": "markdown",
   "id": "2516cce3",
   "metadata": {},
   "source": [
    "-----------------------------"
   ]
  },
  {
   "cell_type": "markdown",
   "id": "2b3d5484",
   "metadata": {},
   "source": [
    "### Using LSTM"
   ]
  },
  {
   "cell_type": "code",
   "execution_count": 24,
   "id": "ec4c5015",
   "metadata": {},
   "outputs": [],
   "source": [
    "# Model Checkpoint and EarlyStopping\n",
    "filepath_lstm = \"Updated//modelFakeNewsNetLSTM_TFIDF.h5\" # Location to get the model\n",
    "checkpoint_lstm = ModelCheckpoint(filepath_lstm, monitor='loss', verbose=1, save_best_only=True, mode='min')\n",
    "es_lstm = EarlyStopping(monitor='val_loss', patience=3,mode='min', verbose=1)\n",
    "callbacks_list_lstm = [checkpoint_lstm,es_lstm]"
   ]
  },
  {
   "cell_type": "code",
   "execution_count": 25,
   "id": "438bd0da",
   "metadata": {},
   "outputs": [
    {
     "data": {
      "text/plain": [
       "86468"
      ]
     },
     "execution_count": 25,
     "metadata": {},
     "output_type": "execute_result"
    }
   ],
   "source": [
    "vocab_size"
   ]
  },
  {
   "cell_type": "code",
   "execution_count": 48,
   "id": "4ae2f1f5",
   "metadata": {},
   "outputs": [
    {
     "name": "stdout",
     "output_type": "stream",
     "text": [
      "Model: \"lstm_nn_model\"\n",
      "_________________________________________________________________\n",
      " Layer (type)                Output Shape              Param #   \n",
      "=================================================================\n",
      " embedding (Embedding)       (None, 10000, 200)        17293600  \n",
      "                                                                 \n",
      " global_max_pooling1d (Globa  (None, 1, 200)           0         \n",
      " lMaxPooling1D)                                                  \n",
      "                                                                 \n",
      " lstm (LSTM)                 (None, 1, 128)            168448    \n",
      "                                                                 \n",
      " global_max_pooling1d_1 (Glo  (None, 128)              0         \n",
      " balMaxPooling1D)                                                \n",
      "                                                                 \n",
      " dense (Dense)               (None, 128)               16512     \n",
      "                                                                 \n",
      " dense_1 (Dense)             (None, 1)                 129       \n",
      "                                                                 \n",
      "=================================================================\n",
      "Total params: 17,478,689\n",
      "Trainable params: 17,478,689\n",
      "Non-trainable params: 0\n",
      "_________________________________________________________________\n"
     ]
    }
   ],
   "source": [
    "lstm_model = Sequential(name = 'lstm_nn_model')\n",
    "lstm_model.add(layer = Embedding(input_dim = vocab_size, output_dim = 200, input_length=max_tokens))\n",
    "lstm_model.add(GlobalMaxPooling1D(keepdims=True))\n",
    "lstm_model.add(LSTM(128, return_sequences=True,dropout=0.2))\n",
    "lstm_model.add(GlobalMaxPooling1D())\n",
    "lstm_model.add(Dense(128, activation='relu'))\n",
    "lstm_model.add(Dense(1,activation='sigmoid'))\n",
    "lstm_model.compile(loss='binary_crossentropy',optimizer='adam',metrics=['accuracy'])\n",
    "lstm_model.summary()"
   ]
  },
  {
   "cell_type": "code",
   "execution_count": 49,
   "id": "6711797a",
   "metadata": {},
   "outputs": [],
   "source": [
    "clear_session()"
   ]
  },
  {
   "cell_type": "code",
   "execution_count": 50,
   "id": "e8e37968",
   "metadata": {},
   "outputs": [
    {
     "name": "stdout",
     "output_type": "stream",
     "text": [
      "Epoch 1/2\n",
      "WARNING:tensorflow:AutoGraph could not transform <function Model.make_train_function.<locals>.train_function at 0x2b066caf0048> and will run it as-is.\n",
      "Please report this to the TensorFlow team. When filing the bug, set the verbosity to 10 (on Linux, `export AUTOGRAPH_VERBOSITY=10`) and attach the full output.\n",
      "Cause: 'arguments' object has no attribute 'posonlyargs'\n",
      "To silence this warning, decorate the function with @tf.autograph.experimental.do_not_convert\n",
      "WARNING: AutoGraph could not transform <function Model.make_train_function.<locals>.train_function at 0x2b066caf0048> and will run it as-is.\n",
      "Please report this to the TensorFlow team. When filing the bug, set the verbosity to 10 (on Linux, `export AUTOGRAPH_VERBOSITY=10`) and attach the full output.\n",
      "Cause: 'arguments' object has no attribute 'posonlyargs'\n",
      "To silence this warning, decorate the function with @tf.autograph.experimental.do_not_convert\n",
      "128/128 [==============================] - ETA: 0s - loss: 0.5675 - accuracy: 0.7486WARNING:tensorflow:AutoGraph could not transform <function Model.make_test_function.<locals>.test_function at 0x2b048ca36378> and will run it as-is.\n",
      "Please report this to the TensorFlow team. When filing the bug, set the verbosity to 10 (on Linux, `export AUTOGRAPH_VERBOSITY=10`) and attach the full output.\n",
      "Cause: 'arguments' object has no attribute 'posonlyargs'\n",
      "To silence this warning, decorate the function with @tf.autograph.experimental.do_not_convert\n",
      "WARNING: AutoGraph could not transform <function Model.make_test_function.<locals>.test_function at 0x2b048ca36378> and will run it as-is.\n",
      "Please report this to the TensorFlow team. When filing the bug, set the verbosity to 10 (on Linux, `export AUTOGRAPH_VERBOSITY=10`) and attach the full output.\n",
      "Cause: 'arguments' object has no attribute 'posonlyargs'\n",
      "To silence this warning, decorate the function with @tf.autograph.experimental.do_not_convert\n",
      "\n",
      "Epoch 1: loss did not improve from 0.54959\n",
      "128/128 [==============================] - 47s 357ms/step - loss: 0.5675 - accuracy: 0.7486 - val_loss: 0.5527 - val_accuracy: 0.7520\n",
      "Epoch 2/2\n",
      "128/128 [==============================] - ETA: 0s - loss: 0.5504 - accuracy: 0.7520\n",
      "Epoch 2: loss did not improve from 0.54959\n",
      "128/128 [==============================] - 46s 360ms/step - loss: 0.5504 - accuracy: 0.7520 - val_loss: 0.5491 - val_accuracy: 0.7520\n"
     ]
    }
   ],
   "source": [
    "warnings.filterwarnings('ignore')\n",
    "history_lstm=lstm_model.fit(X_train_pad, y_train, epochs=2, batch_size=128,validation_data=(X_test_pad,y_test), callbacks=callbacks_list_lstm)"
   ]
  },
  {
   "cell_type": "code",
   "execution_count": 51,
   "id": "c9da0eec",
   "metadata": {},
   "outputs": [
    {
     "data": {
      "image/png": "[encoded data removed]",
      "text/plain": [
       "<Figure size 864x360 with 2 Axes>"
      ]
     },
     "metadata": {
      "needs_background": "light"
     },
     "output_type": "display_data"
    }
   ],
   "source": [
    "plot_loss_and_acc(history_lstm)"
   ]
  },
  {
   "cell_type": "code",
   "execution_count": null,
   "id": "fab035f8",
   "metadata": {},
   "outputs": [],
   "source": []
  },
  {
   "cell_type": "code",
   "execution_count": null,
   "id": "c83bbc3c",
   "metadata": {},
   "outputs": [],
   "source": []
  },
  {
   "cell_type": "markdown",
   "id": "9c9283d9",
   "metadata": {},
   "source": [
    "### BiLSTM"
   ]
  },
  {
   "cell_type": "code",
   "execution_count": 58,
   "id": "30e6a60f",
   "metadata": {},
   "outputs": [],
   "source": [
    "# Model Checkpoint and EarlyStopping\n",
    "filepath_bilstm = \"Updated//modelFakeNewsNetBiLSTM.h5\" # Location to get the model\n",
    "checkpoint_bilstm = ModelCheckpoint(filepath_bilstm, monitor='loss', verbose=1, save_best_only=True, mode='min')\n",
    "es_bilstm = EarlyStopping(monitor='val_loss', patience=3,mode='min', verbose=1)\n",
    "callbacks_list_bilstm = [checkpoint_bilstm,es_bilstm]"
   ]
  },
  {
   "cell_type": "code",
   "execution_count": 67,
   "id": "4afd0980",
   "metadata": {},
   "outputs": [
    {
     "name": "stdout",
     "output_type": "stream",
     "text": [
      "Model: \"sequential_1\"\n",
      "_________________________________________________________________\n",
      " Layer (type)                Output Shape              Param #   \n",
      "=================================================================\n",
      " embedding_1 (Embedding)     (None, 10000, 100)        8646800   \n",
      "                                                                 \n",
      " max_pooling1d (MaxPooling1D  (None, 5000, 100)        0         \n",
      " )                                                               \n",
      "                                                                 \n",
      " bidirectional (Bidirectiona  (None, 5000, 256)        234496    \n",
      " l)                                                              \n",
      "                                                                 \n",
      " dense (Dense)               (None, 5000, 1)           257       \n",
      "                                                                 \n",
      "=================================================================\n",
      "Total params: 8,881,553\n",
      "Trainable params: 8,881,553\n",
      "Non-trainable params: 0\n",
      "_________________________________________________________________\n"
     ]
    }
   ],
   "source": [
    "bilstm_model = Sequential()\n",
    "bilstm_model.add(layer = Embedding(input_dim = vocab_size, output_dim = 100, input_length=max_tokens))\n",
    "bilstm_model.add(MaxPooling1D())\n",
    "bilstm_model.add(Bidirectional(LSTM(128, dropout=0.2, return_sequences=True)))\n",
    "bilstm_model.add(Dense(1, activation='sigmoid'))\n",
    "bilstm_model.compile(optimizer = 'adam', loss = 'binary_crossentropy', metrics = ['accuracy'])\n",
    "bilstm_model.summary()"
   ]
  },
  {
   "cell_type": "code",
   "execution_count": 68,
   "id": "6d39bfa0",
   "metadata": {},
   "outputs": [],
   "source": [
    "clear_session()"
   ]
  },
  {
   "cell_type": "code",
   "execution_count": 69,
   "id": "432b32d5",
   "metadata": {},
   "outputs": [
    {
     "name": "stdout",
     "output_type": "stream",
     "text": [
      "Epoch 1/2\n",
      "WARNING:tensorflow:AutoGraph could not transform <function Model.make_train_function.<locals>.train_function at 0x2b0b13eb98c8> and will run it as-is.\n",
      "Please report this to the TensorFlow team. When filing the bug, set the verbosity to 10 (on Linux, `export AUTOGRAPH_VERBOSITY=10`) and attach the full output.\n",
      "Cause: 'arguments' object has no attribute 'posonlyargs'\n",
      "To silence this warning, decorate the function with @tf.autograph.experimental.do_not_convert\n",
      "WARNING: AutoGraph could not transform <function Model.make_train_function.<locals>.train_function at 0x2b0b13eb98c8> and will run it as-is.\n",
      "Please report this to the TensorFlow team. When filing the bug, set the verbosity to 10 (on Linux, `export AUTOGRAPH_VERBOSITY=10`) and attach the full output.\n",
      "Cause: 'arguments' object has no attribute 'posonlyargs'\n",
      "To silence this warning, decorate the function with @tf.autograph.experimental.do_not_convert\n",
      "128/128 [==============================] - ETA: 0s - loss: 0.5650 - accuracy: 0.7520 WARNING:tensorflow:AutoGraph could not transform <function Model.make_test_function.<locals>.test_function at 0x2b039a1c7950> and will run it as-is.\n",
      "Please report this to the TensorFlow team. When filing the bug, set the verbosity to 10 (on Linux, `export AUTOGRAPH_VERBOSITY=10`) and attach the full output.\n",
      "Cause: 'arguments' object has no attribute 'posonlyargs'\n",
      "To silence this warning, decorate the function with @tf.autograph.experimental.do_not_convert\n",
      "WARNING: AutoGraph could not transform <function Model.make_test_function.<locals>.test_function at 0x2b039a1c7950> and will run it as-is.\n",
      "Please report this to the TensorFlow team. When filing the bug, set the verbosity to 10 (on Linux, `export AUTOGRAPH_VERBOSITY=10`) and attach the full output.\n",
      "Cause: 'arguments' object has no attribute 'posonlyargs'\n",
      "To silence this warning, decorate the function with @tf.autograph.experimental.do_not_convert\n",
      "\n",
      "Epoch 1: loss did not improve from 0.55257\n",
      "128/128 [==============================] - 1817s 14s/step - loss: 0.5650 - accuracy: 0.7520 - val_loss: 0.5603 - val_accuracy: 0.7520\n",
      "Epoch 2/2\n",
      "128/128 [==============================] - ETA: 0s - loss: 0.5610 - accuracy: 0.7520 \n",
      "Epoch 2: loss did not improve from 0.55257\n",
      "128/128 [==============================] - 1790s 14s/step - loss: 0.5610 - accuracy: 0.7520 - val_loss: 0.5599 - val_accuracy: 0.7520\n"
     ]
    }
   ],
   "source": [
    "warnings.filterwarnings('ignore')\n",
    "history_bilstm=bilstm_model.fit(X_train_pad, y_train, epochs=2, batch_size=128,validation_data=(X_test_pad,y_test), callbacks=callbacks_list_bilstm)"
   ]
  },
  {
   "cell_type": "code",
   "execution_count": 65,
   "id": "5c4686ca",
   "metadata": {},
   "outputs": [
    {
     "data": {
      "image/png": "[encoded data removed]",
      "text/plain": [
       "<Figure size 864x360 with 2 Axes>"
      ]
     },
     "metadata": {
      "needs_background": "light"
     },
     "output_type": "display_data"
    }
   ],
   "source": [
    "plot_loss_and_acc(history_bilstm)"
   ]
  },
  {
   "cell_type": "code",
   "execution_count": null,
   "id": "bd000a09",
   "metadata": {},
   "outputs": [],
   "source": []
  }
 ],
 "metadata": {
  "kernelspec": {
   "display_name": "Python 3",
   "language": "python",
   "name": "python3"
  },
  "language_info": {
   "codemirror_mode": {
    "name": "ipython",
    "version": 3
   },
   "file_extension": ".py",
   "mimetype": "text/x-python",
   "name": "python",
   "nbconvert_exporter": "python",
   "pygments_lexer": "ipython3",
   "version": "3.7.11"
  }
 },
 "nbformat": 4,
 "nbformat_minor": 5
}
