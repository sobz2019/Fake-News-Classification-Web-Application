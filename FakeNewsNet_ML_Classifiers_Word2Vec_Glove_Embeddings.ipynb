{
 "cells": [
  {
   "cell_type": "code",
   "execution_count": 2,
   "id": "fe38eb9c",
   "metadata": {},
   "outputs": [],
   "source": [
    "#!pip install simpletransformers"
   ]
  },
  {
   "cell_type": "code",
   "execution_count": 32,
   "id": "249702fe",
   "metadata": {
    "scrolled": true
   },
   "outputs": [],
   "source": [
    "#!pip install torchvision\n",
    "#!pip install tensorflow_text"
   ]
  },
  {
   "cell_type": "code",
   "execution_count": 1,
   "id": "81825a37",
   "metadata": {},
   "outputs": [
    {
     "name": "stderr",
     "output_type": "stream",
     "text": [
      "[nltk_data] Downloading package stopwords to\n",
      "[nltk_data]     /gpfs/home/psc21zcu/nltk_data...\n",
      "[nltk_data]   Package stopwords is already up-to-date!\n",
      "[nltk_data] Downloading package punkt to\n",
      "[nltk_data]     /gpfs/home/psc21zcu/nltk_data...\n",
      "[nltk_data]   Package punkt is already up-to-date!\n",
      "[nltk_data] Downloading package averaged_perceptron_tagger to\n",
      "[nltk_data]     /gpfs/home/psc21zcu/nltk_data...\n",
      "[nltk_data]   Package averaged_perceptron_tagger is already up-to-\n",
      "[nltk_data]       date!\n",
      "[nltk_data] Downloading package wordnet to\n",
      "[nltk_data]     /gpfs/home/psc21zcu/nltk_data...\n",
      "[nltk_data]   Package wordnet is already up-to-date!\n"
     ]
    }
   ],
   "source": [
    "import numpy as np\n",
    "import pandas as pd\n",
    "import warnings\n",
    "%matplotlib inline\n",
    "import matplotlib.pyplot as plt\n",
    "import seaborn as sns\n",
    "import glob\n",
    "import json\n",
    "import tldextract   # Accurately separates a URL's subdomain, domain, and public suffix\n",
    "from bs4 import BeautifulSoup\n",
    "from sklearn.model_selection import train_test_split\n",
    "from sklearn.metrics import classification_report,confusion_matrix,accuracy_score\n",
    "from sklearn.metrics import precision_score, recall_score\n",
    "from sklearn.pipeline import Pipeline\n",
    "from sklearn.metrics import roc_auc_score\n",
    "from sklearn.ensemble import RandomForestClassifier\n",
    "from sklearn.model_selection import RandomizedSearchCV\n",
    "from sklearn.svm import SVC\n",
    "from sklearn.neighbors import KNeighborsClassifier\n",
    "from sklearn.naive_bayes import GaussianNB\n",
    "from sklearn.naive_bayes import MultinomialNB\n",
    "from xgboost import XGBClassifier\n",
    "from sklearn.linear_model import LogisticRegression\n",
    "import re\n",
    "from sklearn.metrics import roc_curve, roc_auc_score\n",
    "from sklearn.feature_extraction.text import TfidfVectorizer,CountVectorizer\n",
    "import nltk \n",
    "import spacy\n",
    "nltk.download('stopwords')\n",
    "nltk.download('punkt')\n",
    "nltk.download('averaged_perceptron_tagger')\n",
    "nltk.download('wordnet')\n",
    "from wordcloud import WordCloud, ImageColorGenerator,STOPWORDS\n",
    "import gensim\n",
    "from gensim.parsing.preprocessing import STOPWORDS as gensim_stopwords\n",
    "import copy\n",
    "from nltk.stem import PorterStemmer\n",
    "from nltk.corpus import stopwords,wordnet\n",
    "from nltk.tokenize import word_tokenize\n",
    "from nltk.stem import WordNetLemmatizer,LancasterStemmer\n",
    "from sklearn.metrics import f1_score\n",
    "from pprint import pprint\n",
    "import warnings\n",
    "\n",
    "warnings.filterwarnings('ignore')\n",
    "pd.set_option('display.max_rows', 500)\n",
    "pd.set_option('display.max_columns', 500)\n",
    "pd.set_option('display.width', 1000)\n",
    "pd.set_option('display.expand_frame_repr', False)\n",
    "pd.set_option('display.max_colwidth', 1000)"
   ]
  },
  {
   "cell_type": "code",
   "execution_count": 34,
   "id": "dc3a7ab2",
   "metadata": {},
   "outputs": [],
   "source": [
    "pd.set_option('display.max_colwidth', 200)\n",
    "#pd.set_option('display.height', 500)\n",
    "pd.set_option('display.max_rows', 500)"
   ]
  },
  {
   "cell_type": "code",
   "execution_count": 3,
   "id": "9ccd94f8",
   "metadata": {},
   "outputs": [],
   "source": [
    "foldr_pol_real = 'input_dataset//fakenewsnet//politifact//real//'\n",
    "foldr_pol_fake = 'input_dataset//fakenewsnet//politifact//fake//'\n",
    "foldr_gos_real = 'input_dataset//fakenewsnet//gossipcop//real//'\n",
    "foldr_gos_fake = 'input_dataset//fakenewsnet//gossipcop//fake//'"
   ]
  },
  {
   "cell_type": "markdown",
   "id": "d5b383eb",
   "metadata": {},
   "source": [
    "##### Function to extract or convert JSON content to News Content format in dataframe"
   ]
  },
  {
   "cell_type": "code",
   "execution_count": 6,
   "id": "ecd8d829",
   "metadata": {},
   "outputs": [],
   "source": [
    "def json_to_newscontent(datapath):\n",
    "    dictlist = []\n",
    "    cols = ['url','text','title','authors','num_images','domain']\n",
    "    folders = glob.glob(datapath+'/*')\n",
    "    for index, subdir in enumerate(folders):\n",
    "        path_file = glob.glob(subdir+'/*')\n",
    "        #check whether file path is valid or not\n",
    "        if len(path_file) == 1:\n",
    "            file = open(path_file[0]).read()\n",
    "            jsondata = json.loads(file)\n",
    "            thedict = {'url':jsondata['url'],'title':jsondata['title'],'text':jsondata['text'],\n",
    "                   'num_images':len(jsondata['images']),'authors':str(jsondata['authors'])}\n",
    "            extrt_url = tldextract.extract(jsondata['url'])\n",
    "            thedict['domain'] = extrt_url.domain\n",
    "            dictlist.append(thedict)\n",
    "    df=pd.DataFrame(dictlist,columns=cols)\n",
    "    return df"
   ]
  },
  {
   "cell_type": "markdown",
   "id": "d8e4e41a",
   "metadata": {},
   "source": [
    "##### Converting seperate dataframes for Politfact fake and real and Gossip fake and real"
   ]
  },
  {
   "cell_type": "code",
   "execution_count": 7,
   "id": "5ebc397e",
   "metadata": {},
   "outputs": [
    {
     "name": "stdout",
     "output_type": "stream",
     "text": [
      "Execution time: 313.5928819179535 seconds\n"
     ]
    }
   ],
   "source": [
    "import time\n",
    "\n",
    "# get the start time\n",
    "st = time.time()\n",
    "\n",
    "df_pol_real = json_to_newscontent(foldr_pol_real)\n",
    "df_pol_fake = json_to_newscontent(foldr_pol_fake)\n",
    "df_gos_real = json_to_newscontent(foldr_gos_real)\n",
    "df_gos_fake = json_to_newscontent(foldr_gos_fake)\n",
    "\n",
    "# get the end time\n",
    "et = time.time()\n",
    "\n",
    "# get the execution time\n",
    "elapsed_time = et - st\n",
    "print('Execution time:', elapsed_time, 'seconds')"
   ]
  },
  {
   "cell_type": "code",
   "execution_count": 8,
   "id": "f5af97e5",
   "metadata": {},
   "outputs": [],
   "source": [
    "## Cleaned dataset\n",
    "df_pol_real = df_pol_real.loc[df_pol_real[\"text\"] != '' ]\n",
    "df_pol_fake = df_pol_fake.loc[df_pol_fake[\"text\"] != '' ]\n",
    "df_gos_real = df_gos_real.loc[df_gos_real[\"text\"] != '' ]\n",
    "df_gos_fake = df_gos_fake.loc[df_gos_fake[\"text\"] != '' ]\n",
    "\n",
    "df_pol_real.reset_index(drop=True,inplace=True)\n",
    "df_pol_fake.reset_index(drop=True,inplace=True)\n",
    "df_gos_real.reset_index(drop=True,inplace=True)\n",
    "df_gos_fake.reset_index(drop=True,inplace=True)"
   ]
  },
  {
   "cell_type": "code",
   "execution_count": 9,
   "id": "caefd75d",
   "metadata": {},
   "outputs": [],
   "source": [
    "df_pol_real['Category'] = 'Politics' \n",
    "df_pol_fake['Category'] = 'Politics'\n",
    "df_gos_real['Category'] = 'Gossips'\n",
    "df_gos_fake['Category'] = 'Gossips'"
   ]
  },
  {
   "cell_type": "markdown",
   "id": "5e65feb0",
   "metadata": {},
   "source": [
    "##### Add response variable 'class' based on True=1 or Fake=0"
   ]
  },
  {
   "cell_type": "code",
   "execution_count": 10,
   "id": "510886d4",
   "metadata": {},
   "outputs": [],
   "source": [
    "df_pol_real['class'] = 0 #True\n",
    "df_pol_fake['class'] = 1 #Fake\n",
    "df_gos_real['class'] = 0\n",
    "df_gos_fake['class'] = 1"
   ]
  },
  {
   "cell_type": "markdown",
   "id": "835c440c",
   "metadata": {},
   "source": [
    "##### Storing dataframe to csv file "
   ]
  },
  {
   "cell_type": "code",
   "execution_count": 11,
   "id": "1851ceb9",
   "metadata": {},
   "outputs": [],
   "source": [
    "df_pol_real.to_csv('Updated//df_pol_real.csv', index=False)\n",
    "df_pol_fake.to_csv('Updated//df_pol_fake.csv', index=False)\n",
    "df_gos_real.to_csv('Updated//df_gos_real.csv', index=False)\n",
    "df_gos_fake.to_csv('Updated//df_gos_fake.csv', index=False)"
   ]
  },
  {
   "cell_type": "markdown",
   "id": "ee4d06f4",
   "metadata": {},
   "source": [
    "#### Creating dataframe from csv"
   ]
  },
  {
   "cell_type": "code",
   "execution_count": 13,
   "id": "29db9848",
   "metadata": {},
   "outputs": [],
   "source": [
    "# #creating a data frame\n",
    "df_pol_real = pd.read_csv(\"Updated//df_pol_real.csv\")\n",
    "df_pol_fake = pd.read_csv(\"Updated//df_pol_fake.csv\")\n",
    "df_gos_real = pd.read_csv(\"Updated//df_gos_real.csv\")\n",
    "df_gos_fake = pd.read_csv(\"Updated//df_gos_fake.csv\")"
   ]
  },
  {
   "cell_type": "code",
   "execution_count": null,
   "id": "af024293",
   "metadata": {},
   "outputs": [],
   "source": [
    "# df_pol_real.drop(columns=['Unnamed: 0'], axis=1, inplace=True)\n",
    "# df_pol_fake.drop(columns=['Unnamed: 0'], axis=1, inplace=True)\n",
    "# df_gos_real.drop(columns=['Unnamed: 0'], axis=1, inplace=True)\n",
    "# df_gos_fake.drop(columns=['Unnamed: 0'], axis=1, inplace=True)"
   ]
  },
  {
   "cell_type": "code",
   "execution_count": 14,
   "id": "c215a20d",
   "metadata": {},
   "outputs": [],
   "source": [
    "df_list = [df_pol_real,df_pol_fake,df_gos_real,df_gos_fake]"
   ]
  },
  {
   "cell_type": "code",
   "execution_count": 15,
   "id": "37d9a6c2",
   "metadata": {},
   "outputs": [],
   "source": [
    "#combine df's into one\n",
    "df = pd.concat(df_list).reset_index(drop=True)\n",
    "total_rows = df.shape[0]"
   ]
  },
  {
   "cell_type": "code",
   "execution_count": 16,
   "id": "49f37703",
   "metadata": {},
   "outputs": [
    {
     "data": {
      "text/plain": [
       "0    75.193989\n",
       "1    24.806011\n",
       "Name: class, dtype: float64"
      ]
     },
     "execution_count": 16,
     "metadata": {},
     "output_type": "execute_result"
    }
   ],
   "source": [
    "df['class'].value_counts() / df.shape[0]*100"
   ]
  },
  {
   "cell_type": "markdown",
   "id": "7320928d",
   "metadata": {},
   "source": [
    "##### combining title and text to full text column"
   ]
  },
  {
   "cell_type": "code",
   "execution_count": 17,
   "id": "d230c3fb",
   "metadata": {},
   "outputs": [
    {
     "data": {
      "text/plain": [
       "(20362, 9)"
      ]
     },
     "execution_count": 17,
     "metadata": {},
     "output_type": "execute_result"
    }
   ],
   "source": [
    "df['fulltext']=df['title']+'.'+df['text']\n",
    "#df2=df2.drop(columns=['url', 'text','title','authors','num_images','domain','Category','url_filter'], axis=1)\n",
    "df=df.dropna()\n",
    "df.shape"
   ]
  },
  {
   "cell_type": "markdown",
   "id": "c4d2454b",
   "metadata": {},
   "source": [
    "### Saving Fulldataset"
   ]
  },
  {
   "cell_type": "code",
   "execution_count": 3,
   "id": "29378960",
   "metadata": {},
   "outputs": [],
   "source": [
    "#df.to_csv('Updated//full_dataset.csv', index=False)"
   ]
  },
  {
   "cell_type": "markdown",
   "id": "3190569b",
   "metadata": {},
   "source": [
    "### Loading the Dataset"
   ]
  },
  {
   "cell_type": "code",
   "execution_count": 2,
   "id": "2ed198ef",
   "metadata": {},
   "outputs": [],
   "source": [
    "#creating a data frame\n",
    "df = pd.read_csv(\"Updated//full_dataset.csv\")"
   ]
  },
  {
   "cell_type": "code",
   "execution_count": 3,
   "id": "b63537a8",
   "metadata": {},
   "outputs": [],
   "source": [
    "filterd_df=df[['fulltext','class']]"
   ]
  },
  {
   "cell_type": "code",
   "execution_count": 4,
   "id": "e1b87aa6",
   "metadata": {},
   "outputs": [
    {
     "data": {
      "text/html": [
       "<div>\n",
       "<style scoped>\n",
       "    .dataframe tbody tr th:only-of-type {\n",
       "        vertical-align: middle;\n",
       "    }\n",
       "\n",
       "    .dataframe tbody tr th {\n",
       "        vertical-align: top;\n",
       "    }\n",
       "\n",
       "    .dataframe thead th {\n",
       "        text-align: right;\n",
       "    }\n",
       "</style>\n",
       "<table border=\"1\" class=\"dataframe\">\n",
       "  <thead>\n",
       "    <tr style=\"text-align: right;\">\n",
       "      <th></th>\n",
       "      <th>fulltext</th>\n",
       "      <th>class</th>\n",
       "    </tr>\n",
       "  </thead>\n",
       "  <tbody>\n",
       "    <tr>\n",
       "      <th>0</th>\n",
       "      <td>Rick Santorum: By amending constitution, we can balance the budget for good.Rick Santorum: By amending constitution, we can balance the budget for good\\n\\nBy RICK SANTORUM\\n\\nLast summer, we saw a great groundswell of national support to get our fiscal house in order by cutting and capping federal spending and passing a balanced budget amendment to the Constitution. However, the President refused to lead and instead pushed the tough decisions to a bureaucratic Washington committee to solve the problem, and though it was named the 'Supercommittee' it couldn't even agree on cutting Post-It Notes from the office supply closet. Now, because of the inaction, we are faced with drastic defense cuts at a time when reports show a nuclear Iran has emerged as a clear and present danger.I supported the 'Cut, Cap, and Balance' movement, but the reality is that what we really need is 'Balance, Balance, Grow' - because without a balanced budget amendment, and a path to economic prosperity, we can...</td>\n",
       "      <td>0</td>\n",
       "    </tr>\n",
       "    <tr>\n",
       "      <th>1</th>\n",
       "      <td>CNN's Don Lemon: Bill O'Reilly's Criticism Of Black Community \"Doesn't Go Far Enough\".Posted on July 27, 2013\\n\\nCNN's Don Lemon: Bill O'Reilly's Criticism Of Black Community \"Doesn't Go Far Enough\"\\n\\nPlease enable Javascript to watch this video\\n\\nDON LEMON, CNN ANCHOR: I want to talk to you because we're going to take a break from the headlines to talk about something I've had on my mind for quite some time now. So much so that I felt compelled to bring back our segment where we hold politicians, leaders, and pundits accountable for what comes out of their mouths. It's time now, again, for No Talking Points.\\n\\n\\n\\nThe Trayvon Martin murder case got just about everybody talking about race, and not just specifically how it related to the case. It got some, many on the political right, wondering why the so-called liberal media wasn't talking about other problems in the black community.\\n\\n\\n\\n(BEGIN VIDEO CLIP)\\n\\n\\n\\nJUDY MILLER, FOX NEWS CONTRIBUTOR: Let's talk about race. Let's...</td>\n",
       "      <td>0</td>\n",
       "    </tr>\n",
       "  </tbody>\n",
       "</table>\n",
       "</div>"
      ],
      "text/plain": [
       "                                                                                                                                                                                                                                                                                                                                                                                                                                                                                                                                                                                                                                                                                                                                                                                                                                                                                                                                                                                                                                  fulltext  class\n",
       "0  Rick Santorum: By amending constitution, we can balance the budget for good.Rick Santorum: By amending constitution, we can balance the budget for good\\n\\nBy RICK SANTORUM\\n\\nLast summer, we saw a great groundswell of national support to get our fiscal house in order by cutting and capping federal spending and passing a balanced budget amendment to the Constitution. However, the President refused to lead and instead pushed the tough decisions to a bureaucratic Washington committee to solve the problem, and though it was named the 'Supercommittee' it couldn't even agree on cutting Post-It Notes from the office supply closet. Now, because of the inaction, we are faced with drastic defense cuts at a time when reports show a nuclear Iran has emerged as a clear and present danger.I supported the 'Cut, Cap, and Balance' movement, but the reality is that what we really need is 'Balance, Balance, Grow' - because without a balanced budget amendment, and a path to economic prosperity, we can...      0\n",
       "1  CNN's Don Lemon: Bill O'Reilly's Criticism Of Black Community \"Doesn't Go Far Enough\".Posted on July 27, 2013\\n\\nCNN's Don Lemon: Bill O'Reilly's Criticism Of Black Community \"Doesn't Go Far Enough\"\\n\\nPlease enable Javascript to watch this video\\n\\nDON LEMON, CNN ANCHOR: I want to talk to you because we're going to take a break from the headlines to talk about something I've had on my mind for quite some time now. So much so that I felt compelled to bring back our segment where we hold politicians, leaders, and pundits accountable for what comes out of their mouths. It's time now, again, for No Talking Points.\\n\\n\\n\\nThe Trayvon Martin murder case got just about everybody talking about race, and not just specifically how it related to the case. It got some, many on the political right, wondering why the so-called liberal media wasn't talking about other problems in the black community.\\n\\n\\n\\n(BEGIN VIDEO CLIP)\\n\\n\\n\\nJUDY MILLER, FOX NEWS CONTRIBUTOR: Let's talk about race. Let's...      0"
      ]
     },
     "execution_count": 4,
     "metadata": {},
     "output_type": "execute_result"
    }
   ],
   "source": [
    "filterd_df.head(2)"
   ]
  },
  {
   "cell_type": "code",
   "execution_count": 5,
   "id": "533b9384",
   "metadata": {},
   "outputs": [
    {
     "data": {
      "text/html": [
       "<div>\n",
       "<style scoped>\n",
       "    .dataframe tbody tr th:only-of-type {\n",
       "        vertical-align: middle;\n",
       "    }\n",
       "\n",
       "    .dataframe tbody tr th {\n",
       "        vertical-align: top;\n",
       "    }\n",
       "\n",
       "    .dataframe thead th {\n",
       "        text-align: right;\n",
       "    }\n",
       "</style>\n",
       "<table border=\"1\" class=\"dataframe\">\n",
       "  <thead>\n",
       "    <tr style=\"text-align: right;\">\n",
       "      <th></th>\n",
       "      <th>fulltext</th>\n",
       "      <th>class</th>\n",
       "      <th>cleantext</th>\n",
       "    </tr>\n",
       "  </thead>\n",
       "  <tbody>\n",
       "    <tr>\n",
       "      <th>0</th>\n",
       "      <td>Rick Santorum: By amending constitution, we can balance the budget for good.Rick Santorum: By amending constitution, we can balance the budget for good\\n\\nBy RICK SANTORUM\\n\\nLast summer, we saw a great groundswell of national support to get our fiscal house in order by cutting and capping federal spending and passing a balanced budget amendment to the Constitution. However, the President refused to lead and instead pushed the tough decisions to a bureaucratic Washington committee to solve the problem, and though it was named the 'Supercommittee' it couldn't even agree on cutting Post-It Notes from the office supply closet. Now, because of the inaction, we are faced with drastic defense cuts at a time when reports show a nuclear Iran has emerged as a clear and present danger.I supported the 'Cut, Cap, and Balance' movement, but the reality is that what we really need is 'Balance, Balance, Grow' - because without a balanced budget amendment, and a path to economic prosperity, we can...</td>\n",
       "      <td>0</td>\n",
       "      <td>[rick, santorum, by, amending, constitution, we, can, balance, the, budget, for, good, rick, santorum, by, amending, constitution, we, can, balance, the, budget, for, good, by, rick, santorum, last, summer, we, saw, great, groundswell, of, national, support, to, get, our, fiscal, house, in, order, by, cutting, and, capping, federal, spending, and, passing, balanced, budget, amendment, to, the, constitution, however, the, president, refused, to, lead, and, instead, pushed, the, tough, decisions, to, bureaucratic, washington, committee, to, solve, the, problem, and, though, it, was, named, the, supercommittee, it, couldn, even, agree, on, cutting, post, it, notes, from, the, office, supply, closet, now, because, ...]</td>\n",
       "    </tr>\n",
       "  </tbody>\n",
       "</table>\n",
       "</div>"
      ],
      "text/plain": [
       "                                                                                                                                                                                                                                                                                                                                                                                                                                                                                                                                                                                                                                                                                                                                                                                                                                                                                                                                                                                                                                  fulltext  class                                                                                                                                                                                                                                                                                                                                                                                                                                                                                                                                                                                                                                                                                                                                             cleantext\n",
       "0  Rick Santorum: By amending constitution, we can balance the budget for good.Rick Santorum: By amending constitution, we can balance the budget for good\\n\\nBy RICK SANTORUM\\n\\nLast summer, we saw a great groundswell of national support to get our fiscal house in order by cutting and capping federal spending and passing a balanced budget amendment to the Constitution. However, the President refused to lead and instead pushed the tough decisions to a bureaucratic Washington committee to solve the problem, and though it was named the 'Supercommittee' it couldn't even agree on cutting Post-It Notes from the office supply closet. Now, because of the inaction, we are faced with drastic defense cuts at a time when reports show a nuclear Iran has emerged as a clear and present danger.I supported the 'Cut, Cap, and Balance' movement, but the reality is that what we really need is 'Balance, Balance, Grow' - because without a balanced budget amendment, and a path to economic prosperity, we can...      0  [rick, santorum, by, amending, constitution, we, can, balance, the, budget, for, good, rick, santorum, by, amending, constitution, we, can, balance, the, budget, for, good, by, rick, santorum, last, summer, we, saw, great, groundswell, of, national, support, to, get, our, fiscal, house, in, order, by, cutting, and, capping, federal, spending, and, passing, balanced, budget, amendment, to, the, constitution, however, the, president, refused, to, lead, and, instead, pushed, the, tough, decisions, to, bureaucratic, washington, committee, to, solve, the, problem, and, though, it, was, named, the, supercommittee, it, couldn, even, agree, on, cutting, post, it, notes, from, the, office, supply, closet, now, because, ...]"
      ]
     },
     "execution_count": 5,
     "metadata": {},
     "output_type": "execute_result"
    }
   ],
   "source": [
    "# Clean data using the built in cleaner in gensim\n",
    "filterd_df['cleantext'] = filterd_df['fulltext'].apply(lambda x: gensim.utils.simple_preprocess(x))\n",
    "filterd_df.head(1)"
   ]
  },
  {
   "cell_type": "markdown",
   "id": "7946c328",
   "metadata": {},
   "source": [
    "### Splitting dataset into train and test"
   ]
  },
  {
   "cell_type": "code",
   "execution_count": 6,
   "id": "d3193744",
   "metadata": {},
   "outputs": [],
   "source": [
    "X=filterd_df['cleantext']\n",
    "y=filterd_df['class']"
   ]
  },
  {
   "cell_type": "code",
   "execution_count": 7,
   "id": "c1f2c5ff",
   "metadata": {},
   "outputs": [],
   "source": [
    "#https://medium.com/@dilip.voleti/classification-using-word2vec-b1d79d375381"
   ]
  },
  {
   "cell_type": "code",
   "execution_count": 8,
   "id": "9d4ad273",
   "metadata": {},
   "outputs": [],
   "source": [
    "X_train, X_test, y_train, y_test = train_test_split(X, y, test_size=0.2,stratify=y, random_state=0)"
   ]
  },
  {
   "cell_type": "code",
   "execution_count": 9,
   "id": "1ee11b4e",
   "metadata": {},
   "outputs": [],
   "source": [
    "# Train the word2vec model from our own dataset\n",
    "w2v_embedng_model = gensim.models.Word2Vec(X_train,\n",
    "                                   vector_size=100,\n",
    "                                   window=5,\n",
    "                                   min_count=2)"
   ]
  },
  {
   "cell_type": "code",
   "execution_count": 10,
   "id": "09acdc64",
   "metadata": {},
   "outputs": [],
   "source": [
    "# We need to make aggregated sentence vectors to replace all words in the sentences with the learned word vectors, \n",
    "#then we need to replace each text message with the learned word vectors\n",
    "\n",
    "words = set(w2v_embedng_model.wv.index_to_key )\n",
    "X_train_vect = np.array([np.array([w2v_embedng_model.wv[i] for i in m if i in words])\n",
    "                         for m in X_train])\n",
    "X_test_vect = np.array([np.array([w2v_embedng_model.wv[i] for i in n if i in words])\n",
    "                         for n in X_test])"
   ]
  },
  {
   "cell_type": "code",
   "execution_count": 18,
   "id": "4a07c9b8",
   "metadata": {},
   "outputs": [
    {
     "data": {
      "text/plain": [
       "63135"
      ]
     },
     "execution_count": 18,
     "metadata": {},
     "output_type": "execute_result"
    }
   ],
   "source": [
    "len(words)"
   ]
  },
  {
   "cell_type": "code",
   "execution_count": 19,
   "id": "877e3842",
   "metadata": {},
   "outputs": [
    {
     "data": {
      "text/plain": [
       "193"
      ]
     },
     "execution_count": 19,
     "metadata": {},
     "output_type": "execute_result"
    }
   ],
   "source": [
    "len(X_train_vect[0])"
   ]
  },
  {
   "cell_type": "code",
   "execution_count": 20,
   "id": "d194b5b5",
   "metadata": {},
   "outputs": [
    {
     "data": {
      "text/plain": [
       "19300"
      ]
     },
     "execution_count": 20,
     "metadata": {},
     "output_type": "execute_result"
    }
   ],
   "source": [
    "X_train_vect[0].size"
   ]
  },
  {
   "cell_type": "code",
   "execution_count": 11,
   "id": "8959e80e",
   "metadata": {},
   "outputs": [],
   "source": [
    "# Average the word vectors for each sentence (and assign a vector of zeros if the model\n",
    "# did not learn any of the words in the text message during training\n",
    "\n",
    "X_train_vect_avg = []\n",
    "for v in X_train_vect:\n",
    "    if v.size:\n",
    "        X_train_vect_avg.append(v.mean(axis=0))\n",
    "    else:\n",
    "        X_train_vect_avg.append(np.zeros(100, dtype=float))\n",
    "        \n",
    "X_test_vect_avg = []\n",
    "for v in X_test_vect:\n",
    "    if v.size:\n",
    "        X_test_vect_avg.append(v.mean(axis=0))\n",
    "    else:\n",
    "        X_test_vect_avg.append(np.zeros(100, dtype=float))"
   ]
  },
  {
   "cell_type": "code",
   "execution_count": 21,
   "id": "95775efc",
   "metadata": {},
   "outputs": [],
   "source": [
    "# https://radimrehurek.com/gensim/models/word2vec.html\n",
    "# https://www.kaggle.com/competitions/word2vec-nlp-tutorial/overview/part-3-more-fun-with-word-vectors"
   ]
  },
  {
   "cell_type": "markdown",
   "id": "3c7bb9a4",
   "metadata": {},
   "source": [
    "### Helper Functions"
   ]
  },
  {
   "cell_type": "code",
   "execution_count": 33,
   "id": "0b832779",
   "metadata": {},
   "outputs": [],
   "source": [
    "import timeit\n",
    "from timeit import default_timer as timer\n",
    "from datetime import timedelta\n",
    " \n",
    "\n",
    "\n",
    "def metrics(X_test,y_test,clf):\n",
    "    predictions=clf.predict(X_test)\n",
    "    #predictions=(clf.predict_proba(X_test)[:,1] >= 0.3).astype(bool)\n",
    "    print(\"confusion_matrix :\")\n",
    "    print(confusion_matrix(y_test,predictions))\n",
    "    print(\"Accuracy Score :\")\n",
    "    print(accuracy_score(y_test, predictions))\n",
    "    print(\"Classification Report :\")\n",
    "    print(classification_report(y_test, predictions))\n",
    "    print(\"F1 score :\")\n",
    "    print(f1_score(y_test, predictions))\n",
    "    print(\"ROC AUC Score\")\n",
    "    y_pred_proba = clf.predict_proba(X_test)\n",
    "    print(roc_auc_score(y_test, y_pred_proba[:,1]) )\n",
    "    print(\"------------------------------\")\n",
    "\n",
    "    \n",
    "def model_comparison_table(X_test,y_test,classifier_list):\n",
    "    dict_clf={}\n",
    "    for clf_name,clf in classifier_list:\n",
    "        predictions=clf.predict(X_test)\n",
    "        y_pred_proba = clf.predict_proba(X_test)\n",
    "        accuracy=accuracy_score(y_test, predictions)\n",
    "        precision=precision_score(y_test,predictions,average='macro').round(2)\n",
    "        recall=recall_score(y_test,predictions)\n",
    "        f1score=f1_score(y_test,predictions).round(2)\n",
    "        ROC_AUC=roc_auc_score(y_test, y_pred_proba[:,1])\n",
    "        dict_clf[clf_name]=[accuracy,precision,recall,f1score,ROC_AUC]\n",
    "    df_models_scores = pd.DataFrame(dict_clf, index=['Accuracy', 'Precision', 'Recall', 'F1 Score','roc_auc_score'])\n",
    "    return df_models_scores"
   ]
  },
  {
   "cell_type": "code",
   "execution_count": null,
   "id": "51e447d5",
   "metadata": {},
   "outputs": [],
   "source": []
  },
  {
   "cell_type": "markdown",
   "id": "1b309bac",
   "metadata": {},
   "source": [
    "#### Random Forest -- using  word2vec training our own data"
   ]
  },
  {
   "cell_type": "code",
   "execution_count": 12,
   "id": "12f79e03",
   "metadata": {},
   "outputs": [],
   "source": [
    "# Instantiate and fit a basic Random Forest model on top of the vectors\n",
    "from sklearn.ensemble import RandomForestClassifier\n",
    "rf = RandomForestClassifier(random_state=0,n_estimators=800,max_features='auto',max_depth=110,\n",
    "                            min_samples_split=10,min_samples_leaf=1,bootstrap=False)\n",
    "rf_model = rf.fit(X_train_vect_avg, y_train.values.ravel())"
   ]
  },
  {
   "cell_type": "code",
   "execution_count": 13,
   "id": "3e61b7ea",
   "metadata": {
    "scrolled": true
   },
   "outputs": [
    {
     "name": "stdout",
     "output_type": "stream",
     "text": [
      "Accuracy score : 0.8494966854898109\n",
      "Confusion matrix : \n",
      " [[2991   72]\n",
      " [ 541  469]]\n",
      "Classification Report\n",
      "              precision    recall  f1-score   support\n",
      "\n",
      "           0       0.85      0.98      0.91      3063\n",
      "           1       0.87      0.46      0.60      1010\n",
      "\n",
      "    accuracy                           0.85      4073\n",
      "   macro avg       0.86      0.72      0.76      4073\n",
      "weighted avg       0.85      0.85      0.83      4073\n",
      "\n",
      "Precision : 0.866913123844732\n",
      "Recall : 0.4643564356435644\n"
     ]
    }
   ],
   "source": [
    "# Use the trained model to make predictions on the test data\n",
    "y_pred = rf_model.predict(X_test_vect_avg)\n",
    "print(\"Accuracy score : {}\".format(accuracy_score(y_test, y_pred)))\n",
    "print(\"Confusion matrix : \\n {}\".format(confusion_matrix(y_test, y_pred)))\n",
    "print(\"Classification Report\")\n",
    "print(classification_report(y_test, y_pred))\n",
    "\n",
    "precision = precision_score(y_test, y_pred)\n",
    "print(\"Precision : {}\".format(precision))\n",
    "recall = recall_score(y_test, y_pred)\n",
    "print(\"Recall : {}\".format(recall))"
   ]
  },
  {
   "cell_type": "code",
   "execution_count": null,
   "id": "18873154",
   "metadata": {},
   "outputs": [],
   "source": []
  },
  {
   "cell_type": "code",
   "execution_count": null,
   "id": "764d7a90",
   "metadata": {},
   "outputs": [],
   "source": []
  },
  {
   "cell_type": "markdown",
   "id": "da5ae8c5",
   "metadata": {},
   "source": [
    "## Using pretrained word2vec model"
   ]
  },
  {
   "cell_type": "code",
   "execution_count": 14,
   "id": "7978858b",
   "metadata": {},
   "outputs": [],
   "source": [
    "import gensim.downloader"
   ]
  },
  {
   "cell_type": "code",
   "execution_count": 43,
   "id": "b3809ded",
   "metadata": {},
   "outputs": [
    {
     "name": "stdout",
     "output_type": "stream",
     "text": [
      "['fasttext-wiki-news-subwords-300', 'conceptnet-numberbatch-17-06-300', 'word2vec-ruscorpora-300', 'word2vec-google-news-300', 'glove-wiki-gigaword-50', 'glove-wiki-gigaword-100', 'glove-wiki-gigaword-200', 'glove-wiki-gigaword-300', 'glove-twitter-25', 'glove-twitter-50', 'glove-twitter-100', 'glove-twitter-200', '__testing_word2vec-matrix-synopsis']\n"
     ]
    }
   ],
   "source": [
    "# Show all available models in gensim-data\n",
    "print(list(gensim.downloader.info()['models'].keys()))"
   ]
  },
  {
   "cell_type": "markdown",
   "id": "7621fe1a",
   "metadata": {},
   "source": [
    "##### Load the  pretrained model"
   ]
  },
  {
   "cell_type": "code",
   "execution_count": null,
   "id": "2b18d0fe",
   "metadata": {},
   "outputs": [],
   "source": [
    "# !wget -P /root/input/ -c \"https://s3.amazonaws.com/dl4j-distribution/GoogleNews-vectors-negative300.bin.gz\""
   ]
  },
  {
   "cell_type": "code",
   "execution_count": 15,
   "id": "29b61f63",
   "metadata": {},
   "outputs": [],
   "source": [
    "path_to_model = 'Embeddings//GoogleNews-vectors-negative300.bin'"
   ]
  },
  {
   "cell_type": "code",
   "execution_count": 20,
   "id": "60d547a0",
   "metadata": {},
   "outputs": [
    {
     "name": "stdout",
     "output_type": "stream",
     "text": [
      "CPU times: user 19.7 s, sys: 1.6 s, total: 21.3 s\n",
      "Wall time: 21.4 s\n",
      "done loading Word2Vec\n"
     ]
    }
   ],
   "source": [
    "from gensim.models.keyedvectors import KeyedVectors\n",
    "%time w2v_model = KeyedVectors.load_word2vec_format(path_to_model, binary=True)\n",
    "print('done loading Word2Vec')"
   ]
  },
  {
   "cell_type": "code",
   "execution_count": 21,
   "id": "da8c47d0",
   "metadata": {},
   "outputs": [],
   "source": [
    "#Inspect the model\n",
    "word2vec_vocab = list(w2v_model.index_to_key)"
   ]
  },
  {
   "cell_type": "code",
   "execution_count": 22,
   "id": "9475610b",
   "metadata": {},
   "outputs": [],
   "source": [
    "word2vec_vocab_lower = [item.lower() for item in word2vec_vocab]"
   ]
  },
  {
   "cell_type": "code",
   "execution_count": 23,
   "id": "a2f75fc2",
   "metadata": {},
   "outputs": [
    {
     "name": "stdout",
     "output_type": "stream",
     "text": [
      "3000000\n"
     ]
    }
   ],
   "source": [
    "print(len(word2vec_vocab))"
   ]
  },
  {
   "cell_type": "code",
   "execution_count": 24,
   "id": "644dfb73",
   "metadata": {},
   "outputs": [
    {
     "name": "stdout",
     "output_type": "stream",
     "text": [
      "16289\n"
     ]
    }
   ],
   "source": [
    "# Creating a feature vector by averaging all embeddings for all sentences\n",
    "def embedding_feats(list_of_lists):\n",
    "    DIMENSION = 300\n",
    "    zero_vector = np.zeros(DIMENSION)\n",
    "    feats = []\n",
    "    for tokens in list_of_lists:\n",
    "        feat_for_this =  np.zeros(DIMENSION)\n",
    "        count_for_this = 0 + 1e-5 # to avoid divide-by-zero \n",
    "        for token in tokens:\n",
    "            if token in w2v_model:\n",
    "                feat_for_this += w2v_model[token]\n",
    "                count_for_this +=1\n",
    "        if(count_for_this!=0):\n",
    "            feats.append(feat_for_this/count_for_this) \n",
    "        else:\n",
    "            feats.append(zero_vector)\n",
    "    return feats\n",
    "\n",
    "\n",
    "train_vectors = embedding_feats(X_train)\n",
    "print(len(train_vectors))"
   ]
  },
  {
   "cell_type": "code",
   "execution_count": 25,
   "id": "0ef72afb",
   "metadata": {},
   "outputs": [
    {
     "name": "stdout",
     "output_type": "stream",
     "text": [
      "4073\n"
     ]
    }
   ],
   "source": [
    "test_vectors = embedding_feats(X_test)\n",
    "print(len(test_vectors))\n"
   ]
  },
  {
   "cell_type": "markdown",
   "id": "b541d0bf",
   "metadata": {},
   "source": [
    "### RandomForest"
   ]
  },
  {
   "cell_type": "code",
   "execution_count": 26,
   "id": "5bc97f79",
   "metadata": {},
   "outputs": [],
   "source": [
    "rf = RandomForestClassifier(random_state=0,n_estimators=1000,max_features='sqrt',max_depth=100,\n",
    "                            min_samples_split=2,min_samples_leaf=1,bootstrap=False)\n",
    "rf_model = rf.fit(train_vectors, y_train.values.ravel())"
   ]
  },
  {
   "cell_type": "code",
   "execution_count": 27,
   "id": "c98fd636",
   "metadata": {},
   "outputs": [
    {
     "name": "stdout",
     "output_type": "stream",
     "text": [
      "Accuracy score : 0.8350110483672968\n",
      "Confusion matrix : \n",
      " [[3013   50]\n",
      " [ 622  388]]\n",
      "Classification Report\n",
      "              precision    recall  f1-score   support\n",
      "\n",
      "           0       0.83      0.98      0.90      3063\n",
      "           1       0.89      0.38      0.54      1010\n",
      "\n",
      "    accuracy                           0.84      4073\n",
      "   macro avg       0.86      0.68      0.72      4073\n",
      "weighted avg       0.84      0.84      0.81      4073\n",
      "\n",
      "Precision : 0.8858447488584474\n",
      "Recall : 0.38415841584158417\n"
     ]
    }
   ],
   "source": [
    "# Use the trained model to make predictions on the test data\n",
    "y_pred = rf_model.predict(test_vectors)\n",
    "print(\"Accuracy score : {}\".format(accuracy_score(y_test, y_pred)))\n",
    "print(\"Confusion matrix : \\n {}\".format(confusion_matrix(y_test, y_pred)))\n",
    "print(\"Classification Report\")\n",
    "print(classification_report(y_test, y_pred))\n",
    "\n",
    "precision = precision_score(y_test, y_pred)\n",
    "print(\"Precision : {}\".format(precision))\n",
    "recall = recall_score(y_test, y_pred)\n",
    "print(\"Recall : {}\".format(recall))"
   ]
  },
  {
   "cell_type": "markdown",
   "id": "403cdd5b",
   "metadata": {},
   "source": [
    "##### Hyperparameter Tuning"
   ]
  },
  {
   "cell_type": "code",
   "execution_count": 28,
   "id": "b26df9d0",
   "metadata": {},
   "outputs": [
    {
     "name": "stdout",
     "output_type": "stream",
     "text": [
      "{'bootstrap': [True, False],\n",
      " 'max_depth': [10, 20, 30, 40, 50, 60, 70, 80, 90, 100, 110],\n",
      " 'max_features': ['auto', 'sqrt'],\n",
      " 'min_samples_leaf': [1, 2, 4],\n",
      " 'min_samples_split': [2, 5, 10],\n",
      " 'n_estimators': [100, 200, 300, 400, 500, 600, 700, 800, 900, 1000]}\n"
     ]
    }
   ],
   "source": [
    "# Number of trees in random forest\n",
    "n_estimators =[int(x) for x in np.linspace(start = 100, stop = 1000, num = 10)]\n",
    "# Number of features to consider at every split\n",
    "max_features = ['auto', 'sqrt']\n",
    "# Maximum number of levels in tree\n",
    "max_depth =[int(x) for x in np.linspace(10, 110, num = 11)]\n",
    "#Minimum number of samples required to split a node\n",
    "min_samples_split = [2, 5, 10]\n",
    "# Minimum number of samples required at each leaf node\n",
    "min_samples_leaf = [1, 2, 4]\n",
    "# Method of selecting samples for training each tree\n",
    "bootstrap = [True, False]\n",
    "\n",
    "# Create the random grid\n",
    "random_grid = {\n",
    "    'n_estimators': n_estimators,\n",
    "               'max_features': max_features,\n",
    "               'max_depth': max_depth,\n",
    "               'min_samples_split': min_samples_split,\n",
    "               'min_samples_leaf': min_samples_leaf,\n",
    "               'bootstrap': bootstrap\n",
    "              }\n",
    "pprint(random_grid)\n",
    "\n"
   ]
  },
  {
   "cell_type": "code",
   "execution_count": 29,
   "id": "c32948ca",
   "metadata": {},
   "outputs": [],
   "source": [
    "rf_clf1=RandomForestClassifier(random_state=0)"
   ]
  },
  {
   "cell_type": "code",
   "execution_count": 31,
   "id": "041ee5dd",
   "metadata": {
    "scrolled": true
   },
   "outputs": [
    {
     "name": "stdout",
     "output_type": "stream",
     "text": [
      "Fitting 3 folds for each of 100 candidates, totalling 300 fits\n",
      "[CV] END bootstrap=False, max_depth=90, max_features=auto, min_samples_leaf=4, min_samples_split=2, n_estimators=1000; total time= 4.3min\n",
      "[CV] END bootstrap=False, max_depth=80, max_features=auto, min_samples_leaf=2, min_samples_split=5, n_estimators=900; total time= 4.2min\n",
      "[CV] END bootstrap=True, max_depth=30, max_features=auto, min_samples_leaf=4, min_samples_split=5, n_estimators=300; total time=  51.3s\n",
      "[CV] END bootstrap=True, max_depth=30, max_features=sqrt, min_samples_leaf=1, min_samples_split=2, n_estimators=800; total time= 2.4min\n",
      "[CV] END bootstrap=False, max_depth=90, max_features=sqrt, min_samples_leaf=4, min_samples_split=5, n_estimators=500; total time= 2.2min\n",
      "[CV] END bootstrap=True, max_depth=20, max_features=auto, min_samples_leaf=2, min_samples_split=2, n_estimators=200; total time=  34.1s\n",
      "[CV] END bootstrap=False, max_depth=50, max_features=sqrt, min_samples_leaf=2, min_samples_split=2, n_estimators=100; total time=  27.6s\n",
      "[CV] END bootstrap=False, max_depth=30, max_features=sqrt, min_samples_leaf=4, min_samples_split=5, n_estimators=100; total time=  25.1s\n",
      "[CV] END bootstrap=False, max_depth=80, max_features=sqrt, min_samples_leaf=2, min_samples_split=2, n_estimators=200; total time=  53.2s\n",
      "[CV] END bootstrap=False, max_depth=110, max_features=auto, min_samples_leaf=1, min_samples_split=5, n_estimators=1000; total time= 5.0min\n",
      "[CV] END bootstrap=True, max_depth=30, max_features=sqrt, min_samples_leaf=1, min_samples_split=2, n_estimators=800; total time= 2.4min\n",
      "[CV] END bootstrap=True, max_depth=10, max_features=sqrt, min_samples_leaf=2, min_samples_split=10, n_estimators=1000; total time= 2.0min\n",
      "[CV] END bootstrap=True, max_depth=20, max_features=sqrt, min_samples_leaf=1, min_samples_split=2, n_estimators=100; total time=  18.7s\n",
      "[CV] END bootstrap=True, max_depth=100, max_features=sqrt, min_samples_leaf=4, min_samples_split=10, n_estimators=600; total time= 1.7min\n",
      "[CV] END bootstrap=True, max_depth=60, max_features=auto, min_samples_leaf=1, min_samples_split=5, n_estimators=300; total time=  54.7s\n",
      "[CV] END bootstrap=False, max_depth=110, max_features=auto, min_samples_leaf=1, min_samples_split=10, n_estimators=800; total time= 3.9min\n",
      "[CV] END bootstrap=True, max_depth=30, max_features=auto, min_samples_leaf=4, min_samples_split=5, n_estimators=300; total time=  46.6s\n",
      "[CV] END bootstrap=True, max_depth=30, max_features=sqrt, min_samples_leaf=1, min_samples_split=2, n_estimators=800; total time= 2.4min\n",
      "[CV] END bootstrap=True, max_depth=30, max_features=auto, min_samples_leaf=2, min_samples_split=5, n_estimators=900; total time= 2.5min\n",
      "[CV] END bootstrap=False, max_depth=70, max_features=auto, min_samples_leaf=4, min_samples_split=2, n_estimators=1000; total time= 4.3min\n",
      "[CV] END bootstrap=True, max_depth=50, max_features=auto, min_samples_leaf=4, min_samples_split=10, n_estimators=600; total time= 1.6min\n",
      "[CV] END bootstrap=False, max_depth=10, max_features=auto, min_samples_leaf=1, min_samples_split=5, n_estimators=1000; total time= 3.6min\n",
      "[CV] END bootstrap=True, max_depth=30, max_features=auto, min_samples_leaf=2, min_samples_split=5, n_estimators=900; total time= 2.6min\n",
      "[CV] END bootstrap=False, max_depth=70, max_features=auto, min_samples_leaf=4, min_samples_split=2, n_estimators=1000; total time= 4.3min\n",
      "[CV] END bootstrap=True, max_depth=50, max_features=auto, min_samples_leaf=4, min_samples_split=10, n_estimators=600; total time= 1.6min\n",
      "[CV] END bootstrap=False, max_depth=10, max_features=auto, min_samples_leaf=1, min_samples_split=5, n_estimators=1000; total time= 3.6min\n"
     ]
    },
    {
     "data": {
      "text/plain": [
       "RandomizedSearchCV(cv=3, estimator=RandomForestClassifier(random_state=0),\n",
       "                   n_iter=100, n_jobs=-1,\n",
       "                   param_distributions={'bootstrap': [True, False],\n",
       "                                        'max_depth': [10, 20, 30, 40, 50, 60,\n",
       "                                                      70, 80, 90, 100, 110],\n",
       "                                        'max_features': ['auto', 'sqrt'],\n",
       "                                        'min_samples_leaf': [1, 2, 4],\n",
       "                                        'min_samples_split': [2, 5, 10],\n",
       "                                        'n_estimators': [100, 200, 300, 400,\n",
       "                                                         500, 600, 700, 800,\n",
       "                                                         900, 1000]},\n",
       "                   random_state=42, return_train_score=True, verbose=2)"
      ]
     },
     "execution_count": 31,
     "metadata": {},
     "output_type": "execute_result"
    }
   ],
   "source": [
    "rf_random = RandomizedSearchCV(estimator=rf_clf1, param_distributions=random_grid,\n",
    "                              n_iter = 100, \n",
    "                              cv = 3, verbose=2, random_state=42, n_jobs=-1,\n",
    "                              return_train_score=True)\n",
    "\n",
    "\n",
    "# Fit the random search model\n",
    "rf_random.fit(train_vectors, y_train.values.ravel())"
   ]
  },
  {
   "cell_type": "code",
   "execution_count": 32,
   "id": "b794275e",
   "metadata": {},
   "outputs": [
    {
     "data": {
      "text/plain": [
       "{'n_estimators': 400,\n",
       " 'min_samples_split': 2,\n",
       " 'min_samples_leaf': 1,\n",
       " 'max_features': 'sqrt',\n",
       " 'max_depth': 70,\n",
       " 'bootstrap': False}"
      ]
     },
     "execution_count": 32,
     "metadata": {},
     "output_type": "execute_result"
    }
   ],
   "source": [
    "rf_random.best_params_"
   ]
  },
  {
   "cell_type": "markdown",
   "id": "b852a2fb",
   "metadata": {},
   "source": [
    "#### Using with Best Params "
   ]
  },
  {
   "cell_type": "code",
   "execution_count": 36,
   "id": "7cb21439",
   "metadata": {},
   "outputs": [
    {
     "name": "stdout",
     "output_type": "stream",
     "text": [
      "Accuracy score : 0.833783452000982\n",
      "Confusion matrix : \n",
      " [[3008   55]\n",
      " [ 622  388]]\n"
     ]
    }
   ],
   "source": [
    "rf_clf_tuned=RandomForestClassifier(random_state=0,n_estimators=400,max_features='sqrt',max_depth=70,min_samples_split=2,min_samples_leaf=1,bootstrap=False)\n",
    "\n",
    "rf_clf_tuned.fit(train_vectors, y_train.values.ravel())\n",
    "\n",
    "pred1 = rf_clf_tuned.predict(test_vectors)\n",
    "print(\"Accuracy score : {}\".format(accuracy_score(y_test, pred1)))\n",
    "print(\"Confusion matrix : \\n {}\".format(confusion_matrix(y_test, pred1)))"
   ]
  },
  {
   "cell_type": "code",
   "execution_count": 37,
   "id": "5ac8a0cb",
   "metadata": {},
   "outputs": [
    {
     "name": "stdout",
     "output_type": "stream",
     "text": [
      "F1 score :\n",
      "0.5340674466620785\n",
      "Classification Report\n",
      "              precision    recall  f1-score   support\n",
      "\n",
      "           0       0.83      0.98      0.90      3063\n",
      "           1       0.88      0.38      0.53      1010\n",
      "\n",
      "    accuracy                           0.83      4073\n",
      "   macro avg       0.85      0.68      0.72      4073\n",
      "weighted avg       0.84      0.83      0.81      4073\n",
      "\n"
     ]
    }
   ],
   "source": [
    "print(\"F1 score :\")\n",
    "print(f1_score(y_test, pred1))\n",
    "print(\"Classification Report\")\n",
    "print(classification_report(y_test, pred1))"
   ]
  },
  {
   "cell_type": "markdown",
   "id": "1457e97d",
   "metadata": {},
   "source": [
    "### Support Vector Machine"
   ]
  },
  {
   "cell_type": "code",
   "execution_count": 38,
   "id": "ae0716c4",
   "metadata": {},
   "outputs": [],
   "source": [
    "svm_clf=SVC(random_state=0)"
   ]
  },
  {
   "cell_type": "code",
   "execution_count": 39,
   "id": "dd368ef9",
   "metadata": {},
   "outputs": [
    {
     "name": "stdout",
     "output_type": "stream",
     "text": [
      "Accuracy score : 0.8409035109256077\n",
      "Confusion matrix : \n",
      " [[3005   58]\n",
      " [ 590  420]]\n",
      "Classification Report\n",
      "              precision    recall  f1-score   support\n",
      "\n",
      "           0       0.84      0.98      0.90      3063\n",
      "           1       0.88      0.42      0.56      1010\n",
      "\n",
      "    accuracy                           0.84      4073\n",
      "   macro avg       0.86      0.70      0.73      4073\n",
      "weighted avg       0.85      0.84      0.82      4073\n",
      "\n"
     ]
    }
   ],
   "source": [
    "svm_clf.fit(train_vectors,y_train)\n",
    "\n",
    "pred = svm_clf.predict(test_vectors)\n",
    "print(\"Accuracy score : {}\".format(accuracy_score(y_test, pred)))\n",
    "print(\"Confusion matrix : \\n {}\".format(confusion_matrix(y_test, pred)))\n",
    "print(\"Classification Report\")\n",
    "print(classification_report(y_test, pred))"
   ]
  },
  {
   "cell_type": "markdown",
   "id": "4cfa06a3",
   "metadata": {},
   "source": [
    "#### Hyperparameter Tuning"
   ]
  },
  {
   "cell_type": "code",
   "execution_count": 40,
   "id": "2bb14189",
   "metadata": {},
   "outputs": [
    {
     "name": "stdout",
     "output_type": "stream",
     "text": [
      "{'C': [0.1, 1, 10, 100, 1000],\n",
      " 'gamma': [1, 0.1, 0.01, 0.001, 0.0001],\n",
      " 'kernel': ['rbf', 'poly', 'sigmoid']}\n"
     ]
    }
   ],
   "source": [
    "# Create the random grid\n",
    "random_grid = {\n",
    "    'C': [0.1, 1, 10, 100, 1000],\n",
    "               'gamma': [1, 0.1, 0.01, 0.001, 0.0001],\n",
    "               'kernel':  ['rbf', 'poly', 'sigmoid'],\n",
    "              }\n",
    "pprint(random_grid)\n"
   ]
  },
  {
   "cell_type": "code",
   "execution_count": 41,
   "id": "b0cccc5b",
   "metadata": {},
   "outputs": [
    {
     "name": "stdout",
     "output_type": "stream",
     "text": [
      "Fitting 5 folds for each of 50 candidates, totalling 250 fits\n"
     ]
    },
    {
     "data": {
      "text/plain": [
       "RandomizedSearchCV(cv=5, estimator=SVC(random_state=0), n_iter=50, n_jobs=-1,\n",
       "                   param_distributions={'C': [0.1, 1, 10, 100, 1000],\n",
       "                                        'gamma': [1, 0.1, 0.01, 0.001, 0.0001],\n",
       "                                        'kernel': ['rbf', 'poly', 'sigmoid']},\n",
       "                   random_state=42, return_train_score=True, verbose=2)"
      ]
     },
     "execution_count": 41,
     "metadata": {},
     "output_type": "execute_result"
    },
    {
     "name": "stdout",
     "output_type": "stream",
     "text": [
      "[CV] END ......................C=0.1, gamma=0.1, kernel=poly; total time=  43.2s\n",
      "[CV] END .......................C=10, gamma=0.1, kernel=poly; total time= 1.2min\n",
      "[CV] END .......................C=1, gamma=0.01, kernel=poly; total time= 1.3min\n",
      "[CV] END .....................C=10, gamma=0.001, kernel=poly; total time= 1.3min\n",
      "[CV] END ...................C=100, gamma=0.0001, kernel=poly; total time= 1.3min\n",
      "[CV] END ...............C=1000, gamma=0.0001, kernel=sigmoid; total time= 1.4min\n",
      "[CV] END .................C=1000, gamma=0.01, kernel=sigmoid; total time= 1.4min\n",
      "[CV] END .......................C=1000, gamma=1, kernel=poly; total time= 5.0min\n",
      "[CV] END .....................C=10, gamma=0.001, kernel=poly; total time= 1.1min\n",
      "[CV] END .....................C=100, gamma=1, kernel=sigmoid; total time= 1.3min\n",
      "[CV] END ...............C=1000, gamma=0.0001, kernel=sigmoid; total time= 1.3min\n",
      "[CV] END .................C=1000, gamma=0.01, kernel=sigmoid; total time= 1.5min\n",
      "[CV] END ......................C=0.1, gamma=0.1, kernel=poly; total time=  38.2s\n",
      "[CV] END .......................C=10, gamma=0.1, kernel=poly; total time= 1.3min\n",
      "[CV] END .....................C=0.1, gamma=0.001, kernel=rbf; total time= 1.8min\n",
      "[CV] END ...................C=100, gamma=0.0001, kernel=poly; total time= 1.3min\n",
      "[CV] END ...................C=0.1, gamma=0.0001, kernel=poly; total time= 1.2min\n",
      "[CV] END .................C=1000, gamma=0.01, kernel=sigmoid; total time= 1.4min\n",
      "[CV] END .......................C=1000, gamma=1, kernel=poly; total time= 4.4min\n",
      "[CV] END ......................C=10, gamma=0.001, kernel=rbf; total time= 1.9min\n",
      "[CV] END ...................C=0.1, gamma=0.0001, kernel=poly; total time= 1.2min\n",
      "[CV] END ....................C=100, gamma=0.001, kernel=poly; total time= 1.3min\n",
      "[CV] END ....................C=0.1, gamma=0.0001, kernel=rbf; total time= 1.5min\n",
      "[CV] END ........................C=10, gamma=0.1, kernel=rbf; total time= 1.7min\n",
      "[CV] END .........................C=10, gamma=1, kernel=poly; total time= 1.1min\n",
      "[CV] END ...................C=0.1, gamma=0.0001, kernel=poly; total time= 1.2min\n",
      "[CV] END ....................C=100, gamma=0.001, kernel=poly; total time= 1.3min\n",
      "[CV] END .....................C=1, gamma=0.0001, kernel=poly; total time= 1.0min\n",
      "[CV] END ......................C=100, gamma=0.1, kernel=poly; total time= 1.3min\n",
      "[CV] END ...................C=0.1, gamma=0.1, kernel=sigmoid; total time= 1.4min\n",
      "[CV] END ..........................C=1, gamma=1, kernel=poly; total time= 1.3min\n",
      "[CV] END .........................C=10, gamma=1, kernel=poly; total time= 1.1min\n",
      "[CV] END ...................C=0.1, gamma=0.0001, kernel=poly; total time= 1.2min\n",
      "[CV] END ....................C=100, gamma=0.001, kernel=poly; total time= 1.3min\n",
      "[CV] END .....................C=1, gamma=0.0001, kernel=poly; total time= 1.0min\n",
      "[CV] END ......................C=100, gamma=0.1, kernel=poly; total time= 1.3min\n",
      "[CV] END ........................C=10, gamma=0.1, kernel=rbf; total time= 1.6min\n",
      "[CV] END .........................C=10, gamma=1, kernel=poly; total time= 1.2min\n",
      "[CV] END .....................C=100, gamma=0.001, kernel=rbf; total time= 1.6min\n",
      "[CV] END .....................C=1000, gamma=0.1, kernel=poly; total time= 1.1min\n",
      "[CV] END .....................C=0.1, gamma=0.001, kernel=rbf; total time= 1.9min\n",
      "[CV] END .....................C=0.1, gamma=0.01, kernel=poly; total time= 1.2min\n",
      "[CV] END ....................C=1000, gamma=1, kernel=sigmoid; total time=  44.9s\n",
      "[CV] END .....................C=100, gamma=0.001, kernel=rbf; total time= 1.6min\n",
      "[CV] END .........................C=0.1, gamma=1, kernel=rbf; total time= 1.3min\n",
      "[CV] END .......................C=1, gamma=0.01, kernel=poly; total time= 1.2min\n",
      "[CV] END ..........................C=1, gamma=1, kernel=poly; total time= 1.3min\n",
      "[CV] END .........................C=10, gamma=1, kernel=poly; total time= 1.2min\n",
      "[CV] END .....................C=100, gamma=0.001, kernel=rbf; total time= 1.7min\n",
      "[CV] END .......................C=1000, gamma=1, kernel=poly; total time= 5.4min\n",
      "[CV] END ..........................C=1, gamma=1, kernel=poly; total time= 1.4min\n",
      "[CV] END ..................C=100, gamma=0.01, kernel=sigmoid; total time= 1.4min\n",
      "[CV] END .......................C=0.1, gamma=0.1, kernel=rbf; total time= 1.6min\n",
      "[CV] END .........................C=0.1, gamma=1, kernel=rbf; total time= 1.5min\n",
      "[CV] END .................C=100, gamma=0.001, kernel=sigmoid; total time= 1.5min\n",
      "[CV] END .....................C=0.1, gamma=0.01, kernel=poly; total time= 1.3min\n",
      "[CV] END ....................C=1000, gamma=1, kernel=sigmoid; total time= 1.1min\n",
      "[CV] END .......................C=1, gamma=1, kernel=sigmoid; total time= 1.2min\n",
      "[CV] END ....................C=100, gamma=0.001, kernel=poly; total time= 1.3min\n",
      "[CV] END ....................C=0.1, gamma=0.001, kernel=poly; total time=  45.3s\n",
      "[CV] END .......................C=10, gamma=0.1, kernel=poly; total time= 1.3min\n",
      "[CV] END .......................C=1, gamma=0.01, kernel=poly; total time= 1.6min\n",
      "[CV] END .....................C=10, gamma=0.001, kernel=poly; total time= 1.5min\n",
      "[CV] END .........................C=10, gamma=1, kernel=poly; total time= 1.2min\n",
      "[CV] END .....................C=100, gamma=0.001, kernel=rbf; total time= 1.8min\n",
      "[CV] END ....................C=1000, gamma=0.001, kernel=rbf; total time= 1.5min\n",
      "[CV] END ........................C=10, gamma=0.1, kernel=rbf; total time= 1.7min\n",
      "[CV] END ...................C=100, gamma=0.1, kernel=sigmoid; total time= 1.3min\n",
      "[CV] END .......................C=1, gamma=1, kernel=sigmoid; total time= 1.2min\n",
      "[CV] END ....................C=100, gamma=0.001, kernel=poly; total time= 1.4min\n",
      "[CV] END ....................C=10, gamma=0.1, kernel=sigmoid; total time= 1.1min\n",
      "[CV] END ......................C=100, gamma=0.1, kernel=poly; total time= 1.4min\n",
      "[CV] END ........................C=10, gamma=0.1, kernel=rbf; total time= 1.7min\n",
      "[CV] END ..................C=100, gamma=0.01, kernel=sigmoid; total time= 1.3min\n",
      "[CV] END .......................C=0.1, gamma=0.1, kernel=rbf; total time= 1.6min\n",
      "[CV] END ....................C=10, gamma=0.1, kernel=sigmoid; total time= 1.1min\n",
      "[CV] END ......................C=100, gamma=0.1, kernel=poly; total time= 1.4min\n",
      "[CV] END ...................C=0.1, gamma=0.1, kernel=sigmoid; total time= 1.3min\n",
      "[CV] END .................C=10, gamma=0.0001, kernel=sigmoid; total time= 1.4min\n",
      "[CV] END ..................C=100, gamma=0.01, kernel=sigmoid; total time= 1.3min\n",
      "[CV] END .......................C=1, gamma=1, kernel=sigmoid; total time= 1.3min\n",
      "[CV] END ..................C=1000, gamma=0.0001, kernel=poly; total time= 1.3min\n",
      "[CV] END ....................C=0.1, gamma=0.0001, kernel=rbf; total time= 1.6min\n",
      "[CV] END .....................C=1000, gamma=0.01, kernel=rbf; total time= 1.8min\n",
      "[CV] END ........................C=1, gamma=0.1, kernel=poly; total time= 1.2min\n",
      "[CV] END ...................C=10, gamma=0.01, kernel=sigmoid; total time= 1.2min\n",
      "[CV] END ..................C=1000, gamma=0.0001, kernel=poly; total time= 1.3min\n",
      "[CV] END ......................C=0.1, gamma=0.1, kernel=poly; total time=  36.1s\n",
      "[CV] END .....................C=1000, gamma=0.1, kernel=poly; total time= 1.3min\n",
      "[CV] END .....................C=0.1, gamma=0.001, kernel=rbf; total time= 1.9min\n",
      "[CV] END .....................C=100, gamma=1, kernel=sigmoid; total time=  51.9s\n",
      "[CV] END ....................C=1000, gamma=1, kernel=sigmoid; total time= 1.1min\n",
      "[CV] END ..................C=0.1, gamma=0.01, kernel=sigmoid; total time= 1.1min\n",
      "[CV] END ..................C=1000, gamma=0.0001, kernel=poly; total time= 1.3min\n",
      "[CV] END ....................C=10, gamma=0.1, kernel=sigmoid; total time=  58.3s\n",
      "[CV] END .....................C=10, gamma=0.0001, kernel=rbf; total time= 1.8min\n",
      "[CV] END .................C=10, gamma=0.0001, kernel=sigmoid; total time= 1.4min\n",
      "[CV] END ...................C=100, gamma=0.1, kernel=sigmoid; total time= 1.5min\n",
      "[CV] END ...................C=10, gamma=0.01, kernel=sigmoid; total time= 1.2min\n",
      "[CV] END ..................C=1000, gamma=0.0001, kernel=poly; total time= 1.3min\n",
      "[CV] END .....................C=1, gamma=0.0001, kernel=poly; total time= 1.0min\n",
      "[CV] END .........................C=1, gamma=0.1, kernel=rbf; total time= 1.9min\n",
      "[CV] END ..........................C=10, gamma=1, kernel=rbf; total time= 1.7min\n",
      "[CV] END ...................C=10, gamma=0.01, kernel=sigmoid; total time= 1.1min\n",
      "[CV] END ........................C=100, gamma=1, kernel=poly; total time= 1.6min\n"
     ]
    },
    {
     "name": "stdout",
     "output_type": "stream",
     "text": [
      "[CV] END ......................C=1000, gamma=0.1, kernel=rbf; total time= 2.2min\n",
      "[CV] END .................C=100, gamma=0.001, kernel=sigmoid; total time= 1.4min\n",
      "[CV] END ..........................C=10, gamma=1, kernel=rbf; total time= 1.7min\n",
      "[CV] END ..................C=0.1, gamma=0.01, kernel=sigmoid; total time= 1.1min\n",
      "[CV] END ..................C=1000, gamma=0.0001, kernel=poly; total time= 1.4min\n",
      "[CV] END ....................C=1000, gamma=0.001, kernel=rbf; total time= 1.6min\n",
      "[CV] END .................C=100, gamma=0.001, kernel=sigmoid; total time= 1.4min\n",
      "[CV] END ..........................C=10, gamma=1, kernel=rbf; total time= 1.6min\n",
      "[CV] END .......................C=0.1, gamma=0.1, kernel=rbf; total time= 1.8min\n",
      "[CV] END ....................C=1000, gamma=0.001, kernel=rbf; total time= 1.6min\n",
      "[CV] END ...................C=0.1, gamma=0.1, kernel=sigmoid; total time= 1.4min\n",
      "[CV] END .................C=10, gamma=0.0001, kernel=sigmoid; total time= 1.2min\n",
      "[CV] END ..................C=100, gamma=0.01, kernel=sigmoid; total time= 1.2min\n",
      "[CV] END .......................C=0.1, gamma=0.1, kernel=rbf; total time= 1.8min\n",
      "[CV] END .......................C=1000, gamma=1, kernel=poly; total time= 4.4min\n",
      "[CV] END .....................C=10, gamma=0.001, kernel=poly; total time= 1.2min\n",
      "[CV] END .....................C=0.1, gamma=0.01, kernel=poly; total time= 1.1min\n",
      "[CV] END ....................C=1000, gamma=1, kernel=sigmoid; total time=  48.6s\n",
      "[CV] END .......................C=0.1, gamma=0.1, kernel=rbf; total time= 1.8min\n",
      "[CV] END .........................C=0.1, gamma=1, kernel=rbf; total time= 1.5min\n",
      "[CV] END .....................C=1000, gamma=0.01, kernel=rbf; total time= 1.9min\n",
      "[CV] END ...................C=100, gamma=0.1, kernel=sigmoid; total time= 1.3min\n",
      "[CV] END .......................C=1, gamma=1, kernel=sigmoid; total time= 1.2min\n",
      "[CV] END ........................C=100, gamma=1, kernel=poly; total time= 1.9min\n",
      "[CV] END .........................C=0.1, gamma=1, kernel=rbf; total time= 1.4min\n",
      "[CV] END .......................C=1, gamma=0.01, kernel=poly; total time= 1.2min\n",
      "[CV] END ..........................C=1, gamma=1, kernel=poly; total time= 1.1min\n",
      "[CV] END .....................C=100, gamma=1, kernel=sigmoid; total time=  47.0s\n",
      "[CV] END ....................C=1000, gamma=1, kernel=sigmoid; total time=  41.3s\n",
      "[CV] END .....................C=100, gamma=0.001, kernel=rbf; total time= 1.9min\n",
      "[CV] END .....................C=1000, gamma=0.1, kernel=poly; total time= 1.1min\n",
      "[CV] END .........................C=1, gamma=0.1, kernel=rbf; total time= 1.9min\n",
      "[CV] END ..........................C=10, gamma=1, kernel=rbf; total time= 1.7min\n",
      "[CV] END .......................C=1, gamma=1, kernel=sigmoid; total time= 1.2min\n",
      "[CV] END ........................C=100, gamma=1, kernel=poly; total time= 1.9min\n",
      "[CV] END .....................C=1000, gamma=0.1, kernel=poly; total time= 1.1min\n",
      "[CV] END .........................C=1, gamma=0.1, kernel=rbf; total time= 1.9min\n",
      "[CV] END .....................C=0.1, gamma=0.01, kernel=poly; total time= 1.2min\n",
      "[CV] END ........................C=1, gamma=0.1, kernel=poly; total time= 1.3min\n",
      "[CV] END ...................C=1000, gamma=0.0001, kernel=rbf; total time= 1.6min\n",
      "[CV] END ....................C=1000, gamma=0.001, kernel=rbf; total time= 1.6min\n",
      "[CV] END .................C=100, gamma=0.001, kernel=sigmoid; total time= 1.4min\n",
      "[CV] END ..........................C=10, gamma=1, kernel=rbf; total time= 1.6min\n",
      "[CV] END ...................C=10, gamma=0.01, kernel=sigmoid; total time= 1.2min\n",
      "[CV] END ........................C=100, gamma=1, kernel=poly; total time= 1.7min\n",
      "[CV] END ....................C=0.1, gamma=0.0001, kernel=rbf; total time= 1.6min\n",
      "[CV] END .....................C=1000, gamma=0.01, kernel=rbf; total time= 1.8min\n",
      "[CV] END ..................C=100, gamma=0.01, kernel=sigmoid; total time= 1.4min\n",
      "[CV] END ..................C=0.1, gamma=0.01, kernel=sigmoid; total time= 1.1min\n",
      "[CV] END ........................C=100, gamma=1, kernel=poly; total time= 1.7min\n",
      "[CV] END ....................C=0.1, gamma=0.001, kernel=poly; total time=  50.8s\n",
      "[CV] END .....................C=10, gamma=0.0001, kernel=rbf; total time= 2.0min\n",
      "[CV] END .........................C=100, gamma=1, kernel=rbf; total time= 2.5min\n",
      "[CV] END ...................C=1000, gamma=0.0001, kernel=rbf; total time= 1.7min\n",
      "[CV] END ....................C=1000, gamma=0.001, kernel=rbf; total time= 1.7min\n",
      "[CV] END .....................C=1000, gamma=0.01, kernel=rbf; total time= 1.9min\n",
      "[CV] END ........................C=1, gamma=0.1, kernel=poly; total time= 1.5min\n",
      "[CV] END ......................C=0.1, gamma=0.01, kernel=rbf; total time= 1.6min\n",
      "[CV] END ....................C=10, gamma=0.1, kernel=sigmoid; total time= 1.0min\n",
      "[CV] END .....................C=10, gamma=0.0001, kernel=rbf; total time= 1.9min\n",
      "[CV] END .........................C=100, gamma=1, kernel=rbf; total time= 2.7min\n",
      "[CV] END ...................C=1000, gamma=0.0001, kernel=rbf; total time= 1.8min\n",
      "[CV] END ......................C=1000, gamma=0.1, kernel=rbf; total time= 2.4min\n",
      "[CV] END ......................C=10, gamma=0.001, kernel=rbf; total time= 2.0min\n",
      "[CV] END ......................C=1, gamma=0.001, kernel=poly; total time= 1.0min\n",
      "[CV] END ......................C=0.1, gamma=0.01, kernel=rbf; total time= 1.6min\n",
      "[CV] END ......................C=1000, gamma=0.1, kernel=rbf; total time= 2.2min\n",
      "[CV] END .................C=100, gamma=0.001, kernel=sigmoid; total time= 1.4min\n",
      "[CV] END .....................C=0.1, gamma=0.01, kernel=poly; total time= 1.2min\n",
      "[CV] END ........................C=1, gamma=0.1, kernel=poly; total time= 1.3min\n",
      "[CV] END ...................C=1000, gamma=0.0001, kernel=rbf; total time= 1.8min\n",
      "[CV] END .......................C=1000, gamma=1, kernel=poly; total time= 4.2min\n",
      "[CV] END ......................C=10, gamma=0.001, kernel=rbf; total time= 1.9min\n",
      "[CV] END ...................C=0.1, gamma=0.0001, kernel=poly; total time= 1.2min\n",
      "[CV] END .......................C=10, gamma=0.01, kernel=rbf; total time= 1.7min\n",
      "[CV] END ....................C=0.1, gamma=0.0001, kernel=rbf; total time= 1.6min\n",
      "[CV] END ......................C=10, gamma=0.001, kernel=rbf; total time= 1.9min\n",
      "[CV] END ...............C=1000, gamma=0.0001, kernel=sigmoid; total time= 1.1min\n",
      "[CV] END .......................C=10, gamma=0.01, kernel=rbf; total time= 1.7min\n",
      "[CV] END .........................C=0.1, gamma=1, kernel=rbf; total time= 1.4min\n",
      "[CV] END ...................C=0.1, gamma=0.1, kernel=sigmoid; total time= 1.5min\n",
      "[CV] END .........................C=100, gamma=1, kernel=rbf; total time= 2.7min\n",
      "[CV] END .......................C=10, gamma=0.01, kernel=rbf; total time= 1.8min\n",
      "[CV] END ....................C=0.1, gamma=0.001, kernel=poly; total time=  53.5s\n",
      "[CV] END .....................C=10, gamma=0.0001, kernel=rbf; total time= 1.9min\n",
      "[CV] END ..........................C=1, gamma=1, kernel=poly; total time= 1.3min\n",
      "[CV] END .....................C=100, gamma=1, kernel=sigmoid; total time=  50.2s\n",
      "[CV] END ......................C=1, gamma=0.001, kernel=poly; total time= 1.2min\n",
      "[CV] END .......................C=10, gamma=0.01, kernel=rbf; total time= 1.8min\n",
      "[CV] END .....................C=1, gamma=0.0001, kernel=poly; total time= 1.1min\n",
      "[CV] END .........................C=1, gamma=0.1, kernel=rbf; total time= 1.7min\n",
      "[CV] END .........................C=100, gamma=1, kernel=rbf; total time= 2.7min\n",
      "[CV] END .......................C=10, gamma=0.01, kernel=rbf; total time= 1.7min\n",
      "[CV] END ....................C=10, gamma=0.1, kernel=sigmoid; total time= 1.1min\n",
      "[CV] END ......................C=100, gamma=0.1, kernel=poly; total time= 1.4min\n",
      "[CV] END ...................C=0.1, gamma=0.1, kernel=sigmoid; total time= 1.4min\n",
      "[CV] END .................C=10, gamma=0.0001, kernel=sigmoid; total time= 1.4min\n",
      "[CV] END ...................C=100, gamma=0.1, kernel=sigmoid; total time= 1.6min\n",
      "[CV] END ...................C=1000, gamma=0.0001, kernel=rbf; total time= 2.0min\n",
      "[CV] END ......................C=0.1, gamma=0.1, kernel=poly; total time=  37.1s\n",
      "[CV] END .......................C=10, gamma=0.1, kernel=poly; total time= 1.3min\n",
      "[CV] END .....................C=0.1, gamma=0.001, kernel=rbf; total time= 1.7min\n",
      "[CV] END ...................C=100, gamma=0.0001, kernel=poly; total time= 1.1min\n",
      "[CV] END ......................C=1, gamma=0.001, kernel=poly; total time= 1.1min\n",
      "[CV] END ......................C=0.1, gamma=0.01, kernel=rbf; total time= 1.9min\n"
     ]
    },
    {
     "name": "stdout",
     "output_type": "stream",
     "text": [
      "[CV] END ......................C=1000, gamma=0.1, kernel=rbf; total time= 2.2min\n",
      "[CV] END ........................C=10, gamma=0.1, kernel=rbf; total time= 1.7min\n",
      "[CV] END .....................C=100, gamma=1, kernel=sigmoid; total time=  48.5s\n",
      "[CV] END ......................C=1, gamma=0.001, kernel=poly; total time= 1.1min\n",
      "[CV] END ......................C=0.1, gamma=0.01, kernel=rbf; total time= 1.9min\n",
      "[CV] END ....................C=0.1, gamma=0.001, kernel=poly; total time=  47.1s\n",
      "[CV] END .......................C=10, gamma=0.1, kernel=poly; total time= 1.3min\n",
      "[CV] END .......................C=1, gamma=0.01, kernel=poly; total time= 1.2min\n",
      "[CV] END .....................C=10, gamma=0.001, kernel=poly; total time= 1.2min\n",
      "[CV] END ...................C=100, gamma=0.0001, kernel=poly; total time= 1.1min\n",
      "[CV] END ......................C=1, gamma=0.001, kernel=poly; total time= 1.2min\n",
      "[CV] END ......................C=0.1, gamma=0.01, kernel=rbf; total time= 2.0min\n",
      "[CV] END ......................C=1000, gamma=0.1, kernel=rbf; total time= 2.3min\n",
      "[CV] END .....................C=1000, gamma=0.01, kernel=rbf; total time= 1.9min\n",
      "[CV] END ........................C=1, gamma=0.1, kernel=poly; total time= 1.2min\n",
      "[CV] END ..................C=0.1, gamma=0.01, kernel=sigmoid; total time= 1.2min\n",
      "[CV] END ...........................C=1, gamma=1, kernel=rbf; total time= 1.8min\n",
      "[CV] END ....................C=0.1, gamma=0.001, kernel=poly; total time=  51.2s\n",
      "[CV] END .....................C=10, gamma=0.0001, kernel=rbf; total time= 2.0min\n",
      "[CV] END .................C=10, gamma=0.0001, kernel=sigmoid; total time= 1.4min\n",
      "[CV] END ...................C=100, gamma=0.1, kernel=sigmoid; total time= 1.3min\n",
      "[CV] END ...................C=10, gamma=0.01, kernel=sigmoid; total time= 1.3min\n",
      "[CV] END ...........................C=1, gamma=1, kernel=rbf; total time= 1.8min\n",
      "[CV] END .....................C=1, gamma=0.0001, kernel=poly; total time= 1.0min\n",
      "[CV] END .........................C=1, gamma=0.1, kernel=rbf; total time= 1.9min\n",
      "[CV] END .........................C=100, gamma=1, kernel=rbf; total time= 2.3min\n",
      "[CV] END ..................C=0.1, gamma=0.01, kernel=sigmoid; total time= 1.4min\n",
      "[CV] END ...........................C=1, gamma=1, kernel=rbf; total time= 1.7min\n",
      "[CV] END ......................C=0.1, gamma=0.1, kernel=poly; total time=  28.6s\n",
      "[CV] END .....................C=1000, gamma=0.1, kernel=poly; total time= 1.2min\n",
      "[CV] END .....................C=0.1, gamma=0.001, kernel=rbf; total time= 1.9min\n",
      "[CV] END ...................C=100, gamma=0.0001, kernel=poly; total time= 1.2min\n",
      "[CV] END ...............C=1000, gamma=0.0001, kernel=sigmoid; total time= 1.3min\n",
      "[CV] END .................C=1000, gamma=0.01, kernel=sigmoid; total time= 1.2min\n",
      "[CV] END ...........................C=1, gamma=1, kernel=rbf; total time= 1.5min\n",
      "[CV] END ....................C=0.1, gamma=0.0001, kernel=rbf; total time= 1.6min\n",
      "[CV] END ......................C=10, gamma=0.001, kernel=rbf; total time= 2.0min\n",
      "[CV] END ...............C=1000, gamma=0.0001, kernel=sigmoid; total time= 1.4min\n",
      "[CV] END .................C=1000, gamma=0.01, kernel=sigmoid; total time= 1.3min\n",
      "[CV] END ...........................C=1, gamma=1, kernel=rbf; total time= 1.5min\n"
     ]
    }
   ],
   "source": [
    "\n",
    "svm_clf1=SVC(random_state=0)\n",
    "\n",
    "rf_random = RandomizedSearchCV(estimator=svm_clf1, param_distributions=random_grid,\n",
    "                              n_iter = 50, \n",
    "                              cv = 5, verbose=2, random_state=42, n_jobs=-1,\n",
    "                              return_train_score=True)\n",
    "\n",
    "\n",
    "# Fit the random search model\n",
    "rf_random.fit(train_vectors,y_train)"
   ]
  },
  {
   "cell_type": "code",
   "execution_count": 42,
   "id": "f5bb3572",
   "metadata": {},
   "outputs": [
    {
     "data": {
      "text/plain": [
       "{'kernel': 'rbf', 'gamma': 1, 'C': 10}"
      ]
     },
     "execution_count": 42,
     "metadata": {},
     "output_type": "execute_result"
    }
   ],
   "source": [
    "rf_random.best_params_"
   ]
  },
  {
   "cell_type": "markdown",
   "id": "cee6d42b",
   "metadata": {},
   "source": [
    "#### Using with Best Params "
   ]
  },
  {
   "cell_type": "code",
   "execution_count": 89,
   "id": "b7f05913",
   "metadata": {},
   "outputs": [
    {
     "name": "stdout",
     "output_type": "stream",
     "text": [
      "Accuracy score : 0.8502332433095998\n",
      "Confusion matrix : \n",
      " [[2990   73]\n",
      " [ 537  473]]\n"
     ]
    }
   ],
   "source": [
    "svm_clf_tuned=SVC(random_state=0,kernel='rbf',gamma=1,C=10,probability=True)\n",
    "\n",
    "svm_clf_tuned.fit(train_vectors, y_train.values.ravel())\n",
    "\n",
    "pred1 = svm_clf_tuned.predict(test_vectors)\n",
    "print(\"Accuracy score : {}\".format(accuracy_score(y_test, pred1)))\n",
    "print(\"Confusion matrix : \\n {}\".format(confusion_matrix(y_test, pred1)))"
   ]
  },
  {
   "cell_type": "code",
   "execution_count": 90,
   "id": "d7afd574",
   "metadata": {},
   "outputs": [
    {
     "name": "stdout",
     "output_type": "stream",
     "text": [
      "F1 score :\n",
      "0.6079691516709512\n",
      "Classification Report\n",
      "              precision    recall  f1-score   support\n",
      "\n",
      "           0       0.85      0.98      0.91      3063\n",
      "           1       0.87      0.47      0.61      1010\n",
      "\n",
      "    accuracy                           0.85      4073\n",
      "   macro avg       0.86      0.72      0.76      4073\n",
      "weighted avg       0.85      0.85      0.83      4073\n",
      "\n"
     ]
    }
   ],
   "source": [
    "print(\"F1 score :\")\n",
    "print(f1_score(y_test, pred1))\n",
    "print(\"Classification Report\")\n",
    "print(classification_report(y_test, pred1))"
   ]
  },
  {
   "cell_type": "code",
   "execution_count": null,
   "id": "54609ec8",
   "metadata": {},
   "outputs": [],
   "source": []
  },
  {
   "cell_type": "markdown",
   "id": "12664f9b",
   "metadata": {},
   "source": [
    "## KNN"
   ]
  },
  {
   "cell_type": "code",
   "execution_count": 45,
   "id": "33653bfc",
   "metadata": {},
   "outputs": [],
   "source": [
    "#Create KNN Object.\n",
    "knn_clf = KNeighborsClassifier()"
   ]
  },
  {
   "cell_type": "code",
   "execution_count": 46,
   "id": "8ab8f50c",
   "metadata": {},
   "outputs": [
    {
     "name": "stdout",
     "output_type": "stream",
     "text": [
      "Accuracy score : 0.7905720599067027\n",
      "Confusion matrix : \n",
      " [[2729  334]\n",
      " [ 519  491]]\n",
      "Classification Report\n",
      "              precision    recall  f1-score   support\n",
      "\n",
      "           0       0.84      0.89      0.86      3063\n",
      "           1       0.60      0.49      0.54      1010\n",
      "\n",
      "    accuracy                           0.79      4073\n",
      "   macro avg       0.72      0.69      0.70      4073\n",
      "weighted avg       0.78      0.79      0.78      4073\n",
      "\n"
     ]
    }
   ],
   "source": [
    "knn_clf.fit(train_vectors,y_train)\n",
    "\n",
    "pred = knn_clf.predict(test_vectors)\n",
    "print(\"Accuracy score : {}\".format(accuracy_score(y_test, pred)))\n",
    "print(\"Confusion matrix : \\n {}\".format(confusion_matrix(y_test, pred)))\n",
    "print(\"Classification Report\")\n",
    "print(classification_report(y_test, pred))"
   ]
  },
  {
   "cell_type": "markdown",
   "id": "ede806e4",
   "metadata": {},
   "source": [
    "#### Hyperparameter Tuning"
   ]
  },
  {
   "cell_type": "code",
   "execution_count": 47,
   "id": "c84c79ff",
   "metadata": {
    "collapsed": true
   },
   "outputs": [
    {
     "name": "stdout",
     "output_type": "stream",
     "text": [
      "{'leaf_size': [1,\n",
      "               2,\n",
      "               3,\n",
      "               4,\n",
      "               5,\n",
      "               6,\n",
      "               7,\n",
      "               8,\n",
      "               9,\n",
      "               10,\n",
      "               11,\n",
      "               12,\n",
      "               13,\n",
      "               14,\n",
      "               15,\n",
      "               16,\n",
      "               17,\n",
      "               18,\n",
      "               19,\n",
      "               20,\n",
      "               21,\n",
      "               22,\n",
      "               23,\n",
      "               24,\n",
      "               25,\n",
      "               26,\n",
      "               27,\n",
      "               28,\n",
      "               29,\n",
      "               30,\n",
      "               31,\n",
      "               32,\n",
      "               33,\n",
      "               34,\n",
      "               35,\n",
      "               36,\n",
      "               37,\n",
      "               38,\n",
      "               39,\n",
      "               40,\n",
      "               41,\n",
      "               42,\n",
      "               43,\n",
      "               44,\n",
      "               45,\n",
      "               46,\n",
      "               47,\n",
      "               48,\n",
      "               49],\n",
      " 'n_neighbors': [1,\n",
      "                 2,\n",
      "                 3,\n",
      "                 4,\n",
      "                 5,\n",
      "                 6,\n",
      "                 7,\n",
      "                 8,\n",
      "                 9,\n",
      "                 10,\n",
      "                 11,\n",
      "                 12,\n",
      "                 13,\n",
      "                 14,\n",
      "                 15,\n",
      "                 16,\n",
      "                 17,\n",
      "                 18,\n",
      "                 19,\n",
      "                 20,\n",
      "                 21,\n",
      "                 22,\n",
      "                 23,\n",
      "                 24,\n",
      "                 25,\n",
      "                 26,\n",
      "                 27,\n",
      "                 28,\n",
      "                 29],\n",
      " 'p': [1, 2]}\n"
     ]
    }
   ],
   "source": [
    "# Create the random grid\n",
    "random_grid = {\n",
    "    'leaf_size': list(range(1,50)),\n",
    "               'n_neighbors': list(range(1,30)),\n",
    "               'p':  [1,2],\n",
    "              }\n",
    "pprint(random_grid)"
   ]
  },
  {
   "cell_type": "code",
   "execution_count": 48,
   "id": "f734f68c",
   "metadata": {},
   "outputs": [
    {
     "name": "stdout",
     "output_type": "stream",
     "text": [
      "Fitting 3 folds for each of 100 candidates, totalling 300 fits\n"
     ]
    },
    {
     "data": {
      "text/plain": [
       "RandomizedSearchCV(cv=3, estimator=KNeighborsClassifier(), n_iter=100,\n",
       "                   n_jobs=-1,\n",
       "                   param_distributions={'leaf_size': [1, 2, 3, 4, 5, 6, 7, 8, 9,\n",
       "                                                      10, 11, 12, 13, 14, 15,\n",
       "                                                      16, 17, 18, 19, 20, 21,\n",
       "                                                      22, 23, 24, 25, 26, 27,\n",
       "                                                      28, 29, 30, ...],\n",
       "                                        'n_neighbors': [1, 2, 3, 4, 5, 6, 7, 8,\n",
       "                                                        9, 10, 11, 12, 13, 14,\n",
       "                                                        15, 16, 17, 18, 19, 20,\n",
       "                                                        21, 22, 23, 24, 25, 26,\n",
       "                                                        27, 28, 29],\n",
       "                                        'p': [1, 2]},\n",
       "                   random_state=42, return_train_score=True, verbose=2)"
      ]
     },
     "execution_count": 48,
     "metadata": {},
     "output_type": "execute_result"
    }
   ],
   "source": [
    "\n",
    "knn_clf1=KNeighborsClassifier()\n",
    "\n",
    "rf_random = RandomizedSearchCV(estimator=knn_clf1, param_distributions=random_grid,\n",
    "                              n_iter = 100, \n",
    "                              cv = 3, verbose=2, random_state=42, n_jobs=-1,\n",
    "                              return_train_score=True)\n",
    "\n",
    "\n",
    "# Fit the random search model\n",
    "rf_random.fit(train_vectors,y_train)"
   ]
  },
  {
   "cell_type": "code",
   "execution_count": 49,
   "id": "46b1a292",
   "metadata": {},
   "outputs": [
    {
     "data": {
      "text/plain": [
       "{'p': 1, 'n_neighbors': 28, 'leaf_size': 7}"
      ]
     },
     "execution_count": 49,
     "metadata": {},
     "output_type": "execute_result"
    }
   ],
   "source": [
    "rf_random.best_params_"
   ]
  },
  {
   "cell_type": "markdown",
   "id": "346c3a3d",
   "metadata": {},
   "source": [
    "#### Using with Best Params "
   ]
  },
  {
   "cell_type": "code",
   "execution_count": 50,
   "id": "71335898",
   "metadata": {},
   "outputs": [
    {
     "name": "stdout",
     "output_type": "stream",
     "text": [
      "Accuracy score : 0.8173336606923643\n",
      "Confusion matrix : \n",
      " [[2939  124]\n",
      " [ 620  390]]\n",
      "Classification Report\n",
      "              precision    recall  f1-score   support\n",
      "\n",
      "           0       0.83      0.96      0.89      3063\n",
      "           1       0.76      0.39      0.51      1010\n",
      "\n",
      "    accuracy                           0.82      4073\n",
      "   macro avg       0.79      0.67      0.70      4073\n",
      "weighted avg       0.81      0.82      0.79      4073\n",
      "\n",
      "F1 score :\n",
      "0.5118110236220473\n"
     ]
    }
   ],
   "source": [
    "knn_clf_tuned=KNeighborsClassifier(n_neighbors=28,leaf_size=7,p=1)\n",
    "knn_clf_tuned.fit(train_vectors,y_train)\n",
    "\n",
    "pred = knn_clf_tuned.predict(test_vectors)\n",
    "print(\"Accuracy score : {}\".format(accuracy_score(y_test, pred)))\n",
    "print(\"Confusion matrix : \\n {}\".format(confusion_matrix(y_test, pred)))\n",
    "print(\"Classification Report\")\n",
    "print(classification_report(y_test, pred))\n",
    "print(\"F1 score :\")\n",
    "print(f1_score(y_test, pred))"
   ]
  },
  {
   "cell_type": "code",
   "execution_count": null,
   "id": "969d44c9",
   "metadata": {},
   "outputs": [],
   "source": []
  },
  {
   "cell_type": "markdown",
   "id": "1f878c31",
   "metadata": {},
   "source": [
    "### Xgboost"
   ]
  },
  {
   "cell_type": "code",
   "execution_count": 51,
   "id": "7ac17299",
   "metadata": {},
   "outputs": [
    {
     "name": "stdout",
     "output_type": "stream",
     "text": [
      "Accuracy score : 0.8443407807512889\n",
      "Confusion matrix : \n",
      " [[2920  143]\n",
      " [ 491  519]]\n",
      "Classification Report\n",
      "              precision    recall  f1-score   support\n",
      "\n",
      "           0       0.86      0.95      0.90      3063\n",
      "           1       0.78      0.51      0.62      1010\n",
      "\n",
      "    accuracy                           0.84      4073\n",
      "   macro avg       0.82      0.73      0.76      4073\n",
      "weighted avg       0.84      0.84      0.83      4073\n",
      "\n"
     ]
    }
   ],
   "source": [
    "#Create KNN Object.\n",
    "xg_clf=XGBClassifier(random_state=0)\n",
    "\n",
    "xg_clf.fit(train_vectors,y_train)\n",
    "\n",
    "pred = xg_clf.predict(test_vectors)\n",
    "print(\"Accuracy score : {}\".format(accuracy_score(y_test, pred)))\n",
    "print(\"Confusion matrix : \\n {}\".format(confusion_matrix(y_test, pred)))\n",
    "print(\"Classification Report\")\n",
    "print(classification_report(y_test, pred))\n"
   ]
  },
  {
   "cell_type": "markdown",
   "id": "6303507c",
   "metadata": {},
   "source": [
    "#### HYperparameter Tuning"
   ]
  },
  {
   "cell_type": "code",
   "execution_count": 52,
   "id": "b69446c2",
   "metadata": {
    "collapsed": true
   },
   "outputs": [
    {
     "name": "stdout",
     "output_type": "stream",
     "text": [
      "{'alpha': [1e-05, 0.01, 0.1, 1, 10, 50, 100],\n",
      " 'colsample_bylevel': array([0.5, 0.6, 0.7, 0.8, 0.9]),\n",
      " 'colsample_bytree': array([0.5, 0.6, 0.7, 0.8, 0.9]),\n",
      " 'gamma': [1,\n",
      "           2,\n",
      "           3,\n",
      "           4,\n",
      "           5,\n",
      "           6,\n",
      "           7,\n",
      "           8,\n",
      "           9,\n",
      "           10,\n",
      "           11,\n",
      "           12,\n",
      "           13,\n",
      "           14,\n",
      "           15,\n",
      "           16,\n",
      "           17,\n",
      "           18,\n",
      "           19,\n",
      "           20,\n",
      "           21,\n",
      "           22,\n",
      "           23,\n",
      "           24,\n",
      "           25,\n",
      "           26,\n",
      "           27,\n",
      "           28,\n",
      "           29],\n",
      " 'learning_rate': [0.01, 0.1, 0.2, 0.3, 0.4],\n",
      " 'max_depth': range(3, 15, 2),\n",
      " 'min_child_weight': range(1, 6, 2),\n",
      " 'n_estimators': [100, 250, 500],\n",
      " 'scale_pos_weight': range(1, 5),\n",
      " 'subsample': array([0.5, 0.6, 0.7, 0.8, 0.9])}\n"
     ]
    }
   ],
   "source": [
    "# Create the random grid\n",
    "random_grid = {\n",
    "    'min_child_weight': range(1,6,2),\n",
    "    'gamma': list(range(1,30)),\n",
    "    'max_depth':  range(3,15,2),\n",
    "    'alpha': [1e-5, 1e-2, 0.1,1,10,50, 100],\n",
    "    'subsample':np.arange(0.5, 1.0, 0.1),\n",
    "    'scale_pos_weight':range(1,5,1),\n",
    "    'colsample_bytree':np.arange(0.5, 1.0, 0.1),\n",
    "    'n_estimators':[100, 250, 500],\n",
    "    'learning_rate': [0.01, 0.1, 0.2, 0.3, 0.4],\n",
    "    'colsample_bylevel': np.arange(0.5, 1.0, 0.1),\n",
    "    }\n",
    "pprint(random_grid)"
   ]
  },
  {
   "cell_type": "code",
   "execution_count": 53,
   "id": "5c5ea979",
   "metadata": {},
   "outputs": [
    {
     "name": "stdout",
     "output_type": "stream",
     "text": [
      "Fitting 3 folds for each of 100 candidates, totalling 300 fits\n"
     ]
    },
    {
     "data": {
      "text/plain": [
       "RandomizedSearchCV(cv=3,\n",
       "                   estimator=XGBClassifier(base_score=None, booster=None,\n",
       "                                           callbacks=None,\n",
       "                                           colsample_bylevel=None,\n",
       "                                           colsample_bynode=None,\n",
       "                                           colsample_bytree=None,\n",
       "                                           early_stopping_rounds=None,\n",
       "                                           enable_categorical=False,\n",
       "                                           eval_metric=None, gamma=None,\n",
       "                                           gpu_id=None, grow_policy=None,\n",
       "                                           importance_type=None,\n",
       "                                           interaction_constraints=None,\n",
       "                                           learning_rate=None, max_bin=None,...\n",
       "                                        'colsample_bytree': array([0.5, 0.6, 0.7, 0.8, 0.9]),\n",
       "                                        'gamma': [1, 2, 3, 4, 5, 6, 7, 8, 9, 10,\n",
       "                                                  11, 12, 13, 14, 15, 16, 17,\n",
       "                                                  18, 19, 20, 21, 22, 23, 24,\n",
       "                                                  25, 26, 27, 28, 29],\n",
       "                                        'learning_rate': [0.01, 0.1, 0.2, 0.3,\n",
       "                                                          0.4],\n",
       "                                        'max_depth': range(3, 15, 2),\n",
       "                                        'min_child_weight': range(1, 6, 2),\n",
       "                                        'n_estimators': [100, 250, 500],\n",
       "                                        'scale_pos_weight': range(1, 5),\n",
       "                                        'subsample': array([0.5, 0.6, 0.7, 0.8, 0.9])},\n",
       "                   random_state=42, return_train_score=True, verbose=2)"
      ]
     },
     "execution_count": 53,
     "metadata": {},
     "output_type": "execute_result"
    }
   ],
   "source": [
    "\n",
    "xg_clf1=XGBClassifier(random_state=0)\n",
    "\n",
    "\n",
    "rf_random = RandomizedSearchCV(estimator=xg_clf1, param_distributions=random_grid,\n",
    "                              n_iter = 100, \n",
    "                              cv = 3, verbose=2, random_state=42, n_jobs=-1,\n",
    "                              return_train_score=True)\n",
    "\n",
    "\n",
    "# Fit the random search model\n",
    "rf_random.fit(train_vectors,y_train)"
   ]
  },
  {
   "cell_type": "code",
   "execution_count": 55,
   "id": "9f99a392",
   "metadata": {},
   "outputs": [
    {
     "data": {
      "text/plain": [
       "{'subsample': 0.8999999999999999,\n",
       " 'scale_pos_weight': 4,\n",
       " 'n_estimators': 500,\n",
       " 'min_child_weight': 3,\n",
       " 'max_depth': 11,\n",
       " 'learning_rate': 0.01,\n",
       " 'gamma': 3,\n",
       " 'colsample_bytree': 0.5,\n",
       " 'colsample_bylevel': 0.8999999999999999,\n",
       " 'alpha': 0.1}"
      ]
     },
     "execution_count": 55,
     "metadata": {},
     "output_type": "execute_result"
    }
   ],
   "source": [
    "rf_random.best_params_"
   ]
  },
  {
   "cell_type": "code",
   "execution_count": 56,
   "id": "52903d86",
   "metadata": {},
   "outputs": [
    {
     "name": "stdout",
     "output_type": "stream",
     "text": [
      "Accuracy score : 0.8448318192978149\n",
      "Confusion matrix : \n",
      " [[2858  205]\n",
      " [ 427  583]]\n",
      "Classification Report\n",
      "              precision    recall  f1-score   support\n",
      "\n",
      "           0       0.87      0.93      0.90      3063\n",
      "           1       0.74      0.58      0.65      1010\n",
      "\n",
      "    accuracy                           0.84      4073\n",
      "   macro avg       0.80      0.76      0.77      4073\n",
      "weighted avg       0.84      0.84      0.84      4073\n",
      "\n",
      "F1 score :\n",
      "0.6484983314794216\n"
     ]
    }
   ],
   "source": [
    "xg_clf_tuned=XGBClassifier(subsample=0.89,scale_pos_weight=4,n_estimators=500,min_child_weight=3,max_depth=11,learning_rate=0.01,\n",
    "                     gamma=3,colsample_bytree=0.5,colsample_bylevel=0.89,alpha=0.1)\n",
    "xg_clf_tuned.fit(train_vectors,y_train)\n",
    "\n",
    "pred = xg_clf_tuned.predict(test_vectors)\n",
    "print(\"Accuracy score : {}\".format(accuracy_score(y_test, pred)))\n",
    "print(\"Confusion matrix : \\n {}\".format(confusion_matrix(y_test, pred)))\n",
    "print(\"Classification Report\")\n",
    "print(classification_report(y_test, pred))\n",
    "print(\"F1 score :\")\n",
    "print(f1_score(y_test, pred))"
   ]
  },
  {
   "cell_type": "code",
   "execution_count": null,
   "id": "3fa2c54d",
   "metadata": {},
   "outputs": [],
   "source": []
  },
  {
   "cell_type": "code",
   "execution_count": null,
   "id": "b0d73177",
   "metadata": {},
   "outputs": [],
   "source": []
  },
  {
   "cell_type": "markdown",
   "id": "3927128d",
   "metadata": {},
   "source": [
    "### Naiva Bayes"
   ]
  },
  {
   "cell_type": "code",
   "execution_count": 65,
   "id": "a3cb40fa",
   "metadata": {},
   "outputs": [
    {
     "name": "stdout",
     "output_type": "stream",
     "text": [
      "Accuracy score : 0.7520255340044193\n",
      "Confusion matrix : \n",
      " [[3063    0]\n",
      " [1010    0]]\n",
      "Classification Report\n",
      "              precision    recall  f1-score   support\n",
      "\n",
      "           0       0.75      1.00      0.86      3063\n",
      "           1       0.00      0.00      0.00      1010\n",
      "\n",
      "    accuracy                           0.75      4073\n",
      "   macro avg       0.38      0.50      0.43      4073\n",
      "weighted avg       0.57      0.75      0.65      4073\n",
      "\n"
     ]
    }
   ],
   "source": [
    "from sklearn.preprocessing import MinMaxScaler\n",
    "from sklearn.naive_bayes import GaussianNB\n",
    "nb_clf=GaussianNB()\n",
    "#p = Pipeline([('Normalizing',MinMaxScaler()),('MultinomialNB',MultinomialNB())])\n",
    "nb_clf.fit(train_vectors,y_train) \n",
    "\n",
    "pred = nb_clf.predict(test_vectors)\n",
    "print(\"Accuracy score : {}\".format(accuracy_score(y_test, pred)))\n",
    "print(\"Confusion matrix : \\n {}\".format(confusion_matrix(y_test, pred)))\n",
    "print(\"Classification Report\")\n",
    "print(classification_report(y_test, pred))"
   ]
  },
  {
   "cell_type": "markdown",
   "id": "4e373780",
   "metadata": {},
   "source": [
    "#### HYperparameter Tuning"
   ]
  },
  {
   "cell_type": "code",
   "execution_count": 72,
   "id": "9777f1c4",
   "metadata": {},
   "outputs": [
    {
     "name": "stdout",
     "output_type": "stream",
     "text": [
      "{'var_smoothing': [1e-05, 0.0001, 0.001, 0.1, 1, 10, 100, 1000]}\n"
     ]
    }
   ],
   "source": [
    "# Create the random grid\n",
    "random_grid = {\n",
    "    'var_smoothing': [0.00001, 0.0001, 0.001, 0.1, 1, 10, 100,1000]\n",
    "#    # 'class_prior':[True,False],\n",
    "#     'fit_prior':[True,False]\n",
    "              }\n",
    "pprint(random_grid)"
   ]
  },
  {
   "cell_type": "code",
   "execution_count": 73,
   "id": "ce7e05c3",
   "metadata": {},
   "outputs": [
    {
     "name": "stdout",
     "output_type": "stream",
     "text": [
      "Fitting 3 folds for each of 8 candidates, totalling 24 fits\n"
     ]
    },
    {
     "data": {
      "text/plain": [
       "RandomizedSearchCV(cv=3, estimator=GaussianNB(), n_iter=100, n_jobs=-1,\n",
       "                   param_distributions={'var_smoothing': [1e-05, 0.0001, 0.001,\n",
       "                                                          0.1, 1, 10, 100,\n",
       "                                                          1000]},\n",
       "                   random_state=42, return_train_score=True, verbose=2)"
      ]
     },
     "execution_count": 73,
     "metadata": {},
     "output_type": "execute_result"
    }
   ],
   "source": [
    "\n",
    "nb_clf1=GaussianNB()\n",
    "\n",
    "\n",
    "rf_random = RandomizedSearchCV(estimator=nb_clf1, param_distributions=random_grid,\n",
    "                              n_iter = 100, \n",
    "                              cv = 3, verbose=2, random_state=42, n_jobs=-1,\n",
    "                              return_train_score=True)\n",
    "\n",
    "\n",
    "# Fit the random search model\n",
    "rf_random.fit(train_vectors,y_train)"
   ]
  },
  {
   "cell_type": "code",
   "execution_count": 71,
   "id": "806eb695",
   "metadata": {},
   "outputs": [
    {
     "data": {
      "text/plain": [
       "{'priors': None, 'var_smoothing': 1e-09}"
      ]
     },
     "execution_count": 71,
     "metadata": {},
     "output_type": "execute_result"
    }
   ],
   "source": [
    "nb_clf.get_params()"
   ]
  },
  {
   "cell_type": "code",
   "execution_count": 74,
   "id": "0a620a6c",
   "metadata": {},
   "outputs": [
    {
     "data": {
      "text/plain": [
       "{'var_smoothing': 10}"
      ]
     },
     "execution_count": 74,
     "metadata": {},
     "output_type": "execute_result"
    }
   ],
   "source": [
    "rf_random.best_params_"
   ]
  },
  {
   "cell_type": "code",
   "execution_count": 75,
   "id": "afcfca6c",
   "metadata": {},
   "outputs": [
    {
     "name": "stdout",
     "output_type": "stream",
     "text": [
      "Accuracy score : 0.7795236926098699\n",
      "Confusion matrix : \n",
      " [[2817  246]\n",
      " [ 652  358]]\n",
      "Classification Report\n",
      "              precision    recall  f1-score   support\n",
      "\n",
      "           0       0.81      0.92      0.86      3063\n",
      "           1       0.59      0.35      0.44      1010\n",
      "\n",
      "    accuracy                           0.78      4073\n",
      "   macro avg       0.70      0.64      0.65      4073\n",
      "weighted avg       0.76      0.78      0.76      4073\n",
      "\n",
      "F1 score :\n",
      "0.4436183395291202\n"
     ]
    }
   ],
   "source": [
    "nb_clf_tuned=GaussianNB(var_smoothing=10)\n",
    "\n",
    "nb_clf_tuned.fit(train_vectors,y_train)\n",
    "\n",
    "pred = nb_clf_tuned.predict(test_vectors )\n",
    "print(\"Accuracy score : {}\".format(accuracy_score(y_test, pred)))\n",
    "print(\"Confusion matrix : \\n {}\".format(confusion_matrix(y_test, pred)))\n",
    "print(\"Classification Report\")\n",
    "print(classification_report(y_test, pred))\n",
    "print(\"F1 score :\")\n",
    "print(f1_score(y_test, pred))"
   ]
  },
  {
   "cell_type": "code",
   "execution_count": null,
   "id": "1dfcfb82",
   "metadata": {},
   "outputs": [],
   "source": []
  },
  {
   "cell_type": "markdown",
   "id": "134d989f",
   "metadata": {},
   "source": [
    "### Logistic Regression"
   ]
  },
  {
   "cell_type": "code",
   "execution_count": 76,
   "id": "1ad9f939",
   "metadata": {},
   "outputs": [],
   "source": [
    "from sklearn.linear_model import LogisticRegression"
   ]
  },
  {
   "cell_type": "code",
   "execution_count": 77,
   "id": "1f69ee08",
   "metadata": {},
   "outputs": [
    {
     "name": "stdout",
     "output_type": "stream",
     "text": [
      "Accuracy score : 0.8215074883378345\n",
      "Confusion matrix : \n",
      " [[2985   78]\n",
      " [ 649  361]]\n",
      "Classification Report\n",
      "              precision    recall  f1-score   support\n",
      "\n",
      "           0       0.82      0.97      0.89      3063\n",
      "           1       0.82      0.36      0.50      1010\n",
      "\n",
      "    accuracy                           0.82      4073\n",
      "   macro avg       0.82      0.67      0.69      4073\n",
      "weighted avg       0.82      0.82      0.79      4073\n",
      "\n"
     ]
    }
   ],
   "source": [
    "logticreg_clf=LogisticRegression()\n",
    "\n",
    "logticreg_clf.fit(train_vectors,y_train)\n",
    "\n",
    "pred = logticreg_clf.predict(test_vectors)\n",
    "print(\"Accuracy score : {}\".format(accuracy_score(y_test, pred)))\n",
    "print(\"Confusion matrix : \\n {}\".format(confusion_matrix(y_test, pred)))\n",
    "print(\"Classification Report\")\n",
    "print(classification_report(y_test, pred))"
   ]
  },
  {
   "cell_type": "markdown",
   "id": "7b7cc2e2",
   "metadata": {},
   "source": [
    "#### HYperparameter Tuning"
   ]
  },
  {
   "cell_type": "code",
   "execution_count": 78,
   "id": "43a7db77",
   "metadata": {},
   "outputs": [
    {
     "name": "stdout",
     "output_type": "stream",
     "text": [
      "{'C': [100, 10, 1.0, 0.1, 0.01],\n",
      " 'penalty': ['l1', 'l2', 'elasticnet'],\n",
      " 'solver': ['newton-cg', 'lbfgs', 'liblinear', 'sag', 'saga']}\n"
     ]
    }
   ],
   "source": [
    "# Create the random grid\n",
    "random_grid = {\n",
    "    'solver': ['newton-cg', 'lbfgs', 'liblinear', 'sag', 'saga'],\n",
    "     'C':[100, 10, 1.0, 0.1, 0.01],\n",
    "    'penalty':['l1','l2','elasticnet']\n",
    "              }\n",
    "pprint(random_grid)"
   ]
  },
  {
   "cell_type": "code",
   "execution_count": 79,
   "id": "efcac2e9",
   "metadata": {},
   "outputs": [
    {
     "name": "stdout",
     "output_type": "stream",
     "text": [
      "Fitting 3 folds for each of 75 candidates, totalling 225 fits\n"
     ]
    },
    {
     "data": {
      "text/plain": [
       "RandomizedSearchCV(cv=3, estimator=LogisticRegression(), n_iter=100, n_jobs=-1,\n",
       "                   param_distributions={'C': [100, 10, 1.0, 0.1, 0.01],\n",
       "                                        'penalty': ['l1', 'l2', 'elasticnet'],\n",
       "                                        'solver': ['newton-cg', 'lbfgs',\n",
       "                                                   'liblinear', 'sag',\n",
       "                                                   'saga']},\n",
       "                   random_state=42, return_train_score=True, verbose=2)"
      ]
     },
     "execution_count": 79,
     "metadata": {},
     "output_type": "execute_result"
    }
   ],
   "source": [
    "\n",
    "logticreg_clf_tuned=LogisticRegression()\n",
    "\n",
    "\n",
    "rf_random = RandomizedSearchCV(estimator=logticreg_clf_tuned, param_distributions=random_grid,\n",
    "                              n_iter = 100, \n",
    "                              cv = 3, verbose=2, random_state=42, n_jobs=-1,\n",
    "                              return_train_score=True)\n",
    "\n",
    "\n",
    "# Fit the random search model\n",
    "rf_random.fit(train_vectors,y_train)"
   ]
  },
  {
   "cell_type": "code",
   "execution_count": 80,
   "id": "350e8516",
   "metadata": {},
   "outputs": [
    {
     "data": {
      "text/plain": [
       "{'solver': 'lbfgs', 'penalty': 'l2', 'C': 10}"
      ]
     },
     "execution_count": 80,
     "metadata": {},
     "output_type": "execute_result"
    }
   ],
   "source": [
    "rf_random.best_params_"
   ]
  },
  {
   "cell_type": "markdown",
   "id": "5c2f42b6",
   "metadata": {},
   "source": [
    "### Using Best Params"
   ]
  },
  {
   "cell_type": "code",
   "execution_count": 84,
   "id": "c0af2d00",
   "metadata": {},
   "outputs": [
    {
     "name": "stdout",
     "output_type": "stream",
     "text": [
      "Accuracy score : 0.838939356739504\n",
      "Confusion matrix : \n",
      " [[2948  115]\n",
      " [ 541  469]]\n",
      "Classification Report\n",
      "              precision    recall  f1-score   support\n",
      "\n",
      "           0       0.84      0.96      0.90      3063\n",
      "           1       0.80      0.46      0.59      1010\n",
      "\n",
      "    accuracy                           0.84      4073\n",
      "   macro avg       0.82      0.71      0.74      4073\n",
      "weighted avg       0.83      0.84      0.82      4073\n",
      "\n",
      "F1 score :\n",
      "0.588456712672522\n"
     ]
    }
   ],
   "source": [
    "logticreg_clf_tuned=LogisticRegression(solver='lbfgs',penalty='l2',C=10)\n",
    "\n",
    "logticreg_clf_tuned.fit(train_vectors,y_train)\n",
    "\n",
    "pred = logticreg_clf_tuned.predict(test_vectors)\n",
    "print(\"Accuracy score : {}\".format(accuracy_score(y_test, pred)))\n",
    "print(\"Confusion matrix : \\n {}\".format(confusion_matrix(y_test, pred)))\n",
    "print(\"Classification Report\")\n",
    "print(classification_report(y_test, pred))\n",
    "print(\"F1 score :\")\n",
    "print(f1_score(y_test, pred))"
   ]
  },
  {
   "cell_type": "code",
   "execution_count": null,
   "id": "ddf72db4",
   "metadata": {},
   "outputs": [],
   "source": []
  },
  {
   "cell_type": "markdown",
   "id": "0065cc84",
   "metadata": {},
   "source": [
    "### Consolidating all classifiers accuracy scores"
   ]
  },
  {
   "cell_type": "code",
   "execution_count": 91,
   "id": "436316f3",
   "metadata": {},
   "outputs": [],
   "source": [
    "classifiers = [('Logistic Regression',logticreg_clf_tuned),('Naive Bayes',nb_clf_tuned),('Xgboost',xg_clf_tuned),\n",
    "              ('KNN',knn_clf_tuned),('Random Forest',rf_clf_tuned),(\"SVM\",svm_clf_tuned)]"
   ]
  },
  {
   "cell_type": "code",
   "execution_count": 92,
   "id": "7df3657c",
   "metadata": {},
   "outputs": [
    {
     "data": {
      "text/html": [
       "<div>\n",
       "<style scoped>\n",
       "    .dataframe tbody tr th:only-of-type {\n",
       "        vertical-align: middle;\n",
       "    }\n",
       "\n",
       "    .dataframe tbody tr th {\n",
       "        vertical-align: top;\n",
       "    }\n",
       "\n",
       "    .dataframe thead th {\n",
       "        text-align: right;\n",
       "    }\n",
       "</style>\n",
       "<table border=\"1\" class=\"dataframe\">\n",
       "  <thead>\n",
       "    <tr style=\"text-align: right;\">\n",
       "      <th></th>\n",
       "      <th>Accuracy</th>\n",
       "      <th>Precision</th>\n",
       "      <th>Recall</th>\n",
       "      <th>F1 Score</th>\n",
       "      <th>roc_auc_score</th>\n",
       "    </tr>\n",
       "  </thead>\n",
       "  <tbody>\n",
       "    <tr>\n",
       "      <th>SVM</th>\n",
       "      <td>0.850233</td>\n",
       "      <td>0.86</td>\n",
       "      <td>0.468317</td>\n",
       "      <td>0.61</td>\n",
       "      <td>0.853104</td>\n",
       "    </tr>\n",
       "    <tr>\n",
       "      <th>Xgboost</th>\n",
       "      <td>0.844832</td>\n",
       "      <td>0.80</td>\n",
       "      <td>0.577228</td>\n",
       "      <td>0.65</td>\n",
       "      <td>0.862210</td>\n",
       "    </tr>\n",
       "    <tr>\n",
       "      <th>Logistic Regression</th>\n",
       "      <td>0.838939</td>\n",
       "      <td>0.82</td>\n",
       "      <td>0.464356</td>\n",
       "      <td>0.59</td>\n",
       "      <td>0.828033</td>\n",
       "    </tr>\n",
       "    <tr>\n",
       "      <th>Random Forest</th>\n",
       "      <td>0.833783</td>\n",
       "      <td>0.85</td>\n",
       "      <td>0.384158</td>\n",
       "      <td>0.53</td>\n",
       "      <td>0.836854</td>\n",
       "    </tr>\n",
       "    <tr>\n",
       "      <th>KNN</th>\n",
       "      <td>0.817334</td>\n",
       "      <td>0.79</td>\n",
       "      <td>0.386139</td>\n",
       "      <td>0.51</td>\n",
       "      <td>0.804381</td>\n",
       "    </tr>\n",
       "    <tr>\n",
       "      <th>Naive Bayes</th>\n",
       "      <td>0.779524</td>\n",
       "      <td>0.70</td>\n",
       "      <td>0.354455</td>\n",
       "      <td>0.44</td>\n",
       "      <td>0.744662</td>\n",
       "    </tr>\n",
       "  </tbody>\n",
       "</table>\n",
       "</div>"
      ],
      "text/plain": [
       "                     Accuracy  Precision    Recall  F1 Score  roc_auc_score\n",
       "SVM                  0.850233       0.86  0.468317      0.61       0.853104\n",
       "Xgboost              0.844832       0.80  0.577228      0.65       0.862210\n",
       "Logistic Regression  0.838939       0.82  0.464356      0.59       0.828033\n",
       "Random Forest        0.833783       0.85  0.384158      0.53       0.836854\n",
       "KNN                  0.817334       0.79  0.386139      0.51       0.804381\n",
       "Naive Bayes          0.779524       0.70  0.354455      0.44       0.744662"
      ]
     },
     "execution_count": 92,
     "metadata": {},
     "output_type": "execute_result"
    }
   ],
   "source": [
    "df_model_scores=model_comparison_table(test_vectors,y_test,classifiers)\n",
    "df_model_scores.head(20).T.sort_values(by='Accuracy', ascending=False)"
   ]
  },
  {
   "cell_type": "code",
   "execution_count": null,
   "id": "eeb448dd",
   "metadata": {},
   "outputs": [],
   "source": []
  },
  {
   "cell_type": "code",
   "execution_count": null,
   "id": "ffadaf87",
   "metadata": {},
   "outputs": [],
   "source": []
  },
  {
   "cell_type": "code",
   "execution_count": null,
   "id": "41e80245",
   "metadata": {},
   "outputs": [],
   "source": []
  },
  {
   "cell_type": "code",
   "execution_count": null,
   "id": "04aeb6e4",
   "metadata": {},
   "outputs": [],
   "source": []
  },
  {
   "cell_type": "markdown",
   "id": "07621823",
   "metadata": {},
   "source": [
    "## Pretrained Glove"
   ]
  },
  {
   "cell_type": "markdown",
   "id": "6123d458",
   "metadata": {},
   "source": [
    "##### Download the pretrained zip file"
   ]
  },
  {
   "cell_type": "code",
   "execution_count": null,
   "id": "d4d97ee7",
   "metadata": {},
   "outputs": [],
   "source": [
    "# !wget http://nlp.stanford.edu/data/glove.6B.zip"
   ]
  },
  {
   "cell_type": "markdown",
   "id": "ad779aad",
   "metadata": {},
   "source": [
    "#### Unzip it"
   ]
  },
  {
   "cell_type": "code",
   "execution_count": null,
   "id": "c0a50d89",
   "metadata": {},
   "outputs": [],
   "source": [
    "# !unzip glove*.zip"
   ]
  },
  {
   "cell_type": "code",
   "execution_count": 93,
   "id": "73942e7b",
   "metadata": {},
   "outputs": [],
   "source": [
    "from gensim.models import KeyedVectors\n",
    "from gensim.scripts.glove2word2vec import glove2word2vec"
   ]
  },
  {
   "cell_type": "code",
   "execution_count": 95,
   "id": "bf0281e3",
   "metadata": {},
   "outputs": [
    {
     "data": {
      "text/plain": [
       "(400000, 300)"
      ]
     },
     "execution_count": 95,
     "metadata": {},
     "output_type": "execute_result"
    }
   ],
   "source": [
    "# Load 300 dimension Glove pretrained model \"glove.6B.300d.txt\" and convert to word2vec format\",\n",
    "path_to_model = '//gpfs//home//psc21zcu//FakeNews_Detection/Dissertation_Work//Embeddings//glove.6B.300d.txt'\n",
    "output_file = '//gpfs//home//psc21zcu//FakeNews_Detection/Dissertation_Work//Embeddings///gensim_glove.6B.300d.txt'\n",
    "glove2word2vec(path_to_model, output_file)"
   ]
  },
  {
   "cell_type": "code",
   "execution_count": 96,
   "id": "552fdef2",
   "metadata": {},
   "outputs": [
    {
     "data": {
      "text/plain": [
       "'//gpfs//home//psc21zcu//FakeNews_Detection/Dissertation_Work//Embeddings//glove.6B.300d.txt'"
      ]
     },
     "execution_count": 96,
     "metadata": {},
     "output_type": "execute_result"
    }
   ],
   "source": [
    "path_to_model"
   ]
  },
  {
   "cell_type": "code",
   "execution_count": 97,
   "id": "d98342a8",
   "metadata": {},
   "outputs": [
    {
     "name": "stdout",
     "output_type": "stream",
     "text": [
      "CPU times: user 43.3 s, sys: 602 ms, total: 43.9 s\n",
      "Wall time: 44 s\n",
      "done loading Glove Pretrained Embedding\n"
     ]
    }
   ],
   "source": [
    "%time glove_model = KeyedVectors.load_word2vec_format(output_file, binary=False)\n",
    "print('done loading Glove Pretrained Embedding')"
   ]
  },
  {
   "cell_type": "code",
   "execution_count": 99,
   "id": "4d227468",
   "metadata": {},
   "outputs": [
    {
     "name": "stdout",
     "output_type": "stream",
     "text": [
      "16289\n"
     ]
    }
   ],
   "source": [
    "# https://colab.research.google.com/github/practical-nlp/practical-nlp/blob/master/Ch4/03_Word2Vec_Example.ipynb#scrollTo=m-WjFyC6b_IE\n",
    "\n",
    "# Creating a feature vector by averaging all embeddings for all sentences\n",
    "def glove_embedding_feats(list_of_lists):\n",
    "    DIMENSION = 300\n",
    "    zero_vector = np.zeros(DIMENSION)\n",
    "    feats = []\n",
    "    for tokens in list_of_lists:\n",
    "        feat_for_this =  np.zeros(DIMENSION)\n",
    "        count_for_this = 0 + 1e-5 # to avoid divide-by-zero \n",
    "        for token in tokens:\n",
    "            if token in glove_model:\n",
    "                feat_for_this += glove_model[token]\n",
    "                count_for_this +=1\n",
    "        if(count_for_this!=0):\n",
    "            feats.append(feat_for_this/count_for_this) \n",
    "        else:\n",
    "            feats.append(zero_vector)\n",
    "    return feats\n",
    "\n",
    "\n",
    "glove_train_vectors = glove_embedding_feats(X_train)\n",
    "print(len(glove_train_vectors))"
   ]
  },
  {
   "cell_type": "code",
   "execution_count": 100,
   "id": "eb33d197",
   "metadata": {},
   "outputs": [
    {
     "name": "stdout",
     "output_type": "stream",
     "text": [
      "4073\n"
     ]
    }
   ],
   "source": [
    "glove_test_vectors = glove_embedding_feats(X_test)\n",
    "print(len(glove_test_vectors))"
   ]
  },
  {
   "cell_type": "markdown",
   "id": "8c978c7d",
   "metadata": {},
   "source": [
    "### RandomForest"
   ]
  },
  {
   "cell_type": "code",
   "execution_count": 30,
   "id": "a1f4cc0a",
   "metadata": {},
   "outputs": [],
   "source": [
    "rf = RandomForestClassifier(random_state=0)\n",
    "rf_model = rf.fit(glove_train_vectors, y_train.values.ravel())"
   ]
  },
  {
   "cell_type": "code",
   "execution_count": 31,
   "id": "bba6fd6e",
   "metadata": {},
   "outputs": [
    {
     "name": "stdout",
     "output_type": "stream",
     "text": [
      "Accuracy score : 0.8273999508961454\n",
      "Confusion matrix : \n",
      " [[3014   49]\n",
      " [ 654  356]]\n",
      "Classification Report\n",
      "              precision    recall  f1-score   support\n",
      "\n",
      "           0       0.82      0.98      0.90      3063\n",
      "           1       0.88      0.35      0.50      1010\n",
      "\n",
      "    accuracy                           0.83      4073\n",
      "   macro avg       0.85      0.67      0.70      4073\n",
      "weighted avg       0.84      0.83      0.80      4073\n",
      "\n",
      "Precision : 0.8790123456790123\n",
      "Recall : 0.35247524752475246\n"
     ]
    }
   ],
   "source": [
    "# Use the trained model to make predictions on the test data\n",
    "y_pred = rf_model.predict(glove_test_vectors)\n",
    "print(\"Accuracy score : {}\".format(accuracy_score(y_test, y_pred)))\n",
    "print(\"Confusion matrix : \\n {}\".format(confusion_matrix(y_test, y_pred)))\n",
    "print(\"Classification Report\")\n",
    "print(classification_report(y_test, y_pred))\n",
    "\n",
    "precision = precision_score(y_test, y_pred)\n",
    "print(\"Precision : {}\".format(precision))\n",
    "recall = recall_score(y_test, y_pred)\n",
    "print(\"Recall : {}\".format(recall))"
   ]
  },
  {
   "cell_type": "code",
   "execution_count": null,
   "id": "3222d853",
   "metadata": {},
   "outputs": [],
   "source": []
  },
  {
   "cell_type": "markdown",
   "id": "2a0ba299",
   "metadata": {},
   "source": [
    "##### Hyperparameter Tuning"
   ]
  },
  {
   "cell_type": "code",
   "execution_count": 103,
   "id": "fdc79425",
   "metadata": {},
   "outputs": [
    {
     "name": "stdout",
     "output_type": "stream",
     "text": [
      "{'bootstrap': [True, False],\n",
      " 'max_depth': [10, 20, 30, 40, 50, 60, 70, 80, 90, 100, 110],\n",
      " 'max_features': ['auto', 'sqrt'],\n",
      " 'min_samples_leaf': [1, 2, 4],\n",
      " 'min_samples_split': [2, 5, 10],\n",
      " 'n_estimators': [100, 200, 300, 400, 500, 600, 700, 800, 900, 1000]}\n"
     ]
    }
   ],
   "source": [
    "# Number of trees in random forest\n",
    "n_estimators =[int(x) for x in np.linspace(start = 100, stop = 1000, num = 10)]\n",
    "# Number of features to consider at every split\n",
    "max_features = ['auto', 'sqrt']\n",
    "# Maximum number of levels in tree\n",
    "max_depth =[int(x) for x in np.linspace(10, 110, num = 11)]\n",
    "#Minimum number of samples required to split a node\n",
    "min_samples_split = [2, 5, 10]\n",
    "# Minimum number of samples required at each leaf node\n",
    "min_samples_leaf = [1, 2, 4]\n",
    "# Method of selecting samples for training each tree\n",
    "bootstrap = [True, False]\n",
    "\n",
    "# Create the random grid\n",
    "random_grid = {\n",
    "    'n_estimators': n_estimators,\n",
    "               'max_features': max_features,\n",
    "               'max_depth': max_depth,\n",
    "               'min_samples_split': min_samples_split,\n",
    "               'min_samples_leaf': min_samples_leaf,\n",
    "               'bootstrap': bootstrap\n",
    "              }\n",
    "pprint(random_grid)\n",
    "\n"
   ]
  },
  {
   "cell_type": "code",
   "execution_count": 104,
   "id": "03645184",
   "metadata": {},
   "outputs": [],
   "source": [
    "rf_clf1=RandomForestClassifier(random_state=0)"
   ]
  },
  {
   "cell_type": "code",
   "execution_count": 105,
   "id": "1922217b",
   "metadata": {
    "collapsed": true
   },
   "outputs": [
    {
     "name": "stdout",
     "output_type": "stream",
     "text": [
      "Fitting 3 folds for each of 100 candidates, totalling 300 fits\n",
      "[CV] END bootstrap=False, max_depth=50, max_features=sqrt, min_samples_leaf=2, min_samples_split=2, n_estimators=300; total time= 1.4min\n",
      "[CV] END bootstrap=True, max_depth=110, max_features=auto, min_samples_leaf=4, min_samples_split=5, n_estimators=500; total time= 1.4min\n",
      "[CV] END bootstrap=False, max_depth=50, max_features=sqrt, min_samples_leaf=2, min_samples_split=2, n_estimators=100; total time=  29.5s\n",
      "[CV] END bootstrap=False, max_depth=30, max_features=sqrt, min_samples_leaf=4, min_samples_split=5, n_estimators=100; total time=  27.2s\n",
      "[CV] END bootstrap=False, max_depth=110, max_features=auto, min_samples_leaf=1, min_samples_split=5, n_estimators=100; total time=  29.7s\n",
      "[CV] END bootstrap=True, max_depth=10, max_features=auto, min_samples_leaf=4, min_samples_split=5, n_estimators=100; total time=  14.5s\n",
      "[CV] END bootstrap=False, max_depth=110, max_features=auto, min_samples_leaf=1, min_samples_split=5, n_estimators=1000; total time= 4.9min\n",
      "[CV] END bootstrap=True, max_depth=30, max_features=sqrt, min_samples_leaf=1, min_samples_split=2, n_estimators=800; total time= 2.4min\n",
      "[CV] END bootstrap=False, max_depth=80, max_features=auto, min_samples_leaf=1, min_samples_split=10, n_estimators=900; total time= 4.4min\n",
      "[CV] END bootstrap=False, max_depth=80, max_features=auto, min_samples_leaf=2, min_samples_split=5, n_estimators=900; total time= 4.3min\n",
      "[CV] END bootstrap=True, max_depth=30, max_features=auto, min_samples_leaf=4, min_samples_split=5, n_estimators=300; total time=  47.5s\n",
      "[CV] END bootstrap=True, max_depth=30, max_features=sqrt, min_samples_leaf=1, min_samples_split=2, n_estimators=800; total time= 2.5min\n",
      "[CV] END bootstrap=True, max_depth=50, max_features=auto, min_samples_leaf=1, min_samples_split=2, n_estimators=100; total time=  13.9s\n",
      "[CV] END bootstrap=False, max_depth=40, max_features=sqrt, min_samples_leaf=2, min_samples_split=5, n_estimators=100; total time=  29.5s\n",
      "[CV] END bootstrap=False, max_depth=70, max_features=auto, min_samples_leaf=2, min_samples_split=2, n_estimators=600; total time= 2.7min\n",
      "[CV] END bootstrap=False, max_depth=20, max_features=sqrt, min_samples_leaf=1, min_samples_split=5, n_estimators=900; total time= 4.4min\n",
      "[CV] END bootstrap=True, max_depth=90, max_features=sqrt, min_samples_leaf=1, min_samples_split=2, n_estimators=300; total time=  54.8s\n",
      "[CV] END bootstrap=True, max_depth=30, max_features=auto, min_samples_leaf=4, min_samples_split=5, n_estimators=300; total time=  47.9s\n",
      "[CV] END bootstrap=True, max_depth=30, max_features=sqrt, min_samples_leaf=1, min_samples_split=2, n_estimators=800; total time= 2.5min\n",
      "[CV] END bootstrap=True, max_depth=60, max_features=sqrt, min_samples_leaf=2, min_samples_split=2, n_estimators=600; total time= 1.7min\n",
      "[CV] END bootstrap=False, max_depth=30, max_features=auto, min_samples_leaf=4, min_samples_split=2, n_estimators=100; total time=  27.8s\n",
      "[CV] END bootstrap=False, max_depth=20, max_features=auto, min_samples_leaf=1, min_samples_split=5, n_estimators=900; total time= 4.4min\n",
      "[CV] END bootstrap=False, max_depth=100, max_features=sqrt, min_samples_leaf=1, min_samples_split=5, n_estimators=100; total time=  29.4s\n",
      "[CV] END bootstrap=False, max_depth=30, max_features=auto, min_samples_leaf=4, min_samples_split=2, n_estimators=200; total time=  53.3s\n",
      "[CV] END bootstrap=True, max_depth=90, max_features=sqrt, min_samples_leaf=1, min_samples_split=2, n_estimators=300; total time=  52.3s\n",
      "[CV] END bootstrap=False, max_depth=10, max_features=auto, min_samples_leaf=1, min_samples_split=5, n_estimators=1000; total time= 3.5min\n",
      "[CV] END bootstrap=True, max_depth=60, max_features=sqrt, min_samples_leaf=2, min_samples_split=2, n_estimators=600; total time= 1.6min\n",
      "[CV] END bootstrap=True, max_depth=110, max_features=auto, min_samples_leaf=4, min_samples_split=5, n_estimators=500; total time= 1.4min\n",
      "[CV] END bootstrap=False, max_depth=50, max_features=sqrt, min_samples_leaf=2, min_samples_split=2, n_estimators=100; total time=  30.0s\n",
      "[CV] END bootstrap=False, max_depth=30, max_features=sqrt, min_samples_leaf=4, min_samples_split=5, n_estimators=100; total time=  28.1s\n",
      "[CV] END bootstrap=False, max_depth=110, max_features=auto, min_samples_leaf=1, min_samples_split=5, n_estimators=100; total time=  29.6s\n",
      "[CV] END bootstrap=True, max_depth=50, max_features=auto, min_samples_leaf=1, min_samples_split=10, n_estimators=500; total time= 1.5min\n",
      "[CV] END bootstrap=False, max_depth=30, max_features=sqrt, min_samples_leaf=2, min_samples_split=5, n_estimators=400; total time= 1.9min\n",
      "[CV] END bootstrap=True, max_depth=110, max_features=auto, min_samples_leaf=1, min_samples_split=10, n_estimators=300; total time=  55.3s\n",
      "[CV] END bootstrap=False, max_depth=10, max_features=auto, min_samples_leaf=1, min_samples_split=5, n_estimators=1000; total time= 3.6min\n",
      "[CV] END bootstrap=False, max_depth=80, max_features=auto, min_samples_leaf=1, min_samples_split=10, n_estimators=900; total time= 4.3min\n",
      "[CV] END bootstrap=True, max_depth=50, max_features=auto, min_samples_leaf=1, min_samples_split=10, n_estimators=500; total time= 1.5min\n",
      "[CV] END bootstrap=False, max_depth=30, max_features=sqrt, min_samples_leaf=2, min_samples_split=5, n_estimators=400; total time= 1.9min\n",
      "[CV] END bootstrap=True, max_depth=110, max_features=auto, min_samples_leaf=1, min_samples_split=10, n_estimators=300; total time=  55.8s\n",
      "[CV] END bootstrap=False, max_depth=10, max_features=auto, min_samples_leaf=1, min_samples_split=5, n_estimators=1000; total time= 3.7min\n",
      "[CV] END bootstrap=True, max_depth=110, max_features=auto, min_samples_leaf=2, min_samples_split=5, n_estimators=700; total time= 2.0min\n",
      "[CV] END bootstrap=False, max_depth=110, max_features=sqrt, min_samples_leaf=1, min_samples_split=2, n_estimators=100; total time=  29.8s\n",
      "[CV] END bootstrap=False, max_depth=80, max_features=sqrt, min_samples_leaf=2, min_samples_split=5, n_estimators=800; total time= 3.8min\n",
      "[CV] END bootstrap=True, max_depth=60, max_features=auto, min_samples_leaf=1, min_samples_split=10, n_estimators=1000; total time= 3.1min\n",
      "[CV] END bootstrap=True, max_depth=110, max_features=sqrt, min_samples_leaf=4, min_samples_split=2, n_estimators=400; total time= 1.1min\n",
      "[CV] END bootstrap=True, max_depth=100, max_features=sqrt, min_samples_leaf=4, min_samples_split=10, n_estimators=900; total time= 2.4min\n",
      "[CV] END bootstrap=True, max_depth=10, max_features=sqrt, min_samples_leaf=2, min_samples_split=10, n_estimators=1000; total time= 2.0min\n",
      "[CV] END bootstrap=False, max_depth=110, max_features=sqrt, min_samples_leaf=1, min_samples_split=2, n_estimators=100; total time=  29.8s\n",
      "[CV] END bootstrap=False, max_depth=80, max_features=sqrt, min_samples_leaf=2, min_samples_split=5, n_estimators=800; total time= 3.8min\n",
      "[CV] END bootstrap=True, max_depth=60, max_features=auto, min_samples_leaf=1, min_samples_split=10, n_estimators=1000; total time= 3.0min\n",
      "[CV] END bootstrap=True, max_depth=110, max_features=sqrt, min_samples_leaf=4, min_samples_split=2, n_estimators=400; total time= 1.1min\n",
      "[CV] END bootstrap=True, max_depth=100, max_features=sqrt, min_samples_leaf=4, min_samples_split=10, n_estimators=900; total time= 2.4min\n",
      "[CV] END bootstrap=False, max_depth=70, max_features=sqrt, min_samples_leaf=1, min_samples_split=2, n_estimators=400; total time= 1.9min\n",
      "[CV] END bootstrap=False, max_depth=110, max_features=sqrt, min_samples_leaf=1, min_samples_split=2, n_estimators=100; total time=  30.7s\n",
      "[CV] END bootstrap=False, max_depth=80, max_features=sqrt, min_samples_leaf=2, min_samples_split=5, n_estimators=800; total time= 3.8min\n",
      "[CV] END bootstrap=True, max_depth=60, max_features=auto, min_samples_leaf=1, min_samples_split=10, n_estimators=1000; total time= 3.1min\n",
      "[CV] END bootstrap=True, max_depth=110, max_features=sqrt, min_samples_leaf=4, min_samples_split=2, n_estimators=400; total time= 1.1min\n",
      "[CV] END bootstrap=True, max_depth=100, max_features=sqrt, min_samples_leaf=4, min_samples_split=10, n_estimators=900; total time= 2.4min\n",
      "[CV] END bootstrap=True, max_depth=110, max_features=auto, min_samples_leaf=2, min_samples_split=5, n_estimators=700; total time= 1.9min\n",
      "[CV] END bootstrap=False, max_depth=90, max_features=sqrt, min_samples_leaf=2, min_samples_split=5, n_estimators=800; total time= 3.8min\n",
      "[CV] END bootstrap=False, max_depth=90, max_features=auto, min_samples_leaf=1, min_samples_split=5, n_estimators=1000; total time= 4.9min\n",
      "[CV] END bootstrap=False, max_depth=70, max_features=auto, min_samples_leaf=2, min_samples_split=2, n_estimators=500; total time= 2.3min\n"
     ]
    },
    {
     "name": "stdout",
     "output_type": "stream",
     "text": [
      "[CV] END bootstrap=True, max_depth=10, max_features=sqrt, min_samples_leaf=2, min_samples_split=10, n_estimators=1000; total time= 2.0min\n",
      "[CV] END bootstrap=False, max_depth=90, max_features=sqrt, min_samples_leaf=2, min_samples_split=5, n_estimators=800; total time= 3.8min\n",
      "[CV] END bootstrap=False, max_depth=90, max_features=auto, min_samples_leaf=1, min_samples_split=5, n_estimators=1000; total time= 4.9min\n",
      "[CV] END bootstrap=False, max_depth=70, max_features=auto, min_samples_leaf=2, min_samples_split=2, n_estimators=500; total time= 2.3min\n",
      "[CV] END bootstrap=False, max_depth=90, max_features=sqrt, min_samples_leaf=1, min_samples_split=2, n_estimators=200; total time=  57.9s\n",
      "[CV] END bootstrap=False, max_depth=30, max_features=sqrt, min_samples_leaf=4, min_samples_split=5, n_estimators=700; total time= 3.2min\n",
      "[CV] END bootstrap=True, max_depth=10, max_features=auto, min_samples_leaf=4, min_samples_split=5, n_estimators=100; total time=  12.2s\n",
      "[CV] END bootstrap=True, max_depth=60, max_features=auto, min_samples_leaf=2, min_samples_split=2, n_estimators=300; total time=  48.6s\n",
      "[CV] END bootstrap=True, max_depth=100, max_features=sqrt, min_samples_leaf=4, min_samples_split=2, n_estimators=800; total time= 2.2min\n",
      "[CV] END bootstrap=False, max_depth=80, max_features=sqrt, min_samples_leaf=2, min_samples_split=2, n_estimators=100; total time=  28.7s\n",
      "[CV] END bootstrap=False, max_depth=100, max_features=sqrt, min_samples_leaf=4, min_samples_split=5, n_estimators=700; total time= 3.1min\n",
      "[CV] END bootstrap=True, max_depth=30, max_features=auto, min_samples_leaf=2, min_samples_split=10, n_estimators=100; total time=  17.3s\n",
      "[CV] END bootstrap=True, max_depth=10, max_features=sqrt, min_samples_leaf=4, min_samples_split=5, n_estimators=700; total time= 1.4min\n",
      "[CV] END bootstrap=False, max_depth=90, max_features=sqrt, min_samples_leaf=4, min_samples_split=5, n_estimators=500; total time= 2.2min\n",
      "[CV] END bootstrap=True, max_depth=20, max_features=auto, min_samples_leaf=2, min_samples_split=2, n_estimators=200; total time=  33.7s\n",
      "[CV] END bootstrap=True, max_depth=10, max_features=auto, min_samples_leaf=1, min_samples_split=5, n_estimators=500; total time= 1.1min\n",
      "[CV] END bootstrap=True, max_depth=50, max_features=sqrt, min_samples_leaf=1, min_samples_split=2, n_estimators=900; total time= 2.7min\n",
      "[CV] END bootstrap=True, max_depth=60, max_features=sqrt, min_samples_leaf=1, min_samples_split=2, n_estimators=1000; total time= 3.0min\n",
      "[CV] END bootstrap=True, max_depth=50, max_features=auto, min_samples_leaf=2, min_samples_split=2, n_estimators=600; total time= 1.7min\n",
      "[CV] END bootstrap=True, max_depth=10, max_features=sqrt, min_samples_leaf=4, min_samples_split=5, n_estimators=700; total time= 1.4min\n",
      "[CV] END bootstrap=False, max_depth=80, max_features=auto, min_samples_leaf=1, min_samples_split=10, n_estimators=900; total time= 4.3min\n",
      "[CV] END bootstrap=True, max_depth=10, max_features=auto, min_samples_leaf=4, min_samples_split=5, n_estimators=100; total time=  13.4s\n",
      "[CV] END bootstrap=True, max_depth=60, max_features=auto, min_samples_leaf=2, min_samples_split=2, n_estimators=300; total time=  55.4s\n",
      "[CV] END bootstrap=False, max_depth=90, max_features=auto, min_samples_leaf=1, min_samples_split=5, n_estimators=1000; total time= 5.0min\n",
      "[CV] END bootstrap=False, max_depth=70, max_features=auto, min_samples_leaf=2, min_samples_split=2, n_estimators=500; total time= 2.4min\n",
      "[CV] END bootstrap=False, max_depth=90, max_features=sqrt, min_samples_leaf=4, min_samples_split=5, n_estimators=500; total time= 2.2min\n",
      "[CV] END bootstrap=True, max_depth=20, max_features=auto, min_samples_leaf=2, min_samples_split=2, n_estimators=200; total time=  37.1s\n",
      "[CV] END bootstrap=False, max_depth=50, max_features=sqrt, min_samples_leaf=2, min_samples_split=2, n_estimators=100; total time=  28.7s\n",
      "[CV] END bootstrap=False, max_depth=30, max_features=sqrt, min_samples_leaf=4, min_samples_split=5, n_estimators=100; total time=  28.1s\n",
      "[CV] END bootstrap=True, max_depth=60, max_features=auto, min_samples_leaf=1, min_samples_split=5, n_estimators=300; total time=  56.1s\n",
      "[CV] END bootstrap=False, max_depth=110, max_features=auto, min_samples_leaf=1, min_samples_split=10, n_estimators=800; total time= 4.0min\n",
      "[CV] END bootstrap=True, max_depth=70, max_features=auto, min_samples_leaf=2, min_samples_split=5, n_estimators=900; total time= 2.6min\n",
      "[CV] END bootstrap=True, max_depth=10, max_features=sqrt, min_samples_leaf=4, min_samples_split=5, n_estimators=700; total time= 1.4min\n",
      "[CV] END bootstrap=False, max_depth=90, max_features=auto, min_samples_leaf=4, min_samples_split=2, n_estimators=1000; total time= 4.4min\n",
      "[CV] END bootstrap=True, max_depth=40, max_features=auto, min_samples_leaf=1, min_samples_split=10, n_estimators=900; total time= 2.9min\n",
      "[CV] END bootstrap=False, max_depth=90, max_features=sqrt, min_samples_leaf=4, min_samples_split=10, n_estimators=900; total time= 3.9min\n",
      "[CV] END bootstrap=True, max_depth=30, max_features=auto, min_samples_leaf=2, min_samples_split=10, n_estimators=100; total time=  17.4s\n",
      "[CV] END bootstrap=False, max_depth=100, max_features=auto, min_samples_leaf=1, min_samples_split=10, n_estimators=300; total time= 1.3min\n",
      "[CV] END bootstrap=False, max_depth=90, max_features=sqrt, min_samples_leaf=1, min_samples_split=2, n_estimators=200; total time=  58.3s\n",
      "[CV] END bootstrap=False, max_depth=30, max_features=sqrt, min_samples_leaf=4, min_samples_split=5, n_estimators=700; total time= 3.2min\n",
      "[CV] END bootstrap=True, max_depth=50, max_features=sqrt, min_samples_leaf=1, min_samples_split=5, n_estimators=1000; total time= 3.1min\n",
      "[CV] END bootstrap=False, max_depth=90, max_features=sqrt, min_samples_leaf=4, min_samples_split=10, n_estimators=900; total time= 4.0min\n",
      "[CV] END bootstrap=False, max_depth=100, max_features=auto, min_samples_leaf=1, min_samples_split=10, n_estimators=300; total time= 1.4min\n",
      "[CV] END bootstrap=False, max_depth=90, max_features=sqrt, min_samples_leaf=4, min_samples_split=5, n_estimators=500; total time= 2.2min\n",
      "[CV] END bootstrap=True, max_depth=100, max_features=sqrt, min_samples_leaf=2, min_samples_split=2, n_estimators=600; total time= 1.7min\n",
      "[CV] END bootstrap=True, max_depth=60, max_features=auto, min_samples_leaf=1, min_samples_split=5, n_estimators=300; total time=  54.8s\n",
      "[CV] END bootstrap=False, max_depth=110, max_features=auto, min_samples_leaf=1, min_samples_split=10, n_estimators=800; total time= 4.0min\n",
      "[CV] END bootstrap=True, max_depth=70, max_features=auto, min_samples_leaf=2, min_samples_split=5, n_estimators=900; total time= 2.7min\n",
      "[CV] END bootstrap=False, max_depth=100, max_features=auto, min_samples_leaf=1, min_samples_split=10, n_estimators=300; total time= 1.4min\n",
      "[CV] END bootstrap=False, max_depth=90, max_features=auto, min_samples_leaf=2, min_samples_split=10, n_estimators=1000; total time= 4.6min\n",
      "[CV] END bootstrap=True, max_depth=10, max_features=auto, min_samples_leaf=1, min_samples_split=2, n_estimators=900; total time= 2.0min\n",
      "[CV] END bootstrap=True, max_depth=60, max_features=sqrt, min_samples_leaf=1, min_samples_split=2, n_estimators=1000; total time= 3.0min\n",
      "[CV] END bootstrap=False, max_depth=20, max_features=sqrt, min_samples_leaf=2, min_samples_split=10, n_estimators=800; total time= 3.4min\n",
      "[CV] END bootstrap=True, max_depth=20, max_features=sqrt, min_samples_leaf=2, min_samples_split=10, n_estimators=600; total time= 1.6min\n",
      "[CV] END bootstrap=True, max_depth=70, max_features=sqrt, min_samples_leaf=4, min_samples_split=2, n_estimators=200; total time=  33.0s\n",
      "[CV] END bootstrap=True, max_depth=90, max_features=sqrt, min_samples_leaf=4, min_samples_split=10, n_estimators=100; total time=  17.0s\n",
      "[CV] END bootstrap=True, max_depth=100, max_features=auto, min_samples_leaf=1, min_samples_split=10, n_estimators=200; total time=  35.0s\n",
      "[CV] END bootstrap=True, max_depth=110, max_features=sqrt, min_samples_leaf=1, min_samples_split=10, n_estimators=300; total time=  54.1s\n",
      "[CV] END bootstrap=False, max_depth=110, max_features=auto, min_samples_leaf=1, min_samples_split=5, n_estimators=100; total time=  29.6s\n",
      "[CV] END bootstrap=True, max_depth=50, max_features=sqrt, min_samples_leaf=1, min_samples_split=5, n_estimators=1000; total time= 3.0min\n",
      "[CV] END bootstrap=False, max_depth=10, max_features=auto, min_samples_leaf=2, min_samples_split=2, n_estimators=1000; total time= 3.5min\n",
      "[CV] END bootstrap=True, max_depth=80, max_features=auto, min_samples_leaf=4, min_samples_split=5, n_estimators=900; total time= 2.2min\n"
     ]
    },
    {
     "name": "stdout",
     "output_type": "stream",
     "text": [
      "[CV] END bootstrap=False, max_depth=50, max_features=sqrt, min_samples_leaf=2, min_samples_split=2, n_estimators=300; total time= 1.4min\n",
      "[CV] END bootstrap=True, max_depth=70, max_features=sqrt, min_samples_leaf=1, min_samples_split=5, n_estimators=1000; total time= 3.1min\n",
      "[CV] END bootstrap=False, max_depth=80, max_features=auto, min_samples_leaf=2, min_samples_split=5, n_estimators=900; total time= 4.2min\n",
      "[CV] END bootstrap=False, max_depth=10, max_features=auto, min_samples_leaf=2, min_samples_split=2, n_estimators=600; total time= 2.1min\n",
      "[CV] END bootstrap=True, max_depth=80, max_features=auto, min_samples_leaf=4, min_samples_split=5, n_estimators=900; total time= 2.3min\n",
      "[CV] END bootstrap=True, max_depth=20, max_features=sqrt, min_samples_leaf=4, min_samples_split=10, n_estimators=500; total time= 1.4min\n",
      "[CV] END bootstrap=True, max_depth=70, max_features=sqrt, min_samples_leaf=4, min_samples_split=2, n_estimators=200; total time=  33.7s\n",
      "[CV] END bootstrap=True, max_depth=90, max_features=sqrt, min_samples_leaf=4, min_samples_split=10, n_estimators=100; total time=  15.2s\n",
      "[CV] END bootstrap=True, max_depth=100, max_features=auto, min_samples_leaf=1, min_samples_split=10, n_estimators=200; total time=  36.0s\n",
      "[CV] END bootstrap=True, max_depth=110, max_features=sqrt, min_samples_leaf=1, min_samples_split=10, n_estimators=300; total time=  56.6s\n",
      "[CV] END bootstrap=True, max_depth=50, max_features=sqrt, min_samples_leaf=1, min_samples_split=2, n_estimators=900; total time= 2.7min\n",
      "[CV] END bootstrap=True, max_depth=100, max_features=sqrt, min_samples_leaf=2, min_samples_split=10, n_estimators=600; total time= 1.8min\n",
      "[CV] END bootstrap=True, max_depth=110, max_features=auto, min_samples_leaf=1, min_samples_split=2, n_estimators=100; total time=  17.5s\n",
      "[CV] END bootstrap=False, max_depth=50, max_features=auto, min_samples_leaf=4, min_samples_split=10, n_estimators=1000; total time= 4.4min\n",
      "[CV] END bootstrap=False, max_depth=50, max_features=sqrt, min_samples_leaf=2, min_samples_split=2, n_estimators=300; total time= 1.4min\n",
      "[CV] END bootstrap=True, max_depth=70, max_features=sqrt, min_samples_leaf=1, min_samples_split=5, n_estimators=1000; total time= 3.1min\n",
      "[CV] END bootstrap=False, max_depth=80, max_features=auto, min_samples_leaf=2, min_samples_split=5, n_estimators=900; total time= 4.2min\n",
      "[CV] END bootstrap=False, max_depth=10, max_features=auto, min_samples_leaf=2, min_samples_split=2, n_estimators=600; total time= 2.1min\n",
      "[CV] END bootstrap=True, max_depth=80, max_features=auto, min_samples_leaf=4, min_samples_split=5, n_estimators=900; total time= 2.3min\n",
      "[CV] END bootstrap=True, max_depth=20, max_features=sqrt, min_samples_leaf=2, min_samples_split=10, n_estimators=600; total time= 1.7min\n",
      "[CV] END bootstrap=True, max_depth=70, max_features=sqrt, min_samples_leaf=4, min_samples_split=2, n_estimators=200; total time=  33.1s\n",
      "[CV] END bootstrap=True, max_depth=90, max_features=sqrt, min_samples_leaf=4, min_samples_split=10, n_estimators=100; total time=  16.6s\n",
      "[CV] END bootstrap=True, max_depth=100, max_features=auto, min_samples_leaf=1, min_samples_split=10, n_estimators=200; total time=  36.4s\n",
      "[CV] END bootstrap=True, max_depth=110, max_features=sqrt, min_samples_leaf=1, min_samples_split=10, n_estimators=300; total time=  55.8s\n",
      "[CV] END bootstrap=True, max_depth=20, max_features=auto, min_samples_leaf=4, min_samples_split=2, n_estimators=100; total time=  17.2s\n",
      "[CV] END bootstrap=True, max_depth=50, max_features=sqrt, min_samples_leaf=4, min_samples_split=10, n_estimators=800; total time= 2.2min\n",
      "[CV] END bootstrap=False, max_depth=60, max_features=sqrt, min_samples_leaf=2, min_samples_split=10, n_estimators=700; total time= 3.3min\n",
      "[CV] END bootstrap=False, max_depth=20, max_features=sqrt, min_samples_leaf=2, min_samples_split=10, n_estimators=800; total time= 3.6min\n",
      "[CV] END bootstrap=True, max_depth=20, max_features=sqrt, min_samples_leaf=2, min_samples_split=10, n_estimators=600; total time= 1.6min\n",
      "[CV] END bootstrap=False, max_depth=30, max_features=auto, min_samples_leaf=4, min_samples_split=2, n_estimators=100; total time=  28.9s\n",
      "[CV] END bootstrap=False, max_depth=20, max_features=auto, min_samples_leaf=1, min_samples_split=5, n_estimators=900; total time= 4.3min\n",
      "[CV] END bootstrap=False, max_depth=100, max_features=sqrt, min_samples_leaf=1, min_samples_split=5, n_estimators=100; total time=  28.6s\n",
      "[CV] END bootstrap=True, max_depth=100, max_features=sqrt, min_samples_leaf=2, min_samples_split=10, n_estimators=600; total time= 1.8min\n",
      "[CV] END bootstrap=True, max_depth=110, max_features=auto, min_samples_leaf=1, min_samples_split=2, n_estimators=100; total time=  18.8s\n",
      "[CV] END bootstrap=False, max_depth=50, max_features=auto, min_samples_leaf=4, min_samples_split=10, n_estimators=1000; total time= 4.4min\n",
      "[CV] END bootstrap=True, max_depth=20, max_features=sqrt, min_samples_leaf=4, min_samples_split=10, n_estimators=500; total time= 1.3min\n",
      "[CV] END bootstrap=False, max_depth=30, max_features=auto, min_samples_leaf=4, min_samples_split=2, n_estimators=100; total time=  25.9s\n",
      "[CV] END bootstrap=False, max_depth=20, max_features=auto, min_samples_leaf=1, min_samples_split=5, n_estimators=900; total time= 4.5min\n",
      "[CV] END bootstrap=False, max_depth=60, max_features=sqrt, min_samples_leaf=2, min_samples_split=10, n_estimators=700; total time= 3.3min\n",
      "[CV] END bootstrap=False, max_depth=20, max_features=sqrt, min_samples_leaf=2, min_samples_split=10, n_estimators=800; total time= 3.6min\n",
      "[CV] END bootstrap=False, max_depth=70, max_features=sqrt, min_samples_leaf=1, min_samples_split=2, n_estimators=400; total time= 1.9min\n",
      "[CV] END bootstrap=True, max_depth=20, max_features=sqrt, min_samples_leaf=1, min_samples_split=2, n_estimators=100; total time=  18.5s\n",
      "[CV] END bootstrap=True, max_depth=100, max_features=sqrt, min_samples_leaf=4, min_samples_split=10, n_estimators=600; total time= 1.6min\n",
      "[CV] END bootstrap=False, max_depth=10, max_features=auto, min_samples_leaf=1, min_samples_split=10, n_estimators=400; total time= 1.4min\n",
      "[CV] END bootstrap=True, max_depth=30, max_features=auto, min_samples_leaf=4, min_samples_split=5, n_estimators=900; total time= 2.4min\n",
      "[CV] END bootstrap=False, max_depth=90, max_features=sqrt, min_samples_leaf=4, min_samples_split=10, n_estimators=900; total time= 3.9min\n",
      "[CV] END bootstrap=True, max_depth=90, max_features=auto, min_samples_leaf=2, min_samples_split=10, n_estimators=100; total time=  15.7s\n",
      "[CV] END bootstrap=True, max_depth=40, max_features=sqrt, min_samples_leaf=1, min_samples_split=10, n_estimators=600; total time= 1.6min\n",
      "[CV] END bootstrap=False, max_depth=10, max_features=sqrt, min_samples_leaf=4, min_samples_split=10, n_estimators=1000; total time= 3.5min\n",
      "[CV] END bootstrap=False, max_depth=80, max_features=sqrt, min_samples_leaf=2, min_samples_split=2, n_estimators=200; total time=  57.0s\n",
      "[CV] END bootstrap=True, max_depth=10, max_features=auto, min_samples_leaf=1, min_samples_split=2, n_estimators=900; total time= 2.1min\n",
      "[CV] END bootstrap=True, max_depth=100, max_features=sqrt, min_samples_leaf=2, min_samples_split=10, n_estimators=600; total time= 1.8min\n",
      "[CV] END bootstrap=True, max_depth=110, max_features=auto, min_samples_leaf=1, min_samples_split=2, n_estimators=100; total time=  18.1s\n",
      "[CV] END bootstrap=False, max_depth=50, max_features=auto, min_samples_leaf=4, min_samples_split=10, n_estimators=1000; total time= 4.5min\n",
      "[CV] END bootstrap=True, max_depth=20, max_features=sqrt, min_samples_leaf=4, min_samples_split=10, n_estimators=500; total time= 1.3min\n",
      "[CV] END bootstrap=True, max_depth=110, max_features=auto, min_samples_leaf=4, min_samples_split=5, n_estimators=500; total time= 1.4min\n",
      "[CV] END bootstrap=True, max_depth=10, max_features=auto, min_samples_leaf=1, min_samples_split=5, n_estimators=500; total time= 1.2min\n",
      "[CV] END bootstrap=True, max_depth=50, max_features=sqrt, min_samples_leaf=1, min_samples_split=2, n_estimators=900; total time= 2.8min\n",
      "[CV] END bootstrap=False, max_depth=30, max_features=auto, min_samples_leaf=4, min_samples_split=2, n_estimators=200; total time=  54.3s\n",
      "[CV] END bootstrap=True, max_depth=110, max_features=auto, min_samples_leaf=1, min_samples_split=10, n_estimators=300; total time=  55.8s\n",
      "[CV] END bootstrap=False, max_depth=70, max_features=sqrt, min_samples_leaf=2, min_samples_split=5, n_estimators=600; total time= 2.8min\n",
      "[CV] END bootstrap=True, max_depth=90, max_features=auto, min_samples_leaf=2, min_samples_split=10, n_estimators=100; total time=  16.8s\n",
      "[CV] END bootstrap=True, max_depth=40, max_features=sqrt, min_samples_leaf=1, min_samples_split=10, n_estimators=600; total time= 1.6min\n"
     ]
    },
    {
     "name": "stdout",
     "output_type": "stream",
     "text": [
      "[CV] END bootstrap=True, max_depth=30, max_features=auto, min_samples_leaf=2, min_samples_split=5, n_estimators=900; total time= 2.5min\n",
      "[CV] END bootstrap=False, max_depth=70, max_features=auto, min_samples_leaf=4, min_samples_split=2, n_estimators=1000; total time= 4.6min\n",
      "[CV] END bootstrap=True, max_depth=50, max_features=auto, min_samples_leaf=4, min_samples_split=10, n_estimators=600; total time= 1.6min\n",
      "[CV] END bootstrap=False, max_depth=70, max_features=sqrt, min_samples_leaf=2, min_samples_split=5, n_estimators=600; total time= 2.8min\n",
      "[CV] END bootstrap=True, max_depth=90, max_features=auto, min_samples_leaf=2, min_samples_split=10, n_estimators=100; total time=  18.1s\n",
      "[CV] END bootstrap=True, max_depth=40, max_features=sqrt, min_samples_leaf=1, min_samples_split=10, n_estimators=600; total time= 1.6min\n",
      "[CV] END bootstrap=True, max_depth=50, max_features=auto, min_samples_leaf=1, min_samples_split=2, n_estimators=100; total time=  15.4s\n",
      "[CV] END bootstrap=False, max_depth=40, max_features=sqrt, min_samples_leaf=2, min_samples_split=5, n_estimators=100; total time=  28.3s\n",
      "[CV] END bootstrap=False, max_depth=70, max_features=auto, min_samples_leaf=2, min_samples_split=2, n_estimators=600; total time= 2.9min\n",
      "[CV] END bootstrap=False, max_depth=20, max_features=sqrt, min_samples_leaf=1, min_samples_split=5, n_estimators=900; total time= 4.3min\n",
      "[CV] END bootstrap=False, max_depth=50, max_features=sqrt, min_samples_leaf=2, min_samples_split=5, n_estimators=600; total time= 2.8min\n",
      "[CV] END bootstrap=False, max_depth=10, max_features=sqrt, min_samples_leaf=4, min_samples_split=5, n_estimators=900; total time= 2.8min\n",
      "[CV] END bootstrap=True, max_depth=50, max_features=sqrt, min_samples_leaf=2, min_samples_split=5, n_estimators=800; total time= 2.3min\n",
      "[CV] END bootstrap=True, max_depth=100, max_features=sqrt, min_samples_leaf=4, min_samples_split=10, n_estimators=600; total time= 1.7min\n",
      "[CV] END bootstrap=True, max_depth=20, max_features=auto, min_samples_leaf=4, min_samples_split=2, n_estimators=100; total time=  16.3s\n",
      "[CV] END bootstrap=True, max_depth=50, max_features=sqrt, min_samples_leaf=4, min_samples_split=10, n_estimators=800; total time= 2.2min\n",
      "[CV] END bootstrap=False, max_depth=60, max_features=sqrt, min_samples_leaf=2, min_samples_split=10, n_estimators=700; total time= 3.3min\n",
      "[CV] END bootstrap=True, max_depth=50, max_features=auto, min_samples_leaf=2, min_samples_split=2, n_estimators=600; total time= 1.8min\n",
      "[CV] END bootstrap=False, max_depth=60, max_features=auto, min_samples_leaf=1, min_samples_split=2, n_estimators=500; total time= 2.2min\n",
      "[CV] END bootstrap=True, max_depth=30, max_features=auto, min_samples_leaf=2, min_samples_split=5, n_estimators=900; total time= 2.5min\n",
      "[CV] END bootstrap=False, max_depth=70, max_features=auto, min_samples_leaf=4, min_samples_split=2, n_estimators=1000; total time= 4.5min\n",
      "[CV] END bootstrap=True, max_depth=50, max_features=auto, min_samples_leaf=4, min_samples_split=10, n_estimators=600; total time= 1.7min\n",
      "[CV] END bootstrap=False, max_depth=70, max_features=sqrt, min_samples_leaf=2, min_samples_split=5, n_estimators=600; total time= 2.8min\n",
      "[CV] END bootstrap=False, max_depth=60, max_features=auto, min_samples_leaf=1, min_samples_split=2, n_estimators=500; total time= 2.2min\n",
      "[CV] END bootstrap=False, max_depth=10, max_features=sqrt, min_samples_leaf=4, min_samples_split=10, n_estimators=1000; total time= 3.4min\n",
      "[CV] END bootstrap=False, max_depth=20, max_features=sqrt, min_samples_leaf=1, min_samples_split=5, n_estimators=900; total time= 4.4min\n",
      "[CV] END bootstrap=False, max_depth=50, max_features=sqrt, min_samples_leaf=2, min_samples_split=5, n_estimators=600; total time= 2.8min\n",
      "[CV] END bootstrap=False, max_depth=10, max_features=sqrt, min_samples_leaf=4, min_samples_split=5, n_estimators=900; total time= 2.9min\n",
      "[CV] END bootstrap=True, max_depth=10, max_features=sqrt, min_samples_leaf=2, min_samples_split=10, n_estimators=1000; total time= 2.1min\n",
      "[CV] END bootstrap=True, max_depth=20, max_features=sqrt, min_samples_leaf=1, min_samples_split=2, n_estimators=100; total time=  17.6s\n",
      "[CV] END bootstrap=True, max_depth=100, max_features=sqrt, min_samples_leaf=2, min_samples_split=2, n_estimators=600; total time= 1.7min\n",
      "[CV] END bootstrap=True, max_depth=60, max_features=auto, min_samples_leaf=1, min_samples_split=5, n_estimators=300; total time=  54.1s\n",
      "[CV] END bootstrap=False, max_depth=110, max_features=auto, min_samples_leaf=1, min_samples_split=10, n_estimators=800; total time= 4.0min\n",
      "[CV] END bootstrap=True, max_depth=70, max_features=auto, min_samples_leaf=2, min_samples_split=5, n_estimators=900; total time= 2.7min\n",
      "[CV] END bootstrap=False, max_depth=60, max_features=auto, min_samples_leaf=1, min_samples_split=2, n_estimators=500; total time= 2.2min\n",
      "[CV] END bootstrap=False, max_depth=90, max_features=sqrt, min_samples_leaf=1, min_samples_split=2, n_estimators=200; total time=  58.4s\n",
      "[CV] END bootstrap=False, max_depth=30, max_features=sqrt, min_samples_leaf=4, min_samples_split=5, n_estimators=700; total time= 3.2min\n",
      "[CV] END bootstrap=True, max_depth=50, max_features=auto, min_samples_leaf=1, min_samples_split=10, n_estimators=500; total time= 1.5min\n",
      "[CV] END bootstrap=False, max_depth=30, max_features=sqrt, min_samples_leaf=2, min_samples_split=5, n_estimators=400; total time= 1.8min\n",
      "[CV] END bootstrap=True, max_depth=10, max_features=auto, min_samples_leaf=2, min_samples_split=2, n_estimators=300; total time=  40.5s\n",
      "[CV] END bootstrap=False, max_depth=10, max_features=auto, min_samples_leaf=2, min_samples_split=2, n_estimators=700; total time= 2.5min\n",
      "[CV] END bootstrap=False, max_depth=10, max_features=sqrt, min_samples_leaf=4, min_samples_split=5, n_estimators=900; total time= 2.9min\n",
      "[CV] END bootstrap=False, max_depth=70, max_features=sqrt, min_samples_leaf=1, min_samples_split=2, n_estimators=400; total time= 1.9min\n",
      "[CV] END bootstrap=True, max_depth=20, max_features=sqrt, min_samples_leaf=1, min_samples_split=2, n_estimators=100; total time=  17.9s\n",
      "[CV] END bootstrap=True, max_depth=100, max_features=sqrt, min_samples_leaf=4, min_samples_split=10, n_estimators=600; total time= 1.5min\n",
      "[CV] END bootstrap=False, max_depth=80, max_features=sqrt, min_samples_leaf=2, min_samples_split=2, n_estimators=200; total time=  56.5s\n",
      "[CV] END bootstrap=False, max_depth=110, max_features=auto, min_samples_leaf=1, min_samples_split=5, n_estimators=1000; total time= 5.0min\n",
      "[CV] END bootstrap=False, max_depth=100, max_features=sqrt, min_samples_leaf=2, min_samples_split=2, n_estimators=1000; total time= 4.4min\n",
      "[CV] END bootstrap=False, max_depth=90, max_features=auto, min_samples_leaf=2, min_samples_split=10, n_estimators=1000; total time= 4.5min\n",
      "[CV] END bootstrap=False, max_depth=110, max_features=auto, min_samples_leaf=1, min_samples_split=5, n_estimators=1000; total time= 5.0min\n",
      "[CV] END bootstrap=False, max_depth=100, max_features=sqrt, min_samples_leaf=2, min_samples_split=2, n_estimators=1000; total time= 4.4min\n",
      "[CV] END bootstrap=True, max_depth=30, max_features=auto, min_samples_leaf=2, min_samples_split=5, n_estimators=900; total time= 2.7min\n",
      "[CV] END bootstrap=False, max_depth=70, max_features=auto, min_samples_leaf=4, min_samples_split=2, n_estimators=1000; total time= 4.5min\n",
      "[CV] END bootstrap=True, max_depth=50, max_features=auto, min_samples_leaf=4, min_samples_split=10, n_estimators=600; total time= 1.7min\n",
      "[CV] END bootstrap=True, max_depth=30, max_features=auto, min_samples_leaf=4, min_samples_split=5, n_estimators=300; total time=  49.9s\n",
      "[CV] END bootstrap=False, max_depth=100, max_features=sqrt, min_samples_leaf=2, min_samples_split=2, n_estimators=1000; total time= 4.4min\n",
      "[CV] END bootstrap=False, max_depth=10, max_features=sqrt, min_samples_leaf=4, min_samples_split=10, n_estimators=1000; total time= 3.5min\n",
      "[CV] END bootstrap=False, max_depth=10, max_features=auto, min_samples_leaf=1, min_samples_split=10, n_estimators=400; total time= 1.5min\n",
      "[CV] END bootstrap=True, max_depth=30, max_features=auto, min_samples_leaf=4, min_samples_split=5, n_estimators=900; total time= 2.5min\n",
      "[CV] END bootstrap=False, max_depth=50, max_features=sqrt, min_samples_leaf=2, min_samples_split=5, n_estimators=600; total time= 2.8min\n",
      "[CV] END bootstrap=False, max_depth=80, max_features=auto, min_samples_leaf=4, min_samples_split=10, n_estimators=900; total time= 3.5min\n"
     ]
    },
    {
     "name": "stdout",
     "output_type": "stream",
     "text": [
      "[CV] END bootstrap=False, max_depth=90, max_features=auto, min_samples_leaf=4, min_samples_split=2, n_estimators=1000; total time= 4.4min\n",
      "[CV] END bootstrap=True, max_depth=40, max_features=auto, min_samples_leaf=1, min_samples_split=10, n_estimators=900; total time= 2.7min\n",
      "[CV] END bootstrap=False, max_depth=10, max_features=auto, min_samples_leaf=2, min_samples_split=2, n_estimators=1000; total time= 3.5min\n",
      "[CV] END bootstrap=False, max_depth=80, max_features=auto, min_samples_leaf=4, min_samples_split=10, n_estimators=900; total time= 3.5min\n",
      "[CV] END bootstrap=True, max_depth=110, max_features=auto, min_samples_leaf=2, min_samples_split=5, n_estimators=700; total time= 1.9min\n",
      "[CV] END bootstrap=False, max_depth=90, max_features=sqrt, min_samples_leaf=2, min_samples_split=5, n_estimators=800; total time= 3.8min\n",
      "[CV] END bootstrap=True, max_depth=100, max_features=sqrt, min_samples_leaf=4, min_samples_split=2, n_estimators=800; total time= 2.1min\n",
      "[CV] END bootstrap=False, max_depth=80, max_features=sqrt, min_samples_leaf=2, min_samples_split=2, n_estimators=100; total time=  28.3s\n",
      "[CV] END bootstrap=False, max_depth=100, max_features=sqrt, min_samples_leaf=4, min_samples_split=5, n_estimators=700; total time= 3.0min\n",
      "[CV] END bootstrap=True, max_depth=30, max_features=auto, min_samples_leaf=2, min_samples_split=10, n_estimators=100; total time=  16.9s\n",
      "[CV] END bootstrap=False, max_depth=20, max_features=auto, min_samples_leaf=1, min_samples_split=5, n_estimators=700; total time= 2.8min\n",
      "[CV] END bootstrap=True, max_depth=60, max_features=sqrt, min_samples_leaf=2, min_samples_split=2, n_estimators=600; total time= 1.6min\n",
      "[CV] END bootstrap=True, max_depth=70, max_features=sqrt, min_samples_leaf=1, min_samples_split=5, n_estimators=1000; total time= 3.1min\n",
      "[CV] END bootstrap=True, max_depth=40, max_features=auto, min_samples_leaf=1, min_samples_split=10, n_estimators=900; total time= 2.7min\n",
      "[CV] END bootstrap=False, max_depth=10, max_features=auto, min_samples_leaf=2, min_samples_split=2, n_estimators=1000; total time= 3.5min\n",
      "[CV] END bootstrap=False, max_depth=80, max_features=auto, min_samples_leaf=4, min_samples_split=10, n_estimators=900; total time= 3.5min\n",
      "[CV] END bootstrap=False, max_depth=90, max_features=auto, min_samples_leaf=2, min_samples_split=10, n_estimators=1000; total time= 4.6min\n",
      "[CV] END bootstrap=True, max_depth=10, max_features=auto, min_samples_leaf=1, min_samples_split=2, n_estimators=900; total time= 2.0min\n",
      "[CV] END bootstrap=True, max_depth=60, max_features=sqrt, min_samples_leaf=1, min_samples_split=2, n_estimators=1000; total time= 3.0min\n",
      "[CV] END bootstrap=True, max_depth=50, max_features=auto, min_samples_leaf=2, min_samples_split=2, n_estimators=600; total time= 1.7min\n",
      "[CV] END bootstrap=False, max_depth=20, max_features=auto, min_samples_leaf=1, min_samples_split=5, n_estimators=700; total time= 2.8min\n",
      "[CV] END bootstrap=False, max_depth=90, max_features=auto, min_samples_leaf=4, min_samples_split=2, n_estimators=1000; total time= 4.4min\n",
      "[CV] END bootstrap=True, max_depth=50, max_features=sqrt, min_samples_leaf=1, min_samples_split=5, n_estimators=1000; total time= 3.2min\n",
      "[CV] END bootstrap=False, max_depth=80, max_features=sqrt, min_samples_leaf=2, min_samples_split=2, n_estimators=100; total time=  29.8s\n",
      "[CV] END bootstrap=False, max_depth=100, max_features=sqrt, min_samples_leaf=4, min_samples_split=5, n_estimators=700; total time= 3.3min\n",
      "[CV] END bootstrap=False, max_depth=20, max_features=auto, min_samples_leaf=1, min_samples_split=5, n_estimators=700; total time= 2.9min\n",
      "[CV] END bootstrap=True, max_depth=50, max_features=sqrt, min_samples_leaf=2, min_samples_split=5, n_estimators=800; total time= 2.3min\n",
      "[CV] END bootstrap=True, max_depth=20, max_features=auto, min_samples_leaf=2, min_samples_split=2, n_estimators=200; total time=  33.3s\n",
      "[CV] END bootstrap=True, max_depth=10, max_features=auto, min_samples_leaf=1, min_samples_split=5, n_estimators=500; total time= 1.1min\n",
      "[CV] END bootstrap=True, max_depth=20, max_features=auto, min_samples_leaf=4, min_samples_split=2, n_estimators=100; total time=  16.4s\n",
      "[CV] END bootstrap=True, max_depth=50, max_features=sqrt, min_samples_leaf=4, min_samples_split=10, n_estimators=800; total time= 2.1min\n",
      "[CV] END bootstrap=False, max_depth=100, max_features=sqrt, min_samples_leaf=1, min_samples_split=5, n_estimators=100; total time=  28.5s\n",
      "[CV] END bootstrap=False, max_depth=30, max_features=auto, min_samples_leaf=4, min_samples_split=2, n_estimators=200; total time=  52.8s\n",
      "[CV] END bootstrap=True, max_depth=10, max_features=auto, min_samples_leaf=2, min_samples_split=2, n_estimators=300; total time=  42.5s\n",
      "[CV] END bootstrap=False, max_depth=10, max_features=auto, min_samples_leaf=2, min_samples_split=2, n_estimators=700; total time= 2.5min\n",
      "[CV] END bootstrap=False, max_depth=20, max_features=sqrt, min_samples_leaf=1, min_samples_split=10, n_estimators=1000; total time= 3.9min\n"
     ]
    },
    {
     "data": {
      "text/plain": [
       "RandomizedSearchCV(cv=3, estimator=RandomForestClassifier(random_state=0),\n",
       "                   n_iter=100, n_jobs=-1,\n",
       "                   param_distributions={'bootstrap': [True, False],\n",
       "                                        'max_depth': [10, 20, 30, 40, 50, 60,\n",
       "                                                      70, 80, 90, 100, 110],\n",
       "                                        'max_features': ['auto', 'sqrt'],\n",
       "                                        'min_samples_leaf': [1, 2, 4],\n",
       "                                        'min_samples_split': [2, 5, 10],\n",
       "                                        'n_estimators': [100, 200, 300, 400,\n",
       "                                                         500, 600, 700, 800,\n",
       "                                                         900, 1000]},\n",
       "                   random_state=42, return_train_score=True, verbose=2)"
      ]
     },
     "execution_count": 105,
     "metadata": {},
     "output_type": "execute_result"
    }
   ],
   "source": [
    "rf_random = RandomizedSearchCV(estimator=rf_clf1, param_distributions=random_grid,\n",
    "                              n_iter = 100, \n",
    "                              cv = 3, verbose=2, random_state=42, n_jobs=-1,\n",
    "                              return_train_score=True)\n",
    "\n",
    "\n",
    "# Fit the random search model\n",
    "rf_random.fit(glove_train_vectors, y_train.values.ravel())"
   ]
  },
  {
   "cell_type": "code",
   "execution_count": 107,
   "id": "f0b99f66",
   "metadata": {},
   "outputs": [
    {
     "data": {
      "text/plain": [
       "{'n_estimators': 900,\n",
       " 'min_samples_split': 5,\n",
       " 'min_samples_leaf': 1,\n",
       " 'max_features': 'auto',\n",
       " 'max_depth': 20,\n",
       " 'bootstrap': False}"
      ]
     },
     "execution_count": 107,
     "metadata": {},
     "output_type": "execute_result"
    }
   ],
   "source": [
    "rf_random.best_params_"
   ]
  },
  {
   "cell_type": "markdown",
   "id": "7a50914a",
   "metadata": {},
   "source": [
    "#### Using with Best Params "
   ]
  },
  {
   "cell_type": "code",
   "execution_count": 109,
   "id": "efff9443",
   "metadata": {},
   "outputs": [
    {
     "name": "stdout",
     "output_type": "stream",
     "text": [
      "Accuracy score : 0.8266633930763565\n",
      "Confusion matrix : \n",
      " [[3020   43]\n",
      " [ 663  347]]\n"
     ]
    }
   ],
   "source": [
    "rf_clf_tuned_g=RandomForestClassifier(random_state=0,n_estimators=900,max_features='auto',max_depth=20,min_samples_split=5,min_samples_leaf=1,bootstrap=False)\n",
    "\n",
    "rf_clf_tuned_g.fit(glove_train_vectors, y_train.values.ravel())\n",
    "\n",
    "pred1 = rf_clf_tuned_g.predict(glove_test_vectors)\n",
    "print(\"Accuracy score : {}\".format(accuracy_score(y_test, pred1)))\n",
    "print(\"Confusion matrix : \\n {}\".format(confusion_matrix(y_test, pred1)))"
   ]
  },
  {
   "cell_type": "code",
   "execution_count": 110,
   "id": "7ce31a99",
   "metadata": {},
   "outputs": [
    {
     "name": "stdout",
     "output_type": "stream",
     "text": [
      "F1 score :\n",
      "0.49571428571428566\n",
      "Classification Report\n",
      "              precision    recall  f1-score   support\n",
      "\n",
      "           0       0.82      0.99      0.90      3063\n",
      "           1       0.89      0.34      0.50      1010\n",
      "\n",
      "    accuracy                           0.83      4073\n",
      "   macro avg       0.85      0.66      0.70      4073\n",
      "weighted avg       0.84      0.83      0.80      4073\n",
      "\n"
     ]
    }
   ],
   "source": [
    "print(\"F1 score :\")\n",
    "print(f1_score(y_test, pred1))\n",
    "print(\"Classification Report\")\n",
    "print(classification_report(y_test, pred1))"
   ]
  },
  {
   "cell_type": "code",
   "execution_count": null,
   "id": "774837ec",
   "metadata": {},
   "outputs": [],
   "source": []
  },
  {
   "cell_type": "markdown",
   "id": "3595a476",
   "metadata": {},
   "source": [
    "### Support Vector Machine"
   ]
  },
  {
   "cell_type": "code",
   "execution_count": 111,
   "id": "18ab4759",
   "metadata": {},
   "outputs": [],
   "source": [
    "svm_clf=SVC(random_state=0,probability=True)"
   ]
  },
  {
   "cell_type": "code",
   "execution_count": 112,
   "id": "801ed38c",
   "metadata": {},
   "outputs": [
    {
     "name": "stdout",
     "output_type": "stream",
     "text": [
      "Accuracy score : 0.8185612570586791\n",
      "Confusion matrix : \n",
      " [[3018   45]\n",
      " [ 694  316]]\n",
      "Classification Report\n",
      "              precision    recall  f1-score   support\n",
      "\n",
      "           0       0.81      0.99      0.89      3063\n",
      "           1       0.88      0.31      0.46      1010\n",
      "\n",
      "    accuracy                           0.82      4073\n",
      "   macro avg       0.84      0.65      0.68      4073\n",
      "weighted avg       0.83      0.82      0.78      4073\n",
      "\n"
     ]
    }
   ],
   "source": [
    "svm_clf.fit(glove_train_vectors,y_train)\n",
    "\n",
    "pred = svm_clf.predict(glove_test_vectors)\n",
    "print(\"Accuracy score : {}\".format(accuracy_score(y_test, pred)))\n",
    "print(\"Confusion matrix : \\n {}\".format(confusion_matrix(y_test, pred)))\n",
    "print(\"Classification Report\")\n",
    "print(classification_report(y_test, pred))"
   ]
  },
  {
   "cell_type": "markdown",
   "id": "f642ea1a",
   "metadata": {},
   "source": [
    "#### Hyperparameter Tuning"
   ]
  },
  {
   "cell_type": "code",
   "execution_count": 113,
   "id": "d1320232",
   "metadata": {},
   "outputs": [
    {
     "name": "stdout",
     "output_type": "stream",
     "text": [
      "{'C': [0.1, 1, 10, 100, 1000],\n",
      " 'gamma': [1, 0.1, 0.01, 0.001, 0.0001],\n",
      " 'kernel': ['rbf', 'poly', 'sigmoid']}\n"
     ]
    }
   ],
   "source": [
    "# Create the random grid\n",
    "random_grid = {\n",
    "    'C': [0.1, 1, 10, 100, 1000],\n",
    "               'gamma': [1, 0.1, 0.01, 0.001, 0.0001],\n",
    "               'kernel':  ['rbf', 'poly', 'sigmoid'],\n",
    "              }\n",
    "pprint(random_grid)\n"
   ]
  },
  {
   "cell_type": "code",
   "execution_count": 114,
   "id": "b04b61f1",
   "metadata": {
    "collapsed": true
   },
   "outputs": [
    {
     "name": "stdout",
     "output_type": "stream",
     "text": [
      "Fitting 5 folds for each of 50 candidates, totalling 250 fits\n",
      "[CV] END ......................C=0.1, gamma=0.1, kernel=poly; total time=  45.8s\n",
      "[CV] END .....................C=10, gamma=0.0001, kernel=rbf; total time= 2.1min\n",
      "[CV] END ......................C=10, gamma=0.001, kernel=rbf; total time= 1.5min\n",
      "[CV] END ..................C=100, gamma=0.01, kernel=sigmoid; total time= 1.1min\n",
      "[CV] END .....................C=100, gamma=0.001, kernel=rbf; total time= 1.7min\n",
      "[CV] END .....................C=1, gamma=0.0001, kernel=poly; total time=  59.8s\n",
      "[CV] END ......................C=100, gamma=0.1, kernel=poly; total time= 1.8min\n",
      "[CV] END ........................C=10, gamma=0.1, kernel=rbf; total time= 1.8min\n",
      "[CV] END .....................C=100, gamma=1, kernel=sigmoid; total time=  58.4s\n",
      "[CV] END ....................C=1000, gamma=1, kernel=sigmoid; total time=  55.5s\n",
      "[CV] END .......................C=0.1, gamma=0.1, kernel=rbf; total time= 1.7min\n",
      "[CV] END ....................C=1000, gamma=0.001, kernel=rbf; total time= 1.7min\n",
      "[CV] END ...................C=0.1, gamma=0.1, kernel=sigmoid; total time= 1.6min\n",
      "[CV] END .........................C=100, gamma=1, kernel=rbf; total time= 4.6min\n",
      "[CV] END .................C=1000, gamma=0.01, kernel=sigmoid; total time= 1.2min\n",
      "[CV] END .......................C=1000, gamma=1, kernel=poly; total time=10.7min\n",
      "[CV] END .....................C=100, gamma=0.001, kernel=rbf; total time= 1.7min\n",
      "[CV] END ......................C=0.1, gamma=0.1, kernel=poly; total time=  47.9s\n",
      "[CV] END .....................C=10, gamma=0.0001, kernel=rbf; total time= 1.7min\n",
      "[CV] END .....................C=1000, gamma=0.01, kernel=rbf; total time= 2.1min\n",
      "[CV] END ........................C=1, gamma=0.1, kernel=poly; total time= 1.3min\n",
      "[CV] END ...................C=10, gamma=0.01, kernel=sigmoid; total time= 1.3min\n",
      "[CV] END ....................C=100, gamma=0.001, kernel=poly; total time= 1.2min\n",
      "[CV] END ....................C=0.1, gamma=0.001, kernel=poly; total time=  47.4s\n",
      "[CV] END .....................C=10, gamma=0.0001, kernel=rbf; total time= 1.7min\n",
      "[CV] END ......................C=10, gamma=0.001, kernel=rbf; total time= 1.8min\n",
      "[CV] END ....................C=1000, gamma=1, kernel=sigmoid; total time=  56.4s\n",
      "[CV] END .......................C=0.1, gamma=0.1, kernel=rbf; total time= 1.7min\n",
      "[CV] END .....................C=1000, gamma=0.1, kernel=poly; total time= 3.8min\n",
      "[CV] END .................C=100, gamma=0.001, kernel=sigmoid; total time= 1.3min\n",
      "[CV] END .........................C=100, gamma=1, kernel=rbf; total time= 5.0min\n",
      "[CV] END ....................C=100, gamma=0.001, kernel=poly; total time= 1.2min\n",
      "[CV] END ....................C=0.1, gamma=0.001, kernel=poly; total time=  41.5s\n",
      "[CV] END .....................C=10, gamma=0.0001, kernel=rbf; total time= 1.7min\n",
      "[CV] END ......................C=10, gamma=0.001, kernel=rbf; total time= 1.8min\n",
      "[CV] END ....................C=1000, gamma=1, kernel=sigmoid; total time= 1.1min\n",
      "[CV] END .......................C=1, gamma=1, kernel=sigmoid; total time= 1.3min\n",
      "[CV] END ....................C=100, gamma=0.001, kernel=poly; total time= 1.2min\n",
      "[CV] END ....................C=0.1, gamma=0.001, kernel=poly; total time=  51.6s\n",
      "[CV] END ......................C=100, gamma=0.1, kernel=poly; total time= 1.9min\n",
      "[CV] END ...................C=0.1, gamma=0.1, kernel=sigmoid; total time= 1.3min\n",
      "[CV] END ..........................C=1, gamma=1, kernel=poly; total time= 3.6min\n",
      "[CV] END ......................C=1, gamma=0.001, kernel=poly; total time=  58.1s\n",
      "[CV] END ...................C=10, gamma=0.01, kernel=sigmoid; total time= 1.4min\n",
      "[CV] END ....................C=100, gamma=0.001, kernel=poly; total time= 1.1min\n",
      "[CV] END .......................C=1000, gamma=1, kernel=poly; total time=10.7min\n",
      "[CV] END .......................C=0.1, gamma=0.1, kernel=rbf; total time= 1.8min\n",
      "[CV] END ....................C=10, gamma=0.1, kernel=sigmoid; total time=  43.1s\n",
      "[CV] END .......................C=10, gamma=0.1, kernel=poly; total time= 1.3min\n",
      "[CV] END .....................C=0.1, gamma=0.001, kernel=rbf; total time= 1.9min\n",
      "[CV] END .....................C=0.1, gamma=0.01, kernel=poly; total time= 1.1min\n",
      "[CV] END ..................C=100, gamma=0.01, kernel=sigmoid; total time= 1.2min\n",
      "[CV] END .......................C=0.1, gamma=0.1, kernel=rbf; total time= 1.7min\n",
      "[CV] END .........................C=0.1, gamma=1, kernel=rbf; total time= 1.4min\n",
      "[CV] END .......................C=1, gamma=0.01, kernel=poly; total time= 1.3min\n",
      "[CV] END .....................C=10, gamma=0.001, kernel=poly; total time= 1.2min\n",
      "[CV] END ...................C=100, gamma=0.0001, kernel=poly; total time= 1.0min\n",
      "[CV] END ........................C=1, gamma=0.1, kernel=poly; total time= 1.2min\n",
      "[CV] END .......................C=1, gamma=1, kernel=sigmoid; total time= 1.3min\n",
      "[CV] END ....................C=100, gamma=0.001, kernel=poly; total time= 1.3min\n",
      "[CV] END ....................C=1000, gamma=0.001, kernel=rbf; total time= 1.8min\n",
      "[CV] END .................C=100, gamma=0.001, kernel=sigmoid; total time= 1.4min\n",
      "[CV] END .........................C=100, gamma=1, kernel=rbf; total time= 5.2min\n",
      "[CV] END ..................C=1000, gamma=0.0001, kernel=poly; total time= 1.1min\n",
      "[CV] END .......................C=1000, gamma=1, kernel=poly; total time=11.0min\n",
      "[CV] END .......................C=0.1, gamma=0.1, kernel=rbf; total time= 1.9min\n",
      "[CV] END .......................C=1000, gamma=1, kernel=poly; total time=10.1min\n",
      "[CV] END ...............C=1000, gamma=0.0001, kernel=sigmoid; total time= 1.2min\n",
      "[CV] END ...................C=1000, gamma=0.0001, kernel=rbf; total time= 1.8min\n",
      "[CV] END ....................C=10, gamma=0.1, kernel=sigmoid; total time=  40.9s\n",
      "[CV] END .......................C=10, gamma=0.1, kernel=poly; total time= 1.2min\n",
      "[CV] END .........................C=1, gamma=0.1, kernel=rbf; total time= 1.9min\n",
      "[CV] END ..........................C=10, gamma=1, kernel=rbf; total time= 2.6min\n",
      "[CV] END ..................C=0.1, gamma=0.01, kernel=sigmoid; total time= 1.3min\n",
      "[CV] END ..................C=1000, gamma=0.0001, kernel=poly; total time= 1.2min\n",
      "[CV] END ....................C=10, gamma=0.1, kernel=sigmoid; total time=  41.3s\n",
      "[CV] END .......................C=10, gamma=0.1, kernel=poly; total time= 1.3min\n",
      "[CV] END .....................C=0.1, gamma=0.001, kernel=rbf; total time= 1.8min\n",
      "[CV] END ..........................C=10, gamma=1, kernel=rbf; total time= 2.8min\n",
      "[CV] END ...................C=1000, gamma=0.0001, kernel=rbf; total time= 1.6min\n",
      "[CV] END ....................C=1000, gamma=0.001, kernel=rbf; total time= 1.7min\n",
      "[CV] END ........................C=10, gamma=0.1, kernel=rbf; total time= 1.4min\n",
      "[CV] END .....................C=0.1, gamma=0.01, kernel=poly; total time= 1.0min\n",
      "[CV] END ..................C=100, gamma=0.01, kernel=sigmoid; total time= 1.1min\n",
      "[CV] END .....................C=100, gamma=0.001, kernel=rbf; total time= 1.6min\n",
      "[CV] END ..................C=1000, gamma=0.0001, kernel=poly; total time=  55.7s\n",
      "[CV] END ......................C=0.1, gamma=0.1, kernel=poly; total time=  31.9s\n",
      "[CV] END .....................C=1000, gamma=0.1, kernel=poly; total time= 4.4min\n",
      "[CV] END .....................C=10, gamma=0.001, kernel=poly; total time=  58.6s\n",
      "[CV] END .....................C=0.1, gamma=0.01, kernel=poly; total time= 1.0min\n",
      "[CV] END ..................C=100, gamma=0.01, kernel=sigmoid; total time= 1.1min\n",
      "[CV] END .....................C=100, gamma=0.001, kernel=rbf; total time= 1.8min\n",
      "[CV] END ..................C=1000, gamma=0.0001, kernel=poly; total time=  53.3s\n",
      "[CV] END .....................C=1000, gamma=0.1, kernel=poly; total time= 4.0min\n",
      "[CV] END .................C=100, gamma=0.001, kernel=sigmoid; total time= 1.4min\n",
      "[CV] END ..........................C=10, gamma=1, kernel=rbf; total time= 2.8min\n",
      "[CV] END ...................C=1000, gamma=0.0001, kernel=rbf; total time= 2.0min\n",
      "[CV] END ......................C=0.1, gamma=0.1, kernel=poly; total time=  45.4s\n",
      "[CV] END .....................C=10, gamma=0.0001, kernel=rbf; total time= 1.7min\n",
      "[CV] END .....................C=1000, gamma=0.01, kernel=rbf; total time= 2.2min\n",
      "[CV] END ...................C=100, gamma=0.1, kernel=sigmoid; total time=  50.1s\n",
      "[CV] END ...................C=0.1, gamma=0.0001, kernel=poly; total time= 1.2min\n",
      "[CV] END .......................C=10, gamma=0.01, kernel=rbf; total time= 1.6min\n"
     ]
    },
    {
     "name": "stdout",
     "output_type": "stream",
     "text": [
      "[CV] END .........................C=0.1, gamma=1, kernel=rbf; total time= 1.5min\n",
      "[CV] END ...................C=0.1, gamma=0.1, kernel=sigmoid; total time= 1.2min\n",
      "[CV] END ..........................C=1, gamma=1, kernel=poly; total time= 4.0min\n",
      "[CV] END ...................C=0.1, gamma=0.0001, kernel=poly; total time= 1.3min\n",
      "[CV] END .......................C=10, gamma=0.01, kernel=rbf; total time= 1.8min\n",
      "[CV] END .......................C=1000, gamma=1, kernel=poly; total time=10.1min\n",
      "[CV] END ...............C=1000, gamma=0.0001, kernel=sigmoid; total time= 1.5min\n",
      "[CV] END ......................C=0.1, gamma=0.01, kernel=rbf; total time= 1.6min\n",
      "[CV] END ......................C=1000, gamma=0.1, kernel=rbf; total time= 3.8min\n",
      "[CV] END ..........................C=1, gamma=1, kernel=poly; total time= 4.0min\n",
      "[CV] END ...............C=1000, gamma=0.0001, kernel=sigmoid; total time= 1.3min\n",
      "[CV] END ......................C=0.1, gamma=0.01, kernel=rbf; total time= 1.8min\n",
      "[CV] END ....................C=10, gamma=0.1, kernel=sigmoid; total time=  40.5s\n",
      "[CV] END .....................C=1000, gamma=0.1, kernel=poly; total time= 4.3min\n",
      "[CV] END ..........................C=1, gamma=1, kernel=poly; total time= 3.8min\n",
      "[CV] END ......................C=1, gamma=0.001, kernel=poly; total time= 1.2min\n",
      "[CV] END ..................C=0.1, gamma=0.01, kernel=sigmoid; total time= 1.6min\n",
      "[CV] END ..................C=1000, gamma=0.0001, kernel=poly; total time= 1.2min\n",
      "[CV] END ......................C=0.1, gamma=0.1, kernel=poly; total time=  40.7s\n",
      "[CV] END .......................C=10, gamma=0.1, kernel=poly; total time= 1.3min\n",
      "[CV] END .....................C=0.1, gamma=0.001, kernel=rbf; total time= 1.9min\n",
      "[CV] END ..........................C=10, gamma=1, kernel=rbf; total time= 2.6min\n",
      "[CV] END ...................C=1000, gamma=0.0001, kernel=rbf; total time= 1.9min\n",
      "[CV] END ....................C=1000, gamma=0.001, kernel=rbf; total time= 1.8min\n",
      "[CV] END .................C=100, gamma=0.001, kernel=sigmoid; total time= 1.3min\n",
      "[CV] END .................C=10, gamma=0.0001, kernel=sigmoid; total time= 1.2min\n",
      "[CV] END .........................C=10, gamma=1, kernel=poly; total time= 8.3min\n",
      "[CV] END .....................C=1, gamma=0.0001, kernel=poly; total time= 1.0min\n",
      "[CV] END .........................C=1, gamma=0.1, kernel=rbf; total time= 1.7min\n",
      "[CV] END ..........................C=1, gamma=1, kernel=poly; total time= 4.1min\n",
      "[CV] END ...............C=1000, gamma=0.0001, kernel=sigmoid; total time= 1.4min\n",
      "[CV] END .......................C=10, gamma=0.01, kernel=rbf; total time= 1.7min\n",
      "[CV] END ....................C=0.1, gamma=0.0001, kernel=rbf; total time= 1.5min\n",
      "[CV] END ........................C=10, gamma=0.1, kernel=rbf; total time= 1.7min\n",
      "[CV] END .....................C=100, gamma=1, kernel=sigmoid; total time=  51.4s\n",
      "[CV] END ...................C=100, gamma=0.1, kernel=sigmoid; total time=  48.6s\n",
      "[CV] END ...................C=0.1, gamma=0.0001, kernel=poly; total time= 1.1min\n",
      "[CV] END ...................C=1000, gamma=0.0001, kernel=rbf; total time= 1.9min\n",
      "[CV] END .........................C=0.1, gamma=1, kernel=rbf; total time= 1.4min\n",
      "[CV] END .......................C=1, gamma=0.01, kernel=poly; total time= 1.3min\n",
      "[CV] END .....................C=10, gamma=0.001, kernel=poly; total time= 1.2min\n",
      "[CV] END ...................C=100, gamma=0.0001, kernel=poly; total time= 1.0min\n",
      "[CV] END ...................C=100, gamma=0.1, kernel=sigmoid; total time=  46.6s\n",
      "[CV] END ...................C=0.1, gamma=0.0001, kernel=poly; total time= 1.1min\n",
      "[CV] END ......................C=0.1, gamma=0.01, kernel=rbf; total time= 1.8min\n",
      "[CV] END ......................C=1000, gamma=0.1, kernel=rbf; total time= 3.8min\n",
      "[CV] END .....................C=10, gamma=0.001, kernel=poly; total time= 1.2min\n",
      "[CV] END ...................C=100, gamma=0.0001, kernel=poly; total time= 1.1min\n",
      "[CV] END ...................C=100, gamma=0.1, kernel=sigmoid; total time=  48.7s\n",
      "[CV] END ...................C=0.1, gamma=0.0001, kernel=poly; total time= 1.1min\n",
      "[CV] END ......................C=0.1, gamma=0.01, kernel=rbf; total time= 1.9min\n",
      "[CV] END ......................C=1000, gamma=0.1, kernel=rbf; total time= 3.8min\n",
      "[CV] END .....................C=10, gamma=0.001, kernel=poly; total time= 1.2min\n",
      "[CV] END ...................C=100, gamma=0.0001, kernel=poly; total time= 1.0min\n",
      "[CV] END ...................C=100, gamma=0.1, kernel=sigmoid; total time=  46.0s\n",
      "[CV] END ...............C=1000, gamma=0.0001, kernel=sigmoid; total time= 1.3min\n",
      "[CV] END ......................C=0.1, gamma=0.01, kernel=rbf; total time= 1.9min\n",
      "[CV] END ....................C=0.1, gamma=0.0001, kernel=rbf; total time= 1.4min\n",
      "[CV] END ...................C=0.1, gamma=0.1, kernel=sigmoid; total time= 1.6min\n",
      "[CV] END .........................C=100, gamma=1, kernel=rbf; total time= 4.4min\n",
      "[CV] END .......................C=10, gamma=0.01, kernel=rbf; total time= 1.6min\n",
      "[CV] END .....................C=1, gamma=0.0001, kernel=poly; total time=  59.0s\n",
      "[CV] END ......................C=100, gamma=0.1, kernel=poly; total time= 1.8min\n",
      "[CV] END ...................C=0.1, gamma=0.1, kernel=sigmoid; total time= 1.6min\n",
      "[CV] END .........................C=100, gamma=1, kernel=rbf; total time= 4.5min\n",
      "[CV] END .......................C=10, gamma=0.01, kernel=rbf; total time= 1.7min\n",
      "[CV] END ....................C=1000, gamma=0.001, kernel=rbf; total time= 1.8min\n",
      "[CV] END .................C=100, gamma=0.001, kernel=sigmoid; total time= 1.2min\n",
      "[CV] END .................C=10, gamma=0.0001, kernel=sigmoid; total time= 1.2min\n",
      "[CV] END .........................C=10, gamma=1, kernel=poly; total time= 8.8min\n",
      "[CV] END .....................C=1, gamma=0.0001, kernel=poly; total time= 1.0min\n",
      "[CV] END .........................C=1, gamma=0.1, kernel=rbf; total time= 2.0min\n",
      "[CV] END .................C=10, gamma=0.0001, kernel=sigmoid; total time= 1.3min\n",
      "[CV] END .........................C=10, gamma=1, kernel=poly; total time= 8.8min\n"
     ]
    },
    {
     "data": {
      "text/plain": [
       "RandomizedSearchCV(cv=5, estimator=SVC(random_state=0), n_iter=50, n_jobs=-1,\n",
       "                   param_distributions={'C': [0.1, 1, 10, 100, 1000],\n",
       "                                        'gamma': [1, 0.1, 0.01, 0.001, 0.0001],\n",
       "                                        'kernel': ['rbf', 'poly', 'sigmoid']},\n",
       "                   random_state=42, return_train_score=True, verbose=2)"
      ]
     },
     "execution_count": 114,
     "metadata": {},
     "output_type": "execute_result"
    }
   ],
   "source": [
    "\n",
    "svm_clf1=SVC(random_state=0)\n",
    "\n",
    "rf_random = RandomizedSearchCV(estimator=svm_clf1, param_distributions=random_grid,\n",
    "                              n_iter = 50, \n",
    "                              cv = 5, verbose=2, random_state=42, n_jobs=-1,\n",
    "                              return_train_score=True)\n",
    "\n",
    "\n",
    "# Fit the random search model\n",
    "rf_random.fit(glove_train_vectors,y_train)"
   ]
  },
  {
   "cell_type": "code",
   "execution_count": 116,
   "id": "07eb9614",
   "metadata": {},
   "outputs": [
    {
     "data": {
      "text/plain": [
       "{'kernel': 'rbf', 'gamma': 1, 'C': 10}"
      ]
     },
     "execution_count": 116,
     "metadata": {},
     "output_type": "execute_result"
    }
   ],
   "source": [
    "rf_random.best_params_"
   ]
  },
  {
   "cell_type": "markdown",
   "id": "57e01d37",
   "metadata": {},
   "source": [
    "#### Using with Best Params "
   ]
  },
  {
   "cell_type": "code",
   "execution_count": 117,
   "id": "24e34fd1",
   "metadata": {
    "collapsed": true
   },
   "outputs": [
    {
     "name": "stdout",
     "output_type": "stream",
     "text": [
      "[CV] END ....................C=10, gamma=0.1, kernel=sigmoid; total time=  42.7s\n",
      "[CV] END .......................C=10, gamma=0.1, kernel=poly; total time= 1.1min\n",
      "[CV] END .........................C=1, gamma=0.1, kernel=rbf; total time= 1.8min\n",
      "[CV] END ..........................C=10, gamma=1, kernel=rbf; total time= 2.5min\n",
      "[CV] END ...................C=10, gamma=0.01, kernel=sigmoid; total time= 1.3min\n",
      "[CV] END ........................C=100, gamma=1, kernel=poly; total time= 5.8min\n",
      "[CV] END ....................C=0.1, gamma=0.0001, kernel=rbf; total time= 1.5min\n",
      "[CV] END ........................C=10, gamma=0.1, kernel=rbf; total time= 1.8min\n",
      "[CV] END .....................C=100, gamma=1, kernel=sigmoid; total time=  57.7s\n",
      "[CV] END ........................C=1, gamma=0.1, kernel=poly; total time= 1.2min\n",
      "[CV] END .......................C=1, gamma=1, kernel=sigmoid; total time= 1.6min\n",
      "[CV] END ........................C=100, gamma=1, kernel=poly; total time= 6.0min\n",
      "[CV] END ....................C=0.1, gamma=0.0001, kernel=rbf; total time= 1.5min\n",
      "[CV] END .......................C=1, gamma=0.01, kernel=poly; total time= 1.1min\n",
      "[CV] END ......................C=10, gamma=0.001, kernel=rbf; total time= 1.8min\n",
      "[CV] END ......................C=1, gamma=0.001, kernel=poly; total time= 1.2min\n",
      "[CV] END ..................C=0.1, gamma=0.01, kernel=sigmoid; total time= 1.2min\n",
      "[CV] END ........................C=100, gamma=1, kernel=poly; total time= 6.4min\n",
      "[CV] END ......................C=1000, gamma=0.1, kernel=rbf; total time= 3.9min\n",
      "[CV] END .....................C=1000, gamma=0.01, kernel=rbf; total time= 2.2min\n",
      "[CV] END ......................C=1, gamma=0.001, kernel=poly; total time= 1.2min\n",
      "[CV] END ..................C=0.1, gamma=0.01, kernel=sigmoid; total time= 1.2min\n",
      "[CV] END ........................C=100, gamma=1, kernel=poly; total time= 6.5min\n",
      "[CV] END ....................C=0.1, gamma=0.001, kernel=poly; total time=  52.0s\n",
      "[CV] END ......................C=100, gamma=0.1, kernel=poly; total time= 1.7min\n",
      "[CV] END .......................C=1, gamma=0.01, kernel=poly; total time= 1.1min\n",
      "[CV] END .....................C=1000, gamma=0.01, kernel=rbf; total time= 2.2min\n",
      "[CV] END ......................C=1, gamma=0.001, kernel=poly; total time= 1.3min\n",
      "[CV] END ..................C=0.1, gamma=0.01, kernel=sigmoid; total time= 1.2min\n",
      "[CV] END ........................C=100, gamma=1, kernel=poly; total time= 6.5min\n",
      "Accuracy score : 0.8519518782224405\n",
      "Confusion matrix : \n",
      " [[2892  171]\n",
      " [ 432  578]]\n"
     ]
    }
   ],
   "source": [
    "svm_clf_tuned_g=SVC(random_state=0,kernel='rbf',gamma=1,C=10,probability=True)\n",
    "\n",
    "svm_clf_tuned_g.fit(glove_train_vectors, y_train.values.ravel())\n",
    "\n",
    "pred1 = svm_clf_tuned_g.predict(glove_test_vectors)\n",
    "print(\"Accuracy score : {}\".format(accuracy_score(y_test, pred1)))\n",
    "print(\"Confusion matrix : \\n {}\".format(confusion_matrix(y_test, pred1)))"
   ]
  },
  {
   "cell_type": "code",
   "execution_count": 118,
   "id": "629988f2",
   "metadata": {},
   "outputs": [
    {
     "name": "stdout",
     "output_type": "stream",
     "text": [
      "F1 score :\n",
      "0.657191586128482\n",
      "Classification Report\n",
      "              precision    recall  f1-score   support\n",
      "\n",
      "           0       0.87      0.94      0.91      3063\n",
      "           1       0.77      0.57      0.66      1010\n",
      "\n",
      "    accuracy                           0.85      4073\n",
      "   macro avg       0.82      0.76      0.78      4073\n",
      "weighted avg       0.85      0.85      0.84      4073\n",
      "\n"
     ]
    }
   ],
   "source": [
    "print(\"F1 score :\")\n",
    "print(f1_score(y_test, pred1))\n",
    "print(\"Classification Report\")\n",
    "print(classification_report(y_test, pred1))"
   ]
  },
  {
   "cell_type": "code",
   "execution_count": null,
   "id": "e429c378",
   "metadata": {},
   "outputs": [],
   "source": []
  },
  {
   "cell_type": "markdown",
   "id": "c4f5cd1d",
   "metadata": {},
   "source": [
    "## KNN"
   ]
  },
  {
   "cell_type": "code",
   "execution_count": 119,
   "id": "f9cd940b",
   "metadata": {},
   "outputs": [],
   "source": [
    "#Create KNN Object.\n",
    "knn_clf = KNeighborsClassifier()"
   ]
  },
  {
   "cell_type": "code",
   "execution_count": 120,
   "id": "9bbc39b8",
   "metadata": {},
   "outputs": [
    {
     "name": "stdout",
     "output_type": "stream",
     "text": [
      "Accuracy score : 0.8023569850233243\n",
      "Confusion matrix : \n",
      " [[2796  267]\n",
      " [ 538  472]]\n",
      "Classification Report\n",
      "              precision    recall  f1-score   support\n",
      "\n",
      "           0       0.84      0.91      0.87      3063\n",
      "           1       0.64      0.47      0.54      1010\n",
      "\n",
      "    accuracy                           0.80      4073\n",
      "   macro avg       0.74      0.69      0.71      4073\n",
      "weighted avg       0.79      0.80      0.79      4073\n",
      "\n"
     ]
    }
   ],
   "source": [
    "knn_clf.fit(glove_train_vectors,y_train)\n",
    "\n",
    "pred = knn_clf.predict(glove_test_vectors)\n",
    "print(\"Accuracy score : {}\".format(accuracy_score(y_test, pred)))\n",
    "print(\"Confusion matrix : \\n {}\".format(confusion_matrix(y_test, pred)))\n",
    "print(\"Classification Report\")\n",
    "print(classification_report(y_test, pred))"
   ]
  },
  {
   "cell_type": "markdown",
   "id": "389362d5",
   "metadata": {},
   "source": [
    "#### Hyperparameter Tuning"
   ]
  },
  {
   "cell_type": "code",
   "execution_count": 121,
   "id": "a6f8f635",
   "metadata": {
    "scrolled": true
   },
   "outputs": [
    {
     "name": "stdout",
     "output_type": "stream",
     "text": [
      "{'leaf_size': [1,\n",
      "               2,\n",
      "               3,\n",
      "               4,\n",
      "               5,\n",
      "               6,\n",
      "               7,\n",
      "               8,\n",
      "               9,\n",
      "               10,\n",
      "               11,\n",
      "               12,\n",
      "               13,\n",
      "               14,\n",
      "               15,\n",
      "               16,\n",
      "               17,\n",
      "               18,\n",
      "               19,\n",
      "               20,\n",
      "               21,\n",
      "               22,\n",
      "               23,\n",
      "               24,\n",
      "               25,\n",
      "               26,\n",
      "               27,\n",
      "               28,\n",
      "               29,\n",
      "               30,\n",
      "               31,\n",
      "               32,\n",
      "               33,\n",
      "               34,\n",
      "               35,\n",
      "               36,\n",
      "               37,\n",
      "               38,\n",
      "               39,\n",
      "               40,\n",
      "               41,\n",
      "               42,\n",
      "               43,\n",
      "               44,\n",
      "               45,\n",
      "               46,\n",
      "               47,\n",
      "               48,\n",
      "               49],\n",
      " 'n_neighbors': [1,\n",
      "                 2,\n",
      "                 3,\n",
      "                 4,\n",
      "                 5,\n",
      "                 6,\n",
      "                 7,\n",
      "                 8,\n",
      "                 9,\n",
      "                 10,\n",
      "                 11,\n",
      "                 12,\n",
      "                 13,\n",
      "                 14,\n",
      "                 15,\n",
      "                 16,\n",
      "                 17,\n",
      "                 18,\n",
      "                 19,\n",
      "                 20,\n",
      "                 21,\n",
      "                 22,\n",
      "                 23,\n",
      "                 24,\n",
      "                 25,\n",
      "                 26,\n",
      "                 27,\n",
      "                 28,\n",
      "                 29],\n",
      " 'p': [1, 2]}\n"
     ]
    }
   ],
   "source": [
    "# Create the random grid\n",
    "random_grid = {\n",
    "    'leaf_size': list(range(1,50)),\n",
    "               'n_neighbors': list(range(1,30)),\n",
    "               'p':  [1,2],\n",
    "              }\n",
    "pprint(random_grid)"
   ]
  },
  {
   "cell_type": "code",
   "execution_count": 122,
   "id": "a4379480",
   "metadata": {},
   "outputs": [
    {
     "name": "stdout",
     "output_type": "stream",
     "text": [
      "Fitting 3 folds for each of 100 candidates, totalling 300 fits\n"
     ]
    },
    {
     "data": {
      "text/plain": [
       "RandomizedSearchCV(cv=3, estimator=KNeighborsClassifier(), n_iter=100,\n",
       "                   n_jobs=-1,\n",
       "                   param_distributions={'leaf_size': [1, 2, 3, 4, 5, 6, 7, 8, 9,\n",
       "                                                      10, 11, 12, 13, 14, 15,\n",
       "                                                      16, 17, 18, 19, 20, 21,\n",
       "                                                      22, 23, 24, 25, 26, 27,\n",
       "                                                      28, 29, 30, ...],\n",
       "                                        'n_neighbors': [1, 2, 3, 4, 5, 6, 7, 8,\n",
       "                                                        9, 10, 11, 12, 13, 14,\n",
       "                                                        15, 16, 17, 18, 19, 20,\n",
       "                                                        21, 22, 23, 24, 25, 26,\n",
       "                                                        27, 28, 29],\n",
       "                                        'p': [1, 2]},\n",
       "                   random_state=42, return_train_score=True, verbose=2)"
      ]
     },
     "execution_count": 122,
     "metadata": {},
     "output_type": "execute_result"
    }
   ],
   "source": [
    "\n",
    "knn_clf1=KNeighborsClassifier()\n",
    "\n",
    "rf_random = RandomizedSearchCV(estimator=knn_clf1, param_distributions=random_grid,\n",
    "                              n_iter = 100, \n",
    "                              cv = 3, verbose=2, random_state=42, n_jobs=-1,\n",
    "                              return_train_score=True)\n",
    "\n",
    "\n",
    "# Fit the random search model\n",
    "rf_random.fit(glove_train_vectors,y_train)"
   ]
  },
  {
   "cell_type": "code",
   "execution_count": 123,
   "id": "d3a53a91",
   "metadata": {},
   "outputs": [
    {
     "data": {
      "text/plain": [
       "{'p': 1, 'n_neighbors': 27, 'leaf_size': 13}"
      ]
     },
     "execution_count": 123,
     "metadata": {},
     "output_type": "execute_result"
    }
   ],
   "source": [
    "rf_random.best_params_"
   ]
  },
  {
   "cell_type": "markdown",
   "id": "ad18e021",
   "metadata": {},
   "source": [
    "#### Using with Best Params "
   ]
  },
  {
   "cell_type": "code",
   "execution_count": 124,
   "id": "194fa9a1",
   "metadata": {},
   "outputs": [
    {
     "name": "stdout",
     "output_type": "stream",
     "text": [
      "Accuracy score : 0.8178246992388902\n",
      "Confusion matrix : \n",
      " [[2945  118]\n",
      " [ 624  386]]\n",
      "Classification Report\n",
      "              precision    recall  f1-score   support\n",
      "\n",
      "           0       0.83      0.96      0.89      3063\n",
      "           1       0.77      0.38      0.51      1010\n",
      "\n",
      "    accuracy                           0.82      4073\n",
      "   macro avg       0.80      0.67      0.70      4073\n",
      "weighted avg       0.81      0.82      0.79      4073\n",
      "\n",
      "F1 score :\n",
      "0.5099075297225892\n"
     ]
    }
   ],
   "source": [
    "knn_clf_tuned_g=KNeighborsClassifier(n_neighbors=27,leaf_size=13,p=1)\n",
    "knn_clf_tuned_g.fit(glove_train_vectors,y_train)\n",
    "\n",
    "pred = knn_clf_tuned_g.predict(glove_test_vectors)\n",
    "print(\"Accuracy score : {}\".format(accuracy_score(y_test, pred)))\n",
    "print(\"Confusion matrix : \\n {}\".format(confusion_matrix(y_test, pred)))\n",
    "print(\"Classification Report\")\n",
    "print(classification_report(y_test, pred))\n",
    "print(\"F1 score :\")\n",
    "print(f1_score(y_test, pred))"
   ]
  },
  {
   "cell_type": "code",
   "execution_count": 139,
   "id": "85178580",
   "metadata": {},
   "outputs": [
    {
     "data": {
      "text/html": [
       "<div>\n",
       "<style scoped>\n",
       "    .dataframe tbody tr th:only-of-type {\n",
       "        vertical-align: middle;\n",
       "    }\n",
       "\n",
       "    .dataframe tbody tr th {\n",
       "        vertical-align: top;\n",
       "    }\n",
       "\n",
       "    .dataframe thead th {\n",
       "        text-align: right;\n",
       "    }\n",
       "</style>\n",
       "<table border=\"1\" class=\"dataframe\">\n",
       "  <thead>\n",
       "    <tr style=\"text-align: right;\">\n",
       "      <th></th>\n",
       "      <th>Accuracy</th>\n",
       "      <th>Precision</th>\n",
       "      <th>Recall</th>\n",
       "      <th>F1 Score</th>\n",
       "      <th>roc_auc_score</th>\n",
       "    </tr>\n",
       "  </thead>\n",
       "  <tbody>\n",
       "    <tr>\n",
       "      <th>knn</th>\n",
       "      <td>0.817825</td>\n",
       "      <td>0.8</td>\n",
       "      <td>0.382178</td>\n",
       "      <td>0.51</td>\n",
       "      <td>0.811306</td>\n",
       "    </tr>\n",
       "  </tbody>\n",
       "</table>\n",
       "</div>"
      ],
      "text/plain": [
       "     Accuracy  Precision    Recall  F1 Score  roc_auc_score\n",
       "knn  0.817825        0.8  0.382178      0.51       0.811306"
      ]
     },
     "execution_count": 139,
     "metadata": {},
     "output_type": "execute_result"
    }
   ],
   "source": [
    "classifiers = [('knn',knn_clf_tuned_g)]\n",
    "df_model_scores=model_comparison_table(glove_test_vectors,y_test,classifiers)\n",
    "df_model_scores.head(20).T"
   ]
  },
  {
   "cell_type": "markdown",
   "id": "23fe63e1",
   "metadata": {},
   "source": [
    "### Xgboost"
   ]
  },
  {
   "cell_type": "code",
   "execution_count": 140,
   "id": "bf453fc3",
   "metadata": {},
   "outputs": [
    {
     "name": "stdout",
     "output_type": "stream",
     "text": [
      "Accuracy score : 0.844095261478026\n",
      "Confusion matrix : \n",
      " [[2928  135]\n",
      " [ 500  510]]\n",
      "Classification Report\n",
      "              precision    recall  f1-score   support\n",
      "\n",
      "           0       0.85      0.96      0.90      3063\n",
      "           1       0.79      0.50      0.62      1010\n",
      "\n",
      "    accuracy                           0.84      4073\n",
      "   macro avg       0.82      0.73      0.76      4073\n",
      "weighted avg       0.84      0.84      0.83      4073\n",
      "\n"
     ]
    }
   ],
   "source": [
    "#Create KNN Object.\n",
    "xg_clf=XGBClassifier(random_state=0)\n",
    "\n",
    "xg_clf.fit(glove_train_vectors,y_train)\n",
    "\n",
    "pred = xg_clf.predict(glove_test_vectors)\n",
    "print(\"Accuracy score : {}\".format(accuracy_score(y_test, pred)))\n",
    "print(\"Confusion matrix : \\n {}\".format(confusion_matrix(y_test, pred)))\n",
    "print(\"Classification Report\")\n",
    "print(classification_report(y_test, pred))\n"
   ]
  },
  {
   "cell_type": "markdown",
   "id": "987fbbde",
   "metadata": {},
   "source": [
    "#### HYperparameter Tuning"
   ]
  },
  {
   "cell_type": "code",
   "execution_count": 141,
   "id": "d4ab4811",
   "metadata": {},
   "outputs": [
    {
     "name": "stdout",
     "output_type": "stream",
     "text": [
      "{'alpha': [1e-05, 0.01, 0.1, 1, 10, 50, 100],\n",
      " 'colsample_bylevel': array([0.5, 0.6, 0.7, 0.8, 0.9]),\n",
      " 'colsample_bytree': array([0.5, 0.6, 0.7, 0.8, 0.9]),\n",
      " 'gamma': [1,\n",
      "           2,\n",
      "           3,\n",
      "           4,\n",
      "           5,\n",
      "           6,\n",
      "           7,\n",
      "           8,\n",
      "           9,\n",
      "           10,\n",
      "           11,\n",
      "           12,\n",
      "           13,\n",
      "           14,\n",
      "           15,\n",
      "           16,\n",
      "           17,\n",
      "           18,\n",
      "           19,\n",
      "           20,\n",
      "           21,\n",
      "           22,\n",
      "           23,\n",
      "           24,\n",
      "           25,\n",
      "           26,\n",
      "           27,\n",
      "           28,\n",
      "           29],\n",
      " 'learning_rate': [0.01, 0.1, 0.2, 0.3, 0.4],\n",
      " 'max_depth': range(3, 15, 2),\n",
      " 'min_child_weight': range(1, 6, 2),\n",
      " 'n_estimators': [100, 250, 500],\n",
      " 'scale_pos_weight': range(1, 5),\n",
      " 'subsample': array([0.5, 0.6, 0.7, 0.8, 0.9])}\n"
     ]
    }
   ],
   "source": [
    "# Create the random grid\n",
    "random_grid = {\n",
    "    'min_child_weight': range(1,6,2),\n",
    "    'gamma': list(range(1,30)),\n",
    "    'max_depth':  range(3,15,2),\n",
    "    'alpha': [1e-5, 1e-2, 0.1,1,10,50, 100],\n",
    "    'subsample':np.arange(0.5, 1.0, 0.1),\n",
    "    'scale_pos_weight':range(1,5,1),\n",
    "    'colsample_bytree':np.arange(0.5, 1.0, 0.1),\n",
    "    'n_estimators':[100, 250, 500],\n",
    "    'learning_rate': [0.01, 0.1, 0.2, 0.3, 0.4],\n",
    "    'colsample_bylevel': np.arange(0.5, 1.0, 0.1),\n",
    "    }\n",
    "pprint(random_grid)"
   ]
  },
  {
   "cell_type": "code",
   "execution_count": 142,
   "id": "97aa812e",
   "metadata": {},
   "outputs": [
    {
     "name": "stdout",
     "output_type": "stream",
     "text": [
      "Fitting 3 folds for each of 100 candidates, totalling 300 fits\n"
     ]
    },
    {
     "data": {
      "text/plain": [
       "RandomizedSearchCV(cv=3,\n",
       "                   estimator=XGBClassifier(base_score=None, booster=None,\n",
       "                                           callbacks=None,\n",
       "                                           colsample_bylevel=None,\n",
       "                                           colsample_bynode=None,\n",
       "                                           colsample_bytree=None,\n",
       "                                           early_stopping_rounds=None,\n",
       "                                           enable_categorical=False,\n",
       "                                           eval_metric=None, gamma=None,\n",
       "                                           gpu_id=None, grow_policy=None,\n",
       "                                           importance_type=None,\n",
       "                                           interaction_constraints=None,\n",
       "                                           learning_rate=None, max_bin=None,...\n",
       "                                        'colsample_bytree': array([0.5, 0.6, 0.7, 0.8, 0.9]),\n",
       "                                        'gamma': [1, 2, 3, 4, 5, 6, 7, 8, 9, 10,\n",
       "                                                  11, 12, 13, 14, 15, 16, 17,\n",
       "                                                  18, 19, 20, 21, 22, 23, 24,\n",
       "                                                  25, 26, 27, 28, 29],\n",
       "                                        'learning_rate': [0.01, 0.1, 0.2, 0.3,\n",
       "                                                          0.4],\n",
       "                                        'max_depth': range(3, 15, 2),\n",
       "                                        'min_child_weight': range(1, 6, 2),\n",
       "                                        'n_estimators': [100, 250, 500],\n",
       "                                        'scale_pos_weight': range(1, 5),\n",
       "                                        'subsample': array([0.5, 0.6, 0.7, 0.8, 0.9])},\n",
       "                   random_state=42, return_train_score=True, verbose=2)"
      ]
     },
     "execution_count": 142,
     "metadata": {},
     "output_type": "execute_result"
    }
   ],
   "source": [
    "\n",
    "xg_clf1=XGBClassifier(random_state=0)\n",
    "\n",
    "\n",
    "rf_random = RandomizedSearchCV(estimator=xg_clf1, param_distributions=random_grid,\n",
    "                              n_iter = 100, \n",
    "                              cv = 3, verbose=2, random_state=42, n_jobs=-1,\n",
    "                              return_train_score=True)\n",
    "\n",
    "\n",
    "# Fit the random search model\n",
    "rf_random.fit(glove_train_vectors,y_train)"
   ]
  },
  {
   "cell_type": "code",
   "execution_count": 143,
   "id": "3c3fc847",
   "metadata": {},
   "outputs": [
    {
     "data": {
      "text/plain": [
       "{'subsample': 0.7,\n",
       " 'scale_pos_weight': 2,\n",
       " 'n_estimators': 500,\n",
       " 'min_child_weight': 1,\n",
       " 'max_depth': 5,\n",
       " 'learning_rate': 0.1,\n",
       " 'gamma': 3,\n",
       " 'colsample_bytree': 0.7999999999999999,\n",
       " 'colsample_bylevel': 0.8999999999999999,\n",
       " 'alpha': 1}"
      ]
     },
     "execution_count": 143,
     "metadata": {},
     "output_type": "execute_result"
    }
   ],
   "source": [
    "rf_random.best_params_"
   ]
  },
  {
   "cell_type": "code",
   "execution_count": 144,
   "id": "9362cb9b",
   "metadata": {},
   "outputs": [
    {
     "name": "stdout",
     "output_type": "stream",
     "text": [
      "[CV] END alpha=50, colsample_bylevel=0.6, colsample_bytree=0.8999999999999999, gamma=19, learning_rate=0.01, max_depth=5, min_child_weight=1, n_estimators=100, scale_pos_weight=2, subsample=0.7999999999999999; total time=  27.1s\n",
      "[CV] END alpha=1, colsample_bylevel=0.7, colsample_bytree=0.8999999999999999, gamma=3, learning_rate=0.4, max_depth=11, min_child_weight=5, n_estimators=100, scale_pos_weight=2, subsample=0.7; total time=  55.1s\n",
      "[CV] END alpha=0.01, colsample_bylevel=0.7, colsample_bytree=0.6, gamma=20, learning_rate=0.2, max_depth=9, min_child_weight=5, n_estimators=500, scale_pos_weight=2, subsample=0.6; total time= 2.8min\n",
      "[CV] END alpha=1, colsample_bylevel=0.6, colsample_bytree=0.6, gamma=29, learning_rate=0.3, max_depth=7, min_child_weight=1, n_estimators=250, scale_pos_weight=1, subsample=0.5; total time=  58.2s\n",
      "[CV] END alpha=50, colsample_bylevel=0.7999999999999999, colsample_bytree=0.6, gamma=21, learning_rate=0.3, max_depth=3, min_child_weight=3, n_estimators=250, scale_pos_weight=2, subsample=0.5; total time=  34.6s\n",
      "[CV] END alpha=0.01, colsample_bylevel=0.8999999999999999, colsample_bytree=0.6, gamma=15, learning_rate=0.2, max_depth=3, min_child_weight=1, n_estimators=100, scale_pos_weight=2, subsample=0.8999999999999999; total time=  21.8s\n",
      "[CV] END alpha=10, colsample_bylevel=0.8999999999999999, colsample_bytree=0.8999999999999999, gamma=4, learning_rate=0.1, max_depth=3, min_child_weight=1, n_estimators=500, scale_pos_weight=1, subsample=0.6; total time= 2.0min\n",
      "[CV] END alpha=100, colsample_bylevel=0.7999999999999999, colsample_bytree=0.7, gamma=28, learning_rate=0.3, max_depth=9, min_child_weight=3, n_estimators=500, scale_pos_weight=4, subsample=0.7999999999999999; total time= 3.9min\n",
      "[CV] END alpha=0.1, colsample_bylevel=0.8999999999999999, colsample_bytree=0.7, gamma=22, learning_rate=0.3, max_depth=7, min_child_weight=5, n_estimators=500, scale_pos_weight=2, subsample=0.6; total time= 3.4min\n",
      "[CV] END alpha=1e-05, colsample_bylevel=0.6, colsample_bytree=0.6, gamma=13, learning_rate=0.2, max_depth=11, min_child_weight=1, n_estimators=100, scale_pos_weight=3, subsample=0.7999999999999999; total time=  45.0s\n",
      "[CV] END alpha=100, colsample_bylevel=0.8999999999999999, colsample_bytree=0.5, gamma=22, learning_rate=0.01, max_depth=7, min_child_weight=3, n_estimators=100, scale_pos_weight=3, subsample=0.5; total time=  22.1s\n",
      "[CV] END alpha=10, colsample_bylevel=0.7999999999999999, colsample_bytree=0.7999999999999999, gamma=13, learning_rate=0.01, max_depth=7, min_child_weight=5, n_estimators=250, scale_pos_weight=2, subsample=0.7; total time= 1.9min\n",
      "[CV] END alpha=10, colsample_bylevel=0.7999999999999999, colsample_bytree=0.8999999999999999, gamma=18, learning_rate=0.4, max_depth=3, min_child_weight=1, n_estimators=500, scale_pos_weight=3, subsample=0.5; total time= 1.5min\n",
      "[CV] END alpha=10, colsample_bylevel=0.8999999999999999, colsample_bytree=0.8999999999999999, gamma=20, learning_rate=0.1, max_depth=11, min_child_weight=3, n_estimators=250, scale_pos_weight=4, subsample=0.8999999999999999; total time= 4.2min\n",
      "[CV] END alpha=1e-05, colsample_bylevel=0.7, colsample_bytree=0.8999999999999999, gamma=8, learning_rate=0.3, max_depth=13, min_child_weight=5, n_estimators=250, scale_pos_weight=2, subsample=0.8999999999999999; total time= 3.1min\n",
      "[CV] END alpha=50, colsample_bylevel=0.5, colsample_bytree=0.7999999999999999, gamma=28, learning_rate=0.3, max_depth=3, min_child_weight=1, n_estimators=500, scale_pos_weight=1, subsample=0.5; total time=  55.2s\n",
      "[CV] END alpha=50, colsample_bylevel=0.6, colsample_bytree=0.7999999999999999, gamma=2, learning_rate=0.01, max_depth=7, min_child_weight=5, n_estimators=500, scale_pos_weight=3, subsample=0.8999999999999999; total time= 3.2min\n",
      "[CV] END alpha=1e-05, colsample_bylevel=0.6, colsample_bytree=0.6, gamma=13, learning_rate=0.2, max_depth=11, min_child_weight=1, n_estimators=100, scale_pos_weight=3, subsample=0.7999999999999999; total time=  46.0s\n",
      "[CV] END alpha=50, colsample_bylevel=0.8999999999999999, colsample_bytree=0.7999999999999999, gamma=5, learning_rate=0.2, max_depth=3, min_child_weight=1, n_estimators=500, scale_pos_weight=1, subsample=0.8999999999999999; total time= 1.9min\n",
      "[CV] END alpha=50, colsample_bylevel=0.7, colsample_bytree=0.7, gamma=9, learning_rate=0.1, max_depth=3, min_child_weight=3, n_estimators=100, scale_pos_weight=4, subsample=0.5; total time=  15.1s\n",
      "[CV] END alpha=1, colsample_bylevel=0.6, colsample_bytree=0.5, gamma=23, learning_rate=0.1, max_depth=11, min_child_weight=1, n_estimators=250, scale_pos_weight=4, subsample=0.7; total time= 1.5min\n",
      "[CV] END alpha=0.1, colsample_bylevel=0.8999999999999999, colsample_bytree=0.6, gamma=13, learning_rate=0.01, max_depth=11, min_child_weight=1, n_estimators=100, scale_pos_weight=1, subsample=0.6; total time=  50.2s\n",
      "[CV] END alpha=1, colsample_bylevel=0.6, colsample_bytree=0.8999999999999999, gamma=7, learning_rate=0.01, max_depth=7, min_child_weight=3, n_estimators=500, scale_pos_weight=4, subsample=0.7; total time= 3.3min\n",
      "[CV] END alpha=1e-05, colsample_bylevel=0.8999999999999999, colsample_bytree=0.6, gamma=15, learning_rate=0.2, max_depth=5, min_child_weight=3, n_estimators=100, scale_pos_weight=3, subsample=0.7; total time=  27.7s\n",
      "[CV] END alpha=100, colsample_bylevel=0.8999999999999999, colsample_bytree=0.6, gamma=15, learning_rate=0.4, max_depth=3, min_child_weight=1, n_estimators=500, scale_pos_weight=2, subsample=0.7; total time= 1.3min\n",
      "[CV] END alpha=0.1, colsample_bylevel=0.6, colsample_bytree=0.8999999999999999, gamma=13, learning_rate=0.1, max_depth=7, min_child_weight=1, n_estimators=100, scale_pos_weight=2, subsample=0.7999999999999999; total time=  43.5s\n",
      "[CV] END alpha=1, colsample_bylevel=0.6, colsample_bytree=0.5, gamma=23, learning_rate=0.1, max_depth=11, min_child_weight=1, n_estimators=250, scale_pos_weight=4, subsample=0.7; total time= 1.6min\n",
      "[CV] END alpha=1e-05, colsample_bylevel=0.6, colsample_bytree=0.8999999999999999, gamma=11, learning_rate=0.2, max_depth=3, min_child_weight=5, n_estimators=100, scale_pos_weight=2, subsample=0.8999999999999999; total time=  18.5s\n",
      "[CV] END alpha=0.1, colsample_bylevel=0.8999999999999999, colsample_bytree=0.7, gamma=22, learning_rate=0.3, max_depth=7, min_child_weight=5, n_estimators=500, scale_pos_weight=2, subsample=0.6; total time= 3.4min\n",
      "[CV] END alpha=1e-05, colsample_bylevel=0.6, colsample_bytree=0.6, gamma=13, learning_rate=0.2, max_depth=11, min_child_weight=1, n_estimators=100, scale_pos_weight=3, subsample=0.7999999999999999; total time=  46.2s\n",
      "[CV] END alpha=1, colsample_bylevel=0.7, colsample_bytree=0.5, gamma=1, learning_rate=0.3, max_depth=11, min_child_weight=5, n_estimators=100, scale_pos_weight=3, subsample=0.7; total time=  28.9s\n",
      "[CV] END alpha=10, colsample_bylevel=0.7999999999999999, colsample_bytree=0.7999999999999999, gamma=13, learning_rate=0.01, max_depth=7, min_child_weight=5, n_estimators=250, scale_pos_weight=2, subsample=0.7; total time= 1.9min\n",
      "[CV] END alpha=10, colsample_bylevel=0.7999999999999999, colsample_bytree=0.8999999999999999, gamma=18, learning_rate=0.4, max_depth=3, min_child_weight=1, n_estimators=500, scale_pos_weight=3, subsample=0.5; total time= 1.5min\n",
      "[CV] END alpha=10, colsample_bylevel=0.8999999999999999, colsample_bytree=0.8999999999999999, gamma=20, learning_rate=0.1, max_depth=11, min_child_weight=3, n_estimators=250, scale_pos_weight=4, subsample=0.8999999999999999; total time= 4.3min\n",
      "[CV] END alpha=100, colsample_bylevel=0.8999999999999999, colsample_bytree=0.6, gamma=15, learning_rate=0.4, max_depth=3, min_child_weight=1, n_estimators=500, scale_pos_weight=2, subsample=0.7; total time= 1.3min\n",
      "[CV] END alpha=0.1, colsample_bylevel=0.6, colsample_bytree=0.8999999999999999, gamma=13, learning_rate=0.1, max_depth=7, min_child_weight=1, n_estimators=100, scale_pos_weight=2, subsample=0.7999999999999999; total time=  42.9s\n",
      "[CV] END alpha=50, colsample_bylevel=0.5, colsample_bytree=0.7999999999999999, gamma=2, learning_rate=0.2, max_depth=9, min_child_weight=1, n_estimators=250, scale_pos_weight=2, subsample=0.5; total time=  54.4s\n",
      "[CV] END alpha=0.1, colsample_bylevel=0.7999999999999999, colsample_bytree=0.8999999999999999, gamma=29, learning_rate=0.2, max_depth=5, min_child_weight=3, n_estimators=100, scale_pos_weight=3, subsample=0.8999999999999999; total time=  43.1s\n",
      "[CV] END alpha=10, colsample_bylevel=0.6, colsample_bytree=0.7, gamma=17, learning_rate=0.2, max_depth=9, min_child_weight=3, n_estimators=100, scale_pos_weight=1, subsample=0.8999999999999999; total time=  46.8s\n",
      "[CV] END alpha=0.1, colsample_bylevel=0.7999999999999999, colsample_bytree=0.8999999999999999, gamma=27, learning_rate=0.01, max_depth=5, min_child_weight=3, n_estimators=500, scale_pos_weight=4, subsample=0.7; total time= 3.2min\n",
      "[CV] END alpha=1e-05, colsample_bylevel=0.8999999999999999, colsample_bytree=0.6, gamma=15, learning_rate=0.2, max_depth=5, min_child_weight=3, n_estimators=100, scale_pos_weight=3, subsample=0.7; total time=  27.4s\n"
     ]
    },
    {
     "name": "stdout",
     "output_type": "stream",
     "text": [
      "[CV] END alpha=0.1, colsample_bylevel=0.7, colsample_bytree=0.6, gamma=15, learning_rate=0.01, max_depth=5, min_child_weight=5, n_estimators=100, scale_pos_weight=4, subsample=0.8999999999999999; total time=  26.6s\n",
      "[CV] END alpha=0.01, colsample_bylevel=0.7, colsample_bytree=0.7999999999999999, gamma=13, learning_rate=0.3, max_depth=13, min_child_weight=5, n_estimators=100, scale_pos_weight=4, subsample=0.7; total time= 1.0min\n",
      "[CV] END alpha=50, colsample_bylevel=0.7, colsample_bytree=0.7, gamma=9, learning_rate=0.1, max_depth=3, min_child_weight=3, n_estimators=100, scale_pos_weight=4, subsample=0.5; total time=  15.1s\n",
      "[CV] END alpha=100, colsample_bylevel=0.8999999999999999, colsample_bytree=0.5, gamma=9, learning_rate=0.1, max_depth=7, min_child_weight=5, n_estimators=100, scale_pos_weight=2, subsample=0.6; total time=  26.5s\n",
      "[CV] END alpha=10, colsample_bylevel=0.7999999999999999, colsample_bytree=0.8999999999999999, gamma=18, learning_rate=0.4, max_depth=3, min_child_weight=1, n_estimators=500, scale_pos_weight=3, subsample=0.5; total time= 1.5min\n",
      "[CV] END alpha=10, colsample_bylevel=0.8999999999999999, colsample_bytree=0.8999999999999999, gamma=20, learning_rate=0.1, max_depth=11, min_child_weight=3, n_estimators=250, scale_pos_weight=4, subsample=0.8999999999999999; total time= 4.4min\n",
      "[CV] END alpha=100, colsample_bylevel=0.8999999999999999, colsample_bytree=0.6, gamma=15, learning_rate=0.4, max_depth=3, min_child_weight=1, n_estimators=500, scale_pos_weight=2, subsample=0.7; total time= 1.3min\n",
      "[CV] END alpha=0.1, colsample_bylevel=0.7, colsample_bytree=0.6, gamma=27, learning_rate=0.2, max_depth=11, min_child_weight=3, n_estimators=250, scale_pos_weight=4, subsample=0.8999999999999999; total time= 2.2min\n",
      "[CV] END alpha=10, colsample_bylevel=0.5, colsample_bytree=0.6, gamma=22, learning_rate=0.3, max_depth=7, min_child_weight=3, n_estimators=250, scale_pos_weight=1, subsample=0.6; total time=  52.7s\n",
      "[CV] END alpha=0.01, colsample_bylevel=0.7999999999999999, colsample_bytree=0.5, gamma=25, learning_rate=0.4, max_depth=3, min_child_weight=3, n_estimators=100, scale_pos_weight=2, subsample=0.6; total time=  12.4s\n",
      "[CV] END alpha=0.1, colsample_bylevel=0.7999999999999999, colsample_bytree=0.8999999999999999, gamma=27, learning_rate=0.01, max_depth=5, min_child_weight=3, n_estimators=500, scale_pos_weight=4, subsample=0.7; total time= 3.0min\n",
      "[CV] END alpha=1e-05, colsample_bylevel=0.8999999999999999, colsample_bytree=0.6, gamma=15, learning_rate=0.2, max_depth=5, min_child_weight=3, n_estimators=100, scale_pos_weight=3, subsample=0.7; total time=  28.0s\n",
      "[CV] END alpha=100, colsample_bylevel=0.6, colsample_bytree=0.6, gamma=29, learning_rate=0.3, max_depth=7, min_child_weight=5, n_estimators=100, scale_pos_weight=2, subsample=0.8999999999999999; total time=  25.0s\n",
      "[CV] END alpha=1, colsample_bylevel=0.7999999999999999, colsample_bytree=0.7999999999999999, gamma=5, learning_rate=0.01, max_depth=11, min_child_weight=3, n_estimators=100, scale_pos_weight=2, subsample=0.6; total time= 1.0min\n",
      "[CV] END alpha=0.1, colsample_bylevel=0.7, colsample_bytree=0.7, gamma=14, learning_rate=0.4, max_depth=13, min_child_weight=1, n_estimators=100, scale_pos_weight=3, subsample=0.7999999999999999; total time= 1.2min\n",
      "[CV] END alpha=0.01, colsample_bylevel=0.6, colsample_bytree=0.7, gamma=26, learning_rate=0.1, max_depth=5, min_child_weight=5, n_estimators=100, scale_pos_weight=1, subsample=0.6; total time=  20.8s\n",
      "[CV] END alpha=100, colsample_bylevel=0.7, colsample_bytree=0.8999999999999999, gamma=3, learning_rate=0.01, max_depth=11, min_child_weight=3, n_estimators=250, scale_pos_weight=1, subsample=0.7; total time= 2.4min\n",
      "[CV] END alpha=50, colsample_bylevel=0.7999999999999999, colsample_bytree=0.6, gamma=21, learning_rate=0.3, max_depth=3, min_child_weight=3, n_estimators=250, scale_pos_weight=2, subsample=0.5; total time=  34.2s\n",
      "[CV] END alpha=0.01, colsample_bylevel=0.8999999999999999, colsample_bytree=0.6, gamma=15, learning_rate=0.2, max_depth=3, min_child_weight=1, n_estimators=100, scale_pos_weight=2, subsample=0.8999999999999999; total time=  19.0s\n",
      "[CV] END alpha=10, colsample_bylevel=0.8999999999999999, colsample_bytree=0.8999999999999999, gamma=4, learning_rate=0.1, max_depth=3, min_child_weight=1, n_estimators=500, scale_pos_weight=1, subsample=0.6; total time= 1.9min\n",
      "[CV] END alpha=100, colsample_bylevel=0.6, colsample_bytree=0.6, gamma=29, learning_rate=0.3, max_depth=7, min_child_weight=5, n_estimators=100, scale_pos_weight=2, subsample=0.8999999999999999; total time=  26.3s\n",
      "Accuracy score : 0.8524429167689663\n",
      "Confusion matrix : \n",
      " [[2875  188]\n",
      " [ 413  597]]\n",
      "Classification Report\n",
      "              precision    recall  f1-score   support\n",
      "\n",
      "           0       0.87      0.94      0.91      3063\n",
      "           1       0.76      0.59      0.67      1010\n",
      "\n",
      "    accuracy                           0.85      4073\n",
      "   macro avg       0.82      0.76      0.79      4073\n",
      "weighted avg       0.85      0.85      0.85      4073\n",
      "\n",
      "F1 score :\n",
      "0.6651810584958217\n",
      "[CV] END alpha=10, colsample_bylevel=0.5, colsample_bytree=0.7, gamma=23, learning_rate=0.2, max_depth=5, min_child_weight=5, n_estimators=100, scale_pos_weight=4, subsample=0.7999999999999999; total time=  18.0s\n",
      "[CV] END alpha=0.01, colsample_bylevel=0.6, colsample_bytree=0.6, gamma=24, learning_rate=0.2, max_depth=9, min_child_weight=1, n_estimators=100, scale_pos_weight=2, subsample=0.5; total time=  27.7s\n",
      "[CV] END alpha=0.1, colsample_bylevel=0.6, colsample_bytree=0.7999999999999999, gamma=19, learning_rate=0.01, max_depth=5, min_child_weight=5, n_estimators=500, scale_pos_weight=3, subsample=0.6; total time= 1.8min\n",
      "[CV] END alpha=100, colsample_bylevel=0.7, colsample_bytree=0.8999999999999999, gamma=3, learning_rate=0.01, max_depth=11, min_child_weight=3, n_estimators=250, scale_pos_weight=1, subsample=0.7; total time= 2.4min\n",
      "[CV] END alpha=50, colsample_bylevel=0.7999999999999999, colsample_bytree=0.6, gamma=21, learning_rate=0.3, max_depth=3, min_child_weight=3, n_estimators=250, scale_pos_weight=2, subsample=0.5; total time=  32.0s\n",
      "[CV] END alpha=0.01, colsample_bylevel=0.8999999999999999, colsample_bytree=0.6, gamma=15, learning_rate=0.2, max_depth=3, min_child_weight=1, n_estimators=100, scale_pos_weight=2, subsample=0.8999999999999999; total time=  17.7s\n",
      "[CV] END alpha=0.1, colsample_bylevel=0.5, colsample_bytree=0.8999999999999999, gamma=24, learning_rate=0.4, max_depth=7, min_child_weight=3, n_estimators=250, scale_pos_weight=4, subsample=0.7; total time= 1.2min\n",
      "[CV] END alpha=100, colsample_bylevel=0.7999999999999999, colsample_bytree=0.8999999999999999, gamma=3, learning_rate=0.1, max_depth=5, min_child_weight=3, n_estimators=500, scale_pos_weight=1, subsample=0.5; total time= 1.2min\n",
      "[CV] END alpha=50, colsample_bylevel=0.7, colsample_bytree=0.5, gamma=21, learning_rate=0.01, max_depth=9, min_child_weight=5, n_estimators=250, scale_pos_weight=2, subsample=0.7; total time= 1.3min\n",
      "[CV] END alpha=0.1, colsample_bylevel=0.7999999999999999, colsample_bytree=0.7, gamma=28, learning_rate=0.4, max_depth=3, min_child_weight=5, n_estimators=500, scale_pos_weight=3, subsample=0.5; total time= 1.2min\n",
      "[CV] END alpha=1e-05, colsample_bylevel=0.7999999999999999, colsample_bytree=0.7, gamma=1, learning_rate=0.01, max_depth=11, min_child_weight=5, n_estimators=100, scale_pos_weight=2, subsample=0.6; total time=  52.9s\n",
      "[CV] END alpha=1e-05, colsample_bylevel=0.6, colsample_bytree=0.8999999999999999, gamma=11, learning_rate=0.2, max_depth=3, min_child_weight=5, n_estimators=100, scale_pos_weight=2, subsample=0.8999999999999999; total time=  18.2s\n",
      "[CV] END alpha=0.1, colsample_bylevel=0.8999999999999999, colsample_bytree=0.7, gamma=22, learning_rate=0.3, max_depth=7, min_child_weight=5, n_estimators=500, scale_pos_weight=2, subsample=0.6; total time= 3.3min\n",
      "[CV] END alpha=100, colsample_bylevel=0.7999999999999999, colsample_bytree=0.8999999999999999, gamma=3, learning_rate=0.1, max_depth=5, min_child_weight=3, n_estimators=500, scale_pos_weight=1, subsample=0.5; total time= 1.2min\n",
      "[CV] END alpha=100, colsample_bylevel=0.7999999999999999, colsample_bytree=0.7, gamma=28, learning_rate=0.3, max_depth=9, min_child_weight=3, n_estimators=500, scale_pos_weight=4, subsample=0.7999999999999999; total time= 4.0min\n",
      "[CV] END alpha=50, colsample_bylevel=0.7, colsample_bytree=0.8999999999999999, gamma=2, learning_rate=0.2, max_depth=3, min_child_weight=5, n_estimators=250, scale_pos_weight=3, subsample=0.6; total time=  45.4s\n",
      "[CV] END alpha=10, colsample_bylevel=0.8999999999999999, colsample_bytree=0.6, gamma=25, learning_rate=0.4, max_depth=3, min_child_weight=3, n_estimators=500, scale_pos_weight=2, subsample=0.8999999999999999; total time= 1.7min\n",
      "[CV] END alpha=100, colsample_bylevel=0.8999999999999999, colsample_bytree=0.5, gamma=24, learning_rate=0.3, max_depth=11, min_child_weight=3, n_estimators=100, scale_pos_weight=1, subsample=0.7; total time=  40.0s\n",
      "[CV] END alpha=100, colsample_bylevel=0.7999999999999999, colsample_bytree=0.8999999999999999, gamma=3, learning_rate=0.1, max_depth=5, min_child_weight=3, n_estimators=500, scale_pos_weight=1, subsample=0.5; total time= 1.2min\n",
      "[CV] END alpha=0.1, colsample_bylevel=0.7999999999999999, colsample_bytree=0.7, gamma=7, learning_rate=0.2, max_depth=3, min_child_weight=3, n_estimators=250, scale_pos_weight=3, subsample=0.5; total time=  36.5s\n",
      "[CV] END alpha=1e-05, colsample_bylevel=0.5, colsample_bytree=0.5, gamma=20, learning_rate=0.01, max_depth=11, min_child_weight=1, n_estimators=250, scale_pos_weight=4, subsample=0.5; total time= 1.1min\n",
      "[CV] END alpha=100, colsample_bylevel=0.8999999999999999, colsample_bytree=0.5, gamma=9, learning_rate=0.1, max_depth=7, min_child_weight=5, n_estimators=100, scale_pos_weight=2, subsample=0.6; total time=  26.4s\n",
      "[CV] END alpha=100, colsample_bylevel=0.6, colsample_bytree=0.8999999999999999, gamma=23, learning_rate=0.1, max_depth=9, min_child_weight=3, n_estimators=100, scale_pos_weight=4, subsample=0.6; total time=  39.8s\n",
      "[CV] END alpha=50, colsample_bylevel=0.5, colsample_bytree=0.7999999999999999, gamma=28, learning_rate=0.3, max_depth=3, min_child_weight=1, n_estimators=500, scale_pos_weight=1, subsample=0.5; total time=  56.6s\n",
      "[CV] END alpha=1e-05, colsample_bylevel=0.7999999999999999, colsample_bytree=0.7, gamma=2, learning_rate=0.2, max_depth=5, min_child_weight=1, n_estimators=500, scale_pos_weight=4, subsample=0.5; total time= 2.0min\n",
      "[CV] END alpha=10, colsample_bylevel=0.8999999999999999, colsample_bytree=0.8999999999999999, gamma=4, learning_rate=0.1, max_depth=3, min_child_weight=1, n_estimators=500, scale_pos_weight=1, subsample=0.6; total time= 1.9min\n",
      "[CV] END alpha=100, colsample_bylevel=0.6, colsample_bytree=0.6, gamma=29, learning_rate=0.3, max_depth=7, min_child_weight=5, n_estimators=100, scale_pos_weight=2, subsample=0.8999999999999999; total time=  25.4s\n"
     ]
    },
    {
     "name": "stdout",
     "output_type": "stream",
     "text": [
      "[CV] END alpha=50, colsample_bylevel=0.8999999999999999, colsample_bytree=0.7999999999999999, gamma=28, learning_rate=0.4, max_depth=13, min_child_weight=1, n_estimators=250, scale_pos_weight=3, subsample=0.5; total time= 2.3min\n",
      "[CV] END alpha=10, colsample_bylevel=0.6, colsample_bytree=0.7, gamma=20, learning_rate=0.2, max_depth=13, min_child_weight=1, n_estimators=100, scale_pos_weight=3, subsample=0.5; total time=  46.5s\n",
      "[CV] END alpha=0.1, colsample_bylevel=0.7999999999999999, colsample_bytree=0.8999999999999999, gamma=29, learning_rate=0.2, max_depth=5, min_child_weight=3, n_estimators=100, scale_pos_weight=3, subsample=0.8999999999999999; total time=  38.9s\n",
      "[CV] END alpha=10, colsample_bylevel=0.6, colsample_bytree=0.7, gamma=17, learning_rate=0.2, max_depth=9, min_child_weight=3, n_estimators=100, scale_pos_weight=1, subsample=0.8999999999999999; total time=  46.3s\n",
      "[CV] END alpha=0.01, colsample_bylevel=0.5, colsample_bytree=0.6, gamma=16, learning_rate=0.2, max_depth=7, min_child_weight=5, n_estimators=500, scale_pos_weight=4, subsample=0.8999999999999999; total time= 2.0min\n",
      "[CV] END alpha=50, colsample_bylevel=0.6, colsample_bytree=0.6, gamma=6, learning_rate=0.4, max_depth=9, min_child_weight=3, n_estimators=100, scale_pos_weight=3, subsample=0.6; total time=  24.2s\n",
      "[CV] END alpha=1e-05, colsample_bylevel=0.5, colsample_bytree=0.7999999999999999, gamma=18, learning_rate=0.2, max_depth=13, min_child_weight=1, n_estimators=250, scale_pos_weight=2, subsample=0.5; total time= 1.7min\n",
      "[CV] END alpha=50, colsample_bylevel=0.8999999999999999, colsample_bytree=0.7999999999999999, gamma=28, learning_rate=0.4, max_depth=13, min_child_weight=1, n_estimators=250, scale_pos_weight=3, subsample=0.5; total time= 2.4min\n",
      "[CV] END alpha=10, colsample_bylevel=0.6, colsample_bytree=0.7, gamma=20, learning_rate=0.2, max_depth=13, min_child_weight=1, n_estimators=100, scale_pos_weight=3, subsample=0.5; total time=  44.8s\n",
      "[CV] END alpha=50, colsample_bylevel=0.8999999999999999, colsample_bytree=0.8999999999999999, gamma=16, learning_rate=0.3, max_depth=7, min_child_weight=5, n_estimators=100, scale_pos_weight=2, subsample=0.8999999999999999; total time= 1.1min\n",
      "[CV] END alpha=1, colsample_bylevel=0.7, colsample_bytree=0.6, gamma=3, learning_rate=0.1, max_depth=7, min_child_weight=1, n_estimators=100, scale_pos_weight=3, subsample=0.8999999999999999; total time=  36.4s\n",
      "[CV] END alpha=50, colsample_bylevel=0.8999999999999999, colsample_bytree=0.7, gamma=2, learning_rate=0.1, max_depth=7, min_child_weight=1, n_estimators=250, scale_pos_weight=4, subsample=0.5; total time= 1.5min\n",
      "[CV] END alpha=50, colsample_bylevel=0.6, colsample_bytree=0.6, gamma=6, learning_rate=0.4, max_depth=9, min_child_weight=3, n_estimators=100, scale_pos_weight=3, subsample=0.6; total time=  27.9s\n",
      "[CV] END alpha=1e-05, colsample_bylevel=0.5, colsample_bytree=0.7999999999999999, gamma=18, learning_rate=0.2, max_depth=13, min_child_weight=1, n_estimators=250, scale_pos_weight=2, subsample=0.5; total time= 1.7min\n",
      "[CV] END alpha=0.1, colsample_bylevel=0.7, colsample_bytree=0.6, gamma=15, learning_rate=0.01, max_depth=5, min_child_weight=5, n_estimators=100, scale_pos_weight=4, subsample=0.8999999999999999; total time=  23.3s\n",
      "[CV] END alpha=0.01, colsample_bylevel=0.7, colsample_bytree=0.7999999999999999, gamma=13, learning_rate=0.3, max_depth=13, min_child_weight=5, n_estimators=100, scale_pos_weight=4, subsample=0.7; total time=  59.5s\n",
      "[CV] END alpha=0.01, colsample_bylevel=0.7, colsample_bytree=0.8999999999999999, gamma=2, learning_rate=0.01, max_depth=13, min_child_weight=3, n_estimators=250, scale_pos_weight=3, subsample=0.5; total time= 2.4min\n",
      "[CV] END alpha=1, colsample_bylevel=0.8999999999999999, colsample_bytree=0.7999999999999999, gamma=3, learning_rate=0.1, max_depth=5, min_child_weight=1, n_estimators=500, scale_pos_weight=2, subsample=0.7; total time= 2.9min\n",
      "[CV] END alpha=1e-05, colsample_bylevel=0.5, colsample_bytree=0.7999999999999999, gamma=18, learning_rate=0.2, max_depth=13, min_child_weight=1, n_estimators=250, scale_pos_weight=2, subsample=0.5; total time= 1.7min\n",
      "[CV] END alpha=10, colsample_bylevel=0.5, colsample_bytree=0.7, gamma=23, learning_rate=0.2, max_depth=5, min_child_weight=5, n_estimators=100, scale_pos_weight=4, subsample=0.7999999999999999; total time=  17.0s\n",
      "[CV] END alpha=0.01, colsample_bylevel=0.6, colsample_bytree=0.6, gamma=24, learning_rate=0.2, max_depth=9, min_child_weight=1, n_estimators=100, scale_pos_weight=2, subsample=0.5; total time=  27.1s\n",
      "[CV] END alpha=0.1, colsample_bylevel=0.6, colsample_bytree=0.7999999999999999, gamma=19, learning_rate=0.01, max_depth=5, min_child_weight=5, n_estimators=500, scale_pos_weight=3, subsample=0.6; total time= 1.9min\n",
      "[CV] END alpha=100, colsample_bylevel=0.7, colsample_bytree=0.8999999999999999, gamma=3, learning_rate=0.01, max_depth=11, min_child_weight=3, n_estimators=250, scale_pos_weight=1, subsample=0.7; total time= 2.4min\n",
      "[CV] END alpha=50, colsample_bylevel=0.7999999999999999, colsample_bytree=0.7, gamma=19, learning_rate=0.01, max_depth=11, min_child_weight=3, n_estimators=500, scale_pos_weight=4, subsample=0.5; total time= 3.6min\n"
     ]
    }
   ],
   "source": [
    "xg_clf_tuned_g=XGBClassifier(subsample=0.7,scale_pos_weight=2,n_estimators=500,min_child_weight=1,max_depth=5,learning_rate=0.1,\n",
    "                     gamma=3,colsample_bytree=0.79,colsample_bylevel=0.89,alpha=1)\n",
    "xg_clf_tuned_g.fit(glove_train_vectors,y_train)\n",
    "\n",
    "pred = xg_clf_tuned_g.predict(glove_test_vectors)\n",
    "print(\"Accuracy score : {}\".format(accuracy_score(y_test, pred)))\n",
    "print(\"Confusion matrix : \\n {}\".format(confusion_matrix(y_test, pred)))\n",
    "print(\"Classification Report\")\n",
    "print(classification_report(y_test, pred))\n",
    "print(\"F1 score :\")\n",
    "print(f1_score(y_test, pred))"
   ]
  },
  {
   "cell_type": "code",
   "execution_count": null,
   "id": "3355068c",
   "metadata": {},
   "outputs": [],
   "source": []
  },
  {
   "cell_type": "code",
   "execution_count": null,
   "id": "07988122",
   "metadata": {},
   "outputs": [],
   "source": []
  },
  {
   "cell_type": "markdown",
   "id": "4697b144",
   "metadata": {},
   "source": [
    "### Naiva Bayes"
   ]
  },
  {
   "cell_type": "code",
   "execution_count": 145,
   "id": "9bbbc428",
   "metadata": {},
   "outputs": [
    {
     "name": "stdout",
     "output_type": "stream",
     "text": [
      "Accuracy score : 0.7520255340044193\n",
      "Confusion matrix : \n",
      " [[3063    0]\n",
      " [1010    0]]\n",
      "Classification Report\n",
      "              precision    recall  f1-score   support\n",
      "\n",
      "           0       0.75      1.00      0.86      3063\n",
      "           1       0.00      0.00      0.00      1010\n",
      "\n",
      "    accuracy                           0.75      4073\n",
      "   macro avg       0.38      0.50      0.43      4073\n",
      "weighted avg       0.57      0.75      0.65      4073\n",
      "\n"
     ]
    }
   ],
   "source": [
    "from sklearn.preprocessing import MinMaxScaler\n",
    "from sklearn.naive_bayes import GaussianNB\n",
    "nb_clf=GaussianNB()\n",
    "#p = Pipeline([('Normalizing',MinMaxScaler()),('MultinomialNB',MultinomialNB())])\n",
    "nb_clf.fit(glove_train_vectors,y_train) \n",
    "\n",
    "pred = nb_clf.predict(glove_test_vectors)\n",
    "print(\"Accuracy score : {}\".format(accuracy_score(y_test, pred)))\n",
    "print(\"Confusion matrix : \\n {}\".format(confusion_matrix(y_test, pred)))\n",
    "print(\"Classification Report\")\n",
    "print(classification_report(y_test, pred))"
   ]
  },
  {
   "cell_type": "markdown",
   "id": "26debaa3",
   "metadata": {},
   "source": [
    "#### HYperparameter Tuning"
   ]
  },
  {
   "cell_type": "code",
   "execution_count": 157,
   "id": "46cd5b25",
   "metadata": {},
   "outputs": [
    {
     "name": "stdout",
     "output_type": "stream",
     "text": [
      "{'var_smoothing': [1e-05, 0.0001, 0.001, 0.1, 1, 10, 100, 1000]}\n"
     ]
    }
   ],
   "source": [
    "# Create the random grid\n",
    "random_grid = {\n",
    "    'var_smoothing': [0.00001, 0.0001, 0.001, 0.1, 1, 10, 100,1000]\n",
    "#    # 'class_prior':[True,False],\n",
    "#     'fit_prior':[True,False]\n",
    "              }\n",
    "pprint(random_grid)"
   ]
  },
  {
   "cell_type": "code",
   "execution_count": 158,
   "id": "fe092078",
   "metadata": {},
   "outputs": [
    {
     "name": "stdout",
     "output_type": "stream",
     "text": [
      "Fitting 3 folds for each of 8 candidates, totalling 24 fits\n"
     ]
    },
    {
     "data": {
      "text/plain": [
       "RandomizedSearchCV(cv=3, estimator=GaussianNB(), n_iter=100, n_jobs=-1,\n",
       "                   param_distributions={'var_smoothing': [1e-05, 0.0001, 0.001,\n",
       "                                                          0.1, 1, 10, 100,\n",
       "                                                          1000]},\n",
       "                   random_state=42, return_train_score=True, verbose=2)"
      ]
     },
     "execution_count": 158,
     "metadata": {},
     "output_type": "execute_result"
    }
   ],
   "source": [
    "\n",
    "nb_clf1=GaussianNB()\n",
    "\n",
    "\n",
    "rf_random = RandomizedSearchCV(estimator=nb_clf1, param_distributions=random_grid,\n",
    "                              n_iter = 100, \n",
    "                              cv = 3, verbose=2, random_state=42, n_jobs=-1,\n",
    "                              return_train_score=True)\n",
    "\n",
    "\n",
    "# Fit the random search model\n",
    "rf_random.fit(glove_train_vectors,y_train)"
   ]
  },
  {
   "cell_type": "code",
   "execution_count": 155,
   "id": "2bb39fc0",
   "metadata": {},
   "outputs": [
    {
     "data": {
      "text/plain": [
       "{'priors': None, 'var_smoothing': 1e-09}"
      ]
     },
     "execution_count": 155,
     "metadata": {},
     "output_type": "execute_result"
    }
   ],
   "source": [
    "nb_clf.get_params()"
   ]
  },
  {
   "cell_type": "code",
   "execution_count": 159,
   "id": "7cbd5f68",
   "metadata": {},
   "outputs": [
    {
     "data": {
      "text/plain": [
       "{'var_smoothing': 10}"
      ]
     },
     "execution_count": 159,
     "metadata": {},
     "output_type": "execute_result"
    }
   ],
   "source": [
    "rf_random.best_params_"
   ]
  },
  {
   "cell_type": "code",
   "execution_count": 163,
   "id": "59e39250",
   "metadata": {},
   "outputs": [
    {
     "name": "stdout",
     "output_type": "stream",
     "text": [
      "Accuracy score : 0.7520255340044193\n",
      "Confusion matrix : \n",
      " [[3063    0]\n",
      " [1010    0]]\n",
      "Classification Report\n",
      "              precision    recall  f1-score   support\n",
      "\n",
      "           0       0.75      1.00      0.86      3063\n",
      "           1       0.00      0.00      0.00      1010\n",
      "\n",
      "    accuracy                           0.75      4073\n",
      "   macro avg       0.38      0.50      0.43      4073\n",
      "weighted avg       0.57      0.75      0.65      4073\n",
      "\n",
      "F1 score :\n",
      "0.0\n"
     ]
    }
   ],
   "source": [
    "nb_clf_tuned_g=GaussianNB(var_smoothing=10)\n",
    "\n",
    "nb_clf_tuned_g.fit(glove_train_vectors,y_train)\n",
    "\n",
    "pred = nb_clf_tuned_g.predict(glove_test_vectors )\n",
    "print(\"Accuracy score : {}\".format(accuracy_score(y_test, pred)))\n",
    "print(\"Confusion matrix : \\n {}\".format(confusion_matrix(y_test, pred)))\n",
    "print(\"Classification Report\")\n",
    "print(classification_report(y_test, pred))\n",
    "print(\"F1 score :\")\n",
    "print(f1_score(y_test, pred))"
   ]
  },
  {
   "cell_type": "code",
   "execution_count": null,
   "id": "8b9afe70",
   "metadata": {},
   "outputs": [],
   "source": []
  },
  {
   "cell_type": "markdown",
   "id": "07a06350",
   "metadata": {},
   "source": [
    "### Logistic Regression"
   ]
  },
  {
   "cell_type": "code",
   "execution_count": 164,
   "id": "9938e179",
   "metadata": {},
   "outputs": [],
   "source": [
    "from sklearn.linear_model import LogisticRegression"
   ]
  },
  {
   "cell_type": "code",
   "execution_count": 165,
   "id": "dd9d95af",
   "metadata": {},
   "outputs": [
    {
     "name": "stdout",
     "output_type": "stream",
     "text": [
      "Accuracy score : 0.8251902774367788\n",
      "Confusion matrix : \n",
      " [[2947  116]\n",
      " [ 596  414]]\n",
      "Classification Report\n",
      "              precision    recall  f1-score   support\n",
      "\n",
      "           0       0.83      0.96      0.89      3063\n",
      "           1       0.78      0.41      0.54      1010\n",
      "\n",
      "    accuracy                           0.83      4073\n",
      "   macro avg       0.81      0.69      0.71      4073\n",
      "weighted avg       0.82      0.83      0.80      4073\n",
      "\n"
     ]
    }
   ],
   "source": [
    "logticreg_clf=LogisticRegression()\n",
    "\n",
    "logticreg_clf.fit(glove_train_vectors,y_train)\n",
    "\n",
    "pred = logticreg_clf.predict(glove_test_vectors)\n",
    "print(\"Accuracy score : {}\".format(accuracy_score(y_test, pred)))\n",
    "print(\"Confusion matrix : \\n {}\".format(confusion_matrix(y_test, pred)))\n",
    "print(\"Classification Report\")\n",
    "print(classification_report(y_test, pred))"
   ]
  },
  {
   "cell_type": "markdown",
   "id": "21ad942f",
   "metadata": {},
   "source": [
    "#### HYperparameter Tuning"
   ]
  },
  {
   "cell_type": "code",
   "execution_count": 166,
   "id": "35b59595",
   "metadata": {},
   "outputs": [
    {
     "name": "stdout",
     "output_type": "stream",
     "text": [
      "{'C': [100, 10, 1.0, 0.1, 0.01],\n",
      " 'penalty': ['l1', 'l2', 'elasticnet'],\n",
      " 'solver': ['newton-cg', 'lbfgs', 'liblinear', 'sag', 'saga']}\n"
     ]
    }
   ],
   "source": [
    "# Create the random grid\n",
    "random_grid = {\n",
    "    'solver': ['newton-cg', 'lbfgs', 'liblinear', 'sag', 'saga'],\n",
    "     'C':[100, 10, 1.0, 0.1, 0.01],\n",
    "    'penalty':['l1','l2','elasticnet']\n",
    "              }\n",
    "pprint(random_grid)"
   ]
  },
  {
   "cell_type": "code",
   "execution_count": 167,
   "id": "76182aa4",
   "metadata": {},
   "outputs": [
    {
     "name": "stdout",
     "output_type": "stream",
     "text": [
      "Fitting 3 folds for each of 75 candidates, totalling 225 fits\n"
     ]
    },
    {
     "data": {
      "text/plain": [
       "RandomizedSearchCV(cv=3, estimator=LogisticRegression(), n_iter=100, n_jobs=-1,\n",
       "                   param_distributions={'C': [100, 10, 1.0, 0.1, 0.01],\n",
       "                                        'penalty': ['l1', 'l2', 'elasticnet'],\n",
       "                                        'solver': ['newton-cg', 'lbfgs',\n",
       "                                                   'liblinear', 'sag',\n",
       "                                                   'saga']},\n",
       "                   random_state=42, return_train_score=True, verbose=2)"
      ]
     },
     "execution_count": 167,
     "metadata": {},
     "output_type": "execute_result"
    }
   ],
   "source": [
    "\n",
    "logticreg_clf_tuned=LogisticRegression()\n",
    "\n",
    "\n",
    "rf_random = RandomizedSearchCV(estimator=logticreg_clf_tuned, param_distributions=random_grid,\n",
    "                              n_iter = 100, \n",
    "                              cv = 3, verbose=2, random_state=42, n_jobs=-1,\n",
    "                              return_train_score=True)\n",
    "\n",
    "\n",
    "# Fit the random search model\n",
    "rf_random.fit(glove_train_vectors,y_train)"
   ]
  },
  {
   "cell_type": "code",
   "execution_count": 168,
   "id": "ee492629",
   "metadata": {},
   "outputs": [
    {
     "data": {
      "text/plain": [
       "{'solver': 'liblinear', 'penalty': 'l1', 'C': 10}"
      ]
     },
     "execution_count": 168,
     "metadata": {},
     "output_type": "execute_result"
    }
   ],
   "source": [
    "rf_random.best_params_"
   ]
  },
  {
   "cell_type": "markdown",
   "id": "2536836d",
   "metadata": {},
   "source": [
    "### Using Best Params"
   ]
  },
  {
   "cell_type": "code",
   "execution_count": 170,
   "id": "b2154289",
   "metadata": {},
   "outputs": [
    {
     "name": "stdout",
     "output_type": "stream",
     "text": [
      "Accuracy score : 0.8256813159833047\n",
      "Confusion matrix : \n",
      " [[2902  161]\n",
      " [ 549  461]]\n",
      "Classification Report\n",
      "              precision    recall  f1-score   support\n",
      "\n",
      "           0       0.84      0.95      0.89      3063\n",
      "           1       0.74      0.46      0.56      1010\n",
      "\n",
      "    accuracy                           0.83      4073\n",
      "   macro avg       0.79      0.70      0.73      4073\n",
      "weighted avg       0.82      0.83      0.81      4073\n",
      "\n",
      "F1 score :\n",
      "0.564950980392157\n"
     ]
    }
   ],
   "source": [
    "logticreg_clf_tuned_g=LogisticRegression(solver='liblinear',penalty='l1',C=10)\n",
    "\n",
    "logticreg_clf_tuned_g.fit(glove_train_vectors,y_train)\n",
    "\n",
    "pred = logticreg_clf_tuned_g.predict(glove_test_vectors)\n",
    "print(\"Accuracy score : {}\".format(accuracy_score(y_test, pred)))\n",
    "print(\"Confusion matrix : \\n {}\".format(confusion_matrix(y_test, pred)))\n",
    "print(\"Classification Report\")\n",
    "print(classification_report(y_test, pred))\n",
    "print(\"F1 score :\")\n",
    "print(f1_score(y_test, pred))"
   ]
  },
  {
   "cell_type": "code",
   "execution_count": null,
   "id": "bfda191f",
   "metadata": {},
   "outputs": [],
   "source": []
  },
  {
   "cell_type": "markdown",
   "id": "72c86d3d",
   "metadata": {},
   "source": [
    "### Consolidating all classifiers accuracy scores"
   ]
  },
  {
   "cell_type": "code",
   "execution_count": 171,
   "id": "4dcb9a32",
   "metadata": {},
   "outputs": [],
   "source": [
    "classifiers = [('Logistic Regression',logticreg_clf_tuned_g),('Naive Bayes',nb_clf_tuned_g),('Xgboost',xg_clf_tuned_g),\n",
    "              ('KNN',knn_clf_tuned_g),('Random Forest',rf_clf_tuned_g),(\"SVM\",svm_clf_tuned_g)]"
   ]
  },
  {
   "cell_type": "code",
   "execution_count": 173,
   "id": "44c843bd",
   "metadata": {},
   "outputs": [
    {
     "data": {
      "text/html": [
       "<div>\n",
       "<style scoped>\n",
       "    .dataframe tbody tr th:only-of-type {\n",
       "        vertical-align: middle;\n",
       "    }\n",
       "\n",
       "    .dataframe tbody tr th {\n",
       "        vertical-align: top;\n",
       "    }\n",
       "\n",
       "    .dataframe thead th {\n",
       "        text-align: right;\n",
       "    }\n",
       "</style>\n",
       "<table border=\"1\" class=\"dataframe\">\n",
       "  <thead>\n",
       "    <tr style=\"text-align: right;\">\n",
       "      <th></th>\n",
       "      <th>Accuracy</th>\n",
       "      <th>Precision</th>\n",
       "      <th>Recall</th>\n",
       "      <th>F1 Score</th>\n",
       "      <th>roc_auc_score</th>\n",
       "    </tr>\n",
       "  </thead>\n",
       "  <tbody>\n",
       "    <tr>\n",
       "      <th>Xgboost</th>\n",
       "      <td>0.852443</td>\n",
       "      <td>0.82</td>\n",
       "      <td>0.591089</td>\n",
       "      <td>0.67</td>\n",
       "      <td>0.867570</td>\n",
       "    </tr>\n",
       "    <tr>\n",
       "      <th>SVM</th>\n",
       "      <td>0.851952</td>\n",
       "      <td>0.82</td>\n",
       "      <td>0.572277</td>\n",
       "      <td>0.66</td>\n",
       "      <td>0.864249</td>\n",
       "    </tr>\n",
       "    <tr>\n",
       "      <th>Random Forest</th>\n",
       "      <td>0.826663</td>\n",
       "      <td>0.85</td>\n",
       "      <td>0.343564</td>\n",
       "      <td>0.50</td>\n",
       "      <td>0.839567</td>\n",
       "    </tr>\n",
       "    <tr>\n",
       "      <th>Logistic Regression</th>\n",
       "      <td>0.825681</td>\n",
       "      <td>0.79</td>\n",
       "      <td>0.456436</td>\n",
       "      <td>0.56</td>\n",
       "      <td>0.823835</td>\n",
       "    </tr>\n",
       "    <tr>\n",
       "      <th>KNN</th>\n",
       "      <td>0.817825</td>\n",
       "      <td>0.80</td>\n",
       "      <td>0.382178</td>\n",
       "      <td>0.51</td>\n",
       "      <td>0.811306</td>\n",
       "    </tr>\n",
       "    <tr>\n",
       "      <th>Naive Bayes</th>\n",
       "      <td>0.752026</td>\n",
       "      <td>0.38</td>\n",
       "      <td>0.000000</td>\n",
       "      <td>0.00</td>\n",
       "      <td>0.697570</td>\n",
       "    </tr>\n",
       "  </tbody>\n",
       "</table>\n",
       "</div>"
      ],
      "text/plain": [
       "                     Accuracy  Precision    Recall  F1 Score  roc_auc_score\n",
       "Xgboost              0.852443       0.82  0.591089      0.67       0.867570\n",
       "SVM                  0.851952       0.82  0.572277      0.66       0.864249\n",
       "Random Forest        0.826663       0.85  0.343564      0.50       0.839567\n",
       "Logistic Regression  0.825681       0.79  0.456436      0.56       0.823835\n",
       "KNN                  0.817825       0.80  0.382178      0.51       0.811306\n",
       "Naive Bayes          0.752026       0.38  0.000000      0.00       0.697570"
      ]
     },
     "execution_count": 173,
     "metadata": {},
     "output_type": "execute_result"
    }
   ],
   "source": [
    "df_model_scores=model_comparison_table(glove_test_vectors,y_test,classifiers)\n",
    "df_model_scores.head(20).T.sort_values(by='Accuracy', ascending=False)"
   ]
  },
  {
   "cell_type": "code",
   "execution_count": null,
   "id": "2feb44eb",
   "metadata": {},
   "outputs": [],
   "source": []
  }
 ],
 "metadata": {
  "kernelspec": {
   "display_name": "Python 3",
   "language": "python",
   "name": "python3"
  },
  "language_info": {
   "codemirror_mode": {
    "name": "ipython",
    "version": 3
   },
   "file_extension": ".py",
   "mimetype": "text/x-python",
   "name": "python",
   "nbconvert_exporter": "python",
   "pygments_lexer": "ipython3",
   "version": "3.7.11"
  }
 },
 "nbformat": 4,
 "nbformat_minor": 5
}
