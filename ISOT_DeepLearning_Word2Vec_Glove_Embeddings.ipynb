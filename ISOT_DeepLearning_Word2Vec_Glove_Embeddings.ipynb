{
 "cells": [
  {
   "cell_type": "code",
   "execution_count": 1,
   "id": "5c0833c0",
   "metadata": {},
   "outputs": [
    {
     "name": "stderr",
     "output_type": "stream",
     "text": [
      "2022-06-21 10:44:36.062014: I tensorflow/core/util/util.cc:169] oneDNN custom operations are on. You may see slightly different numerical results due to floating-point round-off errors from different computation orders. To turn them off, set the environment variable `TF_ENABLE_ONEDNN_OPTS=0`.\n",
      "2022-06-21 10:44:36.067014: W tensorflow/stream_executor/platform/default/dso_loader.cc:64] Could not load dynamic library 'libcudart.so.11.0'; dlerror: libcudart.so.11.0: cannot open shared object file: No such file or directory; LD_LIBRARY_PATH: /gpfs/software/ada/python/anaconda/2020.11/3.8/lib:/gpfs/software/ada/cuda/10.2.89/lib64:/gpfs/software/ada/cuda/10.2.89/lib/lib64\n",
      "2022-06-21 10:44:36.067031: I tensorflow/stream_executor/cuda/cudart_stub.cc:29] Ignore above cudart dlerror if you do not have a GPU set up on your machine.\n",
      "[nltk_data] Downloading package omw-1.4 to\n",
      "[nltk_data]     /gpfs/home/psc21zcu/nltk_data...\n",
      "[nltk_data]   Package omw-1.4 is already up-to-date!\n",
      "[nltk_data] Downloading package stopwords to\n",
      "[nltk_data]     /gpfs/home/psc21zcu/nltk_data...\n",
      "[nltk_data]   Package stopwords is already up-to-date!\n",
      "[nltk_data] Downloading package punkt to\n",
      "[nltk_data]     /gpfs/home/psc21zcu/nltk_data...\n",
      "[nltk_data]   Package punkt is already up-to-date!\n",
      "[nltk_data] Downloading package averaged_perceptron_tagger to\n",
      "[nltk_data]     /gpfs/home/psc21zcu/nltk_data...\n",
      "[nltk_data]   Package averaged_perceptron_tagger is already up-to-\n",
      "[nltk_data]       date!\n",
      "[nltk_data] Downloading package wordnet to\n",
      "[nltk_data]     /gpfs/home/psc21zcu/nltk_data...\n",
      "[nltk_data]   Package wordnet is already up-to-date!\n"
     ]
    }
   ],
   "source": [
    "import numpy as np\n",
    "import pandas as pd\n",
    "import warnings\n",
    "%matplotlib inline\n",
    "import matplotlib.pyplot as plt\n",
    "import seaborn as sns\n",
    "import glob\n",
    "import json\n",
    "import tensorflow_hub as hub\n",
    "import tensorflow_text\n",
    "import tldextract  \n",
    "import warnings\n",
    "warnings.filterwarnings('ignore')\n",
    "\n",
    "from bs4 import BeautifulSoup\n",
    "from sklearn.model_selection import train_test_split,StratifiedKFold,RandomizedSearchCV\n",
    "from sklearn.metrics import classification_report,confusion_matrix,accuracy_score,roc_curve, roc_auc_score,f1_score,precision_score, recall_score\n",
    "from sklearn.feature_extraction.text import TfidfVectorizer,CountVectorizer\n",
    "from imblearn.over_sampling import SMOTE,ADASYN\n",
    "from sklearn.pipeline import Pipeline\n",
    "from sklearn.ensemble import RandomForestClassifier\n",
    "from sklearn.svm import SVC\n",
    "from sklearn.neighbors import KNeighborsClassifier\n",
    "from sklearn.naive_bayes import GaussianNB,MultinomialNB\n",
    "from xgboost import XGBClassifier\n",
    "from sklearn.linear_model import LogisticRegression\n",
    "import re\n",
    "\n",
    "from collections import Counter\n",
    "import nltk \n",
    "import spacy\n",
    "nltk.download('omw-1.4')\n",
    "nltk.download('stopwords')\n",
    "nltk.download('punkt')\n",
    "nltk.download('averaged_perceptron_tagger')\n",
    "nltk.download('wordnet')\n",
    "\n",
    "from wordcloud import WordCloud, ImageColorGenerator,STOPWORDS\n",
    "import gensim\n",
    "from gensim.parsing.preprocessing import STOPWORDS as gensim_stopwords\n",
    "import copy\n",
    "from nltk.stem import PorterStemmer\n",
    "from nltk.corpus import stopwords,wordnet\n",
    "from nltk.tokenize import word_tokenize\n",
    "from nltk.stem import WordNetLemmatizer,LancasterStemmer\n",
    "from pprint import pprint\n",
    "\n",
    "\n",
    "import tensorflow as tf\n",
    "import bert\n",
    "from tensorflow.keras.models import  Model\n",
    "from tqdm import tqdm\n",
    "import tensorflow_hub as hub\n",
    "from tensorflow.keras.models import Sequential\n",
    "from tensorflow.keras import layers\n",
    "from tensorflow.keras.preprocessing.text import Tokenizer\n",
    "from tensorflow.keras.preprocessing.sequence import pad_sequences\n",
    "from tensorflow.keras.wrappers.scikit_learn import KerasClassifier\n",
    "from tensorflow.keras.layers import Dense, Dropout, Activation,Embedding,Flatten,LSTM,Bidirectional\n",
    "from tensorflow.keras.layers import Reshape,Conv1D, MaxPooling1D, Concatenate,BatchNormalization,GlobalMaxPooling1D\n",
    "from tensorflow.keras.callbacks import ModelCheckpoint,EarlyStopping\n",
    "from keras.backend import clear_session\n",
    "\n",
    "\n",
    "\n",
    "pd.set_option('display.max_rows', 500)\n",
    "pd.set_option('display.max_columns', 500)\n",
    "pd.set_option('display.width', 1000)\n",
    "pd.set_option('display.expand_frame_repr', False)\n",
    "pd.set_option('display.max_colwidth', 200)\n",
    "\n",
    "import warnings\n",
    "warnings.filterwarnings('ignore')"
   ]
  },
  {
   "cell_type": "markdown",
   "id": "9c96b29b",
   "metadata": {},
   "source": [
    "#### Loading the ISOT Full Dataset  -- After combined fake and real news  in the previous notebook   \"ISOT_ML_Classifiers_TfiDF_Tokeniser\""
   ]
  },
  {
   "cell_type": "code",
   "execution_count": 65,
   "id": "aa94991f",
   "metadata": {},
   "outputs": [],
   "source": [
    "isot_full_df = pd.read_csv(\"Updated//ISOT_Combined_FullData.csv\")"
   ]
  },
  {
   "cell_type": "code",
   "execution_count": 66,
   "id": "063b675d",
   "metadata": {},
   "outputs": [],
   "source": [
    "df = isot_full_df[isot_full_df['fulltext'].notna()]"
   ]
  },
  {
   "cell_type": "code",
   "execution_count": 67,
   "id": "6b6dc9a0",
   "metadata": {},
   "outputs": [
    {
     "data": {
      "text/plain": [
       "(38270, 8)"
      ]
     },
     "execution_count": 67,
     "metadata": {},
     "output_type": "execute_result"
    }
   ],
   "source": [
    "df.shape"
   ]
  },
  {
   "cell_type": "code",
   "execution_count": 5,
   "id": "09d52fed",
   "metadata": {},
   "outputs": [
    {
     "data": {
      "text/plain": [
       "0"
      ]
     },
     "execution_count": 5,
     "metadata": {},
     "output_type": "execute_result"
    }
   ],
   "source": [
    "df['fulltext'].isnull().sum()"
   ]
  },
  {
   "cell_type": "code",
   "execution_count": 6,
   "id": "afa6fb29",
   "metadata": {},
   "outputs": [],
   "source": [
    "## Shuffling the rows\n",
    "df = df.sample(frac=1).reset_index(drop=True)"
   ]
  },
  {
   "cell_type": "code",
   "execution_count": 7,
   "id": "7e0bf0ff",
   "metadata": {},
   "outputs": [],
   "source": [
    "# Clean data using the built in cleaner in gensim\n",
    "df['cleantext'] = df['fulltext'].apply(lambda x: gensim.utils.simple_preprocess(x))\n",
    "#df.head(1)"
   ]
  },
  {
   "cell_type": "code",
   "execution_count": 8,
   "id": "38387feb",
   "metadata": {},
   "outputs": [],
   "source": [
    "X=df['cleantext']\n",
    "y=df['class']"
   ]
  },
  {
   "cell_type": "markdown",
   "id": "8d564fda",
   "metadata": {},
   "source": [
    "### Train and Test Split"
   ]
  },
  {
   "cell_type": "code",
   "execution_count": 9,
   "id": "0ebfe54f",
   "metadata": {},
   "outputs": [],
   "source": [
    "X_train, X_test, y_train, y_test = train_test_split(X, y, test_size=0.2,stratify=y, random_state=0)"
   ]
  },
  {
   "cell_type": "code",
   "execution_count": 10,
   "id": "4a2da72b",
   "metadata": {},
   "outputs": [
    {
     "name": "stdout",
     "output_type": "stream",
     "text": [
      "7912\n"
     ]
    }
   ],
   "source": [
    "# now since we will have to pad we need to find the maximum lenght of any document.\n",
    "\n",
    "maxi=-1\n",
    "for i,sent in enumerate(df['cleantext']):\n",
    "    if(len(sent)>maxi):\n",
    "        maxi=len(sent)\n",
    "print(maxi)"
   ]
  },
  {
   "cell_type": "code",
   "execution_count": 11,
   "id": "b25ceca6",
   "metadata": {},
   "outputs": [
    {
     "name": "stdout",
     "output_type": "stream",
     "text": [
      "Maximum Length of the sequence :  7912\n"
     ]
    }
   ],
   "source": [
    "print(\"Maximum Length of the sequence : \",maxi)"
   ]
  },
  {
   "cell_type": "markdown",
   "id": "932e124f",
   "metadata": {},
   "source": [
    "#### Now we integer encode the words in the reviews using Keras tokenizer."
   ]
  },
  {
   "cell_type": "code",
   "execution_count": 12,
   "id": "8212583c",
   "metadata": {},
   "outputs": [],
   "source": [
    "tokenzr = Tokenizer()"
   ]
  },
  {
   "cell_type": "code",
   "execution_count": 13,
   "id": "867ae5c5",
   "metadata": {},
   "outputs": [],
   "source": [
    "tokenzr.fit_on_texts(X_train)\n",
    "vocab_size = len(tokenzr.word_index) + 1\n",
    "encd_train = tokenzr.texts_to_sequences(X_train)"
   ]
  },
  {
   "cell_type": "code",
   "execution_count": 14,
   "id": "045a9ba6",
   "metadata": {},
   "outputs": [],
   "source": [
    "encd_test = tokenzr.texts_to_sequences(X_test)"
   ]
  },
  {
   "cell_type": "markdown",
   "id": "26a29eba",
   "metadata": {},
   "source": [
    "##### Configuration Setting"
   ]
  },
  {
   "cell_type": "code",
   "execution_count": 15,
   "id": "00d24426",
   "metadata": {},
   "outputs": [
    {
     "name": "stdout",
     "output_type": "stream",
     "text": [
      "102681\n"
     ]
    }
   ],
   "source": [
    "print(len(tokenzr.word_index))"
   ]
  },
  {
   "cell_type": "code",
   "execution_count": 16,
   "id": "51aad461",
   "metadata": {},
   "outputs": [],
   "source": [
    "maxi=2000  # max lenght of a review\n",
    "vocab_size = len(tokenzr.word_index) + 1  # total no of words\n",
    "embed_dim=300 # embedding dimension as choosen in word2vec constructor"
   ]
  },
  {
   "cell_type": "code",
   "execution_count": 17,
   "id": "f75db92a",
   "metadata": {},
   "outputs": [
    {
     "data": {
      "text/plain": [
       "(30616, 2000)"
      ]
     },
     "execution_count": 17,
     "metadata": {},
     "output_type": "execute_result"
    }
   ],
   "source": [
    "# now padding to have a maximum length of 17351\n",
    "pad_train= pad_sequences(encd_train, maxlen=maxi, padding='post')\n",
    "pad_train.shape   "
   ]
  },
  {
   "cell_type": "code",
   "execution_count": 18,
   "id": "22873047",
   "metadata": {},
   "outputs": [
    {
     "data": {
      "text/plain": [
       "(7654, 2000)"
      ]
     },
     "execution_count": 18,
     "metadata": {},
     "output_type": "execute_result"
    }
   ],
   "source": [
    "# now padding to have a maximum length of 1565\n",
    "pad_test= pad_sequences(encd_test, maxlen=maxi, padding='post')\n",
    "pad_test.shape"
   ]
  },
  {
   "cell_type": "code",
   "execution_count": 32,
   "id": "96e21a5d",
   "metadata": {},
   "outputs": [],
   "source": [
    "import matplotlib.pyplot as plt\n",
    "\n",
    "\n",
    "def plot_loss_and_acc(history):\n",
    "    train_loss = history.history[\"loss\"]\n",
    "    train_acc = history.history[\"accuracy\"]\n",
    "    val_loss = history.history[\"val_loss\"]\n",
    "    val_acc = history.history[\"val_accuracy\"]\n",
    "\n",
    "    fig = plt.figure(figsize=(12,5))\n",
    "\n",
    "    ax = fig.add_subplot(121)\n",
    "    ax.plot(range(len(train_loss)), train_loss, label=\"Train Loss\");\n",
    "    ax.plot(range(len(val_loss)), val_loss, label=\"Validation Loss\");\n",
    "    plt.xlabel(\"Epochs\"); plt.ylabel(\"Loss\");\n",
    "    plt.title(\"Train Loss vs Validation Loss\");\n",
    "    plt.legend(loc=\"best\");\n",
    "\n",
    "    ax = fig.add_subplot(122)\n",
    "    ax.plot(range(len(train_acc)), train_acc, label=\"Train Accuracy\");\n",
    "    ax.plot(range(len(val_acc)), val_acc, label=\"Validation Accuracy\");\n",
    "    plt.xlabel(\"Epochs\"); plt.ylabel(\"Accuracy\");\n",
    "    plt.title(\"Train Accuracy vs Validation Accuracy\");\n",
    "    plt.legend(loc=\"best\");\n"
   ]
  },
  {
   "cell_type": "markdown",
   "id": "fc0ec1eb",
   "metadata": {},
   "source": [
    "## Pretrained Word2vec model"
   ]
  },
  {
   "cell_type": "code",
   "execution_count": 22,
   "id": "68804411",
   "metadata": {},
   "outputs": [],
   "source": [
    "# !wget -P /root/input/ -c \"https://s3.amazonaws.com/dl4j-distribution/GoogleNews-vectors-negative300.bin.gz\""
   ]
  },
  {
   "cell_type": "code",
   "execution_count": 23,
   "id": "f1f1f412",
   "metadata": {},
   "outputs": [],
   "source": [
    "path_to_model = 'Embeddings//GoogleNews-vectors-negative300.bin'"
   ]
  },
  {
   "cell_type": "code",
   "execution_count": 24,
   "id": "66824bf5",
   "metadata": {},
   "outputs": [
    {
     "name": "stdout",
     "output_type": "stream",
     "text": [
      "CPU times: user 18.8 s, sys: 1.57 s, total: 20.4 s\n",
      "Wall time: 20.4 s\n",
      "done loading Word2Vec\n"
     ]
    }
   ],
   "source": [
    "from gensim.models.keyedvectors import KeyedVectors\n",
    "%time w2v_model_pretrained = KeyedVectors.load_word2vec_format(path_to_model, binary=True)\n",
    "print('done loading Word2Vec')"
   ]
  },
  {
   "cell_type": "code",
   "execution_count": 25,
   "id": "0d3c1be0",
   "metadata": {},
   "outputs": [],
   "source": [
    "#Inspect the model\n",
    "#word2vec_vocab = list(w2v_model.index_to_key)"
   ]
  },
  {
   "cell_type": "code",
   "execution_count": 26,
   "id": "d2a5976c",
   "metadata": {},
   "outputs": [
    {
     "name": "stdout",
     "output_type": "stream",
     "text": [
      "The total number of words are :  3000000\n"
     ]
    }
   ],
   "source": [
    "# total numberof extracted words.\n",
    "word2vec_vocab=w2v_model_pretrained.index_to_key\n",
    "print(\"The total number of words are : \",len(word2vec_vocab))"
   ]
  },
  {
   "cell_type": "code",
   "execution_count": 27,
   "id": "ae0511bc",
   "metadata": {},
   "outputs": [],
   "source": [
    "word2vec_vocab_lower = [item.lower() for item in word2vec_vocab]"
   ]
  },
  {
   "cell_type": "markdown",
   "id": "e3a4deda",
   "metadata": {},
   "source": [
    "#### Finding out the vocabulary count"
   ]
  },
  {
   "cell_type": "code",
   "execution_count": 28,
   "id": "4fa1076c",
   "metadata": {},
   "outputs": [
    {
     "name": "stdout",
     "output_type": "stream",
     "text": [
      "The no of key-value pairs :  3000000\n"
     ]
    }
   ],
   "source": [
    "word_vec_dict_pre={}\n",
    "for word in word2vec_vocab:\n",
    "    word_vec_dict_pre[word]=w2v_model_pretrained.get_vector(word)\n",
    "print(\"The no of key-value pairs : \",len(word_vec_dict_pre)) # should come equal to vocab size\n",
    "  "
   ]
  },
  {
   "cell_type": "markdown",
   "id": "2d62ca3a",
   "metadata": {},
   "source": [
    "#### Creation of Embedding matrix"
   ]
  },
  {
   "cell_type": "code",
   "execution_count": 29,
   "id": "88b084fc",
   "metadata": {},
   "outputs": [
    {
     "data": {
      "text/plain": [
       "300"
      ]
     },
     "execution_count": 29,
     "metadata": {},
     "output_type": "execute_result"
    }
   ],
   "source": [
    "embed_dim"
   ]
  },
  {
   "cell_type": "code",
   "execution_count": 30,
   "id": "9716c326",
   "metadata": {},
   "outputs": [],
   "source": [
    "# now creating the embedding matrix\n",
    "embedded_matrix_2=np.zeros(shape=(vocab_size,embed_dim))\n",
    "for word,i in tokenzr.word_index.items():\n",
    "    embedded_vec=word_vec_dict_pre.get(word)\n",
    "    if embedded_vec is not None:  # word is in the vocabulary learned by the w2v model\n",
    "        embedded_matrix_2[i]=embedded_vec"
   ]
  },
  {
   "cell_type": "markdown",
   "id": "3e6c96f2",
   "metadata": {},
   "source": [
    "### 1d CNN"
   ]
  },
  {
   "cell_type": "code",
   "execution_count": 32,
   "id": "b2b4ba52",
   "metadata": {},
   "outputs": [],
   "source": [
    "# Model Checkpoint and EarlyStopping\n",
    "filepath = \"Updated//model_ISOT_CNN_WORD2VEC_PRETRAINED.h5\" # Location to get the model\n",
    "checkpoint = ModelCheckpoint(filepath, monitor='loss', verbose=1, save_best_only=True, mode='min')\n",
    "es = EarlyStopping(monitor='val_loss', patience=3,mode='min', verbose=1)\n",
    "callbacks_list = [checkpoint,es]"
   ]
  },
  {
   "cell_type": "code",
   "execution_count": 35,
   "id": "2c7b6789",
   "metadata": {},
   "outputs": [
    {
     "name": "stdout",
     "output_type": "stream",
     "text": [
      "Model: \"sequential\"\n",
      "_________________________________________________________________\n",
      " Layer (type)                Output Shape              Param #   \n",
      "=================================================================\n",
      " embedding (Embedding)       (None, 10000, 300)        30904500  \n",
      "                                                                 \n",
      " conv1d (Conv1D)             (None, 9998, 128)         115328    \n",
      "                                                                 \n",
      " max_pooling1d (MaxPooling1D  (None, 4999, 128)        0         \n",
      " )                                                               \n",
      "                                                                 \n",
      " flatten (Flatten)           (None, 639872)            0         \n",
      "                                                                 \n",
      " dense (Dense)               (None, 128)               81903744  \n",
      "                                                                 \n",
      " dense_1 (Dense)             (None, 1)                 129       \n",
      "                                                                 \n",
      "=================================================================\n",
      "Total params: 112,923,701\n",
      "Trainable params: 112,923,701\n",
      "Non-trainable params: 0\n",
      "_________________________________________________________________\n",
      "None\n"
     ]
    }
   ],
   "source": [
    "clear_session()\n",
    "cnn_model=Sequential()\n",
    "cnn_model.add(Embedding(vocab_size,embed_dim,input_length=maxi))\n",
    "cnn_model.add(Conv1D(filters=128, kernel_size=3, padding='valid', activation='relu'))\n",
    "cnn_model.add(MaxPooling1D())\n",
    "cnn_model.add(Flatten())\n",
    "cnn_model.add(Dense(128, activation='relu'))\n",
    "cnn_model.add(Dense(1, activation='sigmoid'))\n",
    "# compile the model\n",
    "cnn_model.compile(optimizer='adam', loss='binary_crossentropy', metrics=['accuracy'])\n",
    "# summarize the model\n",
    "print(cnn_model.summary())"
   ]
  },
  {
   "cell_type": "code",
   "execution_count": 36,
   "id": "b459e5ec",
   "metadata": {},
   "outputs": [
    {
     "name": "stdout",
     "output_type": "stream",
     "text": [
      "Epoch 1/2\n",
      "WARNING:tensorflow:AutoGraph could not transform <function Model.make_train_function.<locals>.train_function at 0x2b5ffffa2d90> and will run it as-is.\n",
      "Please report this to the TensorFlow team. When filing the bug, set the verbosity to 10 (on Linux, `export AUTOGRAPH_VERBOSITY=10`) and attach the full output.\n",
      "Cause: 'arguments' object has no attribute 'posonlyargs'\n",
      "To silence this warning, decorate the function with @tf.autograph.experimental.do_not_convert\n",
      "WARNING: AutoGraph could not transform <function Model.make_train_function.<locals>.train_function at 0x2b5ffffa2d90> and will run it as-is.\n",
      "Please report this to the TensorFlow team. When filing the bug, set the verbosity to 10 (on Linux, `export AUTOGRAPH_VERBOSITY=10`) and attach the full output.\n",
      "Cause: 'arguments' object has no attribute 'posonlyargs'\n",
      "To silence this warning, decorate the function with @tf.autograph.experimental.do_not_convert\n",
      "192/192 [==============================] - ETA: 0s - loss: 0.3412 - accuracy: 0.8691WARNING:tensorflow:AutoGraph could not transform <function Model.make_test_function.<locals>.test_function at 0x2b5de7e8fb70> and will run it as-is.\n",
      "Please report this to the TensorFlow team. When filing the bug, set the verbosity to 10 (on Linux, `export AUTOGRAPH_VERBOSITY=10`) and attach the full output.\n",
      "Cause: 'arguments' object has no attribute 'posonlyargs'\n",
      "To silence this warning, decorate the function with @tf.autograph.experimental.do_not_convert\n",
      "WARNING: AutoGraph could not transform <function Model.make_test_function.<locals>.test_function at 0x2b5de7e8fb70> and will run it as-is.\n",
      "Please report this to the TensorFlow team. When filing the bug, set the verbosity to 10 (on Linux, `export AUTOGRAPH_VERBOSITY=10`) and attach the full output.\n",
      "Cause: 'arguments' object has no attribute 'posonlyargs'\n",
      "To silence this warning, decorate the function with @tf.autograph.experimental.do_not_convert\n",
      "\n",
      "Epoch 1: loss improved from inf to 0.34124, saving model to Updated/model_ISOT_CNN_WORD2VEC_PRETRAINED.h5\n",
      "192/192 [==============================] - 273s 1s/step - loss: 0.3412 - accuracy: 0.8691 - val_loss: 0.0328 - val_accuracy: 0.9902\n",
      "Epoch 2/2\n",
      "192/192 [==============================] - ETA: 0s - loss: 0.0104 - accuracy: 0.9968\n",
      "Epoch 2: loss improved from 0.34124 to 0.01043, saving model to Updated/model_ISOT_CNN_WORD2VEC_PRETRAINED.h5\n",
      "192/192 [==============================] - 290s 2s/step - loss: 0.0104 - accuracy: 0.9968 - val_loss: 0.0306 - val_accuracy: 0.9905\n"
     ]
    }
   ],
   "source": [
    "history_cnn_word2vec=cnn_model.fit(pad_train,y_train,epochs=2,batch_size=128,validation_split=0.2,shuffle=True, callbacks=callbacks_list) "
   ]
  },
  {
   "cell_type": "code",
   "execution_count": 41,
   "id": "8d09fd3c",
   "metadata": {},
   "outputs": [
    {
     "data": {
      "image/png": "[encoded data removed]",
      "text/plain": [
       "<Figure size 864x360 with 2 Axes>"
      ]
     },
     "metadata": {
      "needs_background": "light"
     },
     "output_type": "display_data"
    }
   ],
   "source": [
    "plot_loss_and_acc(history_cnn_word2vec)"
   ]
  },
  {
   "cell_type": "markdown",
   "id": "2b3d5484",
   "metadata": {},
   "source": [
    "### Using LSTM"
   ]
  },
  {
   "cell_type": "code",
   "execution_count": 54,
   "id": "ec4c5015",
   "metadata": {},
   "outputs": [],
   "source": [
    "# Model Checkpoint and EarlyStopping\n",
    "filepath_lstm = \"Updated//modelISOT_LSTM_WORD2VEC_PRETRAINED.h5\" # Location to get the model\n",
    "checkpoint_lstm = ModelCheckpoint(filepath_lstm, monitor='loss', verbose=1, save_best_only=True, mode='min')\n",
    "es_lstm = EarlyStopping(monitor='val_loss', patience=3,mode='min', verbose=1)\n",
    "callbacks_list_lstm = [checkpoint_lstm,es_lstm]"
   ]
  },
  {
   "cell_type": "code",
   "execution_count": 55,
   "id": "438bd0da",
   "metadata": {},
   "outputs": [
    {
     "data": {
      "text/plain": [
       "103015"
      ]
     },
     "execution_count": 55,
     "metadata": {},
     "output_type": "execute_result"
    }
   ],
   "source": [
    "vocab_size"
   ]
  },
  {
   "cell_type": "code",
   "execution_count": 67,
   "id": "75997ff4",
   "metadata": {},
   "outputs": [
    {
     "data": {
      "text/plain": [
       "300"
      ]
     },
     "execution_count": 67,
     "metadata": {},
     "output_type": "execute_result"
    }
   ],
   "source": [
    "embed_dim"
   ]
  },
  {
   "cell_type": "code",
   "execution_count": 68,
   "id": "70e5a73a",
   "metadata": {},
   "outputs": [
    {
     "data": {
      "text/plain": [
       "2000"
      ]
     },
     "execution_count": 68,
     "metadata": {},
     "output_type": "execute_result"
    }
   ],
   "source": [
    "maxi"
   ]
  },
  {
   "cell_type": "code",
   "execution_count": 69,
   "id": "4ae2f1f5",
   "metadata": {},
   "outputs": [
    {
     "name": "stdout",
     "output_type": "stream",
     "text": [
      "Model: \"sequential\"\n",
      "_________________________________________________________________\n",
      " Layer (type)                Output Shape              Param #   \n",
      "=================================================================\n",
      " embedding (Embedding)       (None, 2000, 300)         30904500  \n",
      "                                                                 \n",
      " lstm (LSTM)                 (None, 2000, 128)         219648    \n",
      "                                                                 \n",
      " global_max_pooling1d (Globa  (None, 128)              0         \n",
      " lMaxPooling1D)                                                  \n",
      "                                                                 \n",
      " dropout (Dropout)           (None, 128)               0         \n",
      "                                                                 \n",
      " dense (Dense)               (None, 64)                8256      \n",
      "                                                                 \n",
      " dense_1 (Dense)             (None, 1)                 65        \n",
      "                                                                 \n",
      "=================================================================\n",
      "Total params: 31,132,469\n",
      "Trainable params: 31,132,469\n",
      "Non-trainable params: 0\n",
      "_________________________________________________________________\n"
     ]
    }
   ],
   "source": [
    "from keras.initializers import Constant\n",
    "lstm_model=Sequential()\n",
    "lstm_model.add(Embedding(input_dim=vocab_size,output_dim=embed_dim,input_length=maxi,\n",
    "                    embeddings_initializer=Constant(embedded_matrix_2),trainable=True))\n",
    "lstm_model.add(LSTM(128,return_sequences=True,dropout=0.2)) # loss stucks at about \n",
    "lstm_model.add(GlobalMaxPooling1D())\n",
    "lstm_model.add(Dropout(0.3))\n",
    "lstm_model.add(Dense(64,activation='relu'))\n",
    "lstm_model.add(Dense(1,activation='sigmoid'))  # sigmod for bin. classification.\n",
    "\n",
    "# compile the model\n",
    "lstm_model.compile(optimizer='adam',loss='binary_crossentropy',metrics=['accuracy'])\n",
    "lstm_model.summary()"
   ]
  },
  {
   "cell_type": "code",
   "execution_count": 70,
   "id": "6711797a",
   "metadata": {},
   "outputs": [],
   "source": [
    "clear_session()"
   ]
  },
  {
   "cell_type": "code",
   "execution_count": 71,
   "id": "e8e37968",
   "metadata": {},
   "outputs": [
    {
     "name": "stdout",
     "output_type": "stream",
     "text": [
      "Epoch 1/2\n",
      "WARNING:tensorflow:AutoGraph could not transform <function Model.make_train_function.<locals>.train_function at 0x2b5c0e36ad90> and will run it as-is.\n",
      "Please report this to the TensorFlow team. When filing the bug, set the verbosity to 10 (on Linux, `export AUTOGRAPH_VERBOSITY=10`) and attach the full output.\n",
      "Cause: 'arguments' object has no attribute 'posonlyargs'\n",
      "To silence this warning, decorate the function with @tf.autograph.experimental.do_not_convert\n",
      "WARNING: AutoGraph could not transform <function Model.make_train_function.<locals>.train_function at 0x2b5c0e36ad90> and will run it as-is.\n",
      "Please report this to the TensorFlow team. When filing the bug, set the verbosity to 10 (on Linux, `export AUTOGRAPH_VERBOSITY=10`) and attach the full output.\n",
      "Cause: 'arguments' object has no attribute 'posonlyargs'\n",
      "To silence this warning, decorate the function with @tf.autograph.experimental.do_not_convert\n",
      "192/192 [==============================] - ETA: 0s - loss: 0.1699 - accuracy: 0.9412WARNING:tensorflow:AutoGraph could not transform <function Model.make_test_function.<locals>.test_function at 0x2b5c14629d90> and will run it as-is.\n",
      "Please report this to the TensorFlow team. When filing the bug, set the verbosity to 10 (on Linux, `export AUTOGRAPH_VERBOSITY=10`) and attach the full output.\n",
      "Cause: 'arguments' object has no attribute 'posonlyargs'\n",
      "To silence this warning, decorate the function with @tf.autograph.experimental.do_not_convert\n",
      "WARNING: AutoGraph could not transform <function Model.make_test_function.<locals>.test_function at 0x2b5c14629d90> and will run it as-is.\n",
      "Please report this to the TensorFlow team. When filing the bug, set the verbosity to 10 (on Linux, `export AUTOGRAPH_VERBOSITY=10`) and attach the full output.\n",
      "Cause: 'arguments' object has no attribute 'posonlyargs'\n",
      "To silence this warning, decorate the function with @tf.autograph.experimental.do_not_convert\n",
      "\n",
      "Epoch 1: loss did not improve from 0.01043\n",
      "192/192 [==============================] - 1034s 5s/step - loss: 0.1699 - accuracy: 0.9412 - val_loss: 0.0489 - val_accuracy: 0.9829\n",
      "Epoch 2/2\n",
      "192/192 [==============================] - ETA: 0s - loss: 0.0243 - accuracy: 0.9922\n",
      "Epoch 2: loss did not improve from 0.01043\n",
      "192/192 [==============================] - 1035s 5s/step - loss: 0.0243 - accuracy: 0.9922 - val_loss: 0.0277 - val_accuracy: 0.9910\n"
     ]
    }
   ],
   "source": [
    "history_lstm_word2vec=lstm_model.fit(pad_train,y_train,epochs=2,batch_size=128,validation_split=0.2,shuffle=True, callbacks=callbacks_list_lstm) "
   ]
  },
  {
   "cell_type": "code",
   "execution_count": 72,
   "id": "216a95f9",
   "metadata": {},
   "outputs": [
    {
     "data": {
      "image/png": "[encoded data removed]",
      "text/plain": [
       "<Figure size 864x360 with 2 Axes>"
      ]
     },
     "metadata": {
      "needs_background": "light"
     },
     "output_type": "display_data"
    }
   ],
   "source": [
    "plot_loss_and_acc(history_lstm_word2vec)"
   ]
  },
  {
   "cell_type": "markdown",
   "id": "8d40663b",
   "metadata": {},
   "source": [
    "### Using BiLSTM"
   ]
  },
  {
   "cell_type": "code",
   "execution_count": 75,
   "id": "7d4afb56",
   "metadata": {},
   "outputs": [],
   "source": [
    "# Model Checkpoint and EarlyStopping\n",
    "filepath_bilstm = \"Updated//modelISOT_BiLSTM_WORD2VEC_PRETRAINED.h5\" # Location to get the model\n",
    "checkpoint_bilstm = ModelCheckpoint(filepath_bilstm, monitor='loss', verbose=1, save_best_only=True, mode='min')\n",
    "es_bilstm = EarlyStopping(monitor='val_loss', patience=3,mode='min', verbose=1)\n",
    "callbacks_list_bilstm = [checkpoint_bilstm,es_bilstm]"
   ]
  },
  {
   "cell_type": "code",
   "execution_count": 76,
   "id": "b005f462",
   "metadata": {},
   "outputs": [
    {
     "name": "stdout",
     "output_type": "stream",
     "text": [
      "Model: \"sequential\"\n",
      "_________________________________________________________________\n",
      " Layer (type)                Output Shape              Param #   \n",
      "=================================================================\n",
      " embedding (Embedding)       (None, 2000, 300)         30904500  \n",
      "                                                                 \n",
      " bidirectional (Bidirectiona  (None, 2000, 256)        439296    \n",
      " l)                                                              \n",
      "                                                                 \n",
      " global_max_pooling1d (Globa  (None, 256)              0         \n",
      " lMaxPooling1D)                                                  \n",
      "                                                                 \n",
      " dropout (Dropout)           (None, 256)               0         \n",
      "                                                                 \n",
      " dense (Dense)               (None, 64)                16448     \n",
      "                                                                 \n",
      " dense_1 (Dense)             (None, 1)                 65        \n",
      "                                                                 \n",
      "=================================================================\n",
      "Total params: 31,360,309\n",
      "Trainable params: 31,360,309\n",
      "Non-trainable params: 0\n",
      "_________________________________________________________________\n"
     ]
    }
   ],
   "source": [
    "from keras.initializers import Constant\n",
    "bilstm_model=Sequential()\n",
    "bilstm_model.add(Embedding(input_dim=vocab_size,output_dim=embed_dim,input_length=maxi,\n",
    "                    embeddings_initializer=Constant(embedded_matrix_2),trainable=True))\n",
    "bilstm_model.add(Bidirectional(LSTM(128,return_sequences=True,dropout=0.2))) # loss stucks at about \n",
    "bilstm_model.add(GlobalMaxPooling1D())\n",
    "bilstm_model.add(Dropout(0.3))\n",
    "bilstm_model.add(Dense(64,activation='relu'))\n",
    "bilstm_model.add(Dense(1,activation='sigmoid'))  # sigmod for bin. classification.\n",
    "\n",
    "# compile the model\n",
    "bilstm_model.compile(optimizer='adam',loss='binary_crossentropy',metrics=['accuracy'])\n",
    "bilstm_model.summary()"
   ]
  },
  {
   "cell_type": "code",
   "execution_count": 77,
   "id": "a3d223f8",
   "metadata": {},
   "outputs": [
    {
     "name": "stdout",
     "output_type": "stream",
     "text": [
      "Epoch 1/2\n",
      "WARNING:tensorflow:AutoGraph could not transform <function Model.make_train_function.<locals>.train_function at 0x2b5c142720d0> and will run it as-is.\n",
      "Please report this to the TensorFlow team. When filing the bug, set the verbosity to 10 (on Linux, `export AUTOGRAPH_VERBOSITY=10`) and attach the full output.\n",
      "Cause: 'arguments' object has no attribute 'posonlyargs'\n",
      "To silence this warning, decorate the function with @tf.autograph.experimental.do_not_convert\n",
      "WARNING: AutoGraph could not transform <function Model.make_train_function.<locals>.train_function at 0x2b5c142720d0> and will run it as-is.\n",
      "Please report this to the TensorFlow team. When filing the bug, set the verbosity to 10 (on Linux, `export AUTOGRAPH_VERBOSITY=10`) and attach the full output.\n",
      "Cause: 'arguments' object has no attribute 'posonlyargs'\n",
      "To silence this warning, decorate the function with @tf.autograph.experimental.do_not_convert\n",
      "192/192 [==============================] - ETA: 0s - loss: 0.1330 - accuracy: 0.9461WARNING:tensorflow:AutoGraph could not transform <function Model.make_test_function.<locals>.test_function at 0x2b62a3e33620> and will run it as-is.\n",
      "Please report this to the TensorFlow team. When filing the bug, set the verbosity to 10 (on Linux, `export AUTOGRAPH_VERBOSITY=10`) and attach the full output.\n",
      "Cause: 'arguments' object has no attribute 'posonlyargs'\n",
      "To silence this warning, decorate the function with @tf.autograph.experimental.do_not_convert\n",
      "WARNING: AutoGraph could not transform <function Model.make_test_function.<locals>.test_function at 0x2b62a3e33620> and will run it as-is.\n",
      "Please report this to the TensorFlow team. When filing the bug, set the verbosity to 10 (on Linux, `export AUTOGRAPH_VERBOSITY=10`) and attach the full output.\n",
      "Cause: 'arguments' object has no attribute 'posonlyargs'\n",
      "To silence this warning, decorate the function with @tf.autograph.experimental.do_not_convert\n",
      "\n",
      "Epoch 1: loss improved from inf to 0.13297, saving model to Updated/modelISOT_BiLSTM_Word2Vec.h5\n",
      "192/192 [==============================] - 1061s 6s/step - loss: 0.1330 - accuracy: 0.9461 - val_loss: 0.0211 - val_accuracy: 0.9918\n",
      "Epoch 2/2\n",
      "192/192 [==============================] - ETA: 0s - loss: 0.0195 - accuracy: 0.9929\n",
      "Epoch 2: loss improved from 0.13297 to 0.01953, saving model to Updated/modelISOT_BiLSTM_Word2Vec.h5\n",
      "192/192 [==============================] - 1048s 5s/step - loss: 0.0195 - accuracy: 0.9929 - val_loss: 0.0249 - val_accuracy: 0.9907\n"
     ]
    }
   ],
   "source": [
    "clear_session()\n",
    "history_bilstm_word2vec=bilstm_model.fit(pad_train,y_train,epochs=2,batch_size=128,validation_split=0.2,shuffle=True, callbacks=callbacks_list_bilstm) "
   ]
  },
  {
   "cell_type": "code",
   "execution_count": 78,
   "id": "a2ca8d90",
   "metadata": {},
   "outputs": [
    {
     "data": {
      "image/png": "[encoded data removed]",
      "text/plain": [
       "<Figure size 864x360 with 2 Axes>"
      ]
     },
     "metadata": {
      "needs_background": "light"
     },
     "output_type": "display_data"
    }
   ],
   "source": [
    "plot_loss_and_acc(history_bilstm_word2vec)"
   ]
  },
  {
   "cell_type": "markdown",
   "id": "3374dc90",
   "metadata": {},
   "source": [
    "## Glove\n",
    "\n",
    "##### using PreTrained"
   ]
  },
  {
   "cell_type": "markdown",
   "id": "c5deb7ab",
   "metadata": {},
   "source": [
    "##### Download the pretrained zip file"
   ]
  },
  {
   "cell_type": "code",
   "execution_count": null,
   "id": "1310ed8e",
   "metadata": {},
   "outputs": [],
   "source": [
    "# !wget http://nlp.stanford.edu/data/glove.6B.zip"
   ]
  },
  {
   "cell_type": "markdown",
   "id": "5c9bad31",
   "metadata": {},
   "source": [
    "##### Unzip it"
   ]
  },
  {
   "cell_type": "code",
   "execution_count": null,
   "id": "dcbac827",
   "metadata": {},
   "outputs": [],
   "source": [
    "# !unzip glove*.zip"
   ]
  },
  {
   "cell_type": "code",
   "execution_count": 19,
   "id": "07538213",
   "metadata": {},
   "outputs": [],
   "source": [
    "from gensim.models import KeyedVectors\n",
    "from gensim.scripts.glove2word2vec import glove2word2vec"
   ]
  },
  {
   "cell_type": "code",
   "execution_count": 20,
   "id": "fb861934",
   "metadata": {},
   "outputs": [],
   "source": [
    "glove_path = 'Embeddings//glove.6B.300d.txt'"
   ]
  },
  {
   "cell_type": "code",
   "execution_count": 21,
   "id": "2c37c3cf",
   "metadata": {},
   "outputs": [],
   "source": [
    "import os\n",
    "glove_embeddings_index = {}\n",
    "f = open(os.path.join(glove_path), encoding=\"utf8\")"
   ]
  },
  {
   "cell_type": "code",
   "execution_count": 22,
   "id": "1e80eaac",
   "metadata": {},
   "outputs": [],
   "source": [
    "for line in f:\n",
    "    values = line.split()\n",
    "    #print(values[1:])\n",
    "    word = values[0]\n",
    "    coefs = np.asarray(values[1:], dtype='float32')\n",
    "    glove_embeddings_index[word] = coefs\n",
    "f.close()"
   ]
  },
  {
   "cell_type": "code",
   "execution_count": 23,
   "id": "8bb3d6d2",
   "metadata": {},
   "outputs": [
    {
     "name": "stdout",
     "output_type": "stream",
     "text": [
      "Total 400000 word vectors in Glove.\n"
     ]
    }
   ],
   "source": [
    "print('Total %s word vectors in Glove.' % len(glove_embeddings_index))\n"
   ]
  },
  {
   "cell_type": "code",
   "execution_count": 24,
   "id": "1abaea97",
   "metadata": {},
   "outputs": [],
   "source": [
    "embedding_gmatrix = np.random.random((len(tokenzr.word_index) + 1, embed_dim))\n",
    "for word, i in tokenzr.word_index.items():\n",
    "    embedding_gvector = glove_embeddings_index.get(word)\n",
    "    if embedding_gvector is not None:\n",
    "        # words not found in embedding index will be all-zeros.\n",
    "        embedding_gmatrix[i] = embedding_gvector"
   ]
  },
  {
   "cell_type": "markdown",
   "id": "331095ff",
   "metadata": {},
   "source": [
    "### 1D CNN"
   ]
  },
  {
   "cell_type": "code",
   "execution_count": 25,
   "id": "01adcdf5",
   "metadata": {},
   "outputs": [],
   "source": [
    "# Model Checkpoint and EarlyStopping\n",
    "filepath = \"Updated//model_ISOT_CNN_GLOVE.h5\" # Location to get the model\n",
    "checkpoint = ModelCheckpoint(filepath, monitor='loss', verbose=1, save_best_only=True, mode='min')\n",
    "es = EarlyStopping(monitor='val_loss', patience=3,mode='min', verbose=1)\n",
    "callbacks_list = [checkpoint,es]"
   ]
  },
  {
   "cell_type": "code",
   "execution_count": 29,
   "id": "ec9b6bbd",
   "metadata": {},
   "outputs": [
    {
     "data": {
      "text/plain": [
       "2000"
      ]
     },
     "execution_count": 29,
     "metadata": {},
     "output_type": "execute_result"
    }
   ],
   "source": [
    "maxi"
   ]
  },
  {
   "cell_type": "code",
   "execution_count": 26,
   "id": "ded81efd",
   "metadata": {},
   "outputs": [
    {
     "name": "stderr",
     "output_type": "stream",
     "text": [
      "2022-06-21 10:46:05.054795: W tensorflow/stream_executor/platform/default/dso_loader.cc:64] Could not load dynamic library 'libcudart.so.11.0'; dlerror: libcudart.so.11.0: cannot open shared object file: No such file or directory; LD_LIBRARY_PATH: /gpfs/software/ada/python/anaconda/2020.11/3.8/lib:/gpfs/software/ada/cuda/10.2.89/lib64:/gpfs/software/ada/cuda/10.2.89/lib/lib64\n",
      "2022-06-21 10:46:05.055251: W tensorflow/stream_executor/platform/default/dso_loader.cc:64] Could not load dynamic library 'libcublas.so.11'; dlerror: libcublas.so.11: cannot open shared object file: No such file or directory; LD_LIBRARY_PATH: /gpfs/software/ada/python/anaconda/2020.11/3.8/lib:/gpfs/software/ada/cuda/10.2.89/lib64:/gpfs/software/ada/cuda/10.2.89/lib/lib64\n",
      "2022-06-21 10:46:05.055788: W tensorflow/stream_executor/platform/default/dso_loader.cc:64] Could not load dynamic library 'libcublasLt.so.11'; dlerror: libcublasLt.so.11: cannot open shared object file: No such file or directory; LD_LIBRARY_PATH: /gpfs/software/ada/python/anaconda/2020.11/3.8/lib:/gpfs/software/ada/cuda/10.2.89/lib64:/gpfs/software/ada/cuda/10.2.89/lib/lib64\n",
      "2022-06-21 10:46:05.089796: W tensorflow/stream_executor/platform/default/dso_loader.cc:64] Could not load dynamic library 'libcusolver.so.11'; dlerror: libcusolver.so.11: cannot open shared object file: No such file or directory; LD_LIBRARY_PATH: /gpfs/software/ada/python/anaconda/2020.11/3.8/lib:/gpfs/software/ada/cuda/10.2.89/lib64:/gpfs/software/ada/cuda/10.2.89/lib/lib64\n",
      "2022-06-21 10:46:05.090168: W tensorflow/stream_executor/platform/default/dso_loader.cc:64] Could not load dynamic library 'libcusparse.so.11'; dlerror: libcusparse.so.11: cannot open shared object file: No such file or directory; LD_LIBRARY_PATH: /gpfs/software/ada/python/anaconda/2020.11/3.8/lib:/gpfs/software/ada/cuda/10.2.89/lib64:/gpfs/software/ada/cuda/10.2.89/lib/lib64\n",
      "2022-06-21 10:46:05.090489: W tensorflow/stream_executor/platform/default/dso_loader.cc:64] Could not load dynamic library 'libcudnn.so.8'; dlerror: libcudnn.so.8: cannot open shared object file: No such file or directory; LD_LIBRARY_PATH: /gpfs/software/ada/python/anaconda/2020.11/3.8/lib:/gpfs/software/ada/cuda/10.2.89/lib64:/gpfs/software/ada/cuda/10.2.89/lib/lib64\n",
      "2022-06-21 10:46:05.090564: W tensorflow/core/common_runtime/gpu/gpu_device.cc:1850] Cannot dlopen some GPU libraries. Please make sure the missing libraries mentioned above are installed properly if you would like to use GPU. Follow the guide at https://www.tensorflow.org/install/gpu for how to download and setup the required libraries for your platform.\n",
      "Skipping registering GPU devices...\n",
      "2022-06-21 10:46:05.092598: I tensorflow/core/platform/cpu_feature_guard.cc:193] This TensorFlow binary is optimized with oneAPI Deep Neural Network Library (oneDNN) to use the following CPU instructions in performance-critical operations:  AVX2 AVX512F AVX512_VNNI FMA\n",
      "To enable them in other operations, rebuild TensorFlow with the appropriate compiler flags.\n"
     ]
    },
    {
     "name": "stdout",
     "output_type": "stream",
     "text": [
      "Model: \"sequential\"\n",
      "_________________________________________________________________\n",
      " Layer (type)                Output Shape              Param #   \n",
      "=================================================================\n",
      " embedding (Embedding)       (None, 2000, 300)         30804600  \n",
      "                                                                 \n",
      " conv1d (Conv1D)             (None, 1998, 128)         115328    \n",
      "                                                                 \n",
      " max_pooling1d (MaxPooling1D  (None, 999, 128)         0         \n",
      " )                                                               \n",
      "                                                                 \n",
      " flatten (Flatten)           (None, 127872)            0         \n",
      "                                                                 \n",
      " dense (Dense)               (None, 128)               16367744  \n",
      "                                                                 \n",
      " dense_1 (Dense)             (None, 1)                 129       \n",
      "                                                                 \n",
      "=================================================================\n",
      "Total params: 47,287,801\n",
      "Trainable params: 47,287,801\n",
      "Non-trainable params: 0\n",
      "_________________________________________________________________\n",
      "None\n"
     ]
    }
   ],
   "source": [
    "warnings.filterwarnings('ignore')\n",
    "cnn_model_g=Sequential()\n",
    "cnn_model_g.add(Embedding(vocab_size,embed_dim,input_length=maxi))\n",
    "cnn_model_g.add(Conv1D(filters=128, kernel_size=3, padding='valid', activation='relu'))\n",
    "cnn_model_g.add(MaxPooling1D())\n",
    "cnn_model_g.add(Flatten())\n",
    "cnn_model_g.add(Dense(128, activation='relu'))\n",
    "cnn_model_g.add(Dense(1, activation='sigmoid'))\n",
    "# compile the model\n",
    "cnn_model_g.compile(optimizer='adam', loss='binary_crossentropy', metrics=['accuracy'])\n",
    "# summarize the model\n",
    "print(cnn_model_g.summary())"
   ]
  },
  {
   "cell_type": "code",
   "execution_count": 30,
   "id": "315d5b41",
   "metadata": {},
   "outputs": [
    {
     "name": "stdout",
     "output_type": "stream",
     "text": [
      "Epoch 1/2\n",
      "WARNING:tensorflow:AutoGraph could not transform <function Model.make_train_function.<locals>.train_function at 0x2b47a4e51048> and will run it as-is.\n",
      "Please report this to the TensorFlow team. When filing the bug, set the verbosity to 10 (on Linux, `export AUTOGRAPH_VERBOSITY=10`) and attach the full output.\n",
      "Cause: 'arguments' object has no attribute 'posonlyargs'\n",
      "To silence this warning, decorate the function with @tf.autograph.experimental.do_not_convert\n",
      "WARNING: AutoGraph could not transform <function Model.make_train_function.<locals>.train_function at 0x2b47a4e51048> and will run it as-is.\n",
      "Please report this to the TensorFlow team. When filing the bug, set the verbosity to 10 (on Linux, `export AUTOGRAPH_VERBOSITY=10`) and attach the full output.\n",
      "Cause: 'arguments' object has no attribute 'posonlyargs'\n",
      "To silence this warning, decorate the function with @tf.autograph.experimental.do_not_convert\n",
      "192/192 [==============================] - ETA: 0s - loss: 0.1542 - accuracy: 0.9320WARNING:tensorflow:AutoGraph could not transform <function Model.make_test_function.<locals>.test_function at 0x2b47fff510d0> and will run it as-is.\n",
      "Please report this to the TensorFlow team. When filing the bug, set the verbosity to 10 (on Linux, `export AUTOGRAPH_VERBOSITY=10`) and attach the full output.\n",
      "Cause: 'arguments' object has no attribute 'posonlyargs'\n",
      "To silence this warning, decorate the function with @tf.autograph.experimental.do_not_convert\n",
      "WARNING: AutoGraph could not transform <function Model.make_test_function.<locals>.test_function at 0x2b47fff510d0> and will run it as-is.\n",
      "Please report this to the TensorFlow team. When filing the bug, set the verbosity to 10 (on Linux, `export AUTOGRAPH_VERBOSITY=10`) and attach the full output.\n",
      "Cause: 'arguments' object has no attribute 'posonlyargs'\n",
      "To silence this warning, decorate the function with @tf.autograph.experimental.do_not_convert\n",
      "\n",
      "Epoch 1: loss improved from inf to 0.15416, saving model to Updated/model_ISOT_CNN_GLOVE.h5\n",
      "192/192 [==============================] - 58s 293ms/step - loss: 0.1542 - accuracy: 0.9320 - val_loss: 0.0318 - val_accuracy: 0.9895\n",
      "Epoch 2/2\n",
      "192/192 [==============================] - ETA: 0s - loss: 0.0063 - accuracy: 0.9985\n",
      "Epoch 2: loss improved from 0.15416 to 0.00633, saving model to Updated/model_ISOT_CNN_GLOVE.h5\n",
      "192/192 [==============================] - 54s 284ms/step - loss: 0.0063 - accuracy: 0.9985 - val_loss: 0.0341 - val_accuracy: 0.9889\n"
     ]
    }
   ],
   "source": [
    "history_cnn_glove=cnn_model_g.fit(pad_train,y_train,epochs=2,batch_size=128,validation_split=0.2,shuffle=True, callbacks=callbacks_list) "
   ]
  },
  {
   "cell_type": "code",
   "execution_count": 33,
   "id": "8135cde6",
   "metadata": {},
   "outputs": [
    {
     "data": {
      "image/png": "[encoded data removed]",
      "text/plain": [
       "<Figure size 864x360 with 2 Axes>"
      ]
     },
     "metadata": {
      "needs_background": "light"
     },
     "output_type": "display_data"
    }
   ],
   "source": [
    "plot_loss_and_acc(history_cnn_glove)"
   ]
  },
  {
   "cell_type": "markdown",
   "id": "8b372e44",
   "metadata": {},
   "source": [
    "### Using LSTM"
   ]
  },
  {
   "cell_type": "code",
   "execution_count": 43,
   "id": "bfd8a425",
   "metadata": {},
   "outputs": [],
   "source": [
    "# Model Checkpoint and EarlyStopping\n",
    "filepath_lstm_g = \"Updated//model_ISOT_LSTM_GLOVE.h5\" # Location to get the model\n",
    "checkpoint_lstm_g = ModelCheckpoint(filepath_lstm_g, monitor='loss', verbose=1, save_best_only=True, mode='min')\n",
    "es_lstm_g = EarlyStopping(monitor='val_loss', patience=3,mode='min', verbose=1)\n",
    "callbacks_list_lstm_g = [checkpoint_lstm_g,es_lstm_g]"
   ]
  },
  {
   "cell_type": "code",
   "execution_count": 44,
   "id": "5cc310b6",
   "metadata": {},
   "outputs": [
    {
     "data": {
      "text/plain": [
       "102682"
      ]
     },
     "execution_count": 44,
     "metadata": {},
     "output_type": "execute_result"
    }
   ],
   "source": [
    "vocab_size"
   ]
  },
  {
   "cell_type": "code",
   "execution_count": 45,
   "id": "fa8eb3b1",
   "metadata": {},
   "outputs": [
    {
     "data": {
      "text/plain": [
       "300"
      ]
     },
     "execution_count": 45,
     "metadata": {},
     "output_type": "execute_result"
    }
   ],
   "source": [
    "embed_dim"
   ]
  },
  {
   "cell_type": "code",
   "execution_count": 46,
   "id": "eb7690c0",
   "metadata": {},
   "outputs": [
    {
     "data": {
      "text/plain": [
       "2000"
      ]
     },
     "execution_count": 46,
     "metadata": {},
     "output_type": "execute_result"
    }
   ],
   "source": [
    "maxi"
   ]
  },
  {
   "cell_type": "code",
   "execution_count": 47,
   "id": "541dcc15",
   "metadata": {},
   "outputs": [
    {
     "name": "stdout",
     "output_type": "stream",
     "text": [
      "Model: \"sequential\"\n",
      "_________________________________________________________________\n",
      " Layer (type)                Output Shape              Param #   \n",
      "=================================================================\n",
      " embedding (Embedding)       (None, 2000, 300)         30804600  \n",
      "                                                                 \n",
      " lstm (LSTM)                 (None, 2000, 128)         219648    \n",
      "                                                                 \n",
      " global_max_pooling1d (Globa  (None, 128)              0         \n",
      " lMaxPooling1D)                                                  \n",
      "                                                                 \n",
      " dropout (Dropout)           (None, 128)               0         \n",
      "                                                                 \n",
      " dense (Dense)               (None, 64)                8256      \n",
      "                                                                 \n",
      " dense_1 (Dense)             (None, 1)                 65        \n",
      "                                                                 \n",
      "=================================================================\n",
      "Total params: 31,032,569\n",
      "Trainable params: 31,032,569\n",
      "Non-trainable params: 0\n",
      "_________________________________________________________________\n"
     ]
    }
   ],
   "source": [
    "from keras.initializers import Constant\n",
    "lstm_model_g=Sequential()\n",
    "lstm_model_g.add(Embedding(input_dim=vocab_size,output_dim=embed_dim,input_length=maxi,\n",
    "                    embeddings_initializer=Constant(embedding_gmatrix),trainable=True))\n",
    "lstm_model_g.add(LSTM(128,return_sequences=True,dropout=0.2)) # loss stucks at about \n",
    "lstm_model_g.add(GlobalMaxPooling1D())\n",
    "lstm_model_g.add(Dropout(0.3))\n",
    "lstm_model_g.add(Dense(64,activation='relu'))\n",
    "lstm_model_g.add(Dense(1,activation='sigmoid'))  # sigmod for bin. classification.\n",
    "\n",
    "# compile the model\n",
    "lstm_model_g.compile(optimizer='adam',loss='binary_crossentropy',metrics=['accuracy'])\n",
    "lstm_model_g.summary()"
   ]
  },
  {
   "cell_type": "code",
   "execution_count": 48,
   "id": "7e229842",
   "metadata": {},
   "outputs": [],
   "source": [
    "clear_session()"
   ]
  },
  {
   "cell_type": "code",
   "execution_count": 49,
   "id": "453fba50",
   "metadata": {},
   "outputs": [
    {
     "name": "stdout",
     "output_type": "stream",
     "text": [
      "Epoch 1/2\n",
      "WARNING:tensorflow:AutoGraph could not transform <function Model.make_train_function.<locals>.train_function at 0x2b49da165ea0> and will run it as-is.\n",
      "Please report this to the TensorFlow team. When filing the bug, set the verbosity to 10 (on Linux, `export AUTOGRAPH_VERBOSITY=10`) and attach the full output.\n",
      "Cause: 'arguments' object has no attribute 'posonlyargs'\n",
      "To silence this warning, decorate the function with @tf.autograph.experimental.do_not_convert\n",
      "WARNING: AutoGraph could not transform <function Model.make_train_function.<locals>.train_function at 0x2b49da165ea0> and will run it as-is.\n",
      "Please report this to the TensorFlow team. When filing the bug, set the verbosity to 10 (on Linux, `export AUTOGRAPH_VERBOSITY=10`) and attach the full output.\n",
      "Cause: 'arguments' object has no attribute 'posonlyargs'\n",
      "To silence this warning, decorate the function with @tf.autograph.experimental.do_not_convert\n",
      "192/192 [==============================] - ETA: 0s - loss: 0.1680 - accuracy: 0.9301WARNING:tensorflow:AutoGraph could not transform <function Model.make_test_function.<locals>.test_function at 0x2b47ffefcd90> and will run it as-is.\n",
      "Please report this to the TensorFlow team. When filing the bug, set the verbosity to 10 (on Linux, `export AUTOGRAPH_VERBOSITY=10`) and attach the full output.\n",
      "Cause: 'arguments' object has no attribute 'posonlyargs'\n",
      "To silence this warning, decorate the function with @tf.autograph.experimental.do_not_convert\n",
      "WARNING: AutoGraph could not transform <function Model.make_test_function.<locals>.test_function at 0x2b47ffefcd90> and will run it as-is.\n",
      "Please report this to the TensorFlow team. When filing the bug, set the verbosity to 10 (on Linux, `export AUTOGRAPH_VERBOSITY=10`) and attach the full output.\n",
      "Cause: 'arguments' object has no attribute 'posonlyargs'\n",
      "To silence this warning, decorate the function with @tf.autograph.experimental.do_not_convert\n",
      "\n",
      "Epoch 1: loss improved from inf to 0.16795, saving model to Updated/model_ISOT_LSTM_GLOVE.h5\n",
      "192/192 [==============================] - 1075s 6s/step - loss: 0.1680 - accuracy: 0.9301 - val_loss: 0.0752 - val_accuracy: 0.9703\n",
      "Epoch 2/2\n",
      "192/192 [==============================] - ETA: 0s - loss: 0.0352 - accuracy: 0.9874\n",
      "Epoch 2: loss improved from 0.16795 to 0.03523, saving model to Updated/model_ISOT_LSTM_GLOVE.h5\n",
      "192/192 [==============================] - 1045s 5s/step - loss: 0.0352 - accuracy: 0.9874 - val_loss: 0.0229 - val_accuracy: 0.9913\n"
     ]
    }
   ],
   "source": [
    "history_lstm_glove=lstm_model_g.fit(pad_train,y_train,epochs=2,batch_size=128,validation_split=0.2,shuffle=True, callbacks=callbacks_list_lstm_g) "
   ]
  },
  {
   "cell_type": "code",
   "execution_count": 50,
   "id": "c2a848a5",
   "metadata": {},
   "outputs": [
    {
     "data": {
      "image/png": "[encoded data removed]",
      "text/plain": [
       "<Figure size 864x360 with 2 Axes>"
      ]
     },
     "metadata": {
      "needs_background": "light"
     },
     "output_type": "display_data"
    }
   ],
   "source": [
    "plot_loss_and_acc(history_lstm_glove)"
   ]
  },
  {
   "cell_type": "markdown",
   "id": "38556dbf",
   "metadata": {},
   "source": [
    "### Using BiLSTM"
   ]
  },
  {
   "cell_type": "code",
   "execution_count": 57,
   "id": "89a3e828",
   "metadata": {},
   "outputs": [],
   "source": [
    "# Model Checkpoint and EarlyStopping\n",
    "filepath_bilstm_g = \"Updated//model_ISOT_BILSTM_GLOVE.h5\" # Location to get the model\n",
    "checkpoint_bilstm_g = ModelCheckpoint(filepath_bilstm_g, monitor='loss', verbose=1, save_best_only=True, mode='min')\n",
    "es_bilstm_g = EarlyStopping(monitor='val_loss', patience=3,mode='min', verbose=1)\n",
    "callbacks_list_bilstm_g = [checkpoint_bilstm_g,es_bilstm_g]"
   ]
  },
  {
   "cell_type": "code",
   "execution_count": 58,
   "id": "acf224c9",
   "metadata": {},
   "outputs": [
    {
     "data": {
      "text/plain": [
       "102682"
      ]
     },
     "execution_count": 58,
     "metadata": {},
     "output_type": "execute_result"
    }
   ],
   "source": [
    "vocab_size"
   ]
  },
  {
   "cell_type": "code",
   "execution_count": 59,
   "id": "0e160cfd",
   "metadata": {},
   "outputs": [
    {
     "data": {
      "text/plain": [
       "300"
      ]
     },
     "execution_count": 59,
     "metadata": {},
     "output_type": "execute_result"
    }
   ],
   "source": [
    "embed_dim"
   ]
  },
  {
   "cell_type": "code",
   "execution_count": 60,
   "id": "b7010342",
   "metadata": {},
   "outputs": [
    {
     "data": {
      "text/plain": [
       "2000"
      ]
     },
     "execution_count": 60,
     "metadata": {},
     "output_type": "execute_result"
    }
   ],
   "source": [
    "maxi"
   ]
  },
  {
   "cell_type": "code",
   "execution_count": 61,
   "id": "ff9ad7f2",
   "metadata": {},
   "outputs": [
    {
     "name": "stdout",
     "output_type": "stream",
     "text": [
      "Model: \"sequential_1\"\n",
      "_________________________________________________________________\n",
      " Layer (type)                Output Shape              Param #   \n",
      "=================================================================\n",
      " embedding_1 (Embedding)     (None, 2000, 300)         30804600  \n",
      "                                                                 \n",
      " bidirectional_1 (Bidirectio  (None, 2000, 256)        439296    \n",
      " nal)                                                            \n",
      "                                                                 \n",
      " global_max_pooling1d_1 (Glo  (None, 256)              0         \n",
      " balMaxPooling1D)                                                \n",
      "                                                                 \n",
      " dropout_1 (Dropout)         (None, 256)               0         \n",
      "                                                                 \n",
      " dense_2 (Dense)             (None, 64)                16448     \n",
      "                                                                 \n",
      " dense_3 (Dense)             (None, 1)                 65        \n",
      "                                                                 \n",
      "=================================================================\n",
      "Total params: 31,260,409\n",
      "Trainable params: 31,260,409\n",
      "Non-trainable params: 0\n",
      "_________________________________________________________________\n"
     ]
    }
   ],
   "source": [
    "from keras.initializers import Constant\n",
    "bilstm_model_g=Sequential()\n",
    "bilstm_model_g.add(Embedding(input_dim=vocab_size,output_dim=embed_dim,input_length=maxi,\n",
    "                    embeddings_initializer=Constant(embedding_gmatrix),trainable=True))\n",
    "bilstm_model_g.add(Bidirectional(LSTM(128,return_sequences=True,dropout=0.2))) # loss stucks at about \n",
    "bilstm_model_g.add(GlobalMaxPooling1D())\n",
    "bilstm_model_g.add(Dropout(0.3))\n",
    "bilstm_model_g.add(Dense(64,activation='relu'))\n",
    "bilstm_model_g.add(Dense(1,activation='sigmoid'))  # sigmod for bin. classification.\n",
    "\n",
    "# compile the model\n",
    "bilstm_model_g.compile(optimizer='adam',loss='binary_crossentropy',metrics=['accuracy'])\n",
    "bilstm_model_g.summary()"
   ]
  },
  {
   "cell_type": "code",
   "execution_count": 62,
   "id": "9f4f434c",
   "metadata": {},
   "outputs": [],
   "source": [
    "clear_session()"
   ]
  },
  {
   "cell_type": "code",
   "execution_count": 63,
   "id": "99856826",
   "metadata": {},
   "outputs": [
    {
     "name": "stdout",
     "output_type": "stream",
     "text": [
      "Epoch 1/2\n",
      "WARNING:tensorflow:AutoGraph could not transform <function Model.make_train_function.<locals>.train_function at 0x2b4e4f7e5598> and will run it as-is.\n",
      "Please report this to the TensorFlow team. When filing the bug, set the verbosity to 10 (on Linux, `export AUTOGRAPH_VERBOSITY=10`) and attach the full output.\n",
      "Cause: 'arguments' object has no attribute 'posonlyargs'\n",
      "To silence this warning, decorate the function with @tf.autograph.experimental.do_not_convert\n",
      "WARNING: AutoGraph could not transform <function Model.make_train_function.<locals>.train_function at 0x2b4e4f7e5598> and will run it as-is.\n",
      "Please report this to the TensorFlow team. When filing the bug, set the verbosity to 10 (on Linux, `export AUTOGRAPH_VERBOSITY=10`) and attach the full output.\n",
      "Cause: 'arguments' object has no attribute 'posonlyargs'\n",
      "To silence this warning, decorate the function with @tf.autograph.experimental.do_not_convert\n",
      "192/192 [==============================] - ETA: 0s - loss: 0.1682 - accuracy: 0.9228WARNING:tensorflow:AutoGraph could not transform <function Model.make_test_function.<locals>.test_function at 0x2b4b6a1b8bf8> and will run it as-is.\n",
      "Please report this to the TensorFlow team. When filing the bug, set the verbosity to 10 (on Linux, `export AUTOGRAPH_VERBOSITY=10`) and attach the full output.\n",
      "Cause: 'arguments' object has no attribute 'posonlyargs'\n",
      "To silence this warning, decorate the function with @tf.autograph.experimental.do_not_convert\n",
      "WARNING: AutoGraph could not transform <function Model.make_test_function.<locals>.test_function at 0x2b4b6a1b8bf8> and will run it as-is.\n",
      "Please report this to the TensorFlow team. When filing the bug, set the verbosity to 10 (on Linux, `export AUTOGRAPH_VERBOSITY=10`) and attach the full output.\n",
      "Cause: 'arguments' object has no attribute 'posonlyargs'\n",
      "To silence this warning, decorate the function with @tf.autograph.experimental.do_not_convert\n",
      "\n",
      "Epoch 1: loss improved from inf to 0.16822, saving model to Updated/model_ISOT_BILSTM_GLOVE.h5\n",
      "192/192 [==============================] - 1201s 6s/step - loss: 0.1682 - accuracy: 0.9228 - val_loss: 0.0354 - val_accuracy: 0.9884\n",
      "Epoch 2/2\n",
      "192/192 [==============================] - ETA: 0s - loss: 0.0245 - accuracy: 0.9908\n",
      "Epoch 2: loss improved from 0.16822 to 0.02448, saving model to Updated/model_ISOT_BILSTM_GLOVE.h5\n",
      "192/192 [==============================] - 1178s 6s/step - loss: 0.0245 - accuracy: 0.9908 - val_loss: 0.0267 - val_accuracy: 0.9902\n"
     ]
    }
   ],
   "source": [
    "history_bilstm_glove=bilstm_model_g.fit(pad_train,y_train,epochs=2,batch_size=128,validation_split=0.2,shuffle=True, callbacks=callbacks_list_bilstm_g) "
   ]
  },
  {
   "cell_type": "code",
   "execution_count": 64,
   "id": "39539375",
   "metadata": {},
   "outputs": [
    {
     "data": {
      "image/png": "[encoded data removed]",
      "text/plain": [
       "<Figure size 864x360 with 2 Axes>"
      ]
     },
     "metadata": {
      "needs_background": "light"
     },
     "output_type": "display_data"
    }
   ],
   "source": [
    "plot_loss_and_acc(history_bilstm_glove)"
   ]
  },
  {
   "cell_type": "code",
   "execution_count": null,
   "id": "7cf44643",
   "metadata": {},
   "outputs": [],
   "source": []
  }
 ],
 "metadata": {
  "kernelspec": {
   "display_name": "Python 3",
   "language": "python",
   "name": "python3"
  },
  "language_info": {
   "codemirror_mode": {
    "name": "ipython",
    "version": 3
   },
   "file_extension": ".py",
   "mimetype": "text/x-python",
   "name": "python",
   "nbconvert_exporter": "python",
   "pygments_lexer": "ipython3",
   "version": "3.7.11"
  }
 },
 "nbformat": 4,
 "nbformat_minor": 5
}
