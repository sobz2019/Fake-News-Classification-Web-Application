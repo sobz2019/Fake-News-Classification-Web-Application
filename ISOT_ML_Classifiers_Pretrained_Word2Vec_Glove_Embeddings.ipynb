{
 "cells": [
  {
   "cell_type": "code",
   "execution_count": 1,
   "id": "72deb23d",
   "metadata": {},
   "outputs": [
    {
     "name": "stderr",
     "output_type": "stream",
     "text": [
      "[nltk_data] Downloading package stopwords to\n",
      "[nltk_data]     /gpfs/home/psc21zcu/nltk_data...\n",
      "[nltk_data]   Package stopwords is already up-to-date!\n",
      "[nltk_data] Downloading package punkt to\n",
      "[nltk_data]     /gpfs/home/psc21zcu/nltk_data...\n",
      "[nltk_data]   Package punkt is already up-to-date!\n",
      "[nltk_data] Downloading package averaged_perceptron_tagger to\n",
      "[nltk_data]     /gpfs/home/psc21zcu/nltk_data...\n",
      "[nltk_data]   Package averaged_perceptron_tagger is already up-to-\n",
      "[nltk_data]       date!\n",
      "[nltk_data] Downloading package wordnet to\n",
      "[nltk_data]     /gpfs/home/psc21zcu/nltk_data...\n",
      "[nltk_data]   Package wordnet is already up-to-date!\n"
     ]
    }
   ],
   "source": [
    "import numpy as np\n",
    "import pandas as pd\n",
    "import warnings\n",
    "%matplotlib inline\n",
    "import matplotlib.pyplot as plt\n",
    "import seaborn as sns\n",
    "import glob\n",
    "import json\n",
    "import tldextract   # Accurately separates a URL's subdomain, domain, and public suffix\n",
    "from bs4 import BeautifulSoup\n",
    "from sklearn.model_selection import train_test_split\n",
    "from sklearn.metrics import classification_report,confusion_matrix,accuracy_score\n",
    "from sklearn.metrics import precision_score, recall_score\n",
    "from sklearn.pipeline import Pipeline\n",
    "from sklearn.metrics import roc_auc_score\n",
    "from sklearn.ensemble import RandomForestClassifier\n",
    "from sklearn.model_selection import RandomizedSearchCV\n",
    "from sklearn.svm import SVC\n",
    "from sklearn.neighbors import KNeighborsClassifier\n",
    "from sklearn.naive_bayes import GaussianNB\n",
    "from sklearn.naive_bayes import MultinomialNB\n",
    "from xgboost import XGBClassifier\n",
    "from sklearn.linear_model import LogisticRegression\n",
    "import re\n",
    "from sklearn.metrics import roc_curve, roc_auc_score\n",
    "from sklearn.feature_extraction.text import TfidfVectorizer,CountVectorizer\n",
    "import nltk \n",
    "import spacy\n",
    "nltk.download('stopwords')\n",
    "nltk.download('punkt')\n",
    "nltk.download('averaged_perceptron_tagger')\n",
    "nltk.download('wordnet')\n",
    "from wordcloud import WordCloud, ImageColorGenerator,STOPWORDS\n",
    "import gensim\n",
    "from gensim.parsing.preprocessing import STOPWORDS as gensim_stopwords\n",
    "import copy\n",
    "from nltk.stem import PorterStemmer\n",
    "from nltk.corpus import stopwords,wordnet\n",
    "from nltk.tokenize import word_tokenize\n",
    "from nltk.stem import WordNetLemmatizer,LancasterStemmer\n",
    "from sklearn.metrics import f1_score\n",
    "from pprint import pprint\n",
    "import warnings\n",
    "\n",
    "warnings.filterwarnings('ignore')\n",
    "pd.set_option('display.max_rows', 500)\n",
    "pd.set_option('display.max_columns', 500)\n",
    "pd.set_option('display.width', 1000)\n",
    "pd.set_option('display.expand_frame_repr', False)\n",
    "pd.set_option('display.max_colwidth', 1000)"
   ]
  },
  {
   "cell_type": "markdown",
   "id": "239f8fa6",
   "metadata": {},
   "source": [
    "#### Loading the ISOT Full Dataset  -- After combined fake and real news  in the previous notebook   \"ISOT_ML_Classifiers_TfiDF_Tokeniser\""
   ]
  },
  {
   "cell_type": "code",
   "execution_count": 3,
   "id": "aa94991f",
   "metadata": {},
   "outputs": [],
   "source": [
    "isot_full_df = pd.read_csv(\"Updated//ISOT_Combined_FullData.csv\")"
   ]
  },
  {
   "cell_type": "markdown",
   "id": "55d71bdb",
   "metadata": {},
   "source": [
    "#### Dropping the columns 'title' , 'text' and 'date'"
   ]
  },
  {
   "cell_type": "code",
   "execution_count": 4,
   "id": "20450fe0",
   "metadata": {},
   "outputs": [],
   "source": [
    "isot_full_df = isot_full_df.drop(columns = ['title','text', 'subject','date','title_length','body_length','date'])"
   ]
  },
  {
   "cell_type": "code",
   "execution_count": 5,
   "id": "0b503e19",
   "metadata": {},
   "outputs": [],
   "source": [
    "isot_full_df=isot_full_df.reset_index(drop=True)"
   ]
  },
  {
   "cell_type": "code",
   "execution_count": 6,
   "id": "f7083161",
   "metadata": {},
   "outputs": [
    {
     "data": {
      "text/html": [
       "<div>\n",
       "<style scoped>\n",
       "    .dataframe tbody tr th:only-of-type {\n",
       "        vertical-align: middle;\n",
       "    }\n",
       "\n",
       "    .dataframe tbody tr th {\n",
       "        vertical-align: top;\n",
       "    }\n",
       "\n",
       "    .dataframe thead th {\n",
       "        text-align: right;\n",
       "    }\n",
       "</style>\n",
       "<table border=\"1\" class=\"dataframe\">\n",
       "  <thead>\n",
       "    <tr style=\"text-align: right;\">\n",
       "      <th></th>\n",
       "      <th>class</th>\n",
       "      <th>fulltext</th>\n",
       "    </tr>\n",
       "  </thead>\n",
       "  <tbody>\n",
       "    <tr>\n",
       "      <th>0</th>\n",
       "      <td>1</td>\n",
       "      <td>Micheal Moore Demands MI Republican Gov. Be Arrested For Poisoning Flint’s Water (IMAGE) Michael Moore has joined others in calling for U.S. Attorney General Loretta Lynch to investigate Michigan s Republican Governor Rick Snyder for not preventing lead from contaminating the city of Flint s water system. Moore was born and raised in Flint, MI. His first documentary film, Roger &amp; Me, chronicles the downfall of Flint and explains how its demise was orchestrated by big business and conservative policy.Moore posted a photo of himself on social media that shows him holding a pair of handcuffs. In his other hand, Moore is holding up a sign which reads, #ArrestGovSnyder. Activists have been using the hash tag to call attention to Flint s water crisis, and Snyder s culpability in the matter.https://www.facebook.com/mmflint/photos/a.10150288227701857.331023.24674986856/10153223367636857/?type=3&amp;theaterAccompanying the photo, is a letter written by Moore condemning Snyder over the crisis. ...</td>\n",
       "    </tr>\n",
       "    <tr>\n",
       "      <th>1</th>\n",
       "      <td>0</td>\n",
       "      <td>Trump's son, close associates to appear before Senate President Donald Trump’s son Donald Trump Jr., son-in-law Jared Kushner and former campaign manager Paul Manafort have been asked to appear before U.S. Senate committees next week to answer questions about the campaign’s alleged connections to Russia, officials said on Wednesday. The three men are the closest associates of the president to be called to speak to lawmakers involved in probing Russian meddling in the 2016 U.S. presidential election and possible collusion with the Trump campaign. Trump, who came into office in January, has been dogged by allegations that his campaign officials were connected to Russia, which U.S. intelligence agencies have accused of interfering in last year’s election.  Trump has denied any collusion.  The U.S. Senate Judiciary Committee said on Wednesday that it had called Trump’s eldest son, Donald Trump Jr., and  Manafort to testify on July 26 at a hearing. The president’s son released emails ea...</td>\n",
       "    </tr>\n",
       "  </tbody>\n",
       "</table>\n",
       "</div>"
      ],
      "text/plain": [
       "   class                                                                                                                                                                                                                                                                                                                                                                                                                                                                                                                                                                                                                                                                                                                                                                                                                                                                                                                                                                                                                                 fulltext\n",
       "0      1   Micheal Moore Demands MI Republican Gov. Be Arrested For Poisoning Flint’s Water (IMAGE) Michael Moore has joined others in calling for U.S. Attorney General Loretta Lynch to investigate Michigan s Republican Governor Rick Snyder for not preventing lead from contaminating the city of Flint s water system. Moore was born and raised in Flint, MI. His first documentary film, Roger & Me, chronicles the downfall of Flint and explains how its demise was orchestrated by big business and conservative policy.Moore posted a photo of himself on social media that shows him holding a pair of handcuffs. In his other hand, Moore is holding up a sign which reads, #ArrestGovSnyder. Activists have been using the hash tag to call attention to Flint s water crisis, and Snyder s culpability in the matter.https://www.facebook.com/mmflint/photos/a.10150288227701857.331023.24674986856/10153223367636857/?type=3&theaterAccompanying the photo, is a letter written by Moore condemning Snyder over the crisis. ...\n",
       "1      0  Trump's son, close associates to appear before Senate President Donald Trump’s son Donald Trump Jr., son-in-law Jared Kushner and former campaign manager Paul Manafort have been asked to appear before U.S. Senate committees next week to answer questions about the campaign’s alleged connections to Russia, officials said on Wednesday. The three men are the closest associates of the president to be called to speak to lawmakers involved in probing Russian meddling in the 2016 U.S. presidential election and possible collusion with the Trump campaign. Trump, who came into office in January, has been dogged by allegations that his campaign officials were connected to Russia, which U.S. intelligence agencies have accused of interfering in last year’s election.  Trump has denied any collusion.  The U.S. Senate Judiciary Committee said on Wednesday that it had called Trump’s eldest son, Donald Trump Jr., and  Manafort to testify on July 26 at a hearing. The president’s son released emails ea..."
      ]
     },
     "execution_count": 6,
     "metadata": {},
     "output_type": "execute_result"
    }
   ],
   "source": [
    "isot_full_df.head(2)"
   ]
  },
  {
   "cell_type": "code",
   "execution_count": 7,
   "id": "28278f23",
   "metadata": {},
   "outputs": [
    {
     "data": {
      "text/html": [
       "<div>\n",
       "<style scoped>\n",
       "    .dataframe tbody tr th:only-of-type {\n",
       "        vertical-align: middle;\n",
       "    }\n",
       "\n",
       "    .dataframe tbody tr th {\n",
       "        vertical-align: top;\n",
       "    }\n",
       "\n",
       "    .dataframe thead th {\n",
       "        text-align: right;\n",
       "    }\n",
       "</style>\n",
       "<table border=\"1\" class=\"dataframe\">\n",
       "  <thead>\n",
       "    <tr style=\"text-align: right;\">\n",
       "      <th></th>\n",
       "      <th>class</th>\n",
       "      <th>fulltext</th>\n",
       "      <th>cleantext</th>\n",
       "    </tr>\n",
       "  </thead>\n",
       "  <tbody>\n",
       "    <tr>\n",
       "      <th>0</th>\n",
       "      <td>1</td>\n",
       "      <td>Micheal Moore Demands MI Republican Gov. Be Arrested For Poisoning Flint’s Water (IMAGE) Michael Moore has joined others in calling for U.S. Attorney General Loretta Lynch to investigate Michigan s Republican Governor Rick Snyder for not preventing lead from contaminating the city of Flint s water system. Moore was born and raised in Flint, MI. His first documentary film, Roger &amp; Me, chronicles the downfall of Flint and explains how its demise was orchestrated by big business and conservative policy.Moore posted a photo of himself on social media that shows him holding a pair of handcuffs. In his other hand, Moore is holding up a sign which reads, #ArrestGovSnyder. Activists have been using the hash tag to call attention to Flint s water crisis, and Snyder s culpability in the matter.https://www.facebook.com/mmflint/photos/a.10150288227701857.331023.24674986856/10153223367636857/?type=3&amp;theaterAccompanying the photo, is a letter written by Moore condemning Snyder over the crisis. ...</td>\n",
       "      <td>[micheal, moore, demands, mi, republican, gov, be, arrested, for, poisoning, flint, water, image, michael, moore, has, joined, others, in, calling, for, attorney, general, loretta, lynch, to, investigate, michigan, republican, governor, rick, snyder, for, not, preventing, lead, from, contaminating, the, city, of, flint, water, system, moore, was, born, and, raised, in, flint, mi, his, first, documentary, film, roger, me, chronicles, the, downfall, of, flint, and, explains, how, its, demise, was, orchestrated, by, big, business, and, conservative, policy, moore, posted, photo, of, himself, on, social, media, that, shows, him, holding, pair, of, handcuffs, in, his, other, hand, moore, is, holding, up, sign, ...]</td>\n",
       "    </tr>\n",
       "  </tbody>\n",
       "</table>\n",
       "</div>"
      ],
      "text/plain": [
       "   class                                                                                                                                                                                                                                                                                                                                                                                                                                                                                                                                                                                                                                                                                                                                                                                                                                                                                                                                                                                                                                 fulltext                                                                                                                                                                                                                                                                                                                                                                                                                                                                                                                                                                                                                                                                                                                                        cleantext\n",
       "0      1   Micheal Moore Demands MI Republican Gov. Be Arrested For Poisoning Flint’s Water (IMAGE) Michael Moore has joined others in calling for U.S. Attorney General Loretta Lynch to investigate Michigan s Republican Governor Rick Snyder for not preventing lead from contaminating the city of Flint s water system. Moore was born and raised in Flint, MI. His first documentary film, Roger & Me, chronicles the downfall of Flint and explains how its demise was orchestrated by big business and conservative policy.Moore posted a photo of himself on social media that shows him holding a pair of handcuffs. In his other hand, Moore is holding up a sign which reads, #ArrestGovSnyder. Activists have been using the hash tag to call attention to Flint s water crisis, and Snyder s culpability in the matter.https://www.facebook.com/mmflint/photos/a.10150288227701857.331023.24674986856/10153223367636857/?type=3&theaterAccompanying the photo, is a letter written by Moore condemning Snyder over the crisis. ...  [micheal, moore, demands, mi, republican, gov, be, arrested, for, poisoning, flint, water, image, michael, moore, has, joined, others, in, calling, for, attorney, general, loretta, lynch, to, investigate, michigan, republican, governor, rick, snyder, for, not, preventing, lead, from, contaminating, the, city, of, flint, water, system, moore, was, born, and, raised, in, flint, mi, his, first, documentary, film, roger, me, chronicles, the, downfall, of, flint, and, explains, how, its, demise, was, orchestrated, by, big, business, and, conservative, policy, moore, posted, photo, of, himself, on, social, media, that, shows, him, holding, pair, of, handcuffs, in, his, other, hand, moore, is, holding, up, sign, ...]"
      ]
     },
     "execution_count": 7,
     "metadata": {},
     "output_type": "execute_result"
    }
   ],
   "source": [
    "# Clean data using the built in cleaner in gensim\n",
    "isot_full_df['cleantext'] = isot_full_df['fulltext'].apply(lambda x: gensim.utils.simple_preprocess(x))\n",
    "isot_full_df.head(1)"
   ]
  },
  {
   "cell_type": "markdown",
   "id": "7946c328",
   "metadata": {},
   "source": [
    "### Splitting dataset into train and test"
   ]
  },
  {
   "cell_type": "code",
   "execution_count": 8,
   "id": "d3193744",
   "metadata": {},
   "outputs": [],
   "source": [
    "X=isot_full_df['cleantext']\n",
    "y=isot_full_df['class']"
   ]
  },
  {
   "cell_type": "code",
   "execution_count": 9,
   "id": "9d4ad273",
   "metadata": {},
   "outputs": [],
   "source": [
    "X_train, X_test, y_train, y_test = train_test_split(X, y, test_size=0.2,stratify=y, random_state=0)"
   ]
  },
  {
   "cell_type": "markdown",
   "id": "6ea675c7",
   "metadata": {},
   "source": [
    "#### Train the word2vec model from our own dataset"
   ]
  },
  {
   "cell_type": "code",
   "execution_count": 10,
   "id": "1ee11b4e",
   "metadata": {},
   "outputs": [],
   "source": [
    "w2v_embedng_model = gensim.models.Word2Vec(X_train,\n",
    "                                   vector_size=100,\n",
    "                                   window=5,\n",
    "                                   min_count=2)"
   ]
  },
  {
   "cell_type": "code",
   "execution_count": 11,
   "id": "09acdc64",
   "metadata": {},
   "outputs": [],
   "source": [
    "# We need to make aggregated sentence vectors to replace all words in the sentences with the learned word vectors, \n",
    "#then we need to replace each text message with the learned word vectors\n",
    "\n",
    "words = set(w2v_embedng_model.wv.index_to_key )\n",
    "X_train_vect = np.array([np.array([w2v_embedng_model.wv[i] for i in m if i in words])\n",
    "                         for m in X_train])\n",
    "X_test_vect = np.array([np.array([w2v_embedng_model.wv[i] for i in n if i in words])\n",
    "                         for n in X_test])"
   ]
  },
  {
   "cell_type": "code",
   "execution_count": 12,
   "id": "5e1baf86",
   "metadata": {},
   "outputs": [],
   "source": [
    "# Average the word vectors for each sentence (and assign a vector of zeros if the model\n",
    "# did not learn any of the words in the text message during training\n",
    "\n",
    "X_train_vect_avg = []\n",
    "for v in X_train_vect:\n",
    "    if v.size:\n",
    "        X_train_vect_avg.append(v.mean(axis=0))\n",
    "    else:\n",
    "        X_train_vect_avg.append(np.zeros(100, dtype=float))\n",
    "        \n",
    "X_test_vect_avg = []\n",
    "for v in X_test_vect:\n",
    "    if v.size:\n",
    "        X_test_vect_avg.append(v.mean(axis=0))\n",
    "    else:\n",
    "        X_test_vect_avg.append(np.zeros(100, dtype=float))"
   ]
  },
  {
   "cell_type": "markdown",
   "id": "3c7bb9a4",
   "metadata": {},
   "source": [
    "#### Helper Functions"
   ]
  },
  {
   "cell_type": "code",
   "execution_count": 13,
   "id": "0b832779",
   "metadata": {},
   "outputs": [],
   "source": [
    "import timeit\n",
    "from timeit import default_timer as timer\n",
    "from datetime import timedelta\n",
    " \n",
    "\n",
    "\n",
    "def metrics(X_test,y_test,clf):\n",
    "    predictions=clf.predict(X_test)\n",
    "    #predictions=(clf.predict_proba(X_test)[:,1] >= 0.3).astype(bool)\n",
    "    print(\"confusion_matrix :\")\n",
    "    print(confusion_matrix(y_test,predictions))\n",
    "    print(\"Accuracy Score :\")\n",
    "    print(accuracy_score(y_test, predictions))\n",
    "    print(\"Classification Report :\")\n",
    "    print(classification_report(y_test, predictions))\n",
    "    print(\"F1 score :\")\n",
    "    print(f1_score(y_test, predictions))\n",
    "    print(\"ROC AUC Score\")\n",
    "    y_pred_proba = clf.predict_proba(X_test)\n",
    "    print(roc_auc_score(y_test, y_pred_proba[:,1]) )\n",
    "    print(\"------------------------------\")\n",
    "\n",
    "    \n",
    "def model_comparison_table(X_test,y_test,classifier_list):\n",
    "    dict_clf={}\n",
    "    for clf_name,clf in classifier_list:\n",
    "        predictions=clf.predict(X_test)\n",
    "        y_pred_proba = clf.predict_proba(X_test)\n",
    "        accuracy=accuracy_score(y_test, predictions)\n",
    "        precision=precision_score(y_test,predictions,average='macro').round(2)\n",
    "        recall=recall_score(y_test,predictions)\n",
    "        f1score=f1_score(y_test,predictions).round(2)\n",
    "        ROC_AUC=roc_auc_score(y_test, y_pred_proba[:,1])\n",
    "        dict_clf[clf_name]=[accuracy,precision,recall,f1score,ROC_AUC]\n",
    "    df_models_scores = pd.DataFrame(dict_clf, index=['Accuracy', 'Precision', 'Recall', 'F1 Score','roc_auc_score'])\n",
    "    return df_models_scores"
   ]
  },
  {
   "cell_type": "code",
   "execution_count": null,
   "id": "51e447d5",
   "metadata": {},
   "outputs": [],
   "source": []
  },
  {
   "cell_type": "markdown",
   "id": "1b309bac",
   "metadata": {},
   "source": [
    "#### Checking for Random Forest Only using  trained word2vec model"
   ]
  },
  {
   "cell_type": "code",
   "execution_count": 15,
   "id": "12f79e03",
   "metadata": {},
   "outputs": [],
   "source": [
    "# Instantiate and fit a basic Random Forest model on top of the vectors\n",
    "from sklearn.ensemble import RandomForestClassifier\n",
    "rf = RandomForestClassifier(random_state=0,n_estimators=800,max_features='auto',max_depth=110,\n",
    "                            min_samples_split=10,min_samples_leaf=1,bootstrap=False)\n",
    "rf_model = rf.fit(X_train_vect_avg, y_train.values.ravel())"
   ]
  },
  {
   "cell_type": "code",
   "execution_count": 16,
   "id": "3e61b7ea",
   "metadata": {
    "scrolled": true
   },
   "outputs": [
    {
     "name": "stdout",
     "output_type": "stream",
     "text": [
      "Accuracy score : 0.9562320355369741\n",
      "Confusion matrix : \n",
      " [[4054  110]\n",
      " [ 225 3265]]\n",
      "Classification Report\n",
      "              precision    recall  f1-score   support\n",
      "\n",
      "           0       0.95      0.97      0.96      4164\n",
      "           1       0.97      0.94      0.95      3490\n",
      "\n",
      "    accuracy                           0.96      7654\n",
      "   macro avg       0.96      0.95      0.96      7654\n",
      "weighted avg       0.96      0.96      0.96      7654\n",
      "\n",
      "Precision : 0.9674074074074074\n",
      "Recall : 0.9355300859598854\n"
     ]
    }
   ],
   "source": [
    "# Use the trained model to make predictions on the test data\n",
    "y_pred = rf_model.predict(X_test_vect_avg)\n",
    "print(\"Accuracy score : {}\".format(accuracy_score(y_test, y_pred)))\n",
    "print(\"Confusion matrix : \\n {}\".format(confusion_matrix(y_test, y_pred)))\n",
    "print(\"Classification Report\")\n",
    "print(classification_report(y_test, y_pred))\n",
    "\n",
    "precision = precision_score(y_test, y_pred)\n",
    "print(\"Precision : {}\".format(precision))\n",
    "recall = recall_score(y_test, y_pred)\n",
    "print(\"Recall : {}\".format(recall))"
   ]
  },
  {
   "cell_type": "code",
   "execution_count": null,
   "id": "f2469f60",
   "metadata": {},
   "outputs": [],
   "source": []
  },
  {
   "cell_type": "markdown",
   "id": "b1526554",
   "metadata": {},
   "source": [
    "### Using pretrained word2vec model"
   ]
  },
  {
   "cell_type": "code",
   "execution_count": 14,
   "id": "7978858b",
   "metadata": {},
   "outputs": [],
   "source": [
    "import gensim.downloader"
   ]
  },
  {
   "cell_type": "code",
   "execution_count": 15,
   "id": "b3809ded",
   "metadata": {},
   "outputs": [
    {
     "name": "stdout",
     "output_type": "stream",
     "text": [
      "['fasttext-wiki-news-subwords-300', 'conceptnet-numberbatch-17-06-300', 'word2vec-ruscorpora-300', 'word2vec-google-news-300', 'glove-wiki-gigaword-50', 'glove-wiki-gigaword-100', 'glove-wiki-gigaword-200', 'glove-wiki-gigaword-300', 'glove-twitter-25', 'glove-twitter-50', 'glove-twitter-100', 'glove-twitter-200', '__testing_word2vec-matrix-synopsis']\n"
     ]
    }
   ],
   "source": [
    "# Show all available models in gensim-data\n",
    "print(list(gensim.downloader.info()['models'].keys()))"
   ]
  },
  {
   "cell_type": "markdown",
   "id": "7621fe1a",
   "metadata": {},
   "source": [
    "##### Download or Load the  pretrained model"
   ]
  },
  {
   "cell_type": "code",
   "execution_count": null,
   "id": "8a112b77",
   "metadata": {},
   "outputs": [],
   "source": [
    "# !wget -P /root/input/ -c \"https://s3.amazonaws.com/dl4j-distribution/GoogleNews-vectors-negative300.bin.gz\""
   ]
  },
  {
   "cell_type": "code",
   "execution_count": 16,
   "id": "207cc4f5",
   "metadata": {},
   "outputs": [],
   "source": [
    "path_to_model = 'Embeddings//GoogleNews-vectors-negative300.bin'"
   ]
  },
  {
   "cell_type": "code",
   "execution_count": 17,
   "id": "57a687a8",
   "metadata": {},
   "outputs": [
    {
     "name": "stdout",
     "output_type": "stream",
     "text": [
      "CPU times: user 23.4 s, sys: 1.59 s, total: 25 s\n",
      "Wall time: 26.5 s\n",
      "done loading Word2Vec\n"
     ]
    }
   ],
   "source": [
    "from gensim.models.keyedvectors import KeyedVectors\n",
    "%time w2v_model = KeyedVectors.load_word2vec_format(path_to_model, binary=True)\n",
    "print('done loading Word2Vec')"
   ]
  },
  {
   "cell_type": "code",
   "execution_count": 18,
   "id": "e9770c1f",
   "metadata": {},
   "outputs": [],
   "source": [
    "#Inspect the model\n",
    "word2vec_vocab = list(w2v_model.index_to_key)"
   ]
  },
  {
   "cell_type": "code",
   "execution_count": 19,
   "id": "5e7b6149",
   "metadata": {},
   "outputs": [],
   "source": [
    "word2vec_vocab_lower = [item.lower() for item in word2vec_vocab]"
   ]
  },
  {
   "cell_type": "code",
   "execution_count": 20,
   "id": "51d9c5d7",
   "metadata": {},
   "outputs": [
    {
     "name": "stdout",
     "output_type": "stream",
     "text": [
      "30616\n"
     ]
    }
   ],
   "source": [
    "# Creating a feature vector by averaging all embeddings for all sentences\n",
    "def embedding_feats(list_of_lists):\n",
    "    DIMENSION = 300\n",
    "    zero_vector = np.zeros(DIMENSION)\n",
    "    feats = []\n",
    "    for tokens in list_of_lists:\n",
    "        feat_for_this =  np.zeros(DIMENSION)\n",
    "        count_for_this = 0 + 1e-5 # to avoid divide-by-zero \n",
    "        for token in tokens:\n",
    "            if token in w2v_model:\n",
    "                feat_for_this += w2v_model[token]\n",
    "                count_for_this +=1\n",
    "        if(count_for_this!=0):\n",
    "            feats.append(feat_for_this/count_for_this) \n",
    "        else:\n",
    "            feats.append(zero_vector)\n",
    "    return feats\n",
    "\n",
    "\n",
    "train_vectors = embedding_feats(X_train)\n",
    "print(len(train_vectors))"
   ]
  },
  {
   "cell_type": "code",
   "execution_count": 21,
   "id": "d0b724b5",
   "metadata": {},
   "outputs": [
    {
     "name": "stdout",
     "output_type": "stream",
     "text": [
      "7654\n"
     ]
    }
   ],
   "source": [
    "test_vectors = embedding_feats(X_test)\n",
    "print(len(test_vectors))\n"
   ]
  },
  {
   "cell_type": "markdown",
   "id": "b541d0bf",
   "metadata": {},
   "source": [
    "### RandomForest"
   ]
  },
  {
   "cell_type": "code",
   "execution_count": 24,
   "id": "5bc97f79",
   "metadata": {},
   "outputs": [],
   "source": [
    "rf = RandomForestClassifier(random_state=0)\n",
    "rf_model = rf.fit(train_vectors, y_train.values.ravel())"
   ]
  },
  {
   "cell_type": "code",
   "execution_count": 25,
   "id": "c98fd636",
   "metadata": {},
   "outputs": [
    {
     "name": "stdout",
     "output_type": "stream",
     "text": [
      "Accuracy score : 0.9314084139012281\n",
      "Confusion matrix : \n",
      " [[3986  178]\n",
      " [ 347 3143]]\n",
      "Classification Report\n",
      "              precision    recall  f1-score   support\n",
      "\n",
      "           0       0.92      0.96      0.94      4164\n",
      "           1       0.95      0.90      0.92      3490\n",
      "\n",
      "    accuracy                           0.93      7654\n",
      "   macro avg       0.93      0.93      0.93      7654\n",
      "weighted avg       0.93      0.93      0.93      7654\n",
      "\n",
      "Precision : 0.9464016862390846\n",
      "Recall : 0.9005730659025788\n"
     ]
    }
   ],
   "source": [
    "# Use the trained model to make predictions on the test data\n",
    "y_pred = rf_model.predict(test_vectors)\n",
    "print(\"Accuracy score : {}\".format(accuracy_score(y_test, y_pred)))\n",
    "print(\"Confusion matrix : \\n {}\".format(confusion_matrix(y_test, y_pred)))\n",
    "print(\"Classification Report\")\n",
    "print(classification_report(y_test, y_pred))\n",
    "\n",
    "precision = precision_score(y_test, y_pred)\n",
    "print(\"Precision : {}\".format(precision))\n",
    "recall = recall_score(y_test, y_pred)\n",
    "print(\"Recall : {}\".format(recall))"
   ]
  },
  {
   "cell_type": "code",
   "execution_count": null,
   "id": "d42026df",
   "metadata": {},
   "outputs": [],
   "source": []
  },
  {
   "cell_type": "markdown",
   "id": "1457e97d",
   "metadata": {},
   "source": [
    "### Support Vector Machine"
   ]
  },
  {
   "cell_type": "code",
   "execution_count": 40,
   "id": "ae0716c4",
   "metadata": {},
   "outputs": [],
   "source": [
    "svm_clf=SVC(random_state=0,probability=True)"
   ]
  },
  {
   "cell_type": "code",
   "execution_count": 41,
   "id": "dd368ef9",
   "metadata": {},
   "outputs": [
    {
     "name": "stdout",
     "output_type": "stream",
     "text": [
      "Accuracy score : 0.9659001829108963\n",
      "Confusion matrix : \n",
      " [[4059  105]\n",
      " [ 156 3334]]\n",
      "Classification Report\n",
      "              precision    recall  f1-score   support\n",
      "\n",
      "           0       0.96      0.97      0.97      4164\n",
      "           1       0.97      0.96      0.96      3490\n",
      "\n",
      "    accuracy                           0.97      7654\n",
      "   macro avg       0.97      0.97      0.97      7654\n",
      "weighted avg       0.97      0.97      0.97      7654\n",
      "\n"
     ]
    }
   ],
   "source": [
    "svm_clf.fit(train_vectors,y_train)\n",
    "\n",
    "pred = svm_clf.predict(test_vectors)\n",
    "print(\"Accuracy score : {}\".format(accuracy_score(y_test, pred)))\n",
    "print(\"Confusion matrix : \\n {}\".format(confusion_matrix(y_test, pred)))\n",
    "print(\"Classification Report\")\n",
    "print(classification_report(y_test, pred))"
   ]
  },
  {
   "cell_type": "markdown",
   "id": "12664f9b",
   "metadata": {},
   "source": [
    "## KNN"
   ]
  },
  {
   "cell_type": "code",
   "execution_count": 28,
   "id": "33653bfc",
   "metadata": {},
   "outputs": [],
   "source": [
    "#Create KNN Object.\n",
    "knn_clf = KNeighborsClassifier()"
   ]
  },
  {
   "cell_type": "code",
   "execution_count": 29,
   "id": "8ab8f50c",
   "metadata": {},
   "outputs": [
    {
     "name": "stdout",
     "output_type": "stream",
     "text": [
      "Accuracy score : 0.9344133786255553\n",
      "Confusion matrix : \n",
      " [[4036  128]\n",
      " [ 374 3116]]\n",
      "Classification Report\n",
      "              precision    recall  f1-score   support\n",
      "\n",
      "           0       0.92      0.97      0.94      4164\n",
      "           1       0.96      0.89      0.93      3490\n",
      "\n",
      "    accuracy                           0.93      7654\n",
      "   macro avg       0.94      0.93      0.93      7654\n",
      "weighted avg       0.94      0.93      0.93      7654\n",
      "\n"
     ]
    }
   ],
   "source": [
    "knn_clf.fit(train_vectors,y_train)\n",
    "\n",
    "pred = knn_clf.predict(test_vectors)\n",
    "print(\"Accuracy score : {}\".format(accuracy_score(y_test, pred)))\n",
    "print(\"Confusion matrix : \\n {}\".format(confusion_matrix(y_test, pred)))\n",
    "print(\"Classification Report\")\n",
    "print(classification_report(y_test, pred))"
   ]
  },
  {
   "cell_type": "markdown",
   "id": "1f878c31",
   "metadata": {},
   "source": [
    "### Xgboost"
   ]
  },
  {
   "cell_type": "code",
   "execution_count": 30,
   "id": "7ac17299",
   "metadata": {},
   "outputs": [
    {
     "name": "stdout",
     "output_type": "stream",
     "text": [
      "Accuracy score : 0.9594983015416776\n",
      "Confusion matrix : \n",
      " [[4049  115]\n",
      " [ 195 3295]]\n",
      "Classification Report\n",
      "              precision    recall  f1-score   support\n",
      "\n",
      "           0       0.95      0.97      0.96      4164\n",
      "           1       0.97      0.94      0.96      3490\n",
      "\n",
      "    accuracy                           0.96      7654\n",
      "   macro avg       0.96      0.96      0.96      7654\n",
      "weighted avg       0.96      0.96      0.96      7654\n",
      "\n"
     ]
    }
   ],
   "source": [
    "#Create KNN Object.\n",
    "xg_clf=XGBClassifier(random_state=0)\n",
    "\n",
    "xg_clf.fit(train_vectors,y_train)\n",
    "\n",
    "pred = xg_clf.predict(test_vectors)\n",
    "print(\"Accuracy score : {}\".format(accuracy_score(y_test, pred)))\n",
    "print(\"Confusion matrix : \\n {}\".format(confusion_matrix(y_test, pred)))\n",
    "print(\"Classification Report\")\n",
    "print(classification_report(y_test, pred))\n"
   ]
  },
  {
   "cell_type": "markdown",
   "id": "3927128d",
   "metadata": {},
   "source": [
    "### Naiva Bayes"
   ]
  },
  {
   "cell_type": "code",
   "execution_count": 31,
   "id": "a3cb40fa",
   "metadata": {},
   "outputs": [
    {
     "name": "stdout",
     "output_type": "stream",
     "text": [
      "Accuracy score : 0.886464593676509\n",
      "Confusion matrix : \n",
      " [[3745  419]\n",
      " [ 450 3040]]\n",
      "Classification Report\n",
      "              precision    recall  f1-score   support\n",
      "\n",
      "           0       0.89      0.90      0.90      4164\n",
      "           1       0.88      0.87      0.87      3490\n",
      "\n",
      "    accuracy                           0.89      7654\n",
      "   macro avg       0.89      0.89      0.89      7654\n",
      "weighted avg       0.89      0.89      0.89      7654\n",
      "\n"
     ]
    }
   ],
   "source": [
    "from sklearn.preprocessing import MinMaxScaler\n",
    "from sklearn.naive_bayes import GaussianNB\n",
    "nb_clf=GaussianNB()\n",
    "#p = Pipeline([('Normalizing',MinMaxScaler()),('MultinomialNB',MultinomialNB())])\n",
    "nb_clf.fit(train_vectors,y_train) \n",
    "\n",
    "pred = nb_clf.predict(test_vectors)\n",
    "print(\"Accuracy score : {}\".format(accuracy_score(y_test, pred)))\n",
    "print(\"Confusion matrix : \\n {}\".format(confusion_matrix(y_test, pred)))\n",
    "print(\"Classification Report\")\n",
    "print(classification_report(y_test, pred))"
   ]
  },
  {
   "cell_type": "markdown",
   "id": "134d989f",
   "metadata": {},
   "source": [
    "### Logistic Regression"
   ]
  },
  {
   "cell_type": "code",
   "execution_count": 32,
   "id": "1ad9f939",
   "metadata": {},
   "outputs": [],
   "source": [
    "from sklearn.linear_model import LogisticRegression"
   ]
  },
  {
   "cell_type": "code",
   "execution_count": 33,
   "id": "1f69ee08",
   "metadata": {},
   "outputs": [
    {
     "name": "stdout",
     "output_type": "stream",
     "text": [
      "Accuracy score : 0.9499608048079435\n",
      "Confusion matrix : \n",
      " [[4000  164]\n",
      " [ 219 3271]]\n",
      "Classification Report\n",
      "              precision    recall  f1-score   support\n",
      "\n",
      "           0       0.95      0.96      0.95      4164\n",
      "           1       0.95      0.94      0.94      3490\n",
      "\n",
      "    accuracy                           0.95      7654\n",
      "   macro avg       0.95      0.95      0.95      7654\n",
      "weighted avg       0.95      0.95      0.95      7654\n",
      "\n"
     ]
    }
   ],
   "source": [
    "logticreg_clf=LogisticRegression()\n",
    "\n",
    "logticreg_clf.fit(train_vectors,y_train)\n",
    "\n",
    "pred = logticreg_clf.predict(test_vectors)\n",
    "print(\"Accuracy score : {}\".format(accuracy_score(y_test, pred)))\n",
    "print(\"Confusion matrix : \\n {}\".format(confusion_matrix(y_test, pred)))\n",
    "print(\"Classification Report\")\n",
    "print(classification_report(y_test, pred))"
   ]
  },
  {
   "cell_type": "markdown",
   "id": "90e59b33",
   "metadata": {},
   "source": [
    "### Consolidating all classifiers accuracy scores"
   ]
  },
  {
   "cell_type": "code",
   "execution_count": 42,
   "id": "02d00501",
   "metadata": {},
   "outputs": [],
   "source": [
    "classifiers = [('Logistic Regression',logticreg_clf),('Naive Bayes',nb_clf),('Xgboost',xg_clf),\n",
    "              ('KNN',knn_clf),('Random Forest',rf_model),(\"SVM\",svm_clf)]"
   ]
  },
  {
   "cell_type": "code",
   "execution_count": 43,
   "id": "274b8851",
   "metadata": {},
   "outputs": [
    {
     "data": {
      "text/html": [
       "<div>\n",
       "<style scoped>\n",
       "    .dataframe tbody tr th:only-of-type {\n",
       "        vertical-align: middle;\n",
       "    }\n",
       "\n",
       "    .dataframe tbody tr th {\n",
       "        vertical-align: top;\n",
       "    }\n",
       "\n",
       "    .dataframe thead th {\n",
       "        text-align: right;\n",
       "    }\n",
       "</style>\n",
       "<table border=\"1\" class=\"dataframe\">\n",
       "  <thead>\n",
       "    <tr style=\"text-align: right;\">\n",
       "      <th></th>\n",
       "      <th>Accuracy</th>\n",
       "      <th>Precision</th>\n",
       "      <th>Recall</th>\n",
       "      <th>F1 Score</th>\n",
       "      <th>roc_auc_score</th>\n",
       "    </tr>\n",
       "  </thead>\n",
       "  <tbody>\n",
       "    <tr>\n",
       "      <th>SVM</th>\n",
       "      <td>0.965900</td>\n",
       "      <td>0.97</td>\n",
       "      <td>0.955301</td>\n",
       "      <td>0.96</td>\n",
       "      <td>0.994732</td>\n",
       "    </tr>\n",
       "    <tr>\n",
       "      <th>Xgboost</th>\n",
       "      <td>0.959498</td>\n",
       "      <td>0.96</td>\n",
       "      <td>0.944126</td>\n",
       "      <td>0.96</td>\n",
       "      <td>0.993060</td>\n",
       "    </tr>\n",
       "    <tr>\n",
       "      <th>Logistic Regression</th>\n",
       "      <td>0.949961</td>\n",
       "      <td>0.95</td>\n",
       "      <td>0.937249</td>\n",
       "      <td>0.94</td>\n",
       "      <td>0.989200</td>\n",
       "    </tr>\n",
       "    <tr>\n",
       "      <th>KNN</th>\n",
       "      <td>0.934413</td>\n",
       "      <td>0.94</td>\n",
       "      <td>0.892837</td>\n",
       "      <td>0.93</td>\n",
       "      <td>0.976047</td>\n",
       "    </tr>\n",
       "    <tr>\n",
       "      <th>Random Forest</th>\n",
       "      <td>0.931408</td>\n",
       "      <td>0.93</td>\n",
       "      <td>0.900573</td>\n",
       "      <td>0.92</td>\n",
       "      <td>0.980619</td>\n",
       "    </tr>\n",
       "    <tr>\n",
       "      <th>Naive Bayes</th>\n",
       "      <td>0.886465</td>\n",
       "      <td>0.89</td>\n",
       "      <td>0.871060</td>\n",
       "      <td>0.87</td>\n",
       "      <td>0.944141</td>\n",
       "    </tr>\n",
       "  </tbody>\n",
       "</table>\n",
       "</div>"
      ],
      "text/plain": [
       "                     Accuracy  Precision    Recall  F1 Score  roc_auc_score\n",
       "SVM                  0.965900       0.97  0.955301      0.96       0.994732\n",
       "Xgboost              0.959498       0.96  0.944126      0.96       0.993060\n",
       "Logistic Regression  0.949961       0.95  0.937249      0.94       0.989200\n",
       "KNN                  0.934413       0.94  0.892837      0.93       0.976047\n",
       "Random Forest        0.931408       0.93  0.900573      0.92       0.980619\n",
       "Naive Bayes          0.886465       0.89  0.871060      0.87       0.944141"
      ]
     },
     "execution_count": 43,
     "metadata": {},
     "output_type": "execute_result"
    }
   ],
   "source": [
    "df_model_scores=model_comparison_table(test_vectors,y_test,classifiers)\n",
    "df_model_scores.head(20).T.sort_values(by='Accuracy', ascending=False)"
   ]
  },
  {
   "cell_type": "code",
   "execution_count": null,
   "id": "066c4d73",
   "metadata": {},
   "outputs": [],
   "source": []
  },
  {
   "cell_type": "code",
   "execution_count": null,
   "id": "fb0b2fdb",
   "metadata": {},
   "outputs": [],
   "source": []
  },
  {
   "cell_type": "code",
   "execution_count": null,
   "id": "72b56390",
   "metadata": {},
   "outputs": [],
   "source": []
  },
  {
   "cell_type": "markdown",
   "id": "07621823",
   "metadata": {},
   "source": [
    "## Pretrained Glove"
   ]
  },
  {
   "cell_type": "markdown",
   "id": "5c1c5648",
   "metadata": {},
   "source": [
    "#### Download the zip file"
   ]
  },
  {
   "cell_type": "code",
   "execution_count": null,
   "id": "0dcf1333",
   "metadata": {},
   "outputs": [],
   "source": [
    "# !wget http://nlp.stanford.edu/data/glove.6B.zip"
   ]
  },
  {
   "cell_type": "markdown",
   "id": "b2187d4d",
   "metadata": {},
   "source": [
    "#### Unzip it"
   ]
  },
  {
   "cell_type": "code",
   "execution_count": null,
   "id": "2537938a",
   "metadata": {},
   "outputs": [],
   "source": [
    "# !unzip glove*.zip"
   ]
  },
  {
   "cell_type": "code",
   "execution_count": 45,
   "id": "73942e7b",
   "metadata": {},
   "outputs": [],
   "source": [
    "from gensim.models import KeyedVectors\n",
    "from gensim.scripts.glove2word2vec import glove2word2vec"
   ]
  },
  {
   "cell_type": "code",
   "execution_count": 46,
   "id": "bf0281e3",
   "metadata": {},
   "outputs": [
    {
     "data": {
      "text/plain": [
       "(400000, 300)"
      ]
     },
     "execution_count": 46,
     "metadata": {},
     "output_type": "execute_result"
    }
   ],
   "source": [
    "# Load 300 dimension Glove pretrained model \"glove.6B.300d.txt\" and convert to word2vec format\",\n",
    "path_to_model = '//gpfs//home//psc21zcu//FakeNews_Detection/Dissertation_Work//Embeddings//glove.6B.300d.txt'\n",
    "output_file = '//gpfs//home//psc21zcu//FakeNews_Detection/Dissertation_Work//Embeddings///gensim_glove.6B.300d.txt'\n",
    "glove2word2vec(path_to_model, output_file)"
   ]
  },
  {
   "cell_type": "code",
   "execution_count": 47,
   "id": "552fdef2",
   "metadata": {},
   "outputs": [
    {
     "data": {
      "text/plain": [
       "'//gpfs//home//psc21zcu//FakeNews_Detection/Dissertation_Work//Embeddings//glove.6B.300d.txt'"
      ]
     },
     "execution_count": 47,
     "metadata": {},
     "output_type": "execute_result"
    }
   ],
   "source": [
    "path_to_model"
   ]
  },
  {
   "cell_type": "code",
   "execution_count": 48,
   "id": "d98342a8",
   "metadata": {},
   "outputs": [
    {
     "name": "stdout",
     "output_type": "stream",
     "text": [
      "CPU times: user 54.8 s, sys: 846 ms, total: 55.6 s\n",
      "Wall time: 55.9 s\n",
      "done loading Glove Pretrained Embedding\n"
     ]
    }
   ],
   "source": [
    "%time glove_model = KeyedVectors.load_word2vec_format(output_file, binary=False)\n",
    "print('done loading Glove Pretrained Embedding')"
   ]
  },
  {
   "cell_type": "code",
   "execution_count": 49,
   "id": "4d227468",
   "metadata": {},
   "outputs": [
    {
     "name": "stdout",
     "output_type": "stream",
     "text": [
      "30616\n"
     ]
    }
   ],
   "source": [
    "# https://colab.research.google.com/github/practical-nlp/practical-nlp/blob/master/Ch4/03_Word2Vec_Example.ipynb#scrollTo=m-WjFyC6b_IE\n",
    "\n",
    "# Creating a feature vector by averaging all embeddings for all sentences\n",
    "def glove_embedding_feats(list_of_lists):\n",
    "    DIMENSION = 300\n",
    "    zero_vector = np.zeros(DIMENSION)\n",
    "    feats = []\n",
    "    for tokens in list_of_lists:\n",
    "        feat_for_this =  np.zeros(DIMENSION)\n",
    "        count_for_this = 0 + 1e-5 # to avoid divide-by-zero \n",
    "        for token in tokens:\n",
    "            if token in glove_model:\n",
    "                feat_for_this += glove_model[token]\n",
    "                count_for_this +=1\n",
    "        if(count_for_this!=0):\n",
    "            feats.append(feat_for_this/count_for_this) \n",
    "        else:\n",
    "            feats.append(zero_vector)\n",
    "    return feats\n",
    "\n",
    "\n",
    "glove_train_vectors = glove_embedding_feats(X_train)\n",
    "print(len(glove_train_vectors))"
   ]
  },
  {
   "cell_type": "code",
   "execution_count": 50,
   "id": "e71a656e",
   "metadata": {},
   "outputs": [
    {
     "name": "stdout",
     "output_type": "stream",
     "text": [
      "7654\n"
     ]
    }
   ],
   "source": [
    "glove_test_vectors = glove_embedding_feats(X_test)\n",
    "print(len(glove_test_vectors))"
   ]
  },
  {
   "cell_type": "markdown",
   "id": "8c978c7d",
   "metadata": {},
   "source": [
    "### RandomForest"
   ]
  },
  {
   "cell_type": "code",
   "execution_count": 53,
   "id": "a1f4cc0a",
   "metadata": {},
   "outputs": [],
   "source": [
    "rf = RandomForestClassifier(random_state=0)\n",
    "rf_clf_g = rf.fit(glove_train_vectors, y_train.values.ravel())"
   ]
  },
  {
   "cell_type": "code",
   "execution_count": 54,
   "id": "bba6fd6e",
   "metadata": {},
   "outputs": [
    {
     "name": "stdout",
     "output_type": "stream",
     "text": [
      "Accuracy score : 0.932322968382545\n",
      "Confusion matrix : \n",
      " [[3979  185]\n",
      " [ 333 3157]]\n",
      "Classification Report\n",
      "              precision    recall  f1-score   support\n",
      "\n",
      "           0       0.92      0.96      0.94      4164\n",
      "           1       0.94      0.90      0.92      3490\n",
      "\n",
      "    accuracy                           0.93      7654\n",
      "   macro avg       0.93      0.93      0.93      7654\n",
      "weighted avg       0.93      0.93      0.93      7654\n",
      "\n",
      "Precision : 0.9446439257929383\n",
      "Recall : 0.9045845272206303\n"
     ]
    }
   ],
   "source": [
    "# Use the trained model to make predictions on the test data\n",
    "y_pred = rf_clf_g.predict(glove_test_vectors)\n",
    "print(\"Accuracy score : {}\".format(accuracy_score(y_test, y_pred)))\n",
    "print(\"Confusion matrix : \\n {}\".format(confusion_matrix(y_test, y_pred)))\n",
    "print(\"Classification Report\")\n",
    "print(classification_report(y_test, y_pred))\n",
    "\n",
    "precision = precision_score(y_test, y_pred)\n",
    "print(\"Precision : {}\".format(precision))\n",
    "recall = recall_score(y_test, y_pred)\n",
    "print(\"Recall : {}\".format(recall))"
   ]
  },
  {
   "cell_type": "code",
   "execution_count": null,
   "id": "f8ac2735",
   "metadata": {},
   "outputs": [],
   "source": []
  },
  {
   "cell_type": "markdown",
   "id": "3595a476",
   "metadata": {},
   "source": [
    "### Support Vector Machine"
   ]
  },
  {
   "cell_type": "code",
   "execution_count": 55,
   "id": "18ab4759",
   "metadata": {},
   "outputs": [],
   "source": [
    "svm_clf_g=SVC(random_state=0,probability=True)"
   ]
  },
  {
   "cell_type": "code",
   "execution_count": 56,
   "id": "801ed38c",
   "metadata": {},
   "outputs": [
    {
     "name": "stdout",
     "output_type": "stream",
     "text": [
      "Accuracy score : 0.959890253462242\n",
      "Confusion matrix : \n",
      " [[4017  147]\n",
      " [ 160 3330]]\n",
      "Classification Report\n",
      "              precision    recall  f1-score   support\n",
      "\n",
      "           0       0.96      0.96      0.96      4164\n",
      "           1       0.96      0.95      0.96      3490\n",
      "\n",
      "    accuracy                           0.96      7654\n",
      "   macro avg       0.96      0.96      0.96      7654\n",
      "weighted avg       0.96      0.96      0.96      7654\n",
      "\n"
     ]
    }
   ],
   "source": [
    "svm_clf_g.fit(glove_train_vectors,y_train)\n",
    "\n",
    "pred = svm_clf_g.predict(glove_test_vectors)\n",
    "print(\"Accuracy score : {}\".format(accuracy_score(y_test, pred)))\n",
    "print(\"Confusion matrix : \\n {}\".format(confusion_matrix(y_test, pred)))\n",
    "print(\"Classification Report\")\n",
    "print(classification_report(y_test, pred))"
   ]
  },
  {
   "cell_type": "markdown",
   "id": "db24b633",
   "metadata": {},
   "source": [
    "## KNN"
   ]
  },
  {
   "cell_type": "code",
   "execution_count": 58,
   "id": "f9cd940b",
   "metadata": {},
   "outputs": [],
   "source": [
    "#Create KNN Object.\n",
    "knn_clf_g = KNeighborsClassifier()"
   ]
  },
  {
   "cell_type": "code",
   "execution_count": 59,
   "id": "9bbc39b8",
   "metadata": {},
   "outputs": [
    {
     "name": "stdout",
     "output_type": "stream",
     "text": [
      "Accuracy score : 0.9358505356676248\n",
      "Confusion matrix : \n",
      " [[4021  143]\n",
      " [ 348 3142]]\n",
      "Classification Report\n",
      "              precision    recall  f1-score   support\n",
      "\n",
      "           0       0.92      0.97      0.94      4164\n",
      "           1       0.96      0.90      0.93      3490\n",
      "\n",
      "    accuracy                           0.94      7654\n",
      "   macro avg       0.94      0.93      0.93      7654\n",
      "weighted avg       0.94      0.94      0.94      7654\n",
      "\n"
     ]
    }
   ],
   "source": [
    "knn_clf_g.fit(glove_train_vectors,y_train)\n",
    "\n",
    "pred = knn_clf_g.predict(glove_test_vectors)\n",
    "print(\"Accuracy score : {}\".format(accuracy_score(y_test, pred)))\n",
    "print(\"Confusion matrix : \\n {}\".format(confusion_matrix(y_test, pred)))\n",
    "print(\"Classification Report\")\n",
    "print(classification_report(y_test, pred))"
   ]
  },
  {
   "cell_type": "markdown",
   "id": "23fe63e1",
   "metadata": {},
   "source": [
    "### Xgboost"
   ]
  },
  {
   "cell_type": "code",
   "execution_count": 60,
   "id": "bf453fc3",
   "metadata": {},
   "outputs": [
    {
     "name": "stdout",
     "output_type": "stream",
     "text": [
      "Accuracy score : 0.9602822053828064\n",
      "Confusion matrix : \n",
      " [[4027  137]\n",
      " [ 167 3323]]\n",
      "Classification Report\n",
      "              precision    recall  f1-score   support\n",
      "\n",
      "           0       0.96      0.97      0.96      4164\n",
      "           1       0.96      0.95      0.96      3490\n",
      "\n",
      "    accuracy                           0.96      7654\n",
      "   macro avg       0.96      0.96      0.96      7654\n",
      "weighted avg       0.96      0.96      0.96      7654\n",
      "\n"
     ]
    }
   ],
   "source": [
    "#Create KNN Object.\n",
    "xg_clf_g=XGBClassifier(random_state=0)\n",
    "\n",
    "xg_clf_g.fit(glove_train_vectors,y_train)\n",
    "\n",
    "pred = xg_clf_g.predict(glove_test_vectors)\n",
    "print(\"Accuracy score : {}\".format(accuracy_score(y_test, pred)))\n",
    "print(\"Confusion matrix : \\n {}\".format(confusion_matrix(y_test, pred)))\n",
    "print(\"Classification Report\")\n",
    "print(classification_report(y_test, pred))\n"
   ]
  },
  {
   "cell_type": "markdown",
   "id": "4697b144",
   "metadata": {},
   "source": [
    "### Naiva Bayes"
   ]
  },
  {
   "cell_type": "code",
   "execution_count": 61,
   "id": "9bbbc428",
   "metadata": {},
   "outputs": [
    {
     "name": "stdout",
     "output_type": "stream",
     "text": [
      "Accuracy score : 0.8808466161484191\n",
      "Confusion matrix : \n",
      " [[3670  494]\n",
      " [ 418 3072]]\n",
      "Classification Report\n",
      "              precision    recall  f1-score   support\n",
      "\n",
      "           0       0.90      0.88      0.89      4164\n",
      "           1       0.86      0.88      0.87      3490\n",
      "\n",
      "    accuracy                           0.88      7654\n",
      "   macro avg       0.88      0.88      0.88      7654\n",
      "weighted avg       0.88      0.88      0.88      7654\n",
      "\n"
     ]
    }
   ],
   "source": [
    "from sklearn.preprocessing import MinMaxScaler\n",
    "from sklearn.naive_bayes import GaussianNB\n",
    "nb_clf_g=GaussianNB()\n",
    "\n",
    "nb_clf_g.fit(glove_train_vectors,y_train) \n",
    "\n",
    "pred = nb_clf_g.predict(glove_test_vectors)\n",
    "print(\"Accuracy score : {}\".format(accuracy_score(y_test, pred)))\n",
    "print(\"Confusion matrix : \\n {}\".format(confusion_matrix(y_test, pred)))\n",
    "print(\"Classification Report\")\n",
    "print(classification_report(y_test, pred))"
   ]
  },
  {
   "cell_type": "markdown",
   "id": "07a06350",
   "metadata": {},
   "source": [
    "### Logistic Regression"
   ]
  },
  {
   "cell_type": "code",
   "execution_count": 62,
   "id": "9938e179",
   "metadata": {},
   "outputs": [],
   "source": [
    "from sklearn.linear_model import LogisticRegression"
   ]
  },
  {
   "cell_type": "code",
   "execution_count": 63,
   "id": "dd9d95af",
   "metadata": {},
   "outputs": [
    {
     "name": "stdout",
     "output_type": "stream",
     "text": [
      "Accuracy score : 0.9584530964201725\n",
      "Confusion matrix : \n",
      " [[4011  153]\n",
      " [ 165 3325]]\n",
      "Classification Report\n",
      "              precision    recall  f1-score   support\n",
      "\n",
      "           0       0.96      0.96      0.96      4164\n",
      "           1       0.96      0.95      0.95      3490\n",
      "\n",
      "    accuracy                           0.96      7654\n",
      "   macro avg       0.96      0.96      0.96      7654\n",
      "weighted avg       0.96      0.96      0.96      7654\n",
      "\n"
     ]
    }
   ],
   "source": [
    "logticreg_clf_g=LogisticRegression()\n",
    "\n",
    "logticreg_clf_g.fit(glove_train_vectors,y_train)\n",
    "\n",
    "pred = logticreg_clf_g.predict(glove_test_vectors)\n",
    "print(\"Accuracy score : {}\".format(accuracy_score(y_test, pred)))\n",
    "print(\"Confusion matrix : \\n {}\".format(confusion_matrix(y_test, pred)))\n",
    "print(\"Classification Report\")\n",
    "print(classification_report(y_test, pred))"
   ]
  },
  {
   "cell_type": "code",
   "execution_count": null,
   "id": "e80c874d",
   "metadata": {},
   "outputs": [],
   "source": []
  },
  {
   "cell_type": "code",
   "execution_count": null,
   "id": "b680f085",
   "metadata": {},
   "outputs": [],
   "source": []
  },
  {
   "cell_type": "markdown",
   "id": "72c86d3d",
   "metadata": {},
   "source": [
    "### Consolidating all classifiers accuracy scores"
   ]
  },
  {
   "cell_type": "code",
   "execution_count": 64,
   "id": "4dcb9a32",
   "metadata": {},
   "outputs": [],
   "source": [
    "classifiers = [('Logistic Regression',logticreg_clf_g),('Naive Bayes',nb_clf_g),('Xgboost',xg_clf_g),\n",
    "              ('KNN',knn_clf_g),('Random Forest',rf_clf_g),(\"SVM\",svm_clf_g)]"
   ]
  },
  {
   "cell_type": "code",
   "execution_count": 65,
   "id": "44c843bd",
   "metadata": {},
   "outputs": [
    {
     "data": {
      "text/html": [
       "<div>\n",
       "<style scoped>\n",
       "    .dataframe tbody tr th:only-of-type {\n",
       "        vertical-align: middle;\n",
       "    }\n",
       "\n",
       "    .dataframe tbody tr th {\n",
       "        vertical-align: top;\n",
       "    }\n",
       "\n",
       "    .dataframe thead th {\n",
       "        text-align: right;\n",
       "    }\n",
       "</style>\n",
       "<table border=\"1\" class=\"dataframe\">\n",
       "  <thead>\n",
       "    <tr style=\"text-align: right;\">\n",
       "      <th></th>\n",
       "      <th>Accuracy</th>\n",
       "      <th>Precision</th>\n",
       "      <th>Recall</th>\n",
       "      <th>F1 Score</th>\n",
       "      <th>roc_auc_score</th>\n",
       "    </tr>\n",
       "  </thead>\n",
       "  <tbody>\n",
       "    <tr>\n",
       "      <th>Xgboost</th>\n",
       "      <td>0.960282</td>\n",
       "      <td>0.96</td>\n",
       "      <td>0.952149</td>\n",
       "      <td>0.96</td>\n",
       "      <td>0.992769</td>\n",
       "    </tr>\n",
       "    <tr>\n",
       "      <th>SVM</th>\n",
       "      <td>0.959890</td>\n",
       "      <td>0.96</td>\n",
       "      <td>0.954155</td>\n",
       "      <td>0.96</td>\n",
       "      <td>0.991847</td>\n",
       "    </tr>\n",
       "    <tr>\n",
       "      <th>Logistic Regression</th>\n",
       "      <td>0.958453</td>\n",
       "      <td>0.96</td>\n",
       "      <td>0.952722</td>\n",
       "      <td>0.95</td>\n",
       "      <td>0.991594</td>\n",
       "    </tr>\n",
       "    <tr>\n",
       "      <th>KNN</th>\n",
       "      <td>0.935851</td>\n",
       "      <td>0.94</td>\n",
       "      <td>0.900287</td>\n",
       "      <td>0.93</td>\n",
       "      <td>0.975219</td>\n",
       "    </tr>\n",
       "    <tr>\n",
       "      <th>Random Forest</th>\n",
       "      <td>0.932323</td>\n",
       "      <td>0.93</td>\n",
       "      <td>0.904585</td>\n",
       "      <td>0.92</td>\n",
       "      <td>0.981253</td>\n",
       "    </tr>\n",
       "    <tr>\n",
       "      <th>Naive Bayes</th>\n",
       "      <td>0.880847</td>\n",
       "      <td>0.88</td>\n",
       "      <td>0.880229</td>\n",
       "      <td>0.87</td>\n",
       "      <td>0.935085</td>\n",
       "    </tr>\n",
       "  </tbody>\n",
       "</table>\n",
       "</div>"
      ],
      "text/plain": [
       "                     Accuracy  Precision    Recall  F1 Score  roc_auc_score\n",
       "Xgboost              0.960282       0.96  0.952149      0.96       0.992769\n",
       "SVM                  0.959890       0.96  0.954155      0.96       0.991847\n",
       "Logistic Regression  0.958453       0.96  0.952722      0.95       0.991594\n",
       "KNN                  0.935851       0.94  0.900287      0.93       0.975219\n",
       "Random Forest        0.932323       0.93  0.904585      0.92       0.981253\n",
       "Naive Bayes          0.880847       0.88  0.880229      0.87       0.935085"
      ]
     },
     "execution_count": 65,
     "metadata": {},
     "output_type": "execute_result"
    }
   ],
   "source": [
    "df_model_scores=model_comparison_table(glove_test_vectors,y_test,classifiers)\n",
    "df_model_scores.head(20).T.sort_values(by='Accuracy', ascending=False)"
   ]
  },
  {
   "cell_type": "code",
   "execution_count": null,
   "id": "d44dcaaa",
   "metadata": {},
   "outputs": [],
   "source": []
  }
 ],
 "metadata": {
  "kernelspec": {
   "display_name": "Python 3",
   "language": "python",
   "name": "python3"
  },
  "language_info": {
   "codemirror_mode": {
    "name": "ipython",
    "version": 3
   },
   "file_extension": ".py",
   "mimetype": "text/x-python",
   "name": "python",
   "nbconvert_exporter": "python",
   "pygments_lexer": "ipython3",
   "version": "3.7.11"
  }
 },
 "nbformat": 4,
 "nbformat_minor": 5
}
